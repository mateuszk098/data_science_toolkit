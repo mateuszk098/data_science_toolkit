{
 "cells": [
  {
   "attachments": {},
   "cell_type": "markdown",
   "metadata": {},
   "source": [
    "## **EXERCISE 04:**"
   ]
  },
  {
   "attachments": {},
   "cell_type": "markdown",
   "metadata": {},
   "source": [
    "Exercise: _Build a spam classifier (a more challenging exercise):_\n",
    "\n",
    "* _Download examples of spam and ham from [Apache SpamAssassin's public datasets](https://homl.info/spamassassin)._\n",
    "* _Unzip the datasets and familiarize yourself with the data format._\n",
    "* _Split the datasets into a training set and a test set._\n",
    "* _Write a data preparation pipeline to convert each email into a feature vector. Your preparation pipeline should transform an email into a (sparse) vector that indicates the presence or absence of each possible word. For example, if all emails only ever contain four words, \"Hello,\" \"how,\" \"are,\" \"you,\" then the email \"Hello you Hello Hello you\" would be converted into a vector [1, 0, 0, 1] (meaning [“Hello\" is present, \"how\" is absent, \"are\" is absent, \"you\" is present]), or [3, 0, 0, 2] if you prefer to count the number of occurrences of each word._\n",
    "\n",
    "_You may want to add hyperparameters to your preparation pipeline to control whether or not to strip off email headers, convert each email to lowercase, remove punctuation, replace all URLs with \"URL,\" replace all numbers with \"NUMBER,\" or even perform _stemming_ (i.e., trim off word endings; there are Python libraries available to do this)._\n",
    "\n",
    "_Finally, try out several classifiers and see if you can build a great spam classifier, with both high recall and high precision._"
   ]
  },
  {
   "attachments": {},
   "cell_type": "markdown",
   "metadata": {},
   "source": [
    "---"
   ]
  },
  {
   "attachments": {},
   "cell_type": "markdown",
   "metadata": {},
   "source": [
    "### **DOWNLOAD SPAM DATA:**"
   ]
  },
  {
   "cell_type": "code",
   "execution_count": 35,
   "metadata": {},
   "outputs": [],
   "source": [
    "import tarfile\n",
    "from pathlib import Path\n",
    "import urllib.request\n",
    "\n",
    "def fetch_spam_data():\n",
    "    url_root = \"https://spamassassin.apache.org/old/publiccorpus/\"\n",
    "    ham_url = url_root + \"20030228_hard_ham.tar.bz2\"\n",
    "    spam_url = url_root + \"20050311_spam_2.tar.bz2\"\n",
    "\n",
    "    data_path = Path(\"data\")\n",
    "    data_path.mkdir(exist_ok=True)\n",
    "\n",
    "    for dir_name, tar_name, url in ((\"hard_ham\", \"hard_ham\", ham_url), (\"spam_2\", \"spam_2\", spam_url)):\n",
    "        if not (data_path / dir_name).is_dir():\n",
    "            path = (data_path / tar_name).with_suffix(\".tar.bz2\")\n",
    "            print(\"Downloading\", path)\n",
    "            urllib.request.urlretrieve(url, path)\n",
    "            with tarfile.open(path) as tf:\n",
    "                tf.extractall(path=data_path)\n",
    "\n",
    "    return [data_path / dir_name for dir_name in (\"hard_ham\", \"spam_2\")]\n"
   ]
  },
  {
   "cell_type": "code",
   "execution_count": 36,
   "metadata": {},
   "outputs": [],
   "source": [
    "ham_dir, spam_dir = fetch_spam_data()\n",
    "ham_filenames = [f for f in sorted(ham_dir.iterdir()) if len(f.name) > 20]\n",
    "spam_filenames = [f for f in sorted(spam_dir.iterdir()) if len(f.name) > 20]"
   ]
  },
  {
   "attachments": {},
   "cell_type": "markdown",
   "metadata": {},
   "source": [
    "---"
   ]
  },
  {
   "attachments": {},
   "cell_type": "markdown",
   "metadata": {},
   "source": [
    "### **LOOK AT DATASET:**"
   ]
  },
  {
   "cell_type": "code",
   "execution_count": 38,
   "metadata": {},
   "outputs": [
    {
     "data": {
      "text/plain": [
       "250"
      ]
     },
     "execution_count": 38,
     "metadata": {},
     "output_type": "execute_result"
    }
   ],
   "source": [
    "len(ham_filenames)"
   ]
  },
  {
   "cell_type": "code",
   "execution_count": 39,
   "metadata": {},
   "outputs": [
    {
     "data": {
      "text/plain": [
       "1396"
      ]
     },
     "execution_count": 39,
     "metadata": {},
     "output_type": "execute_result"
    }
   ],
   "source": [
    "len(spam_filenames)"
   ]
  },
  {
   "cell_type": "code",
   "execution_count": 40,
   "metadata": {},
   "outputs": [
    {
     "data": {
      "text/plain": [
       "[WindowsPath('data/hard_ham/00001.7c7d6921e671bbe18ebb5f893cd9bb35'),\n",
       " WindowsPath('data/hard_ham/00002.ca96f74042d05c1a1d29ca30467cfcd5'),\n",
       " WindowsPath('data/hard_ham/00003.268fd170a3fc73bee2739d8204856a53'),\n",
       " WindowsPath('data/hard_ham/00004.68819fc91d34c82433074d7bd3127dcc'),\n",
       " WindowsPath('data/hard_ham/00005.34bcaad58ad5f598f5d6af8cfa0c0465'),\n",
       " WindowsPath('data/hard_ham/00006.3409dec8ca4fcf2d6e0582554473b5c9'),\n",
       " WindowsPath('data/hard_ham/00007.d24e99a602ee7fb442714c0d448cd08e'),\n",
       " WindowsPath('data/hard_ham/00008.b42457819236bee543bebffb61b91e44'),\n",
       " WindowsPath('data/hard_ham/00009.ddea79a02a9978cb3dafef3c05ff37a6'),\n",
       " WindowsPath('data/hard_ham/00010.e82bd1f5f7eae426682a7f8e4cbf1ae6')]"
      ]
     },
     "execution_count": 40,
     "metadata": {},
     "output_type": "execute_result"
    }
   ],
   "source": [
    "ham_filenames[:10]"
   ]
  },
  {
   "attachments": {},
   "cell_type": "markdown",
   "metadata": {},
   "source": [
    "---"
   ]
  },
  {
   "attachments": {},
   "cell_type": "markdown",
   "metadata": {},
   "source": [
    "### **PREPROCESSING:**"
   ]
  },
  {
   "attachments": {},
   "cell_type": "markdown",
   "metadata": {},
   "source": [
    "We can use Python's `email` module to parse these emails (this handles headers, encoding, and so on):"
   ]
  },
  {
   "cell_type": "code",
   "execution_count": 41,
   "metadata": {},
   "outputs": [],
   "source": [
    "import email\n",
    "import email.policy\n",
    "\n",
    "def load_email(filepath):\n",
    "    with open(filepath, \"rb\") as f:\n",
    "        return email.parser.BytesParser(policy=email.policy.default).parse(f)"
   ]
  },
  {
   "cell_type": "code",
   "execution_count": 42,
   "metadata": {},
   "outputs": [],
   "source": [
    "ham_emails = [load_email(filepath) for filepath in ham_filenames]\n",
    "spam_emails = [load_email(filepath) for filepath in spam_filenames]"
   ]
  },
  {
   "cell_type": "code",
   "execution_count": 43,
   "metadata": {},
   "outputs": [
    {
     "data": {
      "text/plain": [
       "[<email.message.EmailMessage at 0x28a535671c0>,\n",
       " <email.message.EmailMessage at 0x28a53566da0>,\n",
       " <email.message.EmailMessage at 0x28a53566530>,\n",
       " <email.message.EmailMessage at 0x28a53567070>,\n",
       " <email.message.EmailMessage at 0x28a53565180>,\n",
       " <email.message.EmailMessage at 0x28a53565300>,\n",
       " <email.message.EmailMessage at 0x28a53565030>,\n",
       " <email.message.EmailMessage at 0x28a53567760>,\n",
       " <email.message.EmailMessage at 0x28a535677c0>,\n",
       " <email.message.EmailMessage at 0x28a53566a40>]"
      ]
     },
     "execution_count": 43,
     "metadata": {},
     "output_type": "execute_result"
    }
   ],
   "source": [
    "ham_emails[:10]"
   ]
  },
  {
   "cell_type": "code",
   "execution_count": 44,
   "metadata": {},
   "outputs": [
    {
     "name": "stdout",
     "output_type": "stream",
     "text": [
      "May 7, 2002\n",
      "\n",
      "\n",
      "Dear rod-3ds@arsecandle.org:\n",
      "\n",
      "\n",
      "Congratulations!  On behalf of Frito-Lay, Inc., we are pleased to advise you\n",
      " that you've won Fourth Prize in the 3D's(R) Malcolm in the Middle(TM)\n",
      " Sweepstakes.   Fourth Prize consists of 1 manufacturer's coupon redeemable at\n",
      " participating retailers for 1 free bag of 3D's(R) brand snacks (up to 7 oz.\n",
      " size), with an approximate retail value of $2.59 and an expiration date of\n",
      " 12/31/02.\n",
      "\n",
      "Follow these instructions to claim your prize:\n",
      "\n",
      "1.\tPrint out this email message.\n",
      "\n",
      "2.\tComplete ALL of the information requested.  Print clearly and legibly.  Sign\n",
      " where indicated.\n",
      "\n",
      "3.\tIf you are under 18 or otherwise under the legal age of majority in your\n",
      " state, your parent or legal guardian must co-sign where indicated below.\n",
      "\n",
      "4.\tMail the completed and signed form to:  3D's(R) Malcolm in the Middle(TM)\n",
      " Sweepstakes, Redemption Center, PO Box 1520, Elmhurst IL 60126.  WE MUST\n",
      " RECEIVE THIS FORM NO LATER THAN MAY 28, 2002 IN ORDER TO SEND YOU THE PRIZE.\n",
      "\n",
      "PLEASE DO NOT ATTEMPT TO REPLY TO THIS EMAIL.  THE ONLY WAY TO CLAIM THE PRIZE\n",
      " IS TO FOLLOW THE INSTRUCTIONS ABOVE.  YOUR PRIZE WILL BE MAILED TO YOU WITHIN 6\n",
      " TO 8 WEEKS OF RECEIPT OF THIS FORM.\n",
      "\n",
      "Once again, on behalf of Frito-Lay, Inc., congratulations and thank you for\n",
      " participating in the Game.\n",
      "\n",
      "\t\t\t\t\t\n",
      "Sincerely,\n",
      "\n",
      "\n",
      "Game Security Services\n",
      "\n",
      "\n",
      "\n",
      "\n",
      "\n",
      "\n",
      "\n",
      "\n",
      "\n",
      "\n",
      "PRIZE ACCEPTANCE/RELEASE AND INDEMNIFICATION FORM\n",
      "3D's(R) Malcolm in the Middle(TM) Sweepstakes\n",
      "\n",
      "\n",
      "1.\tMy social security number is:  _______________________________\n",
      "\n",
      "2.\tMy date of birth is:   _______________________________________\n",
      "\n",
      "3.\tMy telephone number is:   __________________________________\n",
      "\n",
      "4.\tMy home address is:   _____________________________________\n",
      "\n",
      "\t\t\t      _____________________________________\n",
      "\n",
      "5.\tMy email address is:   _____________________________________\n",
      "\n",
      "6.\tI am a legal resident of the State of:   _________________________\n",
      "\n",
      "7.\tI am above the legal age of majority in my state of residence or my parent or\n",
      " legal guardian has co-signed below.\n",
      "\n",
      "8.\tI represent that I (1) have fully complied with all of the Official Rules of\n",
      " the Sweepstakes, and (2) have not committed any fraud or deception in\n",
      " participating in the Sweepstakes or in accepting the Prize.\n",
      "\n",
      "9.\tBy accepting the prize, I (and my parent/legal guardian if I am a minor)\n",
      " agree to release Frito-Lay, Inc. (\"Sponsor\"), FOX Broadcasting Company, 20th\n",
      " Century FOX Television, Regency Entertainment, their respective parent,\n",
      " subsidiary or affiliated companies, distributors, printing suppliers for this\n",
      " promotion, advertising, fulfillment, judging or promotion agencies,\n",
      " participating retailers, and all of their respective officers, directors,\n",
      " employees, representatives and agents from any liability for, and to hold them\n",
      " harmless against, any liability for injuries, losses or damages of any kind to\n",
      " persons or property resulting in whole or in part, directly or indirectly, from\n",
      " participation in the sweepstakes or acceptance, possession, misuse or use of\n",
      " any prize. \n",
      "\n",
      "\n",
      "\n",
      "Name [print full name]:\t_______________________________\n",
      "\n",
      "Signature:\t\t_______________________________\n",
      "\n",
      "Date:\t\t\t_______________________________\n",
      "\n",
      "\n",
      "\n",
      "IF WINNER IS A MINOR IN HIS OR HER STATE OF RESIDENCE, WINNER'S PARENT OR LEGAL\n",
      " GUARDIAN MUST COMPLETE THE INFORMATION BELOW: \n",
      "\n",
      "I am the parent or legal guardian of the winner who has signed the foregoing\n",
      " Release. I AGREE TO THE TERMS OF THE RELEASE AND CONSENT TO THE ACCEPTANCE OF\n",
      " THE PRIZE ON THE WINNER'S BEHALF.\n",
      "\n",
      "\n",
      "\n",
      "Parent/Guardian's Name [print full name]:\t_______________________________\n",
      "\n",
      "Parent/Guardian's Signature:\t\t\t_______________________________\n",
      "\n",
      "Date:\t\t\t\t\t\t_______________________________\n",
      "\n",
      "\n",
      "\n",
      "\n",
      "\n",
      "\n",
      "\n",
      "2002 OFFICIAL RULES\n",
      "3D's(R) Malcolm in the Middle(TM) Sweepstakes\n",
      "\n",
      "OPEN ONLY TO LEGAL U.S. RESIDENTS LOCATED IN THE U.S. AT THE TIME OF ENTRY. VOID\n",
      " ELSEWHERE AND WHEREVER PROHIBITED BY LAW, INCLUDING BUT NOT LIMITED TO,\n",
      " FLORIDA, PUERTO RICO, U.S. VIRGIN ISLANDS AND U.S. MILITARY INSTALLATIONS\n",
      " LOCATED IN A FOREIGN COUNTRY.\n",
      "\n",
      "NO PURCHASE NECESSARY. PURCHASE DOES NOT IMPROVE CHANCE OF WINNING. MANY WILL\n",
      " ENTER. FEW WILL WIN. ODDS DEPEND ON NUMBER OF ENTRIES RECEIVED.\n",
      "\n",
      "1. ELIGIBILITY: Open only to legal U.S. residents located in the U.S. at the\n",
      " time of entry, excluding residents of Florida, Puerto Rico, the U.S. Virgin\n",
      " Islands and U.S. military installations located in a foreign country, who had\n",
      " online access on or before 1/26/02. Employees, contractors, directors and\n",
      " officers of Frito-Lay, Inc. (\"Sponsor\"), FOX Broadcasting Company, 20th Century\n",
      " FOX Television, Regency Entertainment, their respective parent, subsidiary and\n",
      " affiliated companies, distributors, printing suppliers for this promotion,\n",
      " advertising, fulfillment, judging and promotion agencies (collectively,\n",
      " \"Promotion Parties\"), and their immediate family members and those living in\n",
      " their same households are not eligible.\n",
      "\n",
      "2. TO ENTER: Beginning 12:00:01 a.m. E.T. 1/27/02, log on to www.3DsFun.com and\n",
      " click on the link on the home page to locate the official entry form. Follow\n",
      " on-screen directions to properly complete an entry form and send it\n",
      " electronically by 11:59:59 p.m. E.T. 2/11/02. In order for entry to be valid,\n",
      " entrants must click on the \"I accept\" button on the web site. All entries must\n",
      " be received no later than 11:59:59 p.m. E.T. on 2/13/02. LIMIT ONE ENTRY PER\n",
      " PERSON AND/OR E-MAIL ADDRESS. SUBSEQUENT ENTRIES WILL BE DISQUALIFIED.\n",
      " Promotion Parties assume no responsibility for lost, late, misdirected, stolen,\n",
      " undelivered, garbled, damaged, or incomplete entries, or for any computer,\n",
      " online, telephone or technical malfunctions that may occur. Promotion Parties\n",
      " also assume no responsibility for any technical problems in connection with\n",
      " transmission or receipt of online entries including faulty electronic data\n",
      " transmission, traffic congestion on the Internet or on the web site, hardware\n",
      " or software error, equipment failure or malfunction, or other online\n",
      " communications problems. In the event of a dispute regarding the identity of\n",
      " the person submitting an online entry, entries will be declared made by the\n",
      " authorized account holder of the e-mail address submitted at the time of entry.\n",
      " \"Authorized account holder\" is defined as the natural person who is assigned to\n",
      " an e-mail address by an Internet Access provider, online service provider, or\n",
      " other organization (e.g., business, educational institution, etc.) responsible\n",
      " for assigning e-mail addresses for the domain associated with the submitted\n",
      " e-mail address. All entries become the property of Sponsor and will not be\n",
      " returned to entrant. Automated entries (including but not limited to entries\n",
      " made using any script, macro, bot, or sweepstakes service) and facsimiles are\n",
      " not allowed. Potential winner may be requested to provide Sponsor with proof\n",
      " that the potential winner is the authorized account holder of the e-mail\n",
      " address associated with the winning entry.\n",
      "\n",
      "3. WINNER SELECTION: Winners will be selected in a random drawing to take place\n",
      " on or about 2/28/02 by an independent judging organization, the judge, whose\n",
      " decisions are final and binding on all matters related to the sweepstakes. Odds\n",
      " of winning depend on the number of eligible entries received. Winners will be\n",
      " notified by e-mail. If any prize or correspondence (including e-mail) regarding\n",
      " any prize is returned as non-deliverable, prize may be forfeited and an\n",
      " alternate winner selected.  Winners (or winner's parent or legal guardian, if\n",
      " winner is a minor) and Grand Prize winner's travel companions (or companion's\n",
      " parent or legal guardian for any companion who is a minor) will be required to\n",
      " complete, sign and return either a Prize Acceptance/Release and Indemnification\n",
      " form or an Affidavit of Eligibility/Liability Release (as directed by Sponsor),\n",
      " and, where lawful, a Publicity Release within twenty-one (21) days of winners'\n",
      " receipt of documents via e-mail or prize may be forfeited. Grand prize winner\n",
      " (or winner's parent or legal guardian, if winner is a minor) and winner's\n",
      " travel companions will also be required to complete, sign and return a set\n",
      " visit release together with completed I-9 and W-4 forms in order to visit the\n",
      " set of Malcolm in the Middle(TM) as described below in paragraph 4. Prizes won\n",
      " by minors will be awarded to a parent or legal guardian who must sign all\n",
      " required documents.\n",
      "\n",
      "4. PRIZES: ONE (1) GRAND PRIZE: One trip for winner and 3 travel companions of\n",
      " winner's choosing to Los Angeles, CA to be completed on or before 12/31/02.\n",
      " Trip is for 4 persons but can include up to 8 persons under the following\n",
      " conditions: Among winner and the 3 selected travel companions, each traveler\n",
      " who is a minor in his/her state of residence must be accompanied by a parent or\n",
      " legal guardian of such minor at all times; Sponsor will provide trip\n",
      " accommodations for one parent or legal guardian to accompany him/her. Trip\n",
      " includes round-trip coach air transportation from a major gateway airport near\n",
      " winner's residence within the U.S.; 3 days/2 nights double occupancy standard\n",
      " hotel accommodations in the Los Angeles, CA metropolitan area (airport, carrier\n",
      " and hotel to be selected by Sponsor); accompanied admission to the set of FOX's\n",
      " Malcolm in the Middle(TM) (\"MIM\") during a non-filming period selected by FOX\n",
      " to meet Frankie Muniz; and ground transportation between the California airport\n",
      " and hotel, and between the hotel and the MIM set. Grand Prize winner will also\n",
      " receive a check for $2,500, 1 MIM script autographed by Frankie Muniz, one\n",
      " MIM/3D's(R) brand snacks VIP pack (including 1 backpack, 1 book, 1 hat, 1\n",
      " t-shirt, and 1 case consisting of fifteen 7 oz. bags of RUFFLES(R) 3D's(R)\n",
      " brand Maximum Cheddar flavored snacks). Approximate Retail Value (\"ARV\"):\n",
      " Between $7,500 and $15,000, depending on winner's point of travel origin and\n",
      " how many persons (up to 8) take the trip. All meals, gratuities, and other\n",
      " expenses associated with prize trip not specifically mentioned in these rules\n",
      " are the winner's sole responsibility. All travel must be taken by the date\n",
      " specified; no alternative travel dates are available. Winner, travel\n",
      " companions, and any necessary parent(s)/legal guardian(s) (the \"travel party\")\n",
      " must travel on same itinerary. In the event that circumstances prevent the\n",
      " travel party from being able to attend the set visit or meet Frankie Muniz, or\n",
      " limit this portion of the Grand Prize in any way, the winner agrees that the\n",
      " Promotion Parties shall have no obligations other than to deliver the remainder\n",
      " of the Grand Prize. FIVE (5) FIRST PRIZES: Manufacturer's coupons redeemable at\n",
      " participating retailers for 52 free 7 oz. bags of any 3D'S(R) brand snacks\n",
      " (with a retail value up to $2.59). ARV: $135. TEN (10) SECOND PRIZES: One\n",
      " MIM/3D's(R) brand snacks VIP pack (including 1 backpack, 1 book, 1 hat, ,1\n",
      " t-shirt, and 1 case consisting of fifteen 7 oz. bags of RUFFLES(R) 3D's(R)\n",
      " brand Maximum Cheddar flavored snacks). ARV: $100. TWENTY (20) THIRD PRIZES:\n",
      " One MIM t-shirt and one MIM hat. ARV: $30. 100 FOURTH PRIZES: One\n",
      " manufacturer's coupon redeemable at participating retailers for 1 free bag of\n",
      " 3D's(R) brand snacks (up to 7 oz. size). ARV: $2.59. Free product coupons\n",
      " expire and must be redeemed by 12/31/02. No substitution, cash redemptions or\n",
      " transfer of prizes is permitted except at Sponsor's sole discretion. If a prize\n",
      " cannot be awarded for any reason, Sponsor reserves the right to substitute any\n",
      " prize with another prize of equal or greater value. Any portion of a prize not\n",
      " accepted by a winner shall be forfeited. All prizes will be awarded.\n",
      "\n",
      "5. GENERAL CONDITIONS: Sweepstakes is not to be used in connection with any form\n",
      " of gambling. Prizes will be awarded and/or delivered only to addresses within\n",
      " the United States. Prize winners are solely responsible for any taxes on\n",
      " Prizes. This sweepstakes is subject to all federal, state and local laws, and\n",
      " Grand Prize winner will receive an IRS Form 1099 for the approximate retail\n",
      " value of the prize. By participating, entrants (and their parent(s)/legal\n",
      " guardian(s) if entrants are minors) agree to these Official Rules, Sponsor's\n",
      " Privacy Policy (available at www.3DsFun.com) and to the decisions of the judge,\n",
      " which are final and binding in all respects. If for any reason the sweepstakes\n",
      " is not capable of running as planned; including infection by computer virus,\n",
      " bugs, tampering, unauthorized intervention, fraud, technical failures, or any\n",
      " other causes which corrupt or affect the administration, security, fairness,\n",
      " integrity or proper conduct of the sweepstakes, Sponsor reserves the right, at\n",
      " its sole discretion, to disqualify any individual who is responsible or who\n",
      " tampers with the entry process, and to cancel or terminate the sweepstakes and\n",
      " select the winners from all eligible entries received prior to the cancellation\n",
      " or termination. This sweepstakes is offered only in the United States and is\n",
      " governed by the laws of the state of Texas, with venue in Dallas County, Texas,\n",
      " and all claims must be resolved in the federal or state courts of Dallas\n",
      " County, Texas.\n",
      "\n",
      "6. LIMITATIONS OF LIABILITY AND RELEASE: By accepting prize, winners (and\n",
      " winners' parent(s)/legal guardian(s) if winners are minors) agree that the\n",
      " Promotion Parties, participating retailers, and all of their respective\n",
      " officers, directors, employees, representatives and agents will have no\n",
      " liability whatsoever for, and shall be held harmless by winners against, any\n",
      " liability for injuries, losses or damages of any kind to persons or property\n",
      " resulting in whole or in part, directly or indirectly, from participation in\n",
      " the sweepstakes or acceptance, possession, misuse or use of any prize. Except\n",
      " if winners are residents of TN or where prohibited by law, winners (and\n",
      " winners' parent(s)/legal guardian(s) if winners are minors) grant (and agree to\n",
      " confirm this grant in writing, if requested) permission for Sponsor and those\n",
      " acting under its authority to use his/her name, photograph, voice and/or\n",
      " likeness, for advertising and/or publicity purposes without additional\n",
      " compensation.\n",
      "\n",
      "7. WINNERS' LIST: For a list of winners of prizes valued over $25, mail a\n",
      " self-addressed, stamped envelope to be postmarked by 2/11/02 and received by\n",
      " 2/18/02 to: Malcolm in the Middle(TM) Sweepstakes, Winners' List Requests, P.O.\n",
      " Box 1518, Elmhurst, IL 60126.\n",
      "\n",
      "8. SPONSOR: Frito-Lay, Inc., 7701 Legacy Drive, Plano, TX 75024-4099.\n",
      "\n",
      "(c)2002. Frito-Lay, Inc. All rights reserved.\n",
      "\n",
      "Malcolm in the Middle(TM) and (c)2002 Twentieth Century Fox Film Corporation,\n",
      " Regency Entertainment (USA) Inc. and Monarchy Enterprises S.a.r.l. All rights\n",
      " reserved.\n",
      "(c)2002. FOX BROADCASTING COMPANY\n"
     ]
    }
   ],
   "source": [
    "print(ham_emails[1].get_content().strip())"
   ]
  },
  {
   "cell_type": "code",
   "execution_count": 45,
   "metadata": {},
   "outputs": [
    {
     "name": "stdout",
     "output_type": "stream",
     "text": [
      "NEW PRODUCT ANNOUNCEMENT\n",
      "\n",
      "From: OUTSOURCE ENG.& MFG. INC.\n",
      "\n",
      "\n",
      "Sir/Madam;\n",
      "\n",
      "This note is to inform you of new watchdog board technology for maintaining\n",
      "continuous unattended operation of PC/Servers etc. that we have released for\n",
      "distribution.\n",
      "  \n",
      "We are proud to announce Watchdog Control Center featuring MAM (Multiple\n",
      "Applications Monitor) capability.\n",
      "The key feature of this application enables you to monitor as many\n",
      "applications as you\n",
      "have resident on any computer as well as the operating system for\n",
      "continuous unattended operation.  The Watchdog Control Center featuring\n",
      "MAM capability expands third party application \"control\" of a Watchdog as\n",
      "access to the application's\n",
      "source code is no longer needed.\n",
      "\n",
      "Here is how it all works:\n",
      "Upon installation of the application and Watchdog, the user may select\n",
      "many configuration options, based on their model of Watchdog, to fit their\n",
      "operational needs.  If the MAM feature is enabled, the user may select any\n",
      "executable program that they wish for monitoring.\n",
      "\n",
      "A lock up of the operating system or if any one of the selected\n",
      "applications is not running, the MAM feature, in\n",
      "conjunction with the Watchdog, will reset the system allowing for\n",
      "continuous operation.\n",
      "\n",
      "It's that simple!\n",
      "\n",
      "Watchdog Control Center is supported on most Microsoft Windows platforms\n",
      "(Win9x/WinNT/Win2k) and includes a Linux version for PCI Programmable\n",
      "Watchdogs.\n",
      "\n",
      "Watchdog Control Center Features:\n",
      "- Automated installation\n",
      "- Controls all Outsource Engineering Watchdogs\n",
      "- User selectable Watchdog timeout period\n",
      "- User selectable Watchdog stroke interval\n",
      "- Multiple Application Monitoring\n",
      "\n",
      "Included on the Installation CD:\n",
      "- Watchdog Control Center\n",
      "- Watchdog Drivers\n",
      "- Documentation\n",
      "\n",
      "For more information, please visit out website at\n",
      "http://www.outsrc-em.com/ or send an e-mail to sales@outsrc-em.com\n"
     ]
    }
   ],
   "source": [
    "print(spam_emails[6].get_content().strip())"
   ]
  },
  {
   "attachments": {},
   "cell_type": "markdown",
   "metadata": {},
   "source": [
    "Some emails are actually multipart, with images and attachments (which can have their own attachments). Let's look at the various types of structures we have:"
   ]
  },
  {
   "cell_type": "code",
   "execution_count": 46,
   "metadata": {},
   "outputs": [],
   "source": [
    "def get_email_structure(email):\n",
    "    if isinstance(email, str):\n",
    "        return email\n",
    "    payload = email.get_payload()\n",
    "    if isinstance(payload, list):  # Multipart email (different content types).\n",
    "        multipart = \", \".join([get_email_structure(sub_email) for sub_email in payload])\n",
    "        return f\"multipart({multipart})\"\n",
    "    else:\n",
    "        return email.get_content_type()"
   ]
  },
  {
   "cell_type": "code",
   "execution_count": 47,
   "metadata": {},
   "outputs": [],
   "source": [
    "from collections import Counter\n",
    "\n",
    "def structures_counter(emails):\n",
    "    structures = Counter()\n",
    "    for email in emails:\n",
    "        structure = get_email_structure(email)\n",
    "        structures[structure] += 1\n",
    "    return structures"
   ]
  },
  {
   "cell_type": "code",
   "execution_count": 48,
   "metadata": {},
   "outputs": [
    {
     "data": {
      "text/plain": [
       "[('text/html', 118),\n",
       " ('text/plain', 81),\n",
       " ('multipart(text/plain, text/html)', 43),\n",
       " ('multipart(text/html)', 2),\n",
       " ('multipart(text/plain, image/bmp)', 1),\n",
       " ('multipart(multipart(text/plain, text/html))', 1),\n",
       " ('multipart(text/plain, application/x-pkcs7-signature)', 1),\n",
       " ('multipart(text/plain, image/png, image/png)', 1),\n",
       " ('multipart(multipart(text/plain, text/html), image/gif, image/gif, image/gif, image/gif, image/gif, image/gif, image/gif, image/gif, image/gif, image/gif, image/gif, image/jpeg, image/gif, image/gif, image/gif, image/gif, image/gif, image/gif)',\n",
       "  1),\n",
       " ('multipart(text/plain, text/plain)', 1)]"
      ]
     },
     "execution_count": 48,
     "metadata": {},
     "output_type": "execute_result"
    }
   ],
   "source": [
    "structures_counter(ham_emails).most_common()"
   ]
  },
  {
   "cell_type": "code",
   "execution_count": 49,
   "metadata": {},
   "outputs": [
    {
     "data": {
      "text/plain": [
       "[('text/plain', 597),\n",
       " ('text/html', 589),\n",
       " ('multipart(text/plain, text/html)', 114),\n",
       " ('multipart(text/html)', 29),\n",
       " ('multipart(text/plain)', 25),\n",
       " ('multipart(multipart(text/html))', 18),\n",
       " ('multipart(multipart(text/plain, text/html))', 5),\n",
       " ('multipart(text/plain, application/octet-stream, text/plain)', 3),\n",
       " ('multipart(text/html, text/plain)', 2),\n",
       " ('multipart(text/html, image/jpeg)', 2),\n",
       " ('multipart(multipart(text/plain), application/octet-stream)', 2),\n",
       " ('multipart(text/plain, application/octet-stream)', 2),\n",
       " ('multipart(text/plain, multipart(text/plain))', 1),\n",
       " ('multipart(multipart(text/plain, text/html), image/jpeg, image/jpeg, image/jpeg, image/jpeg, image/jpeg)',\n",
       "  1),\n",
       " ('multipart(multipart(text/plain, text/html), image/jpeg, image/jpeg, image/jpeg, image/jpeg, image/gif)',\n",
       "  1),\n",
       " ('text/plain charset=us-ascii', 1),\n",
       " ('multipart(multipart(text/html), image/gif)', 1),\n",
       " ('multipart(multipart(text/plain, text/html), application/octet-stream, application/octet-stream, application/octet-stream, application/octet-stream)',\n",
       "  1),\n",
       " ('multipart(multipart(text/plain, text/html), image/gif, image/jpeg)', 1),\n",
       " ('multipart/alternative', 1)]"
      ]
     },
     "execution_count": 49,
     "metadata": {},
     "output_type": "execute_result"
    }
   ],
   "source": [
    "structures_counter(spam_emails).most_common()"
   ]
  },
  {
   "attachments": {},
   "cell_type": "markdown",
   "metadata": {},
   "source": [
    "It seems that the ham emails are more often plain text, while spam has quite a lot of HTML. Moreover, quite a few ham emails are signed using PGP, while no spam is. In short, it seems that the email structure is useful information to have."
   ]
  },
  {
   "attachments": {},
   "cell_type": "markdown",
   "metadata": {},
   "source": [
    "Now let's take a look at the email headers:"
   ]
  },
  {
   "cell_type": "code",
   "execution_count": 50,
   "metadata": {},
   "outputs": [
    {
     "name": "stdout",
     "output_type": "stream",
     "text": [
      "Return-Path : <ilug-admin@linux.ie>\n",
      "Delivered-To : yyyy@localhost.netnoteinc.com\n",
      "Received : from localhost (localhost [127.0.0.1])\tby phobos.labs.netnoteinc.com (Postfix) with ESMTP id 9E1F5441DD\tfor <jm@localhost>; Tue,  6 Aug 2002 06:48:09 -0400 (EDT)\n",
      "Received : from phobos [127.0.0.1]\tby localhost with IMAP (fetchmail-5.9.0)\tfor jm@localhost (single-drop); Tue, 06 Aug 2002 11:48:09 +0100 (IST)\n",
      "Received : from lugh.tuatha.org (root@lugh.tuatha.org [194.125.145.45]) by    dogma.slashnull.org (8.11.6/8.11.6) with ESMTP id g72LqWv13294 for    <jm-ilug@jmason.org>; Fri, 2 Aug 2002 22:52:32 +0100\n",
      "Received : from lugh (root@localhost [127.0.0.1]) by lugh.tuatha.org    (8.9.3/8.9.3) with ESMTP id WAA31224; Fri, 2 Aug 2002 22:50:17 +0100\n",
      "Received : from bettyjagessar.com (w142.z064000057.nyc-ny.dsl.cnc.net    [64.0.57.142]) by lugh.tuatha.org (8.9.3/8.9.3) with ESMTP id WAA31201 for    <ilug@linux.ie>; Fri, 2 Aug 2002 22:50:11 +0100\n",
      "X-Authentication-Warning : lugh.tuatha.org: Host w142.z064000057.nyc-ny.dsl.cnc.net    [64.0.57.142] claimed to be bettyjagessar.com\n",
      "Received : from 64.0.57.142 [202.63.165.34] by bettyjagessar.com    (SMTPD32-7.06 EVAL) id A42A7FC01F2; Fri, 02 Aug 2002 02:18:18 -0400\n",
      "Message-Id : <1028311679.886@0.57.142>\n",
      "Date : Fri, 02 Aug 2002 23:37:59 +0530\n",
      "To : ilug@linux.ie\n",
      "From : Start Now <startnow2002@hotmail.com>\n",
      "MIME-Version : 1.0\n",
      "Content-Type : text/plain; charset=\"US-ASCII\"; format=\"flowed\"\n",
      "Subject : [ILUG] STOP THE MLM INSANITY\n",
      "Sender : ilug-admin@linux.ie\n",
      "Errors-To : ilug-admin@linux.ie\n",
      "X-Mailman-Version : 1.1\n",
      "Precedence : bulk\n",
      "List-Id : Irish Linux Users' Group <ilug.linux.ie>\n",
      "X-Beenthere : ilug@linux.ie\n"
     ]
    }
   ],
   "source": [
    "for header, value in spam_emails[0].items():\n",
    "    print(header, \":\", value)"
   ]
  },
  {
   "attachments": {},
   "cell_type": "markdown",
   "metadata": {},
   "source": [
    "Split into a training set and a test set."
   ]
  },
  {
   "cell_type": "code",
   "execution_count": 51,
   "metadata": {},
   "outputs": [],
   "source": [
    "import numpy as np\n",
    "from sklearn.model_selection import train_test_split\n",
    "\n",
    "X = np.array(ham_emails + spam_emails, dtype=object)\n",
    "y = np.array([0] * len(ham_emails) + [1] * len(spam_emails))\n",
    "X_train, X_test, y_train, y_test = train_test_split(X, y, test_size=0.2, random_state=42)"
   ]
  },
  {
   "attachments": {},
   "cell_type": "markdown",
   "metadata": {},
   "source": [
    "The following function first drops the `<head>` section, then converts all `<a>` tags to the word HYPERLINK, then it gets rid of all HTML tags, leaving only the plain text. For readability, it also replaces multiple newlines with single newlines, and finally it unescapes html entities (such as `&gt;` or `&nbsp;`):"
   ]
  },
  {
   "cell_type": "code",
   "execution_count": 52,
   "metadata": {},
   "outputs": [],
   "source": [
    "import re\n",
    "from html import unescape\n",
    "\n",
    "def html_to_plain_text(html):\n",
    "    text = re.sub('<head.*?>.*?</head>', '', html, flags=re.M | re.S | re.I)\n",
    "    text = re.sub('<a\\s.*?>', ' HYPERLINK ', text, flags=re.M | re.S | re.I)\n",
    "    text = re.sub('<.*?>', '', text, flags=re.M | re.S)\n",
    "    text = re.sub(r'(\\s*\\n)+', '\\n', text, flags=re.M | re.S)\n",
    "    return unescape(text)"
   ]
  },
  {
   "cell_type": "code",
   "execution_count": 53,
   "metadata": {},
   "outputs": [
    {
     "name": "stdout",
     "output_type": "stream",
     "text": [
      "<html>\n",
      "\n",
      "<head>\n",
      "<meta http-equiv=\"Content-Language\" content=\"en-us\">\n",
      "<meta http-equiv=\"Content-Type\" content=\"text/html; charset=windows-1252\">\n",
      "<meta name=\"GENERATOR\" content=\"Microsoft FrontPage 4.0\">\n",
      "<meta name=\"ProgId\" content=\"FrontPage.Editor.Document\">\n",
      "<title>Norton System Works </title>\n",
      "</head>\n",
      "\n",
      "<body>\n",
      "\n",
      "<table border=\"1\" width=\"100%\" cellspacing=\"0\" cellpadding=\"0\">\n",
      "  <tr>\n",
      "    <td width=\"100%\">\n",
      "      <table border=\"0\" width=\"100%\" cellspacing=\"0\" cellpadding=\"0\" bgcolor=\"#800000\">\n",
      "        <tr>\n",
      "          <td width=\"100%\">\n",
      "            <p align=\"center\"><b><font face=\"Baskerville Old Face\" color=\"#ffffff\" size=\"6\">Norton\n",
      "            System Works</font></b>\n",
      "          </td>\n",
      "        </tr>\n",
      "      </table>\n",
      "      <table border=\"0\" width=\"100%\" cellspacing=\"0\" cellpadding=\"0\" bgcolor=\"#FFCC00\">\n",
      "        <tr>\n",
      "          <td width=\"100%\">\n",
      "            <table cellSpacing=\"0\" cellPadding=\"0\" width=\"100%\" bgColor=\"#800000\" border=\"0\">\n",
      "              <tbody>\n",
      "                <tr>\n",
      "                  <td ...\n"
     ]
    }
   ],
   "source": [
    "html_spam_emails = [email for email in X_train[y_train == 1]\n",
    "                    if get_email_structure(email) == \"text/html\"]\n",
    "sample_html_spam = html_spam_emails[7]\n",
    "print(sample_html_spam.get_content().strip()[:1000], \"...\")"
   ]
  },
  {
   "cell_type": "code",
   "execution_count": 54,
   "metadata": {},
   "outputs": [
    {
     "name": "stdout",
     "output_type": "stream",
     "text": [
      "\n",
      "            Norton\n",
      "            System Works\n",
      "                            A\n",
      "                            complete problem-solving suite for advanced users\n",
      "                            and small businesses.\n",
      "                  Norton\n",
      "                  System Works Features:\n",
      "              Norton AntiVirus\n",
      "                protects your PC from virus threats\n",
      "              Norton Utilities\n",
      "                optimizes PC performance and solves problems\n",
      "              Norton CleanSweep\n",
      "                cleans out Internet clutter\n",
      "              GoBack by Roxio\n",
      "                provides quick and easy system recovery\n",
      "              Norton Ghost\n",
      "                clones and upgrades your system easily\n",
      "              WinFax Basic\n",
      "                sends and receives professional-looking faxes\n",
      "             HYPERLINK Order\n",
      "            Today\n",
      "            $300.00 +\n",
      "            Value\n",
      "            Your\n",
      "            Price- $29.99\n",
      "           \n",
      " HYPERLINK Click\n",
      "here to unsubscribe from these\n",
      "mailings.\n",
      " ...\n"
     ]
    }
   ],
   "source": [
    "print(html_to_plain_text(sample_html_spam.get_content())[:1000], \"...\")"
   ]
  },
  {
   "cell_type": "code",
   "execution_count": 55,
   "metadata": {},
   "outputs": [],
   "source": [
    "def email_to_text(email):\n",
    "    html = None\n",
    "    for part in email.walk(): # Iterate over all parts of the email.\n",
    "        ctype = part.get_content_type()\n",
    "        if not ctype in (\"text/plain\", \"text/html\"):\n",
    "            continue\n",
    "        try:\n",
    "            content = part.get_content()\n",
    "        except: # Encoding issues.\n",
    "            content = str(part.get_payload())\n",
    "        if ctype == \"text/plain\":\n",
    "            return content\n",
    "        else:\n",
    "            html = content\n",
    "    if html:\n",
    "        return html_to_plain_text(html)\n"
   ]
  },
  {
   "cell_type": "code",
   "execution_count": 56,
   "metadata": {},
   "outputs": [
    {
     "name": "stdout",
     "output_type": "stream",
     "text": [
      "\n",
      "            Norton\n",
      "            System Works\n",
      "                            A\n",
      "                          ...\n"
     ]
    }
   ],
   "source": [
    "print(email_to_text(sample_html_spam)[:100], \"...\")"
   ]
  },
  {
   "attachments": {},
   "cell_type": "markdown",
   "metadata": {},
   "source": [
    "Use the Natural Language Toolkit to stemming."
   ]
  },
  {
   "cell_type": "code",
   "execution_count": 57,
   "metadata": {},
   "outputs": [
    {
     "name": "stdout",
     "output_type": "stream",
     "text": [
      "Computations => comput\n",
      "Computation => comput\n",
      "Computing => comput\n",
      "Computed => comput\n",
      "Compute => comput\n",
      "Compulsive => compuls\n"
     ]
    }
   ],
   "source": [
    "import nltk\n",
    "\n",
    "stemmer = nltk.PorterStemmer()\n",
    "for word in (\"Computations\", \"Computation\", \"Computing\", \"Computed\", \"Compute\",\n",
    "             \"Compulsive\"):\n",
    "    print(word, \"=>\", stemmer.stem(word))"
   ]
  },
  {
   "cell_type": "code",
   "execution_count": 58,
   "metadata": {},
   "outputs": [
    {
     "name": "stdout",
     "output_type": "stream",
     "text": [
      "['github.com', 'https://youtu.be/7Pq-S557XQU?t=3m32s']\n"
     ]
    }
   ],
   "source": [
    "import urlextract\n",
    "\n",
    "url_extractor = urlextract.URLExtract()\n",
    "some_text = \"Will it detect github.com and https://youtu.be/7Pq-S557XQU?t=3m32s\"\n",
    "print(url_extractor.find_urls(some_text))"
   ]
  },
  {
   "attachments": {},
   "cell_type": "markdown",
   "metadata": {},
   "source": [
    "Put all of these together to build a transformer."
   ]
  },
  {
   "cell_type": "code",
   "execution_count": 59,
   "metadata": {},
   "outputs": [],
   "source": [
    "from sklearn.base import BaseEstimator, TransformerMixin\n",
    "\n",
    "class EmailToWordCounterTransformer(BaseEstimator, TransformerMixin):\n",
    "    def __init__(self, strip_headers=True, lower_case=True, remove_punctuation=True,\n",
    "                 replace_urls=True, replace_numbers=True, stemming=True):\n",
    "        self.strip_headers = strip_headers\n",
    "        self.lower_case = lower_case\n",
    "        self.remove_punctuation = remove_punctuation\n",
    "        self.replace_urls = replace_urls\n",
    "        self.replace_numbers = replace_numbers\n",
    "        self.stemming = stemming\n",
    "    def fit(self, X, y=None):\n",
    "        return self\n",
    "    def transform(self, X, y=None):\n",
    "        X_transformed = []\n",
    "        for email in X:\n",
    "            text = email_to_text(email) or \"\"\n",
    "            if self.lower_case:\n",
    "                text = text.lower()\n",
    "            if self.replace_urls and url_extractor:\n",
    "                urls = list(set(url_extractor.find_urls((text))))\n",
    "                urls.sort(key=lambda url: len(url), reverse=True)\n",
    "                for url in urls:\n",
    "                    text = text.replace(url, \" URL \")\n",
    "            if self.replace_numbers:\n",
    "                text = re.sub(r'\\d+(?:\\.\\d*)?(?:[eE][+-]?\\d+)?', 'NUMBER', text)\n",
    "            if self.remove_punctuation:\n",
    "                text = re.sub(r'\\W+', ' ', text, flags=re.M)\n",
    "            word_counts = Counter(text.split())\n",
    "            if self.stemming and stemmer:\n",
    "                stemmed_word_counts = Counter()\n",
    "                for word, count in word_counts.items():\n",
    "                    stemmed_word = stemmer.stem(word)\n",
    "                    stemmed_word_counts[stemmed_word] += count\n",
    "                word_counts = stemmed_word_counts\n",
    "            X_transformed.append(word_counts)\n",
    "        return np.array(X_transformed)\n"
   ]
  },
  {
   "cell_type": "code",
   "execution_count": 60,
   "metadata": {},
   "outputs": [
    {
     "data": {
      "text/plain": [
       "array([Counter({'number': 164, 'email': 85, 'to': 68, 'you': 63, 'broadcast': 59, 'the': 50, 'a': 49, 'of': 39, 'our': 29, 'order': 26, 'for': 24, 'your': 24, 'have': 24, 'and': 23, 'advertis': 22, 'softwar': 22, 'is': 21, 'with': 21, 'packag': 20, 'if': 19, 'are': 17, 'by': 17, 'can': 15, 'send': 15, 'i': 15, 'free': 14, 'receiv': 14, 'in': 14, 'it': 14, 'or': 13, 'peopl': 13, 'on': 12, 'day': 12, 'that': 12, 'target': 11, 'out': 11, 'thi': 11, 'about': 10, 'address': 10, 'all': 10, 'thank': 10, 'use': 10, 'will': 10, 'internet': 9, 'at': 9, 'say': 8, 'so': 8, 'million': 8, 'they': 8, 'us': 8, 'we': 8, 'now': 7, 'mail': 7, 'through': 7, 'credit': 7, 'card': 7, 's': 6, 'just': 6, 'busi': 6, 'from': 6, 'be': 6, 'them': 6, 'as': 6, 'unlimit': 6, 'ever': 6, 'complet': 6, 'product': 5, 'servic': 5, 'everi': 5, 'what': 5, 'up': 5, 'than': 5, 'postal': 5, 'automat': 5, 'good': 5, 'within': 5, 'not': 5, 'onli': 5, 'custom': 5, 'entir': 5, 'addit': 5, 'm': 5, 'daili': 4, 'week': 4, 'profit': 4, 'ad': 4, 'time': 4, 'sale': 4, 'page': 4, 'cost': 4, 'person': 4, 'one': 4, 'an': 4, 'user': 4, 'new': 4, 'countri': 4, 're': 4, 'work': 4, 'do': 4, 'compani': 4, 'retail': 4, 'list': 4, 'state': 4, 'program': 4, 'ca': 4, 'pleas': 4, 'fax': 4, 'form': 4, '________________________': 4, 'let': 3, 'sell': 3, 'mani': 3, 'gener': 3, 'accord': 3, 'like': 3, 'web': 3, 'site': 3, 'direct': 3, 'no': 3, 'reach': 3, 'market': 3, 'onlin': 3, 'find': 3, 'way': 3, 'never': 3, 'rate': 3, 'today': 3, 'sent': 3, 'consum': 3, 'first': 3, 'respond': 3, 'realli': 3, 'discov': 3, 'then': 3, 'provid': 3, 'concern': 3, 'extra': 3, 'how': 3, 'nim': 3, 'corpor': 3, 'me': 3, 'over': 3, 'extractor': 3, 'code': 3, 'provinc': 3, 'instruct': 3, 'handbook': 3, 'everyth': 3, 'best': 3, 'support': 3, 'ani': 3, 'question': 3, 'monday': 3, 'june': 3, 'numberrd': 3, 'see': 3, 'az': 3, 'phone': 3, 'name': 3, '___________________': 3, 'abov': 2, 'month': 2, 'know': 2, 'extrem': 2, 'forrest': 2, 'research': 2, 'more': 2, 'banner': 2, 'method': 2, 'which': 2, 'sound': 2, 'most': 2, 'could': 2, 'e': 2, 'respons': 2, 'high': 2, 'com': 2, 'mari': 2, 'cat': 2, 'interest': 2, 'come': 2, 'visit': 2, 'less': 2, 'minut': 2, 'european': 2, 'read': 2, 'think': 2, 'may': 2, 'amount': 2, 'when': 2, 'even': 2, 'right': 2, 'purchas': 2, 'search': 2, 'engin': 2, 'unit': 2, 'there': 2, 'get': 2, 'technolog': 2, 'server': 2, 'comput': 2, 'much': 2, 'featur': 2, 'sender': 2, 'etc': 2, 'tool': 2, 'step': 2, 'make': 2, 'easi': 2, 'write': 2, 'start': 2, 'via': 2, 'technic': 2, 'includ': 2, 'goal': 2, 'contain': 2, 'remov': 2, 'few': 2, 'but': 2, 'charg': 2, 'again': 2, 'sinc': 2, 'increas': 2, 'satisfi': 2, 'singl': 2, 'simpli': 2, 'return': 2, 'full': 2, 'refund': 2, 'off': 2, 'two': 2, 'had': 2, 'money': 2, 'w': 2, 'fantast': 2, 'wa': 2, 'happi': 2, 'my': 2, 't': 2, 'must': 2, 'prioriti': 2, 'numberam': 2, 'numberpm': 2, 'pst': 2, 'print': 2, 'bottom': 2, 'necessari': 2, 'blank': 2, 'check': 2, '_______________________________________________________': 2, 'citi': 2, 'zip': 2, '_______________': 2, 'calcul': 1, 'earn': 1, 'base': 1, 'statist': 1, 'whi': 1, 'monthli': 1, 'imagin': 1, 'amaz': 1, 'result': 1, 'comparison': 1, 'html': 1, 'pictur': 1, 'appeal': 1, 'wave': 1, 'futur': 1, 'other': 1, 'mean': 1, 'effect': 1, 'quickli': 1, 'inexpens': 1, 'newslett': 1, 'afford': 1, 'past': 1, 'mass': 1, 'low': 1, 'quick': 1, 'usa': 1, 'exampl': 1, 'erica': 1, 'kittiesinc': 1, 'comertom': 1, 'subject': 1, 'hi': 1, 'save': 1, 'suppli': 1, 'url': 1, 'basi': 1, 'imt': 1, 'strategi': 1, 'report': 1, 'averag': 1, 'click': 1, 'benchmark': 1, 'studi': 1, 'conduct': 1, 'believ': 1, 'promot': 1, 'forward': 1, 'friend': 1, 'becaus': 1, 'valuabl': 1, 'prepar': 1, 'huge': 1, 'digit': 1, 'impact': 1, 'offer': 1, 'hour': 1, 'mode': 1, 'sit': 1, 'alert': 1, 'catch': 1, 'moment': 1, 'shot': 1, 'william': 1, 'thame': 1, 'revnet': 1, 'vp': 1, 'arthur': 1, 'anderson': 1, 'panel': 1, 'reveal': 1, 'led': 1, 'flonetwork': 1, 'often': 1, 'magazin': 1, 'televis': 1, 'combin': 1, 'hand': 1, 'messag': 1, 'readi': 1, 'dn': 1, 'creat': 1, 'super': 1, 'fast': 1, 'feder': 1, 'regul': 1, 'law': 1, 'avoid': 1, 'boston': 1, 'globe': 1, 'press': 1, 'democrat': 1, 'anvil': 1, 'media': 1, 'present': 1, 'requir': 1, 'win': 1, 'nt': 1, 'xp': 1, 'mac': 1, 'softwindow': 1, 'virtualpc': 1, 'allow': 1, 'abil': 1, 'navig': 1, 'top': 1, 'newsgroup': 1, 'deja': 1, 'news': 1, 'collect': 1, 'keyword': 1, 'choic': 1, 'ultim': 1, 'newest': 1, 'freshest': 1, 'region': 1, 'separ': 1, 'area': 1, 'alabama': 1, 'wyom': 1, 'argentina': 1, 'zimbabw': 1, 'fresh': 1, 'guid': 1, 'process': 1, 'instal': 1, 'befor': 1, 'these': 1, 'describ': 1, 'detail': 1, 'want': 1, 'learn': 1, 'success': 1, 'manag': 1, 'hundr': 1, 'necess': 1, 'anyon': 1, 'involv': 1, 'problem': 1, 'anyth': 1, 'relat': 1, 'assist': 1, 'satisfact': 1, 'inform': 1, 'would': 1, 'take': 1, 'five': 1, 'duplic': 1, 'upgrad': 1, 'bonus': 1, 'togeth': 1, 'need': 1, 'campaign': 1, 'wait': 1, 'regardless': 1, 'encount': 1, 'lifetim': 1, 'been': 1, 'author': 1, 'succeed': 1, 'confid': 1, 'give': 1, 'extract': 1, 'least': 1, 'each': 1, 'aspect': 1, 'ask': 1, 'decid': 1, 'keep': 1, 'tax': 1, 'made': 1, 'previou': 1, 'turn': 1, 'hobbi': 1, 'into': 1, 'seriou': 1, 'roger': 1, 'chicago': 1, 'il': 1, 'member': 1, 'plu': 1, 'disk': 1, 'nearli': 1, 'freeman': 1, 'england': 1, 'uk': 1, 'visitor': 1, 'k': 1, 'swift': 1, 'gunnison': 1, 'co': 1, 'year': 1, 'lot': 1, 'love': 1, 'gallagh': 1, 'melvil': 1, 'ny': 1, 'prompt': 1, 'file': 1, 'took': 1, 'faster': 1, 'anybodi': 1, 'someth': 1, 'ingersol': 1, 'scottsdal': 1, 'feel': 1, 'veri': 1, 'refer': 1, 'folk': 1, 'thu': 1, 'far': 1, 'continu': 1, 'rare': 1, 'doe': 1, 'anymor': 1, 'greatli': 1, 'appreci': 1, 'blake': 1, 'phoenix': 1, 'wonder': 1, 'nova': 1, 'lo': 1, 'angel': 1, 'such': 1, 'lopez': 1, 'tucson': 1, 'tech': 1, 'seen': 1, 'g': 1, 'gonzalez': 1, 'malibu': 1, 'am': 1, 'truli': 1, 'impress': 1, 'level': 1, 'admit': 1, 'bit': 1, 'skeptic': 1, 'certainli': 1, 'deliv': 1, 'beaudoin': 1, 'toronto': 1, 'go': 1, 'round': 1, 'gave': 1, 'robert': 1, 'san': 1, 'francisco': 1, 'ha': 1, 'jone': 1, 'vancouv': 1, 'bc': 1, 'j': 1, 'beckley': 1, 'cupertino': 1, 'too': 1, 'true': 1, 'mayb': 1, 'rememb': 1, 'onc': 1, 'immedi': 1, 'rush': 1, 'cd': 1, 'rom': 1, 'fedex': 1, 'overnight': 1, 'intern': 1, 'same': 1, 'call': 1, 'depart': 1, 'f': 1, 'major': 1, 'accept': 1, 'th': 1, 'tomorrow': 1, 'foreign': 1, 'resid': 1, 'weekday': 1, 'cashier': 1, 'bank': 1, 'draft': 1, 'along': 1, 'payment': 1, 'postmark': 1, 'after': 1, 'b': 1, 'center': 1, 'drive': 1, 'medford': 1, 'america': 1, 'don': 1, 'competit': 1, 'c': 1, 'reserv': 1, '____________________________________________________': 1, 'bill': 1, '_________________________________________________': 1, 'non': 1, 'pobox': 1, 'ship': 1, '______________________________________': 1, '____________________': 1, '___________________________________________________': 1, 'follow': 1, 'visa': 1, 'mastercard': 1, 'amex': 1, 'diner': 1, 'club': 1, '_____________________________________________': 1, 'cc': 1, '_________________________________': 1, 'exp': 1, 'date': 1, '__________': 1, '______________': 1, 'signatur': 1}),\n",
       "       Counter({'number': 26, 'e': 8, 'các': 6, 'sẽ': 6, 'bạn': 5, 'websit': 5, 'com': 4, 'url': 4, 'của': 4, 'có': 4, 'mail': 3, 'saoviet': 3, 'với': 3, 'mạnh': 3, 'những': 3, 'và': 3, 'sao': 2, 'viet': 2, 'consult': 2, 'co': 2, 'ltd': 2, 'solut': 2, 'center': 2, 'esc': 2, 'nam': 2, 'tel': 2, 'fax': 2, 'sale': 2, 'web': 2, 'sự': 2, 'cho': 2, 'tương': 2, 'tên': 2, 'miền': 2, 'sở': 2, 'hữu': 2, 'một': 2, 'dạng': 2, 'hệ': 2, 'công': 2, 'trên': 2, 'mạng': 2, 'sức': 2, 'gian': 2, 'được': 2, 'tính': 2, 'trực': 2, 'tuyến': 2, 'mại': 2, 'trình': 2, 'tạo': 2, 'thuật': 2, 'financ': 1, 'inves': 1, 'technolog': 1, 'address': 1, 'ngô': 1, 'tất': 1, 'tố': 1, 'hà': 1, 'nội': 1, 'việt': 1, 'site': 1, 'www': 1, 'lựa': 1, 'chọn': 1, 'lai': 1, 'đăng': 1, 'ký': 1, 'top': 1, 'level': 1, 'domain': 1, 'name': 1, 'net': 1, 'org': 1, 'usd': 1, 'a': 1, 'quốc': 1, 'tế': 1, 'b': 1, 'thống': 1, 'ty': 1, 'usernumb': 1, 'c': 1, 'địa': 1, 'chỉ': 1, 'truy': 1, 'cập': 1, 'thuê': 1, 'chỗ': 1, 'host': 1, 'numberusd': 1, 'numbermb': 1, 'apach': 1, 'server': 1, 'không': 1, 'hỗ': 1, 'trợ': 1, 'tối': 1, 'đa': 1, 'năng': 1, 'nhất': 1, 'việc': 1, 'phát': 1, 'triển': 1, 'văn': 1, 'phòng': 1, 'ảo': 1, 'hàng': 1, 'thanh': 1, 'toán': 1, 'thương': 1, 'điện': 1, 'tử': 1, 'thiết': 1, 'kế': 1, 'design': 1, 'cụ': 1, 'multimedia': 1, 'mang': 1, 'tác': 1, 'cao': 1, 'kết': 1, 'hợp': 1, 'đội': 1, 'ngũ': 1, 'họa': 1, 'sĩ': 1, 'lập': 1, 'viên': 1, 'chuyên': 1, 'nghiệp': 1, 'sáng': 1, 'nhiều': 1, 'năm': 1, 'kinh': 1, 'nghiệm': 1, 'ra': 1, 'hoàn': 1, 'thiện': 1, 'về': 1, 'mỹ': 1, 'kỹ': 1, 'chương': 1, 'khuyến': 1, 'hè': 1, 'từ': 1, 'mọi': 1, 'chi': 1, 'tiết': 1, 'xin': 1, 'liên': 1, 'lê': 1, 'hoàng': 1, 'busi': 1, 'manag': 1}),\n",
       "       Counter({'hyperlink': 4, 'url': 3, 'to': 2, 'click': 2, 'spamassassin': 2, 'sight': 2, 'list': 2, 'unsubscrib': 1, 'or': 1, 'chang': 1, 'subscrib': 1, 'option': 1, 'here': 1, 'deathtospamdeathtospamdeathtospam': 1, 'thi': 1, 'email': 1, 'is': 1, 'sponsor': 1, 'by': 1, 'thinkgeek': 1, 'welcom': 1, 'geek': 1, 'heaven': 1, '_______________________________________________': 1, 'mail': 1, 'sourceforg': 1, 'net': 1})],\n",
       "      dtype=object)"
      ]
     },
     "execution_count": 60,
     "metadata": {},
     "output_type": "execute_result"
    }
   ],
   "source": [
    "X_few = X_train[:3]\n",
    "X_few_wordcounts = EmailToWordCounterTransformer().fit_transform(X_few)\n",
    "X_few_wordcounts"
   ]
  },
  {
   "attachments": {},
   "cell_type": "markdown",
   "metadata": {},
   "source": [
    "Now we have the word counts, and we need to convert them to vectors. For this, we will build another transformer whose `fit()` method will build the vocabulary (an ordered list of the most common words) and whose `transform()` method will use the vocabulary to convert word counts to vectors. The output is a sparse matrix."
   ]
  },
  {
   "cell_type": "code",
   "execution_count": 61,
   "metadata": {},
   "outputs": [],
   "source": [
    "from scipy.sparse import csr_matrix\n",
    "\n",
    "class WordCounterToVectorTransformer(BaseEstimator, TransformerMixin):\n",
    "    def __init__(self, vocabulary_size=1000):\n",
    "        self.vocabulary_size = vocabulary_size\n",
    "    def fit(self, X, y=None):\n",
    "        total_count = Counter()\n",
    "        for word_count in X:\n",
    "            for word, count in word_count.items():\n",
    "                total_count[word] += min(count, 10)\n",
    "        most_common = total_count.most_common()[:self.vocabulary_size]\n",
    "        self.vocabulary_ = {word: index + 1 for index, (word, count) in enumerate(most_common)}\n",
    "        return self\n",
    "    def transform(self, X, y=None):\n",
    "        rows, cols, data = [], [], []\n",
    "        for row, word_count in enumerate(X):\n",
    "            for word, count in word_count.items():\n",
    "                rows.append(row)\n",
    "                cols.append(self.vocabulary_.get(word, 0))\n",
    "                data.append(count)\n",
    "        return csr_matrix((data, (rows, cols)), shape=(len(X), self.vocabulary_size+1))"
   ]
  },
  {
   "cell_type": "code",
   "execution_count": 62,
   "metadata": {},
   "outputs": [
    {
     "data": {
      "text/plain": [
       "<3x11 sparse matrix of type '<class 'numpy.intc'>'\n",
       "\twith 24 stored elements in Compressed Sparse Row format>"
      ]
     },
     "execution_count": 62,
     "metadata": {},
     "output_type": "execute_result"
    }
   ],
   "source": [
    "vocab_transformer = WordCounterToVectorTransformer(vocabulary_size=10)\n",
    "X_few_vectors = vocab_transformer.fit_transform(X_few_wordcounts)\n",
    "X_few_vectors"
   ]
  },
  {
   "cell_type": "code",
   "execution_count": 63,
   "metadata": {},
   "outputs": [
    {
     "data": {
      "text/plain": [
       "array([[1702,  164,   68,   49,   13,   85,   21,    7,   17,   11,   10],\n",
       "       [ 235,   26,    0,    1,    0,    0,    0,    3,    0,    0,    1],\n",
       "       [  29,    0,    2,    0,    1,    1,    1,    1,    1,    1,    0]],\n",
       "      dtype=int32)"
      ]
     },
     "execution_count": 63,
     "metadata": {},
     "output_type": "execute_result"
    }
   ],
   "source": [
    "X_few_vectors.toarray()"
   ]
  },
  {
   "cell_type": "code",
   "execution_count": 64,
   "metadata": {},
   "outputs": [],
   "source": [
    "from sklearn.pipeline import Pipeline\n",
    "\n",
    "preprocess_pipeline = Pipeline([\n",
    "    (\"email_to_wordcount\", EmailToWordCounterTransformer()),\n",
    "    (\"wordcount_to_vector\", WordCounterToVectorTransformer()),\n",
    "])\n",
    "\n",
    "X_train_transformed = preprocess_pipeline.fit_transform(X_train)"
   ]
  },
  {
   "attachments": {},
   "cell_type": "markdown",
   "metadata": {},
   "source": [
    "---"
   ]
  },
  {
   "attachments": {},
   "cell_type": "markdown",
   "metadata": {},
   "source": [
    "### **MODEL SELECTION:**"
   ]
  },
  {
   "cell_type": "code",
   "execution_count": 77,
   "metadata": {},
   "outputs": [
    {
     "data": {
      "text/plain": [
       "0.9589630507969198"
      ]
     },
     "execution_count": 77,
     "metadata": {},
     "output_type": "execute_result"
    }
   ],
   "source": [
    "from sklearn.linear_model import LogisticRegression\n",
    "from sklearn.model_selection import cross_val_score\n",
    "\n",
    "log_clf = LogisticRegression(max_iter=1000, random_state=42)\n",
    "log_score = cross_val_score(log_clf, X_train_transformed, y_train, cv=3)\n",
    "log_score.mean()"
   ]
  },
  {
   "cell_type": "code",
   "execution_count": 67,
   "metadata": {},
   "outputs": [
    {
     "data": {
      "text/plain": [
       "0.8792069287123426"
      ]
     },
     "execution_count": 67,
     "metadata": {},
     "output_type": "execute_result"
    }
   ],
   "source": [
    "from sklearn.linear_model import SGDClassifier\n",
    "\n",
    "sgd_clf = SGDClassifier(random_state=42)\n",
    "sgd_score = cross_val_score(sgd_clf, X_train_transformed, y_train, cv=3)\n",
    "sgd_score.mean()"
   ]
  },
  {
   "cell_type": "code",
   "execution_count": 68,
   "metadata": {},
   "outputs": [
    {
     "data": {
      "text/plain": [
       "0.9430125198059794"
      ]
     },
     "execution_count": 68,
     "metadata": {},
     "output_type": "execute_result"
    }
   ],
   "source": [
    "from sklearn.svm import SVC\n",
    "\n",
    "svc_clf = SVC(kernel=\"linear\", random_state=42)\n",
    "svc_score = cross_val_score(svc_clf, X_train_transformed, y_train, cv=3)\n",
    "svc_score.mean()"
   ]
  },
  {
   "cell_type": "code",
   "execution_count": 78,
   "metadata": {},
   "outputs": [
    {
     "data": {
      "text/plain": [
       "0.9559258450262288"
      ]
     },
     "execution_count": 78,
     "metadata": {},
     "output_type": "execute_result"
    }
   ],
   "source": [
    "from sklearn.ensemble import RandomForestClassifier\n",
    "\n",
    "forest_clf = RandomForestClassifier(n_estimators=100, random_state=42)\n",
    "forest_score = cross_val_score(forest_clf, X_train_transformed, y_train, cv=3)\n",
    "forest_score.mean()"
   ]
  },
  {
   "cell_type": "code",
   "execution_count": 79,
   "metadata": {},
   "outputs": [
    {
     "name": "stdout",
     "output_type": "stream",
     "text": [
      "Precision: 96.82%\n",
      "Recall: 98.56%\n"
     ]
    }
   ],
   "source": [
    "from sklearn.metrics import precision_score, recall_score\n",
    "\n",
    "X_test_transformed = preprocess_pipeline.transform(X_test)\n",
    "\n",
    "log_clf = LogisticRegression(max_iter=1000, random_state=42)\n",
    "log_clf.fit(X_train_transformed, y_train)\n",
    "y_pred = log_clf.predict(X_test_transformed)\n",
    "\n",
    "print(f\"Precision: {precision_score(y_test, y_pred):.2%}\")\n",
    "print(f\"Recall: {recall_score(y_test, y_pred):.2%}\")"
   ]
  },
  {
   "cell_type": "code",
   "execution_count": null,
   "metadata": {},
   "outputs": [],
   "source": []
  }
 ],
 "metadata": {
  "kernelspec": {
   "display_name": "Python 3",
   "language": "python",
   "name": "python3"
  },
  "language_info": {
   "codemirror_mode": {
    "name": "ipython",
    "version": 3
   },
   "file_extension": ".py",
   "mimetype": "text/x-python",
   "name": "python",
   "nbconvert_exporter": "python",
   "pygments_lexer": "ipython3",
   "version": "3.10.5 (tags/v3.10.5:f377153, Jun  6 2022, 16:14:13) [MSC v.1929 64 bit (AMD64)]"
  },
  "orig_nbformat": 4,
  "vscode": {
   "interpreter": {
    "hash": "43649d95374003884189df83e9e8a65c7ef239a82272d2bb0b2e5e5cfcbf86e6"
   }
  }
 },
 "nbformat": 4,
 "nbformat_minor": 2
}
