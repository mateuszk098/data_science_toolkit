{
 "cells": [
  {
   "attachments": {},
   "cell_type": "markdown",
   "metadata": {},
   "source": [
    "# ![Keras](https://img.shields.io/badge/Keras-%23D00000.svg?style=for-the-badge&logo=Keras&logoColor=white) **CHAPTER 10 - INTRODUCTION TO ARTIFICIAL NEURAL NETWORKS WITH KERAS**"
   ]
  },
  {
   "attachments": {},
   "cell_type": "markdown",
   "metadata": {},
   "source": [
    "---"
   ]
  },
  {
   "attachments": {},
   "cell_type": "markdown",
   "metadata": {},
   "source": [
    "## **SETUP:**"
   ]
  },
  {
   "cell_type": "code",
   "execution_count": 1,
   "metadata": {},
   "outputs": [],
   "source": [
    "# %load ../initial_settings.py\n",
    "\"\"\"\n",
    "Initial settings for data analysis and machine learning.\n",
    "Use this with: %load ../initial_settings.py\n",
    "\"\"\"\n",
    "\n",
    "import os\n",
    "import sys\n",
    "from pathlib import Path\n",
    "\n",
    "import matplotlib as mpl\n",
    "import matplotlib.pyplot as plt\n",
    "import numpy as np\n",
    "import pandas as pd\n",
    "import sklearn\n",
    "import tensorflow as tf\n",
    "from packaging import version\n",
    "\n",
    "# This notebook requires Python 3.7 or above and Scikit-Learn 1.0.1 or above.\n",
    "assert sys.version_info >= (3, 7)\n",
    "assert version.parse(sklearn.__version__) >= version.parse(\"1.0.1\")\n",
    "\n",
    "# And TensorFlow 2.8 or above.\n",
    "assert version.parse(tf.__version__) >= version.parse(\"2.8.0\")\n",
    "\n",
    "# Graphviz source.\n",
    "os.environ[\"PATH\"] += os.pathsep + \"C:/Programy/Graphviz/bin/\"\n",
    "\n",
    "# Default settings for matplotlib.\n",
    "DARK_BLUE = \"#03002e\"\n",
    "LIGHT_GRAY = \"#8f8f99\"\n",
    "\n",
    "plt.rc(\"font\", size=14)\n",
    "plt.rc(\"legend\", fontsize=14)\n",
    "plt.rc(\"text\", color=DARK_BLUE)\n",
    "\n",
    "plt.rc(\"axes\", labelsize=14)\n",
    "plt.rc(\"axes\", titlesize=14)\n",
    "plt.rc(\"axes\", labelpad=10)\n",
    "plt.rc(\"axes\", labelcolor=DARK_BLUE)\n",
    "plt.rc(\"axes\", grid=True)\n",
    "\n",
    "plt.rc(\"xtick\", labelsize=12, color=DARK_BLUE)\n",
    "plt.rc(\"ytick\", labelsize=12, color=DARK_BLUE)\n",
    "plt.rc(\"xtick.major\", pad=10)\n",
    "plt.rc(\"ytick.major\", pad=10)\n",
    "\n",
    "plt.rc(\"grid\", color=LIGHT_GRAY)\n",
    "plt.rc(\"grid\", linestyle=\"dashed\")\n",
    "plt.rc(\"grid\", linewidth=0.5)\n",
    "plt.rc(\"grid\", alpha=0.5)\n",
    "\n",
    "# Create a directory for matplotlib images.\n",
    "IMAGES_PATH = Path(\"images\")\n",
    "IMAGES_PATH.mkdir(parents=True, exist_ok=True)\n",
    "\n",
    "\n",
    "def save_fig(\n",
    "    fig_id, tight_layout=True, fig_extension=\"png\", resolution=300, facecolor=\"w\"\n",
    "):\n",
    "    path = IMAGES_PATH / f\"{fig_id}.{fig_extension}\"\n",
    "    if tight_layout:\n",
    "        plt.tight_layout()\n",
    "    plt.savefig(path, format=fig_extension, dpi=resolution, facecolor=facecolor)\n"
   ]
  },
  {
   "attachments": {},
   "cell_type": "markdown",
   "metadata": {},
   "source": [
    "---"
   ]
  },
  {
   "attachments": {},
   "cell_type": "markdown",
   "metadata": {},
   "source": [
    "## **FROM BIOLOGICAL TO ARTIFICIAL NEURONS:**"
   ]
  },
  {
   "attachments": {},
   "cell_type": "markdown",
   "metadata": {},
   "source": [
    "### **THE PERCEPTRON:**"
   ]
  },
  {
   "cell_type": "code",
   "execution_count": 2,
   "metadata": {},
   "outputs": [
    {
     "data": {
      "text/plain": [
       "array([ True, False])"
      ]
     },
     "execution_count": 2,
     "metadata": {},
     "output_type": "execute_result"
    }
   ],
   "source": [
    "from sklearn.datasets import load_iris\n",
    "from sklearn.linear_model import Perceptron\n",
    "\n",
    "iris = load_iris(as_frame=True)\n",
    "X = iris.data[[\"petal length (cm)\", \"petal width (cm)\"]].values\n",
    "y = iris.target == 0  # Iris setosa\n",
    "\n",
    "per_clf = Perceptron(random_state=42)\n",
    "per_clf.fit(X, y)\n",
    "\n",
    "X_new = [[2, 0.5], [3, 1]]\n",
    "y_pred = per_clf.predict(X_new)  # predicts True and False for these 2 flowers\n",
    "y_pred"
   ]
  },
  {
   "attachments": {},
   "cell_type": "markdown",
   "metadata": {},
   "source": [
    "The `Perceptron` is equivalent to a `SGDClassifier` with `loss=\"perceptron\"`, no regularization, and a constant learning rate equal to 1:"
   ]
  },
  {
   "cell_type": "code",
   "execution_count": 3,
   "metadata": {},
   "outputs": [],
   "source": [
    "# extra code – shows how to build and train a Perceptron\n",
    "\n",
    "from sklearn.linear_model import SGDClassifier\n",
    "\n",
    "sgd_clf = SGDClassifier(\n",
    "    loss=\"perceptron\", penalty=None, learning_rate=\"constant\", eta0=1, random_state=42\n",
    ")\n",
    "sgd_clf.fit(X, y)\n",
    "assert (sgd_clf.coef_ == per_clf.coef_).all()\n",
    "assert (sgd_clf.intercept_ == per_clf.intercept_).all()\n"
   ]
  },
  {
   "attachments": {},
   "cell_type": "markdown",
   "metadata": {},
   "source": [
    "When the Perceptron finds a decision boundary that properly separates the classes, it stops learning. This means that the decision boundary is often quite close to one class:"
   ]
  },
  {
   "cell_type": "code",
   "execution_count": 4,
   "metadata": {},
   "outputs": [
    {
     "data": {
      "image/png": "[encoded data removed]",
      "text/plain": [
       "<Figure size 504x216 with 1 Axes>"
      ]
     },
     "metadata": {
      "needs_background": "light"
     },
     "output_type": "display_data"
    }
   ],
   "source": [
    "# extra code – plots the decision boundary of a Perceptron on the iris dataset\n",
    "\n",
    "import matplotlib.pyplot as plt\n",
    "from matplotlib.colors import ListedColormap\n",
    "\n",
    "a = -per_clf.coef_[0, 0] / per_clf.coef_[0, 1]\n",
    "b = -per_clf.intercept_ / per_clf.coef_[0, 1]\n",
    "axes = [0, 5, 0, 2]\n",
    "x0, x1 = np.meshgrid(\n",
    "    np.linspace(axes[0], axes[1], 500).reshape(-1, 1),\n",
    "    np.linspace(axes[2], axes[3], 200).reshape(-1, 1),\n",
    ")\n",
    "X_new = np.c_[x0.ravel(), x1.ravel()]\n",
    "y_predict = per_clf.predict(X_new)\n",
    "zz = y_predict.reshape(x0.shape)\n",
    "custom_cmap = ListedColormap([\"#9898ff\", \"#fafab0\"])\n",
    "\n",
    "plt.figure(figsize=(7, 3))\n",
    "plt.plot(X[y == 0, 0], X[y == 0, 1], \"bs\", label=\"Not Iris setosa\")\n",
    "plt.plot(X[y == 1, 0], X[y == 1, 1], \"yo\", label=\"Iris setosa\")\n",
    "plt.plot([axes[0], axes[1]], [a * axes[0] + b, a * axes[1] + b], \"k-\", linewidth=3)\n",
    "plt.contourf(x0, x1, zz, cmap=custom_cmap)\n",
    "plt.xlabel(\"Petal length\")\n",
    "plt.ylabel(\"Petal width\")\n",
    "plt.legend(loc=\"lower right\")\n",
    "plt.axis(axes)\n",
    "plt.show()\n"
   ]
  },
  {
   "attachments": {},
   "cell_type": "markdown",
   "metadata": {},
   "source": [
    "### **ACTIVATION FUNCTIONS:**"
   ]
  },
  {
   "cell_type": "code",
   "execution_count": 5,
   "metadata": {},
   "outputs": [
    {
     "data": {
      "image/png": "[encoded data removed]",
      "text/plain": [
       "<Figure size 792x223.2 with 2 Axes>"
      ]
     },
     "metadata": {
      "needs_background": "light"
     },
     "output_type": "display_data"
    }
   ],
   "source": [
    "# extra code – this cell generates and saves Figure 10–8\n",
    "\n",
    "from scipy.special import expit as sigmoid\n",
    "\n",
    "\n",
    "def relu(z):\n",
    "    return np.maximum(0, z)\n",
    "\n",
    "\n",
    "def derivative(f, z, eps=0.000001):\n",
    "    return (f(z + eps) - f(z - eps)) / (2 * eps)\n",
    "\n",
    "\n",
    "max_z = 4.5\n",
    "z = np.linspace(-max_z, max_z, 200)\n",
    "\n",
    "plt.figure(figsize=(11, 3.1))\n",
    "\n",
    "plt.subplot(121)\n",
    "plt.plot([-max_z, 0], [0, 0], \"r-\", linewidth=2, label=\"Heaviside\")\n",
    "plt.plot(z, relu(z), \"m-.\", linewidth=2, label=\"ReLU\")\n",
    "plt.plot([0, 0], [0, 1], \"r-\", linewidth=0.5)\n",
    "plt.plot([0, max_z], [1, 1], \"r-\", linewidth=2)\n",
    "plt.plot(z, sigmoid(z), \"g--\", linewidth=2, label=\"Sigmoid\")\n",
    "plt.plot(z, np.tanh(z), \"b-\", linewidth=1, label=\"Tanh\")\n",
    "plt.grid(True)\n",
    "plt.title(\"Activation functions\")\n",
    "plt.axis([-max_z, max_z, -1.65, 2.4])\n",
    "plt.gca().set_yticks([-1, 0, 1, 2])\n",
    "plt.legend(loc=\"lower right\", fontsize=13)\n",
    "\n",
    "plt.subplot(122)\n",
    "plt.plot(z, derivative(np.sign, z), \"r-\", linewidth=2, label=\"Heaviside\")\n",
    "plt.plot(0, 0, \"ro\", markersize=5)\n",
    "plt.plot(0, 0, \"rx\", markersize=10)\n",
    "plt.plot(z, derivative(sigmoid, z), \"g--\", linewidth=2, label=\"Sigmoid\")\n",
    "plt.plot(z, derivative(np.tanh, z), \"b-\", linewidth=1, label=\"Tanh\")\n",
    "plt.plot([-max_z, 0], [0, 0], \"m-.\", linewidth=2)\n",
    "plt.plot([0, max_z], [1, 1], \"m-.\", linewidth=2)\n",
    "plt.plot([0, 0], [0, 1], \"m-.\", linewidth=1.2)\n",
    "plt.plot(0, 1, \"mo\", markersize=5)\n",
    "plt.plot(0, 1, \"mx\", markersize=10)\n",
    "plt.grid(True)\n",
    "plt.title(\"Derivatives\")\n",
    "plt.axis([-max_z, max_z, -0.2, 1.2])\n",
    "\n",
    "save_fig(\"activation_functions_plot\")\n",
    "plt.show()\n"
   ]
  },
  {
   "attachments": {},
   "cell_type": "markdown",
   "metadata": {},
   "source": [
    "---"
   ]
  },
  {
   "attachments": {},
   "cell_type": "markdown",
   "metadata": {},
   "source": [
    "## **REGRESSION MLPs:**"
   ]
  },
  {
   "cell_type": "code",
   "execution_count": 6,
   "metadata": {},
   "outputs": [],
   "source": [
    "from sklearn.datasets import fetch_california_housing\n",
    "from sklearn.metrics import mean_squared_error\n",
    "from sklearn.model_selection import train_test_split\n",
    "from sklearn.neural_network import MLPRegressor\n",
    "from sklearn.pipeline import make_pipeline\n",
    "from sklearn.preprocessing import StandardScaler\n",
    "\n",
    "housing = fetch_california_housing()\n",
    "X_train_full, X_test, y_train_full, y_test = train_test_split(\n",
    "    housing.data, housing.target, random_state=42\n",
    ")\n",
    "X_train, X_valid, y_train, y_valid = train_test_split(\n",
    "    X_train_full, y_train_full, random_state=42\n",
    ")\n",
    "\n",
    "mlp_reg = MLPRegressor(hidden_layer_sizes=[50, 50, 50], random_state=42)\n",
    "pipeline = make_pipeline(StandardScaler(), mlp_reg)\n",
    "pipeline.fit(X_train, y_train)\n",
    "y_pred = pipeline.predict(X_valid)\n",
    "rmse = mean_squared_error(y_valid, y_pred, squared=False)\n"
   ]
  },
  {
   "attachments": {},
   "cell_type": "markdown",
   "metadata": {},
   "source": [
    "---"
   ]
  },
  {
   "attachments": {},
   "cell_type": "markdown",
   "metadata": {},
   "source": [
    "## **CLASSIFICATION MLPs:**"
   ]
  },
  {
   "cell_type": "code",
   "execution_count": 7,
   "metadata": {},
   "outputs": [
    {
     "data": {
      "text/plain": [
       "1.0"
      ]
     },
     "execution_count": 7,
     "metadata": {},
     "output_type": "execute_result"
    }
   ],
   "source": [
    "# extra code – this was left as an exercise for the reader\n",
    "\n",
    "from sklearn.datasets import load_iris\n",
    "from sklearn.model_selection import train_test_split\n",
    "from sklearn.neural_network import MLPClassifier\n",
    "\n",
    "iris = load_iris()\n",
    "X_train_full, X_test, y_train_full, y_test = train_test_split(\n",
    "    iris.data, iris.target, test_size=0.1, random_state=42\n",
    ")\n",
    "X_train, X_valid, y_train, y_valid = train_test_split(\n",
    "    X_train_full, y_train_full, test_size=0.1, random_state=42\n",
    ")\n",
    "\n",
    "mlp_clf = MLPClassifier(hidden_layer_sizes=[5], max_iter=10_000, random_state=42)\n",
    "pipeline = make_pipeline(StandardScaler(), mlp_clf)\n",
    "pipeline.fit(X_train, y_train)\n",
    "accuracy = pipeline.score(X_valid, y_valid)\n",
    "accuracy\n"
   ]
  },
  {
   "attachments": {},
   "cell_type": "markdown",
   "metadata": {},
   "source": [
    "---"
   ]
  },
  {
   "attachments": {},
   "cell_type": "markdown",
   "metadata": {},
   "source": [
    "## **BUILDING MLPs WITH KERAS:**"
   ]
  },
  {
   "attachments": {},
   "cell_type": "markdown",
   "metadata": {},
   "source": [
    "### **BUILDING AN IMAGE CLASSIFIER USING THE SEQUENTIAL API:**"
   ]
  },
  {
   "attachments": {},
   "cell_type": "markdown",
   "metadata": {},
   "source": [
    "#### **USING KERAS TO LOAD THE DATASET:**"
   ]
  },
  {
   "attachments": {},
   "cell_type": "markdown",
   "metadata": {},
   "source": [
    "Let's start by loading the fashion MNIST dataset. Keras has a number of functions to load popular datasets in `tf.keras.datasets`. The dataset is already split for you between a training set (60,000 images) and a test set (10,000 images), but it can be useful to split the training set further to have a validation set. We'll use 55,000 images for training, and 5,000 for validation."
   ]
  },
  {
   "cell_type": "code",
   "execution_count": 8,
   "metadata": {},
   "outputs": [],
   "source": [
    "fashion_mnist = tf.keras.datasets.fashion_mnist.load_data()\n",
    "(X_train_full, y_train_full), (X_test, y_test) = fashion_mnist\n",
    "X_train, y_train = X_train_full[:-5000], y_train_full[:-5000]\n",
    "X_valid, y_valid = X_train_full[-5000:], y_train_full[-5000:]\n"
   ]
  },
  {
   "attachments": {},
   "cell_type": "markdown",
   "metadata": {},
   "source": [
    "The training set contains 60,000 grayscale images, each 28x28 pixels:"
   ]
  },
  {
   "cell_type": "code",
   "execution_count": 9,
   "metadata": {},
   "outputs": [
    {
     "data": {
      "text/plain": [
       "(55000, 28, 28)"
      ]
     },
     "execution_count": 9,
     "metadata": {},
     "output_type": "execute_result"
    }
   ],
   "source": [
    "X_train.shape\n"
   ]
  },
  {
   "attachments": {},
   "cell_type": "markdown",
   "metadata": {},
   "source": [
    "Each pixel intensity is represented as a byte (0 to 255):"
   ]
  },
  {
   "cell_type": "code",
   "execution_count": 10,
   "metadata": {},
   "outputs": [
    {
     "data": {
      "text/plain": [
       "dtype('uint8')"
      ]
     },
     "execution_count": 10,
     "metadata": {},
     "output_type": "execute_result"
    }
   ],
   "source": [
    "X_train.dtype\n"
   ]
  },
  {
   "attachments": {},
   "cell_type": "markdown",
   "metadata": {},
   "source": [
    "Let's scale the pixel intensities down to the 0-1 range and convert them to floats, by dividing by 255:"
   ]
  },
  {
   "cell_type": "code",
   "execution_count": 11,
   "metadata": {},
   "outputs": [],
   "source": [
    "X_train, X_valid, X_test = X_train / 255.0, X_valid / 255.0, X_test / 255.0\n"
   ]
  },
  {
   "attachments": {},
   "cell_type": "markdown",
   "metadata": {},
   "source": [
    "You can plot an image using Matplotlib's `imshow()` function, with a `'binary'`\n",
    " color map:"
   ]
  },
  {
   "cell_type": "code",
   "execution_count": 12,
   "metadata": {},
   "outputs": [
    {
     "data": {
      "image/png": "[encoded data removed]",
      "text/plain": [
       "<Figure size 432x288 with 1 Axes>"
      ]
     },
     "metadata": {
      "needs_background": "light"
     },
     "output_type": "display_data"
    }
   ],
   "source": [
    "# extra code\n",
    "\n",
    "plt.imshow(X_train[0], cmap=\"binary\")\n",
    "plt.axis(\"off\")\n",
    "plt.show()\n"
   ]
  },
  {
   "attachments": {},
   "cell_type": "markdown",
   "metadata": {},
   "source": [
    "The labels are the class IDs (represented as uint8), from 0 to 9:"
   ]
  },
  {
   "cell_type": "code",
   "execution_count": 13,
   "metadata": {},
   "outputs": [
    {
     "data": {
      "text/plain": [
       "array([9, 0, 0, ..., 9, 0, 2], dtype=uint8)"
      ]
     },
     "execution_count": 13,
     "metadata": {},
     "output_type": "execute_result"
    }
   ],
   "source": [
    "y_train\n"
   ]
  },
  {
   "attachments": {},
   "cell_type": "markdown",
   "metadata": {},
   "source": [
    "Here are the corresponding class names:"
   ]
  },
  {
   "cell_type": "code",
   "execution_count": 14,
   "metadata": {},
   "outputs": [],
   "source": [
    "class_names = [\n",
    "    \"T-shirt/top\",\n",
    "    \"Trouser\",\n",
    "    \"Pullover\",\n",
    "    \"Dress\",\n",
    "    \"Coat\",\n",
    "    \"Sandal\",\n",
    "    \"Shirt\",\n",
    "    \"Sneaker\",\n",
    "    \"Bag\",\n",
    "    \"Ankle boot\",\n",
    "]\n"
   ]
  },
  {
   "attachments": {},
   "cell_type": "markdown",
   "metadata": {},
   "source": [
    "So the first image in the training set is an ankle boot:"
   ]
  },
  {
   "cell_type": "code",
   "execution_count": 15,
   "metadata": {},
   "outputs": [
    {
     "data": {
      "text/plain": [
       "'Ankle boot'"
      ]
     },
     "execution_count": 15,
     "metadata": {},
     "output_type": "execute_result"
    }
   ],
   "source": [
    "class_names[y_train[0]]"
   ]
  },
  {
   "attachments": {},
   "cell_type": "markdown",
   "metadata": {},
   "source": [
    "Let's take a look at a sample of the images in the dataset:"
   ]
  },
  {
   "cell_type": "code",
   "execution_count": 16,
   "metadata": {},
   "outputs": [
    {
     "data": {
      "image/png": "[encoded data removed]",
      "text/plain": [
       "<Figure size 720x288 with 40 Axes>"
      ]
     },
     "metadata": {
      "needs_background": "light"
     },
     "output_type": "display_data"
    }
   ],
   "source": [
    "n_rows, n_cols = 4, 10\n",
    "plt.figure(figsize=(n_cols, n_rows))\n",
    "for row in range(n_rows):\n",
    "    for col in range(n_cols):\n",
    "        index = row * n_cols + col\n",
    "        plt.subplot(n_rows, n_cols, index + 1)\n",
    "        plt.imshow(X_train[index], cmap=\"binary\", interpolation=\"nearest\")\n",
    "        plt.axis(\"off\")\n",
    "        plt.title(class_names[y_train[index]])\n",
    "plt.subplots_adjust(wspace=0.2, hspace=0.5)\n",
    "\n",
    "save_fig(\"fashion_mnist_plot\")\n",
    "plt.show()\n"
   ]
  },
  {
   "attachments": {},
   "cell_type": "markdown",
   "metadata": {},
   "source": [
    "#### **CREATING THE MODEL USING THE SEQUENTIAL API:**"
   ]
  },
  {
   "cell_type": "code",
   "execution_count": 17,
   "metadata": {},
   "outputs": [],
   "source": [
    "tf.random.set_seed(42)\n",
    "model = tf.keras.Sequential()\n",
    "model.add(tf.keras.layers.InputLayer(input_shape=[28, 28]))\n",
    "model.add(tf.keras.layers.Flatten())\n",
    "model.add(tf.keras.layers.Dense(300, activation=\"relu\"))\n",
    "model.add(tf.keras.layers.Dense(100, activation=\"relu\"))\n",
    "model.add(tf.keras.layers.Dense(10, activation=\"softmax\"))\n"
   ]
  },
  {
   "cell_type": "code",
   "execution_count": 18,
   "metadata": {},
   "outputs": [],
   "source": [
    "tf.keras.backend.clear_session()\n",
    "tf.random.set_seed(42)\n",
    "\n",
    "model = tf.keras.Sequential(\n",
    "    [\n",
    "        tf.keras.layers.Flatten(input_shape=[28, 28]),\n",
    "        tf.keras.layers.Dense(300, activation=\"relu\"),\n",
    "        tf.keras.layers.Dense(100, activation=\"relu\"),\n",
    "        tf.keras.layers.Dense(10, activation=\"softmax\"),\n",
    "    ]\n",
    ")\n"
   ]
  },
  {
   "cell_type": "code",
   "execution_count": 19,
   "metadata": {},
   "outputs": [
    {
     "name": "stdout",
     "output_type": "stream",
     "text": [
      "Model: \"sequential\"\n",
      "_________________________________________________________________\n",
      " Layer (type)                Output Shape              Param #   \n",
      "=================================================================\n",
      " flatten (Flatten)           (None, 784)               0         \n",
      "                                                                 \n",
      " dense (Dense)               (None, 300)               235500    \n",
      "                                                                 \n",
      " dense_1 (Dense)             (None, 100)               30100     \n",
      "                                                                 \n",
      " dense_2 (Dense)             (None, 10)                1010      \n",
      "                                                                 \n",
      "=================================================================\n",
      "Total params: 266,610\n",
      "Trainable params: 266,610\n",
      "Non-trainable params: 0\n",
      "_________________________________________________________________\n"
     ]
    }
   ],
   "source": [
    "model.summary()"
   ]
  },
  {
   "cell_type": "code",
   "execution_count": 20,
   "metadata": {},
   "outputs": [
    {
     "data": {
      "image/png": "[encoded data removed]",
      "text/plain": [
       "<IPython.core.display.Image object>"
      ]
     },
     "execution_count": 20,
     "metadata": {},
     "output_type": "execute_result"
    }
   ],
   "source": [
    "tf.keras.utils.plot_model(model, \"images/my_fashion_mnist_model.png\", show_shapes=True)\n"
   ]
  },
  {
   "cell_type": "code",
   "execution_count": 21,
   "metadata": {},
   "outputs": [
    {
     "data": {
      "text/plain": [
       "[<keras.layers.reshaping.flatten.Flatten at 0x19da3ba90f0>,\n",
       " <keras.layers.core.dense.Dense at 0x19dc4ced7b0>,\n",
       " <keras.layers.core.dense.Dense at 0x19dc4ceeb00>,\n",
       " <keras.layers.core.dense.Dense at 0x19dc4cee770>]"
      ]
     },
     "execution_count": 21,
     "metadata": {},
     "output_type": "execute_result"
    }
   ],
   "source": [
    "model.layers"
   ]
  },
  {
   "cell_type": "code",
   "execution_count": 22,
   "metadata": {},
   "outputs": [
    {
     "data": {
      "text/plain": [
       "'dense'"
      ]
     },
     "execution_count": 22,
     "metadata": {},
     "output_type": "execute_result"
    }
   ],
   "source": [
    "hidden1 = model.layers[1]\n",
    "hidden1.name"
   ]
  },
  {
   "cell_type": "code",
   "execution_count": 23,
   "metadata": {},
   "outputs": [
    {
     "data": {
      "text/plain": [
       "True"
      ]
     },
     "execution_count": 23,
     "metadata": {},
     "output_type": "execute_result"
    }
   ],
   "source": [
    "model.get_layer(\"dense\") is hidden1\n"
   ]
  },
  {
   "cell_type": "code",
   "execution_count": 24,
   "metadata": {},
   "outputs": [
    {
     "data": {
      "text/plain": [
       "array([[ 0.01645468, -0.06813422,  0.01170718, ...,  0.02082995,\n",
       "        -0.0560083 , -0.01672539],\n",
       "       [ 0.01341388,  0.05079025, -0.01869758, ..., -0.03610948,\n",
       "        -0.06299131,  0.0603549 ],\n",
       "       [ 0.00513266,  0.05583337,  0.04468029, ..., -0.00138228,\n",
       "        -0.0326555 , -0.07354385],\n",
       "       ...,\n",
       "       [-0.02000315,  0.01102023,  0.04589748, ...,  0.0694903 ,\n",
       "        -0.05121062, -0.01250533],\n",
       "       [-0.01862317, -0.01476263,  0.03332251, ...,  0.06518248,\n",
       "         0.0628998 , -0.06573164],\n",
       "       [ 0.06968552, -0.02550798, -0.04241037, ..., -0.00979598,\n",
       "        -0.00245433, -0.0735506 ]], dtype=float32)"
      ]
     },
     "execution_count": 24,
     "metadata": {},
     "output_type": "execute_result"
    }
   ],
   "source": [
    "weights, biases = hidden1.get_weights()\n",
    "weights"
   ]
  },
  {
   "cell_type": "code",
   "execution_count": 25,
   "metadata": {},
   "outputs": [
    {
     "data": {
      "text/plain": [
       "(784, 300)"
      ]
     },
     "execution_count": 25,
     "metadata": {},
     "output_type": "execute_result"
    }
   ],
   "source": [
    "weights.shape"
   ]
  },
  {
   "cell_type": "code",
   "execution_count": 26,
   "metadata": {},
   "outputs": [
    {
     "data": {
      "text/plain": [
       "array([0., 0., 0., 0., 0., 0., 0., 0., 0., 0., 0., 0., 0., 0., 0., 0., 0.,\n",
       "       0., 0., 0., 0., 0., 0., 0., 0., 0., 0., 0., 0., 0., 0., 0., 0., 0.,\n",
       "       0., 0., 0., 0., 0., 0., 0., 0., 0., 0., 0., 0., 0., 0., 0., 0., 0.,\n",
       "       0., 0., 0., 0., 0., 0., 0., 0., 0., 0., 0., 0., 0., 0., 0., 0., 0.,\n",
       "       0., 0., 0., 0., 0., 0., 0., 0., 0., 0., 0., 0., 0., 0., 0., 0., 0.,\n",
       "       0., 0., 0., 0., 0., 0., 0., 0., 0., 0., 0., 0., 0., 0., 0., 0., 0.,\n",
       "       0., 0., 0., 0., 0., 0., 0., 0., 0., 0., 0., 0., 0., 0., 0., 0., 0.,\n",
       "       0., 0., 0., 0., 0., 0., 0., 0., 0., 0., 0., 0., 0., 0., 0., 0., 0.,\n",
       "       0., 0., 0., 0., 0., 0., 0., 0., 0., 0., 0., 0., 0., 0., 0., 0., 0.,\n",
       "       0., 0., 0., 0., 0., 0., 0., 0., 0., 0., 0., 0., 0., 0., 0., 0., 0.,\n",
       "       0., 0., 0., 0., 0., 0., 0., 0., 0., 0., 0., 0., 0., 0., 0., 0., 0.,\n",
       "       0., 0., 0., 0., 0., 0., 0., 0., 0., 0., 0., 0., 0., 0., 0., 0., 0.,\n",
       "       0., 0., 0., 0., 0., 0., 0., 0., 0., 0., 0., 0., 0., 0., 0., 0., 0.,\n",
       "       0., 0., 0., 0., 0., 0., 0., 0., 0., 0., 0., 0., 0., 0., 0., 0., 0.,\n",
       "       0., 0., 0., 0., 0., 0., 0., 0., 0., 0., 0., 0., 0., 0., 0., 0., 0.,\n",
       "       0., 0., 0., 0., 0., 0., 0., 0., 0., 0., 0., 0., 0., 0., 0., 0., 0.,\n",
       "       0., 0., 0., 0., 0., 0., 0., 0., 0., 0., 0., 0., 0., 0., 0., 0., 0.,\n",
       "       0., 0., 0., 0., 0., 0., 0., 0., 0., 0., 0.], dtype=float32)"
      ]
     },
     "execution_count": 26,
     "metadata": {},
     "output_type": "execute_result"
    }
   ],
   "source": [
    "biases"
   ]
  },
  {
   "cell_type": "code",
   "execution_count": 27,
   "metadata": {},
   "outputs": [
    {
     "data": {
      "text/plain": [
       "(300,)"
      ]
     },
     "execution_count": 27,
     "metadata": {},
     "output_type": "execute_result"
    }
   ],
   "source": [
    "biases.shape"
   ]
  },
  {
   "attachments": {},
   "cell_type": "markdown",
   "metadata": {},
   "source": [
    "#### **COMPILING THE MODEL:**"
   ]
  },
  {
   "cell_type": "code",
   "execution_count": 28,
   "metadata": {},
   "outputs": [],
   "source": [
    "model.compile(\n",
    "    loss=\"sparse_categorical_crossentropy\",\n",
    "    optimizer=\"sgd\",\n",
    "    metrics=[\"accuracy\"],\n",
    ")\n"
   ]
  },
  {
   "attachments": {},
   "cell_type": "markdown",
   "metadata": {},
   "source": [
    "This is equivalent to:"
   ]
  },
  {
   "cell_type": "code",
   "execution_count": 29,
   "metadata": {},
   "outputs": [],
   "source": [
    "model.compile(\n",
    "    loss=tf.keras.losses.sparse_categorical_crossentropy,\n",
    "    optimizer=tf.keras.optimizers.SGD(),\n",
    "    metrics=[tf.keras.metrics.sparse_categorical_accuracy],\n",
    ")\n"
   ]
  },
  {
   "cell_type": "code",
   "execution_count": 30,
   "metadata": {},
   "outputs": [
    {
     "data": {
      "text/plain": [
       "array([[1., 0., 0., 0., 0., 0., 0., 0., 0., 0.],\n",
       "       [0., 0., 0., 0., 0., 1., 0., 0., 0., 0.],\n",
       "       [0., 1., 0., 0., 0., 0., 0., 0., 0., 0.],\n",
       "       [1., 0., 0., 0., 0., 0., 0., 0., 0., 0.]], dtype=float32)"
      ]
     },
     "execution_count": 30,
     "metadata": {},
     "output_type": "execute_result"
    }
   ],
   "source": [
    "# extra code – shows how to convert class ids to one-hot vectors\n",
    "tf.keras.utils.to_categorical([0, 5, 1, 0], num_classes=10)\n"
   ]
  },
  {
   "attachments": {},
   "cell_type": "markdown",
   "metadata": {},
   "source": [
    "Note: it's important to set `num_classes` when the number of classes is greater than the maximum class id in the sample."
   ]
  },
  {
   "cell_type": "code",
   "execution_count": 31,
   "metadata": {},
   "outputs": [
    {
     "data": {
      "text/plain": [
       "array([0, 5, 1, 0], dtype=int64)"
      ]
     },
     "execution_count": 31,
     "metadata": {},
     "output_type": "execute_result"
    }
   ],
   "source": [
    "# extra code – shows how to convert one-hot vectors to class ids\n",
    "np.argmax(\n",
    "    [\n",
    "        [1.0, 0.0, 0.0, 0.0, 0.0, 0.0, 0.0, 0.0, 0.0, 0.0],\n",
    "        [0.0, 0.0, 0.0, 0.0, 0.0, 1.0, 0.0, 0.0, 0.0, 0.0],\n",
    "        [0.0, 1.0, 0.0, 0.0, 0.0, 0.0, 0.0, 0.0, 0.0, 0.0],\n",
    "        [1.0, 0.0, 0.0, 0.0, 0.0, 0.0, 0.0, 0.0, 0.0, 0.0],\n",
    "    ],\n",
    "    axis=1,\n",
    ")\n"
   ]
  },
  {
   "attachments": {},
   "cell_type": "markdown",
   "metadata": {},
   "source": [
    "#### **TRAINING AND EVALUATING THE MODEL:**"
   ]
  },
  {
   "cell_type": "code",
   "execution_count": 32,
   "metadata": {},
   "outputs": [
    {
     "name": "stdout",
     "output_type": "stream",
     "text": [
      "Epoch 1/30\n",
      "1719/1719 [==============================] - 4s 2ms/step - loss: 0.7162 - sparse_categorical_accuracy: 0.7649 - val_loss: 0.5044 - val_sparse_categorical_accuracy: 0.8272\n",
      "Epoch 2/30\n",
      "1719/1719 [==============================] - 3s 2ms/step - loss: 0.4872 - sparse_categorical_accuracy: 0.8309 - val_loss: 0.4601 - val_sparse_categorical_accuracy: 0.8342\n",
      "Epoch 3/30\n",
      "1719/1719 [==============================] - 3s 2ms/step - loss: 0.4411 - sparse_categorical_accuracy: 0.8449 - val_loss: 0.4255 - val_sparse_categorical_accuracy: 0.8516\n",
      "Epoch 4/30\n",
      "1719/1719 [==============================] - 3s 2ms/step - loss: 0.4168 - sparse_categorical_accuracy: 0.8541 - val_loss: 0.3970 - val_sparse_categorical_accuracy: 0.8620\n",
      "Epoch 5/30\n",
      "1719/1719 [==============================] - 3s 2ms/step - loss: 0.3962 - sparse_categorical_accuracy: 0.8613 - val_loss: 0.3925 - val_sparse_categorical_accuracy: 0.8614\n",
      "Epoch 6/30\n",
      "1719/1719 [==============================] - 3s 2ms/step - loss: 0.3795 - sparse_categorical_accuracy: 0.8664 - val_loss: 0.3995 - val_sparse_categorical_accuracy: 0.8620\n",
      "Epoch 7/30\n",
      "1719/1719 [==============================] - 3s 2ms/step - loss: 0.3673 - sparse_categorical_accuracy: 0.8701 - val_loss: 0.3762 - val_sparse_categorical_accuracy: 0.8680\n",
      "Epoch 8/30\n",
      "1719/1719 [==============================] - 3s 2ms/step - loss: 0.3559 - sparse_categorical_accuracy: 0.8740 - val_loss: 0.3774 - val_sparse_categorical_accuracy: 0.8640\n",
      "Epoch 9/30\n",
      "1719/1719 [==============================] - 3s 2ms/step - loss: 0.3448 - sparse_categorical_accuracy: 0.8772 - val_loss: 0.3524 - val_sparse_categorical_accuracy: 0.8758\n",
      "Epoch 10/30\n",
      "1719/1719 [==============================] - 3s 2ms/step - loss: 0.3349 - sparse_categorical_accuracy: 0.8805 - val_loss: 0.3544 - val_sparse_categorical_accuracy: 0.8714\n",
      "Epoch 11/30\n",
      "1719/1719 [==============================] - 3s 2ms/step - loss: 0.3261 - sparse_categorical_accuracy: 0.8837 - val_loss: 0.3741 - val_sparse_categorical_accuracy: 0.8662\n",
      "Epoch 12/30\n",
      "1719/1719 [==============================] - 3s 2ms/step - loss: 0.3188 - sparse_categorical_accuracy: 0.8863 - val_loss: 0.3506 - val_sparse_categorical_accuracy: 0.8724\n",
      "Epoch 13/30\n",
      "1719/1719 [==============================] - 3s 2ms/step - loss: 0.3110 - sparse_categorical_accuracy: 0.8891 - val_loss: 0.3324 - val_sparse_categorical_accuracy: 0.8796\n",
      "Epoch 14/30\n",
      "1719/1719 [==============================] - 3s 2ms/step - loss: 0.3042 - sparse_categorical_accuracy: 0.8911 - val_loss: 0.3436 - val_sparse_categorical_accuracy: 0.8800\n",
      "Epoch 15/30\n",
      "1719/1719 [==============================] - 3s 2ms/step - loss: 0.2980 - sparse_categorical_accuracy: 0.8931 - val_loss: 0.3359 - val_sparse_categorical_accuracy: 0.8822\n",
      "Epoch 16/30\n",
      "1719/1719 [==============================] - 3s 2ms/step - loss: 0.2912 - sparse_categorical_accuracy: 0.8951 - val_loss: 0.3327 - val_sparse_categorical_accuracy: 0.8788\n",
      "Epoch 17/30\n",
      "1719/1719 [==============================] - 3s 2ms/step - loss: 0.2860 - sparse_categorical_accuracy: 0.8973 - val_loss: 0.3388 - val_sparse_categorical_accuracy: 0.8772\n",
      "Epoch 18/30\n",
      "1719/1719 [==============================] - 3s 2ms/step - loss: 0.2801 - sparse_categorical_accuracy: 0.8991 - val_loss: 0.3289 - val_sparse_categorical_accuracy: 0.8854\n",
      "Epoch 19/30\n",
      "1719/1719 [==============================] - 3s 2ms/step - loss: 0.2753 - sparse_categorical_accuracy: 0.9001 - val_loss: 0.3707 - val_sparse_categorical_accuracy: 0.8666\n",
      "Epoch 20/30\n",
      "1719/1719 [==============================] - 3s 2ms/step - loss: 0.2701 - sparse_categorical_accuracy: 0.9034 - val_loss: 0.3245 - val_sparse_categorical_accuracy: 0.8824\n",
      "Epoch 21/30\n",
      "1719/1719 [==============================] - 3s 2ms/step - loss: 0.2650 - sparse_categorical_accuracy: 0.9043 - val_loss: 0.3188 - val_sparse_categorical_accuracy: 0.8826\n",
      "Epoch 22/30\n",
      "1719/1719 [==============================] - 3s 2ms/step - loss: 0.2603 - sparse_categorical_accuracy: 0.9058 - val_loss: 0.3158 - val_sparse_categorical_accuracy: 0.8838\n",
      "Epoch 23/30\n",
      "1719/1719 [==============================] - 3s 2ms/step - loss: 0.2562 - sparse_categorical_accuracy: 0.9082 - val_loss: 0.3480 - val_sparse_categorical_accuracy: 0.8748\n",
      "Epoch 24/30\n",
      "1719/1719 [==============================] - 3s 2ms/step - loss: 0.2505 - sparse_categorical_accuracy: 0.9102 - val_loss: 0.3221 - val_sparse_categorical_accuracy: 0.8852\n",
      "Epoch 25/30\n",
      "1719/1719 [==============================] - 3s 2ms/step - loss: 0.2467 - sparse_categorical_accuracy: 0.9112 - val_loss: 0.3173 - val_sparse_categorical_accuracy: 0.8864\n",
      "Epoch 26/30\n",
      "1719/1719 [==============================] - 4s 2ms/step - loss: 0.2430 - sparse_categorical_accuracy: 0.9129 - val_loss: 0.3137 - val_sparse_categorical_accuracy: 0.8864\n",
      "Epoch 27/30\n",
      "1719/1719 [==============================] - 4s 2ms/step - loss: 0.2372 - sparse_categorical_accuracy: 0.9145 - val_loss: 0.3225 - val_sparse_categorical_accuracy: 0.8812\n",
      "Epoch 28/30\n",
      "1719/1719 [==============================] - 3s 2ms/step - loss: 0.2345 - sparse_categorical_accuracy: 0.9161 - val_loss: 0.3131 - val_sparse_categorical_accuracy: 0.8866\n",
      "Epoch 29/30\n",
      "1719/1719 [==============================] - 4s 2ms/step - loss: 0.2308 - sparse_categorical_accuracy: 0.9168 - val_loss: 0.3171 - val_sparse_categorical_accuracy: 0.8840\n",
      "Epoch 30/30\n",
      "1719/1719 [==============================] - 3s 2ms/step - loss: 0.2272 - sparse_categorical_accuracy: 0.9194 - val_loss: 0.3087 - val_sparse_categorical_accuracy: 0.8894\n"
     ]
    }
   ],
   "source": [
    "history = model.fit(\n",
    "    X_train,\n",
    "    y_train,\n",
    "    epochs=30,\n",
    "    validation_data=(X_valid, y_valid),\n",
    ")\n"
   ]
  },
  {
   "cell_type": "code",
   "execution_count": 33,
   "metadata": {},
   "outputs": [
    {
     "data": {
      "text/plain": [
       "{'verbose': 1, 'epochs': 30, 'steps': 1719}"
      ]
     },
     "execution_count": 33,
     "metadata": {},
     "output_type": "execute_result"
    }
   ],
   "source": [
    "history.params"
   ]
  },
  {
   "cell_type": "code",
   "execution_count": 34,
   "metadata": {},
   "outputs": [
    {
     "name": "stdout",
     "output_type": "stream",
     "text": [
      "[0, 1, 2, 3, 4, 5, 6, 7, 8, 9, 10, 11, 12, 13, 14, 15, 16, 17, 18, 19, 20, 21, 22, 23, 24, 25, 26, 27, 28, 29]\n"
     ]
    }
   ],
   "source": [
    "print(history.epoch)"
   ]
  },
  {
   "cell_type": "code",
   "execution_count": 35,
   "metadata": {},
   "outputs": [
    {
     "data": {
      "image/png": "[encoded data removed]",
      "text/plain": [
       "<Figure size 576x360 with 1 Axes>"
      ]
     },
     "metadata": {
      "needs_background": "light"
     },
     "output_type": "display_data"
    }
   ],
   "source": [
    "pd.DataFrame(history.history).plot(\n",
    "    figsize=(8, 5),\n",
    "    xlim=[0, 29],\n",
    "    ylim=[0, 1],\n",
    "    grid=True,\n",
    "    xlabel=\"Epoch\",\n",
    "    style=[\"r--\", \"r--.\", \"b-\", \"b-*\"],\n",
    ")\n",
    "plt.legend(loc=\"lower left\")  # extra code\n",
    "save_fig(\"keras_learning_curves_plot\")  # extra code\n",
    "plt.show()\n"
   ]
  },
  {
   "cell_type": "code",
   "execution_count": 36,
   "metadata": {},
   "outputs": [
    {
     "data": {
      "image/png": "[encoded data removed]",
      "text/plain": [
       "<Figure size 576x360 with 1 Axes>"
      ]
     },
     "metadata": {
      "needs_background": "light"
     },
     "output_type": "display_data"
    }
   ],
   "source": [
    "# extra code – shows how to shift the training curve by -1/2 epoch\n",
    "plt.figure(figsize=(8, 5))\n",
    "for key, style in zip(history.history, [\"r--\", \"r--.\", \"b-\", \"b-*\"]):\n",
    "    epochs = np.array(history.epoch) + (0 if key.startswith(\"val_\") else -0.5)\n",
    "    plt.plot(epochs, history.history[key], style, label=key)\n",
    "plt.xlabel(\"Epoch\")\n",
    "plt.axis([-0.5, 29, 0.0, 1])\n",
    "plt.legend(loc=\"lower left\")\n",
    "plt.show()\n"
   ]
  },
  {
   "cell_type": "code",
   "execution_count": 37,
   "metadata": {},
   "outputs": [
    {
     "name": "stdout",
     "output_type": "stream",
     "text": [
      "313/313 [==============================] - 1s 2ms/step - loss: 0.3267 - sparse_categorical_accuracy: 0.8847\n"
     ]
    },
    {
     "data": {
      "text/plain": [
       "[0.3266528844833374, 0.8847000002861023]"
      ]
     },
     "execution_count": 37,
     "metadata": {},
     "output_type": "execute_result"
    }
   ],
   "source": [
    "model.evaluate(X_test, y_test)"
   ]
  },
  {
   "attachments": {},
   "cell_type": "markdown",
   "metadata": {},
   "source": [
    "#### **USING THE MODEL TO MAKE PREDICTIONS:**"
   ]
  },
  {
   "cell_type": "code",
   "execution_count": 38,
   "metadata": {},
   "outputs": [
    {
     "name": "stdout",
     "output_type": "stream",
     "text": [
      "1/1 [==============================] - 0s 94ms/step\n"
     ]
    },
    {
     "data": {
      "text/plain": [
       "array([[0.  , 0.  , 0.  , 0.  , 0.  , 0.01, 0.  , 0.03, 0.  , 0.96],\n",
       "       [0.  , 0.  , 1.  , 0.  , 0.  , 0.  , 0.  , 0.  , 0.  , 0.  ],\n",
       "       [0.  , 1.  , 0.  , 0.  , 0.  , 0.  , 0.  , 0.  , 0.  , 0.  ]],\n",
       "      dtype=float32)"
      ]
     },
     "execution_count": 38,
     "metadata": {},
     "output_type": "execute_result"
    }
   ],
   "source": [
    "X_new = X_test[:3]\n",
    "y_proba = model.predict(X_new)\n",
    "y_proba.round(2)\n"
   ]
  },
  {
   "cell_type": "code",
   "execution_count": 39,
   "metadata": {},
   "outputs": [
    {
     "data": {
      "text/plain": [
       "array([9, 2, 1], dtype=int64)"
      ]
     },
     "execution_count": 39,
     "metadata": {},
     "output_type": "execute_result"
    }
   ],
   "source": [
    "y_pred = y_proba.argmax(axis=1)\n",
    "y_pred"
   ]
  },
  {
   "cell_type": "code",
   "execution_count": 40,
   "metadata": {},
   "outputs": [
    {
     "data": {
      "text/plain": [
       "array(['Ankle boot', 'Pullover', 'Trouser'], dtype='<U11')"
      ]
     },
     "execution_count": 40,
     "metadata": {},
     "output_type": "execute_result"
    }
   ],
   "source": [
    "np.array(class_names)[y_pred]"
   ]
  },
  {
   "cell_type": "code",
   "execution_count": 41,
   "metadata": {},
   "outputs": [
    {
     "data": {
      "text/plain": [
       "array([9, 2, 1], dtype=uint8)"
      ]
     },
     "execution_count": 41,
     "metadata": {},
     "output_type": "execute_result"
    }
   ],
   "source": [
    "y_new = y_test[:3]\n",
    "y_new"
   ]
  },
  {
   "cell_type": "code",
   "execution_count": 42,
   "metadata": {},
   "outputs": [
    {
     "data": {
      "image/png": "[encoded data removed]",
      "text/plain": [
       "<Figure size 518.4x172.8 with 3 Axes>"
      ]
     },
     "metadata": {
      "needs_background": "light"
     },
     "output_type": "display_data"
    }
   ],
   "source": [
    "# extra code – this cell generates and saves Figure 10–12\n",
    "plt.figure(figsize=(7.2, 2.4))\n",
    "for index, image in enumerate(X_new):\n",
    "    plt.subplot(1, 3, index + 1)\n",
    "    plt.imshow(image, cmap=\"binary\", interpolation=\"nearest\")\n",
    "    plt.axis(\"off\")\n",
    "    plt.title(class_names[y_test[index]])\n",
    "plt.subplots_adjust(wspace=0.2, hspace=0.5)\n",
    "save_fig(\"fashion_mnist_images_plot\", tight_layout=False)\n",
    "plt.show()\n"
   ]
  },
  {
   "attachments": {},
   "cell_type": "markdown",
   "metadata": {},
   "source": [
    "### **BUILDING A REGRESSION MLP USING THE SEQUENTIAL API:**"
   ]
  },
  {
   "attachments": {},
   "cell_type": "markdown",
   "metadata": {},
   "source": [
    "Let's load, split and scale the California housing dataset (the original one, not the modified one as in chapter 2):"
   ]
  },
  {
   "cell_type": "code",
   "execution_count": 43,
   "metadata": {},
   "outputs": [],
   "source": [
    "# extra code – load and split the California housing dataset, like earlier\n",
    "housing = fetch_california_housing()\n",
    "X_train_full, X_test, y_train_full, y_test = train_test_split(\n",
    "    housing.data, housing.target, random_state=42\n",
    ")\n",
    "X_train, X_valid, y_train, y_valid = train_test_split(\n",
    "    X_train_full, y_train_full, random_state=42\n",
    ")\n"
   ]
  },
  {
   "cell_type": "code",
   "execution_count": 44,
   "metadata": {},
   "outputs": [
    {
     "name": "stdout",
     "output_type": "stream",
     "text": [
      "Epoch 1/20\n",
      "363/363 [==============================] - 1s 2ms/step - loss: 0.9589 - root_mean_squared_error: 0.9792 - val_loss: 0.9464 - val_root_mean_squared_error: 0.9728\n",
      "Epoch 2/20\n",
      "363/363 [==============================] - 1s 2ms/step - loss: 0.3859 - root_mean_squared_error: 0.6212 - val_loss: 1.6525 - val_root_mean_squared_error: 1.2855\n",
      "Epoch 3/20\n",
      "363/363 [==============================] - 1s 1ms/step - loss: 0.3657 - root_mean_squared_error: 0.6047 - val_loss: 0.3448 - val_root_mean_squared_error: 0.5872\n",
      "Epoch 4/20\n",
      "363/363 [==============================] - 1s 2ms/step - loss: 0.3451 - root_mean_squared_error: 0.5874 - val_loss: 1.1383 - val_root_mean_squared_error: 1.0669\n",
      "Epoch 5/20\n",
      "363/363 [==============================] - 0s 1ms/step - loss: 0.3322 - root_mean_squared_error: 0.5763 - val_loss: 2.9808 - val_root_mean_squared_error: 1.7265\n",
      "Epoch 6/20\n",
      "363/363 [==============================] - 1s 2ms/step - loss: 0.3465 - root_mean_squared_error: 0.5886 - val_loss: 0.9953 - val_root_mean_squared_error: 0.9977\n",
      "Epoch 7/20\n",
      "363/363 [==============================] - 0s 1ms/step - loss: 0.3207 - root_mean_squared_error: 0.5663 - val_loss: 0.3352 - val_root_mean_squared_error: 0.5790\n",
      "Epoch 8/20\n",
      "363/363 [==============================] - 0s 1ms/step - loss: 0.3053 - root_mean_squared_error: 0.5526 - val_loss: 0.3353 - val_root_mean_squared_error: 0.5791\n",
      "Epoch 9/20\n",
      "363/363 [==============================] - 0s 1ms/step - loss: 0.3016 - root_mean_squared_error: 0.5492 - val_loss: 0.2991 - val_root_mean_squared_error: 0.5469\n",
      "Epoch 10/20\n",
      "363/363 [==============================] - 0s 1ms/step - loss: 0.2953 - root_mean_squared_error: 0.5434 - val_loss: 0.4426 - val_root_mean_squared_error: 0.6653\n",
      "Epoch 11/20\n",
      "363/363 [==============================] - 0s 1ms/step - loss: 0.2913 - root_mean_squared_error: 0.5397 - val_loss: 0.2911 - val_root_mean_squared_error: 0.5395\n",
      "Epoch 12/20\n",
      "363/363 [==============================] - 0s 1ms/step - loss: 0.2978 - root_mean_squared_error: 0.5457 - val_loss: 0.4404 - val_root_mean_squared_error: 0.6636\n",
      "Epoch 13/20\n",
      "363/363 [==============================] - 0s 1ms/step - loss: 0.2880 - root_mean_squared_error: 0.5367 - val_loss: 0.2873 - val_root_mean_squared_error: 0.5360\n",
      "Epoch 14/20\n",
      "363/363 [==============================] - 0s 1ms/step - loss: 0.2853 - root_mean_squared_error: 0.5342 - val_loss: 0.2886 - val_root_mean_squared_error: 0.5372\n",
      "Epoch 15/20\n",
      "363/363 [==============================] - 0s 1ms/step - loss: 0.2863 - root_mean_squared_error: 0.5351 - val_loss: 0.3499 - val_root_mean_squared_error: 0.5915\n",
      "Epoch 16/20\n",
      "363/363 [==============================] - 0s 1ms/step - loss: 0.2841 - root_mean_squared_error: 0.5330 - val_loss: 0.3182 - val_root_mean_squared_error: 0.5641\n",
      "Epoch 17/20\n",
      "363/363 [==============================] - 0s 1ms/step - loss: 0.2803 - root_mean_squared_error: 0.5294 - val_loss: 0.5960 - val_root_mean_squared_error: 0.7720\n",
      "Epoch 18/20\n",
      "363/363 [==============================] - 0s 1ms/step - loss: 0.2763 - root_mean_squared_error: 0.5257 - val_loss: 0.2854 - val_root_mean_squared_error: 0.5342\n",
      "Epoch 19/20\n",
      "363/363 [==============================] - 0s 1ms/step - loss: 0.2719 - root_mean_squared_error: 0.5214 - val_loss: 0.3208 - val_root_mean_squared_error: 0.5664\n",
      "Epoch 20/20\n",
      "363/363 [==============================] - 0s 1ms/step - loss: 0.2774 - root_mean_squared_error: 0.5267 - val_loss: 0.3371 - val_root_mean_squared_error: 0.5806\n",
      "162/162 [==============================] - 0s 863us/step - loss: 0.2851 - root_mean_squared_error: 0.5339\n",
      "1/1 [==============================] - 0s 59ms/step\n"
     ]
    }
   ],
   "source": [
    "tf.random.set_seed(42)\n",
    "\n",
    "norm_layer = tf.keras.layers.Normalization(input_shape=X_train.shape[1:])\n",
    "model = tf.keras.Sequential(\n",
    "    [\n",
    "        norm_layer,\n",
    "        tf.keras.layers.Dense(50, activation=\"relu\"),\n",
    "        tf.keras.layers.Dense(50, activation=\"relu\"),\n",
    "        tf.keras.layers.Dense(50, activation=\"relu\"),\n",
    "        tf.keras.layers.Dense(1),\n",
    "    ]\n",
    ")\n",
    "\n",
    "optimizer = tf.keras.optimizers.Adam(learning_rate=1e-3)\n",
    "model.compile(optimizer=optimizer, loss=\"mse\", metrics=[\"RootMeanSquaredError\"])\n",
    "\n",
    "norm_layer.adapt(X_train)\n",
    "history = model.fit(\n",
    "    X_train,\n",
    "    y_train,\n",
    "    epochs=20,\n",
    "    validation_data=(X_valid, y_valid),\n",
    ")\n",
    "mse_test, rmse_test = model.evaluate(X_test, y_test)\n",
    "X_new = X_test[:3]\n",
    "y_pred = model.predict(X_new)\n"
   ]
  },
  {
   "cell_type": "code",
   "execution_count": 45,
   "metadata": {},
   "outputs": [
    {
     "data": {
      "text/plain": [
       "0.5339433550834656"
      ]
     },
     "execution_count": 45,
     "metadata": {},
     "output_type": "execute_result"
    }
   ],
   "source": [
    "rmse_test"
   ]
  },
  {
   "cell_type": "code",
   "execution_count": 46,
   "metadata": {},
   "outputs": [
    {
     "data": {
      "text/plain": [
       "array([[0.5344787],\n",
       "       [0.994818 ],\n",
       "       [5.0979853]], dtype=float32)"
      ]
     },
     "execution_count": 46,
     "metadata": {},
     "output_type": "execute_result"
    }
   ],
   "source": [
    "y_pred"
   ]
  },
  {
   "attachments": {},
   "cell_type": "markdown",
   "metadata": {},
   "source": [
    "### **BUILDING COMPLEX MODELS USING THE FUNCTIONAL API:**"
   ]
  },
  {
   "attachments": {},
   "cell_type": "markdown",
   "metadata": {},
   "source": [
    "Not all neural network models are simply sequential. Some may have complex topologies. Some may have multiple inputs and/or multiple outputs. For example, a Wide & Deep neural network (see [paper](https://ai.google/research/pubs/pub45413)) connects all or part of the inputs directly to the output layer."
   ]
  },
  {
   "cell_type": "code",
   "execution_count": 47,
   "metadata": {},
   "outputs": [
    {
     "name": "stdout",
     "output_type": "stream",
     "text": [
      "Model: \"model\"\n",
      "__________________________________________________________________________________________________\n",
      " Layer (type)                   Output Shape         Param #     Connected to                     \n",
      "==================================================================================================\n",
      " input_1 (InputLayer)           [(None, 8)]          0           []                               \n",
      "                                                                                                  \n",
      " normalization (Normalization)  (None, 8)            17          ['input_1[0][0]']                \n",
      "                                                                                                  \n",
      " dense (Dense)                  (None, 30)           270         ['normalization[0][0]']          \n",
      "                                                                                                  \n",
      " dense_1 (Dense)                (None, 30)           930         ['dense[0][0]']                  \n",
      "                                                                                                  \n",
      " concatenate (Concatenate)      (None, 38)           0           ['normalization[0][0]',          \n",
      "                                                                  'dense_1[0][0]']                \n",
      "                                                                                                  \n",
      " dense_2 (Dense)                (None, 1)            39          ['concatenate[0][0]']            \n",
      "                                                                                                  \n",
      "==================================================================================================\n",
      "Total params: 1,256\n",
      "Trainable params: 1,239\n",
      "Non-trainable params: 17\n",
      "__________________________________________________________________________________________________\n"
     ]
    }
   ],
   "source": [
    "tf.keras.backend.clear_session()\n",
    "tf.random.set_seed(42)\n",
    "\n",
    "normalization_layer = tf.keras.layers.Normalization()\n",
    "hidden_layer1 = tf.keras.layers.Dense(30, activation=\"relu\")\n",
    "hidden_layer2 = tf.keras.layers.Dense(30, activation=\"relu\")\n",
    "concat_layer = tf.keras.layers.Concatenate()\n",
    "output_layer = tf.keras.layers.Dense(1)\n",
    "\n",
    "input_ = tf.keras.layers.Input(shape=X_train.shape[1:])\n",
    "normalized = normalization_layer(input_)\n",
    "hidden1 = hidden_layer1(normalized)\n",
    "hidden2 = hidden_layer2(hidden1)\n",
    "concat = concat_layer([normalized, hidden2])\n",
    "output = output_layer(concat)\n",
    "\n",
    "model = tf.keras.Model(inputs=[input_], outputs=[output])\n",
    "model.summary()\n"
   ]
  },
  {
   "cell_type": "code",
   "execution_count": 48,
   "metadata": {},
   "outputs": [
    {
     "name": "stdout",
     "output_type": "stream",
     "text": [
      "Epoch 1/20\n",
      "363/363 [==============================] - 1s 2ms/step - loss: 1.2477 - root_mean_squared_error: 1.1170 - val_loss: 2.9113 - val_root_mean_squared_error: 1.7062\n",
      "Epoch 2/20\n",
      "363/363 [==============================] - 0s 1ms/step - loss: 0.4687 - root_mean_squared_error: 0.6846 - val_loss: 1.7614 - val_root_mean_squared_error: 1.3272\n",
      "Epoch 3/20\n",
      "363/363 [==============================] - 0s 1ms/step - loss: 0.4023 - root_mean_squared_error: 0.6343 - val_loss: 0.5310 - val_root_mean_squared_error: 0.7287\n",
      "Epoch 4/20\n",
      "363/363 [==============================] - 1s 2ms/step - loss: 0.3690 - root_mean_squared_error: 0.6075 - val_loss: 0.3532 - val_root_mean_squared_error: 0.5943\n",
      "Epoch 5/20\n",
      "363/363 [==============================] - 1s 2ms/step - loss: 0.3540 - root_mean_squared_error: 0.5949 - val_loss: 0.3401 - val_root_mean_squared_error: 0.5832\n",
      "Epoch 6/20\n",
      "363/363 [==============================] - 0s 1ms/step - loss: 0.3429 - root_mean_squared_error: 0.5856 - val_loss: 0.4221 - val_root_mean_squared_error: 0.6497\n",
      "Epoch 7/20\n",
      "363/363 [==============================] - 0s 1ms/step - loss: 0.3405 - root_mean_squared_error: 0.5836 - val_loss: 0.5426 - val_root_mean_squared_error: 0.7366\n",
      "Epoch 8/20\n",
      "363/363 [==============================] - 1s 2ms/step - loss: 0.3300 - root_mean_squared_error: 0.5744 - val_loss: 0.6789 - val_root_mean_squared_error: 0.8240\n",
      "Epoch 9/20\n",
      "363/363 [==============================] - 0s 1ms/step - loss: 0.3251 - root_mean_squared_error: 0.5702 - val_loss: 0.4959 - val_root_mean_squared_error: 0.7042\n",
      "Epoch 10/20\n",
      "363/363 [==============================] - 0s 1ms/step - loss: 0.3214 - root_mean_squared_error: 0.5669 - val_loss: 1.4856 - val_root_mean_squared_error: 1.2188\n",
      "Epoch 11/20\n",
      "363/363 [==============================] - 0s 1ms/step - loss: 0.3198 - root_mean_squared_error: 0.5655 - val_loss: 0.8154 - val_root_mean_squared_error: 0.9030\n",
      "Epoch 12/20\n",
      "363/363 [==============================] - 1s 2ms/step - loss: 0.3274 - root_mean_squared_error: 0.5722 - val_loss: 0.3951 - val_root_mean_squared_error: 0.6285\n",
      "Epoch 13/20\n",
      "363/363 [==============================] - 1s 1ms/step - loss: 0.3069 - root_mean_squared_error: 0.5539 - val_loss: 0.3350 - val_root_mean_squared_error: 0.5788\n",
      "Epoch 14/20\n",
      "363/363 [==============================] - 0s 1ms/step - loss: 0.3033 - root_mean_squared_error: 0.5507 - val_loss: 0.2967 - val_root_mean_squared_error: 0.5447\n",
      "Epoch 15/20\n",
      "363/363 [==============================] - 0s 1ms/step - loss: 0.3025 - root_mean_squared_error: 0.5500 - val_loss: 0.3304 - val_root_mean_squared_error: 0.5748\n",
      "Epoch 16/20\n",
      "363/363 [==============================] - 0s 1ms/step - loss: 0.2999 - root_mean_squared_error: 0.5477 - val_loss: 0.3337 - val_root_mean_squared_error: 0.5776\n",
      "Epoch 17/20\n",
      "363/363 [==============================] - 1s 1ms/step - loss: 0.2984 - root_mean_squared_error: 0.5463 - val_loss: 0.6625 - val_root_mean_squared_error: 0.8139\n",
      "Epoch 18/20\n",
      "363/363 [==============================] - 1s 2ms/step - loss: 0.2963 - root_mean_squared_error: 0.5443 - val_loss: 0.3340 - val_root_mean_squared_error: 0.5779\n",
      "Epoch 19/20\n",
      "363/363 [==============================] - 0s 1ms/step - loss: 0.2917 - root_mean_squared_error: 0.5401 - val_loss: 0.5872 - val_root_mean_squared_error: 0.7663\n",
      "Epoch 20/20\n",
      "363/363 [==============================] - 0s 1ms/step - loss: 0.2967 - root_mean_squared_error: 0.5447 - val_loss: 0.5581 - val_root_mean_squared_error: 0.7470\n",
      "162/162 [==============================] - 0s 911us/step - loss: 0.2961 - root_mean_squared_error: 0.5441\n",
      "1/1 [==============================] - 0s 46ms/step\n"
     ]
    }
   ],
   "source": [
    "optimizer = tf.keras.optimizers.Adam(learning_rate=1e-3)\n",
    "model.compile(loss=\"mse\", optimizer=optimizer, metrics=[\"RootMeanSquaredError\"])\n",
    "normalization_layer.adapt(X_train)\n",
    "history = model.fit(\n",
    "    X_train,\n",
    "    y_train,\n",
    "    epochs=20,\n",
    "    validation_data=(X_valid, y_valid),\n",
    ")\n",
    "mse_test = model.evaluate(X_test, y_test)\n",
    "y_pred = model.predict(X_new)\n"
   ]
  },
  {
   "attachments": {},
   "cell_type": "markdown",
   "metadata": {},
   "source": [
    "What if you want to send different subsets of input features through the wide or deep paths? We will send 5 features (features 0 to 4), and 6 through the deep path (features 2 to 7). Note that 3 features will go through both (features 2, 3 and 4)."
   ]
  },
  {
   "cell_type": "code",
   "execution_count": 49,
   "metadata": {},
   "outputs": [],
   "source": [
    "tf.random.set_seed(42)\n",
    "\n",
    "input_wide = tf.keras.layers.Input(shape=[5])\n",
    "input_deep = tf.keras.layers.Input(shape=[6])\n",
    "norm_layer_wide = tf.keras.layers.Normalization()\n",
    "norm_layer_deep = tf.keras.layers.Normalization()\n",
    "norm_wide = norm_layer_wide(input_wide)\n",
    "norm_deep = norm_layer_deep(input_deep)\n",
    "hidden1 = tf.keras.layers.Dense(30, activation=\"relu\")(norm_deep)\n",
    "hidden2 = tf.keras.layers.Dense(30, activation=\"relu\")(hidden1)\n",
    "concat = tf.keras.layers.concatenate([norm_wide, hidden2])\n",
    "output = tf.keras.layers.Dense(1)(concat)\n",
    "model = tf.keras.Model(inputs=[input_wide, input_deep], outputs=[output])\n"
   ]
  },
  {
   "cell_type": "code",
   "execution_count": 50,
   "metadata": {},
   "outputs": [
    {
     "name": "stdout",
     "output_type": "stream",
     "text": [
      "Epoch 1/20\n",
      "363/363 [==============================] - 1s 2ms/step - loss: 1.4839 - root_mean_squared_error: 1.2181 - val_loss: 3.4289 - val_root_mean_squared_error: 1.8517\n",
      "Epoch 2/20\n",
      "363/363 [==============================] - 0s 1ms/step - loss: 0.5215 - root_mean_squared_error: 0.7221 - val_loss: 0.6736 - val_root_mean_squared_error: 0.8207\n",
      "Epoch 3/20\n",
      "363/363 [==============================] - 0s 1ms/step - loss: 0.4418 - root_mean_squared_error: 0.6647 - val_loss: 0.5562 - val_root_mean_squared_error: 0.7458\n",
      "Epoch 4/20\n",
      "363/363 [==============================] - 0s 1ms/step - loss: 0.4042 - root_mean_squared_error: 0.6358 - val_loss: 0.4224 - val_root_mean_squared_error: 0.6499\n",
      "Epoch 5/20\n",
      "363/363 [==============================] - 1s 1ms/step - loss: 0.3914 - root_mean_squared_error: 0.6256 - val_loss: 0.4602 - val_root_mean_squared_error: 0.6784\n",
      "Epoch 6/20\n",
      "363/363 [==============================] - 0s 1ms/step - loss: 0.3797 - root_mean_squared_error: 0.6162 - val_loss: 0.4093 - val_root_mean_squared_error: 0.6398\n",
      "Epoch 7/20\n",
      "363/363 [==============================] - 1s 1ms/step - loss: 0.3739 - root_mean_squared_error: 0.6115 - val_loss: 0.5570 - val_root_mean_squared_error: 0.7463\n",
      "Epoch 8/20\n",
      "363/363 [==============================] - 0s 1ms/step - loss: 0.3645 - root_mean_squared_error: 0.6038 - val_loss: 1.0244 - val_root_mean_squared_error: 1.0121\n",
      "Epoch 9/20\n",
      "363/363 [==============================] - 0s 1ms/step - loss: 0.3622 - root_mean_squared_error: 0.6018 - val_loss: 2.6026 - val_root_mean_squared_error: 1.6133\n",
      "Epoch 10/20\n",
      "363/363 [==============================] - 0s 1ms/step - loss: 0.3763 - root_mean_squared_error: 0.6134 - val_loss: 0.9397 - val_root_mean_squared_error: 0.9694\n",
      "Epoch 11/20\n",
      "363/363 [==============================] - 1s 1ms/step - loss: 0.3545 - root_mean_squared_error: 0.5954 - val_loss: 0.5560 - val_root_mean_squared_error: 0.7457\n",
      "Epoch 12/20\n",
      "363/363 [==============================] - 0s 1ms/step - loss: 0.3540 - root_mean_squared_error: 0.5950 - val_loss: 0.3943 - val_root_mean_squared_error: 0.6279\n",
      "Epoch 13/20\n",
      "363/363 [==============================] - 1s 1ms/step - loss: 0.3423 - root_mean_squared_error: 0.5850 - val_loss: 0.6247 - val_root_mean_squared_error: 0.7904\n",
      "Epoch 14/20\n",
      "363/363 [==============================] - 1s 2ms/step - loss: 0.3402 - root_mean_squared_error: 0.5832 - val_loss: 0.7802 - val_root_mean_squared_error: 0.8833\n",
      "Epoch 15/20\n",
      "363/363 [==============================] - 0s 1ms/step - loss: 0.3391 - root_mean_squared_error: 0.5823 - val_loss: 1.3273 - val_root_mean_squared_error: 1.1521\n",
      "Epoch 16/20\n",
      "363/363 [==============================] - 1s 2ms/step - loss: 0.3405 - root_mean_squared_error: 0.5835 - val_loss: 1.0319 - val_root_mean_squared_error: 1.0158\n",
      "Epoch 17/20\n",
      "363/363 [==============================] - 1s 1ms/step - loss: 0.3403 - root_mean_squared_error: 0.5834 - val_loss: 1.6387 - val_root_mean_squared_error: 1.2801\n",
      "Epoch 18/20\n",
      "363/363 [==============================] - 1s 2ms/step - loss: 0.3396 - root_mean_squared_error: 0.5828 - val_loss: 0.7696 - val_root_mean_squared_error: 0.8773\n",
      "Epoch 19/20\n",
      "363/363 [==============================] - 1s 2ms/step - loss: 0.3333 - root_mean_squared_error: 0.5773 - val_loss: 0.8177 - val_root_mean_squared_error: 0.9043\n",
      "Epoch 20/20\n",
      "363/363 [==============================] - 0s 1ms/step - loss: 0.3313 - root_mean_squared_error: 0.5756 - val_loss: 0.4016 - val_root_mean_squared_error: 0.6337\n",
      "162/162 [==============================] - 0s 887us/step - loss: 0.3287 - root_mean_squared_error: 0.5733\n",
      "1/1 [==============================] - 0s 56ms/step\n"
     ]
    }
   ],
   "source": [
    "optimizer = tf.keras.optimizers.Adam(learning_rate=1e-3)\n",
    "model.compile(loss=\"mse\", optimizer=optimizer, metrics=[\"RootMeanSquaredError\"])\n",
    "\n",
    "X_train_wide, X_train_deep = X_train[:, :5], X_train[:, 2:]\n",
    "X_valid_wide, X_valid_deep = X_valid[:, :5], X_valid[:, 2:]\n",
    "X_test_wide, X_test_deep = X_test[:, :5], X_test[:, 2:]\n",
    "X_new_wide, X_new_deep = X_test_wide[:3], X_test_deep[:3]\n",
    "\n",
    "norm_layer_wide.adapt(X_train_wide)\n",
    "norm_layer_deep.adapt(X_train_deep)\n",
    "history = model.fit(\n",
    "    (X_train_wide, X_train_deep),\n",
    "    y_train,\n",
    "    epochs=20,\n",
    "    validation_data=((X_valid_wide, X_valid_deep), y_valid),\n",
    ")\n",
    "mse_test = model.evaluate((X_test_wide, X_test_deep), y_test)\n",
    "y_pred = model.predict((X_new_wide, X_new_deep))\n"
   ]
  },
  {
   "attachments": {},
   "cell_type": "markdown",
   "metadata": {},
   "source": [
    "Adding an auxiliary output for regularization:"
   ]
  },
  {
   "cell_type": "code",
   "execution_count": 51,
   "metadata": {},
   "outputs": [],
   "source": [
    "tf.keras.backend.clear_session()\n",
    "tf.random.set_seed(42)\n",
    "\n",
    "input_wide = tf.keras.layers.Input(shape=[5])  # features 0 to 4\n",
    "input_deep = tf.keras.layers.Input(shape=[6])  # features 2 to 7\n",
    "norm_layer_wide = tf.keras.layers.Normalization()\n",
    "norm_layer_deep = tf.keras.layers.Normalization()\n",
    "norm_wide = norm_layer_wide(input_wide)\n",
    "norm_deep = norm_layer_deep(input_deep)\n",
    "hidden1 = tf.keras.layers.Dense(30, activation=\"relu\")(norm_deep)\n",
    "hidden2 = tf.keras.layers.Dense(30, activation=\"relu\")(hidden1)\n",
    "concat = tf.keras.layers.concatenate([norm_wide, hidden2])\n",
    "output = tf.keras.layers.Dense(1)(concat)\n",
    "aux_output = tf.keras.layers.Dense(1)(hidden2)\n",
    "model = tf.keras.Model(inputs=[input_wide, input_deep], outputs=[output, aux_output])\n"
   ]
  },
  {
   "cell_type": "code",
   "execution_count": 52,
   "metadata": {},
   "outputs": [
    {
     "name": "stdout",
     "output_type": "stream",
     "text": [
      "Epoch 1/20\n",
      "363/363 [==============================] - 2s 2ms/step - loss: 1.8557 - dense_2_loss: 1.7963 - dense_3_loss: 2.3902 - dense_2_root_mean_squared_error: 1.3403 - dense_3_root_mean_squared_error: 1.5460 - val_loss: 0.9310 - val_dense_2_loss: 0.6276 - val_dense_3_loss: 3.6613 - val_dense_2_root_mean_squared_error: 0.7922 - val_dense_3_root_mean_squared_error: 1.9135\n",
      "Epoch 2/20\n",
      "363/363 [==============================] - 1s 2ms/step - loss: 0.5359 - dense_2_loss: 0.5098 - dense_3_loss: 0.7703 - dense_2_root_mean_squared_error: 0.7140 - dense_3_root_mean_squared_error: 0.8777 - val_loss: 0.6194 - val_dense_2_loss: 0.4714 - val_dense_3_loss: 1.9514 - val_dense_2_root_mean_squared_error: 0.6866 - val_dense_3_root_mean_squared_error: 1.3969\n",
      "Epoch 3/20\n",
      "363/363 [==============================] - 1s 2ms/step - loss: 0.4544 - dense_2_loss: 0.4383 - dense_3_loss: 0.5995 - dense_2_root_mean_squared_error: 0.6620 - dense_3_root_mean_squared_error: 0.7743 - val_loss: 0.5267 - val_dense_2_loss: 0.4279 - val_dense_3_loss: 1.4157 - val_dense_2_root_mean_squared_error: 0.6541 - val_dense_3_root_mean_squared_error: 1.1898\n",
      "Epoch 4/20\n",
      "363/363 [==============================] - 1s 2ms/step - loss: 0.4258 - dense_2_loss: 0.4115 - dense_3_loss: 0.5546 - dense_2_root_mean_squared_error: 0.6415 - dense_3_root_mean_squared_error: 0.7447 - val_loss: 0.5188 - val_dense_2_loss: 0.4990 - val_dense_3_loss: 0.6964 - val_dense_2_root_mean_squared_error: 0.7064 - val_dense_3_root_mean_squared_error: 0.8345\n",
      "Epoch 5/20\n",
      "363/363 [==============================] - 1s 1ms/step - loss: 0.4099 - dense_2_loss: 0.3971 - dense_3_loss: 0.5250 - dense_2_root_mean_squared_error: 0.6302 - dense_3_root_mean_squared_error: 0.7246 - val_loss: 0.3899 - val_dense_2_loss: 0.3656 - val_dense_3_loss: 0.6090 - val_dense_2_root_mean_squared_error: 0.6047 - val_dense_3_root_mean_squared_error: 0.7804\n",
      "Epoch 6/20\n",
      "363/363 [==============================] - 1s 2ms/step - loss: 0.3931 - dense_2_loss: 0.3811 - dense_3_loss: 0.5017 - dense_2_root_mean_squared_error: 0.6173 - dense_3_root_mean_squared_error: 0.7083 - val_loss: 0.4042 - val_dense_2_loss: 0.3828 - val_dense_3_loss: 0.5972 - val_dense_2_root_mean_squared_error: 0.6187 - val_dense_3_root_mean_squared_error: 0.7728\n",
      "Epoch 7/20\n",
      "363/363 [==============================] - 1s 2ms/step - loss: 0.3856 - dense_2_loss: 0.3746 - dense_3_loss: 0.4840 - dense_2_root_mean_squared_error: 0.6121 - dense_3_root_mean_squared_error: 0.6957 - val_loss: 0.4380 - val_dense_2_loss: 0.4348 - val_dense_3_loss: 0.4662 - val_dense_2_root_mean_squared_error: 0.6594 - val_dense_3_root_mean_squared_error: 0.6828\n",
      "Epoch 8/20\n",
      "363/363 [==============================] - 1s 1ms/step - loss: 0.3806 - dense_2_loss: 0.3705 - dense_3_loss: 0.4715 - dense_2_root_mean_squared_error: 0.6087 - dense_3_root_mean_squared_error: 0.6866 - val_loss: 1.4035 - val_dense_2_loss: 1.4715 - val_dense_3_loss: 0.7916 - val_dense_2_root_mean_squared_error: 1.2130 - val_dense_3_root_mean_squared_error: 0.8897\n",
      "Epoch 9/20\n",
      "363/363 [==============================] - 1s 2ms/step - loss: 0.3746 - dense_2_loss: 0.3650 - dense_3_loss: 0.4601 - dense_2_root_mean_squared_error: 0.6042 - dense_3_root_mean_squared_error: 0.6783 - val_loss: 3.6646 - val_dense_2_loss: 3.9003 - val_dense_3_loss: 1.5434 - val_dense_2_root_mean_squared_error: 1.9749 - val_dense_3_root_mean_squared_error: 1.2423\n",
      "Epoch 10/20\n",
      "363/363 [==============================] - 1s 1ms/step - loss: 0.4026 - dense_2_loss: 0.3963 - dense_3_loss: 0.4594 - dense_2_root_mean_squared_error: 0.6295 - dense_3_root_mean_squared_error: 0.6778 - val_loss: 0.8648 - val_dense_2_loss: 0.9133 - val_dense_3_loss: 0.4285 - val_dense_2_root_mean_squared_error: 0.9557 - val_dense_3_root_mean_squared_error: 0.6546\n",
      "Epoch 11/20\n",
      "363/363 [==============================] - 1s 2ms/step - loss: 0.3616 - dense_2_loss: 0.3533 - dense_3_loss: 0.4368 - dense_2_root_mean_squared_error: 0.5944 - dense_3_root_mean_squared_error: 0.6609 - val_loss: 0.8892 - val_dense_2_loss: 0.8470 - val_dense_3_loss: 1.2692 - val_dense_2_root_mean_squared_error: 0.9203 - val_dense_3_root_mean_squared_error: 1.1266\n",
      "Epoch 12/20\n",
      "363/363 [==============================] - 1s 2ms/step - loss: 0.3644 - dense_2_loss: 0.3565 - dense_3_loss: 0.4359 - dense_2_root_mean_squared_error: 0.5970 - dense_3_root_mean_squared_error: 0.6602 - val_loss: 0.6180 - val_dense_2_loss: 0.6411 - val_dense_3_loss: 0.4103 - val_dense_2_root_mean_squared_error: 0.8007 - val_dense_3_root_mean_squared_error: 0.6405\n",
      "Epoch 13/20\n",
      "363/363 [==============================] - 1s 2ms/step - loss: 0.3569 - dense_2_loss: 0.3496 - dense_3_loss: 0.4230 - dense_2_root_mean_squared_error: 0.5913 - dense_3_root_mean_squared_error: 0.6504 - val_loss: 1.7501 - val_dense_2_loss: 1.8060 - val_dense_3_loss: 1.2470 - val_dense_2_root_mean_squared_error: 1.3439 - val_dense_3_root_mean_squared_error: 1.1167\n",
      "Epoch 14/20\n",
      "363/363 [==============================] - 1s 2ms/step - loss: 0.3612 - dense_2_loss: 0.3544 - dense_3_loss: 0.4219 - dense_2_root_mean_squared_error: 0.5953 - dense_3_root_mean_squared_error: 0.6495 - val_loss: 2.3959 - val_dense_2_loss: 2.5678 - val_dense_3_loss: 0.8488 - val_dense_2_root_mean_squared_error: 1.6024 - val_dense_3_root_mean_squared_error: 0.9213\n",
      "Epoch 15/20\n",
      "363/363 [==============================] - 1s 2ms/step - loss: 0.3629 - dense_2_loss: 0.3570 - dense_3_loss: 0.4156 - dense_2_root_mean_squared_error: 0.5975 - dense_3_root_mean_squared_error: 0.6447 - val_loss: 1.9427 - val_dense_2_loss: 2.0157 - val_dense_3_loss: 1.2855 - val_dense_2_root_mean_squared_error: 1.4198 - val_dense_3_root_mean_squared_error: 1.1338\n",
      "Epoch 16/20\n",
      "363/363 [==============================] - 1s 1ms/step - loss: 0.3520 - dense_2_loss: 0.3455 - dense_3_loss: 0.4104 - dense_2_root_mean_squared_error: 0.5878 - dense_3_root_mean_squared_error: 0.6406 - val_loss: 0.8552 - val_dense_2_loss: 0.9030 - val_dense_3_loss: 0.4245 - val_dense_2_root_mean_squared_error: 0.9503 - val_dense_3_root_mean_squared_error: 0.6515\n",
      "Epoch 17/20\n",
      "363/363 [==============================] - 1s 2ms/step - loss: 0.3469 - dense_2_loss: 0.3405 - dense_3_loss: 0.4040 - dense_2_root_mean_squared_error: 0.5835 - dense_3_root_mean_squared_error: 0.6356 - val_loss: 1.2934 - val_dense_2_loss: 1.2738 - val_dense_3_loss: 1.4699 - val_dense_2_root_mean_squared_error: 1.1286 - val_dense_3_root_mean_squared_error: 1.2124\n",
      "Epoch 18/20\n",
      "363/363 [==============================] - 1s 2ms/step - loss: 0.3450 - dense_2_loss: 0.3382 - dense_3_loss: 0.4069 - dense_2_root_mean_squared_error: 0.5815 - dense_3_root_mean_squared_error: 0.6379 - val_loss: 0.5673 - val_dense_2_loss: 0.5836 - val_dense_3_loss: 0.4204 - val_dense_2_root_mean_squared_error: 0.7639 - val_dense_3_root_mean_squared_error: 0.6483\n",
      "Epoch 19/20\n",
      "363/363 [==============================] - 1s 2ms/step - loss: 0.3385 - dense_2_loss: 0.3322 - dense_3_loss: 0.3959 - dense_2_root_mean_squared_error: 0.5763 - dense_3_root_mean_squared_error: 0.6292 - val_loss: 0.7639 - val_dense_2_loss: 0.7622 - val_dense_3_loss: 0.7789 - val_dense_2_root_mean_squared_error: 0.8731 - val_dense_3_root_mean_squared_error: 0.8826\n",
      "Epoch 20/20\n",
      "363/363 [==============================] - 1s 2ms/step - loss: 0.3494 - dense_2_loss: 0.3436 - dense_3_loss: 0.4024 - dense_2_root_mean_squared_error: 0.5861 - dense_3_root_mean_squared_error: 0.6344 - val_loss: 0.3830 - val_dense_2_loss: 0.3823 - val_dense_3_loss: 0.3900 - val_dense_2_root_mean_squared_error: 0.6183 - val_dense_3_root_mean_squared_error: 0.6245\n"
     ]
    }
   ],
   "source": [
    "optimizer = tf.keras.optimizers.Adam(learning_rate=1e-3)\n",
    "model.compile(\n",
    "    loss=(\"mse\", \"mse\"),\n",
    "    loss_weights=(0.9, 0.1),\n",
    "    optimizer=optimizer,\n",
    "    metrics=[\"RootMeanSquaredError\"],\n",
    ")\n",
    "\n",
    "norm_layer_wide.adapt(X_train_wide)\n",
    "norm_layer_deep.adapt(X_train_deep)\n",
    "history = model.fit(\n",
    "    (X_train_wide, X_train_deep),\n",
    "    (y_train, y_train),\n",
    "    epochs=20,\n",
    "    validation_data=((X_valid_wide, X_valid_deep), (y_valid, y_valid)),\n",
    ")\n"
   ]
  },
  {
   "cell_type": "code",
   "execution_count": 53,
   "metadata": {},
   "outputs": [
    {
     "name": "stdout",
     "output_type": "stream",
     "text": [
      "162/162 [==============================] - 0s 1ms/step - loss: 0.3349 - dense_2_loss: 0.3288 - dense_3_loss: 0.3901 - dense_2_root_mean_squared_error: 0.5734 - dense_3_root_mean_squared_error: 0.6246\n"
     ]
    }
   ],
   "source": [
    "eval_results = model.evaluate((X_test_wide, X_test_deep), (y_test, y_test))\n",
    "weighted_sum_of_losses, main_loss, aux_loss, main_rmse, aux_rmse = eval_results\n"
   ]
  },
  {
   "cell_type": "code",
   "execution_count": 54,
   "metadata": {},
   "outputs": [
    {
     "name": "stdout",
     "output_type": "stream",
     "text": [
      "WARNING:tensorflow:5 out of the last 5 calls to <function Model.make_predict_function.<locals>.predict_function at 0x0000019DC46A17E0> triggered tf.function retracing. Tracing is expensive and the excessive number of tracings could be due to (1) creating @tf.function repeatedly in a loop, (2) passing tensors with different shapes, (3) passing Python objects instead of tensors. For (1), please define your @tf.function outside of the loop. For (2), @tf.function has reduce_retracing=True option that can avoid unnecessary retracing. For (3), please refer to https://www.tensorflow.org/guide/function#controlling_retracing and https://www.tensorflow.org/api_docs/python/tf/function for  more details.\n",
      "1/1 [==============================] - 0s 60ms/step\n"
     ]
    }
   ],
   "source": [
    "y_pred_main, y_pred_aux = model.predict((X_new_wide, X_new_deep))"
   ]
  },
  {
   "cell_type": "code",
   "execution_count": 55,
   "metadata": {},
   "outputs": [
    {
     "name": "stdout",
     "output_type": "stream",
     "text": [
      "1/1 [==============================] - 0s 48ms/step\n"
     ]
    }
   ],
   "source": [
    "y_pred_tuple = model.predict((X_new_wide, X_new_deep))\n",
    "y_pred = dict(zip(model.output_names, y_pred_tuple))"
   ]
  },
  {
   "attachments": {},
   "cell_type": "markdown",
   "metadata": {},
   "source": [
    "### **USING THE SUBCLASSING API TO BUILD DYNAMIC MODELS:**"
   ]
  },
  {
   "cell_type": "code",
   "execution_count": 56,
   "metadata": {},
   "outputs": [],
   "source": [
    "class WideAndDeepModel(tf.keras.Model):\n",
    "    def __init__(self, units=30, activation=\"relu\", **kwargs):\n",
    "        super().__init__(**kwargs)\n",
    "        self.norm_layer_wide = tf.keras.layers.Normalization()\n",
    "        self.norm_layer_deep = tf.keras.layers.Normalization()\n",
    "        self.hidden1 = tf.keras.layers.Dense(units=units, activation=activation)\n",
    "        self.hidden2 = tf.keras.layers.Dense(units=units, activation=activation)\n",
    "        self.main_output = tf.keras.layers.Dense(1)\n",
    "        self.aux_output = tf.keras.layers.Dense(1)\n",
    "\n",
    "    def call(self, inputs):\n",
    "        input_wide, input_deep = inputs\n",
    "        norm_wide = self.norm_layer_wide(input_wide)\n",
    "        norm_deep = self.norm_layer_deep(input_deep)\n",
    "        hidden1 = self.hidden1(norm_deep)\n",
    "        hidden2 = self.hidden2(hidden1)\n",
    "        concat = tf.keras.layers.concatenate([norm_wide, hidden2])\n",
    "        output = self.main_output(concat)\n",
    "        aux_output = self.aux_output(hidden2)\n",
    "        return output, aux_output\n",
    "\n",
    "\n",
    "tf.random.set_seed(42)\n",
    "model = WideAndDeepModel(30, activation=\"relu\", name=\"my_cool_model\")\n"
   ]
  },
  {
   "cell_type": "code",
   "execution_count": 57,
   "metadata": {},
   "outputs": [
    {
     "name": "stdout",
     "output_type": "stream",
     "text": [
      "Epoch 1/10\n",
      "363/363 [==============================] - 2s 3ms/step - loss: 1.8414 - output_1_loss: 1.8175 - output_2_loss: 2.0564 - output_1_root_mean_squared_error: 1.3481 - output_2_root_mean_squared_error: 1.4340 - val_loss: 1.2784 - val_output_1_loss: 0.7871 - val_output_2_loss: 5.6999 - val_output_1_root_mean_squared_error: 0.8872 - val_output_2_root_mean_squared_error: 2.3874\n",
      "Epoch 2/10\n",
      "363/363 [==============================] - 1s 2ms/step - loss: 0.6052 - output_1_loss: 0.5669 - output_2_loss: 0.9505 - output_1_root_mean_squared_error: 0.7529 - output_2_root_mean_squared_error: 0.9749 - val_loss: 1.1775 - val_output_1_loss: 0.9282 - val_output_2_loss: 3.4212 - val_output_1_root_mean_squared_error: 0.9634 - val_output_2_root_mean_squared_error: 1.8497\n",
      "Epoch 3/10\n",
      "363/363 [==============================] - 1s 2ms/step - loss: 0.4849 - output_1_loss: 0.4594 - output_2_loss: 0.7141 - output_1_root_mean_squared_error: 0.6778 - output_2_root_mean_squared_error: 0.8451 - val_loss: 0.6636 - val_output_1_loss: 0.4925 - val_output_2_loss: 2.2031 - val_output_1_root_mean_squared_error: 0.7018 - val_output_2_root_mean_squared_error: 1.4843\n",
      "Epoch 4/10\n",
      "363/363 [==============================] - 1s 2ms/step - loss: 0.4393 - output_1_loss: 0.4201 - output_2_loss: 0.6119 - output_1_root_mean_squared_error: 0.6481 - output_2_root_mean_squared_error: 0.7822 - val_loss: 0.6795 - val_output_1_loss: 0.6226 - val_output_2_loss: 1.1911 - val_output_1_root_mean_squared_error: 0.7891 - val_output_2_root_mean_squared_error: 1.0914\n",
      "Epoch 5/10\n",
      "363/363 [==============================] - 1s 2ms/step - loss: 0.4136 - output_1_loss: 0.3986 - output_2_loss: 0.5491 - output_1_root_mean_squared_error: 0.6313 - output_2_root_mean_squared_error: 0.7410 - val_loss: 0.8654 - val_output_1_loss: 0.8668 - val_output_2_loss: 0.8524 - val_output_1_root_mean_squared_error: 0.9310 - val_output_2_root_mean_squared_error: 0.9233\n",
      "Epoch 6/10\n",
      "363/363 [==============================] - 1s 2ms/step - loss: 0.4038 - output_1_loss: 0.3908 - output_2_loss: 0.5199 - output_1_root_mean_squared_error: 0.6252 - output_2_root_mean_squared_error: 0.7210 - val_loss: 1.0494 - val_output_1_loss: 1.1011 - val_output_2_loss: 0.5841 - val_output_1_root_mean_squared_error: 1.0493 - val_output_2_root_mean_squared_error: 0.7643\n",
      "Epoch 7/10\n",
      "363/363 [==============================] - 1s 2ms/step - loss: 0.3926 - output_1_loss: 0.3809 - output_2_loss: 0.4975 - output_1_root_mean_squared_error: 0.6172 - output_2_root_mean_squared_error: 0.7053 - val_loss: 2.1988 - val_output_1_loss: 2.2763 - val_output_2_loss: 1.5013 - val_output_1_root_mean_squared_error: 1.5087 - val_output_2_root_mean_squared_error: 1.2253\n",
      "Epoch 8/10\n",
      "363/363 [==============================] - 1s 2ms/step - loss: 0.3902 - output_1_loss: 0.3794 - output_2_loss: 0.4873 - output_1_root_mean_squared_error: 0.6160 - output_2_root_mean_squared_error: 0.6981 - val_loss: 2.3647 - val_output_1_loss: 2.5706 - val_output_2_loss: 0.5113 - val_output_1_root_mean_squared_error: 1.6033 - val_output_2_root_mean_squared_error: 0.7150\n",
      "Epoch 9/10\n",
      "363/363 [==============================] - 1s 2ms/step - loss: 0.3843 - output_1_loss: 0.3749 - output_2_loss: 0.4696 - output_1_root_mean_squared_error: 0.6123 - output_2_root_mean_squared_error: 0.6853 - val_loss: 1.8865 - val_output_1_loss: 1.9325 - val_output_2_loss: 1.4726 - val_output_1_root_mean_squared_error: 1.3901 - val_output_2_root_mean_squared_error: 1.2135\n",
      "Epoch 10/10\n",
      "363/363 [==============================] - 1s 2ms/step - loss: 0.3817 - output_1_loss: 0.3726 - output_2_loss: 0.4639 - output_1_root_mean_squared_error: 0.6104 - output_2_root_mean_squared_error: 0.6811 - val_loss: 0.4911 - val_output_1_loss: 0.4852 - val_output_2_loss: 0.5446 - val_output_1_root_mean_squared_error: 0.6966 - val_output_2_root_mean_squared_error: 0.7380\n",
      "162/162 [==============================] - 0s 2ms/step - loss: 0.3629 - output_1_loss: 0.3539 - output_2_loss: 0.4442 - output_1_root_mean_squared_error: 0.5949 - output_2_root_mean_squared_error: 0.6665\n",
      "WARNING:tensorflow:6 out of the last 7 calls to <function Model.make_predict_function.<locals>.predict_function at 0x0000019DC49D2E60> triggered tf.function retracing. Tracing is expensive and the excessive number of tracings could be due to (1) creating @tf.function repeatedly in a loop, (2) passing tensors with different shapes, (3) passing Python objects instead of tensors. For (1), please define your @tf.function outside of the loop. For (2), @tf.function has reduce_retracing=True option that can avoid unnecessary retracing. For (3), please refer to https://www.tensorflow.org/guide/function#controlling_retracing and https://www.tensorflow.org/api_docs/python/tf/function for  more details.\n",
      "1/1 [==============================] - 0s 74ms/step\n"
     ]
    }
   ],
   "source": [
    "optimizer = tf.keras.optimizers.Adam(learning_rate=1e-3)\n",
    "model.compile(\n",
    "    loss=\"mse\",\n",
    "    loss_weights=[0.9, 0.1],\n",
    "    optimizer=optimizer,\n",
    "    metrics=[\"RootMeanSquaredError\"],\n",
    ")\n",
    "model.norm_layer_wide.adapt(X_train_wide)\n",
    "model.norm_layer_deep.adapt(X_train_deep)\n",
    "\n",
    "history = model.fit(\n",
    "    (X_train_wide, X_train_deep),\n",
    "    (y_train, y_train),\n",
    "    epochs=10,\n",
    "    validation_data=((X_valid_wide, X_valid_deep), (y_valid, y_valid)),\n",
    ")\n",
    "model.evaluate((X_test_wide, X_test_deep), (y_test, y_test))\n",
    "weighted_sum_of_losses, main_loss, aux_loss, main_rmse, aux_rmse = eval_results\n",
    "y_pred_main, y_pred_aux = model.predict((X_new_wide, X_new_deep))\n"
   ]
  },
  {
   "attachments": {},
   "cell_type": "markdown",
   "metadata": {},
   "source": [
    "### **SAVING AND RESTORING A MODEL:**"
   ]
  },
  {
   "cell_type": "code",
   "execution_count": 58,
   "metadata": {},
   "outputs": [],
   "source": [
    "# extra code – delete the directory, in case it already exists\n",
    "import shutil\n",
    "\n",
    "shutil.rmtree(\"models/my_keras_model\", ignore_errors=True)\n"
   ]
  },
  {
   "cell_type": "code",
   "execution_count": 59,
   "metadata": {},
   "outputs": [
    {
     "name": "stderr",
     "output_type": "stream",
     "text": [
      "WARNING:absl:Found untraced functions such as _update_step_xla while saving (showing 1 of 1). These functions will not be directly callable after loading.\n"
     ]
    },
    {
     "name": "stdout",
     "output_type": "stream",
     "text": [
      "INFO:tensorflow:Assets written to: models/my_keras_model\\assets\n"
     ]
    },
    {
     "name": "stderr",
     "output_type": "stream",
     "text": [
      "INFO:tensorflow:Assets written to: models/my_keras_model\\assets\n"
     ]
    }
   ],
   "source": [
    "model.save(\"models/my_keras_model\", save_format=\"tf\")"
   ]
  },
  {
   "cell_type": "code",
   "execution_count": 61,
   "metadata": {},
   "outputs": [
    {
     "name": "stdout",
     "output_type": "stream",
     "text": [
      "models\\my_keras_model\\assets\n",
      "models\\my_keras_model\\fingerprint.pb\n",
      "models\\my_keras_model\\keras_metadata.pb\n",
      "models\\my_keras_model\\saved_model.pb\n",
      "models\\my_keras_model\\variables\n",
      "models\\my_keras_model\\variables\\variables.data-00000-of-00001\n",
      "models\\my_keras_model\\variables\\variables.index\n"
     ]
    }
   ],
   "source": [
    "for path in sorted(Path(\"models/my_keras_model\").glob(\"**/*\")):\n",
    "    print(path)"
   ]
  },
  {
   "cell_type": "code",
   "execution_count": 62,
   "metadata": {},
   "outputs": [
    {
     "name": "stdout",
     "output_type": "stream",
     "text": [
      "1/1 [==============================] - 0s 70ms/step\n"
     ]
    }
   ],
   "source": [
    "model = tf.keras.models.load_model(\"models/my_keras_model\")\n",
    "y_pred_main, y_pred_aux = model.predict((X_new_wide, X_new_deep))"
   ]
  },
  {
   "cell_type": "code",
   "execution_count": 63,
   "metadata": {},
   "outputs": [],
   "source": [
    "model.save_weights(\"weights/my_weights\")"
   ]
  },
  {
   "cell_type": "code",
   "execution_count": 64,
   "metadata": {},
   "outputs": [
    {
     "data": {
      "text/plain": [
       "<tensorflow.python.checkpoint.checkpoint.CheckpointLoadStatus at 0x19dc4e60430>"
      ]
     },
     "execution_count": 64,
     "metadata": {},
     "output_type": "execute_result"
    }
   ],
   "source": [
    "model.load_weights(\"weights/my_weights\")"
   ]
  },
  {
   "cell_type": "code",
   "execution_count": 65,
   "metadata": {},
   "outputs": [
    {
     "name": "stdout",
     "output_type": "stream",
     "text": [
      "weights\\my_weights.data-00000-of-00001\n",
      "weights\\my_weights.index\n"
     ]
    }
   ],
   "source": [
    "# extra code – show the list of my_weights.* files\n",
    "for path in sorted(Path(\"weights\").glob(\"my_weights.*\")):\n",
    "    print(path)"
   ]
  },
  {
   "attachments": {},
   "cell_type": "markdown",
   "metadata": {},
   "source": [
    "### **USING CALLBACKS:**"
   ]
  },
  {
   "cell_type": "code",
   "execution_count": 66,
   "metadata": {},
   "outputs": [],
   "source": [
    "shutil.rmtree(\"checkpoints/my_checkpoints\", ignore_errors=True)  # extra code"
   ]
  },
  {
   "cell_type": "code",
   "execution_count": 67,
   "metadata": {},
   "outputs": [
    {
     "name": "stdout",
     "output_type": "stream",
     "text": [
      "Epoch 1/10\n",
      "363/363 [==============================] - 2s 3ms/step - loss: 0.3646 - output_1_loss: 0.3548 - output_2_loss: 0.4522 - output_1_root_mean_squared_error: 0.5957 - output_2_root_mean_squared_error: 0.6725 - val_loss: 0.6834 - val_output_1_loss: 0.6962 - val_output_2_loss: 0.5690 - val_output_1_root_mean_squared_error: 0.8344 - val_output_2_root_mean_squared_error: 0.7543\n",
      "Epoch 2/10\n",
      "363/363 [==============================] - 1s 2ms/step - loss: 0.3610 - output_1_loss: 0.3525 - output_2_loss: 0.4377 - output_1_root_mean_squared_error: 0.5937 - output_2_root_mean_squared_error: 0.6616 - val_loss: 0.7692 - val_output_1_loss: 0.7554 - val_output_2_loss: 0.8928 - val_output_1_root_mean_squared_error: 0.8692 - val_output_2_root_mean_squared_error: 0.9449\n",
      "Epoch 3/10\n",
      "363/363 [==============================] - 1s 2ms/step - loss: 0.3551 - output_1_loss: 0.3467 - output_2_loss: 0.4312 - output_1_root_mean_squared_error: 0.5888 - output_2_root_mean_squared_error: 0.6566 - val_loss: 0.4836 - val_output_1_loss: 0.4852 - val_output_2_loss: 0.4687 - val_output_1_root_mean_squared_error: 0.6966 - val_output_2_root_mean_squared_error: 0.6846\n",
      "Epoch 4/10\n",
      "363/363 [==============================] - 1s 2ms/step - loss: 0.3501 - output_1_loss: 0.3420 - output_2_loss: 0.4232 - output_1_root_mean_squared_error: 0.5848 - output_2_root_mean_squared_error: 0.6505 - val_loss: 0.7490 - val_output_1_loss: 0.7567 - val_output_2_loss: 0.6803 - val_output_1_root_mean_squared_error: 0.8699 - val_output_2_root_mean_squared_error: 0.8248\n",
      "Epoch 5/10\n",
      "363/363 [==============================] - 1s 2ms/step - loss: 0.3466 - output_1_loss: 0.3389 - output_2_loss: 0.4162 - output_1_root_mean_squared_error: 0.5822 - output_2_root_mean_squared_error: 0.6451 - val_loss: 1.0844 - val_output_1_loss: 1.1558 - val_output_2_loss: 0.4419 - val_output_1_root_mean_squared_error: 1.0751 - val_output_2_root_mean_squared_error: 0.6647\n",
      "Epoch 6/10\n",
      "363/363 [==============================] - 1s 2ms/step - loss: 0.3491 - output_1_loss: 0.3420 - output_2_loss: 0.4122 - output_1_root_mean_squared_error: 0.5848 - output_2_root_mean_squared_error: 0.6420 - val_loss: 1.0354 - val_output_1_loss: 1.0520 - val_output_2_loss: 0.8858 - val_output_1_root_mean_squared_error: 1.0257 - val_output_2_root_mean_squared_error: 0.9412\n",
      "Epoch 7/10\n",
      "363/363 [==============================] - 1s 2ms/step - loss: 0.3442 - output_1_loss: 0.3370 - output_2_loss: 0.4081 - output_1_root_mean_squared_error: 0.5806 - output_2_root_mean_squared_error: 0.6388 - val_loss: 0.5952 - val_output_1_loss: 0.6173 - val_output_2_loss: 0.3966 - val_output_1_root_mean_squared_error: 0.7857 - val_output_2_root_mean_squared_error: 0.6298\n",
      "Epoch 8/10\n",
      "363/363 [==============================] - 1s 2ms/step - loss: 0.3379 - output_1_loss: 0.3308 - output_2_loss: 0.4021 - output_1_root_mean_squared_error: 0.5751 - output_2_root_mean_squared_error: 0.6341 - val_loss: 0.9364 - val_output_1_loss: 0.9504 - val_output_2_loss: 0.8101 - val_output_1_root_mean_squared_error: 0.9749 - val_output_2_root_mean_squared_error: 0.9000\n",
      "Epoch 9/10\n",
      "363/363 [==============================] - 1s 2ms/step - loss: 0.3352 - output_1_loss: 0.3282 - output_2_loss: 0.3983 - output_1_root_mean_squared_error: 0.5729 - output_2_root_mean_squared_error: 0.6311 - val_loss: 0.6474 - val_output_1_loss: 0.6766 - val_output_2_loss: 0.3847 - val_output_1_root_mean_squared_error: 0.8225 - val_output_2_root_mean_squared_error: 0.6202\n",
      "Epoch 10/10\n",
      "363/363 [==============================] - 1s 2ms/step - loss: 0.3369 - output_1_loss: 0.3303 - output_2_loss: 0.3961 - output_1_root_mean_squared_error: 0.5747 - output_2_root_mean_squared_error: 0.6294 - val_loss: 0.7817 - val_output_1_loss: 0.7833 - val_output_2_loss: 0.7676 - val_output_1_root_mean_squared_error: 0.8850 - val_output_2_root_mean_squared_error: 0.8762\n"
     ]
    }
   ],
   "source": [
    "checkpoint_cb = tf.keras.callbacks.ModelCheckpoint(\n",
    "    \"checkpoints/my_checkpoints\", save_weights_only=True\n",
    ")\n",
    "history = model.fit(\n",
    "    (X_train_wide, X_train_deep),\n",
    "    (y_train, y_train),\n",
    "    epochs=10,\n",
    "    validation_data=((X_valid_wide, X_valid_deep), (y_valid, y_valid)),\n",
    "    callbacks=[checkpoint_cb],\n",
    ")\n"
   ]
  },
  {
   "cell_type": "code",
   "execution_count": 68,
   "metadata": {},
   "outputs": [
    {
     "name": "stdout",
     "output_type": "stream",
     "text": [
      "Epoch 1/100\n",
      "363/363 [==============================] - 1s 2ms/step - loss: 0.3304 - output_1_loss: 0.3237 - output_2_loss: 0.3909 - output_1_root_mean_squared_error: 0.5689 - output_2_root_mean_squared_error: 0.6252 - val_loss: 0.6598 - val_output_1_loss: 0.6902 - val_output_2_loss: 0.3864 - val_output_1_root_mean_squared_error: 0.8308 - val_output_2_root_mean_squared_error: 0.6216\n",
      "Epoch 2/100\n",
      "363/363 [==============================] - 1s 3ms/step - loss: 0.3318 - output_1_loss: 0.3254 - output_2_loss: 0.3886 - output_1_root_mean_squared_error: 0.5705 - output_2_root_mean_squared_error: 0.6234 - val_loss: 0.7441 - val_output_1_loss: 0.7429 - val_output_2_loss: 0.7551 - val_output_1_root_mean_squared_error: 0.8619 - val_output_2_root_mean_squared_error: 0.8690\n",
      "Epoch 3/100\n",
      "363/363 [==============================] - 1s 3ms/step - loss: 0.3274 - output_1_loss: 0.3209 - output_2_loss: 0.3857 - output_1_root_mean_squared_error: 0.5665 - output_2_root_mean_squared_error: 0.6211 - val_loss: 0.3649 - val_output_1_loss: 0.3647 - val_output_2_loss: 0.3669 - val_output_1_root_mean_squared_error: 0.6039 - val_output_2_root_mean_squared_error: 0.6057\n",
      "Epoch 4/100\n",
      "363/363 [==============================] - 1s 2ms/step - loss: 0.3248 - output_1_loss: 0.3183 - output_2_loss: 0.3834 - output_1_root_mean_squared_error: 0.5642 - output_2_root_mean_squared_error: 0.6192 - val_loss: 0.4414 - val_output_1_loss: 0.4255 - val_output_2_loss: 0.5848 - val_output_1_root_mean_squared_error: 0.6523 - val_output_2_root_mean_squared_error: 0.7647\n",
      "Epoch 5/100\n",
      "363/363 [==============================] - 1s 2ms/step - loss: 0.3240 - output_1_loss: 0.3179 - output_2_loss: 0.3788 - output_1_root_mean_squared_error: 0.5638 - output_2_root_mean_squared_error: 0.6155 - val_loss: 0.3892 - val_output_1_loss: 0.3907 - val_output_2_loss: 0.3758 - val_output_1_root_mean_squared_error: 0.6251 - val_output_2_root_mean_squared_error: 0.6131\n",
      "Epoch 6/100\n",
      "363/363 [==============================] - 1s 2ms/step - loss: 0.3203 - output_1_loss: 0.3140 - output_2_loss: 0.3771 - output_1_root_mean_squared_error: 0.5604 - output_2_root_mean_squared_error: 0.6141 - val_loss: 0.5300 - val_output_1_loss: 0.5086 - val_output_2_loss: 0.7226 - val_output_1_root_mean_squared_error: 0.7132 - val_output_2_root_mean_squared_error: 0.8501\n",
      "Epoch 7/100\n",
      "363/363 [==============================] - 1s 2ms/step - loss: 0.3203 - output_1_loss: 0.3141 - output_2_loss: 0.3761 - output_1_root_mean_squared_error: 0.5604 - output_2_root_mean_squared_error: 0.6133 - val_loss: 0.4098 - val_output_1_loss: 0.4138 - val_output_2_loss: 0.3733 - val_output_1_root_mean_squared_error: 0.6433 - val_output_2_root_mean_squared_error: 0.6110\n",
      "Epoch 8/100\n",
      "363/363 [==============================] - 1s 2ms/step - loss: 0.3177 - output_1_loss: 0.3116 - output_2_loss: 0.3730 - output_1_root_mean_squared_error: 0.5582 - output_2_root_mean_squared_error: 0.6107 - val_loss: 1.1125 - val_output_1_loss: 1.1129 - val_output_2_loss: 1.1093 - val_output_1_root_mean_squared_error: 1.0549 - val_output_2_root_mean_squared_error: 1.0533\n",
      "Epoch 9/100\n",
      "363/363 [==============================] - 1s 2ms/step - loss: 0.3171 - output_1_loss: 0.3110 - output_2_loss: 0.3716 - output_1_root_mean_squared_error: 0.5577 - output_2_root_mean_squared_error: 0.6096 - val_loss: 0.5558 - val_output_1_loss: 0.5661 - val_output_2_loss: 0.4627 - val_output_1_root_mean_squared_error: 0.7524 - val_output_2_root_mean_squared_error: 0.6803\n",
      "Epoch 10/100\n",
      "363/363 [==============================] - 1s 2ms/step - loss: 0.3201 - output_1_loss: 0.3144 - output_2_loss: 0.3719 - output_1_root_mean_squared_error: 0.5607 - output_2_root_mean_squared_error: 0.6098 - val_loss: 0.6880 - val_output_1_loss: 0.6758 - val_output_2_loss: 0.7979 - val_output_1_root_mean_squared_error: 0.8221 - val_output_2_root_mean_squared_error: 0.8932\n",
      "Epoch 11/100\n",
      "363/363 [==============================] - 1s 2ms/step - loss: 0.3136 - output_1_loss: 0.3076 - output_2_loss: 0.3672 - output_1_root_mean_squared_error: 0.5547 - output_2_root_mean_squared_error: 0.6060 - val_loss: 0.7923 - val_output_1_loss: 0.7978 - val_output_2_loss: 0.7429 - val_output_1_root_mean_squared_error: 0.8932 - val_output_2_root_mean_squared_error: 0.8619\n",
      "Epoch 12/100\n",
      "363/363 [==============================] - 1s 2ms/step - loss: 0.3268 - output_1_loss: 0.3210 - output_2_loss: 0.3791 - output_1_root_mean_squared_error: 0.5666 - output_2_root_mean_squared_error: 0.6157 - val_loss: 0.9666 - val_output_1_loss: 0.9197 - val_output_2_loss: 1.3885 - val_output_1_root_mean_squared_error: 0.9590 - val_output_2_root_mean_squared_error: 1.1783\n",
      "Epoch 13/100\n",
      "363/363 [==============================] - 1s 2ms/step - loss: 0.3156 - output_1_loss: 0.3092 - output_2_loss: 0.3730 - output_1_root_mean_squared_error: 0.5560 - output_2_root_mean_squared_error: 0.6108 - val_loss: 0.4004 - val_output_1_loss: 0.3949 - val_output_2_loss: 0.4502 - val_output_1_root_mean_squared_error: 0.6284 - val_output_2_root_mean_squared_error: 0.6710\n"
     ]
    }
   ],
   "source": [
    "early_stopping_cb = tf.keras.callbacks.EarlyStopping(\n",
    "    patience=10, restore_best_weights=True\n",
    ")\n",
    "history = model.fit(\n",
    "    (X_train_wide, X_train_deep),\n",
    "    (y_train, y_train),\n",
    "    epochs=100,\n",
    "    validation_data=((X_valid_wide, X_valid_deep), (y_valid, y_valid)),\n",
    "    callbacks=[checkpoint_cb, early_stopping_cb],\n",
    ")\n"
   ]
  },
  {
   "cell_type": "code",
   "execution_count": 70,
   "metadata": {},
   "outputs": [],
   "source": [
    "class PrintValTrainRatioCallback(tf.keras.callbacks.Callback):\n",
    "    def on_epoch_end(self, epoch, logs=None):\n",
    "        ratio = logs[\"val_loss\"] / logs[\"loss\"]\n",
    "        print(f\"Epoch {epoch}: val_loss/train_loss: {ratio:.2f}\")\n"
   ]
  },
  {
   "cell_type": "code",
   "execution_count": 71,
   "metadata": {},
   "outputs": [
    {
     "name": "stdout",
     "output_type": "stream",
     "text": [
      "Epoch 0: val_loss/train_loss: 1.57\n",
      "Epoch 1: val_loss/train_loss: 0.98\n",
      "Epoch 2: val_loss/train_loss: 1.27\n",
      "Epoch 3: val_loss/train_loss: 1.13\n",
      "Epoch 4: val_loss/train_loss: 1.37\n",
      "Epoch 5: val_loss/train_loss: 1.29\n",
      "Epoch 6: val_loss/train_loss: 2.30\n",
      "Epoch 7: val_loss/train_loss: 2.15\n",
      "Epoch 8: val_loss/train_loss: 3.97\n",
      "Epoch 9: val_loss/train_loss: 1.30\n"
     ]
    }
   ],
   "source": [
    "val_train_ratio_cb = PrintValTrainRatioCallback()\n",
    "history = model.fit(\n",
    "    (X_train_wide, X_train_deep),\n",
    "    (y_train, y_train),\n",
    "    epochs=10,\n",
    "    validation_data=((X_valid_wide, X_valid_deep), (y_valid, y_valid)),\n",
    "    callbacks=[val_train_ratio_cb],\n",
    "    verbose=0,\n",
    ")\n"
   ]
  },
  {
   "attachments": {},
   "cell_type": "markdown",
   "metadata": {},
   "source": [
    "---"
   ]
  },
  {
   "attachments": {},
   "cell_type": "markdown",
   "metadata": {},
   "source": [
    "## **USING TENSORBOARD FOR VISUALIZATION:**"
   ]
  },
  {
   "cell_type": "code",
   "execution_count": 72,
   "metadata": {},
   "outputs": [],
   "source": [
    "shutil.rmtree(\"logs\", ignore_errors=True)\n"
   ]
  },
  {
   "cell_type": "code",
   "execution_count": 73,
   "metadata": {},
   "outputs": [],
   "source": [
    "from pathlib import Path\n",
    "from time import strftime\n",
    "\n",
    "\n",
    "def get_run_logdir(root_logdir=\"logs\"):\n",
    "    return Path(root_logdir) / strftime(\"run_%Y-%m-%d_%H_%M_%S\")\n",
    "\n",
    "\n",
    "# logdir_path = lambda root_logdir: Path(root_logdir) / strftime(\"run_%Y-%m-%d_%H_%M_%S\")\n",
    "run_logdir = get_run_logdir()\n"
   ]
  },
  {
   "cell_type": "code",
   "execution_count": 74,
   "metadata": {},
   "outputs": [
    {
     "name": "stdout",
     "output_type": "stream",
     "text": [
      "Epoch 1/20\n",
      "363/363 [==============================] - 1s 2ms/step - loss: 1.8471 - root_mean_squared_error: 1.3591 - val_loss: 0.8600 - val_root_mean_squared_error: 0.9273\n",
      "Epoch 2/20\n",
      "363/363 [==============================] - 1s 1ms/step - loss: 0.7967 - root_mean_squared_error: 0.8926 - val_loss: 0.7080 - val_root_mean_squared_error: 0.8414\n",
      "Epoch 3/20\n",
      "363/363 [==============================] - 0s 1ms/step - loss: 0.7088 - root_mean_squared_error: 0.8419 - val_loss: 0.6450 - val_root_mean_squared_error: 0.8031\n",
      "Epoch 4/20\n",
      "363/363 [==============================] - 1s 1ms/step - loss: 0.6531 - root_mean_squared_error: 0.8082 - val_loss: 0.6014 - val_root_mean_squared_error: 0.7755\n",
      "Epoch 5/20\n",
      "363/363 [==============================] - 0s 1ms/step - loss: 0.6135 - root_mean_squared_error: 0.7832 - val_loss: 0.5665 - val_root_mean_squared_error: 0.7527\n",
      "Epoch 6/20\n",
      "363/363 [==============================] - 1s 1ms/step - loss: 0.5805 - root_mean_squared_error: 0.7619 - val_loss: 0.5393 - val_root_mean_squared_error: 0.7344\n",
      "Epoch 7/20\n",
      "363/363 [==============================] - 0s 1ms/step - loss: 0.5545 - root_mean_squared_error: 0.7447 - val_loss: 0.5108 - val_root_mean_squared_error: 0.7147\n",
      "Epoch 8/20\n",
      "363/363 [==============================] - 1s 1ms/step - loss: 0.5319 - root_mean_squared_error: 0.7293 - val_loss: 0.4963 - val_root_mean_squared_error: 0.7045\n",
      "Epoch 9/20\n",
      "363/363 [==============================] - 1s 1ms/step - loss: 0.5121 - root_mean_squared_error: 0.7156 - val_loss: 0.4807 - val_root_mean_squared_error: 0.6933\n",
      "Epoch 10/20\n",
      "363/363 [==============================] - 1s 2ms/step - loss: 0.4950 - root_mean_squared_error: 0.7036 - val_loss: 0.4673 - val_root_mean_squared_error: 0.6836\n",
      "Epoch 11/20\n",
      "363/363 [==============================] - 1s 2ms/step - loss: 0.4805 - root_mean_squared_error: 0.6932 - val_loss: 0.4694 - val_root_mean_squared_error: 0.6851\n",
      "Epoch 12/20\n",
      "363/363 [==============================] - 1s 2ms/step - loss: 0.4677 - root_mean_squared_error: 0.6839 - val_loss: 0.4564 - val_root_mean_squared_error: 0.6756\n",
      "Epoch 13/20\n",
      "363/363 [==============================] - 1s 2ms/step - loss: 0.4566 - root_mean_squared_error: 0.6757 - val_loss: 0.4519 - val_root_mean_squared_error: 0.6722\n",
      "Epoch 14/20\n",
      "363/363 [==============================] - 1s 2ms/step - loss: 0.4473 - root_mean_squared_error: 0.6688 - val_loss: 0.4470 - val_root_mean_squared_error: 0.6686\n",
      "Epoch 15/20\n",
      "363/363 [==============================] - 1s 2ms/step - loss: 0.4393 - root_mean_squared_error: 0.6628 - val_loss: 0.4522 - val_root_mean_squared_error: 0.6725\n",
      "Epoch 16/20\n",
      "363/363 [==============================] - 1s 2ms/step - loss: 0.4325 - root_mean_squared_error: 0.6576 - val_loss: 0.4450 - val_root_mean_squared_error: 0.6671\n",
      "Epoch 17/20\n",
      "363/363 [==============================] - 1s 2ms/step - loss: 0.4264 - root_mean_squared_error: 0.6530 - val_loss: 0.4615 - val_root_mean_squared_error: 0.6793\n",
      "Epoch 18/20\n",
      "363/363 [==============================] - 0s 1ms/step - loss: 0.4218 - root_mean_squared_error: 0.6494 - val_loss: 0.4670 - val_root_mean_squared_error: 0.6834\n",
      "Epoch 19/20\n",
      "363/363 [==============================] - 1s 1ms/step - loss: 0.4170 - root_mean_squared_error: 0.6457 - val_loss: 0.4612 - val_root_mean_squared_error: 0.6792\n",
      "Epoch 20/20\n",
      "363/363 [==============================] - 0s 1ms/step - loss: 0.4135 - root_mean_squared_error: 0.6431 - val_loss: 0.5065 - val_root_mean_squared_error: 0.7117\n"
     ]
    }
   ],
   "source": [
    "# extra code – builds the first regression model we used earlier\n",
    "tf.keras.backend.clear_session()\n",
    "tf.random.set_seed(42)\n",
    "norm_layer = tf.keras.layers.Normalization(input_shape=X_train.shape[1:])\n",
    "model = tf.keras.Sequential(\n",
    "    [\n",
    "        norm_layer,\n",
    "        tf.keras.layers.Dense(30, activation=\"relu\"),\n",
    "        tf.keras.layers.Dense(30, activation=\"relu\"),\n",
    "        tf.keras.layers.Dense(1),\n",
    "    ],\n",
    ")\n",
    "\n",
    "optimizer = tf.keras.optimizers.SGD(learning_rate=1e-3)\n",
    "model.compile(loss=\"mse\", optimizer=optimizer, metrics=[\"RootMeanSquaredError\"])\n",
    "norm_layer.adapt(X_train)\n",
    "\n",
    "tensorboard_cb = tf.keras.callbacks.TensorBoard(run_logdir, profile_batch=(100, 200))\n",
    "history = model.fit(\n",
    "    X_train,\n",
    "    y_train,\n",
    "    epochs=20,\n",
    "    validation_data=(X_valid, y_valid),\n",
    "    callbacks=[tensorboard_cb],\n",
    ")\n"
   ]
  },
  {
   "cell_type": "code",
   "execution_count": 78,
   "metadata": {},
   "outputs": [
    {
     "name": "stdout",
     "output_type": "stream",
     "text": [
      "logs\n",
      "  run_2023-03-05_15_22_00\n",
      "    events.out.tfevents.1678026203.PREDATOR.profile-empty\n",
      "    plugins\n",
      "      profile\n",
      "        2023_03_05_14_23_23\n",
      "          PREDATOR.xplane.pb\n",
      "    train\n",
      "      events.out.tfevents.1678026202.PREDATOR.10368.0.v2\n",
      "    validation\n",
      "      events.out.tfevents.1678026203.PREDATOR.10368.1.v2\n"
     ]
    }
   ],
   "source": [
    "print(\"logs\")\n",
    "for path in sorted(Path(\"logs\").glob(\"**/*\")):\n",
    "    print(\"  \" * (len(path.parts) - 1) + path.parts[-1])\n"
   ]
  },
  {
   "attachments": {},
   "cell_type": "markdown",
   "metadata": {},
   "source": [
    "Mateusz: It's better to run this from terminal."
   ]
  },
  {
   "attachments": {},
   "cell_type": "markdown",
   "metadata": {},
   "source": [
    "`tensorboard --logdir=./logs --host=localhost --port=6006 &` "
   ]
  },
  {
   "attachments": {},
   "cell_type": "markdown",
   "metadata": {},
   "source": [
    "**Note**: if you prefer to access TensorBoard in a separate tab, click the \"localhost:6006\" link below:"
   ]
  },
  {
   "cell_type": "code",
   "execution_count": 79,
   "metadata": {},
   "outputs": [
    {
     "data": {
      "text/html": [
       "<a href=\"http://localhost:6006/\">http://localhost:6006/</a>"
      ],
      "text/plain": [
       "<IPython.core.display.HTML object>"
      ]
     },
     "metadata": {},
     "output_type": "display_data"
    }
   ],
   "source": [
    "from IPython.display import display, HTML\n",
    "\n",
    "display(HTML('<a href=\"http://localhost:6006/\">http://localhost:6006/</a>'))"
   ]
  },
  {
   "attachments": {},
   "cell_type": "markdown",
   "metadata": {},
   "source": [
    "You can use also visualize histograms, images, text, and even listen to audio using TensorBoard:"
   ]
  },
  {
   "cell_type": "code",
   "execution_count": 80,
   "metadata": {},
   "outputs": [],
   "source": [
    "test_logdir = get_run_logdir()\n",
    "writer = tf.summary.create_file_writer(str(test_logdir))\n",
    "with writer.as_default():\n",
    "    for step in range(1, 1000 + 1):\n",
    "        tf.summary.scalar(\"my_scalar\", np.sin(step / 10), step=step)\n",
    "\n",
    "        data = (np.random.randn(100) + 2) * step / 100  # gets larger\n",
    "        tf.summary.histogram(\"my_hist\", data, buckets=50, step=step)\n",
    "\n",
    "        images = np.random.rand(2, 32, 32, 3) * step / 1000  # gets brighter\n",
    "        tf.summary.image(\"my_images\", images, step=step)\n",
    "\n",
    "        texts = [\"The step is \" + str(step), \"Its square is \" + str(step**2)]\n",
    "        tf.summary.text(\"my_text\", texts, step=step)\n",
    "\n",
    "        sine_wave = tf.math.sin(tf.range(12000) / 48000 * 2 * np.pi * step)\n",
    "        audio = tf.reshape(tf.cast(sine_wave, tf.float32), [1, -1, 1])\n",
    "        tf.summary.audio(\"my_audio\", audio, sample_rate=48000, step=step)\n"
   ]
  },
  {
   "attachments": {},
   "cell_type": "markdown",
   "metadata": {},
   "source": [
    "You can share your TensorBoard logs with the world by uploading them to https://tensorboard.dev/. For this, you can run the `tensorboard dev upload` command, with the `--logdir` and `--one_shot` options, and optionally the `--name` and `--description` options. The first time, it will ask you to accept Google's Terms of Service, and to authenticate.\n",
    "\n",
    "Notes:\n",
    "* Authenticating requires user input. Colab supports user input from shell commands, but the main other Jupyter environments do not, so for them we use a hackish workaround (alternatively, you could run the command in a terminal window, after you make sure to activate this project's conda environment and move to this notebook's directory).\n",
    "* If you get an authentication related error (such as *invalid_grant: Bad Request*), it's likely that your login session has expired. In this case, try running the command `tensorboard dev auth revoke` to logout, and try again."
   ]
  },
  {
   "cell_type": "code",
   "execution_count": 82,
   "metadata": {},
   "outputs": [
    {
     "name": "stdout",
     "output_type": "stream",
     "text": [
      "\n",
      "New experiment created. View your TensorBoard at: https://tensorboard.dev/experiment/9wb7lnjuRvirsnGnwh40rA/\n",
      "\n",
      "\u001b[1m[2023-03-05T15:46:20]\u001b[0m Started scanning logdir.\n",
      "\u001b[1m[2023-03-05T15:46:24]\u001b[0m Total uploaded: 1120 scalars, 2000 tensors (1.2 MB), 1 binary objects (32.8 kB)\n",
      "\u001b[1m[2023-03-05T15:46:24]\u001b[0m Done scanning logdir.\n",
      "\n",
      "\n",
      "Done. View your TensorBoard at https://tensorboard.dev/experiment/9wb7lnjuRvirsnGnwh40rA/\n"
     ]
    }
   ],
   "source": [
    "from tensorboard.main import run_main\n",
    "\n",
    "argv = \"tensorboard dev upload --logdir ./logs --one_shot\".split()\n",
    "argv += [\"--name\", \"Quick test\", \"--description\", \"This is a test\"]\n",
    "try:\n",
    "    original_sys_argv_and_sys_exit = sys.argv, sys.exit\n",
    "    sys.argv, sys.exit = argv, lambda status: None\n",
    "    run_main()\n",
    "finally:\n",
    "    sys.argv, sys.exit = original_sys_argv_and_sys_exit\n"
   ]
  },
  {
   "attachments": {},
   "cell_type": "markdown",
   "metadata": {},
   "source": [
    "You can get list your published experiments:"
   ]
  },
  {
   "cell_type": "code",
   "execution_count": 83,
   "metadata": {},
   "outputs": [
    {
     "name": "stdout",
     "output_type": "stream",
     "text": [
      "https://tensorboard.dev/experiment/9wb7lnjuRvirsnGnwh40rA/\n",
      "\tName                 Quick test\n",
      "\tDescription          This is a test\n",
      "\tId                   9wb7lnjuRvirsnGnwh40rA\n",
      "\tCreated              2023-03-05 15:46:20 (1 minute ago)\n",
      "\tUpdated              2023-03-05 15:46:24 (59 seconds ago)\n",
      "\tRuns                 3\n",
      "\tTags                 8\n",
      "\tScalars              1120\n",
      "\tTensor bytes         1421436\n",
      "\tBinary object bytes  33791\n",
      "https://tensorboard.dev/experiment/MIDVN768TJSAev5YuGI2Bw/\n",
      "\tName                 Quick test\n",
      "\tDescription          This is a test\n",
      "\tId                   MIDVN768TJSAev5YuGI2Bw\n",
      "\tCreated              2023-03-05 15:45:19 (2 minutes ago)\n",
      "\tUpdated              2023-03-05 15:45:23 (2 minutes ago)\n",
      "\tRuns                 3\n",
      "\tTags                 8\n",
      "\tScalars              1120\n",
      "\tTensor bytes         1421436\n",
      "\tBinary object bytes  33791\n"
     ]
    },
    {
     "name": "stderr",
     "output_type": "stream",
     "text": [
      "Total: 2 experiment(s)\n"
     ]
    }
   ],
   "source": [
    "!tensorboard dev list"
   ]
  },
  {
   "attachments": {},
   "cell_type": "markdown",
   "metadata": {},
   "source": [
    "To delete an experiment, use the following command:\n",
    "\n",
    "```python\n",
    "!tensorboard dev delete --experiment_id <experiment_id>\n",
    "```"
   ]
  },
  {
   "attachments": {},
   "cell_type": "markdown",
   "metadata": {},
   "source": [
    "When you stop this Jupyter kernel (a.k.a. Runtime), it will automatically stop the TensorBoard server as well. Another way to stop the TensorBoard server is to kill it, if you are running on Linux or MacOSX. First, you need to find its process ID:"
   ]
  },
  {
   "cell_type": "code",
   "execution_count": 86,
   "metadata": {},
   "outputs": [
    {
     "name": "stdout",
     "output_type": "stream",
     "text": [
      "Known TensorBoard instances:\n",
      "  - port 6006: logdir my_fashion_mnisthyperbandtensorboard (started 7 days, 18:43:55 ago; pid 10872)\n",
      "  - port 6006: logdir ./my_logs (started 7 days, 22:28:45 ago; pid 11952)\n",
      "  - port 6006: logdir ./my_cifar10_logs (started 1 day, 0:42:14 ago; pid 12556)\n",
      "  - port 6006: logdir ./my_cifar10_logs (started 1 day, 0:06:01 ago; pid 13464)\n",
      "  - port 6006: logdir ./logs (started 0:12:01 ago; pid 15072)\n",
      "  - port 6006: logdir ./logs (started 0:11:11 ago; pid 15960)\n",
      "  - port 6006: logdir ./my_mnist_logs (started 7 days, 18:13:30 ago; pid 4748)\n",
      "  - port 6002: logdir ./my_mnist_logs (started 7 days, 18:10:29 ago; pid 4988)\n",
      "  - port 8088: logdir ./my_mnist_logs (started 7 days, 18:07:24 ago; pid 6704)\n",
      "  - port 6006: logdir ./my_cifar10_logs (started 1 day, 0:08:49 ago; pid 7608)\n",
      "  - port 6006: logdir my_mnist_logs (started 7 days, 18:12:12 ago; pid 7936)\n",
      "  - port 6002: logdir ./my_mnist_logs/run_001 (started 7 days, 18:09:25 ago; pid 9740)\n"
     ]
    }
   ],
   "source": [
    "# extra code – lists all running TensorBoard server instances\n",
    "\n",
    "from tensorboard import notebook\n",
    "\n",
    "notebook.list()"
   ]
  },
  {
   "attachments": {},
   "cell_type": "markdown",
   "metadata": {},
   "source": [
    "Next you can use the following command on Linux or MacOSX, replacing `<pid>` with the pid listed above:\n",
    "\n",
    "    !kill <pid>\n",
    "\n",
    "On Windows:\n",
    "\n",
    "    !taskkill /F /PID <pid>"
   ]
  },
  {
   "attachments": {},
   "cell_type": "markdown",
   "metadata": {},
   "source": [
    "---"
   ]
  },
  {
   "attachments": {},
   "cell_type": "markdown",
   "metadata": {},
   "source": [
    "## **FINE-TUNING NEURAL NETWORK HYPERPARAMETERS:**"
   ]
  },
  {
   "attachments": {},
   "cell_type": "markdown",
   "metadata": {},
   "source": [
    "In this section we'll use the Fashion MNIST dataset again:"
   ]
  },
  {
   "cell_type": "code",
   "execution_count": 87,
   "metadata": {},
   "outputs": [],
   "source": [
    "(X_train_full, y_train_full), (X_test, y_test) = fashion_mnist\n",
    "X_train, y_train = X_train_full[:-5000], y_train_full[:-5000]\n",
    "X_valid, y_valid = X_train_full[-5000:], y_train_full[-5000:]\n"
   ]
  },
  {
   "cell_type": "code",
   "execution_count": 95,
   "metadata": {},
   "outputs": [],
   "source": [
    "import keras_tuner as kt\n",
    "\n",
    "tf.keras.backend.clear_session()\n",
    "tf.random.set_seed(42)\n",
    "\n",
    "\n",
    "def build_model(hp):\n",
    "    n_hidden = hp.Int(\"n_hidden\", min_value=0, max_value=8, default=2)\n",
    "    n_neurons = hp.Int(\"n_neurons\", min_value=16, max_value=256)\n",
    "    learning_rate = hp.Float(\n",
    "        \"learning_rate\", min_value=1e-4, max_value=1e-2, sampling=\"log\"\n",
    "    )\n",
    "    optimizer = hp.Choice(\"optimizer\", values=[\"sgd\", \"adam\"])\n",
    "    if optimizer == \"sgd\":\n",
    "        optimizer = tf.keras.optimizers.SGD(learning_rate=learning_rate)\n",
    "    else:\n",
    "        optimizer = tf.keras.optimizers.Adam(learning_rate=learning_rate)\n",
    "\n",
    "    model = tf.keras.Sequential()\n",
    "    model.add(tf.keras.layers.Flatten())\n",
    "    for _ in range(n_hidden):\n",
    "        model.add(tf.keras.layers.Dense(n_neurons, activation=\"relu\"))\n",
    "    model.add(tf.keras.layers.Dense(10, activation=\"softmax\"))\n",
    "\n",
    "    model.compile(\n",
    "        loss=\"sparse_categorical_crossentropy\",\n",
    "        optimizer=optimizer,\n",
    "        metrics=[\"accuracy\"],\n",
    "    )\n",
    "\n",
    "    return model\n"
   ]
  },
  {
   "cell_type": "code",
   "execution_count": 96,
   "metadata": {},
   "outputs": [
    {
     "name": "stdout",
     "output_type": "stream",
     "text": [
      "Trial 5 Complete [00h 00m 29s]\n",
      "val_accuracy: 0.8399999737739563\n",
      "\n",
      "Best val_accuracy So Far: 0.8610000014305115\n",
      "Total elapsed time: 00h 02m 30s\n",
      "INFO:tensorflow:Oracle triggered exit\n"
     ]
    },
    {
     "name": "stderr",
     "output_type": "stream",
     "text": [
      "I0305 16:08:29.190141 20000 2535291503.py:10] Oracle triggered exit\n"
     ]
    }
   ],
   "source": [
    "random_search_tuner = kt.RandomSearch(\n",
    "    build_model,\n",
    "    objective=\"val_accuracy\",\n",
    "    max_trials=5,\n",
    "    overwrite=True,\n",
    "    directory=\"keras_tuner/my_fashion_mnist\",\n",
    "    project_name=\"mr_rnd_search\",\n",
    "    seed=42,\n",
    ")\n",
    "random_search_tuner.search(\n",
    "    X_train, y_train, epochs=10, validation_data=(X_valid, y_valid)\n",
    ")\n"
   ]
  },
  {
   "cell_type": "code",
   "execution_count": null,
   "metadata": {},
   "outputs": [],
   "source": [
    "top3_models = random_search_tuner.get_best_models(num_models=3)\n",
    "best_model = top3_models[0]\n"
   ]
  },
  {
   "cell_type": "code",
   "execution_count": 102,
   "metadata": {},
   "outputs": [
    {
     "data": {
      "text/plain": [
       "{'n_hidden': 8,\n",
       " 'n_neurons': 37,\n",
       " 'learning_rate': 0.008547485565344062,\n",
       " 'optimizer': 'sgd'}"
      ]
     },
     "execution_count": 102,
     "metadata": {},
     "output_type": "execute_result"
    }
   ],
   "source": [
    "top3_params = random_search_tuner.get_best_hyperparameters(num_trials=3)\n",
    "top3_params[0].values  # best hyperparameter values\n"
   ]
  },
  {
   "cell_type": "code",
   "execution_count": 103,
   "metadata": {},
   "outputs": [
    {
     "name": "stdout",
     "output_type": "stream",
     "text": [
      "Trial summary\n",
      "Hyperparameters:\n",
      "n_hidden: 8\n",
      "n_neurons: 37\n",
      "learning_rate: 0.008547485565344062\n",
      "optimizer: sgd\n",
      "Score: 0.8610000014305115\n"
     ]
    }
   ],
   "source": [
    "best_trial = random_search_tuner.oracle.get_best_trials(num_trials=1)[0]\n",
    "best_trial.summary()\n"
   ]
  },
  {
   "cell_type": "code",
   "execution_count": 106,
   "metadata": {},
   "outputs": [
    {
     "data": {
      "text/plain": [
       "0.8610000014305115"
      ]
     },
     "execution_count": 106,
     "metadata": {},
     "output_type": "execute_result"
    }
   ],
   "source": [
    "best_trial.metrics.get_last_value(\"val_accuracy\")"
   ]
  },
  {
   "cell_type": "code",
   "execution_count": 115,
   "metadata": {},
   "outputs": [
    {
     "name": "stdout",
     "output_type": "stream",
     "text": [
      "Epoch 1/10\n",
      "1875/1875 [==============================] - 3s 1ms/step - loss: 0.3693 - accuracy: 0.8674\n",
      "Epoch 2/10\n",
      "1875/1875 [==============================] - 3s 1ms/step - loss: 0.3610 - accuracy: 0.8705\n",
      "Epoch 3/10\n",
      "1875/1875 [==============================] - 3s 2ms/step - loss: 0.3534 - accuracy: 0.8740\n",
      "Epoch 4/10\n",
      "1875/1875 [==============================] - 3s 1ms/step - loss: 0.3468 - accuracy: 0.8749\n",
      "Epoch 5/10\n",
      "1875/1875 [==============================] - 3s 1ms/step - loss: 0.3433 - accuracy: 0.8763\n",
      "Epoch 6/10\n",
      "1875/1875 [==============================] - 2s 1ms/step - loss: 0.3364 - accuracy: 0.8782\n",
      "Epoch 7/10\n",
      "1875/1875 [==============================] - 3s 1ms/step - loss: 0.3320 - accuracy: 0.8808\n",
      "Epoch 8/10\n",
      "1875/1875 [==============================] - 3s 1ms/step - loss: 0.3279 - accuracy: 0.8810\n",
      "Epoch 9/10\n",
      "1875/1875 [==============================] - 3s 1ms/step - loss: 0.3237 - accuracy: 0.8831\n",
      "Epoch 10/10\n",
      "1875/1875 [==============================] - 2s 1ms/step - loss: 0.3209 - accuracy: 0.8842\n",
      "313/313 [==============================] - 0s 1ms/step - loss: 0.4120 - accuracy: 0.8547\n"
     ]
    }
   ],
   "source": [
    "best_model.fit(X_train_full, y_train_full, epochs=10)\n",
    "test_loss, test_accuracy = best_model.evaluate(X_test, y_test)\n"
   ]
  },
  {
   "cell_type": "code",
   "execution_count": 118,
   "metadata": {},
   "outputs": [],
   "source": [
    "class MyClassificationHyperModel(kt.HyperModel):\n",
    "    def build(self, hp):\n",
    "        return build_model(hp)\n",
    "\n",
    "    def fit(self, hp, model, X, y, **kwargs):\n",
    "        if hp.Boolean(\"normalize\"):\n",
    "            norm_layer = tf.keras.layers.Normalization()\n",
    "            X = norm_layer(X)\n",
    "        return model.fit(X, y, **kwargs)\n"
   ]
  },
  {
   "cell_type": "code",
   "execution_count": 120,
   "metadata": {},
   "outputs": [
    {
     "name": "stdout",
     "output_type": "stream",
     "text": [
      "Trial 60 Complete [00h 00m 35s]\n",
      "val_accuracy: 0.8299999833106995\n",
      "\n",
      "Best val_accuracy So Far: 0.8823999762535095\n",
      "Total elapsed time: 00h 15m 19s\n",
      "INFO:tensorflow:Oracle triggered exit\n"
     ]
    },
    {
     "name": "stderr",
     "output_type": "stream",
     "text": [
      "I0305 16:45:12.219370 20000 280322460.py:16] Oracle triggered exit\n"
     ]
    }
   ],
   "source": [
    "hyperband_tuner = kt.Hyperband(\n",
    "    MyClassificationHyperModel(),\n",
    "    objective=\"val_accuracy\",\n",
    "    seed=42,\n",
    "    max_epochs=10,\n",
    "    factor=3,\n",
    "    hyperband_iterations=2,\n",
    "    overwrite=True,\n",
    "    directory=\"keras_tuner/my_fashion_mnist\",\n",
    "    project_name=\"hyperband\",\n",
    ")\n",
    "\n",
    "root_logdir = Path(hyperband_tuner.project_dir) / \"tensorboard\"\n",
    "tensorboard_cb = tf.keras.callbacks.TensorBoard(root_logdir)\n",
    "early_stopping_cb = tf.keras.callbacks.EarlyStopping(patience=2)\n",
    "hyperband_tuner.search(\n",
    "    X_train,\n",
    "    y_train,\n",
    "    epochs=10,\n",
    "    validation_data=(X_valid, y_valid),\n",
    "    callbacks=[early_stopping_cb, tensorboard_cb],\n",
    ")\n"
   ]
  },
  {
   "cell_type": "code",
   "execution_count": 121,
   "metadata": {},
   "outputs": [
    {
     "name": "stdout",
     "output_type": "stream",
     "text": [
      "Trial 10 Complete [00h 00m 34s]\n",
      "val_accuracy: 0.8456000089645386\n",
      "\n",
      "Best val_accuracy So Far: 0.8628000020980835\n",
      "Total elapsed time: 00h 04m 42s\n",
      "INFO:tensorflow:Oracle triggered exit\n"
     ]
    },
    {
     "name": "stderr",
     "output_type": "stream",
     "text": [
      "I0305 16:51:19.495434 20000 1942228349.py:12] Oracle triggered exit\n"
     ]
    }
   ],
   "source": [
    "bayesian_opt_tuner = kt.BayesianOptimization(\n",
    "    MyClassificationHyperModel(),\n",
    "    objective=\"val_accuracy\",\n",
    "    seed=42,\n",
    "    max_trials=10,\n",
    "    alpha=1e-4,\n",
    "    beta=2.6,\n",
    "    overwrite=True,\n",
    "    directory=\"keras_tuner/my_fashion_mnist\",\n",
    "    project_name=\"bayesian_opt\",\n",
    ")\n",
    "bayesian_opt_tuner.search(\n",
    "    X_train,\n",
    "    y_train,\n",
    "    epochs=10,\n",
    "    validation_data=(X_valid, y_valid),\n",
    "    callbacks=[early_stopping_cb],\n",
    ")\n"
   ]
  },
  {
   "cell_type": "code",
   "execution_count": null,
   "metadata": {},
   "outputs": [],
   "source": []
  }
 ],
 "metadata": {
  "kernelspec": {
   "display_name": "Python 3",
   "language": "python",
   "name": "python3"
  },
  "language_info": {
   "codemirror_mode": {
    "name": "ipython",
    "version": 3
   },
   "file_extension": ".py",
   "mimetype": "text/x-python",
   "name": "python",
   "nbconvert_exporter": "python",
   "pygments_lexer": "ipython3",
   "version": "3.10.5"
  },
  "orig_nbformat": 4
 },
 "nbformat": 4,
 "nbformat_minor": 2
}
