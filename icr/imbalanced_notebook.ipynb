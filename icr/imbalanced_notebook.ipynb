{
 "cells": [
  {
   "cell_type": "code",
   "execution_count": 15,
   "metadata": {},
   "outputs": [],
   "source": [
    "import os\n",
    "import shutil\n",
    "import subprocess\n",
    "from collections import defaultdict\n",
    "from functools import partial\n",
    "from pathlib import Path\n",
    "\n",
    "# Sub-modules and so on.\n",
    "import numpy as np\n",
    "import pandas as pd\n",
    "import plotly.express as px\n",
    "import scipy.stats as stats\n",
    "from scipy.stats import probplot\n",
    "\n",
    "from sklearn.pipeline import make_pipeline\n",
    "from sklearn.compose import make_column_transformer\n",
    "from sklearn.compose import make_column_selector\n",
    "from sklearn.ensemble import VotingClassifier\n",
    "from sklearn.impute import KNNImputer, SimpleImputer\n",
    "from sklearn.model_selection import StratifiedKFold\n",
    "from sklearn.preprocessing import Binarizer\n",
    "from sklearn.preprocessing import FunctionTransformer\n",
    "from sklearn.preprocessing import OrdinalEncoder\n",
    "from sklearn.preprocessing import PowerTransformer\n",
    "from sklearn.preprocessing import StandardScaler\n",
    "from sklearn.svm import SVC\n",
    "\n",
    "from catboost import CatBoostClassifier\n",
    "from lightgbm import LGBMClassifier\n",
    "from xgboost import XGBClassifier\n",
    "\n",
    "ON_KAGGLE = os.getenv(\"KAGGLE_KERNEL_RUN_TYPE\") is not None\n",
    "FONT_COLOR = \"#010D36\"\n",
    "BACKGROUND_COLOR = \"#F6F5F5\"\n",
    "\n",
    "# Utility functions.\n",
    "def download_dataset_from_kaggle(user, dataset, directory):\n",
    "    command = \"kaggle datasets download -d \"\n",
    "    filepath = directory / (dataset + \".zip\")\n",
    "\n",
    "    if not filepath.is_file():\n",
    "        subprocess.run((command + user + \"/\" + dataset).split())\n",
    "        filepath.parent.mkdir(parents=True, exist_ok=True)\n",
    "        shutil.unpack_archive(dataset + \".zip\", \"data\")\n",
    "        shutil.move(dataset + \".zip\", \"data\")\n",
    "\n",
    "\n",
    "def download_competition_from_kaggle(competition):\n",
    "    command = \"kaggle competitions download -c \"\n",
    "    filepath = Path(\"data/\" + competition + \".zip\")\n",
    "\n",
    "    if not filepath.is_file():\n",
    "        subprocess.run((command + competition).split())\n",
    "        Path(\"data\").mkdir(parents=True, exist_ok=True)\n",
    "        shutil.unpack_archive(competition + \".zip\", \"data\")\n",
    "        shutil.move(competition + \".zip\", \"data\")\n"
   ]
  },
  {
   "cell_type": "code",
   "execution_count": 16,
   "metadata": {},
   "outputs": [],
   "source": [
    "competition = \"icr-identify-age-related-conditions\"\n",
    "\n",
    "if not ON_KAGGLE:\n",
    "    download_competition_from_kaggle(competition)\n",
    "    train_path = \"data/train.csv\"\n",
    "    test_path = \"data/test.csv\"\n",
    "    greeks_path = \"data/greeks.csv\"\n",
    "else:\n",
    "    train_path = f\"/kaggle/input/{competition}/train.csv\"\n",
    "    test_path = f\"/kaggle/input/{competition}/test.csv\"\n",
    "    greeks_path = f\"/kaggle/input/{competition}/greeks.csv\"\n",
    "\n",
    "train = pd.read_csv(train_path, index_col=\"Id\").rename(columns=str.strip)\n",
    "test = pd.read_csv(test_path, index_col=\"Id\").rename(columns=str.strip)\n",
    "greeks = pd.read_csv(greeks_path, index_col=\"Id\").rename(columns=str.strip)\n"
   ]
  },
  {
   "cell_type": "code",
   "execution_count": 17,
   "metadata": {},
   "outputs": [],
   "source": [
    "numeric_data = train.select_dtypes(\"number\")\n",
    "numeric_cols = numeric_data.drop(\"Class\", axis=1).columns.tolist()\n",
    "r2_scores = defaultdict(tuple)\n",
    "\n",
    "for feature in numeric_cols:\n",
    "    orig = train[feature].dropna()\n",
    "    _, (*_, R_orig) = probplot(orig, rvalue=True)\n",
    "    _, (*_, R_log) = probplot(np.log(orig), rvalue=True)\n",
    "    _, (*_, R_sqrt) = probplot(np.sqrt(orig), rvalue=True)\n",
    "    _, (*_, R_reci) = probplot(np.reciprocal(orig), rvalue=True)\n",
    "    _, (*_, R_boxcox) = probplot(stats.boxcox(orig)[0], rvalue=True)\n",
    "    _, (*_, R_yeojohn) = probplot(stats.yeojohnson(orig)[0], rvalue=True)\n",
    "    r2_scores[feature] = (\n",
    "        R_orig * R_orig,\n",
    "        R_log * R_log,\n",
    "        R_sqrt * R_sqrt,\n",
    "        R_reci * R_reci,\n",
    "        R_boxcox * R_boxcox,\n",
    "        R_yeojohn * R_yeojohn,\n",
    "    )\n",
    "\n",
    "r2_scores = pd.DataFrame(\n",
    "    r2_scores, index=(\"Original\", \"Log\", \"Sqrt\", \"Reciprocal\", \"BoxCox\", \"YeoJohnson\")\n",
    ").T\n",
    "\n",
    "r2_scores[\"Winner\"] = r2_scores.idxmax(axis=1)\n",
    "\n",
    "no_transform_cols = r2_scores.query(\"Winner == 'Original'\").index\n",
    "log_transform_cols = r2_scores.query(\"Winner == 'Log'\").index\n",
    "reciprocal_transform_cols = r2_scores.query(\"Winner == 'Reciprocal'\").index\n",
    "boxcox_transform_cols = r2_scores.query(\"Winner == 'BoxCox'\").index\n",
    "yeojohnson_transform_cols = r2_scores.query(\"Winner == 'YeoJohnson'\").index\n"
   ]
  },
  {
   "cell_type": "code",
   "execution_count": 18,
   "metadata": {},
   "outputs": [],
   "source": [
    "numeric_descr = (\n",
    "    train.drop(\"Class\", axis=1)\n",
    "    .describe(percentiles=[0.01, 0.05, 0.25, 0.50, 0.75, 0.95, 0.99])\n",
    "    .drop(\"count\")\n",
    "    .T.rename(columns=str.title)\n",
    ")\n",
    "\n",
    "semi_constant_mask = np.isclose(numeric_descr[\"Min\"], numeric_descr[\"50%\"])\n",
    "semi_constant_descr = numeric_descr[semi_constant_mask]\n",
    "semi_const_cols_thresholds = semi_constant_descr[\"50%\"].to_dict()\n"
   ]
  },
  {
   "cell_type": "code",
   "execution_count": 19,
   "metadata": {},
   "outputs": [],
   "source": [
    "semi_const_cols = semi_const_cols_thresholds.keys()\n",
    "\n",
    "no_transform_cols = no_transform_cols.drop(semi_const_cols, errors=\"ignore\")\n",
    "log_transform_cols = log_transform_cols.drop(semi_const_cols, errors=\"ignore\")\n",
    "reciprocal_transform_cols = reciprocal_transform_cols.drop(semi_const_cols, errors=\"ignore\")\n",
    "boxcox_transform_cols = boxcox_transform_cols.drop(semi_const_cols, errors=\"ignore\")\n",
    "yeojohnson_transform_cols = yeojohnson_transform_cols.drop(semi_const_cols, errors=\"ignore\")\n",
    "\n",
    "preliminary_transform_preprocess = make_pipeline(\n",
    "    make_column_transformer(\n",
    "        (\n",
    "            StandardScaler(),\n",
    "            no_transform_cols.to_list(),\n",
    "        ),\n",
    "        (\n",
    "            make_pipeline(\n",
    "                FunctionTransformer(func=np.log, feature_names_out=\"one-to-one\"),\n",
    "                StandardScaler(),\n",
    "            ),\n",
    "            log_transform_cols.to_list(),\n",
    "        ),\n",
    "        (\n",
    "            make_pipeline(\n",
    "                FunctionTransformer(func=np.reciprocal, feature_names_out=\"one-to-one\"),\n",
    "                StandardScaler(),\n",
    "            ),\n",
    "            reciprocal_transform_cols.to_list(),\n",
    "        ),\n",
    "        (\n",
    "            PowerTransformer(method=\"box-cox\", standardize=True),\n",
    "            boxcox_transform_cols.to_list(),\n",
    "        ),\n",
    "        (\n",
    "            PowerTransformer(method=\"yeo-johnson\", standardize=True),\n",
    "            yeojohnson_transform_cols.to_list(),\n",
    "        ),\n",
    "        (\n",
    "            make_pipeline(\n",
    "                SimpleImputer(strategy=\"most_frequent\"),\n",
    "                OrdinalEncoder(handle_unknown=\"use_encoded_value\", unknown_value=-1),\n",
    "            ),\n",
    "            make_column_selector(dtype_include=object),  # type: ignore\n",
    "        ),\n",
    "        *[\n",
    "            (\n",
    "                make_pipeline(\n",
    "                    SimpleImputer(strategy=\"median\"),\n",
    "                    Binarizer(threshold=thresh),\n",
    "                ),\n",
    "                [col],\n",
    "            )\n",
    "            for col, thresh in semi_const_cols_thresholds.items()\n",
    "        ],\n",
    "        remainder=\"drop\",\n",
    "        verbose_feature_names_out=False,\n",
    "        n_jobs=4,\n",
    "    ),\n",
    "    KNNImputer(n_neighbors=10, weights=\"distance\"),\n",
    ").set_output(transform=\"pandas\")\n"
   ]
  },
  {
   "cell_type": "code",
   "execution_count": 20,
   "metadata": {},
   "outputs": [],
   "source": [
    "def balanced_log_loss(y_true, y_pred, **kwargs):\n",
    "    \"\"\"Competition evaluation metric - negative balanced logarithmic loss.\n",
    "    The overall effect is such that each class is roughly equally\n",
    "    important for the final score.\"\"\"\n",
    "    N0, N1 = np.bincount(y_true)\n",
    "\n",
    "    y0 = np.where(y_true == 0, 1, 0)\n",
    "    y1 = np.where(y_true == 1, 1, 0)\n",
    "\n",
    "    eps = kwargs.get(\"eps\", 1e-15)\n",
    "    y_pred = np.clip(y_pred, eps, 1 - eps)\n",
    "    p0 = np.log(1 - y_pred)\n",
    "    p1 = np.log(y_pred)\n",
    "\n",
    "    return -(1 / N0 * np.sum(y0 * p0) + 1 / N1 * np.sum(y1 * p1)) * 0.5\n"
   ]
  },
  {
   "cell_type": "code",
   "execution_count": 21,
   "metadata": {},
   "outputs": [],
   "source": [
    "def get_undersampling_fraction(y_true):\n",
    "    N0, N1 = np.bincount(y_true)\n",
    "    return 1 - N1 / N0\n",
    "\n",
    "\n",
    "def assert_balanced_learning(y_train, n_samples_tol=1):\n",
    "    N0, N1 = np.bincount(y_train)\n",
    "    assert np.isclose(N0, N1, atol=n_samples_tol)\n",
    "\n",
    "\n",
    "def get_sample_weights(y_true):\n",
    "    N0, N1 = np.bincount(y_true)\n",
    "    y0, y1 = np.unique(y_true)\n",
    "    w0 = (N0 + N1) / N0\n",
    "    w1 = (N0 + N1) / N1\n",
    "    return np.where(y_true == y1, w1, w0)\n"
   ]
  },
  {
   "cell_type": "code",
   "execution_count": 22,
   "metadata": {},
   "outputs": [],
   "source": [
    "def perform_postprocessing(\n",
    "    y_proba,\n",
    "    rounding=True,\n",
    "    rounding_prec=4,\n",
    "    boosting=True,\n",
    "    boosting_coef=0.8,\n",
    "    shifting=True,\n",
    "    shifting_map=None,\n",
    "):\n",
    "    def my_ceil(x, prec=rounding_prec):\n",
    "        return np.true_divide(np.ceil(x * 10**prec), 10**prec)\n",
    "\n",
    "    def my_floor(x, prec=rounding_prec):\n",
    "        return np.true_divide(np.floor(x * 10**prec), 10**prec)\n",
    "\n",
    "    proba = y_proba.copy()\n",
    "\n",
    "    if rounding:\n",
    "        proba = np.where(proba > 0.5, my_floor(proba), my_ceil(proba))\n",
    "\n",
    "    if boosting:\n",
    "        odds = boosting_coef * proba / (1 - proba)\n",
    "        proba = odds / (1 + odds)\n",
    "\n",
    "    if shifting:\n",
    "        if not shifting_map:\n",
    "            shifting_map = {\"low\": (0.01, 0.02), \"high\": (0.99, 0.98)}\n",
    "        low_shift_from, low_shift_to = shifting_map.get(\"low\", (0.01, 0.02))\n",
    "        high_shift_from, high_shift_to = shifting_map.get(\"high\", (0.99, 0.98))\n",
    "        proba[proba < low_shift_from] = low_shift_to\n",
    "        proba[proba > high_shift_from] = high_shift_to\n",
    "\n",
    "    return proba\n"
   ]
  },
  {
   "cell_type": "code",
   "execution_count": 23,
   "metadata": {},
   "outputs": [],
   "source": [
    "n_bags = 10\n",
    "n_folds = 5\n",
    "\n",
    "np.random.seed(42)\n",
    "seeds = np.random.randint(0, 19937, size=n_bags)\n"
   ]
  },
  {
   "cell_type": "code",
   "execution_count": 24,
   "metadata": {},
   "outputs": [],
   "source": [
    "X = train.drop(\"Class\", axis=1)\n",
    "y = train.Class\n",
    "\n",
    "undersampling_frac = get_undersampling_fraction(y)\n",
    "y_proba = np.zeros_like(y, dtype=np.float64)\n",
    "results = defaultdict(np.float64)\n",
    "classifiers = defaultdict(object)\n",
    "\n",
    "lgbm_params = {\n",
    "    \"max_depth\": 4,\n",
    "    \"min_child_samples\": 16,\n",
    "    \"is_unbalance\": True,\n",
    "    \"boosting_type\": \"goss\",\n",
    "    \"colsample_bytree\": 0.9,\n",
    "    \"min_split_gain\": 1e-2,\n",
    "}\n",
    "\n",
    "xgb_params = {\n",
    "    \"n_estimators\": 300,\n",
    "    \"learning_rate\": 0.14,\n",
    "    \"max_depth\": 2,\n",
    "    \"max_delta_step\": 0.35,\n",
    "    \"min_child_weight\": 2.5,\n",
    "    \"min_split_loss\": 0.1,\n",
    "    \"reg_alpha\": 0.1,\n",
    "    \"reg_lambda\": 10.0,\n",
    "    \"scale_pos_weight\": np.max(get_sample_weights(y)),\n",
    "}\n",
    "\n",
    "svc_params = {\n",
    "    \"probability\": True,\n",
    "    \"C\": 3,\n",
    "}\n",
    "\n",
    "var_to_remove = [\"AZ\", \"BN\", \"BR\", \"BZ\", \"CF\", \"CS\", \"CW\", \"DA\", \"DE\", \"DH\", \"EG\", \"FC\", \"FD\", \"GB\", \"GF\", \"GI\"]\n"
   ]
  },
  {
   "cell_type": "code",
   "execution_count": 25,
   "metadata": {},
   "outputs": [
    {
     "name": "stdout",
     "output_type": "stream",
     "text": [
      "Balanced Log Loss: 0.19679\n"
     ]
    }
   ],
   "source": [
    "for bag, seed in enumerate(seeds):\n",
    "    skfold = StratifiedKFold(n_splits=n_folds, shuffle=True, random_state=seed)\n",
    "\n",
    "    for fold, (train_ids, valid_ids) in enumerate(skfold.split(X, y)):\n",
    "        X_train, y_train = X.iloc[train_ids], y.iloc[train_ids]\n",
    "        X_valid, y_valid = X.iloc[valid_ids], y.iloc[valid_ids]\n",
    "\n",
    "        current_ensemble = make_pipeline(\n",
    "            preliminary_transform_preprocess,\n",
    "            FunctionTransformer(lambda X: X.drop(var_to_remove, axis=1)),\n",
    "            VotingClassifier(\n",
    "                [\n",
    "                    (\"lgbm\", LGBMClassifier(random_state=seed, **lgbm_params)),\n",
    "                    (\"xgb\", XGBClassifier(random_state=seed, **xgb_params)),\n",
    "                    (\"svc\", SVC(random_state=seed, **svc_params)),\n",
    "                ],\n",
    "                voting=\"soft\",\n",
    "                weights=(0.45, 0.45, 0.10),\n",
    "            ),\n",
    "        ).fit(\n",
    "            X_train,\n",
    "            y_train,\n",
    "            votingclassifier__sample_weight=get_sample_weights(y_train),\n",
    "        )\n",
    "\n",
    "        y_proba[valid_ids] += current_ensemble.predict_proba(X_valid)[:, 1]\n",
    "        classifiers[f\"Voting Bag: {bag} Fold: {fold}\"] = current_ensemble\n",
    "\n",
    "y_proba_rescaled = y_proba / n_bags\n",
    "print(\"Balanced Log Loss:\", f\"{balanced_log_loss(y, y_proba_rescaled):.5f}\")\n"
   ]
  },
  {
   "cell_type": "code",
   "execution_count": 26,
   "metadata": {},
   "outputs": [
    {
     "data": {
      "application/vnd.plotly.v1+json": {
       "config": {
        "plotlyServerURL": "https://plot.ly"
       },
       "data": [
        {
         "customdata": [
          [
           "007255e47698"
          ],
          [
           "013f2bd269f5"
          ],
          [
           "043ac50845d5"
          ],
          [
           "04517a3c90bd"
          ],
          [
           "049232ca8356"
          ],
          [
           "057287f2da6d"
          ],
          [
           "0594b00fb30a"
          ],
          [
           "05f2bc0155cd"
          ],
          [
           "06554e7b9979"
          ],
          [
           "068a4e4bbbab"
          ],
          [
           "075bd937ab85"
          ],
          [
           "07760b4cf3f8"
          ],
          [
           "094c0bd5ebe6"
          ],
          [
           "0aa059dad7f3"
          ],
          [
           "0b2cc0b0e6c5"
          ],
          [
           "0c3a256bcec7"
          ],
          [
           "0cdf781c81b9"
          ],
          [
           "0ce8b2aeeead"
          ],
          [
           "0cf19653f4c5"
          ],
          [
           "0cf6c827b8bb"
          ],
          [
           "0d1b855c7635"
          ],
          [
           "0d733722754b"
          ],
          [
           "0da59360d722"
          ],
          [
           "0db07bc343e3"
          ],
          [
           "0e17c8abe9b6"
          ],
          [
           "0e1f6a8eebab"
          ],
          [
           "0e705a0eddf6"
          ],
          [
           "0f9257f237b4"
          ],
          [
           "0fa0daef7ac0"
          ],
          [
           "10187958312d"
          ],
          [
           "1073082e7823"
          ],
          [
           "10aaf6adb652"
          ],
          [
           "10b874d01acd"
          ],
          [
           "1106df45b12e"
          ],
          [
           "124cd364aa2e"
          ],
          [
           "124eefa2ae00"
          ],
          [
           "128cc82dc5d6"
          ],
          [
           "12d002d52230"
          ],
          [
           "1319c3883fff"
          ],
          [
           "1337ba12ff02"
          ],
          [
           "135f1d1da85e"
          ],
          [
           "13ac854b5fe7"
          ],
          [
           "13c79963c34c"
          ],
          [
           "13ef6c55286a"
          ],
          [
           "1426f76716de"
          ],
          [
           "14713ec51d95"
          ],
          [
           "14a3f3cc04bd"
          ],
          [
           "152979207440"
          ],
          [
           "1540bbf8825b"
          ],
          [
           "157861ebc981"
          ],
          [
           "1591cd66c34e"
          ],
          [
           "15d85eea0e11"
          ],
          [
           "174ba5dc00b1"
          ],
          [
           "17d49f84524b"
          ],
          [
           "17d9a3a45da4"
          ],
          [
           "1899e6e0d7d9"
          ],
          [
           "18dd7c934463"
          ],
          [
           "1900828cbfc4"
          ],
          [
           "1919e4c3a7cc"
          ],
          [
           "19bf6e929506"
          ],
          [
           "19e4c52ea251"
          ],
          [
           "1a14973e1785"
          ],
          [
           "1a6d2336590f"
          ],
          [
           "1a954a747373"
          ],
          [
           "1a9fecf65695"
          ],
          [
           "1b31df9e8971"
          ],
          [
           "1c004f1d37be"
          ],
          [
           "1c612f931833"
          ],
          [
           "1e3c4189f04b"
          ],
          [
           "1e4b78cada73"
          ],
          [
           "1e5e59a7f331"
          ],
          [
           "1f829da7c6ed"
          ],
          [
           "20731b639de9"
          ],
          [
           "211b95ea8f90"
          ],
          [
           "21b3d18c0340"
          ],
          [
           "21d33a9fee44"
          ],
          [
           "23ab7ab965d5"
          ],
          [
           "2449608e49a9"
          ],
          [
           "2471b27e99fc"
          ],
          [
           "24dfe3da6769"
          ],
          [
           "271737344017"
          ],
          [
           "273efaff6f8a"
          ],
          [
           "27bfa971821f"
          ],
          [
           "284efb30decc"
          ],
          [
           "28ade6fa7bc3"
          ],
          [
           "2901ef1394b9"
          ],
          [
           "298989cc4e92"
          ],
          [
           "29cba3a7b8dc"
          ],
          [
           "2bb2902bd5e1"
          ],
          [
           "2bd50291b64d"
          ],
          [
           "2c495dfbaacf"
          ],
          [
           "2ca6bdf04280"
          ],
          [
           "2d5d2874b058"
          ],
          [
           "2d7ba928287d"
          ],
          [
           "2dc8b3d2980b"
          ],
          [
           "2e03488a03ca"
          ],
          [
           "2e4e80b95e24"
          ],
          [
           "2e637b444de7"
          ],
          [
           "2f020a35ce2b"
          ],
          [
           "2f1e32eac20e"
          ],
          [
           "2fd659800f75"
          ],
          [
           "30202b353d8a"
          ],
          [
           "3026974712cd"
          ],
          [
           "3101fca6b743"
          ],
          [
           "312661adb2ff"
          ],
          [
           "319f7e210021"
          ],
          [
           "321f58c2e5d1"
          ],
          [
           "324d6f4b6b37"
          ],
          [
           "332a3850302f"
          ],
          [
           "333bff494437"
          ],
          [
           "3493c79c8f35"
          ],
          [
           "34dc3190c6fb"
          ],
          [
           "34f10f630b68"
          ],
          [
           "3581cb92b427"
          ],
          [
           "36d298d32eb9"
          ],
          [
           "36f2fbc0a810"
          ],
          [
           "37342e4943f2"
          ],
          [
           "381e08d38c92"
          ],
          [
           "381ff0376cb0"
          ],
          [
           "38325b0c36e5"
          ],
          [
           "3840054e6aa5"
          ],
          [
           "386a027efe36"
          ],
          [
           "38c9a1f2eacf"
          ],
          [
           "3a73fce81608"
          ],
          [
           "3b280978a051"
          ],
          [
           "3b8959ffdfa9"
          ],
          [
           "3bf81aff9bd6"
          ],
          [
           "3c299fce6b56"
          ],
          [
           "3d4109150b32"
          ],
          [
           "3db179cf1a7d"
          ],
          [
           "3e610a5ff8d1"
          ],
          [
           "3eb3be63b62c"
          ],
          [
           "3f004b7190f3"
          ],
          [
           "3f367f9652ff"
          ],
          [
           "3fad66987cf9"
          ],
          [
           "407436e7ec52"
          ],
          [
           "40ffdee110b8"
          ],
          [
           "41475fa34ab3"
          ],
          [
           "41698cf1a1bd"
          ],
          [
           "41e9e3cec765"
          ],
          [
           "431c73b16f33"
          ],
          [
           "43365f867d38"
          ],
          [
           "434b3925094e"
          ],
          [
           "4376800c31fd"
          ],
          [
           "43eab2b837d1"
          ],
          [
           "4401d2485580"
          ],
          [
           "44c7768642a7"
          ],
          [
           "44e759955f6e"
          ],
          [
           "4537a9a3ecde"
          ],
          [
           "4572189340c4"
          ],
          [
           "457d8d386eb2"
          ],
          [
           "459c432b15ae"
          ],
          [
           "4652c8c5705c"
          ],
          [
           "4671650635ab"
          ],
          [
           "46a2c24d2624"
          ],
          [
           "46b876fc8933"
          ],
          [
           "470d18ff7777"
          ],
          [
           "47d8bacb43bb"
          ],
          [
           "48485c8c1ef7"
          ],
          [
           "48c64ab517c9"
          ],
          [
           "48f422645d0e"
          ],
          [
           "49e14acf8ffb"
          ],
          [
           "4a3d7459976a"
          ],
          [
           "4bc8f3ea493a"
          ],
          [
           "4c92a971cf91"
          ],
          [
           "4d4e63393080"
          ],
          [
           "4d54e3a957e6"
          ],
          [
           "4e6477903aa3"
          ],
          [
           "4e9059199e3d"
          ],
          [
           "4ec197e84caf"
          ],
          [
           "4f17ecd66363"
          ],
          [
           "4feabef01f7a"
          ],
          [
           "4fef9a973791"
          ],
          [
           "4ff6c37484ee"
          ],
          [
           "50183292c0e7"
          ],
          [
           "508bb5c5cf00"
          ],
          [
           "51111505c6f2"
          ],
          [
           "514d2ac4fdb5"
          ],
          [
           "51a5b926ab4d"
          ],
          [
           "528dd2afeb79"
          ],
          [
           "52acfa7cc2fc"
          ],
          [
           "53468141b7c9"
          ],
          [
           "535a9e672d18"
          ],
          [
           "55122c3c02a0"
          ],
          [
           "571a56646e47"
          ],
          [
           "58843604dcb5"
          ],
          [
           "58dcdd9d6e89"
          ],
          [
           "58e74efe7aa5"
          ],
          [
           "59bf633c1018"
          ],
          [
           "59bf79fac3fa"
          ],
          [
           "59bfbb4ad480"
          ],
          [
           "59eb23495fa7"
          ],
          [
           "5a87a6061488"
          ],
          [
           "5c03d177da66"
          ],
          [
           "5c522f58308c"
          ],
          [
           "5ce5f23fff0d"
          ],
          [
           "5d547eb551a9"
          ],
          [
           "5d8a1a0fb062"
          ],
          [
           "5dc5360a3fc8"
          ],
          [
           "5e27b0147126"
          ],
          [
           "5ee622a3e3be"
          ],
          [
           "5f20ad0ec630"
          ],
          [
           "60013ee40a0a"
          ],
          [
           "6002d5f39711"
          ],
          [
           "600c445d3351"
          ],
          [
           "60474d8ff770"
          ],
          [
           "6192b3e210ae"
          ],
          [
           "619aac34f423"
          ],
          [
           "61af8fde49eb"
          ],
          [
           "61e882a215f4"
          ],
          [
           "6204fd873dcd"
          ],
          [
           "62176aa5de57"
          ],
          [
           "6487b5140ab2"
          ],
          [
           "657d27cacf2b"
          ],
          [
           "658e0b2992bb"
          ],
          [
           "65c5772a4afa"
          ],
          [
           "65de682cc48c"
          ],
          [
           "661b3a326a9d"
          ],
          [
           "670b295eaa0f"
          ],
          [
           "67ba3c5d8baf"
          ],
          [
           "684d62aeae9e"
          ],
          [
           "6850ef5b0092"
          ],
          [
           "6860e7cbccad"
          ],
          [
           "68918798c769"
          ],
          [
           "68c35486588c"
          ],
          [
           "6955c8adcd36"
          ],
          [
           "69de76778344"
          ],
          [
           "69e627ec5d3e"
          ],
          [
           "6bf666677588"
          ],
          [
           "6c231f862f11"
          ],
          [
           "6c679dc63744"
          ],
          [
           "6c6db7987cd5"
          ],
          [
           "6ed97ed5defe"
          ],
          [
           "6ef1fe86ad00"
          ],
          [
           "7017fab77607"
          ],
          [
           "703c183d0c6c"
          ],
          [
           "70926a82d4e1"
          ],
          [
           "7180e4b7d21a"
          ],
          [
           "71f07ea5a770"
          ],
          [
           "73468ffe1cb5"
          ],
          [
           "7392d21fc103"
          ],
          [
           "7416fea10b6b"
          ],
          [
           "7429ed35535c"
          ],
          [
           "7530ec447c5d"
          ],
          [
           "778e1213d462"
          ],
          [
           "77ccceb44f4e"
          ],
          [
           "7800130b9140"
          ],
          [
           "7804b14ee22b"
          ],
          [
           "78f3ccd568c6"
          ],
          [
           "793d5c26bd0e"
          ],
          [
           "7a5c4b008308"
          ],
          [
           "7a705feced42"
          ],
          [
           "7b8cda4bc33e"
          ],
          [
           "7bcb9a31014b"
          ],
          [
           "7c02caf1b94f"
          ],
          [
           "7c21c57859d6"
          ],
          [
           "7c2df9f2fbe2"
          ],
          [
           "7cc870296984"
          ],
          [
           "7dd96a41647c"
          ],
          [
           "7e4d70590a71"
          ],
          [
           "7eb06d1c9234"
          ],
          [
           "7feabcc65b6b"
          ],
          [
           "800440b155b1"
          ],
          [
           "8006877fc82a"
          ],
          [
           "800c6b3239c6"
          ],
          [
           "80348b62c82e"
          ],
          [
           "80841417ca53"
          ],
          [
           "809087be105e"
          ],
          [
           "8093b3b92b28"
          ],
          [
           "80c47659c7c6"
          ],
          [
           "80ee5615ebdf"
          ],
          [
           "810ff5afd0e2"
          ],
          [
           "815cc64eb1cc"
          ],
          [
           "8266debd5234"
          ],
          [
           "8296caddae14"
          ],
          [
           "82c5014b0d57"
          ],
          [
           "8353e4690948"
          ],
          [
           "8408bf4d3d2f"
          ],
          [
           "8457871d9624"
          ],
          [
           "84c5b2d3eace"
          ],
          [
           "84efa38972ba"
          ],
          [
           "860833bfe713"
          ],
          [
           "8767b93c7948"
          ],
          [
           "87f6d81bb2f7"
          ],
          [
           "8856a9d8e2b4"
          ],
          [
           "88ceb24fa799"
          ],
          [
           "894a982c52c1"
          ],
          [
           "8a3cb69b2242"
          ],
          [
           "8a3e1acd2ff2"
          ],
          [
           "8ae3966cdb92"
          ],
          [
           "8b4dfe76ff44"
          ],
          [
           "8b7131974251"
          ],
          [
           "8b77f91fde3e"
          ],
          [
           "8b866016ac44"
          ],
          [
           "8b9d72eec14e"
          ],
          [
           "8ba2487388f2"
          ],
          [
           "8bb44f5c60a4"
          ],
          [
           "8c58bec30f78"
          ],
          [
           "8d0d4a6510bf"
          ],
          [
           "8d505de1fa59"
          ],
          [
           "8d7e1ef24fb8"
          ],
          [
           "8d7f231c9cb7"
          ],
          [
           "8e22648bf996"
          ],
          [
           "8e35c5943760"
          ],
          [
           "8e5a0d625d98"
          ],
          [
           "8eefb589a7aa"
          ],
          [
           "8f411ab61450"
          ],
          [
           "9025eee0ab7d"
          ],
          [
           "905a7dbaaf9a"
          ],
          [
           "91004fe0a0fd"
          ],
          [
           "91275f6ae0a2"
          ],
          [
           "913a3374da32"
          ],
          [
           "913b30965ae1"
          ],
          [
           "92b3778f624f"
          ],
          [
           "93205d43a401"
          ],
          [
           "948043d08210"
          ],
          [
           "948b3f28db47"
          ],
          [
           "948e868ba395"
          ],
          [
           "94f28a9c879b"
          ],
          [
           "968491b9238f"
          ],
          [
           "96ee4e851fbd"
          ],
          [
           "9708ba6b2fa2"
          ],
          [
           "975235e7d941"
          ],
          [
           "97b6c7088bc6"
          ],
          [
           "98944bb311a4"
          ],
          [
           "991587f97e45"
          ],
          [
           "9949a1749e2c"
          ],
          [
           "9a3ec17a57a0"
          ],
          [
           "9b25a5047a23"
          ],
          [
           "9b6aeb66b22a"
          ],
          [
           "9b9e6e21b830"
          ],
          [
           "9ba8bfa26e8a"
          ],
          [
           "9c0f8307a7ec"
          ],
          [
           "9c43f9559e4c"
          ],
          [
           "9c8d738c0272"
          ],
          [
           "9ce745fc98c4"
          ],
          [
           "9d19cb5327b5"
          ],
          [
           "9e725e00b348"
          ],
          [
           "9ee887ad93d5"
          ],
          [
           "9f10f72ca154"
          ],
          [
           "a02d41dc2cc4"
          ],
          [
           "a0693256491d"
          ],
          [
           "a20c68851e9b"
          ],
          [
           "a3493d6aca6e"
          ],
          [
           "a46b439e1eac"
          ],
          [
           "a4f476550c49"
          ],
          [
           "a5faa9a52bcb"
          ],
          [
           "a633a258eeed"
          ],
          [
           "a7b1c7b83f53"
          ],
          [
           "a904c19b5e22"
          ],
          [
           "aa54a308dbb4"
          ],
          [
           "aa6c6160804f"
          ],
          [
           "aa8185fbee33"
          ],
          [
           "aac8bafe74ef"
          ],
          [
           "ab39fd701211"
          ],
          [
           "ab4bc55cb79e"
          ],
          [
           "ac2074c4eeb5"
          ],
          [
           "acd97f3380e4"
          ],
          [
           "ad9a26b80957"
          ],
          [
           "adb67a0dd661"
          ],
          [
           "add78517b003"
          ],
          [
           "aee064d35f72"
          ],
          [
           "af0802c15f01"
          ],
          [
           "af1a304f3c89"
          ],
          [
           "af2c482fb8d7"
          ],
          [
           "afad421356e3"
          ],
          [
           "b002a6adb6be"
          ],
          [
           "b06b043e7abe"
          ],
          [
           "b1056bf99b86"
          ],
          [
           "b1080294e1f2"
          ],
          [
           "b10bae274dfc"
          ],
          [
           "b10f6f101138"
          ],
          [
           "b1143beb212d"
          ],
          [
           "b1195f8f1afa"
          ],
          [
           "b22ebf6851bb"
          ],
          [
           "b231b1b0962c"
          ],
          [
           "b2aec42acb00"
          ],
          [
           "b2b3ec04caf6"
          ],
          [
           "b301f38c110c"
          ],
          [
           "b358f0fdb95b"
          ],
          [
           "b3807c5f43e8"
          ],
          [
           "b4d611fab6c5"
          ],
          [
           "b5b51b3db693"
          ],
          [
           "b6efe1e60280"
          ],
          [
           "b74762c1d521"
          ],
          [
           "b85846bebd78"
          ],
          [
           "b874e25c20aa"
          ],
          [
           "b90c555e8c3c"
          ],
          [
           "b9e388b48268"
          ],
          [
           "ba0c42e12f1f"
          ],
          [
           "bbbb36522060"
          ],
          [
           "bbc27c1326a5"
          ],
          [
           "bcc36efe8096"
          ],
          [
           "bdd7b0f36488"
          ],
          [
           "be0d0e810303"
          ],
          [
           "bf12446bf394"
          ],
          [
           "bfcbf52e5449"
          ],
          [
           "c1ffde2da7d9"
          ],
          [
           "c214d487e2db"
          ],
          [
           "c25704512231"
          ],
          [
           "c38cbd7f61dd"
          ],
          [
           "c49cbf1cac11"
          ],
          [
           "c556791ceee9"
          ],
          [
           "c5e5456ccaa2"
          ],
          [
           "c5f4346394b9"
          ],
          [
           "c60e0e7b6ca1"
          ],
          [
           "c6c3a77ec885"
          ],
          [
           "c82e5a429e5b"
          ],
          [
           "c86be787cb28"
          ],
          [
           "c8a5264f7458"
          ],
          [
           "c90977976ffe"
          ],
          [
           "c9e8391da0ea"
          ],
          [
           "ca3ae6c8dede"
          ],
          [
           "ca4b0957e0c8"
          ],
          [
           "caff00fb82e2"
          ],
          [
           "cc42ed28ac3f"
          ],
          [
           "cc9f47d89979"
          ],
          [
           "ccd8b4b583df"
          ],
          [
           "cd5d5458c163"
          ],
          [
           "ce42176962b9"
          ],
          [
           "cf81f032b88e"
          ],
          [
           "d00b37ba63e7"
          ],
          [
           "d02c11462079"
          ],
          [
           "d061b54c6650"
          ],
          [
           "d0b72acaecdd"
          ],
          [
           "d10976c44b2b"
          ],
          [
           "d1f14dbe348c"
          ],
          [
           "d1fa22631c9c"
          ],
          [
           "d2910aee04cd"
          ],
          [
           "d2960230a353"
          ],
          [
           "d2dd462f90b5"
          ],
          [
           "d32f445d4d75"
          ],
          [
           "d35148a64ca9"
          ],
          [
           "d3d8c9d232f1"
          ],
          [
           "d42783629bbc"
          ],
          [
           "d44d3320d240"
          ],
          [
           "d5463b93905d"
          ],
          [
           "d7353855bf36"
          ],
          [
           "d75aafac1e86"
          ],
          [
           "d7dbf59b37f9"
          ],
          [
           "d7f01114e6db"
          ],
          [
           "d9d5fdfa030c"
          ],
          [
           "da68b4918818"
          ],
          [
           "da6c7e4e124d"
          ],
          [
           "dbf5f8b82b43"
          ],
          [
           "dc9b175cbf1e"
          ],
          [
           "dd3515028d71"
          ],
          [
           "dd65e067165c"
          ],
          [
           "dd8bcfab8df9"
          ],
          [
           "df956c379776"
          ],
          [
           "e00086407736"
          ],
          [
           "e0bf5a4a77d2"
          ],
          [
           "e0f325c4df28"
          ],
          [
           "e15ae7d5194f"
          ],
          [
           "e18129dade8f"
          ],
          [
           "e235af39779b"
          ],
          [
           "e2ef2a51ed65"
          ],
          [
           "e42344ea440c"
          ],
          [
           "e4ba2e28e184"
          ],
          [
           "e6aa6fa49abd"
          ],
          [
           "e70889ea6013"
          ],
          [
           "e70b5934b571"
          ],
          [
           "e7bedc8fb9a5"
          ],
          [
           "e8c119eb3e16"
          ],
          [
           "e8dde9331551"
          ],
          [
           "e9417cc82b93"
          ],
          [
           "e999bb1c01d7"
          ],
          [
           "e9c343dc7736"
          ],
          [
           "e9d084428900"
          ],
          [
           "ea50b3c5bd63"
          ],
          [
           "eada36b0bf31"
          ],
          [
           "eb9c2a590373"
          ],
          [
           "ecf1ac3d6dfc"
          ],
          [
           "ed4a24c7ec54"
          ],
          [
           "ee48d4f9dc81"
          ],
          [
           "efcba7fac353"
          ],
          [
           "f003d68995be"
          ],
          [
           "f03b541de10c"
          ],
          [
           "f0d7d98bfe21"
          ],
          [
           "f12d8570682a"
          ],
          [
           "f13b1485ba1f"
          ],
          [
           "f1a68746ca6e"
          ],
          [
           "f206becd4ffd"
          ],
          [
           "f3eb9ac222f9"
          ],
          [
           "f3f2071d2453"
          ],
          [
           "f404680da866"
          ],
          [
           "f44978084805"
          ],
          [
           "f46e39a96ee9"
          ],
          [
           "f56e7620836e"
          ],
          [
           "f62ef7cc0a22"
          ],
          [
           "f71ef203fae7"
          ],
          [
           "f7a862a414de"
          ],
          [
           "f82b07dfd7fb"
          ],
          [
           "f8eb43047d69"
          ],
          [
           "f944d35cb6c4"
          ],
          [
           "f955c0ed8895"
          ],
          [
           "f96e7ca4a16c"
          ],
          [
           "f9a7ea889307"
          ],
          [
           "fb27f6e58eaa"
          ],
          [
           "fb7584f887fd"
          ],
          [
           "fb786fb02a65"
          ],
          [
           "fbc241daef00"
          ],
          [
           "fbd12c4ae88b"
          ],
          [
           "fd1dd68d51b4"
          ],
          [
           "fd3dafe738fd"
          ],
          [
           "fd895603f071"
          ],
          [
           "fd8ef6377f76"
          ],
          [
           "fe1942975e40"
          ],
          [
           "ffcca4ded3bb"
          ]
         ],
         "hovertemplate": "Class=0<br>Positive Class Probability=%{x}<br>Sample Integer Index=%{y}<br>Id=%{customdata[0]}<extra></extra>",
         "legendgroup": "0",
         "marker": {
          "color": "#010D36",
          "opacity": 0.6,
          "size": 6,
          "symbol": "diamond"
         },
         "mode": "markers",
         "name": "0",
         "orientation": "v",
         "showlegend": true,
         "type": "scatter",
         "x": [
          0.0015352011575516561,
          0.10398481386225358,
          0.20099547992811978,
          0.0009640752686369825,
          0.0024198982306739792,
          0.0201793730608883,
          0.00512430237364471,
          0.007548149253856905,
          0.005680871924235466,
          0.018576651283989262,
          0.31746496227329907,
          0.06018413597490252,
          0.017986708802143325,
          0.010436074588690596,
          0.17906119953370686,
          0.011842936485685133,
          0.13087204891632448,
          0.01706386842054283,
          0.011055002299672368,
          0.004554778318074082,
          0.12348764904563722,
          0.005752931554872866,
          0.4875664308102691,
          0.0003641813488927887,
          0.0030071658666733477,
          0.01012130091059434,
          0.036796241604429694,
          0.0011797931189951746,
          0.013388254396171315,
          0.004065402522180656,
          0.0008154117001670565,
          0.00027175009102814874,
          0.0231847153138083,
          0.004346804939623958,
          0.0014236314735081054,
          0.06964038025806722,
          0.006884129116757454,
          0.4082748600595866,
          0.0377842398391808,
          0.0024515413455457194,
          0.07959083384541354,
          0.00344773434337986,
          0.04350371406335896,
          0.20670557281828877,
          0.007407963365150214,
          0.0033825550634615023,
          0.2922539801978114,
          0.0894909178968053,
          0.0034553596909127843,
          0.03318328724564358,
          0.010230648049253629,
          0.002675914794378043,
          0.13552867830623042,
          0.02793491188408328,
          0.03472209251971993,
          0.008366707887566228,
          0.011781310078066628,
          0.033907690270917626,
          0.5923660866548349,
          0.008025563782730463,
          0.006286618027152642,
          0.0077061344243519484,
          0.2618236792756611,
          0.15114079888548537,
          0.19530468905903292,
          0.0004789494998978532,
          0.013020029093023059,
          0.2960614642565478,
          0.09327557160312545,
          0.008247794073751823,
          0.004299503485447477,
          0.015397949248211789,
          0.000930228462292582,
          0.0011017076441183027,
          0.002973744252420891,
          0.009364006445207384,
          0.0018089881214957606,
          0.00018067860546041486,
          0.022467374921643475,
          0.006241955250639632,
          0.06862565643869897,
          0.018978328174071656,
          0.007300058537083974,
          0.00662662211057591,
          0.25921587359997533,
          0.9462804539053531,
          0.0032989614469186948,
          0.028605074137854146,
          0.014736839166919988,
          0.0010025936680069637,
          0.03783651927974657,
          0.012233534950957749,
          0.02774285229032526,
          0.02399359839016128,
          0.004929063793672903,
          0.0039424043815186926,
          0.0006859094086813716,
          0.05157593959797557,
          0.12149885850953863,
          0.012187659923398975,
          0.003936668123571643,
          0.03288951835607136,
          0.3141837844152246,
          0.0024277888489862317,
          0.7167636081452857,
          0.06277597183348249,
          0.1154579921524606,
          0.005673128720930376,
          0.011794293166180476,
          0.0015417314889506733,
          0.14896218935063493,
          0.11536700963569571,
          0.00108372574881904,
          0.029214582459544926,
          0.005007427156239643,
          0.02272551056025661,
          0.3766970087958216,
          0.00638810247585269,
          0.00891917767660635,
          0.0022791834801494182,
          0.020983287164249537,
          0.2365000958258372,
          0.0005306108881310814,
          0.002516005289071034,
          0.052987982781260226,
          0.012175011667751687,
          0.0010615005456126965,
          0.0021009976684181735,
          0.09386490543117368,
          0.00044040140167926693,
          0.0836935178174017,
          0.0005462229003846182,
          0.3826669037629308,
          0.01996577804888909,
          0.020578803877452725,
          0.014559200397532312,
          0.003253862204417933,
          0.01482171070841068,
          0.6634158127876616,
          0.0319502632377236,
          0.0010201912090162767,
          0.4043835908436561,
          0.026213302590496552,
          0.005360057872404922,
          0.03302583827412349,
          0.059955056853112955,
          0.0003659036647915595,
          0.0056431536480557945,
          0.02104999204263863,
          0.005832062863978772,
          0.013474915693059789,
          0.004271464254349629,
          0.0014901717745506645,
          0.6194462665101275,
          0.008215856090092009,
          0.05167604508228861,
          0.0012738595354874472,
          0.0003982832931999902,
          0.6954029650983653,
          0.07011428676978707,
          0.004422272485849843,
          0.6126099736065587,
          0.7711770815824905,
          0.3991936093559193,
          0.245399641406412,
          0.0025028951486758466,
          0.25747391450834284,
          0.028726225035599053,
          0.01009753967796649,
          0.1854690104220981,
          0.43909304635406815,
          0.07282243413091799,
          0.0026623713905274127,
          0.041798113682011875,
          0.03224575073748044,
          0.003774319091026543,
          0.007675385902478703,
          0.0015740466676627159,
          0.06188146728194475,
          0.003637733529849038,
          0.007167243409500484,
          0.007284170507172926,
          0.00796807934937553,
          0.15534092870618327,
          0.3062974949281302,
          0.005194243660121335,
          0.6741142938448603,
          0.014142078233541869,
          0.0022296780161427587,
          0.00022475449158000502,
          0.038889872999024314,
          0.02805215493773332,
          0.07393923504038792,
          0.0245093508464133,
          0.0019220289216223467,
          0.19649872978093352,
          0.9136747985677148,
          0.11631891796625882,
          0.0053959723551002346,
          0.023983453222861648,
          0.02831323311522646,
          0.004101428169363106,
          0.010888195822573355,
          0.06947255449018344,
          0.0021358754091850333,
          0.8012153386029842,
          0.0019585703702708996,
          0.20356526159208527,
          0.0029028118756961345,
          0.015616760032095094,
          0.002234365875009141,
          0.057730489456951674,
          0.003620111378394307,
          0.025327518829937133,
          0.00768283011692025,
          0.001726407748695207,
          0.0020167751920353136,
          0.005309760276077662,
          0.03118399859289862,
          0.013157457491906463,
          0.06435657578649896,
          0.036152510929495,
          0.015560547119629748,
          0.00021900873096715147,
          0.0007199149916422895,
          0.0007444060433389267,
          0.03201926022299943,
          0.20247190509888377,
          0.5884204833757447,
          0.10843850023890164,
          0.013218327336688953,
          0.01670954809650162,
          0.12412080539063017,
          0.004786368295705911,
          0.0034768787397586104,
          0.09180445541759914,
          0.0030949492721115057,
          0.09789344078451431,
          0.5280879179943166,
          0.011860731135995155,
          0.0006986172192614609,
          0.9645767117568569,
          0.00036412198976075417,
          0.21629784119774756,
          0.007985790894363002,
          0.05238570186610494,
          0.016119427651536185,
          0.1542185099674252,
          0.008573856854958253,
          0.009012437826023617,
          0.051016484013196375,
          0.0016426671797809245,
          0.2312604420622899,
          0.008829338508959535,
          0.025914752408853343,
          0.001318790286319611,
          0.00034229015212209994,
          0.4506348174589241,
          0.2818047436917874,
          0.06317822163395062,
          0.003536221400554755,
          0.006092759072489834,
          0.0362897144468227,
          0.012869492740446969,
          0.26267975646027764,
          0.26319940014102094,
          0.7196192538123248,
          0.03617835110594913,
          0.019467829991190927,
          0.00020016576099694518,
          0.003510662941451913,
          0.20358299153667656,
          0.014300337312550681,
          0.004351905761431801,
          0.15443173824872852,
          0.007935793776120659,
          0.058097881494471905,
          0.5367274328059872,
          0.12514932115709648,
          0.005730588594450425,
          0.4307024546477722,
          0.0050910311877774275,
          0.0029420926831056258,
          0.004447308766655603,
          0.0022881145298349055,
          0.023820898229745657,
          0.0015547319059719038,
          0.016214031072431186,
          0.043530561473221895,
          0.01230697442296694,
          0.19008531345174912,
          0.07582833952016002,
          0.1700118100125934,
          0.0017335710309405613,
          0.7075458991171658,
          0.008255839343154173,
          0.010584481430005182,
          0.19888318645214625,
          0.04621612189812238,
          0.058402691761954804,
          0.039465489322732264,
          0.004182001015358963,
          0.020770486393300487,
          0.08279658036048665,
          0.7814968234117183,
          0.02595625773027626,
          0.03511093632899147,
          0.4192545533183559,
          0.005623071608198139,
          0.01879182473782275,
          0.053466002758554364,
          0.025292680889873475,
          0.026357561810972097,
          0.02572323329439476,
          0.9050663968896335,
          0.002166377296143299,
          0.0039196372490546885,
          0.008330741492895708,
          0.0023351108851711903,
          0.15661314569137083,
          0.406598735922392,
          0.24348956194329707,
          0.058741966811131974,
          0.04616928200688985,
          0.019199482858905458,
          0.028798623972128658,
          0.005290481535288704,
          0.05171277310810203,
          0.054234461180613855,
          0.002275357576795613,
          0.023317903152368605,
          0.035352340150028264,
          0.0651494101752842,
          0.027118516282074435,
          0.01545626987980842,
          0.036115107487478294,
          0.00587788546974371,
          0.006591563060950718,
          0.11305146415628357,
          0.4592737294005039,
          0.10864458758875431,
          0.0004749626511613607,
          0.012845012365079286,
          0.011831685035536148,
          0.07306480113799568,
          0.39063960710598394,
          0.024445518946417992,
          0.001035361454457228,
          0.02243154662727941,
          0.016839156036506923,
          0.09162330694157507,
          0.5312424344952509,
          0.0013402011044106247,
          0.0035738720990431024,
          0.002399674091656329,
          0.010335364964065185,
          0.005203765633857664,
          0.00928921562953527,
          0.005495026482835489,
          0.003686245256819027,
          0.029067459082600243,
          0.0033179861970156674,
          0.2566722007092453,
          0.002469468482831799,
          0.002409710021133001,
          0.0013455368263232937,
          0.2326606421744045,
          0.2014434331083117,
          0.019205444560890635,
          0.0020846993288202347,
          0.009602172391996908,
          0.023085065697650464,
          0.03273962499451938,
          0.07978846700480555,
          0.004862925433768935,
          0.0004141946278444078,
          0.4460067498987702,
          0.003865867180846237,
          0.5054301037476358,
          0.6845447879931106,
          0.07015341137725327,
          0.0008395971497068289,
          0.01672365811515504,
          0.8671086287966933,
          0.0018028352309978576,
          0.001392385975351083,
          0.00019616199169712598,
          0.2745325171108331,
          0.7863567888773326,
          0.18139766407272967,
          0.014342779776066673,
          0.11043043849842704,
          0.13587500900444463,
          0.002512566521251568,
          0.03324981638567352,
          0.008818456515322209,
          0.00011305995405534214,
          0.009321177968938218,
          0.028908072380511945,
          0.10134505027053349,
          0.00778648432063834,
          0.048805142399270154,
          0.004811081320776977,
          0.003143189474740662,
          0.1645831337258587,
          0.010111841692197875,
          0.22743058521210976,
          0.0006906758459802795,
          0.02185010791302414,
          0.031213000864939916,
          0.573260565031321,
          0.0022641728963175454,
          0.050088702037140255,
          0.0008308004818385423,
          0.27497835535568815,
          0.005008824722106661,
          0.009134371154032771,
          0.06766065578728786,
          0.0041335594964768945,
          0.0036993458469610227,
          0.010666570988881194,
          0.015401901880353222,
          0.14637033883642753,
          0.6001557854288256,
          0.01017772962337991,
          0.007794014053961064,
          0.001402412687401817,
          0.006335029544823173,
          0.4547174056858245,
          0.027695270356076086,
          0.597703764776572,
          0.0023007608466590335,
          0.0212275476198271,
          0.6694089702958463,
          0.006428658378872534,
          0.042349017318135576,
          0.09532706751476956,
          0.024626524729637275,
          0.10471575904137864,
          0.005896512008286961,
          0.03643601773488393,
          0.008802487493226723,
          0.009444810486960744,
          0.00264765627739916,
          0.09543354202130436,
          0.03897083784423898,
          0.009657327635765326,
          0.009706163019371033,
          0.08063864348435966,
          0.012838076288655149,
          0.0638992060097461,
          0.0011569331051159333,
          0.0010057778695822148,
          0.001185615921452555,
          0.5987819114817741,
          0.007720733987528039,
          0.7511274897704497,
          0.00039155103601929976,
          0.01961818815065415,
          0.005436497333852088,
          0.0007796435813019762,
          0.017795913186382226,
          0.01802893272000363,
          0.0009347413052380619,
          0.013454685101317318,
          0.06514758701614072,
          0.023641330012353336,
          0.08737117336361186,
          0.08331276492268538,
          0.0003176971659118433,
          0.041183907428116104,
          0.0682190432475415,
          0.10896610807020926,
          0.00921547225170571,
          0.004705647902121954,
          0.04647851321874165,
          0.14968439941530615,
          0.5601957385630392,
          0.09748512060389057,
          0.02741883610246635,
          0.0024929193884998856,
          0.7268798500905247,
          0.08031659026583123,
          0.01083941278536604,
          0.03734032352915099,
          0.0017389394224781043,
          0.013161139341481363,
          0.0065144821367333575,
          0.009512855238892268,
          0.0037869799339237424,
          0.027362326061048714,
          0.07957001561336509,
          0.021917343825657718,
          0.06333636151255202,
          0.005433862982322462,
          0.15408265504878593,
          0.05372053727570429,
          0.01695813535706544,
          0.004308427025321242,
          0.00146595902188932,
          0.002732565666634164,
          0.04535140136910524,
          0.24139792835326973,
          0.0010295891697638642,
          0.01877651354115972,
          0.07314509541230779,
          0.03953040073929208,
          0.06794150663227222,
          0.010871674122002692
         ],
         "xaxis": "x",
         "y": [
          1,
          2,
          3,
          5,
          6,
          7,
          8,
          9,
          11,
          12,
          14,
          15,
          16,
          17,
          18,
          19,
          20,
          21,
          22,
          23,
          24,
          25,
          26,
          27,
          28,
          29,
          30,
          33,
          34,
          35,
          37,
          38,
          39,
          40,
          42,
          43,
          44,
          45,
          46,
          47,
          48,
          50,
          51,
          52,
          53,
          54,
          55,
          56,
          57,
          58,
          59,
          60,
          61,
          62,
          63,
          64,
          65,
          66,
          67,
          68,
          69,
          70,
          71,
          72,
          73,
          74,
          77,
          78,
          80,
          81,
          82,
          83,
          84,
          85,
          86,
          87,
          89,
          90,
          92,
          94,
          97,
          98,
          99,
          100,
          101,
          102,
          103,
          104,
          105,
          106,
          107,
          108,
          110,
          111,
          112,
          113,
          114,
          115,
          116,
          117,
          119,
          120,
          121,
          122,
          123,
          124,
          125,
          126,
          128,
          129,
          130,
          132,
          133,
          135,
          136,
          137,
          138,
          139,
          140,
          141,
          142,
          143,
          144,
          147,
          148,
          149,
          151,
          152,
          153,
          154,
          156,
          157,
          158,
          159,
          161,
          163,
          164,
          166,
          167,
          168,
          169,
          170,
          171,
          172,
          173,
          174,
          175,
          176,
          177,
          178,
          179,
          180,
          182,
          183,
          184,
          185,
          187,
          188,
          190,
          191,
          192,
          194,
          195,
          196,
          197,
          198,
          199,
          200,
          201,
          202,
          203,
          204,
          205,
          206,
          207,
          208,
          209,
          210,
          211,
          212,
          213,
          214,
          215,
          216,
          217,
          219,
          220,
          221,
          222,
          223,
          224,
          225,
          226,
          227,
          228,
          230,
          231,
          233,
          234,
          235,
          236,
          237,
          239,
          240,
          241,
          242,
          243,
          244,
          245,
          246,
          247,
          248,
          250,
          251,
          252,
          253,
          254,
          255,
          257,
          260,
          263,
          264,
          266,
          269,
          270,
          271,
          272,
          273,
          276,
          277,
          278,
          279,
          280,
          281,
          283,
          284,
          285,
          286,
          287,
          289,
          291,
          292,
          293,
          295,
          296,
          297,
          298,
          299,
          302,
          303,
          305,
          306,
          308,
          309,
          310,
          311,
          312,
          314,
          315,
          316,
          317,
          319,
          320,
          321,
          322,
          323,
          325,
          326,
          327,
          328,
          329,
          331,
          332,
          333,
          334,
          335,
          336,
          337,
          338,
          339,
          340,
          341,
          342,
          343,
          345,
          346,
          347,
          349,
          350,
          351,
          352,
          353,
          354,
          355,
          356,
          358,
          359,
          360,
          361,
          362,
          363,
          364,
          365,
          366,
          367,
          369,
          370,
          372,
          373,
          374,
          375,
          376,
          377,
          379,
          380,
          381,
          382,
          383,
          384,
          385,
          386,
          388,
          389,
          390,
          392,
          393,
          394,
          395,
          396,
          397,
          398,
          399,
          400,
          401,
          402,
          403,
          404,
          405,
          407,
          409,
          410,
          411,
          414,
          416,
          417,
          418,
          419,
          420,
          422,
          424,
          426,
          427,
          428,
          429,
          430,
          431,
          432,
          435,
          437,
          438,
          439,
          440,
          441,
          442,
          443,
          444,
          445,
          446,
          447,
          448,
          449,
          450,
          451,
          452,
          453,
          454,
          455,
          456,
          457,
          458,
          459,
          460,
          461,
          462,
          463,
          464,
          465,
          466,
          468,
          469,
          472,
          473,
          474,
          475,
          476,
          477,
          478,
          480,
          481,
          482,
          483,
          484,
          485,
          488,
          489,
          491,
          492,
          495,
          496,
          497,
          498,
          499,
          501,
          502,
          503,
          504,
          505,
          506,
          507,
          508,
          510,
          512,
          513,
          514,
          515,
          517,
          519,
          520,
          521,
          522,
          523,
          524,
          525,
          527,
          528,
          529,
          531,
          532,
          533,
          534,
          535,
          537,
          539,
          540,
          541,
          542,
          543,
          544,
          545,
          547,
          549,
          550,
          551,
          552,
          553,
          554,
          556,
          557,
          558,
          560,
          561,
          562,
          565,
          566,
          567,
          568,
          569,
          570,
          571,
          572,
          573,
          574,
          575,
          577,
          578,
          579,
          580,
          581,
          582,
          583,
          584,
          586,
          587,
          589,
          590,
          591,
          593,
          594,
          595,
          596,
          597,
          598,
          599,
          600,
          601,
          602,
          603,
          604,
          605,
          606,
          607,
          609,
          610,
          611,
          612,
          613,
          614,
          615,
          616
         ],
         "yaxis": "y"
        },
        {
         "customdata": [
          [
           "000ff2bfdfe9"
          ],
          [
           "044fb8a146ec"
          ],
          [
           "06055f3f6785"
          ],
          [
           "06c0ddf265c5"
          ],
          [
           "0e798fd4e6e7"
          ],
          [
           "0f5fba133cb7"
          ],
          [
           "103f611fdfc4"
          ],
          [
           "1136a2966ed2"
          ],
          [
           "1360fac6a227"
          ],
          [
           "1bac22586f27"
          ],
          [
           "1bcdc1af3458"
          ],
          [
           "1ce075e25399"
          ],
          [
           "228524bde6a3"
          ],
          [
           "245a3f44cfc0"
          ],
          [
           "24b40510d6a2"
          ],
          [
           "2508534155a6"
          ],
          [
           "26c79809c5ea"
          ],
          [
           "2cddd2d70d72"
          ],
          [
           "2f4e5de3de9c"
          ],
          [
           "32c1d5bdae8d"
          ],
          [
           "34a025893d36"
          ],
          [
           "355bdddccdbd"
          ],
          [
           "3924089e4396"
          ],
          [
           "3a288ec2811f"
          ],
          [
           "3bbe922b2cdb"
          ],
          [
           "3e2d6dca77ec"
          ],
          [
           "3f4bfe72745d"
          ],
          [
           "401ca61716e4"
          ],
          [
           "41216f6cee66"
          ],
          [
           "463035913640"
          ],
          [
           "46fe2d3b9e7b"
          ],
          [
           "47e4c756d4a6"
          ],
          [
           "49b8f248a42f"
          ],
          [
           "582ef2696f72"
          ],
          [
           "5c63c7b71282"
          ],
          [
           "5d694ba9aa16"
          ],
          [
           "5fe47095520d"
          ],
          [
           "6468478fce4c"
          ],
          [
           "667b389f278d"
          ],
          [
           "67122d4bce03"
          ],
          [
           "679465bb38ba"
          ],
          [
           "67c8bfe99f1c"
          ],
          [
           "67d932a88814"
          ],
          [
           "68597a95792d"
          ],
          [
           "68729b79859b"
          ],
          [
           "687ebf4e5d7d"
          ],
          [
           "6a2fa7569189"
          ],
          [
           "6ab2d09883de"
          ],
          [
           "6f5908450956"
          ],
          [
           "72ee3bca17f6"
          ],
          [
           "73483f848b67"
          ],
          [
           "7445f4eac4de"
          ],
          [
           "7830dec4b764"
          ],
          [
           "785a0d3c4c41"
          ],
          [
           "79b44ed25c29"
          ],
          [
           "7af31043202c"
          ],
          [
           "7cb9a95a62fc"
          ],
          [
           "7f6d8841c044"
          ],
          [
           "8065efe77fab"
          ],
          [
           "81015c6c3404"
          ],
          [
           "8803ec4462c1"
          ],
          [
           "89a5ed9b71a8"
          ],
          [
           "8ba157c016ba"
          ],
          [
           "8ead0a51d11c"
          ],
          [
           "8f5b7d4621da"
          ],
          [
           "9230d1831db3"
          ],
          [
           "96fbcce4f0c0"
          ],
          [
           "98102929d244"
          ],
          [
           "9ed6b861e9f7"
          ],
          [
           "9ef1886b810c"
          ],
          [
           "a082f422799b"
          ],
          [
           "a20ba8577583"
          ],
          [
           "a22a15853970"
          ],
          [
           "a795db8ca395"
          ],
          [
           "a7d4dd890a1b"
          ],
          [
           "a92580fda1c3"
          ],
          [
           "ac38de805eff"
          ],
          [
           "acc1f36dca1c"
          ],
          [
           "ad8e95777bf2"
          ],
          [
           "b9856a5d8f13"
          ],
          [
           "ba4443b0170c"
          ],
          [
           "bbb1066a9afd"
          ],
          [
           "c08f5a77f267"
          ],
          [
           "c5c8ffd0c908"
          ],
          [
           "c5cc9b3fa0b9"
          ],
          [
           "c5f4dc4ae7fb"
          ],
          [
           "c7f5064f4265"
          ],
          [
           "c809ac237df8"
          ],
          [
           "c9f71bcf8be0"
          ],
          [
           "cf5439add02c"
          ],
          [
           "cf84868cd1ce"
          ],
          [
           "d0ecfae80796"
          ],
          [
           "d1a9f56adc4a"
          ],
          [
           "d3ce7974230c"
          ],
          [
           "d482356ae08f"
          ],
          [
           "d8dae19a0df0"
          ],
          [
           "da1a5aec1818"
          ],
          [
           "deaf77f02382"
          ],
          [
           "dfa4ccdd5f4a"
          ],
          [
           "e253dc2f97c0"
          ],
          [
           "e52a2f7ad6a5"
          ],
          [
           "e76aa8f0f2e7"
          ],
          [
           "e7a607afea3d"
          ],
          [
           "ed3486389307"
          ],
          [
           "f16b095a433f"
          ],
          [
           "f26ee0cee841"
          ],
          [
           "f405c0b5836f"
          ],
          [
           "fbb79ba9d642"
          ]
         ],
         "hovertemplate": "Class=1<br>Positive Class Probability=%{x}<br>Sample Integer Index=%{y}<br>Id=%{customdata[0]}<extra></extra>",
         "legendgroup": "1",
         "marker": {
          "color": "#FF2079",
          "opacity": 0.6,
          "size": 6,
          "symbol": "circle"
         },
         "mode": "markers",
         "name": "1",
         "orientation": "v",
         "showlegend": true,
         "type": "scatter",
         "x": [
          0.9572901670212502,
          0.42728016728329665,
          0.9164795559450347,
          0.983814689558572,
          0.7118926637886054,
          0.6589624369841851,
          0.9518602862068638,
          0.9846520787292853,
          0.9649924626582604,
          0.8738974547271969,
          0.9504553699615561,
          0.9488416993601397,
          0.8590039905154159,
          0.8618433890621325,
          0.7173876671640742,
          0.7318657056626929,
          0.9367333446105681,
          0.9462033621312875,
          0.9836973694760978,
          0.7487391055682219,
          0.8431626866059695,
          0.9732252658935325,
          0.4739363141577172,
          0.503952311869214,
          0.9200927154245931,
          0.9292401994506528,
          0.8079060499088045,
          0.9568163058287388,
          0.9971374791459867,
          0.8106419905586657,
          0.6227255947510073,
          0.9328979931323784,
          0.5550115147603178,
          0.9213293083246221,
          0.5489287940242779,
          0.8722831165661755,
          0.9040517809349689,
          0.9914380022473587,
          0.9253336929136017,
          0.9733699328073644,
          0.9973246552071725,
          0.8734054337558753,
          0.8457224026779692,
          0.9449136246255027,
          0.44218614351505525,
          0.9757610673915629,
          0.8295695498267059,
          0.3483557071746951,
          0.9853656082308092,
          0.961056392594472,
          0.9877418555449632,
          0.7278976279767327,
          0.8544659556917381,
          0.8553300655931378,
          0.618200143394463,
          0.8829314756685015,
          0.042218929653117604,
          0.8693402492704569,
          0.9888202214523757,
          0.7699635738815523,
          0.8134386371562912,
          0.9730411662684272,
          0.990296861066717,
          0.9962734433022037,
          0.9213649929554757,
          0.8698545175923543,
          0.863459461894165,
          0.5902686848344458,
          0.9779419375743199,
          0.23670004402437844,
          0.8804137847157125,
          0.51397329090117,
          0.8092049675882729,
          0.5431637194461921,
          0.9941668059481984,
          0.964471321714053,
          0.9378658129098199,
          0.5421931588294345,
          0.8949381633099573,
          0.8770536441339752,
          0.7395107580236007,
          0.9342850639776724,
          0.6493090541867016,
          0.9706754282500111,
          0.8840885514848329,
          0.9593057624780765,
          0.9829172169627347,
          0.9962029329103494,
          0.7768968768660122,
          0.02132360846520466,
          0.9741686944466619,
          0.8275559745881959,
          0.9992217810218144,
          0.9686696599454822,
          0.9907325549114289,
          0.9476462687760856,
          0.9540858117373159,
          0.9839179575136925,
          0.9650501655285428,
          0.8160878099355615,
          0.8516135363795424,
          0.9826865227588255,
          0.9874251716136315,
          0.6946259003564212,
          0.9808482429069872,
          0.9813311242348466,
          0.9422153367309484,
          0.7210236877470095
         ],
         "xaxis": "x",
         "y": [
          0,
          4,
          10,
          13,
          31,
          32,
          36,
          41,
          49,
          75,
          76,
          79,
          88,
          91,
          93,
          95,
          96,
          109,
          118,
          127,
          131,
          134,
          145,
          146,
          150,
          155,
          160,
          162,
          165,
          181,
          186,
          189,
          193,
          218,
          229,
          232,
          238,
          249,
          256,
          258,
          259,
          261,
          262,
          265,
          267,
          268,
          274,
          275,
          282,
          288,
          290,
          294,
          300,
          301,
          304,
          307,
          313,
          318,
          324,
          330,
          344,
          348,
          357,
          368,
          371,
          378,
          387,
          391,
          406,
          408,
          412,
          413,
          415,
          421,
          423,
          425,
          433,
          434,
          436,
          467,
          470,
          471,
          479,
          486,
          487,
          490,
          493,
          494,
          500,
          509,
          511,
          516,
          518,
          526,
          530,
          536,
          538,
          546,
          548,
          555,
          559,
          563,
          564,
          576,
          585,
          588,
          592,
          608
         ],
         "yaxis": "y"
        }
       ],
       "layout": {
        "font": {
         "color": "#010D36"
        },
        "height": 540,
        "legend": {
         "itemsizing": "constant",
         "orientation": "h",
         "title": {
          "text": "Class"
         },
         "tracegroupgap": 0,
         "x": 1,
         "xanchor": "right",
         "y": 1.05,
         "yanchor": "bottom"
        },
        "paper_bgcolor": "#F6F5F5",
        "plot_bgcolor": "#F6F5F5",
        "template": {
         "data": {
          "bar": [
           {
            "error_x": {
             "color": "#2a3f5f"
            },
            "error_y": {
             "color": "#2a3f5f"
            },
            "marker": {
             "line": {
              "color": "#E5ECF6",
              "width": 0.5
             },
             "pattern": {
              "fillmode": "overlay",
              "size": 10,
              "solidity": 0.2
             }
            },
            "type": "bar"
           }
          ],
          "barpolar": [
           {
            "marker": {
             "line": {
              "color": "#E5ECF6",
              "width": 0.5
             },
             "pattern": {
              "fillmode": "overlay",
              "size": 10,
              "solidity": 0.2
             }
            },
            "type": "barpolar"
           }
          ],
          "carpet": [
           {
            "aaxis": {
             "endlinecolor": "#2a3f5f",
             "gridcolor": "white",
             "linecolor": "white",
             "minorgridcolor": "white",
             "startlinecolor": "#2a3f5f"
            },
            "baxis": {
             "endlinecolor": "#2a3f5f",
             "gridcolor": "white",
             "linecolor": "white",
             "minorgridcolor": "white",
             "startlinecolor": "#2a3f5f"
            },
            "type": "carpet"
           }
          ],
          "choropleth": [
           {
            "colorbar": {
             "outlinewidth": 0,
             "ticks": ""
            },
            "type": "choropleth"
           }
          ],
          "contour": [
           {
            "colorbar": {
             "outlinewidth": 0,
             "ticks": ""
            },
            "colorscale": [
             [
              0,
              "#0d0887"
             ],
             [
              0.1111111111111111,
              "#46039f"
             ],
             [
              0.2222222222222222,
              "#7201a8"
             ],
             [
              0.3333333333333333,
              "#9c179e"
             ],
             [
              0.4444444444444444,
              "#bd3786"
             ],
             [
              0.5555555555555556,
              "#d8576b"
             ],
             [
              0.6666666666666666,
              "#ed7953"
             ],
             [
              0.7777777777777778,
              "#fb9f3a"
             ],
             [
              0.8888888888888888,
              "#fdca26"
             ],
             [
              1,
              "#f0f921"
             ]
            ],
            "type": "contour"
           }
          ],
          "contourcarpet": [
           {
            "colorbar": {
             "outlinewidth": 0,
             "ticks": ""
            },
            "type": "contourcarpet"
           }
          ],
          "heatmap": [
           {
            "colorbar": {
             "outlinewidth": 0,
             "ticks": ""
            },
            "colorscale": [
             [
              0,
              "#0d0887"
             ],
             [
              0.1111111111111111,
              "#46039f"
             ],
             [
              0.2222222222222222,
              "#7201a8"
             ],
             [
              0.3333333333333333,
              "#9c179e"
             ],
             [
              0.4444444444444444,
              "#bd3786"
             ],
             [
              0.5555555555555556,
              "#d8576b"
             ],
             [
              0.6666666666666666,
              "#ed7953"
             ],
             [
              0.7777777777777778,
              "#fb9f3a"
             ],
             [
              0.8888888888888888,
              "#fdca26"
             ],
             [
              1,
              "#f0f921"
             ]
            ],
            "type": "heatmap"
           }
          ],
          "heatmapgl": [
           {
            "colorbar": {
             "outlinewidth": 0,
             "ticks": ""
            },
            "colorscale": [
             [
              0,
              "#0d0887"
             ],
             [
              0.1111111111111111,
              "#46039f"
             ],
             [
              0.2222222222222222,
              "#7201a8"
             ],
             [
              0.3333333333333333,
              "#9c179e"
             ],
             [
              0.4444444444444444,
              "#bd3786"
             ],
             [
              0.5555555555555556,
              "#d8576b"
             ],
             [
              0.6666666666666666,
              "#ed7953"
             ],
             [
              0.7777777777777778,
              "#fb9f3a"
             ],
             [
              0.8888888888888888,
              "#fdca26"
             ],
             [
              1,
              "#f0f921"
             ]
            ],
            "type": "heatmapgl"
           }
          ],
          "histogram": [
           {
            "marker": {
             "pattern": {
              "fillmode": "overlay",
              "size": 10,
              "solidity": 0.2
             }
            },
            "type": "histogram"
           }
          ],
          "histogram2d": [
           {
            "colorbar": {
             "outlinewidth": 0,
             "ticks": ""
            },
            "colorscale": [
             [
              0,
              "#0d0887"
             ],
             [
              0.1111111111111111,
              "#46039f"
             ],
             [
              0.2222222222222222,
              "#7201a8"
             ],
             [
              0.3333333333333333,
              "#9c179e"
             ],
             [
              0.4444444444444444,
              "#bd3786"
             ],
             [
              0.5555555555555556,
              "#d8576b"
             ],
             [
              0.6666666666666666,
              "#ed7953"
             ],
             [
              0.7777777777777778,
              "#fb9f3a"
             ],
             [
              0.8888888888888888,
              "#fdca26"
             ],
             [
              1,
              "#f0f921"
             ]
            ],
            "type": "histogram2d"
           }
          ],
          "histogram2dcontour": [
           {
            "colorbar": {
             "outlinewidth": 0,
             "ticks": ""
            },
            "colorscale": [
             [
              0,
              "#0d0887"
             ],
             [
              0.1111111111111111,
              "#46039f"
             ],
             [
              0.2222222222222222,
              "#7201a8"
             ],
             [
              0.3333333333333333,
              "#9c179e"
             ],
             [
              0.4444444444444444,
              "#bd3786"
             ],
             [
              0.5555555555555556,
              "#d8576b"
             ],
             [
              0.6666666666666666,
              "#ed7953"
             ],
             [
              0.7777777777777778,
              "#fb9f3a"
             ],
             [
              0.8888888888888888,
              "#fdca26"
             ],
             [
              1,
              "#f0f921"
             ]
            ],
            "type": "histogram2dcontour"
           }
          ],
          "mesh3d": [
           {
            "colorbar": {
             "outlinewidth": 0,
             "ticks": ""
            },
            "type": "mesh3d"
           }
          ],
          "parcoords": [
           {
            "line": {
             "colorbar": {
              "outlinewidth": 0,
              "ticks": ""
             }
            },
            "type": "parcoords"
           }
          ],
          "pie": [
           {
            "automargin": true,
            "type": "pie"
           }
          ],
          "scatter": [
           {
            "fillpattern": {
             "fillmode": "overlay",
             "size": 10,
             "solidity": 0.2
            },
            "type": "scatter"
           }
          ],
          "scatter3d": [
           {
            "line": {
             "colorbar": {
              "outlinewidth": 0,
              "ticks": ""
             }
            },
            "marker": {
             "colorbar": {
              "outlinewidth": 0,
              "ticks": ""
             }
            },
            "type": "scatter3d"
           }
          ],
          "scattercarpet": [
           {
            "marker": {
             "colorbar": {
              "outlinewidth": 0,
              "ticks": ""
             }
            },
            "type": "scattercarpet"
           }
          ],
          "scattergeo": [
           {
            "marker": {
             "colorbar": {
              "outlinewidth": 0,
              "ticks": ""
             }
            },
            "type": "scattergeo"
           }
          ],
          "scattergl": [
           {
            "marker": {
             "colorbar": {
              "outlinewidth": 0,
              "ticks": ""
             }
            },
            "type": "scattergl"
           }
          ],
          "scattermapbox": [
           {
            "marker": {
             "colorbar": {
              "outlinewidth": 0,
              "ticks": ""
             }
            },
            "type": "scattermapbox"
           }
          ],
          "scatterpolar": [
           {
            "marker": {
             "colorbar": {
              "outlinewidth": 0,
              "ticks": ""
             }
            },
            "type": "scatterpolar"
           }
          ],
          "scatterpolargl": [
           {
            "marker": {
             "colorbar": {
              "outlinewidth": 0,
              "ticks": ""
             }
            },
            "type": "scatterpolargl"
           }
          ],
          "scatterternary": [
           {
            "marker": {
             "colorbar": {
              "outlinewidth": 0,
              "ticks": ""
             }
            },
            "type": "scatterternary"
           }
          ],
          "surface": [
           {
            "colorbar": {
             "outlinewidth": 0,
             "ticks": ""
            },
            "colorscale": [
             [
              0,
              "#0d0887"
             ],
             [
              0.1111111111111111,
              "#46039f"
             ],
             [
              0.2222222222222222,
              "#7201a8"
             ],
             [
              0.3333333333333333,
              "#9c179e"
             ],
             [
              0.4444444444444444,
              "#bd3786"
             ],
             [
              0.5555555555555556,
              "#d8576b"
             ],
             [
              0.6666666666666666,
              "#ed7953"
             ],
             [
              0.7777777777777778,
              "#fb9f3a"
             ],
             [
              0.8888888888888888,
              "#fdca26"
             ],
             [
              1,
              "#f0f921"
             ]
            ],
            "type": "surface"
           }
          ],
          "table": [
           {
            "cells": {
             "fill": {
              "color": "#EBF0F8"
             },
             "line": {
              "color": "white"
             }
            },
            "header": {
             "fill": {
              "color": "#C8D4E3"
             },
             "line": {
              "color": "white"
             }
            },
            "type": "table"
           }
          ]
         },
         "layout": {
          "annotationdefaults": {
           "arrowcolor": "#2a3f5f",
           "arrowhead": 0,
           "arrowwidth": 1
          },
          "autotypenumbers": "strict",
          "coloraxis": {
           "colorbar": {
            "outlinewidth": 0,
            "ticks": ""
           }
          },
          "colorscale": {
           "diverging": [
            [
             0,
             "#8e0152"
            ],
            [
             0.1,
             "#c51b7d"
            ],
            [
             0.2,
             "#de77ae"
            ],
            [
             0.3,
             "#f1b6da"
            ],
            [
             0.4,
             "#fde0ef"
            ],
            [
             0.5,
             "#f7f7f7"
            ],
            [
             0.6,
             "#e6f5d0"
            ],
            [
             0.7,
             "#b8e186"
            ],
            [
             0.8,
             "#7fbc41"
            ],
            [
             0.9,
             "#4d9221"
            ],
            [
             1,
             "#276419"
            ]
           ],
           "sequential": [
            [
             0,
             "#0d0887"
            ],
            [
             0.1111111111111111,
             "#46039f"
            ],
            [
             0.2222222222222222,
             "#7201a8"
            ],
            [
             0.3333333333333333,
             "#9c179e"
            ],
            [
             0.4444444444444444,
             "#bd3786"
            ],
            [
             0.5555555555555556,
             "#d8576b"
            ],
            [
             0.6666666666666666,
             "#ed7953"
            ],
            [
             0.7777777777777778,
             "#fb9f3a"
            ],
            [
             0.8888888888888888,
             "#fdca26"
            ],
            [
             1,
             "#f0f921"
            ]
           ],
           "sequentialminus": [
            [
             0,
             "#0d0887"
            ],
            [
             0.1111111111111111,
             "#46039f"
            ],
            [
             0.2222222222222222,
             "#7201a8"
            ],
            [
             0.3333333333333333,
             "#9c179e"
            ],
            [
             0.4444444444444444,
             "#bd3786"
            ],
            [
             0.5555555555555556,
             "#d8576b"
            ],
            [
             0.6666666666666666,
             "#ed7953"
            ],
            [
             0.7777777777777778,
             "#fb9f3a"
            ],
            [
             0.8888888888888888,
             "#fdca26"
            ],
            [
             1,
             "#f0f921"
            ]
           ]
          },
          "colorway": [
           "#636efa",
           "#EF553B",
           "#00cc96",
           "#ab63fa",
           "#FFA15A",
           "#19d3f3",
           "#FF6692",
           "#B6E880",
           "#FF97FF",
           "#FECB52"
          ],
          "font": {
           "color": "#2a3f5f"
          },
          "geo": {
           "bgcolor": "white",
           "lakecolor": "white",
           "landcolor": "#E5ECF6",
           "showlakes": true,
           "showland": true,
           "subunitcolor": "white"
          },
          "hoverlabel": {
           "align": "left"
          },
          "hovermode": "closest",
          "mapbox": {
           "style": "light"
          },
          "paper_bgcolor": "white",
          "plot_bgcolor": "#E5ECF6",
          "polar": {
           "angularaxis": {
            "gridcolor": "white",
            "linecolor": "white",
            "ticks": ""
           },
           "bgcolor": "#E5ECF6",
           "radialaxis": {
            "gridcolor": "white",
            "linecolor": "white",
            "ticks": ""
           }
          },
          "scene": {
           "xaxis": {
            "backgroundcolor": "#E5ECF6",
            "gridcolor": "white",
            "gridwidth": 2,
            "linecolor": "white",
            "showbackground": true,
            "ticks": "",
            "zerolinecolor": "white"
           },
           "yaxis": {
            "backgroundcolor": "#E5ECF6",
            "gridcolor": "white",
            "gridwidth": 2,
            "linecolor": "white",
            "showbackground": true,
            "ticks": "",
            "zerolinecolor": "white"
           },
           "zaxis": {
            "backgroundcolor": "#E5ECF6",
            "gridcolor": "white",
            "gridwidth": 2,
            "linecolor": "white",
            "showbackground": true,
            "ticks": "",
            "zerolinecolor": "white"
           }
          },
          "shapedefaults": {
           "line": {
            "color": "#2a3f5f"
           }
          },
          "ternary": {
           "aaxis": {
            "gridcolor": "white",
            "linecolor": "white",
            "ticks": ""
           },
           "baxis": {
            "gridcolor": "white",
            "linecolor": "white",
            "ticks": ""
           },
           "bgcolor": "#E5ECF6",
           "caxis": {
            "gridcolor": "white",
            "linecolor": "white",
            "ticks": ""
           }
          },
          "title": {
           "x": 0.05
          },
          "xaxis": {
           "automargin": true,
           "gridcolor": "white",
           "linecolor": "white",
           "ticks": "",
           "title": {
            "standoff": 15
           },
           "zerolinecolor": "white",
           "zerolinewidth": 2
          },
          "yaxis": {
           "automargin": true,
           "gridcolor": "white",
           "linecolor": "white",
           "ticks": "",
           "title": {
            "standoff": 15
           },
           "zerolinecolor": "white",
           "zerolinewidth": 2
          }
         }
        },
        "title": {
         "font": {
          "size": 18
         },
         "text": "Training Dataset - Out of Fold Predictions"
        },
        "width": 840,
        "xaxis": {
         "anchor": "y",
         "domain": [
          0,
          1
         ],
         "range": [
          -0.02,
          1.02
         ],
         "title": {
          "text": "Positive Class Probability"
         }
        },
        "yaxis": {
         "anchor": "x",
         "domain": [
          0,
          1
         ],
         "title": {
          "text": "Sample Integer Index"
         }
        }
       }
      }
     },
     "metadata": {},
     "output_type": "display_data"
    }
   ],
   "source": [
    "y_proba_frame = pd.DataFrame(\n",
    "    {\n",
    "        \"Sample Integer Index\": np.arange(0, len(y)),\n",
    "        \"Positive Class Probability\": y_proba_rescaled,\n",
    "        \"Class\": y.values.astype(str),\n",
    "    },\n",
    "    index=y.index,\n",
    ")\n",
    "\n",
    "fig = px.scatter(\n",
    "    y_proba_frame.reset_index(),\n",
    "    x=\"Positive Class Probability\",\n",
    "    y=\"Sample Integer Index\",\n",
    "    symbol=\"Class\",\n",
    "    symbol_sequence=[\"diamond\", \"circle\"],\n",
    "    color=\"Class\",\n",
    "    color_discrete_sequence=[\"#010D36\", \"#FF2079\"],\n",
    "    category_orders={\"Class\": (\"0\", \"1\")},\n",
    "    hover_data=\"Id\",\n",
    "    opacity=0.6,\n",
    "    height=540,\n",
    "    width=840,\n",
    "    title=\"Training Dataset - Out of Fold Predictions\",\n",
    ")\n",
    "fig.update_layout(\n",
    "    font_color=FONT_COLOR,\n",
    "    title_font_size=18,\n",
    "    plot_bgcolor=BACKGROUND_COLOR,\n",
    "    paper_bgcolor=BACKGROUND_COLOR,\n",
    "    legend=dict(\n",
    "        orientation=\"h\",\n",
    "        yanchor=\"bottom\",\n",
    "        xanchor=\"right\",\n",
    "        y=1.05,\n",
    "        x=1,\n",
    "        title=\"Class\",\n",
    "        itemsizing=\"constant\",\n",
    "    ),\n",
    "    xaxis_range=[-0.02, 1.02],\n",
    ")\n",
    "fig.update_traces(marker_size=6)\n",
    "fig.show()"
   ]
  },
  {
   "cell_type": "code",
   "execution_count": 27,
   "metadata": {},
   "outputs": [],
   "source": [
    "if np.all(np.isclose(test.select_dtypes(\"number\").sum(), 0)):\n",
    "    test_numeric_cols = test.select_dtypes(\"number\").columns\n",
    "    test[test_numeric_cols] += 1e-9\n",
    "\n",
    "test_ids = test.index\n",
    "y_test = np.zeros_like(test_ids)\n",
    "\n",
    "for classifier in classifiers.values():\n",
    "    y_test += classifier.predict_proba(test)[:, 1]\n",
    "\n",
    "y_test_rescaled = y_test / len(classifiers)\n",
    "y_test_postprocessed = perform_postprocessing(y_test_rescaled)\n"
   ]
  },
  {
   "cell_type": "code",
   "execution_count": 28,
   "metadata": {},
   "outputs": [
    {
     "data": {
      "text/html": [
       "<div>\n",
       "<style scoped>\n",
       "    .dataframe tbody tr th:only-of-type {\n",
       "        vertical-align: middle;\n",
       "    }\n",
       "\n",
       "    .dataframe tbody tr th {\n",
       "        vertical-align: top;\n",
       "    }\n",
       "\n",
       "    .dataframe thead th {\n",
       "        text-align: right;\n",
       "    }\n",
       "</style>\n",
       "<table border=\"1\" class=\"dataframe\">\n",
       "  <thead>\n",
       "    <tr style=\"text-align: right;\">\n",
       "      <th></th>\n",
       "      <th>class_0</th>\n",
       "      <th>class_1</th>\n",
       "    </tr>\n",
       "    <tr>\n",
       "      <th>Id</th>\n",
       "      <th></th>\n",
       "      <th></th>\n",
       "    </tr>\n",
       "  </thead>\n",
       "  <tbody>\n",
       "    <tr>\n",
       "      <th>00eed32682bb</th>\n",
       "      <td>0.765517</td>\n",
       "      <td>0.234483</td>\n",
       "    </tr>\n",
       "    <tr>\n",
       "      <th>010ebe33f668</th>\n",
       "      <td>0.765517</td>\n",
       "      <td>0.234483</td>\n",
       "    </tr>\n",
       "    <tr>\n",
       "      <th>02fa521e1838</th>\n",
       "      <td>0.765517</td>\n",
       "      <td>0.234483</td>\n",
       "    </tr>\n",
       "    <tr>\n",
       "      <th>040e15f562a2</th>\n",
       "      <td>0.765517</td>\n",
       "      <td>0.234483</td>\n",
       "    </tr>\n",
       "    <tr>\n",
       "      <th>046e85c7cc7f</th>\n",
       "      <td>0.765517</td>\n",
       "      <td>0.234483</td>\n",
       "    </tr>\n",
       "  </tbody>\n",
       "</table>\n",
       "</div>"
      ],
      "text/plain": [
       "               class_0   class_1\n",
       "Id                              \n",
       "00eed32682bb  0.765517  0.234483\n",
       "010ebe33f668  0.765517  0.234483\n",
       "02fa521e1838  0.765517  0.234483\n",
       "040e15f562a2  0.765517  0.234483\n",
       "046e85c7cc7f  0.765517  0.234483"
      ]
     },
     "execution_count": 28,
     "metadata": {},
     "output_type": "execute_result"
    }
   ],
   "source": [
    "submission = pd.DataFrame(\n",
    "    {\n",
    "        \"Id\": test_ids,\n",
    "        \"class_0\": 1 - y_test_rescaled,\n",
    "        \"class_1\": y_test_rescaled,\n",
    "    }\n",
    ").set_index(\"Id\")\n",
    "\n",
    "submission.to_csv(\"submission.csv\")\n",
    "submission.head()\n"
   ]
  }
 ],
 "metadata": {
  "kernelspec": {
   "display_name": "Python 3",
   "language": "python",
   "name": "python3"
  },
  "language_info": {
   "codemirror_mode": {
    "name": "ipython",
    "version": 3
   },
   "file_extension": ".py",
   "mimetype": "text/x-python",
   "name": "python",
   "nbconvert_exporter": "python",
   "pygments_lexer": "ipython3",
   "version": "3.10.5"
  },
  "orig_nbformat": 4
 },
 "nbformat": 4,
 "nbformat_minor": 2
}
