{
 "cells": [
  {
   "cell_type": "code",
   "execution_count": 1,
   "metadata": {},
   "outputs": [],
   "source": [
    "import os\n",
    "import shutil\n",
    "import subprocess\n",
    "from collections import defaultdict\n",
    "from copy import copy\n",
    "from itertools import product\n",
    "from functools import reduce\n",
    "from functools import partial\n",
    "from pathlib import Path\n",
    "\n",
    "# Sub-modules and so on.\n",
    "import matplotlib.pyplot as plt\n",
    "import numpy as np\n",
    "import pandas as pd\n",
    "import plotly.express as px\n",
    "import plotly.figure_factory as ff\n",
    "import plotly.graph_objects as go\n",
    "import seaborn as sns\n",
    "import scipy.stats as stats\n",
    "from colorama import Fore, Style\n",
    "from IPython.core.display import HTML\n",
    "from IPython.display import display_html\n",
    "from IPython.display import clear_output\n",
    "from matplotlib.colors import Colormap\n",
    "from plotly.subplots import make_subplots\n",
    "from scipy.cluster.hierarchy import fcluster, linkage\n",
    "from scipy.spatial.distance import squareform\n",
    "from scipy.stats import gaussian_kde, probplot\n",
    "\n",
    "from sklearn.preprocessing import PowerTransformer\n",
    "from sklearn.compose import make_column_transformer\n",
    "from sklearn.compose import make_column_selector\n",
    "from sklearn.preprocessing import StandardScaler\n",
    "from sklearn.preprocessing import OneHotEncoder\n",
    "from sklearn.pipeline import make_pipeline\n",
    "from sklearn.metrics import make_scorer\n",
    "from sklearn.impute import SimpleImputer\n",
    "from sklearn.model_selection import cross_val_score\n",
    "from sklearn.model_selection import StratifiedKFold\n",
    "from catboost import CatBoostClassifier\n",
    "from lightgbm import LGBMClassifier\n",
    "from xgboost import XGBClassifier\n",
    "\n",
    "from sklearn.manifold import TSNE\n",
    "from sklearn.compose import make_column_transformer\n",
    "from sklearn.pipeline import make_pipeline\n",
    "from sklearn.preprocessing import FunctionTransformer\n",
    "from sklearn.preprocessing import StandardScaler\n",
    "from sklearn.preprocessing import OneHotEncoder\n",
    "from sklearn.impute import SimpleImputer\n",
    "from sklearn.impute import KNNImputer\n",
    "from sklearn import set_config\n",
    "from sklearn.tree import DecisionTreeClassifier\n",
    "from sklearn.tree import plot_tree\n",
    "from sklearn.discriminant_analysis import LinearDiscriminantAnalysis\n",
    "from sklearn.ensemble import RandomForestClassifier\n",
    "from sklearn.feature_selection import mutual_info_classif\n",
    "from sklearn.metrics import accuracy_score\n",
    "from sklearn.model_selection import StratifiedKFold\n",
    "from sklearn.linear_model import LogisticRegression\n",
    "from sklearn.linear_model import RidgeClassifier\n",
    "from sklearn.ensemble import RandomForestClassifier\n",
    "from sklearn.ensemble import ExtraTreesClassifier\n",
    "from sklearn.ensemble import GradientBoostingClassifier\n",
    "from sklearn.svm import LinearSVC\n",
    "from sklearn.svm import NuSVC\n",
    "from sklearn.svm import SVC\n",
    "from sklearn.neighbors import KNeighborsClassifier\n",
    "from sklearn.model_selection import cross_val_score\n",
    "from sklearn.metrics import precision_score, recall_score, f1_score, accuracy_score\n",
    "from sklearn.metrics import roc_curve, roc_auc_score\n",
    "from sklearn.metrics import confusion_matrix\n",
    "from sklearn.model_selection import cross_val_predict\n",
    "from sklearn.model_selection import learning_curve\n",
    "from sklearn.model_selection import RandomizedSearchCV\n",
    "from sklearn.feature_selection import SelectKBest\n",
    "from sklearn.feature_selection import SelectFromModel\n",
    "from sklearn.base import BaseEstimator, TransformerMixin\n",
    "from sklearn.preprocessing import Binarizer, OrdinalEncoder\n",
    "from sklearn.utils.validation import check_is_fitted\n",
    "from sklearn.feature_selection import RFE, SelectPercentile, SequentialFeatureSelector\n",
    "from sklearn.kernel_approximation import Nystroem\n",
    "from sklearn.linear_model import LogisticRegression\n",
    "from sklearn.cluster import AffinityPropagation, KMeans, MeanShift, Birch\n",
    "from sklearn.ensemble import HistGradientBoostingClassifier\n",
    "from sklearn.ensemble import VotingClassifier\n",
    "from sklearn.base import clone\n",
    "from sklearn.feature_selection import SelectPercentile\n",
    "from scipy.stats import randint, expon, reciprocal, uniform\n",
    "\n",
    "ON_KAGGLE = os.getenv(\"KAGGLE_KERNEL_RUN_TYPE\") is not None\n",
    "\n",
    "# Colorama settings.\n",
    "CLR = (Style.BRIGHT + Fore.BLACK) if ON_KAGGLE else (Style.BRIGHT + Fore.WHITE)\n",
    "RED = Style.BRIGHT + Fore.RED\n",
    "BLUE = Style.BRIGHT + Fore.BLUE\n",
    "CYAN = Style.BRIGHT + Fore.CYAN\n",
    "RESET = Style.RESET_ALL\n",
    "\n",
    "# Colors\n",
    "DF_CMAP: Colormap = sns.light_palette(\"#8C92AC\", as_cmap=True)  # type: ignore\n",
    "FONT_COLOR = \"#010D36\"\n",
    "BACKGROUND_COLOR = \"#F6F5F5\"\n",
    "\n",
    "cell_hover = {  # for row hover use <tr> instead of <td>\n",
    "    \"selector\": \"td:hover\",\n",
    "    \"props\": \"background-color: #F6F5F5\",\n",
    "}\n",
    "text_highlight = {\n",
    "    \"selector\": \"td\",\n",
    "    \"props\": \"color: #FF2079; font-weight: bold\",\n",
    "}\n",
    "index_names = {\n",
    "    \"selector\": \".index_name\",\n",
    "    \"props\": \"font-style: italic; background-color: #010D36; color: #F2F2F0;\",\n",
    "}\n",
    "headers = {\n",
    "    \"selector\": \"th:not(.index_name)\",\n",
    "    \"props\": \"font-style: italic; background-color: #010D36; color: #F2F2F0;\",\n",
    "}\n",
    "DF_STYLE = (index_names, headers, text_highlight)\n",
    "\n",
    "MY_RC = {\n",
    "    \"axes.labelcolor\": FONT_COLOR,\n",
    "    \"axes.labelsize\": 10,\n",
    "    \"axes.labelpad\": 15,\n",
    "    \"axes.labelweight\": \"bold\",\n",
    "    \"axes.titlesize\": 14,\n",
    "    \"axes.titleweight\": \"bold\",\n",
    "    \"axes.titlepad\": 15,\n",
    "    \"axes.facecolor\": BACKGROUND_COLOR,\n",
    "    \"xtick.labelsize\": 10,\n",
    "    \"xtick.color\": FONT_COLOR,\n",
    "    \"ytick.labelsize\": 10,\n",
    "    \"ytick.color\": FONT_COLOR,\n",
    "    \"figure.titlesize\": 14,\n",
    "    \"figure.titleweight\": \"bold\",\n",
    "    \"figure.facecolor\": BACKGROUND_COLOR,\n",
    "    \"figure.edgecolor\": BACKGROUND_COLOR,\n",
    "    \"figure.dpi\": 72,  # Locally Seaborn uses 72, meanwhile Kaggle 96.\n",
    "    \"font.size\": 10,\n",
    "    \"font.family\": \"Serif\",\n",
    "    \"text.color\": FONT_COLOR,\n",
    "}\n",
    "sns.set_theme(rc=MY_RC)\n",
    "\n",
    "\n",
    "# Utility functions.\n",
    "def download_dataset_from_kaggle(user, dataset, directory):\n",
    "    command = \"kaggle datasets download -d \"\n",
    "    filepath = directory / (dataset + \".zip\")\n",
    "\n",
    "    if not filepath.is_file():\n",
    "        subprocess.run((command + user + \"/\" + dataset).split())\n",
    "        filepath.parent.mkdir(parents=True, exist_ok=True)\n",
    "        shutil.unpack_archive(dataset + \".zip\", \"data\")\n",
    "        shutil.move(dataset + \".zip\", \"data\")\n",
    "\n",
    "\n",
    "def download_competition_from_kaggle(competition):\n",
    "    command = \"kaggle competitions download -c \"\n",
    "    filepath = Path(\"data/\" + competition + \".zip\")\n",
    "\n",
    "    if not filepath.is_file():\n",
    "        subprocess.run((command + competition).split())\n",
    "        Path(\"data\").mkdir(parents=True, exist_ok=True)\n",
    "        shutil.unpack_archive(competition + \".zip\", \"data\")\n",
    "        shutil.move(competition + \".zip\", \"data\")\n"
   ]
  },
  {
   "cell_type": "code",
   "execution_count": 2,
   "metadata": {},
   "outputs": [],
   "source": [
    "competition = \"icr-identify-age-related-conditions\"\n",
    "\n",
    "if not ON_KAGGLE:\n",
    "    download_competition_from_kaggle(competition)\n",
    "    train_path = \"data/train.csv\"\n",
    "    test_path = \"data/test.csv\"\n",
    "    greeks_path = \"data/greeks.csv\"\n",
    "else:\n",
    "    train_path = f\"/kaggle/input/{competition}/train.csv\"\n",
    "    test_path = f\"/kaggle/input/{competition}/test.csv\"\n",
    "    greeks_path = f\"/kaggle/input/{competition}/greeks.csv\"\n",
    "\n",
    "train = pd.read_csv(train_path, index_col=\"Id\").rename(columns=str.strip)\n",
    "test = pd.read_csv(test_path, index_col=\"Id\").rename(columns=str.strip)\n",
    "greeks = pd.read_csv(greeks_path, index_col=\"Id\").rename(columns=str.strip)\n"
   ]
  },
  {
   "cell_type": "code",
   "execution_count": 3,
   "metadata": {},
   "outputs": [],
   "source": [
    "numeric_descr = (\n",
    "    train.drop(\"Class\", axis=1)\n",
    "    .describe(percentiles=[0.01, 0.05, 0.25, 0.50, 0.75, 0.95, 0.99])\n",
    "    .drop(\"count\")\n",
    "    .T.rename(columns=str.title)\n",
    ")"
   ]
  },
  {
   "cell_type": "code",
   "execution_count": 4,
   "metadata": {},
   "outputs": [],
   "source": [
    "numeric_data = train.select_dtypes(\"number\")\n",
    "numeric_cols = numeric_data.drop(\"Class\", axis=1).columns.tolist()\n",
    "r2_scores = defaultdict(tuple)\n",
    "\n",
    "for feature in numeric_cols:\n",
    "    orig = train[feature].dropna()\n",
    "    _, (*_, R_orig) = probplot(orig, rvalue=True)\n",
    "    _, (*_, R_log) = probplot(np.log(orig), rvalue=True)\n",
    "    _, (*_, R_sqrt) = probplot(np.sqrt(orig), rvalue=True)\n",
    "    _, (*_, R_reci) = probplot(np.reciprocal(orig), rvalue=True)\n",
    "    _, (*_, R_boxcox) = probplot(stats.boxcox(orig)[0], rvalue=True)\n",
    "    _, (*_, R_yeojohn) = probplot(stats.yeojohnson(orig)[0], rvalue=True)\n",
    "    r2_scores[feature] = (\n",
    "        R_orig * R_orig,\n",
    "        R_log * R_log,\n",
    "        R_sqrt * R_sqrt,\n",
    "        R_reci * R_reci,\n",
    "        R_boxcox * R_boxcox,\n",
    "        R_yeojohn * R_yeojohn,\n",
    "    )\n",
    "\n",
    "r2_scores = pd.DataFrame(\n",
    "    r2_scores, index=(\"Original\", \"Log\", \"Sqrt\", \"Reciprocal\", \"BoxCox\", \"YeoJohnson\")\n",
    ").T\n",
    "\n",
    "r2_scores[\"Winner\"] = r2_scores.idxmax(axis=1)\n"
   ]
  },
  {
   "cell_type": "code",
   "execution_count": 5,
   "metadata": {},
   "outputs": [],
   "source": [
    "no_transform_cols = r2_scores.query(\"Winner == 'Original'\").index\n",
    "log_transform_cols = r2_scores.query(\"Winner == 'Log'\").index\n",
    "reciprocal_transform_cols = r2_scores.query(\"Winner == 'Reciprocal'\").index\n",
    "boxcox_transform_cols = r2_scores.query(\"Winner == 'BoxCox'\").index\n",
    "yeojohnson_transform_cols = r2_scores.query(\"Winner == 'YeoJohnson'\").index\n"
   ]
  },
  {
   "cell_type": "code",
   "execution_count": 6,
   "metadata": {},
   "outputs": [],
   "source": [
    "semi_constant_mask = np.isclose(numeric_descr[\"Min\"], numeric_descr[\"50%\"])\n",
    "semi_constant_descr = numeric_descr[semi_constant_mask]\n",
    "semi_const_cols_thresholds = semi_constant_descr[\"50%\"].to_dict()\n"
   ]
  },
  {
   "cell_type": "code",
   "execution_count": 7,
   "metadata": {},
   "outputs": [],
   "source": [
    "semi_const_cols = semi_const_cols_thresholds.keys()\n",
    "\n",
    "no_transform_cols = no_transform_cols.drop(semi_const_cols, errors=\"ignore\")\n",
    "log_transform_cols = log_transform_cols.drop(semi_const_cols, errors=\"ignore\")\n",
    "reciprocal_transform_cols = reciprocal_transform_cols.drop(semi_const_cols, errors=\"ignore\")\n",
    "boxcox_transform_cols = boxcox_transform_cols.drop(semi_const_cols, errors=\"ignore\")\n",
    "yeojohnson_transform_cols = yeojohnson_transform_cols.drop(semi_const_cols, errors=\"ignore\")\n",
    "\n",
    "redundant_variables = [\n",
    "    \"CW\", \"GI\", \"GL\", \"AZ\", \"BP\", \"BR\", \"CF\", \"CR\", \"CS\", \n",
    "    \"CU\", \"DA\", \"DH\", \"GB\", \"GF\", \"DF\", \"DV\", \"EP\", \"GE\",\n",
    "]"
   ]
  },
  {
   "cell_type": "code",
   "execution_count": 8,
   "metadata": {},
   "outputs": [],
   "source": [
    "preliminary_transform_preprocess = make_pipeline(\n",
    "    make_column_transformer(\n",
    "        (\n",
    "            StandardScaler(),\n",
    "            no_transform_cols.to_list(),\n",
    "        ),\n",
    "        (\n",
    "            make_pipeline(\n",
    "                FunctionTransformer(func=np.log, feature_names_out=\"one-to-one\"),\n",
    "                StandardScaler(),\n",
    "            ),\n",
    "            log_transform_cols.to_list(),\n",
    "        ),\n",
    "        (\n",
    "            make_pipeline(\n",
    "                FunctionTransformer(func=np.reciprocal, feature_names_out=\"one-to-one\"),\n",
    "                StandardScaler(),\n",
    "            ),\n",
    "            reciprocal_transform_cols.to_list(),\n",
    "        ),\n",
    "        (\n",
    "            PowerTransformer(method=\"box-cox\", standardize=True),\n",
    "            boxcox_transform_cols.to_list(),\n",
    "        ),\n",
    "        (\n",
    "            PowerTransformer(method=\"yeo-johnson\", standardize=True),\n",
    "            yeojohnson_transform_cols.to_list(),\n",
    "        ),\n",
    "        (\n",
    "            make_pipeline(\n",
    "                SimpleImputer(strategy=\"most_frequent\"),\n",
    "                OrdinalEncoder(handle_unknown=\"use_encoded_value\", unknown_value=-1),\n",
    "            ),\n",
    "            make_column_selector(dtype_include=object),  # type: ignore\n",
    "        ),\n",
    "        *[\n",
    "            (\n",
    "                make_pipeline(\n",
    "                    SimpleImputer(strategy=\"median\"),\n",
    "                    Binarizer(threshold=thresh),\n",
    "                ),\n",
    "                [col],\n",
    "            )\n",
    "            for col, thresh in semi_const_cols_thresholds.items()\n",
    "        ],\n",
    "        remainder=\"drop\",\n",
    "        verbose_feature_names_out=False,\n",
    "        n_jobs=4,\n",
    "    ),\n",
    "    KNNImputer(n_neighbors=10, weights=\"distance\"),\n",
    ").set_output(transform=\"pandas\")\n"
   ]
  },
  {
   "cell_type": "code",
   "execution_count": 9,
   "metadata": {},
   "outputs": [],
   "source": [
    "def balanced_log_loss(y_true, y_pred, **kwargs):\n",
    "    \"\"\"Competition evaluation metric - negative balanced logarithmic loss.\n",
    "    The overall effect is such that each class is roughly equally\n",
    "    important for the final score.\"\"\"\n",
    "    N0, N1 = np.bincount(y_true)\n",
    "\n",
    "    y0 = np.where(y_true == 0, 1, 0)\n",
    "    y1 = np.where(y_true == 1, 1, 0)\n",
    "\n",
    "    eps = kwargs.get(\"eps\", 1e-15)\n",
    "    y_pred = np.clip(y_pred, eps, 1 - eps)\n",
    "    p0 = np.log(1 - y_pred)\n",
    "    p1 = np.log(y_pred)\n",
    "\n",
    "    return -(1 / N0 * np.sum(y0 * p0) + 1 / N1 * np.sum(y1 * p1)) * 0.5\n"
   ]
  },
  {
   "cell_type": "code",
   "execution_count": 10,
   "metadata": {},
   "outputs": [],
   "source": [
    "def get_undersampling_fraction(y_true):\n",
    "    N0, N1 = np.bincount(y_true)\n",
    "    return 1 - N1 / N0\n",
    "\n",
    "\n",
    "def assert_balanced_learning(y_train, n_samples_tol=1):\n",
    "    N0, N1 = np.bincount(y_train)\n",
    "    assert np.isclose(N0, N1, atol=n_samples_tol)\n",
    "\n",
    "\n",
    "def get_sample_weights(y_true):\n",
    "    N0, N1 = np.bincount(y_true)\n",
    "    y0, y1 = np.unique(y_true)\n",
    "    return np.where(y_true == y1, N0 / N1, 1.0)\n",
    "\n",
    "\n",
    "def perform_postprocessing(\n",
    "    y_proba,\n",
    "    rounding=True,\n",
    "    rounding_prec=4,\n",
    "    boosting=True,\n",
    "    boosting_coef=0.8,\n",
    "    shifting=True,\n",
    "    shifting_map=None,\n",
    "):\n",
    "    def my_ceil(x, prec=rounding_prec):\n",
    "        return np.true_divide(np.ceil(x * 10**prec), 10**prec)\n",
    "\n",
    "    def my_floor(x, prec=rounding_prec):\n",
    "        return np.true_divide(np.floor(x * 10**prec), 10**prec)\n",
    "\n",
    "    proba = y_proba.copy()\n",
    "\n",
    "    if rounding:\n",
    "        proba = np.where(proba > 0.5, my_floor(proba), my_ceil(proba))\n",
    "\n",
    "    if boosting:\n",
    "        odds = boosting_coef * proba / (1 - proba)\n",
    "        proba = odds / (1 + odds)\n",
    "\n",
    "    if shifting:\n",
    "        if not shifting_map:\n",
    "            shifting_map = {\"low\": (0.01, 0.02), \"high\": (0.99, 0.98)}\n",
    "        low_shift_from, low_shift_to = shifting_map.get(\"low\", (0.01, 0.02))\n",
    "        high_shift_from, high_shift_to = shifting_map.get(\"high\", (0.99, 0.98))\n",
    "        proba[proba < low_shift_from] = low_shift_to\n",
    "        proba[proba > high_shift_from] = high_shift_to\n",
    "\n",
    "    return proba\n"
   ]
  },
  {
   "attachments": {},
   "cell_type": "markdown",
   "metadata": {},
   "source": [
    "# PLAYGROUND"
   ]
  },
  {
   "cell_type": "code",
   "execution_count": 11,
   "metadata": {},
   "outputs": [],
   "source": [
    "def print_seed_results(seed, results_in, results_out):\n",
    "    print(\n",
    "        CLR + \"Seed:\",\n",
    "        RED + f\"{str(seed):3s}\",\n",
    "        CLR + \"-\",\n",
    "        CLR + \"Inner CV Score:\",\n",
    "        RED + f\"{results_in.mean():.5f} \\u00b1 {results_in.std():.5f}\",\n",
    "        CLR + \"-\",\n",
    "        CLR + \"Outer CV Score:\",\n",
    "        RED + f\"{results_out.mean():.5f} \\u00b1 {results_out.std():.5f}\",\n",
    "    )\n",
    "\n",
    "\n",
    "def print_average_results(results_in_over_seeds, results_out_over_seeds):\n",
    "    print(\n",
    "        CLR + \"\\nAverage Inner CV Score:\",\n",
    "        RED + f\"{results_in_over_seeds.mean():.5f} \\u00b1 {results_in_over_seeds.std():.5f}\",\n",
    "        CLR + \"-\",\n",
    "        CLR + \"Average Outer CV Score:\",\n",
    "        RED + f\"{results_out_over_seeds.mean():.5f} \\u00b1 {results_out_over_seeds.std():.5f}\\n\",\n",
    "    )\n"
   ]
  },
  {
   "cell_type": "code",
   "execution_count": 162,
   "metadata": {},
   "outputs": [],
   "source": [
    "np.random.seed(42)\n",
    "\n",
    "n_folds = 5\n",
    "n_seeds = 10\n",
    "\n",
    "X = train.drop(\"Class\", axis=1)\n",
    "y = train.Class\n",
    "\n",
    "seeds = np.random.randint(0, 1000, size=n_seeds)\n",
    "pos_weight = np.max(get_sample_weights(y))"
   ]
  },
  {
   "cell_type": "code",
   "execution_count": 241,
   "metadata": {},
   "outputs": [],
   "source": [
    "relevant_variables = [\n",
    "    \"AB\",\n",
    "    \"AF\",\n",
    "    \"BQ\",\n",
    "    \"CC\",\n",
    "    \"CD\",\n",
    "    \"CH\",\n",
    "    \"CR\",\n",
    "    \"DE\",\n",
    "    \"DL\",\n",
    "    \"DN\",\n",
    "    \"DU\",\n",
    "    \"DY\",\n",
    "    \"EB\",\n",
    "    \"EE\",\n",
    "    \"EL\",\n",
    "    \"EU\",\n",
    "    \"FI\",\n",
    "    \"FR\",\n",
    "    \"GL\",\n",
    "]\n",
    "\n",
    "xgb_params = {\n",
    "    \"max_depth\": 2,\n",
    "    \"n_estimators\": 200,\n",
    "    \"learning_rate\": 0.15,\n",
    "    \"min_child_weight\": 9.5,\n",
    "    \"colsample_bytree\": 0.8,\n",
    "    \"colsample_bylevel\": 0.8,\n",
    "    \"min_split_loss\": 1.0,\n",
    "    \"reg_lambda\": 3.0,\n",
    "    \"scale_pos_weight\": pos_weight,\n",
    "}\n",
    "\n",
    "lgbm_params = {\n",
    "    \"max_depth\": 3,\n",
    "    \"min_child_samples\": 20,\n",
    "    \"n_estimators\": 1000,\n",
    "    \"learning_rate\": 9e-3,\n",
    "    \"colsample_bytree\": 0.6,\n",
    "    \"reg_lambda\": 0.3,\n",
    "    \"subsample\": 0.8,\n",
    "    \"subsample_freq\": 1,\n",
    "    \"scale_pos_weight\": pos_weight,\n",
    "}\n"
   ]
  },
  {
   "cell_type": "code",
   "execution_count": 240,
   "metadata": {},
   "outputs": [
    {
     "name": "stdout",
     "output_type": "stream",
     "text": [
      "\u001b[1m\u001b[37mHP: \u001b[1m\u001b[31m0.6\n",
      "\n",
      "\u001b[1m\u001b[37mSeed: \u001b[1m\u001b[31m102 \u001b[1m\u001b[37m- \u001b[1m\u001b[37mInner CV Score: \u001b[1m\u001b[31m0.22570 ± 0.01919 \u001b[1m\u001b[37m- \u001b[1m\u001b[37mOuter CV Score: \u001b[1m\u001b[31m0.20632 ± 0.04612\n",
      "\u001b[1m\u001b[37mSeed: \u001b[1m\u001b[31m435 \u001b[1m\u001b[37m- \u001b[1m\u001b[37mInner CV Score: \u001b[1m\u001b[31m0.21680 ± 0.01631 \u001b[1m\u001b[37m- \u001b[1m\u001b[37mOuter CV Score: \u001b[1m\u001b[31m0.22997 ± 0.05524\n",
      "\u001b[1m\u001b[37mSeed: \u001b[1m\u001b[31m860 \u001b[1m\u001b[37m- \u001b[1m\u001b[37mInner CV Score: \u001b[1m\u001b[31m0.23185 ± 0.00768 \u001b[1m\u001b[37m- \u001b[1m\u001b[37mOuter CV Score: \u001b[1m\u001b[31m0.21251 ± 0.03239\n",
      "\u001b[1m\u001b[37mSeed: \u001b[1m\u001b[31m270 \u001b[1m\u001b[37m- \u001b[1m\u001b[37mInner CV Score: \u001b[1m\u001b[31m0.22507 ± 0.02056 \u001b[1m\u001b[37m- \u001b[1m\u001b[37mOuter CV Score: \u001b[1m\u001b[31m0.20675 ± 0.05793\n",
      "\u001b[1m\u001b[37mSeed: \u001b[1m\u001b[31m106 \u001b[1m\u001b[37m- \u001b[1m\u001b[37mInner CV Score: \u001b[1m\u001b[31m0.22448 ± 0.01053 \u001b[1m\u001b[37m- \u001b[1m\u001b[37mOuter CV Score: \u001b[1m\u001b[31m0.21539 ± 0.06088\n",
      "\u001b[1m\u001b[37mSeed: \u001b[1m\u001b[31m71  \u001b[1m\u001b[37m- \u001b[1m\u001b[37mInner CV Score: \u001b[1m\u001b[31m0.22401 ± 0.02791 \u001b[1m\u001b[37m- \u001b[1m\u001b[37mOuter CV Score: \u001b[1m\u001b[31m0.21013 ± 0.03705\n",
      "\u001b[1m\u001b[37mSeed: \u001b[1m\u001b[31m700 \u001b[1m\u001b[37m- \u001b[1m\u001b[37mInner CV Score: \u001b[1m\u001b[31m0.21993 ± 0.01557 \u001b[1m\u001b[37m- \u001b[1m\u001b[37mOuter CV Score: \u001b[1m\u001b[31m0.21934 ± 0.06333\n",
      "\u001b[1m\u001b[37mSeed: \u001b[1m\u001b[31m20  \u001b[1m\u001b[37m- \u001b[1m\u001b[37mInner CV Score: \u001b[1m\u001b[31m0.23409 ± 0.00945 \u001b[1m\u001b[37m- \u001b[1m\u001b[37mOuter CV Score: \u001b[1m\u001b[31m0.20684 ± 0.03444\n",
      "\u001b[1m\u001b[37mSeed: \u001b[1m\u001b[31m614 \u001b[1m\u001b[37m- \u001b[1m\u001b[37mInner CV Score: \u001b[1m\u001b[31m0.21610 ± 0.01257 \u001b[1m\u001b[37m- \u001b[1m\u001b[37mOuter CV Score: \u001b[1m\u001b[31m0.21970 ± 0.04925\n",
      "\u001b[1m\u001b[37mSeed: \u001b[1m\u001b[31m121 \u001b[1m\u001b[37m- \u001b[1m\u001b[37mInner CV Score: \u001b[1m\u001b[31m0.22386 ± 0.02190 \u001b[1m\u001b[37m- \u001b[1m\u001b[37mOuter CV Score: \u001b[1m\u001b[31m0.23245 ± 0.07758\n",
      "\u001b[1m\u001b[37m\n",
      "Average Inner CV Score: \u001b[1m\u001b[31m0.22419 ± 0.01809 \u001b[1m\u001b[37m- \u001b[1m\u001b[37mAverage Outer CV Score: \u001b[1m\u001b[31m0.21594 ± 0.05395\n",
      "\n",
      "\u001b[1m\u001b[37mHP: \u001b[1m\u001b[31m0.7\n",
      "\n",
      "\u001b[1m\u001b[37mSeed: \u001b[1m\u001b[31m102 \u001b[1m\u001b[37m- \u001b[1m\u001b[37mInner CV Score: \u001b[1m\u001b[31m0.22693 ± 0.02009 \u001b[1m\u001b[37m- \u001b[1m\u001b[37mOuter CV Score: \u001b[1m\u001b[31m0.20574 ± 0.04877\n",
      "\u001b[1m\u001b[37mSeed: \u001b[1m\u001b[31m435 \u001b[1m\u001b[37m- \u001b[1m\u001b[37mInner CV Score: \u001b[1m\u001b[31m0.21482 ± 0.01743 \u001b[1m\u001b[37m- \u001b[1m\u001b[37mOuter CV Score: \u001b[1m\u001b[31m0.23008 ± 0.05834\n",
      "\u001b[1m\u001b[37mSeed: \u001b[1m\u001b[31m860 \u001b[1m\u001b[37m- \u001b[1m\u001b[37mInner CV Score: \u001b[1m\u001b[31m0.23106 ± 0.00642 \u001b[1m\u001b[37m- \u001b[1m\u001b[37mOuter CV Score: \u001b[1m\u001b[31m0.21063 ± 0.03425\n",
      "\u001b[1m\u001b[37mSeed: \u001b[1m\u001b[31m270 \u001b[1m\u001b[37m- \u001b[1m\u001b[37mInner CV Score: \u001b[1m\u001b[31m0.22501 ± 0.02086 \u001b[1m\u001b[37m- \u001b[1m\u001b[37mOuter CV Score: \u001b[1m\u001b[31m0.20639 ± 0.06008\n",
      "\u001b[1m\u001b[37mSeed: \u001b[1m\u001b[31m106 \u001b[1m\u001b[37m- \u001b[1m\u001b[37mInner CV Score: \u001b[1m\u001b[31m0.22374 ± 0.00999 \u001b[1m\u001b[37m- \u001b[1m\u001b[37mOuter CV Score: \u001b[1m\u001b[31m0.21555 ± 0.06458\n",
      "\u001b[1m\u001b[37mSeed: \u001b[1m\u001b[31m71  \u001b[1m\u001b[37m- \u001b[1m\u001b[37mInner CV Score: \u001b[1m\u001b[31m0.22511 ± 0.02781 \u001b[1m\u001b[37m- \u001b[1m\u001b[37mOuter CV Score: \u001b[1m\u001b[31m0.20946 ± 0.03795\n",
      "\u001b[1m\u001b[37mSeed: \u001b[1m\u001b[31m700 \u001b[1m\u001b[37m- \u001b[1m\u001b[37mInner CV Score: \u001b[1m\u001b[31m0.22011 ± 0.01776 \u001b[1m\u001b[37m- \u001b[1m\u001b[37mOuter CV Score: \u001b[1m\u001b[31m0.22136 ± 0.06447\n",
      "\u001b[1m\u001b[37mSeed: \u001b[1m\u001b[31m20  \u001b[1m\u001b[37m- \u001b[1m\u001b[37mInner CV Score: \u001b[1m\u001b[31m0.23538 ± 0.00931 \u001b[1m\u001b[37m- \u001b[1m\u001b[37mOuter CV Score: \u001b[1m\u001b[31m0.20651 ± 0.03638\n",
      "\u001b[1m\u001b[37mSeed: \u001b[1m\u001b[31m614 \u001b[1m\u001b[37m- \u001b[1m\u001b[37mInner CV Score: \u001b[1m\u001b[31m0.21560 ± 0.01351 \u001b[1m\u001b[37m- \u001b[1m\u001b[37mOuter CV Score: \u001b[1m\u001b[31m0.21975 ± 0.05310\n",
      "\u001b[1m\u001b[37mSeed: \u001b[1m\u001b[31m121 \u001b[1m\u001b[37m- \u001b[1m\u001b[37mInner CV Score: \u001b[1m\u001b[31m0.22337 ± 0.02226 \u001b[1m\u001b[37m- \u001b[1m\u001b[37mOuter CV Score: \u001b[1m\u001b[31m0.23319 ± 0.07865\n",
      "\u001b[1m\u001b[37m\n",
      "Average Inner CV Score: \u001b[1m\u001b[31m0.22411 ± 0.01870 \u001b[1m\u001b[37m- \u001b[1m\u001b[37mAverage Outer CV Score: \u001b[1m\u001b[31m0.21587 ± 0.05617\n",
      "\n",
      "\u001b[1m\u001b[37mHP: \u001b[1m\u001b[31m0.7999999999999999\n",
      "\n",
      "\u001b[1m\u001b[37mSeed: \u001b[1m\u001b[31m102 \u001b[1m\u001b[37m- \u001b[1m\u001b[37mInner CV Score: \u001b[1m\u001b[31m0.22607 ± 0.02142 \u001b[1m\u001b[37m- \u001b[1m\u001b[37mOuter CV Score: \u001b[1m\u001b[31m0.20516 ± 0.05205\n",
      "\u001b[1m\u001b[37mSeed: \u001b[1m\u001b[31m435 \u001b[1m\u001b[37m- \u001b[1m\u001b[37mInner CV Score: \u001b[1m\u001b[31m0.21539 ± 0.01933 \u001b[1m\u001b[37m- \u001b[1m\u001b[37mOuter CV Score: \u001b[1m\u001b[31m0.22926 ± 0.05988\n",
      "\u001b[1m\u001b[37mSeed: \u001b[1m\u001b[31m860 \u001b[1m\u001b[37m- \u001b[1m\u001b[37mInner CV Score: \u001b[1m\u001b[31m0.23213 ± 0.00482 \u001b[1m\u001b[37m- \u001b[1m\u001b[37mOuter CV Score: \u001b[1m\u001b[31m0.20945 ± 0.03363\n",
      "\u001b[1m\u001b[37mSeed: \u001b[1m\u001b[31m270 \u001b[1m\u001b[37m- \u001b[1m\u001b[37mInner CV Score: \u001b[1m\u001b[31m0.22397 ± 0.02005 \u001b[1m\u001b[37m- \u001b[1m\u001b[37mOuter CV Score: \u001b[1m\u001b[31m0.20517 ± 0.06139\n",
      "\u001b[1m\u001b[37mSeed: \u001b[1m\u001b[31m106 \u001b[1m\u001b[37m- \u001b[1m\u001b[37mInner CV Score: \u001b[1m\u001b[31m0.22571 ± 0.00994 \u001b[1m\u001b[37m- \u001b[1m\u001b[37mOuter CV Score: \u001b[1m\u001b[31m0.21541 ± 0.06778\n",
      "\u001b[1m\u001b[37mSeed: \u001b[1m\u001b[31m71  \u001b[1m\u001b[37m- \u001b[1m\u001b[37mInner CV Score: \u001b[1m\u001b[31m0.22772 ± 0.03117 \u001b[1m\u001b[37m- \u001b[1m\u001b[37mOuter CV Score: \u001b[1m\u001b[31m0.20973 ± 0.03874\n",
      "\u001b[1m\u001b[37mSeed: \u001b[1m\u001b[31m700 \u001b[1m\u001b[37m- \u001b[1m\u001b[37mInner CV Score: \u001b[1m\u001b[31m0.22137 ± 0.01930 \u001b[1m\u001b[37m- \u001b[1m\u001b[37mOuter CV Score: \u001b[1m\u001b[31m0.21949 ± 0.06666\n",
      "\u001b[1m\u001b[37mSeed: \u001b[1m\u001b[31m20  \u001b[1m\u001b[37m- \u001b[1m\u001b[37mInner CV Score: \u001b[1m\u001b[31m0.23777 ± 0.00839 \u001b[1m\u001b[37m- \u001b[1m\u001b[37mOuter CV Score: \u001b[1m\u001b[31m0.20563 ± 0.03826\n",
      "\u001b[1m\u001b[37mSeed: \u001b[1m\u001b[31m614 \u001b[1m\u001b[37m- \u001b[1m\u001b[37mInner CV Score: \u001b[1m\u001b[31m0.21703 ± 0.01431 \u001b[1m\u001b[37m- \u001b[1m\u001b[37mOuter CV Score: \u001b[1m\u001b[31m0.22096 ± 0.05384\n",
      "\u001b[1m\u001b[37mSeed: \u001b[1m\u001b[31m121 \u001b[1m\u001b[37m- \u001b[1m\u001b[37mInner CV Score: \u001b[1m\u001b[31m0.22456 ± 0.02082 \u001b[1m\u001b[37m- \u001b[1m\u001b[37mOuter CV Score: \u001b[1m\u001b[31m0.23691 ± 0.08195\n",
      "\u001b[1m\u001b[37m\n",
      "Average Inner CV Score: \u001b[1m\u001b[31m0.22517 ± 0.01950 \u001b[1m\u001b[37m- \u001b[1m\u001b[37mAverage Outer CV Score: \u001b[1m\u001b[31m0.21572 ± 0.05821\n",
      "\n",
      "\u001b[1m\u001b[37mHP: \u001b[1m\u001b[31m0.8999999999999999\n",
      "\n",
      "\u001b[1m\u001b[37mSeed: \u001b[1m\u001b[31m102 \u001b[1m\u001b[37m- \u001b[1m\u001b[37mInner CV Score: \u001b[1m\u001b[31m0.22579 ± 0.02160 \u001b[1m\u001b[37m- \u001b[1m\u001b[37mOuter CV Score: \u001b[1m\u001b[31m0.20506 ± 0.05188\n",
      "\u001b[1m\u001b[37mSeed: \u001b[1m\u001b[31m435 \u001b[1m\u001b[37m- \u001b[1m\u001b[37mInner CV Score: \u001b[1m\u001b[31m0.21551 ± 0.01929 \u001b[1m\u001b[37m- \u001b[1m\u001b[37mOuter CV Score: \u001b[1m\u001b[31m0.22919 ± 0.06121\n",
      "\u001b[1m\u001b[37mSeed: \u001b[1m\u001b[31m860 \u001b[1m\u001b[37m- \u001b[1m\u001b[37mInner CV Score: \u001b[1m\u001b[31m0.23148 ± 0.00380 \u001b[1m\u001b[37m- \u001b[1m\u001b[37mOuter CV Score: \u001b[1m\u001b[31m0.20837 ± 0.03495\n",
      "\u001b[1m\u001b[37mSeed: \u001b[1m\u001b[31m270 \u001b[1m\u001b[37m- \u001b[1m\u001b[37mInner CV Score: \u001b[1m\u001b[31m0.22577 ± 0.01894 \u001b[1m\u001b[37m- \u001b[1m\u001b[37mOuter CV Score: \u001b[1m\u001b[31m0.20497 ± 0.06344\n",
      "\u001b[1m\u001b[37mSeed: \u001b[1m\u001b[31m106 \u001b[1m\u001b[37m- \u001b[1m\u001b[37mInner CV Score: \u001b[1m\u001b[31m0.22619 ± 0.00946 \u001b[1m\u001b[37m- \u001b[1m\u001b[37mOuter CV Score: \u001b[1m\u001b[31m0.21702 ± 0.06921\n",
      "\u001b[1m\u001b[37mSeed: \u001b[1m\u001b[31m71  \u001b[1m\u001b[37m- \u001b[1m\u001b[37mInner CV Score: \u001b[1m\u001b[31m0.23018 ± 0.03236 \u001b[1m\u001b[37m- \u001b[1m\u001b[37mOuter CV Score: \u001b[1m\u001b[31m0.20938 ± 0.03981\n",
      "\u001b[1m\u001b[37mSeed: \u001b[1m\u001b[31m700 \u001b[1m\u001b[37m- \u001b[1m\u001b[37mInner CV Score: \u001b[1m\u001b[31m0.22060 ± 0.02115 \u001b[1m\u001b[37m- \u001b[1m\u001b[37mOuter CV Score: \u001b[1m\u001b[31m0.22042 ± 0.06674\n",
      "\u001b[1m\u001b[37mSeed: \u001b[1m\u001b[31m20  \u001b[1m\u001b[37m- \u001b[1m\u001b[37mInner CV Score: \u001b[1m\u001b[31m0.24000 ± 0.00589 \u001b[1m\u001b[37m- \u001b[1m\u001b[37mOuter CV Score: \u001b[1m\u001b[31m0.20458 ± 0.03791\n",
      "\u001b[1m\u001b[37mSeed: \u001b[1m\u001b[31m614 \u001b[1m\u001b[37m- \u001b[1m\u001b[37mInner CV Score: \u001b[1m\u001b[31m0.21711 ± 0.01384 \u001b[1m\u001b[37m- \u001b[1m\u001b[37mOuter CV Score: \u001b[1m\u001b[31m0.22121 ± 0.05602\n",
      "\u001b[1m\u001b[37mSeed: \u001b[1m\u001b[31m121 \u001b[1m\u001b[37m- \u001b[1m\u001b[37mInner CV Score: \u001b[1m\u001b[31m0.22681 ± 0.02112 \u001b[1m\u001b[37m- \u001b[1m\u001b[37mOuter CV Score: \u001b[1m\u001b[31m0.23762 ± 0.08300\n",
      "\u001b[1m\u001b[37m\n",
      "Average Inner CV Score: \u001b[1m\u001b[31m0.22594 ± 0.01983 \u001b[1m\u001b[37m- \u001b[1m\u001b[37mAverage Outer CV Score: \u001b[1m\u001b[31m0.21578 ± 0.05928\n",
      "\n"
     ]
    }
   ],
   "source": [
    "X = train.drop(\"Class\", axis=1)\n",
    "y = train.Class\n",
    "\n",
    "hyperparams = np.arange(0.6, 1.0, 0.1)\n",
    "hp_plot_inn, hp_plot_out = defaultdict(tuple), defaultdict(tuple)\n",
    "\n",
    "for hp in hyperparams:\n",
    "    print(CLR + \"HP:\", RED + f\"{hp}\\n\")\n",
    "    results_inn_over_seeds = np.zeros((n_seeds, n_folds), dtype=np.float64)\n",
    "    results_out_over_seeds = np.zeros((n_seeds, n_folds), dtype=np.float64)\n",
    "\n",
    "    for n_seed, seed in enumerate(seeds):\n",
    "        results_inn = np.empty(n_folds, dtype=np.float64)\n",
    "        results_out = np.empty(n_folds, dtype=np.float64)\n",
    "        skf_out = StratifiedKFold(n_splits=n_folds, shuffle=True, random_state=seed)\n",
    "        model_on_seed = make_pipeline(\n",
    "            preliminary_transform_preprocess,\n",
    "            FunctionTransformer(lambda X: X[relevant_variables]),\n",
    "            # VotingClassifier(\n",
    "            #     [\n",
    "            #         (\"lgbm\", LGBMClassifier(random_state=seed, bagging_seed=seed, **lgbm_params)),\n",
    "            #         (\"xgb\", XGBClassifier(random_state=seed, **xgb_params)),\n",
    "            #     ],\n",
    "            #     voting=\"soft\",\n",
    "            # )\n",
    "            LGBMClassifier(random_state=seed, bagging_seed=seed, **lgbm_params, colsample_bytree=hp),\n",
    "            #XGBClassifier(random_state=seed, **xgb_params),\n",
    "        )\n",
    "\n",
    "        for k_out, (train_ids, valid_ids) in enumerate(skf_out.split(X, y)):\n",
    "            X_train_out, y_train_out = X.iloc[train_ids], y.iloc[train_ids]\n",
    "            X_valid_out, y_valid_out = X.iloc[valid_ids], y.iloc[valid_ids]\n",
    "            skf_inn = StratifiedKFold(n_splits=n_folds, shuffle=True, random_state=seed)\n",
    "            models_inn = np.empty(n_folds, dtype=object)\n",
    "            y_train_out_oof_proba = np.zeros_like(y_train_out, dtype=np.float64)\n",
    "\n",
    "            for k_inn, (train_ids, valid_ids) in enumerate(\n",
    "                skf_inn.split(X_train_out, y_train_out)\n",
    "            ):\n",
    "                X_train_inn, y_train_inn = X_train_out.iloc[train_ids], y_train_out.iloc[train_ids]\n",
    "                X_valid_inn, y_valid_inn = X_train_out.iloc[valid_ids], y_train_out.iloc[valid_ids]\n",
    "\n",
    "                model_inn = clone(model_on_seed).fit(\n",
    "                    X_train_inn,\n",
    "                    y_train_inn,\n",
    "                    lgbmclassifier__sample_weight=get_sample_weights(y_train_inn),\n",
    "                )\n",
    "\n",
    "                y_train_out_oof_proba[valid_ids] = model_inn.predict_proba(X_valid_inn)[:, 1]\n",
    "                models_inn[k_inn] = model_inn\n",
    "\n",
    "            y_valid_out_proba = np.zeros_like(y_valid_out, dtype=np.float64)\n",
    "            for model_inn in models_inn:\n",
    "                y_valid_out_proba += model_inn.predict_proba(X_valid_out)[:, 1]\n",
    "\n",
    "            results_inn[k_out] = balanced_log_loss(y_train_out, y_train_out_oof_proba)\n",
    "            results_out[k_out] = balanced_log_loss(\n",
    "                y_valid_out, y_valid_out_proba / len(models_inn)\n",
    "            )\n",
    "\n",
    "        results_inn_over_seeds[n_seed] = results_inn\n",
    "        results_out_over_seeds[n_seed] = results_out\n",
    "        print_seed_results(seed, results_inn, results_out)\n",
    "\n",
    "    hp_plot_inn[hp] = (results_inn_over_seeds.mean(), results_inn_over_seeds.std())\n",
    "    hp_plot_out[hp] = (results_out_over_seeds.mean(), results_out_over_seeds.std())\n",
    "    print_average_results(results_inn_over_seeds, results_out_over_seeds)\n"
   ]
  },
  {
   "cell_type": "code",
   "execution_count": null,
   "metadata": {},
   "outputs": [],
   "source": [
    "# Ensemble: Average Inner CV Score: 0.22973 ± 0.01682 - Average Outer CV Score: 0.22068 ± 0.04711\n",
    "# LGBM:     Average Inner CV Score: 0.22419 ± 0.01809 - Average Outer CV Score: 0.21594 ± 0.05395\n",
    "# XGB:      Average Inner CV Score: 0.24249 ± 0.02462 - Average Outer CV Score: 0.22299 ± 0.06726\n"
   ]
  },
  {
   "cell_type": "code",
   "execution_count": 150,
   "metadata": {},
   "outputs": [],
   "source": [
    "def get_relevant_variables(X_processed, y, seeds, xgb_params, lgbm_params, threshold=1.0):\n",
    "    X = X_processed.copy()\n",
    "\n",
    "    X[\"RANDOM_1\"] = np.random.normal(size=len(X))\n",
    "    X[\"RANDOM_2\"] = np.random.normal(size=len(X))\n",
    "    X[\"RANDOM_3\"] = np.random.normal(size=len(X))\n",
    "    X[\"RANDOM_4\"] = np.random.normal(size=len(X))\n",
    "    X[\"RANDOM_5\"] = np.random.normal(size=len(X))\n",
    "    X[\"RANDOM_6\"] = np.random.normal(size=len(X))\n",
    "    X[\"RANDOM_7\"] = np.random.normal(size=len(X))\n",
    "\n",
    "    feature_names = X.columns.to_list()\n",
    "    lgbm_results = pd.DataFrame(index=feature_names)\n",
    "    xgb_results = pd.DataFrame(index=feature_names)\n",
    "    # lr_results = pd.DataFrame(index=feature_names)\n",
    "\n",
    "    for seed in seeds:\n",
    "        lgbm = LGBMClassifier(random_state=seed, **lgbm_params).fit(X, y)\n",
    "        xgb = XGBClassifier(random_state=seed, **xgb_params).fit(X, y)\n",
    "        lr = LogisticRegression(\n",
    "            random_state=seed, penalty=\"l1\", solver=\"liblinear\", max_iter=1000\n",
    "        ).fit(X, y)\n",
    "\n",
    "        lgbm_results[seed] = pd.Series(lgbm.feature_importances_, index=feature_names)\n",
    "        xgb_results[seed] = pd.Series(xgb.feature_importances_, index=feature_names)\n",
    "        # lr_results[seed] = pd.Series(np.abs(lr.coef_[0]), index=feature_names)\n",
    "\n",
    "    relevant_variables = []\n",
    "\n",
    "    for df in (lgbm_results, xgb_results):\n",
    "        df[\"SUM\"] = df.sum(axis=1)\n",
    "        df.sort_values(by=\"SUM\", ascending=False, inplace=True)\n",
    "        highest_random_id = df[df.index.str.startswith(\"RANDOM\")].index[0]\n",
    "        value_at = df.loc[highest_random_id, \"SUM\"]  # type: ignore\n",
    "        relevant_vars = df.query(f\"SUM > {value_at * threshold}\").index.to_list()\n",
    "        relevant_variables.append(relevant_vars)\n",
    "\n",
    "    lgbm_vars, xgb_vars = relevant_variables\n",
    "    return list(set(lgbm_vars) & set(xgb_vars))  # & set(lr_vars))\n"
   ]
  },
  {
   "cell_type": "code",
   "execution_count": 147,
   "metadata": {},
   "outputs": [],
   "source": [
    "np.random.seed(23)\n",
    "\n",
    "X = train.drop(\"Class\", axis=1)\n",
    "X_processed = preliminary_transform_preprocess.fit_transform(X)\n",
    "y = train.Class\n",
    "seeds = np.random.randint(0, 12345, size=100)\n",
    "\n",
    "get_relevant_variables(X_processed, y, seeds, xgb_params, lgbm_params)\n"
   ]
  },
  {
   "cell_type": "code",
   "execution_count": 271,
   "metadata": {},
   "outputs": [],
   "source": [
    "n_bags = 10\n",
    "n_folds = 5\n",
    "\n",
    "np.random.seed(123)\n",
    "seeds = np.random.randint(0, 1234, size=n_bags)\n"
   ]
  },
  {
   "cell_type": "code",
   "execution_count": 272,
   "metadata": {},
   "outputs": [
    {
     "name": "stdout",
     "output_type": "stream",
     "text": [
      "Balanced Log Loss: 0.20011\n"
     ]
    }
   ],
   "source": [
    "X = train.drop(\"Class\", axis=1)\n",
    "y = train.Class\n",
    "\n",
    "y_proba = np.zeros_like(y, dtype=np.float64)\n",
    "classifiers = defaultdict(object)\n",
    "\n",
    "for bag, seed in enumerate(seeds):\n",
    "    skfold = StratifiedKFold(n_splits=n_folds, shuffle=True, random_state=seed)\n",
    "\n",
    "    for fold, (train_ids, valid_ids) in enumerate(skfold.split(X, y)):\n",
    "        X_train, y_train = X.iloc[train_ids], y.iloc[train_ids]\n",
    "        X_valid, y_valid = X.iloc[valid_ids], y.iloc[valid_ids]\n",
    "\n",
    "        current_ensemble = make_pipeline(\n",
    "            preliminary_transform_preprocess,\n",
    "            FunctionTransformer(lambda X: X[relevant_variables]),\n",
    "            VotingClassifier(\n",
    "                [\n",
    "                    (\"lgbm\", LGBMClassifier(random_state=seed, **lgbm_params)),\n",
    "                    (\"xgb\", XGBClassifier(random_state=seed, **xgb_params)),\n",
    "                ],\n",
    "                voting=\"soft\",\n",
    "                weights=(0.5, 0.5),\n",
    "            ),\n",
    "        ).fit(\n",
    "            X_train,\n",
    "            y_train,\n",
    "            votingclassifier__sample_weight=get_sample_weights(y_train),\n",
    "        )\n",
    "\n",
    "        y_proba[valid_ids] += current_ensemble.predict_proba(X_valid)[:, 1]\n",
    "        classifiers[f\"Voting Bag: {bag} Fold: {fold}\"] = current_ensemble\n",
    "\n",
    "y_proba_rescaled = y_proba / n_bags\n",
    "print(\"Balanced Log Loss:\", f\"{balanced_log_loss(y, y_proba_rescaled):.5f}\")\n"
   ]
  },
  {
   "cell_type": "code",
   "execution_count": 273,
   "metadata": {},
   "outputs": [
    {
     "data": {
      "application/vnd.plotly.v1+json": {
       "config": {
        "plotlyServerURL": "https://plot.ly"
       },
       "data": [
        {
         "customdata": [
          [
           "007255e47698"
          ],
          [
           "013f2bd269f5"
          ],
          [
           "043ac50845d5"
          ],
          [
           "04517a3c90bd"
          ],
          [
           "049232ca8356"
          ],
          [
           "057287f2da6d"
          ],
          [
           "0594b00fb30a"
          ],
          [
           "05f2bc0155cd"
          ],
          [
           "06554e7b9979"
          ],
          [
           "068a4e4bbbab"
          ],
          [
           "075bd937ab85"
          ],
          [
           "07760b4cf3f8"
          ],
          [
           "094c0bd5ebe6"
          ],
          [
           "0aa059dad7f3"
          ],
          [
           "0b2cc0b0e6c5"
          ],
          [
           "0c3a256bcec7"
          ],
          [
           "0cdf781c81b9"
          ],
          [
           "0ce8b2aeeead"
          ],
          [
           "0cf19653f4c5"
          ],
          [
           "0cf6c827b8bb"
          ],
          [
           "0d1b855c7635"
          ],
          [
           "0d733722754b"
          ],
          [
           "0da59360d722"
          ],
          [
           "0db07bc343e3"
          ],
          [
           "0e17c8abe9b6"
          ],
          [
           "0e1f6a8eebab"
          ],
          [
           "0e705a0eddf6"
          ],
          [
           "0f9257f237b4"
          ],
          [
           "0fa0daef7ac0"
          ],
          [
           "10187958312d"
          ],
          [
           "1073082e7823"
          ],
          [
           "10aaf6adb652"
          ],
          [
           "10b874d01acd"
          ],
          [
           "1106df45b12e"
          ],
          [
           "124cd364aa2e"
          ],
          [
           "124eefa2ae00"
          ],
          [
           "128cc82dc5d6"
          ],
          [
           "12d002d52230"
          ],
          [
           "1319c3883fff"
          ],
          [
           "1337ba12ff02"
          ],
          [
           "135f1d1da85e"
          ],
          [
           "13ac854b5fe7"
          ],
          [
           "13c79963c34c"
          ],
          [
           "13ef6c55286a"
          ],
          [
           "1426f76716de"
          ],
          [
           "14713ec51d95"
          ],
          [
           "14a3f3cc04bd"
          ],
          [
           "152979207440"
          ],
          [
           "1540bbf8825b"
          ],
          [
           "157861ebc981"
          ],
          [
           "1591cd66c34e"
          ],
          [
           "15d85eea0e11"
          ],
          [
           "174ba5dc00b1"
          ],
          [
           "17d49f84524b"
          ],
          [
           "17d9a3a45da4"
          ],
          [
           "1899e6e0d7d9"
          ],
          [
           "18dd7c934463"
          ],
          [
           "1900828cbfc4"
          ],
          [
           "1919e4c3a7cc"
          ],
          [
           "19bf6e929506"
          ],
          [
           "19e4c52ea251"
          ],
          [
           "1a14973e1785"
          ],
          [
           "1a6d2336590f"
          ],
          [
           "1a954a747373"
          ],
          [
           "1a9fecf65695"
          ],
          [
           "1b31df9e8971"
          ],
          [
           "1c004f1d37be"
          ],
          [
           "1c612f931833"
          ],
          [
           "1e3c4189f04b"
          ],
          [
           "1e4b78cada73"
          ],
          [
           "1e5e59a7f331"
          ],
          [
           "1f829da7c6ed"
          ],
          [
           "20731b639de9"
          ],
          [
           "211b95ea8f90"
          ],
          [
           "21b3d18c0340"
          ],
          [
           "21d33a9fee44"
          ],
          [
           "23ab7ab965d5"
          ],
          [
           "2449608e49a9"
          ],
          [
           "2471b27e99fc"
          ],
          [
           "24dfe3da6769"
          ],
          [
           "271737344017"
          ],
          [
           "273efaff6f8a"
          ],
          [
           "27bfa971821f"
          ],
          [
           "284efb30decc"
          ],
          [
           "28ade6fa7bc3"
          ],
          [
           "2901ef1394b9"
          ],
          [
           "298989cc4e92"
          ],
          [
           "29cba3a7b8dc"
          ],
          [
           "2bb2902bd5e1"
          ],
          [
           "2bd50291b64d"
          ],
          [
           "2c495dfbaacf"
          ],
          [
           "2ca6bdf04280"
          ],
          [
           "2d5d2874b058"
          ],
          [
           "2d7ba928287d"
          ],
          [
           "2dc8b3d2980b"
          ],
          [
           "2e03488a03ca"
          ],
          [
           "2e4e80b95e24"
          ],
          [
           "2e637b444de7"
          ],
          [
           "2f020a35ce2b"
          ],
          [
           "2f1e32eac20e"
          ],
          [
           "2fd659800f75"
          ],
          [
           "30202b353d8a"
          ],
          [
           "3026974712cd"
          ],
          [
           "3101fca6b743"
          ],
          [
           "312661adb2ff"
          ],
          [
           "319f7e210021"
          ],
          [
           "321f58c2e5d1"
          ],
          [
           "324d6f4b6b37"
          ],
          [
           "332a3850302f"
          ],
          [
           "333bff494437"
          ],
          [
           "3493c79c8f35"
          ],
          [
           "34dc3190c6fb"
          ],
          [
           "34f10f630b68"
          ],
          [
           "3581cb92b427"
          ],
          [
           "36d298d32eb9"
          ],
          [
           "36f2fbc0a810"
          ],
          [
           "37342e4943f2"
          ],
          [
           "381e08d38c92"
          ],
          [
           "381ff0376cb0"
          ],
          [
           "38325b0c36e5"
          ],
          [
           "3840054e6aa5"
          ],
          [
           "386a027efe36"
          ],
          [
           "38c9a1f2eacf"
          ],
          [
           "3a73fce81608"
          ],
          [
           "3b280978a051"
          ],
          [
           "3b8959ffdfa9"
          ],
          [
           "3bf81aff9bd6"
          ],
          [
           "3c299fce6b56"
          ],
          [
           "3d4109150b32"
          ],
          [
           "3db179cf1a7d"
          ],
          [
           "3e610a5ff8d1"
          ],
          [
           "3eb3be63b62c"
          ],
          [
           "3f004b7190f3"
          ],
          [
           "3f367f9652ff"
          ],
          [
           "3fad66987cf9"
          ],
          [
           "407436e7ec52"
          ],
          [
           "40ffdee110b8"
          ],
          [
           "41475fa34ab3"
          ],
          [
           "41698cf1a1bd"
          ],
          [
           "41e9e3cec765"
          ],
          [
           "431c73b16f33"
          ],
          [
           "43365f867d38"
          ],
          [
           "434b3925094e"
          ],
          [
           "4376800c31fd"
          ],
          [
           "43eab2b837d1"
          ],
          [
           "4401d2485580"
          ],
          [
           "44c7768642a7"
          ],
          [
           "44e759955f6e"
          ],
          [
           "4537a9a3ecde"
          ],
          [
           "4572189340c4"
          ],
          [
           "457d8d386eb2"
          ],
          [
           "459c432b15ae"
          ],
          [
           "4652c8c5705c"
          ],
          [
           "4671650635ab"
          ],
          [
           "46a2c24d2624"
          ],
          [
           "46b876fc8933"
          ],
          [
           "470d18ff7777"
          ],
          [
           "47d8bacb43bb"
          ],
          [
           "48485c8c1ef7"
          ],
          [
           "48c64ab517c9"
          ],
          [
           "48f422645d0e"
          ],
          [
           "49e14acf8ffb"
          ],
          [
           "4a3d7459976a"
          ],
          [
           "4bc8f3ea493a"
          ],
          [
           "4c92a971cf91"
          ],
          [
           "4d4e63393080"
          ],
          [
           "4d54e3a957e6"
          ],
          [
           "4e6477903aa3"
          ],
          [
           "4e9059199e3d"
          ],
          [
           "4ec197e84caf"
          ],
          [
           "4f17ecd66363"
          ],
          [
           "4feabef01f7a"
          ],
          [
           "4fef9a973791"
          ],
          [
           "4ff6c37484ee"
          ],
          [
           "50183292c0e7"
          ],
          [
           "508bb5c5cf00"
          ],
          [
           "51111505c6f2"
          ],
          [
           "514d2ac4fdb5"
          ],
          [
           "51a5b926ab4d"
          ],
          [
           "528dd2afeb79"
          ],
          [
           "52acfa7cc2fc"
          ],
          [
           "53468141b7c9"
          ],
          [
           "535a9e672d18"
          ],
          [
           "55122c3c02a0"
          ],
          [
           "571a56646e47"
          ],
          [
           "58843604dcb5"
          ],
          [
           "58dcdd9d6e89"
          ],
          [
           "58e74efe7aa5"
          ],
          [
           "59bf633c1018"
          ],
          [
           "59bf79fac3fa"
          ],
          [
           "59bfbb4ad480"
          ],
          [
           "59eb23495fa7"
          ],
          [
           "5a87a6061488"
          ],
          [
           "5c03d177da66"
          ],
          [
           "5c522f58308c"
          ],
          [
           "5ce5f23fff0d"
          ],
          [
           "5d547eb551a9"
          ],
          [
           "5d8a1a0fb062"
          ],
          [
           "5dc5360a3fc8"
          ],
          [
           "5e27b0147126"
          ],
          [
           "5ee622a3e3be"
          ],
          [
           "5f20ad0ec630"
          ],
          [
           "60013ee40a0a"
          ],
          [
           "6002d5f39711"
          ],
          [
           "600c445d3351"
          ],
          [
           "60474d8ff770"
          ],
          [
           "6192b3e210ae"
          ],
          [
           "619aac34f423"
          ],
          [
           "61af8fde49eb"
          ],
          [
           "61e882a215f4"
          ],
          [
           "6204fd873dcd"
          ],
          [
           "62176aa5de57"
          ],
          [
           "6487b5140ab2"
          ],
          [
           "657d27cacf2b"
          ],
          [
           "658e0b2992bb"
          ],
          [
           "65c5772a4afa"
          ],
          [
           "65de682cc48c"
          ],
          [
           "661b3a326a9d"
          ],
          [
           "670b295eaa0f"
          ],
          [
           "67ba3c5d8baf"
          ],
          [
           "684d62aeae9e"
          ],
          [
           "6850ef5b0092"
          ],
          [
           "6860e7cbccad"
          ],
          [
           "68918798c769"
          ],
          [
           "68c35486588c"
          ],
          [
           "6955c8adcd36"
          ],
          [
           "69de76778344"
          ],
          [
           "69e627ec5d3e"
          ],
          [
           "6bf666677588"
          ],
          [
           "6c231f862f11"
          ],
          [
           "6c679dc63744"
          ],
          [
           "6c6db7987cd5"
          ],
          [
           "6ed97ed5defe"
          ],
          [
           "6ef1fe86ad00"
          ],
          [
           "7017fab77607"
          ],
          [
           "703c183d0c6c"
          ],
          [
           "70926a82d4e1"
          ],
          [
           "7180e4b7d21a"
          ],
          [
           "71f07ea5a770"
          ],
          [
           "73468ffe1cb5"
          ],
          [
           "7392d21fc103"
          ],
          [
           "7416fea10b6b"
          ],
          [
           "7429ed35535c"
          ],
          [
           "7530ec447c5d"
          ],
          [
           "778e1213d462"
          ],
          [
           "77ccceb44f4e"
          ],
          [
           "7800130b9140"
          ],
          [
           "7804b14ee22b"
          ],
          [
           "78f3ccd568c6"
          ],
          [
           "793d5c26bd0e"
          ],
          [
           "7a5c4b008308"
          ],
          [
           "7a705feced42"
          ],
          [
           "7b8cda4bc33e"
          ],
          [
           "7bcb9a31014b"
          ],
          [
           "7c02caf1b94f"
          ],
          [
           "7c21c57859d6"
          ],
          [
           "7c2df9f2fbe2"
          ],
          [
           "7cc870296984"
          ],
          [
           "7dd96a41647c"
          ],
          [
           "7e4d70590a71"
          ],
          [
           "7eb06d1c9234"
          ],
          [
           "7feabcc65b6b"
          ],
          [
           "800440b155b1"
          ],
          [
           "8006877fc82a"
          ],
          [
           "800c6b3239c6"
          ],
          [
           "80348b62c82e"
          ],
          [
           "80841417ca53"
          ],
          [
           "809087be105e"
          ],
          [
           "8093b3b92b28"
          ],
          [
           "80c47659c7c6"
          ],
          [
           "80ee5615ebdf"
          ],
          [
           "810ff5afd0e2"
          ],
          [
           "815cc64eb1cc"
          ],
          [
           "8266debd5234"
          ],
          [
           "8296caddae14"
          ],
          [
           "82c5014b0d57"
          ],
          [
           "8353e4690948"
          ],
          [
           "8408bf4d3d2f"
          ],
          [
           "8457871d9624"
          ],
          [
           "84c5b2d3eace"
          ],
          [
           "84efa38972ba"
          ],
          [
           "860833bfe713"
          ],
          [
           "8767b93c7948"
          ],
          [
           "87f6d81bb2f7"
          ],
          [
           "8856a9d8e2b4"
          ],
          [
           "88ceb24fa799"
          ],
          [
           "894a982c52c1"
          ],
          [
           "8a3cb69b2242"
          ],
          [
           "8a3e1acd2ff2"
          ],
          [
           "8ae3966cdb92"
          ],
          [
           "8b4dfe76ff44"
          ],
          [
           "8b7131974251"
          ],
          [
           "8b77f91fde3e"
          ],
          [
           "8b866016ac44"
          ],
          [
           "8b9d72eec14e"
          ],
          [
           "8ba2487388f2"
          ],
          [
           "8bb44f5c60a4"
          ],
          [
           "8c58bec30f78"
          ],
          [
           "8d0d4a6510bf"
          ],
          [
           "8d505de1fa59"
          ],
          [
           "8d7e1ef24fb8"
          ],
          [
           "8d7f231c9cb7"
          ],
          [
           "8e22648bf996"
          ],
          [
           "8e35c5943760"
          ],
          [
           "8e5a0d625d98"
          ],
          [
           "8eefb589a7aa"
          ],
          [
           "8f411ab61450"
          ],
          [
           "9025eee0ab7d"
          ],
          [
           "905a7dbaaf9a"
          ],
          [
           "91004fe0a0fd"
          ],
          [
           "91275f6ae0a2"
          ],
          [
           "913a3374da32"
          ],
          [
           "913b30965ae1"
          ],
          [
           "92b3778f624f"
          ],
          [
           "93205d43a401"
          ],
          [
           "948043d08210"
          ],
          [
           "948b3f28db47"
          ],
          [
           "948e868ba395"
          ],
          [
           "94f28a9c879b"
          ],
          [
           "968491b9238f"
          ],
          [
           "96ee4e851fbd"
          ],
          [
           "9708ba6b2fa2"
          ],
          [
           "975235e7d941"
          ],
          [
           "97b6c7088bc6"
          ],
          [
           "98944bb311a4"
          ],
          [
           "991587f97e45"
          ],
          [
           "9949a1749e2c"
          ],
          [
           "9a3ec17a57a0"
          ],
          [
           "9b25a5047a23"
          ],
          [
           "9b6aeb66b22a"
          ],
          [
           "9b9e6e21b830"
          ],
          [
           "9ba8bfa26e8a"
          ],
          [
           "9c0f8307a7ec"
          ],
          [
           "9c43f9559e4c"
          ],
          [
           "9c8d738c0272"
          ],
          [
           "9ce745fc98c4"
          ],
          [
           "9d19cb5327b5"
          ],
          [
           "9e725e00b348"
          ],
          [
           "9ee887ad93d5"
          ],
          [
           "9f10f72ca154"
          ],
          [
           "a02d41dc2cc4"
          ],
          [
           "a0693256491d"
          ],
          [
           "a20c68851e9b"
          ],
          [
           "a3493d6aca6e"
          ],
          [
           "a46b439e1eac"
          ],
          [
           "a4f476550c49"
          ],
          [
           "a5faa9a52bcb"
          ],
          [
           "a633a258eeed"
          ],
          [
           "a7b1c7b83f53"
          ],
          [
           "a904c19b5e22"
          ],
          [
           "aa54a308dbb4"
          ],
          [
           "aa6c6160804f"
          ],
          [
           "aa8185fbee33"
          ],
          [
           "aac8bafe74ef"
          ],
          [
           "ab39fd701211"
          ],
          [
           "ab4bc55cb79e"
          ],
          [
           "ac2074c4eeb5"
          ],
          [
           "acd97f3380e4"
          ],
          [
           "ad9a26b80957"
          ],
          [
           "adb67a0dd661"
          ],
          [
           "add78517b003"
          ],
          [
           "aee064d35f72"
          ],
          [
           "af0802c15f01"
          ],
          [
           "af1a304f3c89"
          ],
          [
           "af2c482fb8d7"
          ],
          [
           "afad421356e3"
          ],
          [
           "b002a6adb6be"
          ],
          [
           "b06b043e7abe"
          ],
          [
           "b1056bf99b86"
          ],
          [
           "b1080294e1f2"
          ],
          [
           "b10bae274dfc"
          ],
          [
           "b10f6f101138"
          ],
          [
           "b1143beb212d"
          ],
          [
           "b1195f8f1afa"
          ],
          [
           "b22ebf6851bb"
          ],
          [
           "b231b1b0962c"
          ],
          [
           "b2aec42acb00"
          ],
          [
           "b2b3ec04caf6"
          ],
          [
           "b301f38c110c"
          ],
          [
           "b358f0fdb95b"
          ],
          [
           "b3807c5f43e8"
          ],
          [
           "b4d611fab6c5"
          ],
          [
           "b5b51b3db693"
          ],
          [
           "b6efe1e60280"
          ],
          [
           "b74762c1d521"
          ],
          [
           "b85846bebd78"
          ],
          [
           "b874e25c20aa"
          ],
          [
           "b90c555e8c3c"
          ],
          [
           "b9e388b48268"
          ],
          [
           "ba0c42e12f1f"
          ],
          [
           "bbbb36522060"
          ],
          [
           "bbc27c1326a5"
          ],
          [
           "bcc36efe8096"
          ],
          [
           "bdd7b0f36488"
          ],
          [
           "be0d0e810303"
          ],
          [
           "bf12446bf394"
          ],
          [
           "bfcbf52e5449"
          ],
          [
           "c1ffde2da7d9"
          ],
          [
           "c214d487e2db"
          ],
          [
           "c25704512231"
          ],
          [
           "c38cbd7f61dd"
          ],
          [
           "c49cbf1cac11"
          ],
          [
           "c556791ceee9"
          ],
          [
           "c5e5456ccaa2"
          ],
          [
           "c5f4346394b9"
          ],
          [
           "c60e0e7b6ca1"
          ],
          [
           "c6c3a77ec885"
          ],
          [
           "c82e5a429e5b"
          ],
          [
           "c86be787cb28"
          ],
          [
           "c8a5264f7458"
          ],
          [
           "c90977976ffe"
          ],
          [
           "c9e8391da0ea"
          ],
          [
           "ca3ae6c8dede"
          ],
          [
           "ca4b0957e0c8"
          ],
          [
           "caff00fb82e2"
          ],
          [
           "cc42ed28ac3f"
          ],
          [
           "cc9f47d89979"
          ],
          [
           "ccd8b4b583df"
          ],
          [
           "cd5d5458c163"
          ],
          [
           "ce42176962b9"
          ],
          [
           "cf81f032b88e"
          ],
          [
           "d00b37ba63e7"
          ],
          [
           "d02c11462079"
          ],
          [
           "d061b54c6650"
          ],
          [
           "d0b72acaecdd"
          ],
          [
           "d10976c44b2b"
          ],
          [
           "d1f14dbe348c"
          ],
          [
           "d1fa22631c9c"
          ],
          [
           "d2910aee04cd"
          ],
          [
           "d2960230a353"
          ],
          [
           "d2dd462f90b5"
          ],
          [
           "d32f445d4d75"
          ],
          [
           "d35148a64ca9"
          ],
          [
           "d3d8c9d232f1"
          ],
          [
           "d42783629bbc"
          ],
          [
           "d44d3320d240"
          ],
          [
           "d5463b93905d"
          ],
          [
           "d7353855bf36"
          ],
          [
           "d75aafac1e86"
          ],
          [
           "d7dbf59b37f9"
          ],
          [
           "d7f01114e6db"
          ],
          [
           "d9d5fdfa030c"
          ],
          [
           "da68b4918818"
          ],
          [
           "da6c7e4e124d"
          ],
          [
           "dbf5f8b82b43"
          ],
          [
           "dc9b175cbf1e"
          ],
          [
           "dd3515028d71"
          ],
          [
           "dd65e067165c"
          ],
          [
           "dd8bcfab8df9"
          ],
          [
           "df956c379776"
          ],
          [
           "e00086407736"
          ],
          [
           "e0bf5a4a77d2"
          ],
          [
           "e0f325c4df28"
          ],
          [
           "e15ae7d5194f"
          ],
          [
           "e18129dade8f"
          ],
          [
           "e235af39779b"
          ],
          [
           "e2ef2a51ed65"
          ],
          [
           "e42344ea440c"
          ],
          [
           "e4ba2e28e184"
          ],
          [
           "e6aa6fa49abd"
          ],
          [
           "e70889ea6013"
          ],
          [
           "e70b5934b571"
          ],
          [
           "e7bedc8fb9a5"
          ],
          [
           "e8c119eb3e16"
          ],
          [
           "e8dde9331551"
          ],
          [
           "e9417cc82b93"
          ],
          [
           "e999bb1c01d7"
          ],
          [
           "e9c343dc7736"
          ],
          [
           "e9d084428900"
          ],
          [
           "ea50b3c5bd63"
          ],
          [
           "eada36b0bf31"
          ],
          [
           "eb9c2a590373"
          ],
          [
           "ecf1ac3d6dfc"
          ],
          [
           "ed4a24c7ec54"
          ],
          [
           "ee48d4f9dc81"
          ],
          [
           "efcba7fac353"
          ],
          [
           "f003d68995be"
          ],
          [
           "f03b541de10c"
          ],
          [
           "f0d7d98bfe21"
          ],
          [
           "f12d8570682a"
          ],
          [
           "f13b1485ba1f"
          ],
          [
           "f1a68746ca6e"
          ],
          [
           "f206becd4ffd"
          ],
          [
           "f3eb9ac222f9"
          ],
          [
           "f3f2071d2453"
          ],
          [
           "f404680da866"
          ],
          [
           "f44978084805"
          ],
          [
           "f46e39a96ee9"
          ],
          [
           "f56e7620836e"
          ],
          [
           "f62ef7cc0a22"
          ],
          [
           "f71ef203fae7"
          ],
          [
           "f7a862a414de"
          ],
          [
           "f82b07dfd7fb"
          ],
          [
           "f8eb43047d69"
          ],
          [
           "f944d35cb6c4"
          ],
          [
           "f955c0ed8895"
          ],
          [
           "f96e7ca4a16c"
          ],
          [
           "f9a7ea889307"
          ],
          [
           "fb27f6e58eaa"
          ],
          [
           "fb7584f887fd"
          ],
          [
           "fb786fb02a65"
          ],
          [
           "fbc241daef00"
          ],
          [
           "fbd12c4ae88b"
          ],
          [
           "fd1dd68d51b4"
          ],
          [
           "fd3dafe738fd"
          ],
          [
           "fd895603f071"
          ],
          [
           "fd8ef6377f76"
          ],
          [
           "fe1942975e40"
          ],
          [
           "ffcca4ded3bb"
          ]
         ],
         "hovertemplate": "Class=0<br>Positive Class Probability=%{x}<br>Sample Integer Index=%{y}<br>Id=%{customdata[0]}<extra></extra>",
         "legendgroup": "0",
         "marker": {
          "color": "#010D36",
          "opacity": 0.6,
          "size": 6,
          "symbol": "diamond"
         },
         "mode": "markers",
         "name": "0",
         "orientation": "v",
         "showlegend": true,
         "type": "scatter",
         "x": [
          0.008250692877694645,
          0.09060452549882984,
          0.5888921189042843,
          0.0018522364880342063,
          0.0060314662704987225,
          0.026433820140065782,
          0.010200204029053635,
          0.012203820716123016,
          0.010398966682980057,
          0.026202651724109238,
          0.1574843591878998,
          0.17769405652024592,
          0.01255499173798888,
          0.05504212677235395,
          0.07157473102460984,
          0.006057938800258383,
          0.18819710472245973,
          0.0766839711243817,
          0.02175100560384393,
          0.03326481981172212,
          0.10802764623758976,
          0.028930520536134548,
          0.6900271504982469,
          0.0003669084047811144,
          0.012416136290683924,
          0.013280224716976648,
          0.08049951575114295,
          0.0023715152608774362,
          0.045691250551400886,
          0.0007930298540605712,
          0.0005375339714493335,
          0.0020472749901360356,
          0.01744368705717059,
          0.005941427946585588,
          0.005693758277911386,
          0.03352660580691829,
          0.008984053627246876,
          0.3107937449360056,
          0.011064850689366081,
          0.002088324339552359,
          0.26888317354452596,
          0.0028927664187751935,
          0.09322587519089662,
          0.5252542924637231,
          0.012331764720827197,
          0.009811982894364888,
          0.6342671978735347,
          0.14376417081437662,
          0.002328105826135753,
          0.018738257360404752,
          0.00800482791994814,
          0.003171536213881253,
          0.08729459947260096,
          0.031283548463728425,
          0.016539864108250684,
          0.04055880584864949,
          0.0212162466860018,
          0.06896346279429375,
          0.3704360281175049,
          0.01143545920706896,
          0.005925855778598846,
          0.015349541345163347,
          0.30049647237868055,
          0.445115182149475,
          0.27171389975416355,
          0.00044626994666466653,
          0.014419467215930858,
          0.3033976244673677,
          0.06826093704252015,
          0.008927104852541903,
          0.002135048329003815,
          0.012915226037381872,
          0.0005752089749651359,
          0.002139429378130377,
          0.007677253686580429,
          0.03296135176496113,
          0.0016563381738573437,
          0.000956634151653225,
          0.03563595031795579,
          0.010006271804619351,
          0.14177094484666647,
          0.009245039626173523,
          0.010052741863077466,
          0.006525611217196839,
          0.1281945661977846,
          0.9763403538641707,
          0.008371890828718904,
          0.04229600826475648,
          0.006340716330047819,
          0.0026111299892712676,
          0.019341065270971302,
          0.057388814275433894,
          0.017694047010230793,
          0.05420857393129337,
          0.0189072363294022,
          0.0015063739151528963,
          0.0012733415055785607,
          0.1076850447958918,
          0.128687091224869,
          0.007604574675834945,
          0.012558214501922354,
          0.07273842736951078,
          0.2735091901925593,
          0.004304412142354655,
          0.6718854086051578,
          0.07702769966225194,
          0.09931157772134194,
          0.009323073647587589,
          0.05286001488594529,
          0.004691901522231954,
          0.16212820148765572,
          0.19423031114093983,
          0.0009402196131436128,
          0.04339738726806185,
          0.01829960996502193,
          0.06374549696560868,
          0.5403994293216786,
          0.011599917456293981,
          0.00588303482222758,
          0.011194813493562323,
          0.022233104167962703,
          0.07242952123415634,
          0.0007436894100646917,
          0.007279743507226023,
          0.019791563578688675,
          0.04348189980733909,
          0.009696476739881646,
          0.004301716451120941,
          0.18439062681349408,
          0.0018537457557079022,
          0.12131432972722578,
          0.0006701165878880069,
          0.37734228300171857,
          0.10625975339547142,
          0.023865883312909404,
          0.016076851251933442,
          0.004263167163931109,
          0.05013719179943479,
          0.7302604772547243,
          0.049406841715226545,
          0.0024157117638850135,
          0.6675308661535999,
          0.06218063646639418,
          0.0017497892295921338,
          0.02771600492916535,
          0.05009628191602601,
          0.00036599565236314173,
          0.005793656190145973,
          0.028466478795916888,
          0.027162993725664865,
          0.030882401516820555,
          0.0062619902214336165,
          0.00042739321233098616,
          0.8058942863372633,
          0.01930315154824577,
          0.10793819037173569,
          0.002073898933250257,
          0.0012960801037457243,
          0.7121223737651118,
          0.26810588319149653,
          0.0009868918993252021,
          0.4643933642788201,
          0.7699837560539514,
          0.3638991234832523,
          0.0971411042559622,
          0.00039990652127861175,
          0.17318245184232728,
          0.01758077395704121,
          0.02149864670447119,
          0.21239878907906187,
          0.3717202619168779,
          0.053133851902508945,
          0.0009114463277306577,
          0.11994407429131042,
          0.018530966117580157,
          0.004332483273818068,
          0.018662271033524795,
          0.0012169511738041264,
          0.1512185430973143,
          0.0030512528967758237,
          0.03504973878895684,
          0.003261310942328622,
          0.010482567736130977,
          0.08978722512619228,
          0.75612895482427,
          0.006591276000032285,
          0.5448245520096983,
          0.03211685968042783,
          0.003957329903642466,
          0.00044526264204683636,
          0.010396176182320752,
          0.022499835492672576,
          0.23726459552496149,
          0.027184780631085776,
          0.0071001446626971195,
          0.0718574736016282,
          0.982643212628143,
          0.09585886699240316,
          0.007426622313509937,
          0.028835569591747594,
          0.023845826855728086,
          0.001650293181399198,
          0.004908005101005625,
          0.03277537816666683,
          0.004333388556430604,
          0.6352564975503767,
          0.013087096483108882,
          0.3639721154439776,
          0.007789806590357201,
          0.021498806308523126,
          0.0047691287794839055,
          0.08724354742742549,
          0.0024693599524468596,
          0.018111674411725325,
          0.0026394731499204136,
          0.008168517956339275,
          0.003829498989841644,
          0.004593077747877221,
          0.030289243850504854,
          0.008468190724315743,
          0.0684785157499005,
          0.09872975788663126,
          0.07914321719568365,
          0.0004670995375848269,
          0.0010242934000411887,
          0.0010100681168285735,
          0.024936415248893944,
          0.19262277013463355,
          0.2976555997802009,
          0.1809019841157476,
          0.013494400268418466,
          0.028108779718049336,
          0.16757210811364007,
          0.03635236894235828,
          0.00792117323676809,
          0.28092903215485393,
          0.013131245588842924,
          0.09822172188266606,
          0.38804986089674237,
          0.052676085040646456,
          0.0008765319861771146,
          0.9646646249758206,
          0.0004827985194803073,
          0.36305195795200745,
          0.011181336198894103,
          0.028867123300537846,
          0.025008529259171124,
          0.14128212606823132,
          0.013431647710797726,
          0.01878868089567683,
          0.068255777163064,
          0.003848044772149297,
          0.1950127073596269,
          0.016844730081762144,
          0.010353910020330398,
          0.0009118365641139841,
          0.0002155990936668902,
          0.252496323702804,
          0.3087358792149727,
          0.10327142258410142,
          0.015127405763663785,
          0.008113321166498624,
          0.018135564939809973,
          0.024712061025209786,
          0.27491403135949544,
          0.3073145566766923,
          0.8562207462215655,
          0.034499937490725836,
          0.02565329421158711,
          0.00046077264013913953,
          0.013528963315586517,
          0.22720939604371831,
          0.004763144146906035,
          0.006179810992225547,
          0.3746839977126381,
          0.011948212316316415,
          0.0690843027752453,
          0.8059335831159913,
          0.08072338082166094,
          0.006803913820090145,
          0.4162440877091648,
          0.011020282852331014,
          0.011860323176774974,
          0.005965572253486192,
          0.010987945644391279,
          0.0520774671867041,
          0.002243965703983522,
          0.003197861955108368,
          0.025517488602174558,
          0.014321621925564968,
          0.0976828561783413,
          0.013795928973140928,
          0.24578454142739078,
          0.008314021076416222,
          0.6785922883217157,
          0.01693741813167104,
          0.011275519961234524,
          0.2995084296893819,
          0.0359021402734222,
          0.09273071224285845,
          0.10523066053328789,
          0.0078006966164518975,
          0.013376183179784545,
          0.07889349226239414,
          0.9171417938976457,
          0.025888899757053073,
          0.10374807916464082,
          0.6684720308404655,
          0.007959944596016733,
          0.014572088789748305,
          0.05810812899131705,
          0.019099586507034007,
          0.020458156016748393,
          0.021355763394123393,
          0.7542566919346694,
          0.007116187002549507,
          0.023473706192100475,
          0.01006408491135588,
          0.0013871002324637974,
          0.20266538466947698,
          0.5012042479348441,
          0.39689503205979654,
          0.02506434302600637,
          0.19181539484834945,
          0.03849361142764836,
          0.004572604172025828,
          0.0197134697959139,
          0.08493476636996837,
          0.02595863627627249,
          0.003514006544985107,
          0.026353977768798005,
          0.07164123491848111,
          0.11664610209203852,
          0.03697809235583989,
          0.023971005755105457,
          0.046990512988677804,
          0.014065073003397485,
          0.019779977541684007,
          0.10258242181181135,
          0.34555263569774647,
          0.08671707780349154,
          0.0003899805303321201,
          0.03379725412180508,
          0.00383799992010765,
          0.17275018563357963,
          0.28677724291434503,
          0.00757914368960569,
          0.0013771321338397198,
          0.03673867038972241,
          0.007202538515985431,
          0.27102778875798317,
          0.30572411882584494,
          0.007127217828681887,
          0.005205888486911251,
          0.003187747852568955,
          0.03806393818559215,
          0.008904185071701652,
          0.011921734403129939,
          0.006191933613839881,
          0.00294674264029779,
          0.015258108246086272,
          0.0035251393346828162,
          0.14486387753405836,
          0.007460398483046897,
          0.004849790818921925,
          0.0021192713522899588,
          0.32676254225222856,
          0.29431964848215764,
          0.02791329575549969,
          0.0030984758028775577,
          0.018283444775724543,
          0.02188441126829916,
          0.045652814430282546,
          0.07403712607727451,
          0.001109912055982513,
          0.0004445840442451965,
          0.2024498035749101,
          0.0074465320600248545,
          0.6230737497829127,
          0.6968468321802813,
          0.011347243106310351,
          0.0005662195391478188,
          0.0075204478410300325,
          0.944342416950372,
          0.0017938621103370483,
          0.005223568784720862,
          0.00038048836475772,
          0.28220641380354905,
          0.897060018850833,
          0.18840085699454098,
          0.015815865511459422,
          0.04716668300861386,
          0.037857543672101666,
          0.0018849001646265907,
          0.06659185577201869,
          0.008522731525334695,
          0.0002606487412436182,
          0.037865868390723464,
          0.010384263354832553,
          0.1636923877325652,
          0.013383233412202425,
          0.09908176001803297,
          0.007133716069067431,
          0.0005757349592599005,
          0.33223472315157593,
          0.009351954102262434,
          0.4436781560426685,
          0.0008186405465152704,
          0.03135522101508069,
          0.054317206096862566,
          0.9228524178710847,
          0.004846425822779714,
          0.02168039595457119,
          0.0023729632365109264,
          0.3053011501400697,
          0.012144204790190741,
          0.007876515459814413,
          0.07455434803794114,
          0.0031494913007495393,
          0.0031261988294815266,
          0.037727161940581774,
          0.002204814046163939,
          0.12655674601449293,
          0.6187755214216049,
          0.015831166254655703,
          0.030016246529205683,
          0.001949178092175327,
          0.014451839251897153,
          0.344067670808902,
          0.020708239010603154,
          0.4427004829143951,
          0.00476356559168231,
          0.04863932952560727,
          0.6795048155412438,
          0.0023750891205689038,
          0.04560510639496465,
          0.06638384037664329,
          0.02109207612720862,
          0.12310539711682475,
          0.0023434218432632284,
          0.01433661839267388,
          0.036676284428211636,
          0.008464622402621162,
          0.004621615411867953,
          0.04691945772599328,
          0.010680785409342789,
          0.022859390330564795,
          0.01486848344775366,
          0.17589140546665094,
          0.07074078970660828,
          0.07750293750879557,
          0.0029795064666816628,
          0.0005499364460226781,
          0.002823543613810486,
          0.7058346106333655,
          0.007322486157120714,
          0.8855298967736742,
          0.0009539783199665277,
          0.01604510541363736,
          0.0039053764599701938,
          0.0015016486785649368,
          0.04505470385709867,
          0.018262244135568727,
          0.0014961513048771038,
          0.058594814134315346,
          0.06560427130350262,
          0.023419619619927494,
          0.08262109146477561,
          0.07243134566170849,
          0.0018659824738628446,
          0.03539543490960413,
          0.19018894219998214,
          0.16280076463297247,
          0.04988734511840242,
          0.00699671159413173,
          0.06719229069497391,
          0.13027504035580648,
          0.7522458865373779,
          0.03466565679497651,
          0.06822055561192841,
          0.001092734754818972,
          0.5827705970412355,
          0.08455389376847158,
          0.005123806953752093,
          0.033264836640162734,
          0.003514014522258421,
          0.014239338178463252,
          0.010329246674652673,
          0.017577185417154632,
          0.003288618677176166,
          0.01913954054618061,
          0.24181424380099173,
          0.011991429581123675,
          0.054534474486392134,
          0.002866414983983174,
          0.2806921531251155,
          0.13469416976132026,
          0.023507594484082732,
          0.02871069241746057,
          0.003964755707687341,
          0.006128432389808662,
          0.04378659456623788,
          0.2112042533905658,
          0.0021672742361958015,
          0.006640433406903588,
          0.09932694839791419,
          0.020498073351092747,
          0.15095885581684737,
          0.018241349784019006
         ],
         "xaxis": "x",
         "y": [
          1,
          2,
          3,
          5,
          6,
          7,
          8,
          9,
          11,
          12,
          14,
          15,
          16,
          17,
          18,
          19,
          20,
          21,
          22,
          23,
          24,
          25,
          26,
          27,
          28,
          29,
          30,
          33,
          34,
          35,
          37,
          38,
          39,
          40,
          42,
          43,
          44,
          45,
          46,
          47,
          48,
          50,
          51,
          52,
          53,
          54,
          55,
          56,
          57,
          58,
          59,
          60,
          61,
          62,
          63,
          64,
          65,
          66,
          67,
          68,
          69,
          70,
          71,
          72,
          73,
          74,
          77,
          78,
          80,
          81,
          82,
          83,
          84,
          85,
          86,
          87,
          89,
          90,
          92,
          94,
          97,
          98,
          99,
          100,
          101,
          102,
          103,
          104,
          105,
          106,
          107,
          108,
          110,
          111,
          112,
          113,
          114,
          115,
          116,
          117,
          119,
          120,
          121,
          122,
          123,
          124,
          125,
          126,
          128,
          129,
          130,
          132,
          133,
          135,
          136,
          137,
          138,
          139,
          140,
          141,
          142,
          143,
          144,
          147,
          148,
          149,
          151,
          152,
          153,
          154,
          156,
          157,
          158,
          159,
          161,
          163,
          164,
          166,
          167,
          168,
          169,
          170,
          171,
          172,
          173,
          174,
          175,
          176,
          177,
          178,
          179,
          180,
          182,
          183,
          184,
          185,
          187,
          188,
          190,
          191,
          192,
          194,
          195,
          196,
          197,
          198,
          199,
          200,
          201,
          202,
          203,
          204,
          205,
          206,
          207,
          208,
          209,
          210,
          211,
          212,
          213,
          214,
          215,
          216,
          217,
          219,
          220,
          221,
          222,
          223,
          224,
          225,
          226,
          227,
          228,
          230,
          231,
          233,
          234,
          235,
          236,
          237,
          239,
          240,
          241,
          242,
          243,
          244,
          245,
          246,
          247,
          248,
          250,
          251,
          252,
          253,
          254,
          255,
          257,
          260,
          263,
          264,
          266,
          269,
          270,
          271,
          272,
          273,
          276,
          277,
          278,
          279,
          280,
          281,
          283,
          284,
          285,
          286,
          287,
          289,
          291,
          292,
          293,
          295,
          296,
          297,
          298,
          299,
          302,
          303,
          305,
          306,
          308,
          309,
          310,
          311,
          312,
          314,
          315,
          316,
          317,
          319,
          320,
          321,
          322,
          323,
          325,
          326,
          327,
          328,
          329,
          331,
          332,
          333,
          334,
          335,
          336,
          337,
          338,
          339,
          340,
          341,
          342,
          343,
          345,
          346,
          347,
          349,
          350,
          351,
          352,
          353,
          354,
          355,
          356,
          358,
          359,
          360,
          361,
          362,
          363,
          364,
          365,
          366,
          367,
          369,
          370,
          372,
          373,
          374,
          375,
          376,
          377,
          379,
          380,
          381,
          382,
          383,
          384,
          385,
          386,
          388,
          389,
          390,
          392,
          393,
          394,
          395,
          396,
          397,
          398,
          399,
          400,
          401,
          402,
          403,
          404,
          405,
          407,
          409,
          410,
          411,
          414,
          416,
          417,
          418,
          419,
          420,
          422,
          424,
          426,
          427,
          428,
          429,
          430,
          431,
          432,
          435,
          437,
          438,
          439,
          440,
          441,
          442,
          443,
          444,
          445,
          446,
          447,
          448,
          449,
          450,
          451,
          452,
          453,
          454,
          455,
          456,
          457,
          458,
          459,
          460,
          461,
          462,
          463,
          464,
          465,
          466,
          468,
          469,
          472,
          473,
          474,
          475,
          476,
          477,
          478,
          480,
          481,
          482,
          483,
          484,
          485,
          488,
          489,
          491,
          492,
          495,
          496,
          497,
          498,
          499,
          501,
          502,
          503,
          504,
          505,
          506,
          507,
          508,
          510,
          512,
          513,
          514,
          515,
          517,
          519,
          520,
          521,
          522,
          523,
          524,
          525,
          527,
          528,
          529,
          531,
          532,
          533,
          534,
          535,
          537,
          539,
          540,
          541,
          542,
          543,
          544,
          545,
          547,
          549,
          550,
          551,
          552,
          553,
          554,
          556,
          557,
          558,
          560,
          561,
          562,
          565,
          566,
          567,
          568,
          569,
          570,
          571,
          572,
          573,
          574,
          575,
          577,
          578,
          579,
          580,
          581,
          582,
          583,
          584,
          586,
          587,
          589,
          590,
          591,
          593,
          594,
          595,
          596,
          597,
          598,
          599,
          600,
          601,
          602,
          603,
          604,
          605,
          606,
          607,
          609,
          610,
          611,
          612,
          613,
          614,
          615,
          616
         ],
         "yaxis": "y"
        },
        {
         "customdata": [
          [
           "000ff2bfdfe9"
          ],
          [
           "044fb8a146ec"
          ],
          [
           "06055f3f6785"
          ],
          [
           "06c0ddf265c5"
          ],
          [
           "0e798fd4e6e7"
          ],
          [
           "0f5fba133cb7"
          ],
          [
           "103f611fdfc4"
          ],
          [
           "1136a2966ed2"
          ],
          [
           "1360fac6a227"
          ],
          [
           "1bac22586f27"
          ],
          [
           "1bcdc1af3458"
          ],
          [
           "1ce075e25399"
          ],
          [
           "228524bde6a3"
          ],
          [
           "245a3f44cfc0"
          ],
          [
           "24b40510d6a2"
          ],
          [
           "2508534155a6"
          ],
          [
           "26c79809c5ea"
          ],
          [
           "2cddd2d70d72"
          ],
          [
           "2f4e5de3de9c"
          ],
          [
           "32c1d5bdae8d"
          ],
          [
           "34a025893d36"
          ],
          [
           "355bdddccdbd"
          ],
          [
           "3924089e4396"
          ],
          [
           "3a288ec2811f"
          ],
          [
           "3bbe922b2cdb"
          ],
          [
           "3e2d6dca77ec"
          ],
          [
           "3f4bfe72745d"
          ],
          [
           "401ca61716e4"
          ],
          [
           "41216f6cee66"
          ],
          [
           "463035913640"
          ],
          [
           "46fe2d3b9e7b"
          ],
          [
           "47e4c756d4a6"
          ],
          [
           "49b8f248a42f"
          ],
          [
           "582ef2696f72"
          ],
          [
           "5c63c7b71282"
          ],
          [
           "5d694ba9aa16"
          ],
          [
           "5fe47095520d"
          ],
          [
           "6468478fce4c"
          ],
          [
           "667b389f278d"
          ],
          [
           "67122d4bce03"
          ],
          [
           "679465bb38ba"
          ],
          [
           "67c8bfe99f1c"
          ],
          [
           "67d932a88814"
          ],
          [
           "68597a95792d"
          ],
          [
           "68729b79859b"
          ],
          [
           "687ebf4e5d7d"
          ],
          [
           "6a2fa7569189"
          ],
          [
           "6ab2d09883de"
          ],
          [
           "6f5908450956"
          ],
          [
           "72ee3bca17f6"
          ],
          [
           "73483f848b67"
          ],
          [
           "7445f4eac4de"
          ],
          [
           "7830dec4b764"
          ],
          [
           "785a0d3c4c41"
          ],
          [
           "79b44ed25c29"
          ],
          [
           "7af31043202c"
          ],
          [
           "7cb9a95a62fc"
          ],
          [
           "7f6d8841c044"
          ],
          [
           "8065efe77fab"
          ],
          [
           "81015c6c3404"
          ],
          [
           "8803ec4462c1"
          ],
          [
           "89a5ed9b71a8"
          ],
          [
           "8ba157c016ba"
          ],
          [
           "8ead0a51d11c"
          ],
          [
           "8f5b7d4621da"
          ],
          [
           "9230d1831db3"
          ],
          [
           "96fbcce4f0c0"
          ],
          [
           "98102929d244"
          ],
          [
           "9ed6b861e9f7"
          ],
          [
           "9ef1886b810c"
          ],
          [
           "a082f422799b"
          ],
          [
           "a20ba8577583"
          ],
          [
           "a22a15853970"
          ],
          [
           "a795db8ca395"
          ],
          [
           "a7d4dd890a1b"
          ],
          [
           "a92580fda1c3"
          ],
          [
           "ac38de805eff"
          ],
          [
           "acc1f36dca1c"
          ],
          [
           "ad8e95777bf2"
          ],
          [
           "b9856a5d8f13"
          ],
          [
           "ba4443b0170c"
          ],
          [
           "bbb1066a9afd"
          ],
          [
           "c08f5a77f267"
          ],
          [
           "c5c8ffd0c908"
          ],
          [
           "c5cc9b3fa0b9"
          ],
          [
           "c5f4dc4ae7fb"
          ],
          [
           "c7f5064f4265"
          ],
          [
           "c809ac237df8"
          ],
          [
           "c9f71bcf8be0"
          ],
          [
           "cf5439add02c"
          ],
          [
           "cf84868cd1ce"
          ],
          [
           "d0ecfae80796"
          ],
          [
           "d1a9f56adc4a"
          ],
          [
           "d3ce7974230c"
          ],
          [
           "d482356ae08f"
          ],
          [
           "d8dae19a0df0"
          ],
          [
           "da1a5aec1818"
          ],
          [
           "deaf77f02382"
          ],
          [
           "dfa4ccdd5f4a"
          ],
          [
           "e253dc2f97c0"
          ],
          [
           "e52a2f7ad6a5"
          ],
          [
           "e76aa8f0f2e7"
          ],
          [
           "e7a607afea3d"
          ],
          [
           "ed3486389307"
          ],
          [
           "f16b095a433f"
          ],
          [
           "f26ee0cee841"
          ],
          [
           "f405c0b5836f"
          ],
          [
           "fbb79ba9d642"
          ]
         ],
         "hovertemplate": "Class=1<br>Positive Class Probability=%{x}<br>Sample Integer Index=%{y}<br>Id=%{customdata[0]}<extra></extra>",
         "legendgroup": "1",
         "marker": {
          "color": "#FF2079",
          "opacity": 0.6,
          "size": 6,
          "symbol": "circle"
         },
         "mode": "markers",
         "name": "1",
         "orientation": "v",
         "showlegend": true,
         "type": "scatter",
         "x": [
          0.9749205167201828,
          0.350964131369761,
          0.9407691046552591,
          0.9792610910798171,
          0.8907518270882522,
          0.8351743391865973,
          0.9018687575099525,
          0.9939725195665996,
          0.9812536758893413,
          0.9853070196441391,
          0.9216994757471433,
          0.9921833623639301,
          0.961426246146121,
          0.8422937216312535,
          0.8463306964307094,
          0.790914853496004,
          0.9829320280050563,
          0.977770516257366,
          0.9942097086831969,
          0.6962165313324364,
          0.9676434772013873,
          0.9875572093240039,
          0.5879360763200543,
          0.4207606163524358,
          0.9549644000589165,
          0.9206828420284701,
          0.8681374451964057,
          0.9928741524278195,
          0.9979578962190703,
          0.8767327260868504,
          0.6066416787051162,
          0.810032120134285,
          0.593129968341932,
          0.9876067944795208,
          0.47002166319063976,
          0.7903620571265092,
          0.8546742317225945,
          0.9977205410986073,
          0.9757148671905851,
          0.9420020689665112,
          0.9975533749310561,
          0.9709164426240038,
          0.9453007315924126,
          0.8926926576845137,
          0.7115137472917346,
          0.9753823562335585,
          0.7457234786701635,
          0.48403423627381315,
          0.990747273483985,
          0.9595551118935226,
          0.9724609265387316,
          0.8104034929203421,
          0.9086018664452148,
          0.754820041547658,
          0.6745029802111511,
          0.9472117748818502,
          0.0550650956031825,
          0.9486328033796172,
          0.9848589471072031,
          0.823397008004021,
          0.7366247512738786,
          0.9313581054127548,
          0.9974002113360273,
          0.9937369509998059,
          0.9625215083527644,
          0.7815622923853713,
          0.874038067825287,
          0.4845240707793289,
          0.973110546813246,
          0.17271743238126486,
          0.8883380977715835,
          0.4839367519323024,
          0.8010674974735789,
          0.6562741114628869,
          0.9898053451845612,
          0.9670333178469779,
          0.986526457648301,
          0.6175226657361697,
          0.9225029267710975,
          0.9360728661554859,
          0.6519254810565738,
          0.9767707380580001,
          0.7063933038623593,
          0.9760370857181757,
          0.9089764410659711,
          0.9475551860921575,
          0.9793797370799021,
          0.9980785575407808,
          0.9088126861197046,
          0.04268186882684681,
          0.9671989752635669,
          0.9831644629360798,
          0.9969812658269765,
          0.9871055383042492,
          0.9888409125811883,
          0.9635364679716488,
          0.9915502821396839,
          0.9885078297445309,
          0.970194816443386,
          0.7662142233193578,
          0.9053566805334402,
          0.9889307604071803,
          0.9915521423422406,
          0.5268987907010192,
          0.945176582754848,
          0.9770829170727652,
          0.9405859278421946,
          0.6086817867733618
         ],
         "xaxis": "x",
         "y": [
          0,
          4,
          10,
          13,
          31,
          32,
          36,
          41,
          49,
          75,
          76,
          79,
          88,
          91,
          93,
          95,
          96,
          109,
          118,
          127,
          131,
          134,
          145,
          146,
          150,
          155,
          160,
          162,
          165,
          181,
          186,
          189,
          193,
          218,
          229,
          232,
          238,
          249,
          256,
          258,
          259,
          261,
          262,
          265,
          267,
          268,
          274,
          275,
          282,
          288,
          290,
          294,
          300,
          301,
          304,
          307,
          313,
          318,
          324,
          330,
          344,
          348,
          357,
          368,
          371,
          378,
          387,
          391,
          406,
          408,
          412,
          413,
          415,
          421,
          423,
          425,
          433,
          434,
          436,
          467,
          470,
          471,
          479,
          486,
          487,
          490,
          493,
          494,
          500,
          509,
          511,
          516,
          518,
          526,
          530,
          536,
          538,
          546,
          548,
          555,
          559,
          563,
          564,
          576,
          585,
          588,
          592,
          608
         ],
         "yaxis": "y"
        }
       ],
       "layout": {
        "font": {
         "color": "#010D36"
        },
        "height": 540,
        "legend": {
         "itemsizing": "constant",
         "orientation": "h",
         "title": {
          "text": "Class"
         },
         "tracegroupgap": 0,
         "x": 1,
         "xanchor": "right",
         "y": 1.05,
         "yanchor": "bottom"
        },
        "paper_bgcolor": "#F6F5F5",
        "plot_bgcolor": "#F6F5F5",
        "template": {
         "data": {
          "bar": [
           {
            "error_x": {
             "color": "#2a3f5f"
            },
            "error_y": {
             "color": "#2a3f5f"
            },
            "marker": {
             "line": {
              "color": "#E5ECF6",
              "width": 0.5
             },
             "pattern": {
              "fillmode": "overlay",
              "size": 10,
              "solidity": 0.2
             }
            },
            "type": "bar"
           }
          ],
          "barpolar": [
           {
            "marker": {
             "line": {
              "color": "#E5ECF6",
              "width": 0.5
             },
             "pattern": {
              "fillmode": "overlay",
              "size": 10,
              "solidity": 0.2
             }
            },
            "type": "barpolar"
           }
          ],
          "carpet": [
           {
            "aaxis": {
             "endlinecolor": "#2a3f5f",
             "gridcolor": "white",
             "linecolor": "white",
             "minorgridcolor": "white",
             "startlinecolor": "#2a3f5f"
            },
            "baxis": {
             "endlinecolor": "#2a3f5f",
             "gridcolor": "white",
             "linecolor": "white",
             "minorgridcolor": "white",
             "startlinecolor": "#2a3f5f"
            },
            "type": "carpet"
           }
          ],
          "choropleth": [
           {
            "colorbar": {
             "outlinewidth": 0,
             "ticks": ""
            },
            "type": "choropleth"
           }
          ],
          "contour": [
           {
            "colorbar": {
             "outlinewidth": 0,
             "ticks": ""
            },
            "colorscale": [
             [
              0,
              "#0d0887"
             ],
             [
              0.1111111111111111,
              "#46039f"
             ],
             [
              0.2222222222222222,
              "#7201a8"
             ],
             [
              0.3333333333333333,
              "#9c179e"
             ],
             [
              0.4444444444444444,
              "#bd3786"
             ],
             [
              0.5555555555555556,
              "#d8576b"
             ],
             [
              0.6666666666666666,
              "#ed7953"
             ],
             [
              0.7777777777777778,
              "#fb9f3a"
             ],
             [
              0.8888888888888888,
              "#fdca26"
             ],
             [
              1,
              "#f0f921"
             ]
            ],
            "type": "contour"
           }
          ],
          "contourcarpet": [
           {
            "colorbar": {
             "outlinewidth": 0,
             "ticks": ""
            },
            "type": "contourcarpet"
           }
          ],
          "heatmap": [
           {
            "colorbar": {
             "outlinewidth": 0,
             "ticks": ""
            },
            "colorscale": [
             [
              0,
              "#0d0887"
             ],
             [
              0.1111111111111111,
              "#46039f"
             ],
             [
              0.2222222222222222,
              "#7201a8"
             ],
             [
              0.3333333333333333,
              "#9c179e"
             ],
             [
              0.4444444444444444,
              "#bd3786"
             ],
             [
              0.5555555555555556,
              "#d8576b"
             ],
             [
              0.6666666666666666,
              "#ed7953"
             ],
             [
              0.7777777777777778,
              "#fb9f3a"
             ],
             [
              0.8888888888888888,
              "#fdca26"
             ],
             [
              1,
              "#f0f921"
             ]
            ],
            "type": "heatmap"
           }
          ],
          "heatmapgl": [
           {
            "colorbar": {
             "outlinewidth": 0,
             "ticks": ""
            },
            "colorscale": [
             [
              0,
              "#0d0887"
             ],
             [
              0.1111111111111111,
              "#46039f"
             ],
             [
              0.2222222222222222,
              "#7201a8"
             ],
             [
              0.3333333333333333,
              "#9c179e"
             ],
             [
              0.4444444444444444,
              "#bd3786"
             ],
             [
              0.5555555555555556,
              "#d8576b"
             ],
             [
              0.6666666666666666,
              "#ed7953"
             ],
             [
              0.7777777777777778,
              "#fb9f3a"
             ],
             [
              0.8888888888888888,
              "#fdca26"
             ],
             [
              1,
              "#f0f921"
             ]
            ],
            "type": "heatmapgl"
           }
          ],
          "histogram": [
           {
            "marker": {
             "pattern": {
              "fillmode": "overlay",
              "size": 10,
              "solidity": 0.2
             }
            },
            "type": "histogram"
           }
          ],
          "histogram2d": [
           {
            "colorbar": {
             "outlinewidth": 0,
             "ticks": ""
            },
            "colorscale": [
             [
              0,
              "#0d0887"
             ],
             [
              0.1111111111111111,
              "#46039f"
             ],
             [
              0.2222222222222222,
              "#7201a8"
             ],
             [
              0.3333333333333333,
              "#9c179e"
             ],
             [
              0.4444444444444444,
              "#bd3786"
             ],
             [
              0.5555555555555556,
              "#d8576b"
             ],
             [
              0.6666666666666666,
              "#ed7953"
             ],
             [
              0.7777777777777778,
              "#fb9f3a"
             ],
             [
              0.8888888888888888,
              "#fdca26"
             ],
             [
              1,
              "#f0f921"
             ]
            ],
            "type": "histogram2d"
           }
          ],
          "histogram2dcontour": [
           {
            "colorbar": {
             "outlinewidth": 0,
             "ticks": ""
            },
            "colorscale": [
             [
              0,
              "#0d0887"
             ],
             [
              0.1111111111111111,
              "#46039f"
             ],
             [
              0.2222222222222222,
              "#7201a8"
             ],
             [
              0.3333333333333333,
              "#9c179e"
             ],
             [
              0.4444444444444444,
              "#bd3786"
             ],
             [
              0.5555555555555556,
              "#d8576b"
             ],
             [
              0.6666666666666666,
              "#ed7953"
             ],
             [
              0.7777777777777778,
              "#fb9f3a"
             ],
             [
              0.8888888888888888,
              "#fdca26"
             ],
             [
              1,
              "#f0f921"
             ]
            ],
            "type": "histogram2dcontour"
           }
          ],
          "mesh3d": [
           {
            "colorbar": {
             "outlinewidth": 0,
             "ticks": ""
            },
            "type": "mesh3d"
           }
          ],
          "parcoords": [
           {
            "line": {
             "colorbar": {
              "outlinewidth": 0,
              "ticks": ""
             }
            },
            "type": "parcoords"
           }
          ],
          "pie": [
           {
            "automargin": true,
            "type": "pie"
           }
          ],
          "scatter": [
           {
            "fillpattern": {
             "fillmode": "overlay",
             "size": 10,
             "solidity": 0.2
            },
            "type": "scatter"
           }
          ],
          "scatter3d": [
           {
            "line": {
             "colorbar": {
              "outlinewidth": 0,
              "ticks": ""
             }
            },
            "marker": {
             "colorbar": {
              "outlinewidth": 0,
              "ticks": ""
             }
            },
            "type": "scatter3d"
           }
          ],
          "scattercarpet": [
           {
            "marker": {
             "colorbar": {
              "outlinewidth": 0,
              "ticks": ""
             }
            },
            "type": "scattercarpet"
           }
          ],
          "scattergeo": [
           {
            "marker": {
             "colorbar": {
              "outlinewidth": 0,
              "ticks": ""
             }
            },
            "type": "scattergeo"
           }
          ],
          "scattergl": [
           {
            "marker": {
             "colorbar": {
              "outlinewidth": 0,
              "ticks": ""
             }
            },
            "type": "scattergl"
           }
          ],
          "scattermapbox": [
           {
            "marker": {
             "colorbar": {
              "outlinewidth": 0,
              "ticks": ""
             }
            },
            "type": "scattermapbox"
           }
          ],
          "scatterpolar": [
           {
            "marker": {
             "colorbar": {
              "outlinewidth": 0,
              "ticks": ""
             }
            },
            "type": "scatterpolar"
           }
          ],
          "scatterpolargl": [
           {
            "marker": {
             "colorbar": {
              "outlinewidth": 0,
              "ticks": ""
             }
            },
            "type": "scatterpolargl"
           }
          ],
          "scatterternary": [
           {
            "marker": {
             "colorbar": {
              "outlinewidth": 0,
              "ticks": ""
             }
            },
            "type": "scatterternary"
           }
          ],
          "surface": [
           {
            "colorbar": {
             "outlinewidth": 0,
             "ticks": ""
            },
            "colorscale": [
             [
              0,
              "#0d0887"
             ],
             [
              0.1111111111111111,
              "#46039f"
             ],
             [
              0.2222222222222222,
              "#7201a8"
             ],
             [
              0.3333333333333333,
              "#9c179e"
             ],
             [
              0.4444444444444444,
              "#bd3786"
             ],
             [
              0.5555555555555556,
              "#d8576b"
             ],
             [
              0.6666666666666666,
              "#ed7953"
             ],
             [
              0.7777777777777778,
              "#fb9f3a"
             ],
             [
              0.8888888888888888,
              "#fdca26"
             ],
             [
              1,
              "#f0f921"
             ]
            ],
            "type": "surface"
           }
          ],
          "table": [
           {
            "cells": {
             "fill": {
              "color": "#EBF0F8"
             },
             "line": {
              "color": "white"
             }
            },
            "header": {
             "fill": {
              "color": "#C8D4E3"
             },
             "line": {
              "color": "white"
             }
            },
            "type": "table"
           }
          ]
         },
         "layout": {
          "annotationdefaults": {
           "arrowcolor": "#2a3f5f",
           "arrowhead": 0,
           "arrowwidth": 1
          },
          "autotypenumbers": "strict",
          "coloraxis": {
           "colorbar": {
            "outlinewidth": 0,
            "ticks": ""
           }
          },
          "colorscale": {
           "diverging": [
            [
             0,
             "#8e0152"
            ],
            [
             0.1,
             "#c51b7d"
            ],
            [
             0.2,
             "#de77ae"
            ],
            [
             0.3,
             "#f1b6da"
            ],
            [
             0.4,
             "#fde0ef"
            ],
            [
             0.5,
             "#f7f7f7"
            ],
            [
             0.6,
             "#e6f5d0"
            ],
            [
             0.7,
             "#b8e186"
            ],
            [
             0.8,
             "#7fbc41"
            ],
            [
             0.9,
             "#4d9221"
            ],
            [
             1,
             "#276419"
            ]
           ],
           "sequential": [
            [
             0,
             "#0d0887"
            ],
            [
             0.1111111111111111,
             "#46039f"
            ],
            [
             0.2222222222222222,
             "#7201a8"
            ],
            [
             0.3333333333333333,
             "#9c179e"
            ],
            [
             0.4444444444444444,
             "#bd3786"
            ],
            [
             0.5555555555555556,
             "#d8576b"
            ],
            [
             0.6666666666666666,
             "#ed7953"
            ],
            [
             0.7777777777777778,
             "#fb9f3a"
            ],
            [
             0.8888888888888888,
             "#fdca26"
            ],
            [
             1,
             "#f0f921"
            ]
           ],
           "sequentialminus": [
            [
             0,
             "#0d0887"
            ],
            [
             0.1111111111111111,
             "#46039f"
            ],
            [
             0.2222222222222222,
             "#7201a8"
            ],
            [
             0.3333333333333333,
             "#9c179e"
            ],
            [
             0.4444444444444444,
             "#bd3786"
            ],
            [
             0.5555555555555556,
             "#d8576b"
            ],
            [
             0.6666666666666666,
             "#ed7953"
            ],
            [
             0.7777777777777778,
             "#fb9f3a"
            ],
            [
             0.8888888888888888,
             "#fdca26"
            ],
            [
             1,
             "#f0f921"
            ]
           ]
          },
          "colorway": [
           "#636efa",
           "#EF553B",
           "#00cc96",
           "#ab63fa",
           "#FFA15A",
           "#19d3f3",
           "#FF6692",
           "#B6E880",
           "#FF97FF",
           "#FECB52"
          ],
          "font": {
           "color": "#2a3f5f"
          },
          "geo": {
           "bgcolor": "white",
           "lakecolor": "white",
           "landcolor": "#E5ECF6",
           "showlakes": true,
           "showland": true,
           "subunitcolor": "white"
          },
          "hoverlabel": {
           "align": "left"
          },
          "hovermode": "closest",
          "mapbox": {
           "style": "light"
          },
          "paper_bgcolor": "white",
          "plot_bgcolor": "#E5ECF6",
          "polar": {
           "angularaxis": {
            "gridcolor": "white",
            "linecolor": "white",
            "ticks": ""
           },
           "bgcolor": "#E5ECF6",
           "radialaxis": {
            "gridcolor": "white",
            "linecolor": "white",
            "ticks": ""
           }
          },
          "scene": {
           "xaxis": {
            "backgroundcolor": "#E5ECF6",
            "gridcolor": "white",
            "gridwidth": 2,
            "linecolor": "white",
            "showbackground": true,
            "ticks": "",
            "zerolinecolor": "white"
           },
           "yaxis": {
            "backgroundcolor": "#E5ECF6",
            "gridcolor": "white",
            "gridwidth": 2,
            "linecolor": "white",
            "showbackground": true,
            "ticks": "",
            "zerolinecolor": "white"
           },
           "zaxis": {
            "backgroundcolor": "#E5ECF6",
            "gridcolor": "white",
            "gridwidth": 2,
            "linecolor": "white",
            "showbackground": true,
            "ticks": "",
            "zerolinecolor": "white"
           }
          },
          "shapedefaults": {
           "line": {
            "color": "#2a3f5f"
           }
          },
          "ternary": {
           "aaxis": {
            "gridcolor": "white",
            "linecolor": "white",
            "ticks": ""
           },
           "baxis": {
            "gridcolor": "white",
            "linecolor": "white",
            "ticks": ""
           },
           "bgcolor": "#E5ECF6",
           "caxis": {
            "gridcolor": "white",
            "linecolor": "white",
            "ticks": ""
           }
          },
          "title": {
           "x": 0.05
          },
          "xaxis": {
           "automargin": true,
           "gridcolor": "white",
           "linecolor": "white",
           "ticks": "",
           "title": {
            "standoff": 15
           },
           "zerolinecolor": "white",
           "zerolinewidth": 2
          },
          "yaxis": {
           "automargin": true,
           "gridcolor": "white",
           "linecolor": "white",
           "ticks": "",
           "title": {
            "standoff": 15
           },
           "zerolinecolor": "white",
           "zerolinewidth": 2
          }
         }
        },
        "title": {
         "font": {
          "size": 18
         },
         "text": "Training Dataset - Out of Fold Predictions"
        },
        "width": 840,
        "xaxis": {
         "anchor": "y",
         "domain": [
          0,
          1
         ],
         "range": [
          -0.02,
          1.02
         ],
         "title": {
          "text": "Positive Class Probability"
         }
        },
        "yaxis": {
         "anchor": "x",
         "domain": [
          0,
          1
         ],
         "title": {
          "text": "Sample Integer Index"
         }
        }
       }
      }
     },
     "metadata": {},
     "output_type": "display_data"
    }
   ],
   "source": [
    "y_proba_frame = pd.DataFrame(\n",
    "    {\n",
    "        \"Sample Integer Index\": np.arange(0, len(y)),\n",
    "        \"Positive Class Probability\": y_proba_rescaled,\n",
    "        \"Class\": y.values.astype(str),\n",
    "    },\n",
    "    index=y.index,\n",
    ")\n",
    "\n",
    "fig = px.scatter(\n",
    "    y_proba_frame.reset_index(),\n",
    "    x=\"Positive Class Probability\",\n",
    "    y=\"Sample Integer Index\",\n",
    "    symbol=\"Class\",\n",
    "    symbol_sequence=[\"diamond\", \"circle\"],\n",
    "    color=\"Class\",\n",
    "    color_discrete_sequence=[\"#010D36\", \"#FF2079\"],\n",
    "    category_orders={\"Class\": (\"0\", \"1\")},\n",
    "    hover_data=\"Id\",\n",
    "    opacity=0.6,\n",
    "    height=540,\n",
    "    width=840,\n",
    "    title=\"Training Dataset - Out of Fold Predictions\",\n",
    ")\n",
    "fig.update_layout(\n",
    "    font_color=FONT_COLOR,\n",
    "    title_font_size=18,\n",
    "    plot_bgcolor=BACKGROUND_COLOR,\n",
    "    paper_bgcolor=BACKGROUND_COLOR,\n",
    "    legend=dict(\n",
    "        orientation=\"h\",\n",
    "        yanchor=\"bottom\",\n",
    "        xanchor=\"right\",\n",
    "        y=1.05,\n",
    "        x=1,\n",
    "        title=\"Class\",\n",
    "        itemsizing=\"constant\",\n",
    "    ),\n",
    "    xaxis_range=[-0.02, 1.02],\n",
    ")\n",
    "fig.update_traces(marker_size=6)\n",
    "fig.show()"
   ]
  }
 ],
 "metadata": {
  "kernelspec": {
   "display_name": "Python 3",
   "language": "python",
   "name": "python3"
  },
  "language_info": {
   "codemirror_mode": {
    "name": "ipython",
    "version": 3
   },
   "file_extension": ".py",
   "mimetype": "text/x-python",
   "name": "python",
   "nbconvert_exporter": "python",
   "pygments_lexer": "ipython3",
   "version": "3.10.5"
  },
  "orig_nbformat": 4
 },
 "nbformat": 4,
 "nbformat_minor": 2
}
