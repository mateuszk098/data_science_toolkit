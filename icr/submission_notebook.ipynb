{
 "cells": [
  {
   "cell_type": "code",
   "execution_count": 15,
   "metadata": {},
   "outputs": [],
   "source": [
    "import os\n",
    "import shutil\n",
    "import subprocess\n",
    "from collections import defaultdict\n",
    "from copy import copy\n",
    "from itertools import product\n",
    "from functools import reduce\n",
    "from functools import partial\n",
    "from pathlib import Path\n",
    "\n",
    "# Sub-modules and so on.\n",
    "import matplotlib.pyplot as plt\n",
    "import numpy as np\n",
    "import pandas as pd\n",
    "import plotly.express as px\n",
    "import plotly.figure_factory as ff\n",
    "import plotly.graph_objects as go\n",
    "import seaborn as sns\n",
    "import scipy.stats as stats\n",
    "from colorama import Fore, Style\n",
    "from IPython.core.display import HTML\n",
    "from IPython.display import display_html\n",
    "from matplotlib.colors import Colormap\n",
    "from plotly.subplots import make_subplots\n",
    "from scipy.cluster.hierarchy import fcluster, linkage\n",
    "from scipy.spatial.distance import squareform\n",
    "from scipy.stats import gaussian_kde, probplot\n",
    "\n",
    "from sklearn.preprocessing import PowerTransformer\n",
    "from sklearn.compose import make_column_transformer\n",
    "from sklearn.compose import make_column_selector\n",
    "from sklearn.preprocessing import StandardScaler\n",
    "from sklearn.preprocessing import OneHotEncoder\n",
    "from sklearn.pipeline import make_pipeline\n",
    "from sklearn.metrics import make_scorer\n",
    "from sklearn.impute import SimpleImputer\n",
    "from sklearn.model_selection import cross_val_score\n",
    "from sklearn.model_selection import StratifiedKFold\n",
    "from catboost import CatBoostClassifier\n",
    "from lightgbm import LGBMClassifier\n",
    "from xgboost import XGBClassifier\n",
    "\n",
    "from sklearn.manifold import TSNE\n",
    "from sklearn.compose import make_column_transformer\n",
    "from sklearn.pipeline import make_pipeline\n",
    "from sklearn.preprocessing import FunctionTransformer\n",
    "from sklearn.preprocessing import StandardScaler\n",
    "from sklearn.preprocessing import OneHotEncoder\n",
    "from sklearn.impute import SimpleImputer\n",
    "from sklearn.impute import KNNImputer\n",
    "from sklearn import set_config\n",
    "from sklearn.tree import DecisionTreeClassifier\n",
    "from sklearn.tree import plot_tree\n",
    "from sklearn.discriminant_analysis import LinearDiscriminantAnalysis\n",
    "from sklearn.ensemble import RandomForestClassifier\n",
    "from sklearn.feature_selection import mutual_info_classif\n",
    "from sklearn.metrics import accuracy_score\n",
    "from sklearn.model_selection import StratifiedKFold\n",
    "from sklearn.linear_model import LogisticRegression\n",
    "from sklearn.linear_model import RidgeClassifier\n",
    "from sklearn.ensemble import RandomForestClassifier\n",
    "from sklearn.ensemble import ExtraTreesClassifier\n",
    "from sklearn.ensemble import GradientBoostingClassifier\n",
    "from sklearn.svm import LinearSVC\n",
    "from sklearn.svm import NuSVC\n",
    "from sklearn.svm import SVC\n",
    "from sklearn.neighbors import KNeighborsClassifier\n",
    "from sklearn.model_selection import cross_val_score\n",
    "from sklearn.metrics import precision_score, recall_score, f1_score, accuracy_score\n",
    "from sklearn.metrics import roc_curve, roc_auc_score\n",
    "from sklearn.metrics import confusion_matrix\n",
    "from sklearn.model_selection import cross_val_predict\n",
    "from sklearn.model_selection import learning_curve\n",
    "from sklearn.model_selection import RandomizedSearchCV\n",
    "from sklearn.feature_selection import SelectKBest\n",
    "from sklearn.feature_selection import SelectFromModel\n",
    "from sklearn.base import BaseEstimator, TransformerMixin\n",
    "from sklearn.preprocessing import Binarizer, OrdinalEncoder\n",
    "from sklearn.utils.validation import check_is_fitted\n",
    "from sklearn.feature_selection import RFE, SelectPercentile, SequentialFeatureSelector\n",
    "from sklearn.kernel_approximation import Nystroem\n",
    "from sklearn.linear_model import LogisticRegression\n",
    "from sklearn.cluster import AffinityPropagation, KMeans, MeanShift, Birch\n",
    "from sklearn.ensemble import HistGradientBoostingClassifier\n",
    "from sklearn.feature_selection import SelectPercentile\n",
    "from scipy.stats import randint, expon, reciprocal, uniform\n",
    "\n",
    "ON_KAGGLE = os.getenv(\"KAGGLE_KERNEL_RUN_TYPE\") is not None\n",
    "\n",
    "# Colorama settings.\n",
    "CLR = (Style.BRIGHT + Fore.BLACK) if ON_KAGGLE else (Style.BRIGHT + Fore.WHITE)\n",
    "RED = Style.BRIGHT + Fore.RED\n",
    "BLUE = Style.BRIGHT + Fore.BLUE\n",
    "CYAN = Style.BRIGHT + Fore.CYAN\n",
    "RESET = Style.RESET_ALL\n",
    "\n",
    "# Colors\n",
    "DF_CMAP: Colormap = sns.light_palette(\"#8C92AC\", as_cmap=True)  # type: ignore\n",
    "FONT_COLOR = \"#010D36\"\n",
    "BACKGROUND_COLOR = \"#F6F5F5\"\n",
    "\n",
    "cell_hover = {  # for row hover use <tr> instead of <td>\n",
    "    \"selector\": \"td:hover\",\n",
    "    \"props\": \"background-color: #F6F5F5\",\n",
    "}\n",
    "text_highlight = {\n",
    "    \"selector\": \"td\",\n",
    "    \"props\": \"color: #FF2079; font-weight: bold\",\n",
    "}\n",
    "index_names = {\n",
    "    \"selector\": \".index_name\",\n",
    "    \"props\": \"font-style: italic; background-color: #010D36; color: #F2F2F0;\",\n",
    "}\n",
    "headers = {\n",
    "    \"selector\": \"th:not(.index_name)\",\n",
    "    \"props\": \"font-style: italic; background-color: #010D36; color: #F2F2F0;\",\n",
    "}\n",
    "DF_STYLE = (index_names, headers, text_highlight)\n",
    "\n",
    "MY_RC = {\n",
    "    \"axes.labelcolor\": FONT_COLOR,\n",
    "    \"axes.labelsize\": 10,\n",
    "    \"axes.labelpad\": 15,\n",
    "    \"axes.labelweight\": \"bold\",\n",
    "    \"axes.titlesize\": 14,\n",
    "    \"axes.titleweight\": \"bold\",\n",
    "    \"axes.titlepad\": 15,\n",
    "    \"axes.facecolor\": BACKGROUND_COLOR,\n",
    "    \"xtick.labelsize\": 10,\n",
    "    \"xtick.color\": FONT_COLOR,\n",
    "    \"ytick.labelsize\": 10,\n",
    "    \"ytick.color\": FONT_COLOR,\n",
    "    \"figure.titlesize\": 14,\n",
    "    \"figure.titleweight\": \"bold\",\n",
    "    \"figure.facecolor\": BACKGROUND_COLOR,\n",
    "    \"figure.edgecolor\": BACKGROUND_COLOR,\n",
    "    \"figure.dpi\": 72,  # Locally Seaborn uses 72, meanwhile Kaggle 96.\n",
    "    \"font.size\": 10,\n",
    "    \"font.family\": \"Serif\",\n",
    "    \"text.color\": FONT_COLOR,\n",
    "}\n",
    "sns.set_theme(rc=MY_RC)\n",
    "\n",
    "\n",
    "# Utility functions.\n",
    "def download_dataset_from_kaggle(user, dataset, directory):\n",
    "    command = \"kaggle datasets download -d \"\n",
    "    filepath = directory / (dataset + \".zip\")\n",
    "\n",
    "    if not filepath.is_file():\n",
    "        subprocess.run((command + user + \"/\" + dataset).split())\n",
    "        filepath.parent.mkdir(parents=True, exist_ok=True)\n",
    "        shutil.unpack_archive(dataset + \".zip\", \"data\")\n",
    "        shutil.move(dataset + \".zip\", \"data\")\n",
    "\n",
    "\n",
    "def download_competition_from_kaggle(competition):\n",
    "    command = \"kaggle competitions download -c \"\n",
    "    filepath = Path(\"data/\" + competition + \".zip\")\n",
    "\n",
    "    if not filepath.is_file():\n",
    "        subprocess.run((command + competition).split())\n",
    "        Path(\"data\").mkdir(parents=True, exist_ok=True)\n",
    "        shutil.unpack_archive(competition + \".zip\", \"data\")\n",
    "        shutil.move(competition + \".zip\", \"data\")\n"
   ]
  },
  {
   "cell_type": "code",
   "execution_count": 36,
   "metadata": {},
   "outputs": [],
   "source": [
    "competition = \"icr-identify-age-related-conditions\"\n",
    "\n",
    "if not ON_KAGGLE:\n",
    "    download_competition_from_kaggle(competition)\n",
    "    train_path = \"data/train.csv\"\n",
    "    test_path = \"data/test.csv\"\n",
    "    greeks_path = \"data/greeks.csv\"\n",
    "else:\n",
    "    train_path = f\"/kaggle/input/{competition}/train.csv\"\n",
    "    test_path = f\"/kaggle/input/{competition}/test.csv\"\n",
    "    greeks_path = f\"/kaggle/input/{competition}/greeks.csv\"\n",
    "\n",
    "train = pd.read_csv(train_path, index_col=\"Id\").rename(columns=str.strip)\n",
    "test = pd.read_csv(test_path, index_col=\"Id\").rename(columns=str.strip)\n",
    "greeks = pd.read_csv(greeks_path, index_col=\"Id\").rename(columns=str.strip)\n"
   ]
  },
  {
   "cell_type": "code",
   "execution_count": 17,
   "metadata": {},
   "outputs": [],
   "source": [
    "numeric_descr = (\n",
    "    train.drop(\"Class\", axis=1)\n",
    "    .describe(percentiles=[0.01, 0.05, 0.25, 0.50, 0.75, 0.95, 0.99])\n",
    "    .drop(\"count\")\n",
    "    .T.rename(columns=str.title)\n",
    ")"
   ]
  },
  {
   "cell_type": "code",
   "execution_count": 18,
   "metadata": {},
   "outputs": [],
   "source": [
    "numeric_data = train.select_dtypes(\"number\")\n",
    "numeric_cols = numeric_data.drop(\"Class\", axis=1).columns.tolist()\n",
    "r2_scores = defaultdict(tuple)\n",
    "\n",
    "for feature in numeric_cols:\n",
    "    orig = train[feature].dropna()\n",
    "    _, (*_, R_orig) = probplot(orig, rvalue=True)\n",
    "    _, (*_, R_log) = probplot(np.log(orig), rvalue=True)\n",
    "    _, (*_, R_sqrt) = probplot(np.sqrt(orig), rvalue=True)\n",
    "    _, (*_, R_reci) = probplot(np.reciprocal(orig), rvalue=True)\n",
    "    _, (*_, R_boxcox) = probplot(stats.boxcox(orig)[0], rvalue=True)\n",
    "    _, (*_, R_yeojohn) = probplot(stats.yeojohnson(orig)[0], rvalue=True)\n",
    "    r2_scores[feature] = (\n",
    "        R_orig * R_orig,\n",
    "        R_log * R_log,\n",
    "        R_sqrt * R_sqrt,\n",
    "        R_reci * R_reci,\n",
    "        R_boxcox * R_boxcox,\n",
    "        R_yeojohn * R_yeojohn,\n",
    "    )\n",
    "\n",
    "r2_scores = pd.DataFrame(\n",
    "    r2_scores, index=(\"Original\", \"Log\", \"Sqrt\", \"Reciprocal\", \"BoxCox\", \"YeoJohnson\")\n",
    ").T\n",
    "\n",
    "r2_scores[\"Winner\"] = r2_scores.idxmax(axis=1)\n"
   ]
  },
  {
   "cell_type": "code",
   "execution_count": 19,
   "metadata": {},
   "outputs": [],
   "source": [
    "no_transform_cols = r2_scores.query(\"Winner == 'Original'\").index\n",
    "log_transform_cols = r2_scores.query(\"Winner == 'Log'\").index\n",
    "reciprocal_transform_cols = r2_scores.query(\"Winner == 'Reciprocal'\").index\n",
    "boxcox_transform_cols = r2_scores.query(\"Winner == 'BoxCox'\").index\n",
    "yeojohnson_transform_cols = r2_scores.query(\"Winner == 'YeoJohnson'\").index\n"
   ]
  },
  {
   "cell_type": "code",
   "execution_count": 20,
   "metadata": {},
   "outputs": [],
   "source": [
    "semi_constant_mask = np.isclose(numeric_descr[\"Min\"], numeric_descr[\"50%\"])\n",
    "semi_constant_descr = numeric_descr[semi_constant_mask]\n",
    "semi_const_cols_thresholds = semi_constant_descr[\"50%\"].to_dict()\n"
   ]
  },
  {
   "cell_type": "code",
   "execution_count": 21,
   "metadata": {},
   "outputs": [],
   "source": [
    "semi_const_cols = semi_const_cols_thresholds.keys()\n",
    "\n",
    "no_transform_cols = no_transform_cols.drop(semi_const_cols, errors=\"ignore\")\n",
    "log_transform_cols = log_transform_cols.drop(semi_const_cols, errors=\"ignore\")\n",
    "reciprocal_transform_cols = reciprocal_transform_cols.drop(semi_const_cols, errors=\"ignore\")\n",
    "boxcox_transform_cols = boxcox_transform_cols.drop(semi_const_cols, errors=\"ignore\")\n",
    "yeojohnson_transform_cols = yeojohnson_transform_cols.drop(semi_const_cols, errors=\"ignore\")\n"
   ]
  },
  {
   "cell_type": "code",
   "execution_count": 22,
   "metadata": {},
   "outputs": [],
   "source": [
    "semi_final_preprocess = make_pipeline(\n",
    "    make_column_transformer(\n",
    "        (\n",
    "            StandardScaler(),\n",
    "            no_transform_cols.to_list(),\n",
    "        ),\n",
    "        (\n",
    "            make_pipeline(\n",
    "                FunctionTransformer(func=np.log, feature_names_out=\"one-to-one\"),\n",
    "                StandardScaler(),\n",
    "            ),\n",
    "            log_transform_cols.to_list(),\n",
    "        ),\n",
    "        (\n",
    "            make_pipeline(\n",
    "                FunctionTransformer(func=np.reciprocal, feature_names_out=\"one-to-one\"),\n",
    "                StandardScaler(),\n",
    "            ),\n",
    "            reciprocal_transform_cols.to_list(),\n",
    "        ),\n",
    "        (\n",
    "            PowerTransformer(method=\"box-cox\", standardize=True),\n",
    "            boxcox_transform_cols.to_list(),\n",
    "        ),\n",
    "        (\n",
    "            PowerTransformer(method=\"yeo-johnson\", standardize=True),\n",
    "            yeojohnson_transform_cols.to_list(),\n",
    "        ),\n",
    "        (\n",
    "            make_pipeline(\n",
    "                SimpleImputer(strategy=\"most_frequent\"),\n",
    "                OrdinalEncoder(handle_unknown=\"use_encoded_value\", unknown_value=-1),\n",
    "            ),\n",
    "            make_column_selector(dtype_include=object),  # type: ignore\n",
    "        ),\n",
    "        *[\n",
    "            (\n",
    "                make_pipeline(\n",
    "                    SimpleImputer(strategy=\"median\"),\n",
    "                    Binarizer(threshold=thresh),\n",
    "                ),\n",
    "                [col],\n",
    "            )\n",
    "            for col, thresh in semi_const_cols_thresholds.items()\n",
    "        ],\n",
    "        remainder=\"drop\",\n",
    "        verbose_feature_names_out=False,\n",
    "    ),\n",
    "    KNNImputer(n_neighbors=10, weights=\"distance\"),\n",
    ")\n"
   ]
  },
  {
   "cell_type": "code",
   "execution_count": 23,
   "metadata": {},
   "outputs": [],
   "source": [
    "def balanced_log_loss(y_true, y_pred, **kwargs):\n",
    "    \"\"\"Competition evaluation metric - negative balanced logarithmic loss.\n",
    "    The overall effect is such that each class is roughly equally\n",
    "    important for the final score.\"\"\"\n",
    "    N0, N1 = np.bincount(y_true)\n",
    "\n",
    "    y0 = np.where(y_true == 0, 1, 0)\n",
    "    y1 = np.where(y_true == 1, 1, 0)\n",
    "\n",
    "    eps = kwargs.get(\"eps\", 1e-15)\n",
    "    y_pred = np.clip(y_pred, eps, 1 - eps)\n",
    "    p0 = np.log(1 - y_pred)\n",
    "    p1 = np.log(y_pred)\n",
    "\n",
    "    return -(1 / N0 * np.sum(y0 * p0) + 1 / N1 * np.sum(y1 * p1)) * 0.5\n"
   ]
  },
  {
   "cell_type": "code",
   "execution_count": 32,
   "metadata": {},
   "outputs": [],
   "source": [
    "def get_undersampling_fraction(y_true):\n",
    "    N0, N1 = np.bincount(y_true)\n",
    "    return 1 - N1 / N0\n",
    "\n",
    "\n",
    "def assert_balanced_learning(y_train, n_samples_tol=1):\n",
    "    N0, N1 = np.bincount(y_train)\n",
    "    assert np.isclose(N0, N1, atol=n_samples_tol)\n",
    "\n",
    "\n",
    "def get_sample_weights(y_true):\n",
    "    N0, N1 = np.bincount(y_true)\n",
    "    y0, y1 = np.unique(y_true)\n",
    "    w0 = (N0 + N1) / N0\n",
    "    w1 = (N0 + N1) / N1\n",
    "    return np.where(y_true == y1, w1, w0)\n",
    "\n",
    "\n",
    "def perform_postprocessing(\n",
    "    y_proba,\n",
    "    rounding=True,\n",
    "    rounding_prec=4,\n",
    "    boosting=True,\n",
    "    boosting_coef=0.8,\n",
    "    shifting=True,\n",
    "    shifting_map=None,\n",
    "):\n",
    "    def my_ceil(x, prec=rounding_prec):\n",
    "        return np.true_divide(np.ceil(x * 10**prec), 10**prec)\n",
    "\n",
    "    def my_floor(x, prec=rounding_prec):\n",
    "        return np.true_divide(np.floor(x * 10**prec), 10**prec)\n",
    "\n",
    "    proba = y_proba.copy()\n",
    "\n",
    "    if rounding:\n",
    "        proba = np.where(proba > 0.5, my_floor(proba), my_ceil(proba))\n",
    "\n",
    "    if boosting:\n",
    "        odds = boosting_coef * proba / (1 - proba)\n",
    "        proba = odds / (1 + odds)\n",
    "\n",
    "    if shifting:\n",
    "        if not shifting_map:\n",
    "            shifting_map = {\"low\": (0.01, 0.02), \"high\": (0.99, 0.98)}\n",
    "        low_shift_from, low_shift_to = shifting_map.get(\"low\", (0.01, 0.02))\n",
    "        high_shift_from, high_shift_to = shifting_map.get(\"high\", (0.99, 0.98))\n",
    "        proba[proba < low_shift_from] = low_shift_to\n",
    "        proba[proba > high_shift_from] = high_shift_to\n",
    "\n",
    "    return proba\n"
   ]
  },
  {
   "attachments": {},
   "cell_type": "markdown",
   "metadata": {},
   "source": [
    "# LEARNING CELL AND SUBMISSION"
   ]
  },
  {
   "cell_type": "code",
   "execution_count": 175,
   "metadata": {},
   "outputs": [],
   "source": [
    "n_bags = 20\n",
    "n_folds = 10\n",
    "\n",
    "np.random.seed(42)\n",
    "seeds = np.random.randint(0, 19937, size=n_bags)\n"
   ]
  },
  {
   "cell_type": "code",
   "execution_count": 169,
   "metadata": {},
   "outputs": [
    {
     "name": "stdout",
     "output_type": "stream",
     "text": [
      "Balanced Log Loss: 0.22364\n"
     ]
    }
   ],
   "source": [
    "from sklearn.ensemble import VotingClassifier\n",
    "\n",
    "\n",
    "X = train.drop(\"Class\", axis=1)\n",
    "y = train.Class\n",
    "\n",
    "undersampling_frac = get_undersampling_fraction(y)\n",
    "y_proba = np.zeros_like(y, dtype=np.float64)\n",
    "results = defaultdict(np.float64)\n",
    "classifiers = defaultdict(object)\n",
    "\n",
    "lgbm_params = {\n",
    "    \"max_depth\": 4,\n",
    "    \"num_leaves\": 9,\n",
    "    \"min_child_samples\": 17,\n",
    "    \"n_estimators\": 200,\n",
    "    \"learning_rate\": 0.15,\n",
    "    \"colsample_bytree\": 0.4,\n",
    "    \"min_split_gain\": 1e-4,\n",
    "    \"reg_alpha\": 1e-2,\n",
    "    \"reg_lambda\": 5e-3,\n",
    "}\n",
    "\n",
    "xgb_params = {\n",
    "    \"max_depth\": 2,\n",
    "    \"n_estimators\": 200,\n",
    "    \"learning_rate\": 0.4,\n",
    "    \"gamma\": 1e-4,\n",
    "    \"min_child_weight\": 0.1,\n",
    "    \"max_delta_step\": 0.35,\n",
    "    \"colsample_bytree\": 0.3,\n",
    "    \"colsample_bylevel\": 0.7,\n",
    "    \"reg_alpha\": 2e-3,\n",
    "    \"reg_lambda\": 6e-2,\n",
    "}\n",
    "\n",
    "svc_params = {\n",
    "    \"probability\": True,\n",
    "    \"C\": 3,\n",
    "}\n",
    "\n",
    "for bag, seed in enumerate(seeds):\n",
    "    skfold = StratifiedKFold(n_splits=n_folds, shuffle=True, random_state=seed)\n",
    "\n",
    "    for fold, (train_ids, valid_ids) in enumerate(skfold.split(X, y)):\n",
    "        y_train_full = y.iloc[train_ids]\n",
    "        to_undersample_ids = (\n",
    "            y_train_full[y_train_full == 0]\n",
    "            .sample(frac=undersampling_frac, random_state=seed)\n",
    "            .index.to_numpy()\n",
    "        )\n",
    "        # Skfold returns numbers, but `y` is a series with IDs, so we map them.\n",
    "        to_undersample_ids = [y.index.get_loc(idx) for idx in to_undersample_ids]\n",
    "        train_ids = np.setdiff1d(train_ids, to_undersample_ids)\n",
    "\n",
    "        X_train, y_train = X.iloc[train_ids], y.iloc[train_ids]\n",
    "        X_valid, y_valid = X.iloc[valid_ids], y.iloc[valid_ids]\n",
    "\n",
    "        assert_balanced_learning(y_train)\n",
    "\n",
    "        current_ensemble = make_pipeline(\n",
    "            semi_final_preprocess,\n",
    "            VotingClassifier(\n",
    "                [\n",
    "                    (\"lgbm\", LGBMClassifier(random_state=seed, **lgbm_params)),\n",
    "                    (\"xgb\", XGBClassifier(random_state=seed, **xgb_params)),\n",
    "                    (\"svc\", SVC(random_state=seed, **svc_params)),\n",
    "                ],\n",
    "                voting=\"soft\",\n",
    "                weights=(1, 1, 0.2),\n",
    "            ),\n",
    "        ).fit(X_train, y_train)\n",
    "\n",
    "        y_proba[valid_ids] += current_ensemble.predict_proba(X_valid)[:, 1]\n",
    "        classifiers[f\"Voting Bag: {bag} Fold: {fold}\"] = current_ensemble\n",
    "\n",
    "y_proba_rescaled = y_proba / n_bags\n",
    "print(\"Balanced Log Loss:\", f\"{balanced_log_loss(y, y_proba / n_bags):.5f}\")\n"
   ]
  },
  {
   "cell_type": "code",
   "execution_count": 68,
   "metadata": {},
   "outputs": [
    {
     "data": {
      "application/vnd.plotly.v1+json": {
       "config": {
        "plotlyServerURL": "https://plot.ly"
       },
       "data": [
        {
         "customdata": [
          [
           "007255e47698"
          ],
          [
           "013f2bd269f5"
          ],
          [
           "043ac50845d5"
          ],
          [
           "04517a3c90bd"
          ],
          [
           "049232ca8356"
          ],
          [
           "057287f2da6d"
          ],
          [
           "0594b00fb30a"
          ],
          [
           "05f2bc0155cd"
          ],
          [
           "06554e7b9979"
          ],
          [
           "068a4e4bbbab"
          ],
          [
           "075bd937ab85"
          ],
          [
           "07760b4cf3f8"
          ],
          [
           "094c0bd5ebe6"
          ],
          [
           "0aa059dad7f3"
          ],
          [
           "0b2cc0b0e6c5"
          ],
          [
           "0c3a256bcec7"
          ],
          [
           "0cdf781c81b9"
          ],
          [
           "0ce8b2aeeead"
          ],
          [
           "0cf19653f4c5"
          ],
          [
           "0cf6c827b8bb"
          ],
          [
           "0d1b855c7635"
          ],
          [
           "0d733722754b"
          ],
          [
           "0da59360d722"
          ],
          [
           "0db07bc343e3"
          ],
          [
           "0e17c8abe9b6"
          ],
          [
           "0e1f6a8eebab"
          ],
          [
           "0e705a0eddf6"
          ],
          [
           "0f9257f237b4"
          ],
          [
           "0fa0daef7ac0"
          ],
          [
           "10187958312d"
          ],
          [
           "1073082e7823"
          ],
          [
           "10aaf6adb652"
          ],
          [
           "10b874d01acd"
          ],
          [
           "1106df45b12e"
          ],
          [
           "124cd364aa2e"
          ],
          [
           "124eefa2ae00"
          ],
          [
           "128cc82dc5d6"
          ],
          [
           "12d002d52230"
          ],
          [
           "1319c3883fff"
          ],
          [
           "1337ba12ff02"
          ],
          [
           "135f1d1da85e"
          ],
          [
           "13ac854b5fe7"
          ],
          [
           "13c79963c34c"
          ],
          [
           "13ef6c55286a"
          ],
          [
           "1426f76716de"
          ],
          [
           "14713ec51d95"
          ],
          [
           "14a3f3cc04bd"
          ],
          [
           "152979207440"
          ],
          [
           "1540bbf8825b"
          ],
          [
           "157861ebc981"
          ],
          [
           "1591cd66c34e"
          ],
          [
           "15d85eea0e11"
          ],
          [
           "174ba5dc00b1"
          ],
          [
           "17d49f84524b"
          ],
          [
           "17d9a3a45da4"
          ],
          [
           "1899e6e0d7d9"
          ],
          [
           "18dd7c934463"
          ],
          [
           "1900828cbfc4"
          ],
          [
           "1919e4c3a7cc"
          ],
          [
           "19bf6e929506"
          ],
          [
           "19e4c52ea251"
          ],
          [
           "1a14973e1785"
          ],
          [
           "1a6d2336590f"
          ],
          [
           "1a954a747373"
          ],
          [
           "1a9fecf65695"
          ],
          [
           "1b31df9e8971"
          ],
          [
           "1c004f1d37be"
          ],
          [
           "1c612f931833"
          ],
          [
           "1e3c4189f04b"
          ],
          [
           "1e4b78cada73"
          ],
          [
           "1e5e59a7f331"
          ],
          [
           "1f829da7c6ed"
          ],
          [
           "20731b639de9"
          ],
          [
           "211b95ea8f90"
          ],
          [
           "21b3d18c0340"
          ],
          [
           "21d33a9fee44"
          ],
          [
           "23ab7ab965d5"
          ],
          [
           "2449608e49a9"
          ],
          [
           "2471b27e99fc"
          ],
          [
           "24dfe3da6769"
          ],
          [
           "271737344017"
          ],
          [
           "273efaff6f8a"
          ],
          [
           "27bfa971821f"
          ],
          [
           "284efb30decc"
          ],
          [
           "28ade6fa7bc3"
          ],
          [
           "2901ef1394b9"
          ],
          [
           "298989cc4e92"
          ],
          [
           "29cba3a7b8dc"
          ],
          [
           "2bb2902bd5e1"
          ],
          [
           "2bd50291b64d"
          ],
          [
           "2c495dfbaacf"
          ],
          [
           "2ca6bdf04280"
          ],
          [
           "2d5d2874b058"
          ],
          [
           "2d7ba928287d"
          ],
          [
           "2dc8b3d2980b"
          ],
          [
           "2e03488a03ca"
          ],
          [
           "2e4e80b95e24"
          ],
          [
           "2e637b444de7"
          ],
          [
           "2f020a35ce2b"
          ],
          [
           "2f1e32eac20e"
          ],
          [
           "2fd659800f75"
          ],
          [
           "30202b353d8a"
          ],
          [
           "3026974712cd"
          ],
          [
           "3101fca6b743"
          ],
          [
           "312661adb2ff"
          ],
          [
           "319f7e210021"
          ],
          [
           "321f58c2e5d1"
          ],
          [
           "324d6f4b6b37"
          ],
          [
           "332a3850302f"
          ],
          [
           "333bff494437"
          ],
          [
           "3493c79c8f35"
          ],
          [
           "34dc3190c6fb"
          ],
          [
           "34f10f630b68"
          ],
          [
           "3581cb92b427"
          ],
          [
           "36d298d32eb9"
          ],
          [
           "36f2fbc0a810"
          ],
          [
           "37342e4943f2"
          ],
          [
           "381e08d38c92"
          ],
          [
           "381ff0376cb0"
          ],
          [
           "38325b0c36e5"
          ],
          [
           "3840054e6aa5"
          ],
          [
           "386a027efe36"
          ],
          [
           "38c9a1f2eacf"
          ],
          [
           "3a73fce81608"
          ],
          [
           "3b280978a051"
          ],
          [
           "3b8959ffdfa9"
          ],
          [
           "3bf81aff9bd6"
          ],
          [
           "3c299fce6b56"
          ],
          [
           "3d4109150b32"
          ],
          [
           "3db179cf1a7d"
          ],
          [
           "3e610a5ff8d1"
          ],
          [
           "3eb3be63b62c"
          ],
          [
           "3f004b7190f3"
          ],
          [
           "3f367f9652ff"
          ],
          [
           "3fad66987cf9"
          ],
          [
           "407436e7ec52"
          ],
          [
           "40ffdee110b8"
          ],
          [
           "41475fa34ab3"
          ],
          [
           "41698cf1a1bd"
          ],
          [
           "41e9e3cec765"
          ],
          [
           "431c73b16f33"
          ],
          [
           "43365f867d38"
          ],
          [
           "434b3925094e"
          ],
          [
           "4376800c31fd"
          ],
          [
           "43eab2b837d1"
          ],
          [
           "4401d2485580"
          ],
          [
           "44c7768642a7"
          ],
          [
           "44e759955f6e"
          ],
          [
           "4537a9a3ecde"
          ],
          [
           "4572189340c4"
          ],
          [
           "457d8d386eb2"
          ],
          [
           "459c432b15ae"
          ],
          [
           "4652c8c5705c"
          ],
          [
           "4671650635ab"
          ],
          [
           "46a2c24d2624"
          ],
          [
           "46b876fc8933"
          ],
          [
           "470d18ff7777"
          ],
          [
           "47d8bacb43bb"
          ],
          [
           "48485c8c1ef7"
          ],
          [
           "48c64ab517c9"
          ],
          [
           "48f422645d0e"
          ],
          [
           "49e14acf8ffb"
          ],
          [
           "4a3d7459976a"
          ],
          [
           "4bc8f3ea493a"
          ],
          [
           "4c92a971cf91"
          ],
          [
           "4d4e63393080"
          ],
          [
           "4d54e3a957e6"
          ],
          [
           "4e6477903aa3"
          ],
          [
           "4e9059199e3d"
          ],
          [
           "4ec197e84caf"
          ],
          [
           "4f17ecd66363"
          ],
          [
           "4feabef01f7a"
          ],
          [
           "4fef9a973791"
          ],
          [
           "4ff6c37484ee"
          ],
          [
           "50183292c0e7"
          ],
          [
           "508bb5c5cf00"
          ],
          [
           "51111505c6f2"
          ],
          [
           "514d2ac4fdb5"
          ],
          [
           "51a5b926ab4d"
          ],
          [
           "528dd2afeb79"
          ],
          [
           "52acfa7cc2fc"
          ],
          [
           "53468141b7c9"
          ],
          [
           "535a9e672d18"
          ],
          [
           "55122c3c02a0"
          ],
          [
           "571a56646e47"
          ],
          [
           "58843604dcb5"
          ],
          [
           "58dcdd9d6e89"
          ],
          [
           "58e74efe7aa5"
          ],
          [
           "59bf633c1018"
          ],
          [
           "59bf79fac3fa"
          ],
          [
           "59bfbb4ad480"
          ],
          [
           "59eb23495fa7"
          ],
          [
           "5a87a6061488"
          ],
          [
           "5c03d177da66"
          ],
          [
           "5c522f58308c"
          ],
          [
           "5ce5f23fff0d"
          ],
          [
           "5d547eb551a9"
          ],
          [
           "5d8a1a0fb062"
          ],
          [
           "5dc5360a3fc8"
          ],
          [
           "5e27b0147126"
          ],
          [
           "5ee622a3e3be"
          ],
          [
           "5f20ad0ec630"
          ],
          [
           "60013ee40a0a"
          ],
          [
           "6002d5f39711"
          ],
          [
           "600c445d3351"
          ],
          [
           "60474d8ff770"
          ],
          [
           "6192b3e210ae"
          ],
          [
           "619aac34f423"
          ],
          [
           "61af8fde49eb"
          ],
          [
           "61e882a215f4"
          ],
          [
           "6204fd873dcd"
          ],
          [
           "62176aa5de57"
          ],
          [
           "6487b5140ab2"
          ],
          [
           "657d27cacf2b"
          ],
          [
           "658e0b2992bb"
          ],
          [
           "65c5772a4afa"
          ],
          [
           "65de682cc48c"
          ],
          [
           "661b3a326a9d"
          ],
          [
           "670b295eaa0f"
          ],
          [
           "67ba3c5d8baf"
          ],
          [
           "684d62aeae9e"
          ],
          [
           "6850ef5b0092"
          ],
          [
           "6860e7cbccad"
          ],
          [
           "68918798c769"
          ],
          [
           "68c35486588c"
          ],
          [
           "6955c8adcd36"
          ],
          [
           "69de76778344"
          ],
          [
           "69e627ec5d3e"
          ],
          [
           "6bf666677588"
          ],
          [
           "6c231f862f11"
          ],
          [
           "6c679dc63744"
          ],
          [
           "6c6db7987cd5"
          ],
          [
           "6ed97ed5defe"
          ],
          [
           "6ef1fe86ad00"
          ],
          [
           "7017fab77607"
          ],
          [
           "703c183d0c6c"
          ],
          [
           "70926a82d4e1"
          ],
          [
           "7180e4b7d21a"
          ],
          [
           "71f07ea5a770"
          ],
          [
           "73468ffe1cb5"
          ],
          [
           "7392d21fc103"
          ],
          [
           "7416fea10b6b"
          ],
          [
           "7429ed35535c"
          ],
          [
           "7530ec447c5d"
          ],
          [
           "778e1213d462"
          ],
          [
           "77ccceb44f4e"
          ],
          [
           "7800130b9140"
          ],
          [
           "7804b14ee22b"
          ],
          [
           "78f3ccd568c6"
          ],
          [
           "793d5c26bd0e"
          ],
          [
           "7a5c4b008308"
          ],
          [
           "7a705feced42"
          ],
          [
           "7b8cda4bc33e"
          ],
          [
           "7bcb9a31014b"
          ],
          [
           "7c02caf1b94f"
          ],
          [
           "7c21c57859d6"
          ],
          [
           "7c2df9f2fbe2"
          ],
          [
           "7cc870296984"
          ],
          [
           "7dd96a41647c"
          ],
          [
           "7e4d70590a71"
          ],
          [
           "7eb06d1c9234"
          ],
          [
           "7feabcc65b6b"
          ],
          [
           "800440b155b1"
          ],
          [
           "8006877fc82a"
          ],
          [
           "800c6b3239c6"
          ],
          [
           "80348b62c82e"
          ],
          [
           "80841417ca53"
          ],
          [
           "809087be105e"
          ],
          [
           "8093b3b92b28"
          ],
          [
           "80c47659c7c6"
          ],
          [
           "80ee5615ebdf"
          ],
          [
           "810ff5afd0e2"
          ],
          [
           "815cc64eb1cc"
          ],
          [
           "8266debd5234"
          ],
          [
           "8296caddae14"
          ],
          [
           "82c5014b0d57"
          ],
          [
           "8353e4690948"
          ],
          [
           "8408bf4d3d2f"
          ],
          [
           "8457871d9624"
          ],
          [
           "84c5b2d3eace"
          ],
          [
           "84efa38972ba"
          ],
          [
           "860833bfe713"
          ],
          [
           "8767b93c7948"
          ],
          [
           "87f6d81bb2f7"
          ],
          [
           "8856a9d8e2b4"
          ],
          [
           "88ceb24fa799"
          ],
          [
           "894a982c52c1"
          ],
          [
           "8a3cb69b2242"
          ],
          [
           "8a3e1acd2ff2"
          ],
          [
           "8ae3966cdb92"
          ],
          [
           "8b4dfe76ff44"
          ],
          [
           "8b7131974251"
          ],
          [
           "8b77f91fde3e"
          ],
          [
           "8b866016ac44"
          ],
          [
           "8b9d72eec14e"
          ],
          [
           "8ba2487388f2"
          ],
          [
           "8bb44f5c60a4"
          ],
          [
           "8c58bec30f78"
          ],
          [
           "8d0d4a6510bf"
          ],
          [
           "8d505de1fa59"
          ],
          [
           "8d7e1ef24fb8"
          ],
          [
           "8d7f231c9cb7"
          ],
          [
           "8e22648bf996"
          ],
          [
           "8e35c5943760"
          ],
          [
           "8e5a0d625d98"
          ],
          [
           "8eefb589a7aa"
          ],
          [
           "8f411ab61450"
          ],
          [
           "9025eee0ab7d"
          ],
          [
           "905a7dbaaf9a"
          ],
          [
           "91004fe0a0fd"
          ],
          [
           "91275f6ae0a2"
          ],
          [
           "913a3374da32"
          ],
          [
           "913b30965ae1"
          ],
          [
           "92b3778f624f"
          ],
          [
           "93205d43a401"
          ],
          [
           "948043d08210"
          ],
          [
           "948b3f28db47"
          ],
          [
           "948e868ba395"
          ],
          [
           "94f28a9c879b"
          ],
          [
           "968491b9238f"
          ],
          [
           "96ee4e851fbd"
          ],
          [
           "9708ba6b2fa2"
          ],
          [
           "975235e7d941"
          ],
          [
           "97b6c7088bc6"
          ],
          [
           "98944bb311a4"
          ],
          [
           "991587f97e45"
          ],
          [
           "9949a1749e2c"
          ],
          [
           "9a3ec17a57a0"
          ],
          [
           "9b25a5047a23"
          ],
          [
           "9b6aeb66b22a"
          ],
          [
           "9b9e6e21b830"
          ],
          [
           "9ba8bfa26e8a"
          ],
          [
           "9c0f8307a7ec"
          ],
          [
           "9c43f9559e4c"
          ],
          [
           "9c8d738c0272"
          ],
          [
           "9ce745fc98c4"
          ],
          [
           "9d19cb5327b5"
          ],
          [
           "9e725e00b348"
          ],
          [
           "9ee887ad93d5"
          ],
          [
           "9f10f72ca154"
          ],
          [
           "a02d41dc2cc4"
          ],
          [
           "a0693256491d"
          ],
          [
           "a20c68851e9b"
          ],
          [
           "a3493d6aca6e"
          ],
          [
           "a46b439e1eac"
          ],
          [
           "a4f476550c49"
          ],
          [
           "a5faa9a52bcb"
          ],
          [
           "a633a258eeed"
          ],
          [
           "a7b1c7b83f53"
          ],
          [
           "a904c19b5e22"
          ],
          [
           "aa54a308dbb4"
          ],
          [
           "aa6c6160804f"
          ],
          [
           "aa8185fbee33"
          ],
          [
           "aac8bafe74ef"
          ],
          [
           "ab39fd701211"
          ],
          [
           "ab4bc55cb79e"
          ],
          [
           "ac2074c4eeb5"
          ],
          [
           "acd97f3380e4"
          ],
          [
           "ad9a26b80957"
          ],
          [
           "adb67a0dd661"
          ],
          [
           "add78517b003"
          ],
          [
           "aee064d35f72"
          ],
          [
           "af0802c15f01"
          ],
          [
           "af1a304f3c89"
          ],
          [
           "af2c482fb8d7"
          ],
          [
           "afad421356e3"
          ],
          [
           "b002a6adb6be"
          ],
          [
           "b06b043e7abe"
          ],
          [
           "b1056bf99b86"
          ],
          [
           "b1080294e1f2"
          ],
          [
           "b10bae274dfc"
          ],
          [
           "b10f6f101138"
          ],
          [
           "b1143beb212d"
          ],
          [
           "b1195f8f1afa"
          ],
          [
           "b22ebf6851bb"
          ],
          [
           "b231b1b0962c"
          ],
          [
           "b2aec42acb00"
          ],
          [
           "b2b3ec04caf6"
          ],
          [
           "b301f38c110c"
          ],
          [
           "b358f0fdb95b"
          ],
          [
           "b3807c5f43e8"
          ],
          [
           "b4d611fab6c5"
          ],
          [
           "b5b51b3db693"
          ],
          [
           "b6efe1e60280"
          ],
          [
           "b74762c1d521"
          ],
          [
           "b85846bebd78"
          ],
          [
           "b874e25c20aa"
          ],
          [
           "b90c555e8c3c"
          ],
          [
           "b9e388b48268"
          ],
          [
           "ba0c42e12f1f"
          ],
          [
           "bbbb36522060"
          ],
          [
           "bbc27c1326a5"
          ],
          [
           "bcc36efe8096"
          ],
          [
           "bdd7b0f36488"
          ],
          [
           "be0d0e810303"
          ],
          [
           "bf12446bf394"
          ],
          [
           "bfcbf52e5449"
          ],
          [
           "c1ffde2da7d9"
          ],
          [
           "c214d487e2db"
          ],
          [
           "c25704512231"
          ],
          [
           "c38cbd7f61dd"
          ],
          [
           "c49cbf1cac11"
          ],
          [
           "c556791ceee9"
          ],
          [
           "c5e5456ccaa2"
          ],
          [
           "c5f4346394b9"
          ],
          [
           "c60e0e7b6ca1"
          ],
          [
           "c6c3a77ec885"
          ],
          [
           "c82e5a429e5b"
          ],
          [
           "c86be787cb28"
          ],
          [
           "c8a5264f7458"
          ],
          [
           "c90977976ffe"
          ],
          [
           "c9e8391da0ea"
          ],
          [
           "ca3ae6c8dede"
          ],
          [
           "ca4b0957e0c8"
          ],
          [
           "caff00fb82e2"
          ],
          [
           "cc42ed28ac3f"
          ],
          [
           "cc9f47d89979"
          ],
          [
           "ccd8b4b583df"
          ],
          [
           "cd5d5458c163"
          ],
          [
           "ce42176962b9"
          ],
          [
           "cf81f032b88e"
          ],
          [
           "d00b37ba63e7"
          ],
          [
           "d02c11462079"
          ],
          [
           "d061b54c6650"
          ],
          [
           "d0b72acaecdd"
          ],
          [
           "d10976c44b2b"
          ],
          [
           "d1f14dbe348c"
          ],
          [
           "d1fa22631c9c"
          ],
          [
           "d2910aee04cd"
          ],
          [
           "d2960230a353"
          ],
          [
           "d2dd462f90b5"
          ],
          [
           "d32f445d4d75"
          ],
          [
           "d35148a64ca9"
          ],
          [
           "d3d8c9d232f1"
          ],
          [
           "d42783629bbc"
          ],
          [
           "d44d3320d240"
          ],
          [
           "d5463b93905d"
          ],
          [
           "d7353855bf36"
          ],
          [
           "d75aafac1e86"
          ],
          [
           "d7dbf59b37f9"
          ],
          [
           "d7f01114e6db"
          ],
          [
           "d9d5fdfa030c"
          ],
          [
           "da68b4918818"
          ],
          [
           "da6c7e4e124d"
          ],
          [
           "dbf5f8b82b43"
          ],
          [
           "dc9b175cbf1e"
          ],
          [
           "dd3515028d71"
          ],
          [
           "dd65e067165c"
          ],
          [
           "dd8bcfab8df9"
          ],
          [
           "df956c379776"
          ],
          [
           "e00086407736"
          ],
          [
           "e0bf5a4a77d2"
          ],
          [
           "e0f325c4df28"
          ],
          [
           "e15ae7d5194f"
          ],
          [
           "e18129dade8f"
          ],
          [
           "e235af39779b"
          ],
          [
           "e2ef2a51ed65"
          ],
          [
           "e42344ea440c"
          ],
          [
           "e4ba2e28e184"
          ],
          [
           "e6aa6fa49abd"
          ],
          [
           "e70889ea6013"
          ],
          [
           "e70b5934b571"
          ],
          [
           "e7bedc8fb9a5"
          ],
          [
           "e8c119eb3e16"
          ],
          [
           "e8dde9331551"
          ],
          [
           "e9417cc82b93"
          ],
          [
           "e999bb1c01d7"
          ],
          [
           "e9c343dc7736"
          ],
          [
           "e9d084428900"
          ],
          [
           "ea50b3c5bd63"
          ],
          [
           "eada36b0bf31"
          ],
          [
           "eb9c2a590373"
          ],
          [
           "ecf1ac3d6dfc"
          ],
          [
           "ed4a24c7ec54"
          ],
          [
           "ee48d4f9dc81"
          ],
          [
           "efcba7fac353"
          ],
          [
           "f003d68995be"
          ],
          [
           "f03b541de10c"
          ],
          [
           "f0d7d98bfe21"
          ],
          [
           "f12d8570682a"
          ],
          [
           "f13b1485ba1f"
          ],
          [
           "f1a68746ca6e"
          ],
          [
           "f206becd4ffd"
          ],
          [
           "f3eb9ac222f9"
          ],
          [
           "f3f2071d2453"
          ],
          [
           "f404680da866"
          ],
          [
           "f44978084805"
          ],
          [
           "f46e39a96ee9"
          ],
          [
           "f56e7620836e"
          ],
          [
           "f62ef7cc0a22"
          ],
          [
           "f71ef203fae7"
          ],
          [
           "f7a862a414de"
          ],
          [
           "f82b07dfd7fb"
          ],
          [
           "f8eb43047d69"
          ],
          [
           "f944d35cb6c4"
          ],
          [
           "f955c0ed8895"
          ],
          [
           "f96e7ca4a16c"
          ],
          [
           "f9a7ea889307"
          ],
          [
           "fb27f6e58eaa"
          ],
          [
           "fb7584f887fd"
          ],
          [
           "fb786fb02a65"
          ],
          [
           "fbc241daef00"
          ],
          [
           "fbd12c4ae88b"
          ],
          [
           "fd1dd68d51b4"
          ],
          [
           "fd3dafe738fd"
          ],
          [
           "fd895603f071"
          ],
          [
           "fd8ef6377f76"
          ],
          [
           "fe1942975e40"
          ],
          [
           "ffcca4ded3bb"
          ]
         ],
         "hovertemplate": "Class=0<br>Positive Class Probability=%{x}<br>Sample Integer Index=%{y}<br>Id=%{customdata[0]}<extra></extra>",
         "legendgroup": "0",
         "marker": {
          "color": "#010D36",
          "opacity": 0.6,
          "size": 6,
          "symbol": "diamond"
         },
         "mode": "markers",
         "name": "0",
         "orientation": "v",
         "showlegend": true,
         "type": "scatter",
         "x": [
          0.01722162185920203,
          0.47584634393728437,
          0.14006706533180066,
          0.012143435985509318,
          0.09758327037952604,
          0.042497910756145035,
          0.06728240315628924,
          0.015146387996087533,
          0.3233316711865695,
          0.37643340641126033,
          0.3151523049499491,
          0.6049636681255381,
          0.060620502837695045,
          0.1878516701056777,
          0.23026078198624894,
          0.08387764581910724,
          0.19698280211488647,
          0.21830281029480778,
          0.047030173409925824,
          0.027850238606921363,
          0.3881580887848618,
          0.2089236642832752,
          0.56493265847582,
          0.004275651324974334,
          0.0779062662940635,
          0.5937512470766995,
          0.12572527355419205,
          0.12391288331388568,
          0.11284666360637334,
          0.0890053548839829,
          0.013828925745068754,
          0.020317613827765042,
          0.34551420130216925,
          0.030202710530614286,
          0.01596416164643146,
          0.021181950323329667,
          0.098368237771278,
          0.45818972004337705,
          0.0655335352417702,
          0.006090412811842102,
          0.08786773505516755,
          0.014822106015739476,
          0.6883151786812254,
          0.5302192818451702,
          0.06923444511169777,
          0.03529648841368989,
          0.2960360698319889,
          0.2143615108763571,
          0.03860901989270049,
          0.33007799876089966,
          0.008362267147379001,
          0.022635605349707634,
          0.3265624326094895,
          0.2192595040599811,
          0.19952441027585638,
          0.028501278663967067,
          0.05842307977712639,
          0.30457020525928735,
          0.7401526307476205,
          0.07567054472887516,
          0.07572575585302851,
          0.1748279454081978,
          0.15166438128895243,
          0.08794099846894264,
          0.21250952403183523,
          0.03031099385468407,
          0.039743125222224666,
          0.3125351618885507,
          0.12057174397257145,
          0.045009717961024556,
          0.06445819666624351,
          0.2033368529033392,
          0.0031794073216946314,
          0.03341809468294948,
          0.05094291412719874,
          0.09080254043912456,
          0.005858253537919479,
          0.01687566181163808,
          0.3935592454091977,
          0.021422789829809153,
          0.20150645097056677,
          0.043158628440295464,
          0.030811722879051616,
          0.02960413614174946,
          0.4489460563814518,
          0.9539921270946625,
          0.020583011639803948,
          0.20757625370383653,
          0.1237350735062032,
          0.015834578427642305,
          0.262825166820048,
          0.025259329687596227,
          0.10973170944118762,
          0.13694564383041474,
          0.08426967204360372,
          0.20998400647617518,
          0.019760187148342875,
          0.38556089491837975,
          0.05380633354666584,
          0.02047333331988181,
          0.08892407987963694,
          0.18207485331619033,
          0.5654622156857684,
          0.06213900968633527,
          0.4848873771712506,
          0.10424580305308113,
          0.07129069534477059,
          0.0845215145332014,
          0.1328051190817798,
          0.220286299974869,
          0.09005706115640784,
          0.25605786017137555,
          0.029573114245623318,
          0.07783051172580077,
          0.12624869959364587,
          0.095443132857673,
          0.452097579594371,
          0.07705076099528946,
          0.21168481869891762,
          0.04701550065016373,
          0.10208422579110399,
          0.5219614550728284,
          0.014520402037323235,
          0.1472398289135314,
          0.5190719590634493,
          0.0721880263934926,
          0.025985342846465642,
          0.018863192477418918,
          0.12669070008104671,
          0.0052983407717505804,
          0.26431001127003023,
          0.000930959125020884,
          0.8989800177617824,
          0.16346141997678637,
          0.1202731858486475,
          0.062461365762942346,
          0.01586342806105757,
          0.019577070414046195,
          0.6233600595744951,
          0.5301316904585965,
          0.006841503531203455,
          0.4909311805007478,
          0.46636773288515904,
          0.1568560962456466,
          0.12038964873708595,
          0.35845895158256846,
          0.019377369736476056,
          0.007728374377152046,
          0.36213540055006577,
          0.38471202105352725,
          0.254493802115456,
          0.024483988053371212,
          0.02770609095656144,
          0.5126146189146675,
          0.23604477600723217,
          0.23710037073898332,
          0.020482284802709687,
          0.011126701966509788,
          0.7851054621318322,
          0.40654282112997386,
          0.1398765278542357,
          0.8730404325445213,
          0.7401593706300593,
          0.2893637396157015,
          0.18347976617974146,
          0.07375075754697992,
          0.2770309550778608,
          0.0508942967412672,
          0.031605310120206405,
          0.44455274217223495,
          0.7532223542493435,
          0.03470067187234159,
          0.11035826263839058,
          0.060092648582360055,
          0.4266527941902193,
          0.05837797201230307,
          0.2609760216841184,
          0.02608817280342333,
          0.06449074110111766,
          0.09445938074357103,
          0.009653521822142307,
          0.04486692503462004,
          0.2558165704755055,
          0.15015790828554537,
          0.7977976565116544,
          0.061307493323355125,
          0.40507665054212627,
          0.25352500162193214,
          0.058192620753877065,
          0.0028081904287087234,
          0.49643187055395827,
          0.2840790176821807,
          0.05107929742548676,
          0.06983119718921246,
          0.055026194198265356,
          0.039300244244852074,
          0.6990864695420538,
          0.17962649491884736,
          0.11539283848882213,
          0.2198944948523899,
          0.2966440845965251,
          0.055864446197759224,
          0.024986399478955416,
          0.21662962329553664,
          0.12945762833762953,
          0.6919590864315665,
          0.009382647018626598,
          0.25104123590731725,
          0.11528507390192586,
          0.16664984640996272,
          0.09675217333303157,
          0.02013184893269909,
          0.018179246373932634,
          0.38328859778983015,
          0.0757011999036859,
          0.01844951601168156,
          0.009607232080871437,
          0.13671487196624094,
          0.02947902368391179,
          0.19064447223588898,
          0.2283902239250184,
          0.13571151658096764,
          0.07857446767054997,
          0.025312977635745887,
          0.003827340518257181,
          0.027209618377355964,
          0.22884437375380462,
          0.1108577508883962,
          0.669525272590652,
          0.5185150656669643,
          0.14926829127855396,
          0.19648211547720423,
          0.714334111158301,
          0.07856544868762491,
          0.0916649245885419,
          0.25539478888297673,
          0.04146890296900752,
          0.07301564951884168,
          0.2365874147888402,
          0.06138656663411716,
          0.056451853387652476,
          0.8695063308612608,
          0.023786294999008157,
          0.7395399360474741,
          0.013663648596478959,
          0.14682088287896686,
          0.05899039359941066,
          0.31473293917556383,
          0.05113314858057415,
          0.11033624356376062,
          0.043471961215627714,
          0.07796635044515235,
          0.3381404515962477,
          0.060905289335503134,
          0.4640178089087777,
          0.14697819539295898,
          0.007343936502964231,
          0.2399780625448788,
          0.3179526502308031,
          0.0694402117854903,
          0.10625375601785955,
          0.00586731912613964,
          0.27335194508699073,
          0.512858138513612,
          0.3210294939445335,
          0.6035018008875329,
          0.3457537382922674,
          0.23533821696873644,
          0.19862408177381694,
          0.001909665550810243,
          0.049964867025452525,
          0.5933271734173059,
          0.21548368449424293,
          0.017933297498784112,
          0.10108399705763367,
          0.08365773791004211,
          0.26548379701636166,
          0.6468974946456856,
          0.3541572470944357,
          0.06940279327343304,
          0.18626464876837817,
          0.047409463266898925,
          0.07804066668033474,
          0.21123876008824288,
          0.09818140609674926,
          0.19616806425886224,
          0.06370183396262039,
          0.24759625502492616,
          0.035035359810385254,
          0.023751263068077996,
          0.5075527838329419,
          0.5622412651475797,
          0.17412825412350547,
          0.11542044687955352,
          0.8245056489972249,
          0.15655192084201666,
          0.050931826874987075,
          0.8344852439295825,
          0.13885787858709436,
          0.21066079913410468,
          0.22981262374843703,
          0.017431031229986436,
          0.2573872421128554,
          0.07399114793963392,
          0.3154687157225814,
          0.10123885879728405,
          0.02036229737854204,
          0.8972236427505582,
          0.08289135922945726,
          0.338677534139978,
          0.2248078677149512,
          0.11970730533964487,
          0.21756489097350448,
          0.16150196176457082,
          0.5467348899378316,
          0.07101923204515226,
          0.07518117067418634,
          0.1654978238322894,
          0.03139880470982386,
          0.5622604730923328,
          0.8339357696680791,
          0.8061374809354888,
          0.47593614826909303,
          0.6121313499553233,
          0.09829474086153953,
          0.7649440657056077,
          0.0489352094084069,
          0.10229408374154791,
          0.54061457409736,
          0.11881996460661384,
          0.031790335635607805,
          0.06981189968210463,
          0.5677359546737227,
          0.18362537855770164,
          0.38515045931853,
          0.07313789249586145,
          0.07401153825776183,
          0.05781367129089866,
          0.045397128978691824,
          0.24146173548016464,
          0.3459177927736067,
          0.009196706295941149,
          0.14404644253412752,
          0.10575967065860252,
          0.13450662329019186,
          0.07212072825795068,
          0.4066282699713491,
          0.005924844619653831,
          0.17581643730440547,
          0.1320141467655967,
          0.3996758472972758,
          0.4145407176132645,
          0.08154887837173705,
          0.049203922502805704,
          0.05613314221036068,
          0.010141889613320066,
          0.0633211921775394,
          0.55807760677854,
          0.04933607186377301,
          0.03621449573964021,
          0.4771843311989902,
          0.02041627964702564,
          0.31728499566919255,
          0.04678401371819902,
          0.025385245614167808,
          0.004249043761859076,
          0.39100732862665377,
          0.16159734654638117,
          0.3633940280599227,
          0.10569250679123272,
          0.16848828310355327,
          0.3116897900706103,
          0.07865612934496592,
          0.18924287592047867,
          0.12497124025228881,
          0.015027027367759752,
          0.31038353818422293,
          0.03815867516241275,
          0.6797565887534333,
          0.639046601115965,
          0.7809012203119725,
          0.060073736859247884,
          0.11881818966249655,
          0.7738632023873406,
          0.015173124294544909,
          0.06606960696588451,
          0.023300802252153172,
          0.421970646285357,
          0.7548575771392401,
          0.23074285365769068,
          0.014957547950410894,
          0.07558199593111212,
          0.35238233076081654,
          0.09467227337567148,
          0.19675930212888687,
          0.1308614624155153,
          0.006350116411710788,
          0.010368138769009359,
          0.2996611974002515,
          0.33441234392016866,
          0.16817172618596357,
          0.5783121377476681,
          0.3989374773069527,
          0.07088017913564346,
          0.5186657542985272,
          0.08051082408425358,
          0.15905312780566533,
          0.10071061635950025,
          0.283601600001666,
          0.09532503565913109,
          0.4406573587831188,
          0.0074774448640518975,
          0.24498510143030677,
          0.015529956677269502,
          0.7628405584134301,
          0.12985918428934168,
          0.0555292920937027,
          0.3669153500358381,
          0.14606631948630705,
          0.012498305102778186,
          0.03615638101471796,
          0.12867538379394092,
          0.3124666586895952,
          0.19370111678218566,
          0.024592898857717687,
          0.0347510303172898,
          0.11325400018373337,
          0.07502692935854707,
          0.7153747529230496,
          0.05571578135750549,
          0.6490299906714232,
          0.12992232412765242,
          0.26027406038537226,
          0.5070056942309924,
          0.06855956629204327,
          0.11173981888037295,
          0.180937505542946,
          0.14581322128072488,
          0.030519260568621677,
          0.18583584006765977,
          0.02017085912230783,
          0.33742467861393327,
          0.23186081326351654,
          0.027985956183754657,
          0.04149379116685955,
          0.11617014153695829,
          0.17748828236984002,
          0.009018908121648074,
          0.06021673978687564,
          0.08511922911618672,
          0.09162707856745506,
          0.00886617324836699,
          0.014251468195848164,
          0.006763691534877873,
          0.7358784139175982,
          0.027070203913481843,
          0.6917724158775067,
          0.024522649706315788,
          0.025022118268164317,
          0.036944884335885254,
          0.022944061959779726,
          0.09943406842172094,
          0.15915926514856363,
          0.012587709026720508,
          0.26515087789329933,
          0.10290066088814505,
          0.053469334172598484,
          0.05003488246499867,
          0.08267305402677295,
          0.01718984438836525,
          0.06379611129503214,
          0.09876837773679523,
          0.35506115021186596,
          0.23766623466264503,
          0.057885723930507005,
          0.17881950542894443,
          0.6196317562604496,
          0.421186099051771,
          0.3166090905060347,
          0.07621114409328351,
          0.11031086186901143,
          0.8847497371731496,
          0.10911876027474321,
          0.2333267013488925,
          0.10408199308559385,
          0.016242918780508753,
          0.39852883506056885,
          0.024240282186237725,
          0.06596759508782568,
          0.19329254203485052,
          0.15896265003941107,
          0.1315309693506857,
          0.027244434730796147,
          0.28381184503276174,
          0.09687570888902225,
          0.5200708141274488,
          0.3853695910507141,
          0.07015190632374835,
          0.0637795078535427,
          0.1995120002601391,
          0.0829094789621744,
          0.08360199854718064,
          0.2539629155928842,
          0.01209026379797854,
          0.2858870898743882,
          0.4729259476003603,
          0.39473203859568057,
          0.24738152279701014,
          0.1649175915220039
         ],
         "xaxis": "x",
         "y": [
          1,
          2,
          3,
          5,
          6,
          7,
          8,
          9,
          11,
          12,
          14,
          15,
          16,
          17,
          18,
          19,
          20,
          21,
          22,
          23,
          24,
          25,
          26,
          27,
          28,
          29,
          30,
          33,
          34,
          35,
          37,
          38,
          39,
          40,
          42,
          43,
          44,
          45,
          46,
          47,
          48,
          50,
          51,
          52,
          53,
          54,
          55,
          56,
          57,
          58,
          59,
          60,
          61,
          62,
          63,
          64,
          65,
          66,
          67,
          68,
          69,
          70,
          71,
          72,
          73,
          74,
          77,
          78,
          80,
          81,
          82,
          83,
          84,
          85,
          86,
          87,
          89,
          90,
          92,
          94,
          97,
          98,
          99,
          100,
          101,
          102,
          103,
          104,
          105,
          106,
          107,
          108,
          110,
          111,
          112,
          113,
          114,
          115,
          116,
          117,
          119,
          120,
          121,
          122,
          123,
          124,
          125,
          126,
          128,
          129,
          130,
          132,
          133,
          135,
          136,
          137,
          138,
          139,
          140,
          141,
          142,
          143,
          144,
          147,
          148,
          149,
          151,
          152,
          153,
          154,
          156,
          157,
          158,
          159,
          161,
          163,
          164,
          166,
          167,
          168,
          169,
          170,
          171,
          172,
          173,
          174,
          175,
          176,
          177,
          178,
          179,
          180,
          182,
          183,
          184,
          185,
          187,
          188,
          190,
          191,
          192,
          194,
          195,
          196,
          197,
          198,
          199,
          200,
          201,
          202,
          203,
          204,
          205,
          206,
          207,
          208,
          209,
          210,
          211,
          212,
          213,
          214,
          215,
          216,
          217,
          219,
          220,
          221,
          222,
          223,
          224,
          225,
          226,
          227,
          228,
          230,
          231,
          233,
          234,
          235,
          236,
          237,
          239,
          240,
          241,
          242,
          243,
          244,
          245,
          246,
          247,
          248,
          250,
          251,
          252,
          253,
          254,
          255,
          257,
          260,
          263,
          264,
          266,
          269,
          270,
          271,
          272,
          273,
          276,
          277,
          278,
          279,
          280,
          281,
          283,
          284,
          285,
          286,
          287,
          289,
          291,
          292,
          293,
          295,
          296,
          297,
          298,
          299,
          302,
          303,
          305,
          306,
          308,
          309,
          310,
          311,
          312,
          314,
          315,
          316,
          317,
          319,
          320,
          321,
          322,
          323,
          325,
          326,
          327,
          328,
          329,
          331,
          332,
          333,
          334,
          335,
          336,
          337,
          338,
          339,
          340,
          341,
          342,
          343,
          345,
          346,
          347,
          349,
          350,
          351,
          352,
          353,
          354,
          355,
          356,
          358,
          359,
          360,
          361,
          362,
          363,
          364,
          365,
          366,
          367,
          369,
          370,
          372,
          373,
          374,
          375,
          376,
          377,
          379,
          380,
          381,
          382,
          383,
          384,
          385,
          386,
          388,
          389,
          390,
          392,
          393,
          394,
          395,
          396,
          397,
          398,
          399,
          400,
          401,
          402,
          403,
          404,
          405,
          407,
          409,
          410,
          411,
          414,
          416,
          417,
          418,
          419,
          420,
          422,
          424,
          426,
          427,
          428,
          429,
          430,
          431,
          432,
          435,
          437,
          438,
          439,
          440,
          441,
          442,
          443,
          444,
          445,
          446,
          447,
          448,
          449,
          450,
          451,
          452,
          453,
          454,
          455,
          456,
          457,
          458,
          459,
          460,
          461,
          462,
          463,
          464,
          465,
          466,
          468,
          469,
          472,
          473,
          474,
          475,
          476,
          477,
          478,
          480,
          481,
          482,
          483,
          484,
          485,
          488,
          489,
          491,
          492,
          495,
          496,
          497,
          498,
          499,
          501,
          502,
          503,
          504,
          505,
          506,
          507,
          508,
          510,
          512,
          513,
          514,
          515,
          517,
          519,
          520,
          521,
          522,
          523,
          524,
          525,
          527,
          528,
          529,
          531,
          532,
          533,
          534,
          535,
          537,
          539,
          540,
          541,
          542,
          543,
          544,
          545,
          547,
          549,
          550,
          551,
          552,
          553,
          554,
          556,
          557,
          558,
          560,
          561,
          562,
          565,
          566,
          567,
          568,
          569,
          570,
          571,
          572,
          573,
          574,
          575,
          577,
          578,
          579,
          580,
          581,
          582,
          583,
          584,
          586,
          587,
          589,
          590,
          591,
          593,
          594,
          595,
          596,
          597,
          598,
          599,
          600,
          601,
          602,
          603,
          604,
          605,
          606,
          607,
          609,
          610,
          611,
          612,
          613,
          614,
          615,
          616
         ],
         "yaxis": "y"
        },
        {
         "customdata": [
          [
           "000ff2bfdfe9"
          ],
          [
           "044fb8a146ec"
          ],
          [
           "06055f3f6785"
          ],
          [
           "06c0ddf265c5"
          ],
          [
           "0e798fd4e6e7"
          ],
          [
           "0f5fba133cb7"
          ],
          [
           "103f611fdfc4"
          ],
          [
           "1136a2966ed2"
          ],
          [
           "1360fac6a227"
          ],
          [
           "1bac22586f27"
          ],
          [
           "1bcdc1af3458"
          ],
          [
           "1ce075e25399"
          ],
          [
           "228524bde6a3"
          ],
          [
           "245a3f44cfc0"
          ],
          [
           "24b40510d6a2"
          ],
          [
           "2508534155a6"
          ],
          [
           "26c79809c5ea"
          ],
          [
           "2cddd2d70d72"
          ],
          [
           "2f4e5de3de9c"
          ],
          [
           "32c1d5bdae8d"
          ],
          [
           "34a025893d36"
          ],
          [
           "355bdddccdbd"
          ],
          [
           "3924089e4396"
          ],
          [
           "3a288ec2811f"
          ],
          [
           "3bbe922b2cdb"
          ],
          [
           "3e2d6dca77ec"
          ],
          [
           "3f4bfe72745d"
          ],
          [
           "401ca61716e4"
          ],
          [
           "41216f6cee66"
          ],
          [
           "463035913640"
          ],
          [
           "46fe2d3b9e7b"
          ],
          [
           "47e4c756d4a6"
          ],
          [
           "49b8f248a42f"
          ],
          [
           "582ef2696f72"
          ],
          [
           "5c63c7b71282"
          ],
          [
           "5d694ba9aa16"
          ],
          [
           "5fe47095520d"
          ],
          [
           "6468478fce4c"
          ],
          [
           "667b389f278d"
          ],
          [
           "67122d4bce03"
          ],
          [
           "679465bb38ba"
          ],
          [
           "67c8bfe99f1c"
          ],
          [
           "67d932a88814"
          ],
          [
           "68597a95792d"
          ],
          [
           "68729b79859b"
          ],
          [
           "687ebf4e5d7d"
          ],
          [
           "6a2fa7569189"
          ],
          [
           "6ab2d09883de"
          ],
          [
           "6f5908450956"
          ],
          [
           "72ee3bca17f6"
          ],
          [
           "73483f848b67"
          ],
          [
           "7445f4eac4de"
          ],
          [
           "7830dec4b764"
          ],
          [
           "785a0d3c4c41"
          ],
          [
           "79b44ed25c29"
          ],
          [
           "7af31043202c"
          ],
          [
           "7cb9a95a62fc"
          ],
          [
           "7f6d8841c044"
          ],
          [
           "8065efe77fab"
          ],
          [
           "81015c6c3404"
          ],
          [
           "8803ec4462c1"
          ],
          [
           "89a5ed9b71a8"
          ],
          [
           "8ba157c016ba"
          ],
          [
           "8ead0a51d11c"
          ],
          [
           "8f5b7d4621da"
          ],
          [
           "9230d1831db3"
          ],
          [
           "96fbcce4f0c0"
          ],
          [
           "98102929d244"
          ],
          [
           "9ed6b861e9f7"
          ],
          [
           "9ef1886b810c"
          ],
          [
           "a082f422799b"
          ],
          [
           "a20ba8577583"
          ],
          [
           "a22a15853970"
          ],
          [
           "a795db8ca395"
          ],
          [
           "a7d4dd890a1b"
          ],
          [
           "a92580fda1c3"
          ],
          [
           "ac38de805eff"
          ],
          [
           "acc1f36dca1c"
          ],
          [
           "ad8e95777bf2"
          ],
          [
           "b9856a5d8f13"
          ],
          [
           "ba4443b0170c"
          ],
          [
           "bbb1066a9afd"
          ],
          [
           "c08f5a77f267"
          ],
          [
           "c5c8ffd0c908"
          ],
          [
           "c5cc9b3fa0b9"
          ],
          [
           "c5f4dc4ae7fb"
          ],
          [
           "c7f5064f4265"
          ],
          [
           "c809ac237df8"
          ],
          [
           "c9f71bcf8be0"
          ],
          [
           "cf5439add02c"
          ],
          [
           "cf84868cd1ce"
          ],
          [
           "d0ecfae80796"
          ],
          [
           "d1a9f56adc4a"
          ],
          [
           "d3ce7974230c"
          ],
          [
           "d482356ae08f"
          ],
          [
           "d8dae19a0df0"
          ],
          [
           "da1a5aec1818"
          ],
          [
           "deaf77f02382"
          ],
          [
           "dfa4ccdd5f4a"
          ],
          [
           "e253dc2f97c0"
          ],
          [
           "e52a2f7ad6a5"
          ],
          [
           "e76aa8f0f2e7"
          ],
          [
           "e7a607afea3d"
          ],
          [
           "ed3486389307"
          ],
          [
           "f16b095a433f"
          ],
          [
           "f26ee0cee841"
          ],
          [
           "f405c0b5836f"
          ],
          [
           "fbb79ba9d642"
          ]
         ],
         "hovertemplate": "Class=1<br>Positive Class Probability=%{x}<br>Sample Integer Index=%{y}<br>Id=%{customdata[0]}<extra></extra>",
         "legendgroup": "1",
         "marker": {
          "color": "#FF2079",
          "opacity": 0.6,
          "size": 6,
          "symbol": "circle"
         },
         "mode": "markers",
         "name": "1",
         "orientation": "v",
         "showlegend": true,
         "type": "scatter",
         "x": [
          0.7911206766950286,
          0.8073658483392954,
          0.7627391653625836,
          0.942267589082743,
          0.5206489565838507,
          0.886370588039385,
          0.6922879096400696,
          0.981225053001561,
          0.9427948910653257,
          0.5855821154213616,
          0.9321834996665761,
          0.9084985590416045,
          0.7496886318859259,
          0.7222073877123405,
          0.6832939180627964,
          0.6680572205648192,
          0.5913784175697557,
          0.9197314702231836,
          0.9555185454877033,
          0.8857627691295484,
          0.9745632680482336,
          0.8983648154501678,
          0.3307712009653381,
          0.816019669927055,
          0.9082851499818789,
          0.7704689031875034,
          0.9435400489342932,
          0.9157467981355613,
          0.9649414758654359,
          0.6875588882366557,
          0.5978620403450731,
          0.9261702360445986,
          0.6350866517813128,
          0.7795720735197247,
          0.899888414659833,
          0.7990119875986202,
          0.7279329209877023,
          0.9427578151323889,
          0.9561483064649128,
          0.9722402200565623,
          0.991831054071666,
          0.9208188825826402,
          0.8621927152936906,
          0.9259229057642363,
          0.046724315902300466,
          0.8866794528861881,
          0.8452509140816865,
          0.6772100752299648,
          0.937547853585875,
          0.9247543390292335,
          0.9135475713032658,
          0.4067636711364561,
          0.8706193600798798,
          0.8190188233614387,
          0.8637594338289276,
          0.739788286631901,
          0.14310173656248515,
          0.4319235907057262,
          0.9783554887638164,
          0.8873481571398584,
          0.5510771860307794,
          0.8741285095174127,
          0.9813431716814429,
          0.9663937298065882,
          0.9253139990224275,
          0.7761609170763925,
          0.9102515625180121,
          0.49567149016853157,
          0.9615093326977032,
          0.7985834742620319,
          0.9553656299619707,
          0.6400980478793146,
          0.8819749153369173,
          0.4473198941121339,
          0.9857542584730732,
          0.956924639415514,
          0.9033750460727432,
          0.5084521679309697,
          0.8617536265099004,
          0.6399323334022202,
          0.9593881790998756,
          0.7590689991212336,
          0.6729694428751888,
          0.8514603767113238,
          0.9213780855849633,
          0.8185264889487905,
          0.9564729719888627,
          0.9873936798930311,
          0.5252505407476792,
          0.002944240998360186,
          0.9842856822709425,
          0.8673265716096956,
          0.9945360794865923,
          0.9358845317852424,
          0.9840622466550725,
          0.9878587621472372,
          0.804954774334495,
          0.9777498679131114,
          0.8934576283597631,
          0.9704950622791977,
          0.9134601532197884,
          0.9560035448276623,
          0.9260394223573236,
          0.7563735255291361,
          0.9375688470031569,
          0.9842224745429302,
          0.6151669426155186,
          0.8034585767949107
         ],
         "xaxis": "x",
         "y": [
          0,
          4,
          10,
          13,
          31,
          32,
          36,
          41,
          49,
          75,
          76,
          79,
          88,
          91,
          93,
          95,
          96,
          109,
          118,
          127,
          131,
          134,
          145,
          146,
          150,
          155,
          160,
          162,
          165,
          181,
          186,
          189,
          193,
          218,
          229,
          232,
          238,
          249,
          256,
          258,
          259,
          261,
          262,
          265,
          267,
          268,
          274,
          275,
          282,
          288,
          290,
          294,
          300,
          301,
          304,
          307,
          313,
          318,
          324,
          330,
          344,
          348,
          357,
          368,
          371,
          378,
          387,
          391,
          406,
          408,
          412,
          413,
          415,
          421,
          423,
          425,
          433,
          434,
          436,
          467,
          470,
          471,
          479,
          486,
          487,
          490,
          493,
          494,
          500,
          509,
          511,
          516,
          518,
          526,
          530,
          536,
          538,
          546,
          548,
          555,
          559,
          563,
          564,
          576,
          585,
          588,
          592,
          608
         ],
         "yaxis": "y"
        }
       ],
       "layout": {
        "font": {
         "color": "#010D36"
        },
        "height": 540,
        "legend": {
         "itemsizing": "constant",
         "orientation": "h",
         "title": {
          "text": "Class"
         },
         "tracegroupgap": 0,
         "x": 1,
         "xanchor": "right",
         "y": 1.05,
         "yanchor": "bottom"
        },
        "paper_bgcolor": "#F6F5F5",
        "plot_bgcolor": "#F6F5F5",
        "template": {
         "data": {
          "bar": [
           {
            "error_x": {
             "color": "#2a3f5f"
            },
            "error_y": {
             "color": "#2a3f5f"
            },
            "marker": {
             "line": {
              "color": "#E5ECF6",
              "width": 0.5
             },
             "pattern": {
              "fillmode": "overlay",
              "size": 10,
              "solidity": 0.2
             }
            },
            "type": "bar"
           }
          ],
          "barpolar": [
           {
            "marker": {
             "line": {
              "color": "#E5ECF6",
              "width": 0.5
             },
             "pattern": {
              "fillmode": "overlay",
              "size": 10,
              "solidity": 0.2
             }
            },
            "type": "barpolar"
           }
          ],
          "carpet": [
           {
            "aaxis": {
             "endlinecolor": "#2a3f5f",
             "gridcolor": "white",
             "linecolor": "white",
             "minorgridcolor": "white",
             "startlinecolor": "#2a3f5f"
            },
            "baxis": {
             "endlinecolor": "#2a3f5f",
             "gridcolor": "white",
             "linecolor": "white",
             "minorgridcolor": "white",
             "startlinecolor": "#2a3f5f"
            },
            "type": "carpet"
           }
          ],
          "choropleth": [
           {
            "colorbar": {
             "outlinewidth": 0,
             "ticks": ""
            },
            "type": "choropleth"
           }
          ],
          "contour": [
           {
            "colorbar": {
             "outlinewidth": 0,
             "ticks": ""
            },
            "colorscale": [
             [
              0,
              "#0d0887"
             ],
             [
              0.1111111111111111,
              "#46039f"
             ],
             [
              0.2222222222222222,
              "#7201a8"
             ],
             [
              0.3333333333333333,
              "#9c179e"
             ],
             [
              0.4444444444444444,
              "#bd3786"
             ],
             [
              0.5555555555555556,
              "#d8576b"
             ],
             [
              0.6666666666666666,
              "#ed7953"
             ],
             [
              0.7777777777777778,
              "#fb9f3a"
             ],
             [
              0.8888888888888888,
              "#fdca26"
             ],
             [
              1,
              "#f0f921"
             ]
            ],
            "type": "contour"
           }
          ],
          "contourcarpet": [
           {
            "colorbar": {
             "outlinewidth": 0,
             "ticks": ""
            },
            "type": "contourcarpet"
           }
          ],
          "heatmap": [
           {
            "colorbar": {
             "outlinewidth": 0,
             "ticks": ""
            },
            "colorscale": [
             [
              0,
              "#0d0887"
             ],
             [
              0.1111111111111111,
              "#46039f"
             ],
             [
              0.2222222222222222,
              "#7201a8"
             ],
             [
              0.3333333333333333,
              "#9c179e"
             ],
             [
              0.4444444444444444,
              "#bd3786"
             ],
             [
              0.5555555555555556,
              "#d8576b"
             ],
             [
              0.6666666666666666,
              "#ed7953"
             ],
             [
              0.7777777777777778,
              "#fb9f3a"
             ],
             [
              0.8888888888888888,
              "#fdca26"
             ],
             [
              1,
              "#f0f921"
             ]
            ],
            "type": "heatmap"
           }
          ],
          "heatmapgl": [
           {
            "colorbar": {
             "outlinewidth": 0,
             "ticks": ""
            },
            "colorscale": [
             [
              0,
              "#0d0887"
             ],
             [
              0.1111111111111111,
              "#46039f"
             ],
             [
              0.2222222222222222,
              "#7201a8"
             ],
             [
              0.3333333333333333,
              "#9c179e"
             ],
             [
              0.4444444444444444,
              "#bd3786"
             ],
             [
              0.5555555555555556,
              "#d8576b"
             ],
             [
              0.6666666666666666,
              "#ed7953"
             ],
             [
              0.7777777777777778,
              "#fb9f3a"
             ],
             [
              0.8888888888888888,
              "#fdca26"
             ],
             [
              1,
              "#f0f921"
             ]
            ],
            "type": "heatmapgl"
           }
          ],
          "histogram": [
           {
            "marker": {
             "pattern": {
              "fillmode": "overlay",
              "size": 10,
              "solidity": 0.2
             }
            },
            "type": "histogram"
           }
          ],
          "histogram2d": [
           {
            "colorbar": {
             "outlinewidth": 0,
             "ticks": ""
            },
            "colorscale": [
             [
              0,
              "#0d0887"
             ],
             [
              0.1111111111111111,
              "#46039f"
             ],
             [
              0.2222222222222222,
              "#7201a8"
             ],
             [
              0.3333333333333333,
              "#9c179e"
             ],
             [
              0.4444444444444444,
              "#bd3786"
             ],
             [
              0.5555555555555556,
              "#d8576b"
             ],
             [
              0.6666666666666666,
              "#ed7953"
             ],
             [
              0.7777777777777778,
              "#fb9f3a"
             ],
             [
              0.8888888888888888,
              "#fdca26"
             ],
             [
              1,
              "#f0f921"
             ]
            ],
            "type": "histogram2d"
           }
          ],
          "histogram2dcontour": [
           {
            "colorbar": {
             "outlinewidth": 0,
             "ticks": ""
            },
            "colorscale": [
             [
              0,
              "#0d0887"
             ],
             [
              0.1111111111111111,
              "#46039f"
             ],
             [
              0.2222222222222222,
              "#7201a8"
             ],
             [
              0.3333333333333333,
              "#9c179e"
             ],
             [
              0.4444444444444444,
              "#bd3786"
             ],
             [
              0.5555555555555556,
              "#d8576b"
             ],
             [
              0.6666666666666666,
              "#ed7953"
             ],
             [
              0.7777777777777778,
              "#fb9f3a"
             ],
             [
              0.8888888888888888,
              "#fdca26"
             ],
             [
              1,
              "#f0f921"
             ]
            ],
            "type": "histogram2dcontour"
           }
          ],
          "mesh3d": [
           {
            "colorbar": {
             "outlinewidth": 0,
             "ticks": ""
            },
            "type": "mesh3d"
           }
          ],
          "parcoords": [
           {
            "line": {
             "colorbar": {
              "outlinewidth": 0,
              "ticks": ""
             }
            },
            "type": "parcoords"
           }
          ],
          "pie": [
           {
            "automargin": true,
            "type": "pie"
           }
          ],
          "scatter": [
           {
            "fillpattern": {
             "fillmode": "overlay",
             "size": 10,
             "solidity": 0.2
            },
            "type": "scatter"
           }
          ],
          "scatter3d": [
           {
            "line": {
             "colorbar": {
              "outlinewidth": 0,
              "ticks": ""
             }
            },
            "marker": {
             "colorbar": {
              "outlinewidth": 0,
              "ticks": ""
             }
            },
            "type": "scatter3d"
           }
          ],
          "scattercarpet": [
           {
            "marker": {
             "colorbar": {
              "outlinewidth": 0,
              "ticks": ""
             }
            },
            "type": "scattercarpet"
           }
          ],
          "scattergeo": [
           {
            "marker": {
             "colorbar": {
              "outlinewidth": 0,
              "ticks": ""
             }
            },
            "type": "scattergeo"
           }
          ],
          "scattergl": [
           {
            "marker": {
             "colorbar": {
              "outlinewidth": 0,
              "ticks": ""
             }
            },
            "type": "scattergl"
           }
          ],
          "scattermapbox": [
           {
            "marker": {
             "colorbar": {
              "outlinewidth": 0,
              "ticks": ""
             }
            },
            "type": "scattermapbox"
           }
          ],
          "scatterpolar": [
           {
            "marker": {
             "colorbar": {
              "outlinewidth": 0,
              "ticks": ""
             }
            },
            "type": "scatterpolar"
           }
          ],
          "scatterpolargl": [
           {
            "marker": {
             "colorbar": {
              "outlinewidth": 0,
              "ticks": ""
             }
            },
            "type": "scatterpolargl"
           }
          ],
          "scatterternary": [
           {
            "marker": {
             "colorbar": {
              "outlinewidth": 0,
              "ticks": ""
             }
            },
            "type": "scatterternary"
           }
          ],
          "surface": [
           {
            "colorbar": {
             "outlinewidth": 0,
             "ticks": ""
            },
            "colorscale": [
             [
              0,
              "#0d0887"
             ],
             [
              0.1111111111111111,
              "#46039f"
             ],
             [
              0.2222222222222222,
              "#7201a8"
             ],
             [
              0.3333333333333333,
              "#9c179e"
             ],
             [
              0.4444444444444444,
              "#bd3786"
             ],
             [
              0.5555555555555556,
              "#d8576b"
             ],
             [
              0.6666666666666666,
              "#ed7953"
             ],
             [
              0.7777777777777778,
              "#fb9f3a"
             ],
             [
              0.8888888888888888,
              "#fdca26"
             ],
             [
              1,
              "#f0f921"
             ]
            ],
            "type": "surface"
           }
          ],
          "table": [
           {
            "cells": {
             "fill": {
              "color": "#EBF0F8"
             },
             "line": {
              "color": "white"
             }
            },
            "header": {
             "fill": {
              "color": "#C8D4E3"
             },
             "line": {
              "color": "white"
             }
            },
            "type": "table"
           }
          ]
         },
         "layout": {
          "annotationdefaults": {
           "arrowcolor": "#2a3f5f",
           "arrowhead": 0,
           "arrowwidth": 1
          },
          "autotypenumbers": "strict",
          "coloraxis": {
           "colorbar": {
            "outlinewidth": 0,
            "ticks": ""
           }
          },
          "colorscale": {
           "diverging": [
            [
             0,
             "#8e0152"
            ],
            [
             0.1,
             "#c51b7d"
            ],
            [
             0.2,
             "#de77ae"
            ],
            [
             0.3,
             "#f1b6da"
            ],
            [
             0.4,
             "#fde0ef"
            ],
            [
             0.5,
             "#f7f7f7"
            ],
            [
             0.6,
             "#e6f5d0"
            ],
            [
             0.7,
             "#b8e186"
            ],
            [
             0.8,
             "#7fbc41"
            ],
            [
             0.9,
             "#4d9221"
            ],
            [
             1,
             "#276419"
            ]
           ],
           "sequential": [
            [
             0,
             "#0d0887"
            ],
            [
             0.1111111111111111,
             "#46039f"
            ],
            [
             0.2222222222222222,
             "#7201a8"
            ],
            [
             0.3333333333333333,
             "#9c179e"
            ],
            [
             0.4444444444444444,
             "#bd3786"
            ],
            [
             0.5555555555555556,
             "#d8576b"
            ],
            [
             0.6666666666666666,
             "#ed7953"
            ],
            [
             0.7777777777777778,
             "#fb9f3a"
            ],
            [
             0.8888888888888888,
             "#fdca26"
            ],
            [
             1,
             "#f0f921"
            ]
           ],
           "sequentialminus": [
            [
             0,
             "#0d0887"
            ],
            [
             0.1111111111111111,
             "#46039f"
            ],
            [
             0.2222222222222222,
             "#7201a8"
            ],
            [
             0.3333333333333333,
             "#9c179e"
            ],
            [
             0.4444444444444444,
             "#bd3786"
            ],
            [
             0.5555555555555556,
             "#d8576b"
            ],
            [
             0.6666666666666666,
             "#ed7953"
            ],
            [
             0.7777777777777778,
             "#fb9f3a"
            ],
            [
             0.8888888888888888,
             "#fdca26"
            ],
            [
             1,
             "#f0f921"
            ]
           ]
          },
          "colorway": [
           "#636efa",
           "#EF553B",
           "#00cc96",
           "#ab63fa",
           "#FFA15A",
           "#19d3f3",
           "#FF6692",
           "#B6E880",
           "#FF97FF",
           "#FECB52"
          ],
          "font": {
           "color": "#2a3f5f"
          },
          "geo": {
           "bgcolor": "white",
           "lakecolor": "white",
           "landcolor": "#E5ECF6",
           "showlakes": true,
           "showland": true,
           "subunitcolor": "white"
          },
          "hoverlabel": {
           "align": "left"
          },
          "hovermode": "closest",
          "mapbox": {
           "style": "light"
          },
          "paper_bgcolor": "white",
          "plot_bgcolor": "#E5ECF6",
          "polar": {
           "angularaxis": {
            "gridcolor": "white",
            "linecolor": "white",
            "ticks": ""
           },
           "bgcolor": "#E5ECF6",
           "radialaxis": {
            "gridcolor": "white",
            "linecolor": "white",
            "ticks": ""
           }
          },
          "scene": {
           "xaxis": {
            "backgroundcolor": "#E5ECF6",
            "gridcolor": "white",
            "gridwidth": 2,
            "linecolor": "white",
            "showbackground": true,
            "ticks": "",
            "zerolinecolor": "white"
           },
           "yaxis": {
            "backgroundcolor": "#E5ECF6",
            "gridcolor": "white",
            "gridwidth": 2,
            "linecolor": "white",
            "showbackground": true,
            "ticks": "",
            "zerolinecolor": "white"
           },
           "zaxis": {
            "backgroundcolor": "#E5ECF6",
            "gridcolor": "white",
            "gridwidth": 2,
            "linecolor": "white",
            "showbackground": true,
            "ticks": "",
            "zerolinecolor": "white"
           }
          },
          "shapedefaults": {
           "line": {
            "color": "#2a3f5f"
           }
          },
          "ternary": {
           "aaxis": {
            "gridcolor": "white",
            "linecolor": "white",
            "ticks": ""
           },
           "baxis": {
            "gridcolor": "white",
            "linecolor": "white",
            "ticks": ""
           },
           "bgcolor": "#E5ECF6",
           "caxis": {
            "gridcolor": "white",
            "linecolor": "white",
            "ticks": ""
           }
          },
          "title": {
           "x": 0.05
          },
          "xaxis": {
           "automargin": true,
           "gridcolor": "white",
           "linecolor": "white",
           "ticks": "",
           "title": {
            "standoff": 15
           },
           "zerolinecolor": "white",
           "zerolinewidth": 2
          },
          "yaxis": {
           "automargin": true,
           "gridcolor": "white",
           "linecolor": "white",
           "ticks": "",
           "title": {
            "standoff": 15
           },
           "zerolinecolor": "white",
           "zerolinewidth": 2
          }
         }
        },
        "title": {
         "font": {
          "size": 18
         },
         "text": "Training Dataset - Out of Fold Predictions"
        },
        "width": 840,
        "xaxis": {
         "anchor": "y",
         "domain": [
          0,
          1
         ],
         "range": [
          -0.02,
          1.02
         ],
         "title": {
          "text": "Positive Class Probability"
         }
        },
        "yaxis": {
         "anchor": "x",
         "domain": [
          0,
          1
         ],
         "title": {
          "text": "Sample Integer Index"
         }
        }
       }
      }
     },
     "metadata": {},
     "output_type": "display_data"
    }
   ],
   "source": [
    "y_proba_frame = pd.DataFrame(\n",
    "    {\n",
    "        \"Sample Integer Index\": np.arange(0, len(y)),\n",
    "        \"Positive Class Probability\": y_proba_rescaled,\n",
    "        \"Class\": y.values.astype(str),\n",
    "    },\n",
    "    index=y.index,\n",
    ")\n",
    "\n",
    "fig = px.scatter(\n",
    "    y_proba_frame.reset_index(),\n",
    "    x=\"Positive Class Probability\",\n",
    "    y=\"Sample Integer Index\",\n",
    "    symbol=\"Class\",\n",
    "    symbol_sequence=[\"diamond\", \"circle\"],\n",
    "    color=\"Class\",\n",
    "    color_discrete_sequence=[\"#010D36\", \"#FF2079\"],\n",
    "    category_orders={\"Class\": (\"0\", \"1\")},\n",
    "    hover_data=\"Id\",\n",
    "    opacity=0.6,\n",
    "    height=540,\n",
    "    width=840,\n",
    "    title=\"Training Dataset - Out of Fold Predictions\",\n",
    ")\n",
    "fig.update_layout(\n",
    "    font_color=FONT_COLOR,\n",
    "    title_font_size=18,\n",
    "    plot_bgcolor=BACKGROUND_COLOR,\n",
    "    paper_bgcolor=BACKGROUND_COLOR,\n",
    "    legend=dict(\n",
    "        orientation=\"h\",\n",
    "        yanchor=\"bottom\",\n",
    "        xanchor=\"right\",\n",
    "        y=1.05,\n",
    "        x=1,\n",
    "        title=\"Class\",\n",
    "        itemsizing=\"constant\",\n",
    "    ),\n",
    "    xaxis_range=[-0.02, 1.02],\n",
    ")\n",
    "fig.update_traces(marker_size=6)\n",
    "fig.show()"
   ]
  },
  {
   "cell_type": "code",
   "execution_count": 37,
   "metadata": {},
   "outputs": [],
   "source": [
    "if np.all(np.isclose(test.select_dtypes(\"number\").sum(), 0)):\n",
    "    test_numeric_cols = test.select_dtypes(\"number\").columns\n",
    "    test[test_numeric_cols] += 1e-9\n",
    "\n",
    "test_ids = test.index\n",
    "y_test = np.zeros_like(test_ids)\n",
    "\n",
    "for classifier in classifiers.values():\n",
    "    y_test += classifier.predict_proba(test)[:, 1]\n",
    "\n",
    "y_test_rescaled = y_test / len(classifiers)\n",
    "y_test_postprocessed = perform_postprocessing(y_test_rescaled)\n"
   ]
  },
  {
   "cell_type": "code",
   "execution_count": 38,
   "metadata": {},
   "outputs": [
    {
     "data": {
      "text/html": [
       "<div>\n",
       "<style scoped>\n",
       "    .dataframe tbody tr th:only-of-type {\n",
       "        vertical-align: middle;\n",
       "    }\n",
       "\n",
       "    .dataframe tbody tr th {\n",
       "        vertical-align: top;\n",
       "    }\n",
       "\n",
       "    .dataframe thead th {\n",
       "        text-align: right;\n",
       "    }\n",
       "</style>\n",
       "<table border=\"1\" class=\"dataframe\">\n",
       "  <thead>\n",
       "    <tr style=\"text-align: right;\">\n",
       "      <th></th>\n",
       "      <th>class_0</th>\n",
       "      <th>class_1</th>\n",
       "    </tr>\n",
       "    <tr>\n",
       "      <th>Id</th>\n",
       "      <th></th>\n",
       "      <th></th>\n",
       "    </tr>\n",
       "  </thead>\n",
       "  <tbody>\n",
       "    <tr>\n",
       "      <th>00eed32682bb</th>\n",
       "      <td>0.256973</td>\n",
       "      <td>0.743027</td>\n",
       "    </tr>\n",
       "    <tr>\n",
       "      <th>010ebe33f668</th>\n",
       "      <td>0.256973</td>\n",
       "      <td>0.743027</td>\n",
       "    </tr>\n",
       "    <tr>\n",
       "      <th>02fa521e1838</th>\n",
       "      <td>0.256973</td>\n",
       "      <td>0.743027</td>\n",
       "    </tr>\n",
       "    <tr>\n",
       "      <th>040e15f562a2</th>\n",
       "      <td>0.256973</td>\n",
       "      <td>0.743027</td>\n",
       "    </tr>\n",
       "    <tr>\n",
       "      <th>046e85c7cc7f</th>\n",
       "      <td>0.256973</td>\n",
       "      <td>0.743027</td>\n",
       "    </tr>\n",
       "  </tbody>\n",
       "</table>\n",
       "</div>"
      ],
      "text/plain": [
       "               class_0   class_1\n",
       "Id                              \n",
       "00eed32682bb  0.256973  0.743027\n",
       "010ebe33f668  0.256973  0.743027\n",
       "02fa521e1838  0.256973  0.743027\n",
       "040e15f562a2  0.256973  0.743027\n",
       "046e85c7cc7f  0.256973  0.743027"
      ]
     },
     "execution_count": 38,
     "metadata": {},
     "output_type": "execute_result"
    }
   ],
   "source": [
    "submission = pd.DataFrame(\n",
    "    {\n",
    "        \"Id\": test_ids,\n",
    "        \"class_0\": 1 - y_test_rescaled,\n",
    "        \"class_1\": y_test_rescaled,\n",
    "    }\n",
    ").set_index(\"Id\")\n",
    "\n",
    "submission.to_csv(\"submission.csv\")\n",
    "submission.head()\n"
   ]
  },
  {
   "cell_type": "markdown",
   "metadata": {},
   "source": [
    "# PLAYGROUND"
   ]
  },
  {
   "cell_type": "code",
   "execution_count": 178,
   "metadata": {},
   "outputs": [],
   "source": [
    "X = train.drop(\"Class\", axis=1)\n",
    "y = train.Class\n",
    "\n",
    "undersampling_frac = get_undersampling_fraction(y)\n",
    "y_proba = np.zeros_like(y, dtype=np.float64)\n",
    "results = defaultdict(np.float64)\n",
    "classifiers = defaultdict(object)\n",
    "\n",
    "lgbm_params = {\n",
    "    \"max_depth\": 4,\n",
    "    \"num_leaves\": 9,\n",
    "    \"min_child_samples\": 17,\n",
    "    \"n_estimators\": 200,\n",
    "    \"learning_rate\": 0.15,\n",
    "    \"colsample_bytree\": 0.4,\n",
    "    \"min_split_gain\": 1e-4,\n",
    "    \"reg_alpha\": 1e-2,\n",
    "    \"reg_lambda\": 5e-3,\n",
    "}\n",
    "\n",
    "xgb_params = {\n",
    "    \"max_depth\": 2,\n",
    "    \"n_estimators\": 200,\n",
    "    \"learning_rate\": 0.4,\n",
    "    \"gamma\": 1e-4,\n",
    "    \"min_child_weight\": 0.1,\n",
    "    \"max_delta_step\": 0.35,\n",
    "    \"colsample_bytree\": 0.3,\n",
    "    \"colsample_bylevel\": 0.7,\n",
    "    \"reg_alpha\": 2e-3,\n",
    "    \"reg_lambda\": 6e-2,\n",
    "}\n",
    "\n",
    "params = np.arange(0.05, 0.31, 0.05)\n",
    "\n",
    "for param in params:\n",
    "    y_proba = np.zeros_like(y, dtype=np.float64)\n",
    "\n",
    "    for bag, seed in enumerate(seeds):\n",
    "        skfold = StratifiedKFold(n_splits=n_folds, shuffle=True, random_state=seed)\n",
    "        # ap = AffinityPropagation(damping=0.8, random_state=seed)\n",
    "\n",
    "        for fold, (train_ids, valid_ids) in enumerate(skfold.split(X, y)):\n",
    "            y_train_full = y.iloc[train_ids]\n",
    "            rmv = (\n",
    "                y_train_full[y_train_full == 0]\n",
    "                .sample(frac=undersampling_frac, random_state=seed)\n",
    "                .index.to_numpy()\n",
    "            )\n",
    "            # Skfold returns numbers, but `y` is a series with IDs, so we map them.\n",
    "            rmv = [y.index.get_loc(idx) for idx in rmv]\n",
    "            train_ids = np.setdiff1d(train_ids, rmv)\n",
    "\n",
    "            X_train, y_train = X.iloc[train_ids], y.iloc[train_ids]\n",
    "            X_valid, y_valid = X.iloc[valid_ids], y.iloc[valid_ids]\n",
    "\n",
    "            assert_balanced_learning(y_train)\n",
    "\n",
    "            current_ensemble = make_pipeline(\n",
    "                semi_final_preprocess,\n",
    "                VotingClassifier(\n",
    "                    [\n",
    "                        (\"lgbm\", LGBMClassifier(random_state=seed, **lgbm_params)),\n",
    "                        (\"xgb\", XGBClassifier(random_state=seed, **xgb_params)),\n",
    "                        (\"svc\", SVC(random_state=seed, **svc_params)),\n",
    "                    ],\n",
    "                    voting=\"soft\",\n",
    "                    weights=(1, 1, param),\n",
    "                ),\n",
    "            ).fit(X_train, y_train)\n",
    "\n",
    "            y_proba[valid_ids] += current_ensemble.predict_proba(X_valid)[:, 1]\n",
    "\n",
    "    results[param] = balanced_log_loss(y, y_proba / n_bags)\n"
   ]
  },
  {
   "cell_type": "code",
   "execution_count": 179,
   "metadata": {},
   "outputs": [
    {
     "data": {
      "text/plain": [
       "0.15    0.217534\n",
       "0.20    0.217660\n",
       "0.10    0.217678\n",
       "0.25    0.217958\n",
       "0.05    0.218314\n",
       "0.30    0.218372\n",
       "dtype: float64"
      ]
     },
     "execution_count": 179,
     "metadata": {},
     "output_type": "execute_result"
    }
   ],
   "source": [
    "pd.Series(results).sort_values()"
   ]
  },
  {
   "cell_type": "code",
   "execution_count": null,
   "metadata": {},
   "outputs": [],
   "source": [
    "# problematic_ids = [\"2901ef1394b9\", \"cf5439add02c\"]"
   ]
  },
  {
   "cell_type": "code",
   "execution_count": null,
   "metadata": {},
   "outputs": [],
   "source": [
    "# train.loc[problematic_ids].style.set_table_styles(DF_STYLE).format(precision=3)"
   ]
  },
  {
   "cell_type": "code",
   "execution_count": null,
   "metadata": {},
   "outputs": [],
   "source": [
    "# only_0_class_train = train.query(\"Class == 0\").drop(\"Class\", axis=1)\n",
    "# only_1_class_train = train.query(\"Class == 1\").drop(\"Class\", axis=1)"
   ]
  },
  {
   "cell_type": "code",
   "execution_count": null,
   "metadata": {},
   "outputs": [],
   "source": [
    "# from scipy.stats import percentileofscore\n",
    "\n",
    "# for feature in most_important_features:\n",
    "#     score = percentileofscore(\n",
    "#         only_1_class_train[feature],\n",
    "#         train.loc[\"cf5439add02c\", feature],\n",
    "#         nan_policy=\"omit\",\n",
    "#         kind=\"weak\",\n",
    "#     )\n",
    "#     print(feature, f\"{score:.1f}\")\n"
   ]
  },
  {
   "cell_type": "code",
   "execution_count": null,
   "metadata": {},
   "outputs": [],
   "source": [
    "# from sklearn.ensemble import IsolationForest\n",
    "# from sklearn.neighbors import LocalOutlierFactor\n",
    "\n",
    "\n",
    "# def outlier_detector(data, method=\"isolation_forest\", **kwargs):\n",
    "#     if method == \"isolation_forest\":\n",
    "#         detector = IsolationForest(**kwargs)\n",
    "#     if method == \"lof\":\n",
    "#         detector = LocalOutlierFactor(**kwargs)\n",
    "\n",
    "#     data_notna = data[~data.isna().any(axis=1)]\n",
    "#     result = detector.fit_predict(data_notna.to_numpy())\n",
    "#     outlier_ids = pd.Series(result == -1, index=data_notna.index)\n",
    "#     # data_ids = pd.Series(np.zeros_like(data.index), index=data.index, dtype=bool)\n",
    "\n",
    "#     return outlier_ids[outlier_ids == True].index.tolist()\n"
   ]
  },
  {
   "cell_type": "code",
   "execution_count": null,
   "metadata": {},
   "outputs": [],
   "source": [
    "# outlier_detector(X_semi_final, method=\"lof\")"
   ]
  }
 ],
 "metadata": {
  "kernelspec": {
   "display_name": "Python 3",
   "language": "python",
   "name": "python3"
  },
  "language_info": {
   "codemirror_mode": {
    "name": "ipython",
    "version": 3
   },
   "file_extension": ".py",
   "mimetype": "text/x-python",
   "name": "python",
   "nbconvert_exporter": "python",
   "pygments_lexer": "ipython3",
   "version": "3.10.5"
  },
  "orig_nbformat": 4
 },
 "nbformat": 4,
 "nbformat_minor": 2
}
