{
 "cells": [
  {
   "cell_type": "code",
   "execution_count": 13,
   "metadata": {},
   "outputs": [],
   "source": [
    "import os\n",
    "import shutil\n",
    "import subprocess\n",
    "from collections import defaultdict\n",
    "from functools import partial\n",
    "from pathlib import Path\n",
    "\n",
    "# Sub-modules and so on.\n",
    "import numpy as np\n",
    "import pandas as pd\n",
    "import plotly.express as px\n",
    "import scipy.stats as stats\n",
    "from scipy.stats import probplot\n",
    "\n",
    "from sklearn.pipeline import make_pipeline\n",
    "from sklearn.compose import make_column_transformer\n",
    "from sklearn.compose import make_column_selector\n",
    "from sklearn.ensemble import VotingClassifier\n",
    "from sklearn.impute import KNNImputer, SimpleImputer\n",
    "from sklearn.model_selection import StratifiedKFold\n",
    "from sklearn.preprocessing import Binarizer\n",
    "from sklearn.preprocessing import FunctionTransformer\n",
    "from sklearn.preprocessing import OrdinalEncoder\n",
    "from sklearn.preprocessing import PowerTransformer\n",
    "from sklearn.preprocessing import StandardScaler\n",
    "from sklearn.svm import SVC\n",
    "\n",
    "from catboost import CatBoostClassifier\n",
    "from lightgbm import LGBMClassifier\n",
    "from xgboost import XGBClassifier\n",
    "\n",
    "ON_KAGGLE = os.getenv(\"KAGGLE_KERNEL_RUN_TYPE\") is not None\n",
    "FONT_COLOR = \"#010D36\"\n",
    "BACKGROUND_COLOR = \"#F6F5F5\"\n",
    "\n",
    "# Utility functions.\n",
    "def download_dataset_from_kaggle(user, dataset, directory):\n",
    "    command = \"kaggle datasets download -d \"\n",
    "    filepath = directory / (dataset + \".zip\")\n",
    "\n",
    "    if not filepath.is_file():\n",
    "        subprocess.run((command + user + \"/\" + dataset).split())\n",
    "        filepath.parent.mkdir(parents=True, exist_ok=True)\n",
    "        shutil.unpack_archive(dataset + \".zip\", \"data\")\n",
    "        shutil.move(dataset + \".zip\", \"data\")\n",
    "\n",
    "\n",
    "def download_competition_from_kaggle(competition):\n",
    "    command = \"kaggle competitions download -c \"\n",
    "    filepath = Path(\"data/\" + competition + \".zip\")\n",
    "\n",
    "    if not filepath.is_file():\n",
    "        subprocess.run((command + competition).split())\n",
    "        Path(\"data\").mkdir(parents=True, exist_ok=True)\n",
    "        shutil.unpack_archive(competition + \".zip\", \"data\")\n",
    "        shutil.move(competition + \".zip\", \"data\")\n"
   ]
  },
  {
   "cell_type": "code",
   "execution_count": 2,
   "metadata": {},
   "outputs": [],
   "source": [
    "competition = \"icr-identify-age-related-conditions\"\n",
    "\n",
    "if not ON_KAGGLE:\n",
    "    download_competition_from_kaggle(competition)\n",
    "    train_path = \"data/train.csv\"\n",
    "    test_path = \"data/test.csv\"\n",
    "    greeks_path = \"data/greeks.csv\"\n",
    "else:\n",
    "    train_path = f\"/kaggle/input/{competition}/train.csv\"\n",
    "    test_path = f\"/kaggle/input/{competition}/test.csv\"\n",
    "    greeks_path = f\"/kaggle/input/{competition}/greeks.csv\"\n",
    "\n",
    "train = pd.read_csv(train_path, index_col=\"Id\").rename(columns=str.strip)\n",
    "test = pd.read_csv(test_path, index_col=\"Id\").rename(columns=str.strip)\n",
    "greeks = pd.read_csv(greeks_path, index_col=\"Id\").rename(columns=str.strip)\n"
   ]
  },
  {
   "cell_type": "code",
   "execution_count": 3,
   "metadata": {},
   "outputs": [],
   "source": [
    "numeric_data = train.select_dtypes(\"number\")\n",
    "numeric_cols = numeric_data.drop(\"Class\", axis=1).columns.tolist()\n",
    "r2_scores = defaultdict(tuple)\n",
    "\n",
    "for feature in numeric_cols:\n",
    "    orig = train[feature].dropna()\n",
    "    _, (*_, R_orig) = probplot(orig, rvalue=True)\n",
    "    _, (*_, R_log) = probplot(np.log(orig), rvalue=True)\n",
    "    _, (*_, R_sqrt) = probplot(np.sqrt(orig), rvalue=True)\n",
    "    _, (*_, R_reci) = probplot(np.reciprocal(orig), rvalue=True)\n",
    "    _, (*_, R_boxcox) = probplot(stats.boxcox(orig)[0], rvalue=True)\n",
    "    _, (*_, R_yeojohn) = probplot(stats.yeojohnson(orig)[0], rvalue=True)\n",
    "    r2_scores[feature] = (\n",
    "        R_orig * R_orig,\n",
    "        R_log * R_log,\n",
    "        R_sqrt * R_sqrt,\n",
    "        R_reci * R_reci,\n",
    "        R_boxcox * R_boxcox,\n",
    "        R_yeojohn * R_yeojohn,\n",
    "    )\n",
    "\n",
    "r2_scores = pd.DataFrame(\n",
    "    r2_scores, index=(\"Original\", \"Log\", \"Sqrt\", \"Reciprocal\", \"BoxCox\", \"YeoJohnson\")\n",
    ").T\n",
    "\n",
    "r2_scores[\"Winner\"] = r2_scores.idxmax(axis=1)\n",
    "\n",
    "no_transform_cols = r2_scores.query(\"Winner == 'Original'\").index\n",
    "log_transform_cols = r2_scores.query(\"Winner == 'Log'\").index\n",
    "reciprocal_transform_cols = r2_scores.query(\"Winner == 'Reciprocal'\").index\n",
    "boxcox_transform_cols = r2_scores.query(\"Winner == 'BoxCox'\").index\n",
    "yeojohnson_transform_cols = r2_scores.query(\"Winner == 'YeoJohnson'\").index\n"
   ]
  },
  {
   "cell_type": "code",
   "execution_count": 4,
   "metadata": {},
   "outputs": [],
   "source": [
    "numeric_descr = (\n",
    "    train.drop(\"Class\", axis=1)\n",
    "    .describe(percentiles=[0.01, 0.05, 0.25, 0.50, 0.75, 0.95, 0.99])\n",
    "    .drop(\"count\")\n",
    "    .T.rename(columns=str.title)\n",
    ")\n",
    "\n",
    "semi_constant_mask = np.isclose(numeric_descr[\"Min\"], numeric_descr[\"50%\"])\n",
    "semi_constant_descr = numeric_descr[semi_constant_mask]\n",
    "semi_const_cols_thresholds = semi_constant_descr[\"50%\"].to_dict()\n"
   ]
  },
  {
   "cell_type": "code",
   "execution_count": 5,
   "metadata": {},
   "outputs": [],
   "source": [
    "semi_const_cols = semi_const_cols_thresholds.keys()\n",
    "\n",
    "no_transform_cols = no_transform_cols.drop(semi_const_cols, errors=\"ignore\")\n",
    "log_transform_cols = log_transform_cols.drop(semi_const_cols, errors=\"ignore\")\n",
    "reciprocal_transform_cols = reciprocal_transform_cols.drop(semi_const_cols, errors=\"ignore\")\n",
    "boxcox_transform_cols = boxcox_transform_cols.drop(semi_const_cols, errors=\"ignore\")\n",
    "yeojohnson_transform_cols = yeojohnson_transform_cols.drop(semi_const_cols, errors=\"ignore\")\n",
    "\n",
    "preliminary_transform_preprocess = make_pipeline(\n",
    "    make_column_transformer(\n",
    "        (\n",
    "            StandardScaler(),\n",
    "            no_transform_cols.to_list(),\n",
    "        ),\n",
    "        (\n",
    "            make_pipeline(\n",
    "                FunctionTransformer(func=np.log, feature_names_out=\"one-to-one\"),\n",
    "                StandardScaler(),\n",
    "            ),\n",
    "            log_transform_cols.to_list(),\n",
    "        ),\n",
    "        (\n",
    "            make_pipeline(\n",
    "                FunctionTransformer(func=np.reciprocal, feature_names_out=\"one-to-one\"),\n",
    "                StandardScaler(),\n",
    "            ),\n",
    "            reciprocal_transform_cols.to_list(),\n",
    "        ),\n",
    "        (\n",
    "            PowerTransformer(method=\"box-cox\", standardize=True),\n",
    "            boxcox_transform_cols.to_list(),\n",
    "        ),\n",
    "        (\n",
    "            PowerTransformer(method=\"yeo-johnson\", standardize=True),\n",
    "            yeojohnson_transform_cols.to_list(),\n",
    "        ),\n",
    "        (\n",
    "            make_pipeline(\n",
    "                SimpleImputer(strategy=\"most_frequent\"),\n",
    "                OrdinalEncoder(handle_unknown=\"use_encoded_value\", unknown_value=-1),\n",
    "            ),\n",
    "            make_column_selector(dtype_include=object),  # type: ignore\n",
    "        ),\n",
    "        *[\n",
    "            (\n",
    "                make_pipeline(\n",
    "                    SimpleImputer(strategy=\"median\"),\n",
    "                    Binarizer(threshold=thresh),\n",
    "                ),\n",
    "                [col],\n",
    "            )\n",
    "            for col, thresh in semi_const_cols_thresholds.items()\n",
    "        ],\n",
    "        remainder=\"drop\",\n",
    "        verbose_feature_names_out=False,\n",
    "        n_jobs=4,\n",
    "    ),\n",
    "    KNNImputer(n_neighbors=10, weights=\"distance\"),\n",
    ").set_output(transform=\"pandas\")\n"
   ]
  },
  {
   "cell_type": "code",
   "execution_count": 6,
   "metadata": {},
   "outputs": [],
   "source": [
    "def balanced_log_loss(y_true, y_pred, **kwargs):\n",
    "    \"\"\"Competition evaluation metric - negative balanced logarithmic loss.\n",
    "    The overall effect is such that each class is roughly equally\n",
    "    important for the final score.\"\"\"\n",
    "    N0, N1 = np.bincount(y_true)\n",
    "\n",
    "    y0 = np.where(y_true == 0, 1, 0)\n",
    "    y1 = np.where(y_true == 1, 1, 0)\n",
    "\n",
    "    eps = kwargs.get(\"eps\", 1e-15)\n",
    "    y_pred = np.clip(y_pred, eps, 1 - eps)\n",
    "    p0 = np.log(1 - y_pred)\n",
    "    p1 = np.log(y_pred)\n",
    "\n",
    "    return -(1 / N0 * np.sum(y0 * p0) + 1 / N1 * np.sum(y1 * p1)) * 0.5\n"
   ]
  },
  {
   "cell_type": "code",
   "execution_count": 7,
   "metadata": {},
   "outputs": [],
   "source": [
    "def get_undersampling_fraction(y_true):\n",
    "    N0, N1 = np.bincount(y_true)\n",
    "    return 1 - N1 / N0\n",
    "\n",
    "\n",
    "def assert_balanced_learning(y_train, n_samples_tol=1):\n",
    "    N0, N1 = np.bincount(y_train)\n",
    "    assert np.isclose(N0, N1, atol=n_samples_tol)\n",
    "\n",
    "\n",
    "def get_sample_weights(y_true):\n",
    "    N0, N1 = np.bincount(y_true)\n",
    "    y0, y1 = np.unique(y_true)\n",
    "    w0 = (N0 + N1) / N0\n",
    "    w1 = (N0 + N1) / N1\n",
    "    return np.where(y_true == y1, w1, w0)\n"
   ]
  },
  {
   "cell_type": "code",
   "execution_count": 8,
   "metadata": {},
   "outputs": [],
   "source": [
    "def perform_postprocessing(\n",
    "    y_proba,\n",
    "    rounding=True,\n",
    "    rounding_prec=4,\n",
    "    boosting=True,\n",
    "    boosting_coef=0.8,\n",
    "    shifting=True,\n",
    "    shifting_map=None,\n",
    "):\n",
    "    def my_ceil(x, prec=rounding_prec):\n",
    "        return np.true_divide(np.ceil(x * 10**prec), 10**prec)\n",
    "\n",
    "    def my_floor(x, prec=rounding_prec):\n",
    "        return np.true_divide(np.floor(x * 10**prec), 10**prec)\n",
    "\n",
    "    proba = y_proba.copy()\n",
    "\n",
    "    if rounding:\n",
    "        proba = np.where(proba > 0.5, my_floor(proba), my_ceil(proba))\n",
    "\n",
    "    if boosting:\n",
    "        odds = boosting_coef * proba / (1 - proba)\n",
    "        proba = odds / (1 + odds)\n",
    "\n",
    "    if shifting:\n",
    "        if not shifting_map:\n",
    "            shifting_map = {\"low\": (0.01, 0.02), \"high\": (0.99, 0.98)}\n",
    "        low_shift_from, low_shift_to = shifting_map.get(\"low\", (0.01, 0.02))\n",
    "        high_shift_from, high_shift_to = shifting_map.get(\"high\", (0.99, 0.98))\n",
    "        proba[proba < low_shift_from] = low_shift_to\n",
    "        proba[proba > high_shift_from] = high_shift_to\n",
    "\n",
    "    return proba\n"
   ]
  },
  {
   "cell_type": "code",
   "execution_count": 9,
   "metadata": {},
   "outputs": [],
   "source": [
    "n_bags = 20\n",
    "n_folds = 10\n",
    "\n",
    "np.random.seed(42)\n",
    "seeds = np.random.randint(0, 19937, size=n_bags)\n"
   ]
  },
  {
   "cell_type": "code",
   "execution_count": 10,
   "metadata": {},
   "outputs": [],
   "source": [
    "X = train.drop(\"Class\", axis=1)\n",
    "y = train.Class\n",
    "\n",
    "undersampling_frac = get_undersampling_fraction(y)\n",
    "y_proba = np.zeros_like(y, dtype=np.float64)\n",
    "results = defaultdict(np.float64)\n",
    "classifiers = defaultdict(object)\n",
    "\n",
    "lgbm_params = {\n",
    "    \"max_depth\": 4,\n",
    "    \"num_leaves\": 9,\n",
    "    \"min_child_samples\": 17,\n",
    "    \"n_estimators\": 200,\n",
    "    \"learning_rate\": 0.15,\n",
    "    \"colsample_bytree\": 0.4,\n",
    "    \"min_split_gain\": 1e-4,\n",
    "    \"reg_alpha\": 1e-2,\n",
    "    \"reg_lambda\": 5e-3,\n",
    "}\n",
    "\n",
    "xgb_params = {\n",
    "    \"max_depth\": 2,\n",
    "    \"n_estimators\": 200,\n",
    "    \"learning_rate\": 0.4,\n",
    "    \"subsample\": 0.6,\n",
    "    \"min_child_weight\": 0.1,\n",
    "    \"max_delta_step\": 0.35,\n",
    "    \"colsample_bytree\": 0.3,\n",
    "    \"colsample_bylevel\": 0.7,\n",
    "    \"min_split_loss\": 1e-4,\n",
    "    \"reg_alpha\": 2e-3,\n",
    "    \"reg_lambda\": 6e-2,\n",
    "}\n",
    "\n",
    "svc_params = {\n",
    "    \"probability\": True,\n",
    "    \"C\": 3,\n",
    "}\n"
   ]
  },
  {
   "cell_type": "code",
   "execution_count": 11,
   "metadata": {},
   "outputs": [
    {
     "name": "stdout",
     "output_type": "stream",
     "text": [
      "Balanced Log Loss: 0.21630\n"
     ]
    }
   ],
   "source": [
    "for bag, seed in enumerate(seeds):\n",
    "    skfold = StratifiedKFold(n_splits=n_folds, shuffle=True, random_state=seed)\n",
    "\n",
    "    for fold, (train_ids, valid_ids) in enumerate(skfold.split(X, y)):\n",
    "        y_train_full = y.iloc[train_ids]\n",
    "        to_undersample_ids = (\n",
    "            y_train_full[y_train_full == 0]\n",
    "            .sample(frac=undersampling_frac, random_state=seed)\n",
    "            .index.to_numpy()\n",
    "        )\n",
    "        # Skfold returns numbers, but `y` is a series with IDs, so we map them.\n",
    "        to_undersample_ids = [y.index.get_loc(idx) for idx in to_undersample_ids]\n",
    "        train_ids = np.setdiff1d(train_ids, to_undersample_ids)\n",
    "\n",
    "        X_train, y_train = X.iloc[train_ids], y.iloc[train_ids]\n",
    "        X_valid, y_valid = X.iloc[valid_ids], y.iloc[valid_ids]\n",
    "\n",
    "        assert_balanced_learning(y_train)\n",
    "\n",
    "        current_ensemble = make_pipeline(\n",
    "            preliminary_transform_preprocess,\n",
    "            VotingClassifier(\n",
    "                [\n",
    "                    (\"lgbm\", LGBMClassifier(random_state=seed, **lgbm_params)),\n",
    "                    (\"xgb\", XGBClassifier(random_state=seed, **xgb_params)),\n",
    "                    (\"svc\", SVC(random_state=seed, **svc_params)),\n",
    "                ],\n",
    "                voting=\"soft\",\n",
    "                weights=(0.45, 0.45, 0.10),\n",
    "            ),\n",
    "        ).fit(X_train, y_train)\n",
    "\n",
    "        y_proba[valid_ids] += current_ensemble.predict_proba(X_valid)[:, 1]\n",
    "        classifiers[f\"Voting Bag: {bag} Fold: {fold}\"] = current_ensemble\n",
    "\n",
    "y_proba_rescaled = y_proba / n_bags\n",
    "print(\"Balanced Log Loss:\", f\"{balanced_log_loss(y, y_proba_rescaled):.5f}\")\n"
   ]
  },
  {
   "cell_type": "code",
   "execution_count": 14,
   "metadata": {},
   "outputs": [
    {
     "data": {
      "application/vnd.plotly.v1+json": {
       "config": {
        "plotlyServerURL": "https://plot.ly"
       },
       "data": [
        {
         "customdata": [
          [
           "007255e47698"
          ],
          [
           "013f2bd269f5"
          ],
          [
           "043ac50845d5"
          ],
          [
           "04517a3c90bd"
          ],
          [
           "049232ca8356"
          ],
          [
           "057287f2da6d"
          ],
          [
           "0594b00fb30a"
          ],
          [
           "05f2bc0155cd"
          ],
          [
           "06554e7b9979"
          ],
          [
           "068a4e4bbbab"
          ],
          [
           "075bd937ab85"
          ],
          [
           "07760b4cf3f8"
          ],
          [
           "094c0bd5ebe6"
          ],
          [
           "0aa059dad7f3"
          ],
          [
           "0b2cc0b0e6c5"
          ],
          [
           "0c3a256bcec7"
          ],
          [
           "0cdf781c81b9"
          ],
          [
           "0ce8b2aeeead"
          ],
          [
           "0cf19653f4c5"
          ],
          [
           "0cf6c827b8bb"
          ],
          [
           "0d1b855c7635"
          ],
          [
           "0d733722754b"
          ],
          [
           "0da59360d722"
          ],
          [
           "0db07bc343e3"
          ],
          [
           "0e17c8abe9b6"
          ],
          [
           "0e1f6a8eebab"
          ],
          [
           "0e705a0eddf6"
          ],
          [
           "0f9257f237b4"
          ],
          [
           "0fa0daef7ac0"
          ],
          [
           "10187958312d"
          ],
          [
           "1073082e7823"
          ],
          [
           "10aaf6adb652"
          ],
          [
           "10b874d01acd"
          ],
          [
           "1106df45b12e"
          ],
          [
           "124cd364aa2e"
          ],
          [
           "124eefa2ae00"
          ],
          [
           "128cc82dc5d6"
          ],
          [
           "12d002d52230"
          ],
          [
           "1319c3883fff"
          ],
          [
           "1337ba12ff02"
          ],
          [
           "135f1d1da85e"
          ],
          [
           "13ac854b5fe7"
          ],
          [
           "13c79963c34c"
          ],
          [
           "13ef6c55286a"
          ],
          [
           "1426f76716de"
          ],
          [
           "14713ec51d95"
          ],
          [
           "14a3f3cc04bd"
          ],
          [
           "152979207440"
          ],
          [
           "1540bbf8825b"
          ],
          [
           "157861ebc981"
          ],
          [
           "1591cd66c34e"
          ],
          [
           "15d85eea0e11"
          ],
          [
           "174ba5dc00b1"
          ],
          [
           "17d49f84524b"
          ],
          [
           "17d9a3a45da4"
          ],
          [
           "1899e6e0d7d9"
          ],
          [
           "18dd7c934463"
          ],
          [
           "1900828cbfc4"
          ],
          [
           "1919e4c3a7cc"
          ],
          [
           "19bf6e929506"
          ],
          [
           "19e4c52ea251"
          ],
          [
           "1a14973e1785"
          ],
          [
           "1a6d2336590f"
          ],
          [
           "1a954a747373"
          ],
          [
           "1a9fecf65695"
          ],
          [
           "1b31df9e8971"
          ],
          [
           "1c004f1d37be"
          ],
          [
           "1c612f931833"
          ],
          [
           "1e3c4189f04b"
          ],
          [
           "1e4b78cada73"
          ],
          [
           "1e5e59a7f331"
          ],
          [
           "1f829da7c6ed"
          ],
          [
           "20731b639de9"
          ],
          [
           "211b95ea8f90"
          ],
          [
           "21b3d18c0340"
          ],
          [
           "21d33a9fee44"
          ],
          [
           "23ab7ab965d5"
          ],
          [
           "2449608e49a9"
          ],
          [
           "2471b27e99fc"
          ],
          [
           "24dfe3da6769"
          ],
          [
           "271737344017"
          ],
          [
           "273efaff6f8a"
          ],
          [
           "27bfa971821f"
          ],
          [
           "284efb30decc"
          ],
          [
           "28ade6fa7bc3"
          ],
          [
           "2901ef1394b9"
          ],
          [
           "298989cc4e92"
          ],
          [
           "29cba3a7b8dc"
          ],
          [
           "2bb2902bd5e1"
          ],
          [
           "2bd50291b64d"
          ],
          [
           "2c495dfbaacf"
          ],
          [
           "2ca6bdf04280"
          ],
          [
           "2d5d2874b058"
          ],
          [
           "2d7ba928287d"
          ],
          [
           "2dc8b3d2980b"
          ],
          [
           "2e03488a03ca"
          ],
          [
           "2e4e80b95e24"
          ],
          [
           "2e637b444de7"
          ],
          [
           "2f020a35ce2b"
          ],
          [
           "2f1e32eac20e"
          ],
          [
           "2fd659800f75"
          ],
          [
           "30202b353d8a"
          ],
          [
           "3026974712cd"
          ],
          [
           "3101fca6b743"
          ],
          [
           "312661adb2ff"
          ],
          [
           "319f7e210021"
          ],
          [
           "321f58c2e5d1"
          ],
          [
           "324d6f4b6b37"
          ],
          [
           "332a3850302f"
          ],
          [
           "333bff494437"
          ],
          [
           "3493c79c8f35"
          ],
          [
           "34dc3190c6fb"
          ],
          [
           "34f10f630b68"
          ],
          [
           "3581cb92b427"
          ],
          [
           "36d298d32eb9"
          ],
          [
           "36f2fbc0a810"
          ],
          [
           "37342e4943f2"
          ],
          [
           "381e08d38c92"
          ],
          [
           "381ff0376cb0"
          ],
          [
           "38325b0c36e5"
          ],
          [
           "3840054e6aa5"
          ],
          [
           "386a027efe36"
          ],
          [
           "38c9a1f2eacf"
          ],
          [
           "3a73fce81608"
          ],
          [
           "3b280978a051"
          ],
          [
           "3b8959ffdfa9"
          ],
          [
           "3bf81aff9bd6"
          ],
          [
           "3c299fce6b56"
          ],
          [
           "3d4109150b32"
          ],
          [
           "3db179cf1a7d"
          ],
          [
           "3e610a5ff8d1"
          ],
          [
           "3eb3be63b62c"
          ],
          [
           "3f004b7190f3"
          ],
          [
           "3f367f9652ff"
          ],
          [
           "3fad66987cf9"
          ],
          [
           "407436e7ec52"
          ],
          [
           "40ffdee110b8"
          ],
          [
           "41475fa34ab3"
          ],
          [
           "41698cf1a1bd"
          ],
          [
           "41e9e3cec765"
          ],
          [
           "431c73b16f33"
          ],
          [
           "43365f867d38"
          ],
          [
           "434b3925094e"
          ],
          [
           "4376800c31fd"
          ],
          [
           "43eab2b837d1"
          ],
          [
           "4401d2485580"
          ],
          [
           "44c7768642a7"
          ],
          [
           "44e759955f6e"
          ],
          [
           "4537a9a3ecde"
          ],
          [
           "4572189340c4"
          ],
          [
           "457d8d386eb2"
          ],
          [
           "459c432b15ae"
          ],
          [
           "4652c8c5705c"
          ],
          [
           "4671650635ab"
          ],
          [
           "46a2c24d2624"
          ],
          [
           "46b876fc8933"
          ],
          [
           "470d18ff7777"
          ],
          [
           "47d8bacb43bb"
          ],
          [
           "48485c8c1ef7"
          ],
          [
           "48c64ab517c9"
          ],
          [
           "48f422645d0e"
          ],
          [
           "49e14acf8ffb"
          ],
          [
           "4a3d7459976a"
          ],
          [
           "4bc8f3ea493a"
          ],
          [
           "4c92a971cf91"
          ],
          [
           "4d4e63393080"
          ],
          [
           "4d54e3a957e6"
          ],
          [
           "4e6477903aa3"
          ],
          [
           "4e9059199e3d"
          ],
          [
           "4ec197e84caf"
          ],
          [
           "4f17ecd66363"
          ],
          [
           "4feabef01f7a"
          ],
          [
           "4fef9a973791"
          ],
          [
           "4ff6c37484ee"
          ],
          [
           "50183292c0e7"
          ],
          [
           "508bb5c5cf00"
          ],
          [
           "51111505c6f2"
          ],
          [
           "514d2ac4fdb5"
          ],
          [
           "51a5b926ab4d"
          ],
          [
           "528dd2afeb79"
          ],
          [
           "52acfa7cc2fc"
          ],
          [
           "53468141b7c9"
          ],
          [
           "535a9e672d18"
          ],
          [
           "55122c3c02a0"
          ],
          [
           "571a56646e47"
          ],
          [
           "58843604dcb5"
          ],
          [
           "58dcdd9d6e89"
          ],
          [
           "58e74efe7aa5"
          ],
          [
           "59bf633c1018"
          ],
          [
           "59bf79fac3fa"
          ],
          [
           "59bfbb4ad480"
          ],
          [
           "59eb23495fa7"
          ],
          [
           "5a87a6061488"
          ],
          [
           "5c03d177da66"
          ],
          [
           "5c522f58308c"
          ],
          [
           "5ce5f23fff0d"
          ],
          [
           "5d547eb551a9"
          ],
          [
           "5d8a1a0fb062"
          ],
          [
           "5dc5360a3fc8"
          ],
          [
           "5e27b0147126"
          ],
          [
           "5ee622a3e3be"
          ],
          [
           "5f20ad0ec630"
          ],
          [
           "60013ee40a0a"
          ],
          [
           "6002d5f39711"
          ],
          [
           "600c445d3351"
          ],
          [
           "60474d8ff770"
          ],
          [
           "6192b3e210ae"
          ],
          [
           "619aac34f423"
          ],
          [
           "61af8fde49eb"
          ],
          [
           "61e882a215f4"
          ],
          [
           "6204fd873dcd"
          ],
          [
           "62176aa5de57"
          ],
          [
           "6487b5140ab2"
          ],
          [
           "657d27cacf2b"
          ],
          [
           "658e0b2992bb"
          ],
          [
           "65c5772a4afa"
          ],
          [
           "65de682cc48c"
          ],
          [
           "661b3a326a9d"
          ],
          [
           "670b295eaa0f"
          ],
          [
           "67ba3c5d8baf"
          ],
          [
           "684d62aeae9e"
          ],
          [
           "6850ef5b0092"
          ],
          [
           "6860e7cbccad"
          ],
          [
           "68918798c769"
          ],
          [
           "68c35486588c"
          ],
          [
           "6955c8adcd36"
          ],
          [
           "69de76778344"
          ],
          [
           "69e627ec5d3e"
          ],
          [
           "6bf666677588"
          ],
          [
           "6c231f862f11"
          ],
          [
           "6c679dc63744"
          ],
          [
           "6c6db7987cd5"
          ],
          [
           "6ed97ed5defe"
          ],
          [
           "6ef1fe86ad00"
          ],
          [
           "7017fab77607"
          ],
          [
           "703c183d0c6c"
          ],
          [
           "70926a82d4e1"
          ],
          [
           "7180e4b7d21a"
          ],
          [
           "71f07ea5a770"
          ],
          [
           "73468ffe1cb5"
          ],
          [
           "7392d21fc103"
          ],
          [
           "7416fea10b6b"
          ],
          [
           "7429ed35535c"
          ],
          [
           "7530ec447c5d"
          ],
          [
           "778e1213d462"
          ],
          [
           "77ccceb44f4e"
          ],
          [
           "7800130b9140"
          ],
          [
           "7804b14ee22b"
          ],
          [
           "78f3ccd568c6"
          ],
          [
           "793d5c26bd0e"
          ],
          [
           "7a5c4b008308"
          ],
          [
           "7a705feced42"
          ],
          [
           "7b8cda4bc33e"
          ],
          [
           "7bcb9a31014b"
          ],
          [
           "7c02caf1b94f"
          ],
          [
           "7c21c57859d6"
          ],
          [
           "7c2df9f2fbe2"
          ],
          [
           "7cc870296984"
          ],
          [
           "7dd96a41647c"
          ],
          [
           "7e4d70590a71"
          ],
          [
           "7eb06d1c9234"
          ],
          [
           "7feabcc65b6b"
          ],
          [
           "800440b155b1"
          ],
          [
           "8006877fc82a"
          ],
          [
           "800c6b3239c6"
          ],
          [
           "80348b62c82e"
          ],
          [
           "80841417ca53"
          ],
          [
           "809087be105e"
          ],
          [
           "8093b3b92b28"
          ],
          [
           "80c47659c7c6"
          ],
          [
           "80ee5615ebdf"
          ],
          [
           "810ff5afd0e2"
          ],
          [
           "815cc64eb1cc"
          ],
          [
           "8266debd5234"
          ],
          [
           "8296caddae14"
          ],
          [
           "82c5014b0d57"
          ],
          [
           "8353e4690948"
          ],
          [
           "8408bf4d3d2f"
          ],
          [
           "8457871d9624"
          ],
          [
           "84c5b2d3eace"
          ],
          [
           "84efa38972ba"
          ],
          [
           "860833bfe713"
          ],
          [
           "8767b93c7948"
          ],
          [
           "87f6d81bb2f7"
          ],
          [
           "8856a9d8e2b4"
          ],
          [
           "88ceb24fa799"
          ],
          [
           "894a982c52c1"
          ],
          [
           "8a3cb69b2242"
          ],
          [
           "8a3e1acd2ff2"
          ],
          [
           "8ae3966cdb92"
          ],
          [
           "8b4dfe76ff44"
          ],
          [
           "8b7131974251"
          ],
          [
           "8b77f91fde3e"
          ],
          [
           "8b866016ac44"
          ],
          [
           "8b9d72eec14e"
          ],
          [
           "8ba2487388f2"
          ],
          [
           "8bb44f5c60a4"
          ],
          [
           "8c58bec30f78"
          ],
          [
           "8d0d4a6510bf"
          ],
          [
           "8d505de1fa59"
          ],
          [
           "8d7e1ef24fb8"
          ],
          [
           "8d7f231c9cb7"
          ],
          [
           "8e22648bf996"
          ],
          [
           "8e35c5943760"
          ],
          [
           "8e5a0d625d98"
          ],
          [
           "8eefb589a7aa"
          ],
          [
           "8f411ab61450"
          ],
          [
           "9025eee0ab7d"
          ],
          [
           "905a7dbaaf9a"
          ],
          [
           "91004fe0a0fd"
          ],
          [
           "91275f6ae0a2"
          ],
          [
           "913a3374da32"
          ],
          [
           "913b30965ae1"
          ],
          [
           "92b3778f624f"
          ],
          [
           "93205d43a401"
          ],
          [
           "948043d08210"
          ],
          [
           "948b3f28db47"
          ],
          [
           "948e868ba395"
          ],
          [
           "94f28a9c879b"
          ],
          [
           "968491b9238f"
          ],
          [
           "96ee4e851fbd"
          ],
          [
           "9708ba6b2fa2"
          ],
          [
           "975235e7d941"
          ],
          [
           "97b6c7088bc6"
          ],
          [
           "98944bb311a4"
          ],
          [
           "991587f97e45"
          ],
          [
           "9949a1749e2c"
          ],
          [
           "9a3ec17a57a0"
          ],
          [
           "9b25a5047a23"
          ],
          [
           "9b6aeb66b22a"
          ],
          [
           "9b9e6e21b830"
          ],
          [
           "9ba8bfa26e8a"
          ],
          [
           "9c0f8307a7ec"
          ],
          [
           "9c43f9559e4c"
          ],
          [
           "9c8d738c0272"
          ],
          [
           "9ce745fc98c4"
          ],
          [
           "9d19cb5327b5"
          ],
          [
           "9e725e00b348"
          ],
          [
           "9ee887ad93d5"
          ],
          [
           "9f10f72ca154"
          ],
          [
           "a02d41dc2cc4"
          ],
          [
           "a0693256491d"
          ],
          [
           "a20c68851e9b"
          ],
          [
           "a3493d6aca6e"
          ],
          [
           "a46b439e1eac"
          ],
          [
           "a4f476550c49"
          ],
          [
           "a5faa9a52bcb"
          ],
          [
           "a633a258eeed"
          ],
          [
           "a7b1c7b83f53"
          ],
          [
           "a904c19b5e22"
          ],
          [
           "aa54a308dbb4"
          ],
          [
           "aa6c6160804f"
          ],
          [
           "aa8185fbee33"
          ],
          [
           "aac8bafe74ef"
          ],
          [
           "ab39fd701211"
          ],
          [
           "ab4bc55cb79e"
          ],
          [
           "ac2074c4eeb5"
          ],
          [
           "acd97f3380e4"
          ],
          [
           "ad9a26b80957"
          ],
          [
           "adb67a0dd661"
          ],
          [
           "add78517b003"
          ],
          [
           "aee064d35f72"
          ],
          [
           "af0802c15f01"
          ],
          [
           "af1a304f3c89"
          ],
          [
           "af2c482fb8d7"
          ],
          [
           "afad421356e3"
          ],
          [
           "b002a6adb6be"
          ],
          [
           "b06b043e7abe"
          ],
          [
           "b1056bf99b86"
          ],
          [
           "b1080294e1f2"
          ],
          [
           "b10bae274dfc"
          ],
          [
           "b10f6f101138"
          ],
          [
           "b1143beb212d"
          ],
          [
           "b1195f8f1afa"
          ],
          [
           "b22ebf6851bb"
          ],
          [
           "b231b1b0962c"
          ],
          [
           "b2aec42acb00"
          ],
          [
           "b2b3ec04caf6"
          ],
          [
           "b301f38c110c"
          ],
          [
           "b358f0fdb95b"
          ],
          [
           "b3807c5f43e8"
          ],
          [
           "b4d611fab6c5"
          ],
          [
           "b5b51b3db693"
          ],
          [
           "b6efe1e60280"
          ],
          [
           "b74762c1d521"
          ],
          [
           "b85846bebd78"
          ],
          [
           "b874e25c20aa"
          ],
          [
           "b90c555e8c3c"
          ],
          [
           "b9e388b48268"
          ],
          [
           "ba0c42e12f1f"
          ],
          [
           "bbbb36522060"
          ],
          [
           "bbc27c1326a5"
          ],
          [
           "bcc36efe8096"
          ],
          [
           "bdd7b0f36488"
          ],
          [
           "be0d0e810303"
          ],
          [
           "bf12446bf394"
          ],
          [
           "bfcbf52e5449"
          ],
          [
           "c1ffde2da7d9"
          ],
          [
           "c214d487e2db"
          ],
          [
           "c25704512231"
          ],
          [
           "c38cbd7f61dd"
          ],
          [
           "c49cbf1cac11"
          ],
          [
           "c556791ceee9"
          ],
          [
           "c5e5456ccaa2"
          ],
          [
           "c5f4346394b9"
          ],
          [
           "c60e0e7b6ca1"
          ],
          [
           "c6c3a77ec885"
          ],
          [
           "c82e5a429e5b"
          ],
          [
           "c86be787cb28"
          ],
          [
           "c8a5264f7458"
          ],
          [
           "c90977976ffe"
          ],
          [
           "c9e8391da0ea"
          ],
          [
           "ca3ae6c8dede"
          ],
          [
           "ca4b0957e0c8"
          ],
          [
           "caff00fb82e2"
          ],
          [
           "cc42ed28ac3f"
          ],
          [
           "cc9f47d89979"
          ],
          [
           "ccd8b4b583df"
          ],
          [
           "cd5d5458c163"
          ],
          [
           "ce42176962b9"
          ],
          [
           "cf81f032b88e"
          ],
          [
           "d00b37ba63e7"
          ],
          [
           "d02c11462079"
          ],
          [
           "d061b54c6650"
          ],
          [
           "d0b72acaecdd"
          ],
          [
           "d10976c44b2b"
          ],
          [
           "d1f14dbe348c"
          ],
          [
           "d1fa22631c9c"
          ],
          [
           "d2910aee04cd"
          ],
          [
           "d2960230a353"
          ],
          [
           "d2dd462f90b5"
          ],
          [
           "d32f445d4d75"
          ],
          [
           "d35148a64ca9"
          ],
          [
           "d3d8c9d232f1"
          ],
          [
           "d42783629bbc"
          ],
          [
           "d44d3320d240"
          ],
          [
           "d5463b93905d"
          ],
          [
           "d7353855bf36"
          ],
          [
           "d75aafac1e86"
          ],
          [
           "d7dbf59b37f9"
          ],
          [
           "d7f01114e6db"
          ],
          [
           "d9d5fdfa030c"
          ],
          [
           "da68b4918818"
          ],
          [
           "da6c7e4e124d"
          ],
          [
           "dbf5f8b82b43"
          ],
          [
           "dc9b175cbf1e"
          ],
          [
           "dd3515028d71"
          ],
          [
           "dd65e067165c"
          ],
          [
           "dd8bcfab8df9"
          ],
          [
           "df956c379776"
          ],
          [
           "e00086407736"
          ],
          [
           "e0bf5a4a77d2"
          ],
          [
           "e0f325c4df28"
          ],
          [
           "e15ae7d5194f"
          ],
          [
           "e18129dade8f"
          ],
          [
           "e235af39779b"
          ],
          [
           "e2ef2a51ed65"
          ],
          [
           "e42344ea440c"
          ],
          [
           "e4ba2e28e184"
          ],
          [
           "e6aa6fa49abd"
          ],
          [
           "e70889ea6013"
          ],
          [
           "e70b5934b571"
          ],
          [
           "e7bedc8fb9a5"
          ],
          [
           "e8c119eb3e16"
          ],
          [
           "e8dde9331551"
          ],
          [
           "e9417cc82b93"
          ],
          [
           "e999bb1c01d7"
          ],
          [
           "e9c343dc7736"
          ],
          [
           "e9d084428900"
          ],
          [
           "ea50b3c5bd63"
          ],
          [
           "eada36b0bf31"
          ],
          [
           "eb9c2a590373"
          ],
          [
           "ecf1ac3d6dfc"
          ],
          [
           "ed4a24c7ec54"
          ],
          [
           "ee48d4f9dc81"
          ],
          [
           "efcba7fac353"
          ],
          [
           "f003d68995be"
          ],
          [
           "f03b541de10c"
          ],
          [
           "f0d7d98bfe21"
          ],
          [
           "f12d8570682a"
          ],
          [
           "f13b1485ba1f"
          ],
          [
           "f1a68746ca6e"
          ],
          [
           "f206becd4ffd"
          ],
          [
           "f3eb9ac222f9"
          ],
          [
           "f3f2071d2453"
          ],
          [
           "f404680da866"
          ],
          [
           "f44978084805"
          ],
          [
           "f46e39a96ee9"
          ],
          [
           "f56e7620836e"
          ],
          [
           "f62ef7cc0a22"
          ],
          [
           "f71ef203fae7"
          ],
          [
           "f7a862a414de"
          ],
          [
           "f82b07dfd7fb"
          ],
          [
           "f8eb43047d69"
          ],
          [
           "f944d35cb6c4"
          ],
          [
           "f955c0ed8895"
          ],
          [
           "f96e7ca4a16c"
          ],
          [
           "f9a7ea889307"
          ],
          [
           "fb27f6e58eaa"
          ],
          [
           "fb7584f887fd"
          ],
          [
           "fb786fb02a65"
          ],
          [
           "fbc241daef00"
          ],
          [
           "fbd12c4ae88b"
          ],
          [
           "fd1dd68d51b4"
          ],
          [
           "fd3dafe738fd"
          ],
          [
           "fd895603f071"
          ],
          [
           "fd8ef6377f76"
          ],
          [
           "fe1942975e40"
          ],
          [
           "ffcca4ded3bb"
          ]
         ],
         "hovertemplate": "Class=0<br>Positive Class Probability=%{x}<br>Sample Integer Index=%{y}<br>Id=%{customdata[0]}<extra></extra>",
         "legendgroup": "0",
         "marker": {
          "color": "#010D36",
          "opacity": 0.6,
          "size": 6,
          "symbol": "diamond"
         },
         "mode": "markers",
         "name": "0",
         "orientation": "v",
         "showlegend": true,
         "type": "scatter",
         "x": [
          0.002166340896487006,
          0.325703343001978,
          0.37457939806642815,
          0.0015712713766858227,
          0.03879131831616482,
          0.0604913472201173,
          0.008233360389377841,
          0.003960006290427349,
          0.07879663499921762,
          0.08332046580628527,
          0.4248166649490567,
          0.2628950457722967,
          0.026160523960977993,
          0.0698043238548491,
          0.22140480865291398,
          0.009632968007087713,
          0.10181514564348645,
          0.061433243908177705,
          0.008849630225031026,
          0.011655679964467354,
          0.16214607862462693,
          0.04528375918129511,
          0.4180661734928671,
          0.00026784648996338743,
          0.018059750159436738,
          0.12418500817109102,
          0.02900347761507216,
          0.019393007813408806,
          0.17696490524312014,
          0.007367008253901401,
          0.001983845105195641,
          0.002350548299768193,
          0.1538915770445456,
          0.004535266866140309,
          0.0009300306202015371,
          0.04516064141880087,
          0.008374410779044472,
          0.6290566241869272,
          0.01868825600567111,
          0.0009666500512650383,
          0.0750369511372613,
          0.0023065173449781434,
          0.07924627090733069,
          0.38519899445860906,
          0.008940175935173414,
          0.005260142803257475,
          0.55097526143065,
          0.21758787769378615,
          0.0048291531597095625,
          0.08370981090223477,
          0.0047884209740992395,
          0.005305410126226739,
          0.210095224570115,
          0.0368326964657678,
          0.048959697372975335,
          0.010278912007034846,
          0.014154236259893918,
          0.12169785562218116,
          0.690272638085139,
          0.008603143852894724,
          0.026614567890545678,
          0.037150736516198886,
          0.177502674237815,
          0.3226193205899264,
          0.11321915645903433,
          0.0033423330599586533,
          0.0043314457767115126,
          0.5046503005447565,
          0.11865771214570149,
          0.005465853949219858,
          0.004147522591137492,
          0.022460068026369285,
          0.00046899477136248856,
          0.0032613151127121715,
          0.004923777710737366,
          0.025893428779969908,
          0.0006777210649856196,
          0.0015805139322009674,
          0.07837271342962195,
          0.014047405221625935,
          0.13436788245827475,
          0.0048826503068677835,
          0.02394120547971834,
          0.005514643028417114,
          0.445703425506556,
          0.9948036979023811,
          0.005522245384401437,
          0.05166290982470425,
          0.013955232442206556,
          0.002189334203762201,
          0.122442995350968,
          0.007033684126714785,
          0.06621355991859415,
          0.06780564653687843,
          0.012332318548355526,
          0.02796189723164765,
          0.001512457512527246,
          0.06442935724489493,
          0.22407039114157418,
          0.003152974979272623,
          0.009048814781162581,
          0.042956616580925366,
          0.7832806440772917,
          0.00808337427753153,
          0.5925913185632018,
          0.24714827189479763,
          0.08581007477700191,
          0.011430473762839038,
          0.01917584988751469,
          0.022418962875712926,
          0.11138418093251432,
          0.08334921692852473,
          0.002748852150614204,
          0.030450240179658333,
          0.013146427321063811,
          0.038260572486559785,
          0.503257263009654,
          0.014536163503878019,
          0.1124105127814927,
          0.009925192615820633,
          0.0765620452614324,
          0.5355002620067323,
          0.0009874169644843115,
          0.032170588212796364,
          0.056395816362734205,
          0.021713926913509565,
          0.007447303454814718,
          0.0021439080935171857,
          0.05364426810451911,
          0.0008445621367068421,
          0.05281061833983145,
          0.00018844260184604567,
          0.6431945788765943,
          0.0338135435396048,
          0.018275748448415573,
          0.0301047259494297,
          0.0023375736070507446,
          0.025434742231473018,
          0.8868296415502517,
          0.12317907764622589,
          0.0009762271937455368,
          0.6756420983223734,
          0.09049116111884074,
          0.016028985626427524,
          0.041923717714809544,
          0.12077571267901213,
          0.001941205338495542,
          0.002316169908177918,
          0.1452786198259434,
          0.158455856827488,
          0.030195476377517856,
          0.005776303824784443,
          0.0012909593962819948,
          0.8230155415067889,
          0.022472039359836125,
          0.12921115577280662,
          0.002307452296873227,
          0.0011376052106786617,
          0.9338429120283006,
          0.08156421698144176,
          0.01643634058875532,
          0.9064679505991492,
          0.9219851893229644,
          0.5992381886458633,
          0.17368005761831457,
          0.007231680612327247,
          0.24460297471347442,
          0.013326794823723629,
          0.009154776387113437,
          0.2271878932980565,
          0.4928895467255171,
          0.0553944713092813,
          0.013082185747655763,
          0.11125672297802418,
          0.13067449159985092,
          0.006226488937087623,
          0.05153358804880964,
          0.0034226918366246856,
          0.17542601358366944,
          0.008371509325199885,
          0.0027657451395372784,
          0.004326270690618447,
          0.02847426727217865,
          0.05623282784522303,
          0.4769815461858495,
          0.008207656926595823,
          0.7739100018926754,
          0.03292872377007073,
          0.006140051624699958,
          0.0002660484917109525,
          0.05505249346686973,
          0.03865065113504262,
          0.20444632875833474,
          0.036539107350706305,
          0.005282041838769306,
          0.04954427381489822,
          0.92422846589372,
          0.2752681951226616,
          0.03470569024197713,
          0.03579951851175004,
          0.140626149574201,
          0.006925278967121461,
          0.009726197340761343,
          0.2762533515313417,
          0.011686239795431812,
          0.8334323611789989,
          0.002274379200971092,
          0.46500886588697166,
          0.0535008838900249,
          0.053244042054181116,
          0.012665103656212717,
          0.044993312606218264,
          0.007262325911416729,
          0.06963593656531816,
          0.003739307735726996,
          0.0033438806763968583,
          0.0009178571667572139,
          0.02294077236042657,
          0.005092218930709214,
          0.017864594070475782,
          0.0393409992637841,
          0.035844862297452366,
          0.02297594693524505,
          0.002974980356654471,
          0.0006735854788423054,
          0.002324720969574814,
          0.033540035643961276,
          0.12488908392337565,
          0.5474532543064444,
          0.4550752269470104,
          0.030459487092761795,
          0.09406689157896249,
          0.2762089261855338,
          0.02392461102622758,
          0.007330590122915595,
          0.2601606693615309,
          0.010777238901648622,
          0.055243944622069344,
          0.5816325911208724,
          0.012041249420951246,
          0.006052665178507473,
          0.9855006217570178,
          0.0026737782243860613,
          0.5365187528061439,
          0.00591827748048663,
          0.029958273093018645,
          0.014289116086076048,
          0.07361118452101893,
          0.0070021967900629175,
          0.010827190413678984,
          0.014732757916273275,
          0.011158289258790362,
          0.3414933334273281,
          0.005336497800319966,
          0.07692678023515678,
          0.01691100396667201,
          0.0007135103172871329,
          0.13669865530120998,
          0.3979019563575614,
          0.14454726937701518,
          0.018998482102856516,
          0.0008646379008635669,
          0.03506328964925202,
          0.059270901228957895,
          0.6352556520556838,
          0.36168432015617497,
          0.8152345650620326,
          0.14415082753064434,
          0.061330433539905825,
          0.0002003115209101985,
          0.025701799651404726,
          0.47752532047489565,
          0.013340930572941608,
          0.00846509686530095,
          0.4375743965223037,
          0.010288987366757108,
          0.04894454466374668,
          0.7546815493863394,
          0.2707444150558286,
          0.007536073157454701,
          0.3055640147351471,
          0.007006320963378822,
          0.012504105006698204,
          0.038519530530891063,
          0.011894480082133592,
          0.06889453172145346,
          0.007309170132196202,
          0.03172957340218457,
          0.008655646624460389,
          0.009156435715699613,
          0.36208561490353625,
          0.0768163010301184,
          0.1673921502412883,
          0.014443498685675071,
          0.9352696101131748,
          0.09450432427691599,
          0.01841127596240047,
          0.7931031746311297,
          0.033838870325425416,
          0.10178938467187149,
          0.06736947978728937,
          0.0024901880998643437,
          0.1074672762047717,
          0.07507907042330221,
          0.9102243890270264,
          0.04448854160511872,
          0.017795441650908288,
          0.777294536909945,
          0.020204888489876255,
          0.16524319212337893,
          0.047221431071656175,
          0.019124552861264847,
          0.07938907955650504,
          0.05515199669738515,
          0.9136391002590821,
          0.007373736377211259,
          0.03216745916906765,
          0.029583925308796104,
          0.003229833292762702,
          0.22417846120226778,
          0.9242670411713391,
          0.4151963557848951,
          0.08741206572891516,
          0.24004615238904456,
          0.019638675501736636,
          0.17295482251471286,
          0.023779322368414322,
          0.043959200489361736,
          0.10365305462455135,
          0.015804088279493488,
          0.006625252092720339,
          0.05602578838909957,
          0.20490555214841502,
          0.09686179663931742,
          0.11254363868752264,
          0.02305173871919578,
          0.01382380892070909,
          0.015292380041096102,
          0.041924848489558963,
          0.2283717045136108,
          0.10377154191478058,
          0.001253594029635111,
          0.02293651996523771,
          0.0213503611517888,
          0.17382940551616932,
          0.2993849830052446,
          0.0871792216104429,
          0.0006000095453370773,
          0.020873568774299363,
          0.0357759673199607,
          0.31819080384980947,
          0.31843112376237503,
          0.009831426087164474,
          0.024147605181633728,
          0.006610273009938097,
          0.014706948485808138,
          0.010676691252369697,
          0.06336600637626766,
          0.008304985472486046,
          0.004238934904508031,
          0.21095403954836905,
          0.0025703421052384145,
          0.11578951776507593,
          0.0043870557443735385,
          0.002602427023821062,
          0.000697889102129873,
          0.19075346760450382,
          0.25284355889113985,
          0.17627226335833615,
          0.01327155171149729,
          0.03641519497558813,
          0.044783929308625105,
          0.03807997522050146,
          0.12792328677727832,
          0.0148579574305106,
          0.0018902449496431527,
          0.5685642522399064,
          0.0041142334855699715,
          0.7198428209110134,
          0.7526018552945866,
          0.12357496343767008,
          0.007033932298201748,
          0.015337097128376142,
          0.9277744177077187,
          0.0017222433618123676,
          0.02529747867562108,
          0.0027789034110288257,
          0.2208088522209887,
          0.8587766935754052,
          0.548210210188942,
          0.013357741290540431,
          0.056361822261265536,
          0.27048644660645144,
          0.010068859149048448,
          0.0358072375475093,
          0.08669218180598386,
          0.0007894425959626899,
          0.0014023253356335798,
          0.03303702475475807,
          0.14342779220897023,
          0.023620520546905787,
          0.27135993288825316,
          0.02974471371192324,
          0.010477424065301189,
          0.5303332669632282,
          0.01693930449567003,
          0.16567613179057075,
          0.011884396579123055,
          0.05102663704145653,
          0.013986398445310457,
          0.8753703570434033,
          0.0014986759727652916,
          0.14468265936142852,
          0.0014748047167024417,
          0.5097594553557887,
          0.02496934446728242,
          0.013068296140854991,
          0.059770039216873516,
          0.06019494861146746,
          0.0014164150750421605,
          0.027279808314684916,
          0.011542400089948158,
          0.3041750686700853,
          0.7310543974364643,
          0.01159658704692982,
          0.006236516177884397,
          0.01575317330765283,
          0.01777404765892349,
          0.6419290932896463,
          0.020286598956440628,
          0.6595885165635021,
          0.01530230046454691,
          0.04750128077337084,
          0.6857258438168892,
          0.008954660998949553,
          0.19654784968735378,
          0.10375823756799432,
          0.07083314746340698,
          0.11986216510572412,
          0.023121922352902866,
          0.008966728808015129,
          0.07012273447703488,
          0.04796694745175167,
          0.0025373088982885653,
          0.07366548729895694,
          0.013634113846658542,
          0.02929374869997854,
          0.002077414053661547,
          0.11830353303278422,
          0.01505713762229858,
          0.09208516515608187,
          0.001124281574135154,
          0.001126370410176684,
          0.0036137325092600245,
          0.6006542607169998,
          0.004081209480003467,
          0.9269897737362653,
          0.0010689881863801363,
          0.009512436439520672,
          0.004084555687270828,
          0.0023682250713409265,
          0.037272283829792204,
          0.03218962015538883,
          0.00225742208513513,
          0.06692190855044708,
          0.10783385584546282,
          0.01400664531454945,
          0.04608386744221042,
          0.06491089832651711,
          0.0022900312545612637,
          0.013016102950612405,
          0.04508384780680434,
          0.15054148230484715,
          0.08010027626775965,
          0.007930246413355215,
          0.04145175055253933,
          0.5039740180356012,
          0.755946772066961,
          0.15452960577277744,
          0.08776681063668507,
          0.013898292884669844,
          0.9027811863656294,
          0.08085789121441675,
          0.054015772803100826,
          0.11656237232572161,
          0.002152309797075929,
          0.05791134386580186,
          0.004296624007665777,
          0.01250972008002999,
          0.03341845049579945,
          0.04650192037574174,
          0.17063429855469567,
          0.04631836134750443,
          0.11608922929146544,
          0.011571204229470678,
          0.21289954357015234,
          0.13350678015326378,
          0.01830646579825821,
          0.007816951667877076,
          0.030474741310303248,
          0.006681463683829404,
          0.015831832238193226,
          0.22496055820583508,
          0.0016463536344135637,
          0.0515533299304489,
          0.31937908557668937,
          0.04710244843306141,
          0.11474789159434715,
          0.05420426920307431
         ],
         "xaxis": "x",
         "y": [
          1,
          2,
          3,
          5,
          6,
          7,
          8,
          9,
          11,
          12,
          14,
          15,
          16,
          17,
          18,
          19,
          20,
          21,
          22,
          23,
          24,
          25,
          26,
          27,
          28,
          29,
          30,
          33,
          34,
          35,
          37,
          38,
          39,
          40,
          42,
          43,
          44,
          45,
          46,
          47,
          48,
          50,
          51,
          52,
          53,
          54,
          55,
          56,
          57,
          58,
          59,
          60,
          61,
          62,
          63,
          64,
          65,
          66,
          67,
          68,
          69,
          70,
          71,
          72,
          73,
          74,
          77,
          78,
          80,
          81,
          82,
          83,
          84,
          85,
          86,
          87,
          89,
          90,
          92,
          94,
          97,
          98,
          99,
          100,
          101,
          102,
          103,
          104,
          105,
          106,
          107,
          108,
          110,
          111,
          112,
          113,
          114,
          115,
          116,
          117,
          119,
          120,
          121,
          122,
          123,
          124,
          125,
          126,
          128,
          129,
          130,
          132,
          133,
          135,
          136,
          137,
          138,
          139,
          140,
          141,
          142,
          143,
          144,
          147,
          148,
          149,
          151,
          152,
          153,
          154,
          156,
          157,
          158,
          159,
          161,
          163,
          164,
          166,
          167,
          168,
          169,
          170,
          171,
          172,
          173,
          174,
          175,
          176,
          177,
          178,
          179,
          180,
          182,
          183,
          184,
          185,
          187,
          188,
          190,
          191,
          192,
          194,
          195,
          196,
          197,
          198,
          199,
          200,
          201,
          202,
          203,
          204,
          205,
          206,
          207,
          208,
          209,
          210,
          211,
          212,
          213,
          214,
          215,
          216,
          217,
          219,
          220,
          221,
          222,
          223,
          224,
          225,
          226,
          227,
          228,
          230,
          231,
          233,
          234,
          235,
          236,
          237,
          239,
          240,
          241,
          242,
          243,
          244,
          245,
          246,
          247,
          248,
          250,
          251,
          252,
          253,
          254,
          255,
          257,
          260,
          263,
          264,
          266,
          269,
          270,
          271,
          272,
          273,
          276,
          277,
          278,
          279,
          280,
          281,
          283,
          284,
          285,
          286,
          287,
          289,
          291,
          292,
          293,
          295,
          296,
          297,
          298,
          299,
          302,
          303,
          305,
          306,
          308,
          309,
          310,
          311,
          312,
          314,
          315,
          316,
          317,
          319,
          320,
          321,
          322,
          323,
          325,
          326,
          327,
          328,
          329,
          331,
          332,
          333,
          334,
          335,
          336,
          337,
          338,
          339,
          340,
          341,
          342,
          343,
          345,
          346,
          347,
          349,
          350,
          351,
          352,
          353,
          354,
          355,
          356,
          358,
          359,
          360,
          361,
          362,
          363,
          364,
          365,
          366,
          367,
          369,
          370,
          372,
          373,
          374,
          375,
          376,
          377,
          379,
          380,
          381,
          382,
          383,
          384,
          385,
          386,
          388,
          389,
          390,
          392,
          393,
          394,
          395,
          396,
          397,
          398,
          399,
          400,
          401,
          402,
          403,
          404,
          405,
          407,
          409,
          410,
          411,
          414,
          416,
          417,
          418,
          419,
          420,
          422,
          424,
          426,
          427,
          428,
          429,
          430,
          431,
          432,
          435,
          437,
          438,
          439,
          440,
          441,
          442,
          443,
          444,
          445,
          446,
          447,
          448,
          449,
          450,
          451,
          452,
          453,
          454,
          455,
          456,
          457,
          458,
          459,
          460,
          461,
          462,
          463,
          464,
          465,
          466,
          468,
          469,
          472,
          473,
          474,
          475,
          476,
          477,
          478,
          480,
          481,
          482,
          483,
          484,
          485,
          488,
          489,
          491,
          492,
          495,
          496,
          497,
          498,
          499,
          501,
          502,
          503,
          504,
          505,
          506,
          507,
          508,
          510,
          512,
          513,
          514,
          515,
          517,
          519,
          520,
          521,
          522,
          523,
          524,
          525,
          527,
          528,
          529,
          531,
          532,
          533,
          534,
          535,
          537,
          539,
          540,
          541,
          542,
          543,
          544,
          545,
          547,
          549,
          550,
          551,
          552,
          553,
          554,
          556,
          557,
          558,
          560,
          561,
          562,
          565,
          566,
          567,
          568,
          569,
          570,
          571,
          572,
          573,
          574,
          575,
          577,
          578,
          579,
          580,
          581,
          582,
          583,
          584,
          586,
          587,
          589,
          590,
          591,
          593,
          594,
          595,
          596,
          597,
          598,
          599,
          600,
          601,
          602,
          603,
          604,
          605,
          606,
          607,
          609,
          610,
          611,
          612,
          613,
          614,
          615,
          616
         ],
         "yaxis": "y"
        },
        {
         "customdata": [
          [
           "000ff2bfdfe9"
          ],
          [
           "044fb8a146ec"
          ],
          [
           "06055f3f6785"
          ],
          [
           "06c0ddf265c5"
          ],
          [
           "0e798fd4e6e7"
          ],
          [
           "0f5fba133cb7"
          ],
          [
           "103f611fdfc4"
          ],
          [
           "1136a2966ed2"
          ],
          [
           "1360fac6a227"
          ],
          [
           "1bac22586f27"
          ],
          [
           "1bcdc1af3458"
          ],
          [
           "1ce075e25399"
          ],
          [
           "228524bde6a3"
          ],
          [
           "245a3f44cfc0"
          ],
          [
           "24b40510d6a2"
          ],
          [
           "2508534155a6"
          ],
          [
           "26c79809c5ea"
          ],
          [
           "2cddd2d70d72"
          ],
          [
           "2f4e5de3de9c"
          ],
          [
           "32c1d5bdae8d"
          ],
          [
           "34a025893d36"
          ],
          [
           "355bdddccdbd"
          ],
          [
           "3924089e4396"
          ],
          [
           "3a288ec2811f"
          ],
          [
           "3bbe922b2cdb"
          ],
          [
           "3e2d6dca77ec"
          ],
          [
           "3f4bfe72745d"
          ],
          [
           "401ca61716e4"
          ],
          [
           "41216f6cee66"
          ],
          [
           "463035913640"
          ],
          [
           "46fe2d3b9e7b"
          ],
          [
           "47e4c756d4a6"
          ],
          [
           "49b8f248a42f"
          ],
          [
           "582ef2696f72"
          ],
          [
           "5c63c7b71282"
          ],
          [
           "5d694ba9aa16"
          ],
          [
           "5fe47095520d"
          ],
          [
           "6468478fce4c"
          ],
          [
           "667b389f278d"
          ],
          [
           "67122d4bce03"
          ],
          [
           "679465bb38ba"
          ],
          [
           "67c8bfe99f1c"
          ],
          [
           "67d932a88814"
          ],
          [
           "68597a95792d"
          ],
          [
           "68729b79859b"
          ],
          [
           "687ebf4e5d7d"
          ],
          [
           "6a2fa7569189"
          ],
          [
           "6ab2d09883de"
          ],
          [
           "6f5908450956"
          ],
          [
           "72ee3bca17f6"
          ],
          [
           "73483f848b67"
          ],
          [
           "7445f4eac4de"
          ],
          [
           "7830dec4b764"
          ],
          [
           "785a0d3c4c41"
          ],
          [
           "79b44ed25c29"
          ],
          [
           "7af31043202c"
          ],
          [
           "7cb9a95a62fc"
          ],
          [
           "7f6d8841c044"
          ],
          [
           "8065efe77fab"
          ],
          [
           "81015c6c3404"
          ],
          [
           "8803ec4462c1"
          ],
          [
           "89a5ed9b71a8"
          ],
          [
           "8ba157c016ba"
          ],
          [
           "8ead0a51d11c"
          ],
          [
           "8f5b7d4621da"
          ],
          [
           "9230d1831db3"
          ],
          [
           "96fbcce4f0c0"
          ],
          [
           "98102929d244"
          ],
          [
           "9ed6b861e9f7"
          ],
          [
           "9ef1886b810c"
          ],
          [
           "a082f422799b"
          ],
          [
           "a20ba8577583"
          ],
          [
           "a22a15853970"
          ],
          [
           "a795db8ca395"
          ],
          [
           "a7d4dd890a1b"
          ],
          [
           "a92580fda1c3"
          ],
          [
           "ac38de805eff"
          ],
          [
           "acc1f36dca1c"
          ],
          [
           "ad8e95777bf2"
          ],
          [
           "b9856a5d8f13"
          ],
          [
           "ba4443b0170c"
          ],
          [
           "bbb1066a9afd"
          ],
          [
           "c08f5a77f267"
          ],
          [
           "c5c8ffd0c908"
          ],
          [
           "c5cc9b3fa0b9"
          ],
          [
           "c5f4dc4ae7fb"
          ],
          [
           "c7f5064f4265"
          ],
          [
           "c809ac237df8"
          ],
          [
           "c9f71bcf8be0"
          ],
          [
           "cf5439add02c"
          ],
          [
           "cf84868cd1ce"
          ],
          [
           "d0ecfae80796"
          ],
          [
           "d1a9f56adc4a"
          ],
          [
           "d3ce7974230c"
          ],
          [
           "d482356ae08f"
          ],
          [
           "d8dae19a0df0"
          ],
          [
           "da1a5aec1818"
          ],
          [
           "deaf77f02382"
          ],
          [
           "dfa4ccdd5f4a"
          ],
          [
           "e253dc2f97c0"
          ],
          [
           "e52a2f7ad6a5"
          ],
          [
           "e76aa8f0f2e7"
          ],
          [
           "e7a607afea3d"
          ],
          [
           "ed3486389307"
          ],
          [
           "f16b095a433f"
          ],
          [
           "f26ee0cee841"
          ],
          [
           "f405c0b5836f"
          ],
          [
           "fbb79ba9d642"
          ]
         ],
         "hovertemplate": "Class=1<br>Positive Class Probability=%{x}<br>Sample Integer Index=%{y}<br>Id=%{customdata[0]}<extra></extra>",
         "legendgroup": "1",
         "marker": {
          "color": "#FF2079",
          "opacity": 0.6,
          "size": 6,
          "symbol": "circle"
         },
         "mode": "markers",
         "name": "1",
         "orientation": "v",
         "showlegend": true,
         "type": "scatter",
         "x": [
          0.9685774599853023,
          0.7939092639036966,
          0.9418789624633144,
          0.9913956787029188,
          0.8442584678602859,
          0.8823498606379893,
          0.8676471192886395,
          0.9979013386401798,
          0.9865866099734799,
          0.9347541454225112,
          0.9903922524790827,
          0.9912315217526148,
          0.9319568138083371,
          0.9243262250460841,
          0.7440093462335378,
          0.6675110185415292,
          0.9485487445107743,
          0.9888193160729377,
          0.9952145234981667,
          0.9298491017380803,
          0.9209856641258047,
          0.9740089694285834,
          0.40118135279109496,
          0.5573655790640879,
          0.9850650527003741,
          0.9724866065642253,
          0.9290875285096789,
          0.9864132832453112,
          0.9969177182761438,
          0.8222348780248303,
          0.6841566818079666,
          0.978519985374886,
          0.28851157778458275,
          0.978188216076882,
          0.8876990279584044,
          0.8511491488021565,
          0.902599491239678,
          0.9939913925175234,
          0.9587776192900591,
          0.9949671332311908,
          0.9988273383977149,
          0.964526246448884,
          0.9782990760269492,
          0.8617066984573359,
          0.1724211188711767,
          0.9821237828260871,
          0.9238845262344413,
          0.6795203650347343,
          0.9940143710937217,
          0.9920757888103496,
          0.9899060808118774,
          0.9103838540692987,
          0.9707735938975119,
          0.8766809792447129,
          0.9178535930390213,
          0.9507844121676298,
          0.11635844997345786,
          0.8941446156490725,
          0.9954345530859634,
          0.806229466531304,
          0.9034407635136633,
          0.886073623214249,
          0.9980487214081079,
          0.996824441446495,
          0.9784722023167867,
          0.9582197599407518,
          0.8413355306747865,
          0.7278145782119018,
          0.9643296050456843,
          0.5302817449883136,
          0.9689938306280004,
          0.7230310291541584,
          0.960648813935375,
          0.27661562803510653,
          0.9971236088548657,
          0.9907968356564375,
          0.9887683729932576,
          0.36096492647729095,
          0.9626938036942446,
          0.9388301143850886,
          0.9598370538992949,
          0.9628008079304069,
          0.6853207010068944,
          0.9781281348095971,
          0.9829114706883896,
          0.9772393541518921,
          0.9936214729373736,
          0.9986519973832074,
          0.7826182190887557,
          0.0094413342945375,
          0.9985463611608887,
          0.9698665706568826,
          0.9992428750756351,
          0.9923200260868794,
          0.9981041463795306,
          0.9916046266669161,
          0.9779926957236074,
          0.9954821434714708,
          0.9872615321009904,
          0.9635117772563362,
          0.9776292708413813,
          0.99453703046268,
          0.9713133030414672,
          0.709334639225583,
          0.9900338190017275,
          0.9967100740493994,
          0.9579241833788157,
          0.9382456354584618
         ],
         "xaxis": "x",
         "y": [
          0,
          4,
          10,
          13,
          31,
          32,
          36,
          41,
          49,
          75,
          76,
          79,
          88,
          91,
          93,
          95,
          96,
          109,
          118,
          127,
          131,
          134,
          145,
          146,
          150,
          155,
          160,
          162,
          165,
          181,
          186,
          189,
          193,
          218,
          229,
          232,
          238,
          249,
          256,
          258,
          259,
          261,
          262,
          265,
          267,
          268,
          274,
          275,
          282,
          288,
          290,
          294,
          300,
          301,
          304,
          307,
          313,
          318,
          324,
          330,
          344,
          348,
          357,
          368,
          371,
          378,
          387,
          391,
          406,
          408,
          412,
          413,
          415,
          421,
          423,
          425,
          433,
          434,
          436,
          467,
          470,
          471,
          479,
          486,
          487,
          490,
          493,
          494,
          500,
          509,
          511,
          516,
          518,
          526,
          530,
          536,
          538,
          546,
          548,
          555,
          559,
          563,
          564,
          576,
          585,
          588,
          592,
          608
         ],
         "yaxis": "y"
        }
       ],
       "layout": {
        "font": {
         "color": "#010D36"
        },
        "height": 540,
        "legend": {
         "itemsizing": "constant",
         "orientation": "h",
         "title": {
          "text": "Class"
         },
         "tracegroupgap": 0,
         "x": 1,
         "xanchor": "right",
         "y": 1.05,
         "yanchor": "bottom"
        },
        "paper_bgcolor": "#F6F5F5",
        "plot_bgcolor": "#F6F5F5",
        "template": {
         "data": {
          "bar": [
           {
            "error_x": {
             "color": "#2a3f5f"
            },
            "error_y": {
             "color": "#2a3f5f"
            },
            "marker": {
             "line": {
              "color": "#E5ECF6",
              "width": 0.5
             },
             "pattern": {
              "fillmode": "overlay",
              "size": 10,
              "solidity": 0.2
             }
            },
            "type": "bar"
           }
          ],
          "barpolar": [
           {
            "marker": {
             "line": {
              "color": "#E5ECF6",
              "width": 0.5
             },
             "pattern": {
              "fillmode": "overlay",
              "size": 10,
              "solidity": 0.2
             }
            },
            "type": "barpolar"
           }
          ],
          "carpet": [
           {
            "aaxis": {
             "endlinecolor": "#2a3f5f",
             "gridcolor": "white",
             "linecolor": "white",
             "minorgridcolor": "white",
             "startlinecolor": "#2a3f5f"
            },
            "baxis": {
             "endlinecolor": "#2a3f5f",
             "gridcolor": "white",
             "linecolor": "white",
             "minorgridcolor": "white",
             "startlinecolor": "#2a3f5f"
            },
            "type": "carpet"
           }
          ],
          "choropleth": [
           {
            "colorbar": {
             "outlinewidth": 0,
             "ticks": ""
            },
            "type": "choropleth"
           }
          ],
          "contour": [
           {
            "colorbar": {
             "outlinewidth": 0,
             "ticks": ""
            },
            "colorscale": [
             [
              0,
              "#0d0887"
             ],
             [
              0.1111111111111111,
              "#46039f"
             ],
             [
              0.2222222222222222,
              "#7201a8"
             ],
             [
              0.3333333333333333,
              "#9c179e"
             ],
             [
              0.4444444444444444,
              "#bd3786"
             ],
             [
              0.5555555555555556,
              "#d8576b"
             ],
             [
              0.6666666666666666,
              "#ed7953"
             ],
             [
              0.7777777777777778,
              "#fb9f3a"
             ],
             [
              0.8888888888888888,
              "#fdca26"
             ],
             [
              1,
              "#f0f921"
             ]
            ],
            "type": "contour"
           }
          ],
          "contourcarpet": [
           {
            "colorbar": {
             "outlinewidth": 0,
             "ticks": ""
            },
            "type": "contourcarpet"
           }
          ],
          "heatmap": [
           {
            "colorbar": {
             "outlinewidth": 0,
             "ticks": ""
            },
            "colorscale": [
             [
              0,
              "#0d0887"
             ],
             [
              0.1111111111111111,
              "#46039f"
             ],
             [
              0.2222222222222222,
              "#7201a8"
             ],
             [
              0.3333333333333333,
              "#9c179e"
             ],
             [
              0.4444444444444444,
              "#bd3786"
             ],
             [
              0.5555555555555556,
              "#d8576b"
             ],
             [
              0.6666666666666666,
              "#ed7953"
             ],
             [
              0.7777777777777778,
              "#fb9f3a"
             ],
             [
              0.8888888888888888,
              "#fdca26"
             ],
             [
              1,
              "#f0f921"
             ]
            ],
            "type": "heatmap"
           }
          ],
          "heatmapgl": [
           {
            "colorbar": {
             "outlinewidth": 0,
             "ticks": ""
            },
            "colorscale": [
             [
              0,
              "#0d0887"
             ],
             [
              0.1111111111111111,
              "#46039f"
             ],
             [
              0.2222222222222222,
              "#7201a8"
             ],
             [
              0.3333333333333333,
              "#9c179e"
             ],
             [
              0.4444444444444444,
              "#bd3786"
             ],
             [
              0.5555555555555556,
              "#d8576b"
             ],
             [
              0.6666666666666666,
              "#ed7953"
             ],
             [
              0.7777777777777778,
              "#fb9f3a"
             ],
             [
              0.8888888888888888,
              "#fdca26"
             ],
             [
              1,
              "#f0f921"
             ]
            ],
            "type": "heatmapgl"
           }
          ],
          "histogram": [
           {
            "marker": {
             "pattern": {
              "fillmode": "overlay",
              "size": 10,
              "solidity": 0.2
             }
            },
            "type": "histogram"
           }
          ],
          "histogram2d": [
           {
            "colorbar": {
             "outlinewidth": 0,
             "ticks": ""
            },
            "colorscale": [
             [
              0,
              "#0d0887"
             ],
             [
              0.1111111111111111,
              "#46039f"
             ],
             [
              0.2222222222222222,
              "#7201a8"
             ],
             [
              0.3333333333333333,
              "#9c179e"
             ],
             [
              0.4444444444444444,
              "#bd3786"
             ],
             [
              0.5555555555555556,
              "#d8576b"
             ],
             [
              0.6666666666666666,
              "#ed7953"
             ],
             [
              0.7777777777777778,
              "#fb9f3a"
             ],
             [
              0.8888888888888888,
              "#fdca26"
             ],
             [
              1,
              "#f0f921"
             ]
            ],
            "type": "histogram2d"
           }
          ],
          "histogram2dcontour": [
           {
            "colorbar": {
             "outlinewidth": 0,
             "ticks": ""
            },
            "colorscale": [
             [
              0,
              "#0d0887"
             ],
             [
              0.1111111111111111,
              "#46039f"
             ],
             [
              0.2222222222222222,
              "#7201a8"
             ],
             [
              0.3333333333333333,
              "#9c179e"
             ],
             [
              0.4444444444444444,
              "#bd3786"
             ],
             [
              0.5555555555555556,
              "#d8576b"
             ],
             [
              0.6666666666666666,
              "#ed7953"
             ],
             [
              0.7777777777777778,
              "#fb9f3a"
             ],
             [
              0.8888888888888888,
              "#fdca26"
             ],
             [
              1,
              "#f0f921"
             ]
            ],
            "type": "histogram2dcontour"
           }
          ],
          "mesh3d": [
           {
            "colorbar": {
             "outlinewidth": 0,
             "ticks": ""
            },
            "type": "mesh3d"
           }
          ],
          "parcoords": [
           {
            "line": {
             "colorbar": {
              "outlinewidth": 0,
              "ticks": ""
             }
            },
            "type": "parcoords"
           }
          ],
          "pie": [
           {
            "automargin": true,
            "type": "pie"
           }
          ],
          "scatter": [
           {
            "fillpattern": {
             "fillmode": "overlay",
             "size": 10,
             "solidity": 0.2
            },
            "type": "scatter"
           }
          ],
          "scatter3d": [
           {
            "line": {
             "colorbar": {
              "outlinewidth": 0,
              "ticks": ""
             }
            },
            "marker": {
             "colorbar": {
              "outlinewidth": 0,
              "ticks": ""
             }
            },
            "type": "scatter3d"
           }
          ],
          "scattercarpet": [
           {
            "marker": {
             "colorbar": {
              "outlinewidth": 0,
              "ticks": ""
             }
            },
            "type": "scattercarpet"
           }
          ],
          "scattergeo": [
           {
            "marker": {
             "colorbar": {
              "outlinewidth": 0,
              "ticks": ""
             }
            },
            "type": "scattergeo"
           }
          ],
          "scattergl": [
           {
            "marker": {
             "colorbar": {
              "outlinewidth": 0,
              "ticks": ""
             }
            },
            "type": "scattergl"
           }
          ],
          "scattermapbox": [
           {
            "marker": {
             "colorbar": {
              "outlinewidth": 0,
              "ticks": ""
             }
            },
            "type": "scattermapbox"
           }
          ],
          "scatterpolar": [
           {
            "marker": {
             "colorbar": {
              "outlinewidth": 0,
              "ticks": ""
             }
            },
            "type": "scatterpolar"
           }
          ],
          "scatterpolargl": [
           {
            "marker": {
             "colorbar": {
              "outlinewidth": 0,
              "ticks": ""
             }
            },
            "type": "scatterpolargl"
           }
          ],
          "scatterternary": [
           {
            "marker": {
             "colorbar": {
              "outlinewidth": 0,
              "ticks": ""
             }
            },
            "type": "scatterternary"
           }
          ],
          "surface": [
           {
            "colorbar": {
             "outlinewidth": 0,
             "ticks": ""
            },
            "colorscale": [
             [
              0,
              "#0d0887"
             ],
             [
              0.1111111111111111,
              "#46039f"
             ],
             [
              0.2222222222222222,
              "#7201a8"
             ],
             [
              0.3333333333333333,
              "#9c179e"
             ],
             [
              0.4444444444444444,
              "#bd3786"
             ],
             [
              0.5555555555555556,
              "#d8576b"
             ],
             [
              0.6666666666666666,
              "#ed7953"
             ],
             [
              0.7777777777777778,
              "#fb9f3a"
             ],
             [
              0.8888888888888888,
              "#fdca26"
             ],
             [
              1,
              "#f0f921"
             ]
            ],
            "type": "surface"
           }
          ],
          "table": [
           {
            "cells": {
             "fill": {
              "color": "#EBF0F8"
             },
             "line": {
              "color": "white"
             }
            },
            "header": {
             "fill": {
              "color": "#C8D4E3"
             },
             "line": {
              "color": "white"
             }
            },
            "type": "table"
           }
          ]
         },
         "layout": {
          "annotationdefaults": {
           "arrowcolor": "#2a3f5f",
           "arrowhead": 0,
           "arrowwidth": 1
          },
          "autotypenumbers": "strict",
          "coloraxis": {
           "colorbar": {
            "outlinewidth": 0,
            "ticks": ""
           }
          },
          "colorscale": {
           "diverging": [
            [
             0,
             "#8e0152"
            ],
            [
             0.1,
             "#c51b7d"
            ],
            [
             0.2,
             "#de77ae"
            ],
            [
             0.3,
             "#f1b6da"
            ],
            [
             0.4,
             "#fde0ef"
            ],
            [
             0.5,
             "#f7f7f7"
            ],
            [
             0.6,
             "#e6f5d0"
            ],
            [
             0.7,
             "#b8e186"
            ],
            [
             0.8,
             "#7fbc41"
            ],
            [
             0.9,
             "#4d9221"
            ],
            [
             1,
             "#276419"
            ]
           ],
           "sequential": [
            [
             0,
             "#0d0887"
            ],
            [
             0.1111111111111111,
             "#46039f"
            ],
            [
             0.2222222222222222,
             "#7201a8"
            ],
            [
             0.3333333333333333,
             "#9c179e"
            ],
            [
             0.4444444444444444,
             "#bd3786"
            ],
            [
             0.5555555555555556,
             "#d8576b"
            ],
            [
             0.6666666666666666,
             "#ed7953"
            ],
            [
             0.7777777777777778,
             "#fb9f3a"
            ],
            [
             0.8888888888888888,
             "#fdca26"
            ],
            [
             1,
             "#f0f921"
            ]
           ],
           "sequentialminus": [
            [
             0,
             "#0d0887"
            ],
            [
             0.1111111111111111,
             "#46039f"
            ],
            [
             0.2222222222222222,
             "#7201a8"
            ],
            [
             0.3333333333333333,
             "#9c179e"
            ],
            [
             0.4444444444444444,
             "#bd3786"
            ],
            [
             0.5555555555555556,
             "#d8576b"
            ],
            [
             0.6666666666666666,
             "#ed7953"
            ],
            [
             0.7777777777777778,
             "#fb9f3a"
            ],
            [
             0.8888888888888888,
             "#fdca26"
            ],
            [
             1,
             "#f0f921"
            ]
           ]
          },
          "colorway": [
           "#636efa",
           "#EF553B",
           "#00cc96",
           "#ab63fa",
           "#FFA15A",
           "#19d3f3",
           "#FF6692",
           "#B6E880",
           "#FF97FF",
           "#FECB52"
          ],
          "font": {
           "color": "#2a3f5f"
          },
          "geo": {
           "bgcolor": "white",
           "lakecolor": "white",
           "landcolor": "#E5ECF6",
           "showlakes": true,
           "showland": true,
           "subunitcolor": "white"
          },
          "hoverlabel": {
           "align": "left"
          },
          "hovermode": "closest",
          "mapbox": {
           "style": "light"
          },
          "paper_bgcolor": "white",
          "plot_bgcolor": "#E5ECF6",
          "polar": {
           "angularaxis": {
            "gridcolor": "white",
            "linecolor": "white",
            "ticks": ""
           },
           "bgcolor": "#E5ECF6",
           "radialaxis": {
            "gridcolor": "white",
            "linecolor": "white",
            "ticks": ""
           }
          },
          "scene": {
           "xaxis": {
            "backgroundcolor": "#E5ECF6",
            "gridcolor": "white",
            "gridwidth": 2,
            "linecolor": "white",
            "showbackground": true,
            "ticks": "",
            "zerolinecolor": "white"
           },
           "yaxis": {
            "backgroundcolor": "#E5ECF6",
            "gridcolor": "white",
            "gridwidth": 2,
            "linecolor": "white",
            "showbackground": true,
            "ticks": "",
            "zerolinecolor": "white"
           },
           "zaxis": {
            "backgroundcolor": "#E5ECF6",
            "gridcolor": "white",
            "gridwidth": 2,
            "linecolor": "white",
            "showbackground": true,
            "ticks": "",
            "zerolinecolor": "white"
           }
          },
          "shapedefaults": {
           "line": {
            "color": "#2a3f5f"
           }
          },
          "ternary": {
           "aaxis": {
            "gridcolor": "white",
            "linecolor": "white",
            "ticks": ""
           },
           "baxis": {
            "gridcolor": "white",
            "linecolor": "white",
            "ticks": ""
           },
           "bgcolor": "#E5ECF6",
           "caxis": {
            "gridcolor": "white",
            "linecolor": "white",
            "ticks": ""
           }
          },
          "title": {
           "x": 0.05
          },
          "xaxis": {
           "automargin": true,
           "gridcolor": "white",
           "linecolor": "white",
           "ticks": "",
           "title": {
            "standoff": 15
           },
           "zerolinecolor": "white",
           "zerolinewidth": 2
          },
          "yaxis": {
           "automargin": true,
           "gridcolor": "white",
           "linecolor": "white",
           "ticks": "",
           "title": {
            "standoff": 15
           },
           "zerolinecolor": "white",
           "zerolinewidth": 2
          }
         }
        },
        "title": {
         "font": {
          "size": 18
         },
         "text": "Training Dataset - Out of Fold Predictions"
        },
        "width": 840,
        "xaxis": {
         "anchor": "y",
         "domain": [
          0,
          1
         ],
         "range": [
          -0.02,
          1.02
         ],
         "title": {
          "text": "Positive Class Probability"
         }
        },
        "yaxis": {
         "anchor": "x",
         "domain": [
          0,
          1
         ],
         "title": {
          "text": "Sample Integer Index"
         }
        }
       }
      }
     },
     "metadata": {},
     "output_type": "display_data"
    }
   ],
   "source": [
    "y_proba_frame = pd.DataFrame(\n",
    "    {\n",
    "        \"Sample Integer Index\": np.arange(0, len(y)),\n",
    "        \"Positive Class Probability\": y_proba_rescaled,\n",
    "        \"Class\": y.values.astype(str),\n",
    "    },\n",
    "    index=y.index,\n",
    ")\n",
    "\n",
    "fig = px.scatter(\n",
    "    y_proba_frame.reset_index(),\n",
    "    x=\"Positive Class Probability\",\n",
    "    y=\"Sample Integer Index\",\n",
    "    symbol=\"Class\",\n",
    "    symbol_sequence=[\"diamond\", \"circle\"],\n",
    "    color=\"Class\",\n",
    "    color_discrete_sequence=[\"#010D36\", \"#FF2079\"],\n",
    "    category_orders={\"Class\": (\"0\", \"1\")},\n",
    "    hover_data=\"Id\",\n",
    "    opacity=0.6,\n",
    "    height=540,\n",
    "    width=840,\n",
    "    title=\"Training Dataset - Out of Fold Predictions\",\n",
    ")\n",
    "fig.update_layout(\n",
    "    font_color=FONT_COLOR,\n",
    "    title_font_size=18,\n",
    "    plot_bgcolor=BACKGROUND_COLOR,\n",
    "    paper_bgcolor=BACKGROUND_COLOR,\n",
    "    legend=dict(\n",
    "        orientation=\"h\",\n",
    "        yanchor=\"bottom\",\n",
    "        xanchor=\"right\",\n",
    "        y=1.05,\n",
    "        x=1,\n",
    "        title=\"Class\",\n",
    "        itemsizing=\"constant\",\n",
    "    ),\n",
    "    xaxis_range=[-0.02, 1.02],\n",
    ")\n",
    "fig.update_traces(marker_size=6)\n",
    "fig.show()"
   ]
  },
  {
   "cell_type": "code",
   "execution_count": 15,
   "metadata": {},
   "outputs": [],
   "source": [
    "if np.all(np.isclose(test.select_dtypes(\"number\").sum(), 0)):\n",
    "    test_numeric_cols = test.select_dtypes(\"number\").columns\n",
    "    test[test_numeric_cols] += 1e-9\n",
    "\n",
    "test_ids = test.index\n",
    "y_test = np.zeros_like(test_ids)\n",
    "\n",
    "for classifier in classifiers.values():\n",
    "    y_test += classifier.predict_proba(test)[:, 1]\n",
    "\n",
    "y_test_rescaled = y_test / len(classifiers)\n",
    "y_test_postprocessed = perform_postprocessing(y_test_rescaled)\n"
   ]
  },
  {
   "cell_type": "code",
   "execution_count": 16,
   "metadata": {},
   "outputs": [
    {
     "data": {
      "text/html": [
       "<div>\n",
       "<style scoped>\n",
       "    .dataframe tbody tr th:only-of-type {\n",
       "        vertical-align: middle;\n",
       "    }\n",
       "\n",
       "    .dataframe tbody tr th {\n",
       "        vertical-align: top;\n",
       "    }\n",
       "\n",
       "    .dataframe thead th {\n",
       "        text-align: right;\n",
       "    }\n",
       "</style>\n",
       "<table border=\"1\" class=\"dataframe\">\n",
       "  <thead>\n",
       "    <tr style=\"text-align: right;\">\n",
       "      <th></th>\n",
       "      <th>class_0</th>\n",
       "      <th>class_1</th>\n",
       "    </tr>\n",
       "    <tr>\n",
       "      <th>Id</th>\n",
       "      <th></th>\n",
       "      <th></th>\n",
       "    </tr>\n",
       "  </thead>\n",
       "  <tbody>\n",
       "    <tr>\n",
       "      <th>00eed32682bb</th>\n",
       "      <td>0.544229</td>\n",
       "      <td>0.455771</td>\n",
       "    </tr>\n",
       "    <tr>\n",
       "      <th>010ebe33f668</th>\n",
       "      <td>0.544229</td>\n",
       "      <td>0.455771</td>\n",
       "    </tr>\n",
       "    <tr>\n",
       "      <th>02fa521e1838</th>\n",
       "      <td>0.544229</td>\n",
       "      <td>0.455771</td>\n",
       "    </tr>\n",
       "    <tr>\n",
       "      <th>040e15f562a2</th>\n",
       "      <td>0.544229</td>\n",
       "      <td>0.455771</td>\n",
       "    </tr>\n",
       "    <tr>\n",
       "      <th>046e85c7cc7f</th>\n",
       "      <td>0.544229</td>\n",
       "      <td>0.455771</td>\n",
       "    </tr>\n",
       "  </tbody>\n",
       "</table>\n",
       "</div>"
      ],
      "text/plain": [
       "               class_0   class_1\n",
       "Id                              \n",
       "00eed32682bb  0.544229  0.455771\n",
       "010ebe33f668  0.544229  0.455771\n",
       "02fa521e1838  0.544229  0.455771\n",
       "040e15f562a2  0.544229  0.455771\n",
       "046e85c7cc7f  0.544229  0.455771"
      ]
     },
     "execution_count": 16,
     "metadata": {},
     "output_type": "execute_result"
    }
   ],
   "source": [
    "submission = pd.DataFrame(\n",
    "    {\n",
    "        \"Id\": test_ids,\n",
    "        \"class_0\": 1 - y_test_rescaled,\n",
    "        \"class_1\": y_test_rescaled,\n",
    "    }\n",
    ").set_index(\"Id\")\n",
    "\n",
    "submission.to_csv(\"submission.csv\")\n",
    "submission.head()\n"
   ]
  }
 ],
 "metadata": {
  "kernelspec": {
   "display_name": "Python 3",
   "language": "python",
   "name": "python3"
  },
  "language_info": {
   "codemirror_mode": {
    "name": "ipython",
    "version": 3
   },
   "file_extension": ".py",
   "mimetype": "text/x-python",
   "name": "python",
   "nbconvert_exporter": "python",
   "pygments_lexer": "ipython3",
   "version": "3.10.5"
  },
  "orig_nbformat": 4
 },
 "nbformat": 4,
 "nbformat_minor": 2
}
