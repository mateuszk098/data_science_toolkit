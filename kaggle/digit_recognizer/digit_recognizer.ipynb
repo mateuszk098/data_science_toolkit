{
 "cells": [
  {
   "cell_type": "code",
   "execution_count": 130,
   "metadata": {},
   "outputs": [],
   "source": [
    "from pathlib import Path\n",
    "import numpy as np\n",
    "import pandas as pd\n",
    "import seaborn as sns\n",
    "import matplotlib as mpl\n",
    "import matplotlib.pyplot as plt\n",
    "\n",
    "ON_KAGGLE = False\n",
    "MODELS_PATH = Path(\"models\")\n",
    "MODELS_PATH.mkdir(exist_ok=True)  # If directory exists, do nothing.\n",
    "\n",
    "# Default settings for matplotlib.\n",
    "DARK_BLUE = \"#03002e\"\n",
    "LIGHT_GRAY = \"#8f8f99\"\n",
    "\n",
    "plt.rc(\"font\", size=14, family=\"serif\")\n",
    "plt.rc(\"legend\", fontsize=14)\n",
    "plt.rc(\"text\", color=DARK_BLUE)\n",
    "\n",
    "plt.rc(\"axes\", labelsize=14)\n",
    "plt.rc(\"axes\", titlesize=14)\n",
    "plt.rc(\"axes\", labelpad=10)\n",
    "plt.rc(\"axes\", labelcolor=DARK_BLUE)\n",
    "plt.rc(\"axes\", grid=True)\n",
    "\n",
    "plt.rc(\"xtick\", labelsize=12, color=DARK_BLUE)\n",
    "plt.rc(\"ytick\", labelsize=12, color=DARK_BLUE)\n",
    "plt.rc(\"xtick.major\", pad=10)\n",
    "plt.rc(\"ytick.major\", pad=10)\n",
    "\n",
    "plt.rc(\"grid\", color=LIGHT_GRAY)\n",
    "plt.rc(\"grid\", linestyle=\"dashed\")\n",
    "plt.rc(\"grid\", linewidth=0.5)\n",
    "plt.rc(\"grid\", alpha=0.5)"
   ]
  },
  {
   "cell_type": "code",
   "execution_count": 131,
   "metadata": {},
   "outputs": [],
   "source": [
    "train_set = pd.read_csv(\"data/train.csv\")\n",
    "test_set = pd.read_csv(\"data/test.csv\")"
   ]
  },
  {
   "cell_type": "code",
   "execution_count": 132,
   "metadata": {},
   "outputs": [],
   "source": [
    "train_labels = train_set[\"label\"]\n",
    "train_set = train_set.drop(\"label\", axis=1).values\n",
    "test_set = test_set.values"
   ]
  },
  {
   "cell_type": "code",
   "execution_count": 133,
   "metadata": {},
   "outputs": [],
   "source": [
    "from scipy.ndimage import shift\n",
    "\n",
    "\n",
    "def shift_image(digit, dx, dy):\n",
    "    digit = digit.reshape(28, 28)\n",
    "    shifted_image = shift(digit, [dy, dx])\n",
    "    return shifted_image.reshape(-1)  # Restore the original shape.\n",
    "\n",
    "\n",
    "train_set_augmented = [digit for digit in train_set]\n",
    "train_labels_augmented = [label for label in train_labels]\n",
    "\n",
    "for dx, dy in ((1, 1), (-1, -1), (-1, 1), (1, -1)):\n",
    "    for digit, label in zip(train_set, train_labels):\n",
    "        train_set_augmented.append(shift_image(digit, dx, dy))\n",
    "        train_labels_augmented.append(label)\n",
    "\n",
    "train_set_augmented = np.array(train_set_augmented)\n",
    "train_labels_augmented = np.array(train_labels_augmented)\n",
    "\n",
    "shuffled_ids = np.random.permutation(len(train_set_augmented))\n",
    "train_set_augmented = train_set_augmented[shuffled_ids]\n",
    "train_labels_augmented = train_labels_augmented[shuffled_ids]"
   ]
  },
  {
   "cell_type": "code",
   "execution_count": 134,
   "metadata": {},
   "outputs": [],
   "source": [
    "from sklearn.model_selection import StratifiedShuffleSplit\n",
    "\n",
    "splitter = StratifiedShuffleSplit(n_splits=1, test_size=0.1, random_state=42)\n",
    "train_valid_ids, test_ids = next(splitter.split(train_set_augmented, train_labels_augmented))\n",
    "\n",
    "X_train_valid = train_set_augmented[train_valid_ids]\n",
    "y_train_valid = train_labels_augmented[train_valid_ids]\n",
    "\n",
    "X_test = train_set_augmented[test_ids]\n",
    "y_test = train_labels_augmented[test_ids]\n",
    "\n",
    "splitter = StratifiedShuffleSplit(n_splits=1, test_size=0.2, random_state=42)\n",
    "train_ids, valid_ids = next(splitter.split(X_train_valid, y_train_valid))\n",
    "\n",
    "X_train = X_train_valid[train_ids]\n",
    "y_train = y_train_valid[train_ids]\n",
    "\n",
    "X_valid = X_train_valid[valid_ids]\n",
    "y_valid = y_train_valid[valid_ids]\n"
   ]
  },
  {
   "cell_type": "code",
   "execution_count": 135,
   "metadata": {},
   "outputs": [],
   "source": [
    "from sklearn.preprocessing import MinMaxScaler\n",
    "\n",
    "scaler = MinMaxScaler()\n",
    "X_train_scaled = scaler.fit_transform(X_train)\n",
    "X_valid_scaled = scaler.transform(X_valid)\n",
    "X_test_scaled = scaler.transform(X_test)\n"
   ]
  },
  {
   "cell_type": "code",
   "execution_count": 137,
   "metadata": {},
   "outputs": [
    {
     "data": {
      "text/plain": [
       "0.9521428571428572"
      ]
     },
     "execution_count": 137,
     "metadata": {},
     "output_type": "execute_result"
    }
   ],
   "source": [
    "from sklearn.ensemble import RandomForestClassifier\n",
    "\n",
    "forest_clf = RandomForestClassifier(n_estimators=200, random_state=42)\n",
    "forest_clf.fit(X_valid_scaled, y_valid)\n",
    "forest_clf.score(X_test_scaled, y_test)"
   ]
  },
  {
   "cell_type": "code",
   "execution_count": 138,
   "metadata": {},
   "outputs": [
    {
     "data": {
      "text/plain": [
       "0.9526666666666667"
      ]
     },
     "execution_count": 138,
     "metadata": {},
     "output_type": "execute_result"
    }
   ],
   "source": [
    "from sklearn.neighbors import KNeighborsClassifier\n",
    "\n",
    "knn_clf = KNeighborsClassifier(weights=\"distance\", n_neighbors=4)\n",
    "knn_clf.fit(X_valid_scaled, y_valid)\n",
    "knn_clf.score(X_test_scaled, y_test)\n"
   ]
  },
  {
   "cell_type": "code",
   "execution_count": 139,
   "metadata": {},
   "outputs": [
    {
     "data": {
      "text/plain": [
       "0.956"
      ]
     },
     "execution_count": 139,
     "metadata": {},
     "output_type": "execute_result"
    }
   ],
   "source": [
    "from sklearn.ensemble import ExtraTreesClassifier\n",
    "\n",
    "extra_trees_clf = ExtraTreesClassifier(n_estimators=200, random_state=42)\n",
    "extra_trees_clf.fit(X_valid_scaled, y_valid)\n",
    "extra_trees_clf.score(X_test_scaled, y_test)"
   ]
  },
  {
   "cell_type": "code",
   "execution_count": 140,
   "metadata": {},
   "outputs": [],
   "source": [
    "X_valid_predictions = np.empty((len(X_valid_scaled), 3))\n",
    "for index, estimator in enumerate((forest_clf, knn_clf, extra_trees_clf)):\n",
    "    X_valid_predictions[:, index] = estimator.predict(X_valid_scaled)\n",
    "\n",
    "X_test_predictions = np.empty((len(X_test_scaled), 3))\n",
    "for index, estimator in enumerate((forest_clf, knn_clf, extra_trees_clf)):\n",
    "    X_test_predictions[:, index] = estimator.predict(X_test_scaled)"
   ]
  },
  {
   "cell_type": "code",
   "execution_count": 141,
   "metadata": {},
   "outputs": [
    {
     "data": {
      "text/plain": [
       "0.9595238095238096"
      ]
     },
     "execution_count": 141,
     "metadata": {},
     "output_type": "execute_result"
    }
   ],
   "source": [
    "from sklearn.ensemble import GradientBoostingClassifier\n",
    "\n",
    "gbc_blender = GradientBoostingClassifier(random_state=42)\n",
    "extra_trees_clf.fit(X_valid_predictions, y_valid)\n",
    "extra_trees_clf.score(X_test_predictions, y_test)"
   ]
  },
  {
   "cell_type": "code",
   "execution_count": 142,
   "metadata": {},
   "outputs": [],
   "source": [
    "from sklearn.preprocessing import MinMaxScaler\n",
    "\n",
    "scaler = MinMaxScaler()\n",
    "train_set_augmented_scaled = scaler.fit_transform(train_set_augmented)\n",
    "test_set_scaled = scaler.transform(test_set)"
   ]
  },
  {
   "cell_type": "code",
   "execution_count": 143,
   "metadata": {},
   "outputs": [],
   "source": [
    "from sklearn.ensemble import StackingClassifier\n",
    "\n",
    "stack_clf = StackingClassifier(\n",
    "    [\n",
    "        (\"random_forest_clf\", forest_clf),\n",
    "        (\"knn_clf\", knn_clf),\n",
    "        (\"extra_trees_clf\", extra_trees_clf),\n",
    "    ],\n",
    "    final_estimator=gbc_blender,\n",
    "    n_jobs=-1,\n",
    "    cv=3,\n",
    ")\n",
    "\n",
    "stack_clf.fit(train_set_augmented_scaled, train_labels_augmented);\n"
   ]
  },
  {
   "cell_type": "code",
   "execution_count": null,
   "metadata": {},
   "outputs": [],
   "source": [
    "results = stack_clf.predict(test_set_scaled)\n",
    "\n",
    "sumbission = pd.DataFrame({\"ImageID\": range(1, len(test_set) + 1), \"Label\": results})\n",
    "sumbission.set_index(\"ImageID\").to_csv(\"data/submission.csv\")\n"
   ]
  },
  {
   "cell_type": "code",
   "execution_count": null,
   "metadata": {},
   "outputs": [],
   "source": []
  }
 ],
 "metadata": {
  "kernelspec": {
   "display_name": "Python 3",
   "language": "python",
   "name": "python3"
  },
  "language_info": {
   "codemirror_mode": {
    "name": "ipython",
    "version": 3
   },
   "file_extension": ".py",
   "mimetype": "text/x-python",
   "name": "python",
   "nbconvert_exporter": "python",
   "pygments_lexer": "ipython3",
   "version": "3.10.5"
  },
  "orig_nbformat": 4,
  "vscode": {
   "interpreter": {
    "hash": "43649d95374003884189df83e9e8a65c7ef239a82272d2bb0b2e5e5cfcbf86e6"
   }
  }
 },
 "nbformat": 4,
 "nbformat_minor": 2
}
