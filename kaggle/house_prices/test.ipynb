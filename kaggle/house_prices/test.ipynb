{
 "cells": [
  {
   "cell_type": "code",
   "execution_count": 1,
   "metadata": {},
   "outputs": [
    {
     "ename": "NameError",
     "evalue": "name 'train_path' is not defined",
     "output_type": "error",
     "traceback": [
      "\u001b[1;31m---------------------------------------------------------------------------\u001b[0m",
      "\u001b[1;31mNameError\u001b[0m                                 Traceback (most recent call last)",
      "\u001b[1;32mc:\\Users\\Mateusz\\Documents\\PythonRepository\\data_science\\kaggle\\house_prices\\test.ipynb Cell 1\u001b[0m in \u001b[0;36m<cell line: 15>\u001b[1;34m()\u001b[0m\n\u001b[0;32m     <a href='vscode-notebook-cell:/c%3A/Users/Mateusz/Documents/PythonRepository/data_science/kaggle/house_prices/test.ipynb#W0sZmlsZQ%3D%3D?line=9'>10</a>\u001b[0m \u001b[39mfrom\u001b[39;00m \u001b[39msklearn\u001b[39;00m\u001b[39m.\u001b[39;00m\u001b[39mcompose\u001b[39;00m \u001b[39mimport\u001b[39;00m TransformedTargetRegressor\n\u001b[0;32m     <a href='vscode-notebook-cell:/c%3A/Users/Mateusz/Documents/PythonRepository/data_science/kaggle/house_prices/test.ipynb#W0sZmlsZQ%3D%3D?line=11'>12</a>\u001b[0m \u001b[39mfrom\u001b[39;00m \u001b[39mcatboost\u001b[39;00m \u001b[39mimport\u001b[39;00m CatBoostRegressor\n\u001b[1;32m---> <a href='vscode-notebook-cell:/c%3A/Users/Mateusz/Documents/PythonRepository/data_science/kaggle/house_prices/test.ipynb#W0sZmlsZQ%3D%3D?line=14'>15</a>\u001b[0m train_set \u001b[39m=\u001b[39m pd\u001b[39m.\u001b[39mread_csv(train_path)\n\u001b[0;32m     <a href='vscode-notebook-cell:/c%3A/Users/Mateusz/Documents/PythonRepository/data_science/kaggle/house_prices/test.ipynb#W0sZmlsZQ%3D%3D?line=15'>16</a>\u001b[0m test_set \u001b[39m=\u001b[39m pd\u001b[39m.\u001b[39mread_csv(test_path)\n\u001b[0;32m     <a href='vscode-notebook-cell:/c%3A/Users/Mateusz/Documents/PythonRepository/data_science/kaggle/house_prices/test.ipynb#W0sZmlsZQ%3D%3D?line=17'>18</a>\u001b[0m train_labels \u001b[39m=\u001b[39m train_set[\u001b[39m\"\u001b[39m\u001b[39mSalePrice\u001b[39m\u001b[39m\"\u001b[39m]\n",
      "\u001b[1;31mNameError\u001b[0m: name 'train_path' is not defined"
     ]
    }
   ],
   "source": [
    "import numpy as np\n",
    "import pandas as pd\n",
    "\n",
    "from sklearn.pipeline import make_pipeline\n",
    "from sklearn.impute import SimpleImputer\n",
    "from sklearn.preprocessing import StandardScaler\n",
    "from sklearn.preprocessing import OrdinalEncoder\n",
    "from sklearn.compose import make_column_selector\n",
    "from sklearn.compose import make_column_transformer\n",
    "from sklearn.compose import TransformedTargetRegressor\n",
    "\n",
    "from catboost import CatBoostRegressor\n",
    "\n",
    "\n",
    "train_set = pd.read_csv(train_path)\n",
    "test_set = pd.read_csv(test_path)\n",
    "\n",
    "train_labels = train_set[\"SalePrice\"]\n",
    "train_set = train_set.drop(\"SalePrice\", axis=1)\n",
    "\n",
    "num_pipeline = make_pipeline(SimpleImputer(strategy=\"median\"), StandardScaler())\n",
    "cat_pipeline = make_pipeline(SimpleImputer(strategy=\"most_frequent\"), OrdinalEncoder())\n",
    "\n",
    "auto_preprocess = make_column_transformer(\n",
    "    (num_pipeline, make_column_selector(dtype_include=np.number)),\n",
    "    (cat_pipeline, make_column_selector(dtype_include=object)),\n",
    ")\n",
    "\n",
    "log_level_regressor = TransformedTargetRegressor(\n",
    "    CatBoostRegressor(random_state=42, silent=True, allow_writing_files=False),\n",
    "    func=np.log,\n",
    "    inverse_func=np.exp,\n",
    ")\n",
    "\n",
    "final_model = make_pipeline(\n",
    "    auto_preprocess,\n",
    "    log_level_regressor,\n",
    ")\n",
    "\n",
    "final_model.fit(train_set, train_labels)\n",
    "# Dummy only because there isn't any analysis. CatBoost is an excellent model.\n",
    "dummy_results = final_model.predict(test_set)\n",
    "\n",
    "df = pd.DataFrame({\"Id\": test_set[\"Id\"], \"SalePrice\": dummy_results})\n",
    "df.set_index(\"Id\").to_csv(\"dummy_submission.csv\")\n",
    "df.head()"
   ]
  }
 ],
 "metadata": {
  "kernelspec": {
   "display_name": "Python 3",
   "language": "python",
   "name": "python3"
  },
  "language_info": {
   "codemirror_mode": {
    "name": "ipython",
    "version": 3
   },
   "file_extension": ".py",
   "mimetype": "text/x-python",
   "name": "python",
   "nbconvert_exporter": "python",
   "pygments_lexer": "ipython3",
   "version": "3.10.5"
  },
  "orig_nbformat": 4,
  "vscode": {
   "interpreter": {
    "hash": "43649d95374003884189df83e9e8a65c7ef239a82272d2bb0b2e5e5cfcbf86e6"
   }
  }
 },
 "nbformat": 4,
 "nbformat_minor": 2
}
