{
 "cells": [
  {
   "cell_type": "code",
   "execution_count": null,
   "metadata": {},
   "outputs": [],
   "source": [
    "train_set = pd.read_csv(train_path)\n",
    "test_set = pd.read_csv(test_path)\n",
    "\n",
    "train_labels = train_set[\"SalePrice\"]\n",
    "train_set = train_set.drop(\"SalePrice\", axis=1)\n",
    "\n",
    "\n",
    "regressor = VotingRegressor(\n",
    "    [\n",
    "        (\"xgb\", XGBRegressor()),\n",
    "        (\"gbc\", GradientBoostingRegressor()),\n",
    "        (\"lgbm\", LGBMRegressor()),\n",
    "        (\"lasso\", Lasso(alpha=0.001)),\n",
    "        (\"svr\", SVR()),\n",
    "        (\"ridge\", Ridge(alpha=10)),\n",
    "        (\"cat\", CatBoostRegressor(silent=True, allow_writing_files=False)),\n",
    "    ],\n",
    "    n_jobs=-1,\n",
    ")\n",
    "\n",
    "full_pipeline = make_pipeline(\n",
    "    preprocessing,\n",
    "    SelectFromModel(ExtraTreesRegressor(random_state=42, bootstrap=True), threshold=1e-4),\n",
    "    TransformedTargetRegressor(\n",
    "        regressor,\n",
    "        func=np.log,\n",
    "        inverse_func=np.exp,\n",
    "    ),\n",
    ")\n",
    "\n",
    "rmses = -cross_val_score(\n",
    "    full_pipeline,\n",
    "    train_set,\n",
    "    train_labels,\n",
    "    cv=3,\n",
    "    scoring=\"neg_root_mean_squared_error\",\n",
    "    error_score=\"raise\",  # type: ignore\n",
    ")\n",
    "pd.Series(rmses).describe()\n",
    "\n",
    "# Jak sie dostac do elementow\n",
    "# forest = best_model[\"transformedtargetregressor\"].regressor_.named_estimators_.pop(\"forest\")\n",
    "# best_model[\"transformedtargetregressor\"].regressor_.estimators_.remove(forest)\n",
    "# vot_search.best_estimator_[\"selectfrommodel\"].estimator_.n_features_in_"
   ]
  }
 ],
 "metadata": {
  "kernelspec": {
   "display_name": "Python 3",
   "language": "python",
   "name": "python3"
  },
  "language_info": {
   "codemirror_mode": {
    "name": "ipython",
    "version": 3
   },
   "file_extension": ".py",
   "mimetype": "text/x-python",
   "name": "python",
   "nbconvert_exporter": "python",
   "pygments_lexer": "ipython3",
   "version": "3.10.5"
  },
  "orig_nbformat": 4,
  "vscode": {
   "interpreter": {
    "hash": "43649d95374003884189df83e9e8a65c7ef239a82272d2bb0b2e5e5cfcbf86e6"
   }
  }
 },
 "nbformat": 4,
 "nbformat_minor": 2
}
