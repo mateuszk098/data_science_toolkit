{
 "cells": [
  {
   "attachments": {},
   "cell_type": "markdown",
   "metadata": {},
   "source": [
    "<a id=\"1\"></a>\n",
    "# <p style=\"padding:15px; background-color:#023047; font-family:fantasy; font-size:150%; color:#f2f2f0; text-align:center; border-radius: 20px 20px; font-weight:normal\">SPACESHIP TITANIC</p>"
   ]
  },
  {
   "attachments": {},
   "cell_type": "markdown",
   "metadata": {},
   "source": [
    "---"
   ]
  },
  {
   "attachments": {},
   "cell_type": "markdown",
   "metadata": {},
   "source": [
    "#### **DESCRIPTION:**\n",
    "\n",
    "_Welcome to the year 2912, where your data science skills are needed to solve a cosmic mystery. We've received a transmission from four lightyears away and things aren't looking good._\n",
    "\n",
    "_The Spaceship Titanic was an interstellar passenger liner launched a month ago. With almost 13,000 passengers on board, the vessel set out on its maiden voyage transporting emigrants from our solar system to three newly habitable exoplanets orbiting nearby stars._\n",
    "\n",
    "_While rounding Alpha Centauri en route to its first destination—the torrid 55 Cancri E—the unwary Spaceship Titanic collided with a spacetime anomaly hidden within a dust cloud. Sadly, it met a similar fate as its namesake from 1000 years before. Though the ship stayed intact, almost half of the passengers were transported to an alternate dimension!_"
   ]
  },
  {
   "attachments": {},
   "cell_type": "markdown",
   "metadata": {},
   "source": [
    "#### **TASK:** \n",
    "\n",
    "_In this competition your task is to predict whether a passenger was transported to an alternate dimension during the Spaceship Titanic's collision with the spacetime anomaly. To help you make these predictions, you're given a set of personal records recovered from the ship's damaged computer system._"
   ]
  },
  {
   "attachments": {},
   "cell_type": "markdown",
   "metadata": {},
   "source": [
    "#### **SEE MORE HERE:** \n",
    "\n",
    "https://www.kaggle.com/competitions/spaceship-titanic/overview"
   ]
  },
  {
   "attachments": {},
   "cell_type": "markdown",
   "metadata": {},
   "source": [
    "---"
   ]
  },
  {
   "attachments": {},
   "cell_type": "markdown",
   "metadata": {},
   "source": [
    "<a id=\"2\"></a>\n",
    "# <p style=\"padding:15px; background-color:#023047; font-family:fantasy; font-size:150%; color:#f2f2f0; text-align:center; border-radius: 20px 20px; font-weight:normal\">1. EXPLORATORY DATA ANALYSIS (EDA)</p>"
   ]
  },
  {
   "attachments": {},
   "cell_type": "markdown",
   "metadata": {},
   "source": [
    "---"
   ]
  },
  {
   "attachments": {},
   "cell_type": "markdown",
   "metadata": {},
   "source": [
    "## **1.1 GLANCE AT THE DATASET:**"
   ]
  },
  {
   "cell_type": "code",
   "execution_count": 112,
   "metadata": {},
   "outputs": [],
   "source": [
    "import numpy as np\n",
    "import pandas as pd\n",
    "import seaborn as sns\n",
    "import matplotlib as mpl\n",
    "import matplotlib.pyplot as plt\n",
    "\n",
    "# Default settings for matplotlib.\n",
    "DARK_BLUE = \"#03002e\"\n",
    "LIGHT_GRAY = \"#8f8f99\"\n",
    "\n",
    "plt.rc(\"font\", size=14, family=\"serif\")\n",
    "plt.rc(\"legend\", fontsize=14)\n",
    "plt.rc(\"text\", color=DARK_BLUE)\n",
    "\n",
    "plt.rc(\"axes\", labelsize=14)\n",
    "plt.rc(\"axes\", titlesize=14)\n",
    "plt.rc(\"axes\", labelpad=10)\n",
    "plt.rc(\"axes\", labelcolor=DARK_BLUE)\n",
    "plt.rc(\"axes\", grid=True)\n",
    "\n",
    "plt.rc(\"xtick\", labelsize=12, color=DARK_BLUE)\n",
    "plt.rc(\"ytick\", labelsize=12, color=DARK_BLUE)\n",
    "plt.rc(\"xtick.major\", pad=10)\n",
    "plt.rc(\"ytick.major\", pad=10)\n",
    "\n",
    "plt.rc(\"grid\", color=LIGHT_GRAY)\n",
    "plt.rc(\"grid\", linestyle=\"dashed\")\n",
    "plt.rc(\"grid\", linewidth=0.5)\n",
    "plt.rc(\"grid\", alpha=0.5)"
   ]
  },
  {
   "cell_type": "code",
   "execution_count": 113,
   "metadata": {},
   "outputs": [],
   "source": [
    "train_set = pd.read_csv(\"data/train.csv\")\n",
    "test_set = pd.read_csv(\"data/test.csv\")"
   ]
  },
  {
   "attachments": {},
   "cell_type": "markdown",
   "metadata": {},
   "source": [
    "**Features Description:**\n",
    "- `PassengerId` - A unique Id for each passenger. Each Id takes the form gggg_pp where gggg indicates a group the passenger is travelling with and pp is their number within the group. People in a group are often family members, but not always.\n",
    "- `HomePlanet` - The planet the passenger departed from, typically their planet of permanent residence.\n",
    "- `CryoSleep` - Indicates whether the passenger elected to be put into suspended animation for the duration of the voyage. Passengers in cryosleep are confined to their cabins.\n",
    "- `Cabin` - The cabin number where the passenger is staying. Takes the form deck/num/side, where side can be either P for Port or S for Starboard.\n",
    "- `Destination` - The planet the passenger will be debarking to.\n",
    "- `Age` - The age of the passenger.\n",
    "- `VIP` - Whether the passenger has paid for special VIP service during the voyage.\n",
    "- `RoomService`, `FoodCourt`, `ShoppingMall`, `Spa`, `VRDeck` - Amount the passenger has billed at each of the Spaceship Titanic's many luxury amenities.\n",
    "- `Name` - The first and last names of the passenger.\n",
    "- `Transported` - Whether the passenger was transported to another dimension. This is the target, the column you are trying to predict."
   ]
  },
  {
   "cell_type": "code",
   "execution_count": 114,
   "metadata": {},
   "outputs": [
    {
     "data": {
      "text/html": [
       "<div>\n",
       "<style scoped>\n",
       "    .dataframe tbody tr th:only-of-type {\n",
       "        vertical-align: middle;\n",
       "    }\n",
       "\n",
       "    .dataframe tbody tr th {\n",
       "        vertical-align: top;\n",
       "    }\n",
       "\n",
       "    .dataframe thead th {\n",
       "        text-align: right;\n",
       "    }\n",
       "</style>\n",
       "<table border=\"1\" class=\"dataframe\">\n",
       "  <thead>\n",
       "    <tr style=\"text-align: right;\">\n",
       "      <th></th>\n",
       "      <th>PassengerId</th>\n",
       "      <th>HomePlanet</th>\n",
       "      <th>CryoSleep</th>\n",
       "      <th>Cabin</th>\n",
       "      <th>Destination</th>\n",
       "      <th>Age</th>\n",
       "      <th>VIP</th>\n",
       "      <th>RoomService</th>\n",
       "      <th>FoodCourt</th>\n",
       "      <th>ShoppingMall</th>\n",
       "      <th>Spa</th>\n",
       "      <th>VRDeck</th>\n",
       "      <th>Name</th>\n",
       "      <th>Transported</th>\n",
       "    </tr>\n",
       "  </thead>\n",
       "  <tbody>\n",
       "    <tr>\n",
       "      <th>0</th>\n",
       "      <td>0001_01</td>\n",
       "      <td>Europa</td>\n",
       "      <td>False</td>\n",
       "      <td>B/0/P</td>\n",
       "      <td>TRAPPIST-1e</td>\n",
       "      <td>39.0</td>\n",
       "      <td>False</td>\n",
       "      <td>0.0</td>\n",
       "      <td>0.0</td>\n",
       "      <td>0.0</td>\n",
       "      <td>0.0</td>\n",
       "      <td>0.0</td>\n",
       "      <td>Maham Ofracculy</td>\n",
       "      <td>False</td>\n",
       "    </tr>\n",
       "    <tr>\n",
       "      <th>1</th>\n",
       "      <td>0002_01</td>\n",
       "      <td>Earth</td>\n",
       "      <td>False</td>\n",
       "      <td>F/0/S</td>\n",
       "      <td>TRAPPIST-1e</td>\n",
       "      <td>24.0</td>\n",
       "      <td>False</td>\n",
       "      <td>109.0</td>\n",
       "      <td>9.0</td>\n",
       "      <td>25.0</td>\n",
       "      <td>549.0</td>\n",
       "      <td>44.0</td>\n",
       "      <td>Juanna Vines</td>\n",
       "      <td>True</td>\n",
       "    </tr>\n",
       "    <tr>\n",
       "      <th>2</th>\n",
       "      <td>0003_01</td>\n",
       "      <td>Europa</td>\n",
       "      <td>False</td>\n",
       "      <td>A/0/S</td>\n",
       "      <td>TRAPPIST-1e</td>\n",
       "      <td>58.0</td>\n",
       "      <td>True</td>\n",
       "      <td>43.0</td>\n",
       "      <td>3576.0</td>\n",
       "      <td>0.0</td>\n",
       "      <td>6715.0</td>\n",
       "      <td>49.0</td>\n",
       "      <td>Altark Susent</td>\n",
       "      <td>False</td>\n",
       "    </tr>\n",
       "    <tr>\n",
       "      <th>3</th>\n",
       "      <td>0003_02</td>\n",
       "      <td>Europa</td>\n",
       "      <td>False</td>\n",
       "      <td>A/0/S</td>\n",
       "      <td>TRAPPIST-1e</td>\n",
       "      <td>33.0</td>\n",
       "      <td>False</td>\n",
       "      <td>0.0</td>\n",
       "      <td>1283.0</td>\n",
       "      <td>371.0</td>\n",
       "      <td>3329.0</td>\n",
       "      <td>193.0</td>\n",
       "      <td>Solam Susent</td>\n",
       "      <td>False</td>\n",
       "    </tr>\n",
       "    <tr>\n",
       "      <th>4</th>\n",
       "      <td>0004_01</td>\n",
       "      <td>Earth</td>\n",
       "      <td>False</td>\n",
       "      <td>F/1/S</td>\n",
       "      <td>TRAPPIST-1e</td>\n",
       "      <td>16.0</td>\n",
       "      <td>False</td>\n",
       "      <td>303.0</td>\n",
       "      <td>70.0</td>\n",
       "      <td>151.0</td>\n",
       "      <td>565.0</td>\n",
       "      <td>2.0</td>\n",
       "      <td>Willy Santantines</td>\n",
       "      <td>True</td>\n",
       "    </tr>\n",
       "    <tr>\n",
       "      <th>5</th>\n",
       "      <td>0005_01</td>\n",
       "      <td>Earth</td>\n",
       "      <td>False</td>\n",
       "      <td>F/0/P</td>\n",
       "      <td>PSO J318.5-22</td>\n",
       "      <td>44.0</td>\n",
       "      <td>False</td>\n",
       "      <td>0.0</td>\n",
       "      <td>483.0</td>\n",
       "      <td>0.0</td>\n",
       "      <td>291.0</td>\n",
       "      <td>0.0</td>\n",
       "      <td>Sandie Hinetthews</td>\n",
       "      <td>True</td>\n",
       "    </tr>\n",
       "    <tr>\n",
       "      <th>6</th>\n",
       "      <td>0006_01</td>\n",
       "      <td>Earth</td>\n",
       "      <td>False</td>\n",
       "      <td>F/2/S</td>\n",
       "      <td>TRAPPIST-1e</td>\n",
       "      <td>26.0</td>\n",
       "      <td>False</td>\n",
       "      <td>42.0</td>\n",
       "      <td>1539.0</td>\n",
       "      <td>3.0</td>\n",
       "      <td>0.0</td>\n",
       "      <td>0.0</td>\n",
       "      <td>Billex Jacostaffey</td>\n",
       "      <td>True</td>\n",
       "    </tr>\n",
       "    <tr>\n",
       "      <th>7</th>\n",
       "      <td>0006_02</td>\n",
       "      <td>Earth</td>\n",
       "      <td>True</td>\n",
       "      <td>G/0/S</td>\n",
       "      <td>TRAPPIST-1e</td>\n",
       "      <td>28.0</td>\n",
       "      <td>False</td>\n",
       "      <td>0.0</td>\n",
       "      <td>0.0</td>\n",
       "      <td>0.0</td>\n",
       "      <td>0.0</td>\n",
       "      <td>NaN</td>\n",
       "      <td>Candra Jacostaffey</td>\n",
       "      <td>True</td>\n",
       "    </tr>\n",
       "    <tr>\n",
       "      <th>8</th>\n",
       "      <td>0007_01</td>\n",
       "      <td>Earth</td>\n",
       "      <td>False</td>\n",
       "      <td>F/3/S</td>\n",
       "      <td>TRAPPIST-1e</td>\n",
       "      <td>35.0</td>\n",
       "      <td>False</td>\n",
       "      <td>0.0</td>\n",
       "      <td>785.0</td>\n",
       "      <td>17.0</td>\n",
       "      <td>216.0</td>\n",
       "      <td>0.0</td>\n",
       "      <td>Andona Beston</td>\n",
       "      <td>True</td>\n",
       "    </tr>\n",
       "    <tr>\n",
       "      <th>9</th>\n",
       "      <td>0008_01</td>\n",
       "      <td>Europa</td>\n",
       "      <td>True</td>\n",
       "      <td>B/1/P</td>\n",
       "      <td>55 Cancri e</td>\n",
       "      <td>14.0</td>\n",
       "      <td>False</td>\n",
       "      <td>0.0</td>\n",
       "      <td>0.0</td>\n",
       "      <td>0.0</td>\n",
       "      <td>0.0</td>\n",
       "      <td>0.0</td>\n",
       "      <td>Erraiam Flatic</td>\n",
       "      <td>True</td>\n",
       "    </tr>\n",
       "  </tbody>\n",
       "</table>\n",
       "</div>"
      ],
      "text/plain": [
       "  PassengerId HomePlanet CryoSleep  Cabin    Destination   Age    VIP  \\\n",
       "0     0001_01     Europa     False  B/0/P    TRAPPIST-1e  39.0  False   \n",
       "1     0002_01      Earth     False  F/0/S    TRAPPIST-1e  24.0  False   \n",
       "2     0003_01     Europa     False  A/0/S    TRAPPIST-1e  58.0   True   \n",
       "3     0003_02     Europa     False  A/0/S    TRAPPIST-1e  33.0  False   \n",
       "4     0004_01      Earth     False  F/1/S    TRAPPIST-1e  16.0  False   \n",
       "5     0005_01      Earth     False  F/0/P  PSO J318.5-22  44.0  False   \n",
       "6     0006_01      Earth     False  F/2/S    TRAPPIST-1e  26.0  False   \n",
       "7     0006_02      Earth      True  G/0/S    TRAPPIST-1e  28.0  False   \n",
       "8     0007_01      Earth     False  F/3/S    TRAPPIST-1e  35.0  False   \n",
       "9     0008_01     Europa      True  B/1/P    55 Cancri e  14.0  False   \n",
       "\n",
       "   RoomService  FoodCourt  ShoppingMall     Spa  VRDeck                Name  \\\n",
       "0          0.0        0.0           0.0     0.0     0.0     Maham Ofracculy   \n",
       "1        109.0        9.0          25.0   549.0    44.0        Juanna Vines   \n",
       "2         43.0     3576.0           0.0  6715.0    49.0       Altark Susent   \n",
       "3          0.0     1283.0         371.0  3329.0   193.0        Solam Susent   \n",
       "4        303.0       70.0         151.0   565.0     2.0   Willy Santantines   \n",
       "5          0.0      483.0           0.0   291.0     0.0   Sandie Hinetthews   \n",
       "6         42.0     1539.0           3.0     0.0     0.0  Billex Jacostaffey   \n",
       "7          0.0        0.0           0.0     0.0     NaN  Candra Jacostaffey   \n",
       "8          0.0      785.0          17.0   216.0     0.0       Andona Beston   \n",
       "9          0.0        0.0           0.0     0.0     0.0      Erraiam Flatic   \n",
       "\n",
       "   Transported  \n",
       "0        False  \n",
       "1         True  \n",
       "2        False  \n",
       "3        False  \n",
       "4         True  \n",
       "5         True  \n",
       "6         True  \n",
       "7         True  \n",
       "8         True  \n",
       "9         True  "
      ]
     },
     "execution_count": 114,
     "metadata": {},
     "output_type": "execute_result"
    }
   ],
   "source": [
    "train_set.head(10)"
   ]
  },
  {
   "cell_type": "code",
   "execution_count": 115,
   "metadata": {},
   "outputs": [
    {
     "name": "stdout",
     "output_type": "stream",
     "text": [
      "<class 'pandas.core.frame.DataFrame'>\n",
      "RangeIndex: 8693 entries, 0 to 8692\n",
      "Data columns (total 14 columns):\n",
      " #   Column        Non-Null Count  Dtype  \n",
      "---  ------        --------------  -----  \n",
      " 0   PassengerId   8693 non-null   object \n",
      " 1   HomePlanet    8492 non-null   object \n",
      " 2   CryoSleep     8476 non-null   object \n",
      " 3   Cabin         8494 non-null   object \n",
      " 4   Destination   8511 non-null   object \n",
      " 5   Age           8514 non-null   float64\n",
      " 6   VIP           8490 non-null   object \n",
      " 7   RoomService   8512 non-null   float64\n",
      " 8   FoodCourt     8510 non-null   float64\n",
      " 9   ShoppingMall  8485 non-null   float64\n",
      " 10  Spa           8510 non-null   float64\n",
      " 11  VRDeck        8505 non-null   float64\n",
      " 12  Name          8493 non-null   object \n",
      " 13  Transported   8693 non-null   bool   \n",
      "dtypes: bool(1), float64(6), object(7)\n",
      "memory usage: 891.5+ KB\n"
     ]
    }
   ],
   "source": [
    "train_set.info()"
   ]
  },
  {
   "cell_type": "code",
   "execution_count": 116,
   "metadata": {},
   "outputs": [
    {
     "data": {
      "text/plain": [
       "PassengerId       0\n",
       "HomePlanet      201\n",
       "CryoSleep       217\n",
       "Cabin           199\n",
       "Destination     182\n",
       "Age             179\n",
       "VIP             203\n",
       "RoomService     181\n",
       "FoodCourt       183\n",
       "ShoppingMall    208\n",
       "Spa             183\n",
       "VRDeck          188\n",
       "Name            200\n",
       "Transported       0\n",
       "dtype: int64"
      ]
     },
     "execution_count": 116,
     "metadata": {},
     "output_type": "execute_result"
    }
   ],
   "source": [
    "train_set.isna().sum()"
   ]
  },
  {
   "attachments": {},
   "cell_type": "markdown",
   "metadata": {},
   "source": [
    "Let's see which features are categorical and which are numerical."
   ]
  },
  {
   "cell_type": "code",
   "execution_count": 117,
   "metadata": {},
   "outputs": [
    {
     "name": "stdout",
     "output_type": "stream",
     "text": [
      "PassengerId, HomePlanet, CryoSleep, Cabin, Destination, VIP, Name\n"
     ]
    }
   ],
   "source": [
    "cat_features = train_set.select_dtypes(\"object\").columns\n",
    "print(*cat_features, sep=\", \")"
   ]
  },
  {
   "cell_type": "code",
   "execution_count": 118,
   "metadata": {},
   "outputs": [
    {
     "name": "stdout",
     "output_type": "stream",
     "text": [
      "Age, RoomService, FoodCourt, ShoppingMall, Spa, VRDeck\n"
     ]
    }
   ],
   "source": [
    "numerical_features = train_set.select_dtypes(\"number\").columns\n",
    "print(*numerical_features, sep=\", \")"
   ]
  },
  {
   "attachments": {},
   "cell_type": "markdown",
   "metadata": {},
   "source": [
    "Let's have a look at categorical features closely."
   ]
  },
  {
   "cell_type": "code",
   "execution_count": 119,
   "metadata": {},
   "outputs": [
    {
     "name": "stdout",
     "output_type": "stream",
     "text": [
      "False    5439\n",
      "True     3037\n",
      "Name: CryoSleep, dtype: int64\n",
      "\n",
      "TRAPPIST-1e      5915\n",
      "55 Cancri e      1800\n",
      "PSO J318.5-22     796\n",
      "Name: Destination, dtype: int64\n",
      "\n",
      "Earth     4602\n",
      "Europa    2131\n",
      "Mars      1759\n",
      "Name: HomePlanet, dtype: int64\n",
      "\n",
      "False    8291\n",
      "True      199\n",
      "Name: VIP, dtype: int64\n",
      "\n"
     ]
    }
   ],
   "source": [
    "# I guess the `PassengerId`, `Name` and `Cabin` are mostly unique, so we can omit this here.\n",
    "for cat_feature in cat_features.difference({\"PassengerId\", \"Cabin\", \"Name\"}):\n",
    "    print(train_set[cat_feature].value_counts(), end=\"\\n\\n\")"
   ]
  },
  {
   "cell_type": "code",
   "execution_count": 120,
   "metadata": {},
   "outputs": [
    {
     "data": {
      "image/png": "[encoded data removed]",
      "text/plain": [
       "<Figure size 720x576 with 4 Axes>"
      ]
     },
     "metadata": {
      "needs_background": "light"
     },
     "output_type": "display_data"
    }
   ],
   "source": [
    "def plot_categories(features, axes):\n",
    "    \"\"\"Creates `countplot` for categories of the given features.\"\"\"\n",
    "    for feature, axis in zip(features, axes.ravel()):\n",
    "        plt.sca(axis)\n",
    "        frequencies = (train_set[feature].value_counts(normalize=True).round(2) * 100).astype(int)\n",
    "        feature_plot = sns.countplot(x=train_set[feature], palette=\"rocket\", alpha=0.9, order=frequencies.index)\n",
    "        elements = feature_plot.containers\n",
    "        for element in elements:\n",
    "            feature_plot.bar_label(element, label_type=\"center\", padding=18, labels=frequencies.astype(str) + \"%\")\n",
    "        plt.ylabel(\"Counts\")\n",
    "\n",
    "fig, axes = plt.subplots(nrows=2, ncols=2, figsize=(10, 8), squeeze=False)\n",
    "fig.suptitle(\"Counts of CryoSleep, Destination, HomePlanet and VIP Categories\", fontsize=16)\n",
    "plot_categories((\"CryoSleep\", \"Destination\", \"HomePlanet\", \"VIP\"), axes)\n",
    "plt.tight_layout()\n",
    "plt.show()"
   ]
  },
  {
   "attachments": {},
   "cell_type": "markdown",
   "metadata": {},
   "source": [
    "**We can easily see that:**\n",
    "* Almost 2/3 of passengers are not in cryosleep.\n",
    "* The vast majority (~70%) of passengers go to the TRAPPIST-1e.\n",
    "* More than half of passengers come from the Earth.\n",
    "* Almost all (~98%) passengers do not have VIP status."
   ]
  },
  {
   "attachments": {},
   "cell_type": "markdown",
   "metadata": {},
   "source": [
    "At first glance, it is reasonable to fill NaN values for these features with the most frequent strategy. Let's see the `Transported` label yet."
   ]
  },
  {
   "cell_type": "code",
   "execution_count": 121,
   "metadata": {},
   "outputs": [
    {
     "data": {
      "image/png": "[encoded data removed]",
      "text/plain": [
       "<Figure size 360x288 with 1 Axes>"
      ]
     },
     "metadata": {
      "needs_background": "light"
     },
     "output_type": "display_data"
    }
   ],
   "source": [
    "# With `squeeze=False` argument, axes object is always a 2D array.\n",
    "fig, axes = plt.subplots(nrows=1, ncols=1, figsize=(5, 4), squeeze=False)\n",
    "plot_categories((\"Transported\", ), axes)\n",
    "plt.tight_layout()\n",
    "plt.show()"
   ]
  },
  {
   "attachments": {},
   "cell_type": "markdown",
   "metadata": {},
   "source": [
    "Let's see the remain categorical features i.e. `PassengerId`, `Name` and `Cabin`."
   ]
  },
  {
   "cell_type": "code",
   "execution_count": 122,
   "metadata": {},
   "outputs": [
    {
     "name": "stdout",
     "output_type": "stream",
     "text": [
      "PassengerId unique values:     8693 \t100%\n",
      "Cabin unique values:           6561 \t75%\n",
      "Name unique values:            8474 \t97%\n"
     ]
    }
   ],
   "source": [
    "for cat_feature in (\"PassengerId\", \"Cabin\", \"Name\"):\n",
    "    print(f\"{cat_feature} unique values: \".ljust(30), len(train_set[cat_feature].unique()),\n",
    "          f\"\\t{len(train_set[cat_feature].unique()) / len(train_set[cat_feature]):.0%}\")"
   ]
  },
  {
   "attachments": {},
   "cell_type": "markdown",
   "metadata": {},
   "source": [
    "**As we can see, there are mostly unique values. We will handle these features later, in the Feature Engineering section.**"
   ]
  },
  {
   "attachments": {},
   "cell_type": "markdown",
   "metadata": {},
   "source": [
    "We can read that the _CryoSleep indicates whether the passenger elected to be put into suspended animation for the duration of the voyage. Passengers in cryosleep are confined to their cabins_.\n",
    "\n",
    "Let's see how a data frame looks for the passengers that are in CryoSleep. I suppose they should have zero values for the amenities like a `Spa` or `VRDeck`."
   ]
  },
  {
   "cell_type": "code",
   "execution_count": 123,
   "metadata": {},
   "outputs": [
    {
     "data": {
      "text/html": [
       "<div>\n",
       "<style scoped>\n",
       "    .dataframe tbody tr th:only-of-type {\n",
       "        vertical-align: middle;\n",
       "    }\n",
       "\n",
       "    .dataframe tbody tr th {\n",
       "        vertical-align: top;\n",
       "    }\n",
       "\n",
       "    .dataframe thead th {\n",
       "        text-align: right;\n",
       "    }\n",
       "</style>\n",
       "<table border=\"1\" class=\"dataframe\">\n",
       "  <thead>\n",
       "    <tr style=\"text-align: right;\">\n",
       "      <th></th>\n",
       "      <th>RoomService</th>\n",
       "      <th>FoodCourt</th>\n",
       "      <th>ShoppingMall</th>\n",
       "      <th>Spa</th>\n",
       "      <th>VRDeck</th>\n",
       "    </tr>\n",
       "  </thead>\n",
       "  <tbody>\n",
       "    <tr>\n",
       "      <th>7</th>\n",
       "      <td>0.0</td>\n",
       "      <td>0.0</td>\n",
       "      <td>0.0</td>\n",
       "      <td>0.0</td>\n",
       "      <td>NaN</td>\n",
       "    </tr>\n",
       "    <tr>\n",
       "      <th>9</th>\n",
       "      <td>0.0</td>\n",
       "      <td>0.0</td>\n",
       "      <td>0.0</td>\n",
       "      <td>0.0</td>\n",
       "      <td>0.0</td>\n",
       "    </tr>\n",
       "    <tr>\n",
       "      <th>10</th>\n",
       "      <td>0.0</td>\n",
       "      <td>0.0</td>\n",
       "      <td>NaN</td>\n",
       "      <td>0.0</td>\n",
       "      <td>0.0</td>\n",
       "    </tr>\n",
       "    <tr>\n",
       "      <th>18</th>\n",
       "      <td>0.0</td>\n",
       "      <td>0.0</td>\n",
       "      <td>0.0</td>\n",
       "      <td>0.0</td>\n",
       "      <td>0.0</td>\n",
       "    </tr>\n",
       "    <tr>\n",
       "      <th>21</th>\n",
       "      <td>0.0</td>\n",
       "      <td>0.0</td>\n",
       "      <td>0.0</td>\n",
       "      <td>0.0</td>\n",
       "      <td>0.0</td>\n",
       "    </tr>\n",
       "    <tr>\n",
       "      <th>22</th>\n",
       "      <td>0.0</td>\n",
       "      <td>0.0</td>\n",
       "      <td>0.0</td>\n",
       "      <td>0.0</td>\n",
       "      <td>0.0</td>\n",
       "    </tr>\n",
       "    <tr>\n",
       "      <th>23</th>\n",
       "      <td>0.0</td>\n",
       "      <td>0.0</td>\n",
       "      <td>NaN</td>\n",
       "      <td>0.0</td>\n",
       "      <td>0.0</td>\n",
       "    </tr>\n",
       "    <tr>\n",
       "      <th>25</th>\n",
       "      <td>NaN</td>\n",
       "      <td>0.0</td>\n",
       "      <td>0.0</td>\n",
       "      <td>0.0</td>\n",
       "      <td>0.0</td>\n",
       "    </tr>\n",
       "    <tr>\n",
       "      <th>28</th>\n",
       "      <td>0.0</td>\n",
       "      <td>0.0</td>\n",
       "      <td>NaN</td>\n",
       "      <td>0.0</td>\n",
       "      <td>0.0</td>\n",
       "    </tr>\n",
       "    <tr>\n",
       "      <th>36</th>\n",
       "      <td>0.0</td>\n",
       "      <td>0.0</td>\n",
       "      <td>0.0</td>\n",
       "      <td>0.0</td>\n",
       "      <td>0.0</td>\n",
       "    </tr>\n",
       "  </tbody>\n",
       "</table>\n",
       "</div>"
      ],
      "text/plain": [
       "    RoomService  FoodCourt  ShoppingMall  Spa  VRDeck\n",
       "7           0.0        0.0           0.0  0.0     NaN\n",
       "9           0.0        0.0           0.0  0.0     0.0\n",
       "10          0.0        0.0           NaN  0.0     0.0\n",
       "18          0.0        0.0           0.0  0.0     0.0\n",
       "21          0.0        0.0           0.0  0.0     0.0\n",
       "22          0.0        0.0           0.0  0.0     0.0\n",
       "23          0.0        0.0           NaN  0.0     0.0\n",
       "25          NaN        0.0           0.0  0.0     0.0\n",
       "28          0.0        0.0           NaN  0.0     0.0\n",
       "36          0.0        0.0           0.0  0.0     0.0"
      ]
     },
     "execution_count": 123,
     "metadata": {},
     "output_type": "execute_result"
    }
   ],
   "source": [
    "amenities = [\"RoomService\", \"FoodCourt\", \"ShoppingMall\", \"Spa\", \"VRDeck\"]\n",
    "train_set.loc[train_set[\"CryoSleep\"] == True, amenities][:10]"
   ]
  },
  {
   "attachments": {},
   "cell_type": "markdown",
   "metadata": {},
   "source": [
    "Now let's have a look at how many NaN values there are."
   ]
  },
  {
   "cell_type": "code",
   "execution_count": 124,
   "metadata": {},
   "outputs": [
    {
     "data": {
      "text/plain": [
       "RoomService     68\n",
       "FoodCourt       70\n",
       "ShoppingMall    96\n",
       "Spa             65\n",
       "VRDeck          62\n",
       "dtype: int64"
      ]
     },
     "execution_count": 124,
     "metadata": {},
     "output_type": "execute_result"
    }
   ],
   "source": [
    "train_set.loc[train_set[\"CryoSleep\"] == True, amenities].isna().sum()"
   ]
  },
  {
   "attachments": {},
   "cell_type": "markdown",
   "metadata": {},
   "source": [
    "I think filling these NaN values for people in `CryoSleep` with zeros is more reasonable. Filling these with the median, in this case, has no sense. Moreover there is a probably good idea to merge these features into one another - for example Expenses."
   ]
  },
  {
   "attachments": {},
   "cell_type": "markdown",
   "metadata": {},
   "source": [
    "**Let's take a look at the numerical features now.**"
   ]
  },
  {
   "cell_type": "code",
   "execution_count": 125,
   "metadata": {},
   "outputs": [
    {
     "name": "stdout",
     "output_type": "stream",
     "text": [
      "MEAN:           28.83\n",
      "MEDIAN:         27.00\n",
      "STD:            14.49\n"
     ]
    }
   ],
   "source": [
    "for method in (\"mean\", \"median\", \"std\"):\n",
    "    value = getattr(train_set[\"Age\"], method)()\n",
    "    print(f\"{method.upper()}:\".ljust(15), f\"{value:.2f}\")"
   ]
  },
  {
   "cell_type": "code",
   "execution_count": 126,
   "metadata": {},
   "outputs": [
    {
     "name": "stdout",
     "output_type": "stream",
     "text": [
      "FoodCourt:      FoodCourt\n",
      "MEAN:           458.08\n",
      "MEDIAN:         0.00\n",
      "STD:            1611.49\n",
      "\n",
      "RoomService:    RoomService\n",
      "MEAN:           224.69\n",
      "MEDIAN:         0.00\n",
      "STD:            666.72\n",
      "\n",
      "ShoppingMall:   ShoppingMall\n",
      "MEAN:           173.73\n",
      "MEDIAN:         0.00\n",
      "STD:            604.70\n",
      "\n",
      "Spa:            Spa\n",
      "MEAN:           311.14\n",
      "MEDIAN:         0.00\n",
      "STD:            1136.71\n",
      "\n",
      "VRDeck:         VRDeck\n",
      "MEAN:           304.85\n",
      "MEDIAN:         0.00\n",
      "STD:            1145.72\n",
      "\n"
     ]
    }
   ],
   "source": [
    "# For all passenger. \n",
    "for feature in numerical_features.difference({\"Age\"}):\n",
    "    print(f\"{feature}:\".ljust(15), feature)\n",
    "    for method in (\"mean\", \"median\", \"std\"):\n",
    "        value = getattr(train_set[feature], method)()\n",
    "        print(f\"{method.upper()}:\".ljust(15), f\"{value:.2f}\")\n",
    "    print()"
   ]
  },
  {
   "cell_type": "code",
   "execution_count": 127,
   "metadata": {},
   "outputs": [
    {
     "name": "stdout",
     "output_type": "stream",
     "text": [
      "FoodCourt:      FoodCourt\n",
      "MEAN:           713.00\n",
      "MEDIAN:         5.00\n",
      "STD:            1970.55\n",
      "\n",
      "RoomService:    RoomService\n",
      "MEAN:           350.15\n",
      "MEDIAN:         3.00\n",
      "STD:            803.08\n",
      "\n",
      "ShoppingMall:   ShoppingMall\n",
      "MEAN:           270.59\n",
      "MEDIAN:         2.00\n",
      "STD:            741.76\n",
      "\n",
      "Spa:            Spa\n",
      "MEAN:           486.09\n",
      "MEDIAN:         7.00\n",
      "STD:            1396.23\n",
      "\n",
      "VRDeck:         VRDeck\n",
      "MEAN:           475.72\n",
      "MEDIAN:         4.00\n",
      "STD:            1404.17\n",
      "\n"
     ]
    }
   ],
   "source": [
    "# For only those, that are not in CryoSleep .\n",
    "not_in_cryosleep = (train_set[\"CryoSleep\"] == False)\n",
    "for feature in numerical_features.difference({\"Age\"}):\n",
    "    print(f\"{feature}:\".ljust(15), feature)\n",
    "    for method in (\"mean\", \"median\", \"std\"):\n",
    "        value = getattr(train_set.loc[not_in_cryosleep, feature], method)()\n",
    "        print(f\"{method.upper()}:\".ljust(15), f\"{value:.2f}\")\n",
    "    print()"
   ]
  },
  {
   "cell_type": "code",
   "execution_count": 128,
   "metadata": {},
   "outputs": [
    {
     "data": {
      "image/png": "[encoded data removed]",
      "text/plain": [
       "<Figure size 1008x576 with 6 Axes>"
      ]
     },
     "metadata": {
      "needs_background": "light"
     },
     "output_type": "display_data"
    }
   ],
   "source": [
    "sns.set_palette(\"rocket\")\n",
    "fig, axes = plt.subplots(nrows=2, ncols=3, figsize=(14, 8))\n",
    "for numeric_feature, ax in zip(numerical_features, axes.ravel()):  # type: ignore\n",
    "    plt.sca(ax)\n",
    "    sns.histplot(x=train_set[numeric_feature], bins=20)\n",
    "    if not numeric_feature == \"Age\":\n",
    "        plt.yscale(\"log\")\n",
    "\n",
    "plt.tight_layout()\n",
    "plt.show()"
   ]
  },
  {
   "attachments": {},
   "cell_type": "markdown",
   "metadata": {},
   "source": [
    "**Quick summary of numerical features:**\n",
    "- We see the `Age` feature has an interesting number of counts for the children (infants?).\n",
    "- The majority of passengers spent little money on various amenities. The median value for each amenity is minimal (~0).\n",
    "- Some passengers spend a lot of money on various amenities. The STD values are enormous concerning mean values.\n",
    "- We can suspect a small percentage of passengers are rich."
   ]
  },
  {
   "attachments": {},
   "cell_type": "markdown",
   "metadata": {},
   "source": [
    "Let's have a look at something interesting."
   ]
  },
  {
   "cell_type": "code",
   "execution_count": 129,
   "metadata": {},
   "outputs": [
    {
     "data": {
      "text/plain": [
       "178"
      ]
     },
     "execution_count": 129,
     "metadata": {},
     "output_type": "execute_result"
    }
   ],
   "source": [
    "len(train_set.loc[np.isclose(train_set[\"Age\"], 0.), \"Age\"].index)"
   ]
  },
  {
   "attachments": {},
   "cell_type": "markdown",
   "metadata": {},
   "source": [
    "There are 178 embryos?"
   ]
  },
  {
   "cell_type": "code",
   "execution_count": 130,
   "metadata": {},
   "outputs": [
    {
     "data": {
      "text/plain": [
       "Transported     1.000000\n",
       "FoodCourt       0.046566\n",
       "ShoppingMall    0.010141\n",
       "Age            -0.075026\n",
       "VRDeck         -0.207075\n",
       "Spa            -0.221131\n",
       "RoomService    -0.244611\n",
       "Name: Transported, dtype: float64"
      ]
     },
     "execution_count": 130,
     "metadata": {},
     "output_type": "execute_result"
    }
   ],
   "source": [
    "correlations = train_set.corr()\n",
    "correlations[\"Transported\"].sort_values(ascending=False)"
   ]
  },
  {
   "attachments": {},
   "cell_type": "markdown",
   "metadata": {},
   "source": [
    "Spending more on luxury amenities, they were less prone to transport?"
   ]
  },
  {
   "cell_type": "code",
   "execution_count": 131,
   "metadata": {},
   "outputs": [
    {
     "data": {
      "image/png": "[encoded data removed]",
      "text/plain": [
       "<Figure size 720x720 with 2 Axes>"
      ]
     },
     "metadata": {
      "needs_background": "light"
     },
     "output_type": "display_data"
    }
   ],
   "source": [
    "plt.figure(figsize=(10, 10))\n",
    "sns.heatmap(correlations, square=True, linewidths=2, annot=True, cbar_kws={\"shrink\": 0.82})\n",
    "plt.title(\"Correlation Matrix\", fontsize=16, pad=30)\n",
    "plt.show()"
   ]
  },
  {
   "attachments": {},
   "cell_type": "markdown",
   "metadata": {},
   "source": [
    "**Summary. What should we do with available features:**\n",
    "- `PassengerId` - Always unique and has no NaN values. An interesting allude is that people in a group often are family members. We try to extract these groups.\n",
    "- `HomePlanet` - Categorical feature with three categories - planet names. More than 50% of passengers are from the Earth. It's reasonable to fill NaN values with the most frequent category (Earth).\n",
    "- `CryoSleep` - Categorical feature (True/False). Around 64% of passengers are not in cryosleep. Let's fill NaN values with the most frequent value (False).\n",
    "- `Cabin` - Categorical feature, but there are almost as many categories as instances. There are missing values. We will take a closer look at this. \n",
    "- `Destination` - Categorical feature with three categories - planet names. Around 70% of passengers are travelling to TRAPPIST-1e. We fill in missing values with this planet.\n",
    "- `Age` - Numeric feature. We fill NaN values with the median. There are almost 200 passengers that are embryos.\n",
    "- `VIP` - Categorical feature (True/False). Most (98%) don't have VIP status.\n",
    "- `Name` - We should probably drop this feature now. We can split this feature into men and women when we have Polish names here, for example.\n",
    "- `RoomService`, `FoodCourt`, `ShoppingMall`, `Spa`, `VRDeck` - Numerical features. There is probably a good idea to fill NaN values for people with `CryoSleep=True` with zero. For the rest, fill with the median calculated for only those with `CryoSleep=False`."
   ]
  },
  {
   "attachments": {},
   "cell_type": "markdown",
   "metadata": {},
   "source": [
    "---"
   ]
  },
  {
   "attachments": {},
   "cell_type": "markdown",
   "metadata": {},
   "source": [
    "## **1.2. FEATURE ENGINEERING:**"
   ]
  },
  {
   "attachments": {},
   "cell_type": "markdown",
   "metadata": {},
   "source": [
    "Let's create a copy to not overwrite or modify the original set."
   ]
  },
  {
   "cell_type": "code",
   "execution_count": 132,
   "metadata": {},
   "outputs": [],
   "source": [
    "train_set_copy = train_set.copy()"
   ]
  },
  {
   "attachments": {},
   "cell_type": "markdown",
   "metadata": {},
   "source": [
    "Now let's look at the ratio of transported passengers regarding the categories of given features."
   ]
  },
  {
   "cell_type": "code",
   "execution_count": 133,
   "metadata": {},
   "outputs": [],
   "source": [
    "home_planet_vs_transported = train_set_copy[[\"HomePlanet\", \"Transported\"]].groupby([\"HomePlanet\"]).mean()\n",
    "cryosleep_vs_transported = train_set_copy[[\"CryoSleep\", \"Transported\"]].groupby([\"CryoSleep\"]).mean()\n",
    "destination_vs_transported = train_set_copy[[\"Destination\", \"Transported\"]].groupby([\"Destination\"]).mean()\n",
    "vip_vs_transported = train_set_copy[[\"VIP\", \"Transported\"]].groupby([\"VIP\"]).mean()"
   ]
  },
  {
   "cell_type": "code",
   "execution_count": 134,
   "metadata": {},
   "outputs": [
    {
     "data": {
      "image/png": "[encoded data removed]",
      "text/plain": [
       "<Figure size 720x576 with 4 Axes>"
      ]
     },
     "metadata": {
      "needs_background": "light"
     },
     "output_type": "display_data"
    }
   ],
   "source": [
    "def plot_categories_vs_transported(features_vs_transported, axes):\n",
    "    for feature_vs_transported, axis in zip(features_vs_transported, axes.ravel()):\n",
    "        plt.sca(axis)\n",
    "        feature_vs_transported = feature_vs_transported.sort_values(by=\"Transported\", ascending=False)\n",
    "        feature_plot = sns.barplot(x=feature_vs_transported.index, y=feature_vs_transported[\"Transported\"],\n",
    "                               palette=\"rocket\", order=feature_vs_transported.index, alpha=0.9)\n",
    "        elements = feature_plot.containers\n",
    "        for element in elements:\n",
    "            labels = ((feature_vs_transported[\"Transported\"].round(2) * 100).astype(int)).astype(str) + \"%\"\n",
    "            feature_plot.bar_label(element, label_type=\"center\", labels=labels)\n",
    "\n",
    "features_vs_transported = (\n",
    "    home_planet_vs_transported,\n",
    "    cryosleep_vs_transported,\n",
    "    destination_vs_transported,\n",
    "    vip_vs_transported,\n",
    ")\n",
    "\n",
    "fig, axes = plt.subplots(nrows=2, ncols=2, figsize=(10, 8), squeeze=False)\n",
    "fig.suptitle(\"Ratio of Transported Passengers\", fontsize=16)\n",
    "plot_categories_vs_transported(features_vs_transported, axes) \n",
    "plt.tight_layout()\n",
    "plt.show()"
   ]
  },
  {
   "attachments": {},
   "cell_type": "markdown",
   "metadata": {},
   "source": [
    "**Woah! Around 82% of passengers in cryosleep were transported to an alternate dimension. As we remember, there were about 3000 passengers in cryosleep. It means that around 0.82 * 3000 = 2460 has been transported, isn't it?**"
   ]
  },
  {
   "cell_type": "code",
   "execution_count": 135,
   "metadata": {},
   "outputs": [
    {
     "data": {
      "text/plain": [
       "2483"
      ]
     },
     "execution_count": 135,
     "metadata": {},
     "output_type": "execute_result"
    }
   ],
   "source": [
    "len(train_set_copy[(train_set_copy[\"CryoSleep\"] == True) & (train_set_copy[\"Transported\"] == True)])"
   ]
  },
  {
   "attachments": {},
   "cell_type": "markdown",
   "metadata": {},
   "source": [
    "**Now let's create some new features:**\n",
    "- `Expenses` - the sum of the `RoomService`, `FoodCourt`, `ShoppingMall`, `Spa` and `VRDeck` features.\n",
    "- `HasExpenses` - True for passengers with `Expenses>0`, False otherwise.\n",
    "- `IsEmbryo` - True for passengers with `Age=0`. False otherwise.\n",
    "- `CabinDeck` - Deck of the `Cabin` feature.\n",
    "- `CabinSide` - Side of the `Cabin` feature.\n",
    "- `IsAlone` - True for passengers who travelled alone, False otherwise. We try to extract this feature from the `PassengerId` and clues from its description.\n",
    "\n",
    "And we will see if these are helpful."
   ]
  },
  {
   "cell_type": "code",
   "execution_count": 136,
   "metadata": {},
   "outputs": [],
   "source": [
    "train_set_copy[\"Expenses\"] = train_set_copy[amenities].sum(axis=1)\n",
    "train_set_copy[\"HasExpenses\"] = ~np.isclose(train_set_copy[\"Expenses\"], 0.)\n",
    "has_expenses_vs_transpoted = train_set_copy[[\"HasExpenses\", \"Transported\"]].groupby([\"HasExpenses\"]).mean()"
   ]
  },
  {
   "cell_type": "code",
   "execution_count": 137,
   "metadata": {},
   "outputs": [],
   "source": [
    "train_set_copy[\"IsEmbryo\"] = np.isclose(train_set_copy[\"Age\"], 0.)\n",
    "is_embryo_vs_transported = train_set_copy[[\"IsEmbryo\", \"Transported\"]].groupby([\"IsEmbryo\"]).mean()"
   ]
  },
  {
   "cell_type": "code",
   "execution_count": 138,
   "metadata": {},
   "outputs": [],
   "source": [
    "train_set_copy[[\"CabinDeck\", \"CabinNum\", \"CabinSide\"]] = train_set_copy[\"Cabin\"].str.split(\"/\", expand=True)\n",
    "cabin_deck_vs_transported = train_set_copy[[\"CabinDeck\", \"Transported\"]].groupby([\"CabinDeck\"]).mean()\n",
    "cabin_side_vs_transported = train_set_copy[[\"CabinSide\", \"Transported\"]].groupby([\"CabinSide\"]).mean()"
   ]
  },
  {
   "cell_type": "code",
   "execution_count": 139,
   "metadata": {},
   "outputs": [],
   "source": [
    "passenger_groups = train_set_copy[\"PassengerId\"].str[:4]  # Four first digits because: \"... gggg_pp where gggg indicates a group...\"\n",
    "is_alone = (passenger_groups.value_counts() == 1).reindex(passenger_groups)  # Only alone passengers have a unique group (thus 1).\n",
    "train_set_copy[\"IsAlone\"] = is_alone.tolist()\n",
    "is_alone_vs_transported = train_set_copy[[\"IsAlone\", \"Transported\"]].groupby([\"IsAlone\"]).mean()"
   ]
  },
  {
   "attachments": {},
   "cell_type": "markdown",
   "metadata": {},
   "source": [
    "Let's plot these new features."
   ]
  },
  {
   "cell_type": "code",
   "execution_count": 140,
   "metadata": {},
   "outputs": [
    {
     "data": {
      "image/png": "[encoded data removed]",
      "text/plain": [
       "<Figure size 1008x576 with 5 Axes>"
      ]
     },
     "metadata": {
      "needs_background": "light"
     },
     "output_type": "display_data"
    }
   ],
   "source": [
    "new_features_vs_transported = (\n",
    "    has_expenses_vs_transpoted,\n",
    "    is_embryo_vs_transported,\n",
    "    cabin_deck_vs_transported,\n",
    "    cabin_side_vs_transported,\n",
    "    is_alone_vs_transported,\n",
    ")\n",
    "\n",
    "fig, axes = plt.subplots(nrows=2, ncols=3, figsize=(14, 8), squeeze=False)\n",
    "fig.suptitle(\"Ratio of Transported Passengers\", fontsize=16)\n",
    "plot_categories_vs_transported(new_features_vs_transported, axes) \n",
    "plt.delaxes(axes[1, 2])\n",
    "plt.tight_layout()\n",
    "plt.show()"
   ]
  },
  {
   "cell_type": "code",
   "execution_count": 141,
   "metadata": {},
   "outputs": [
    {
     "name": "stdout",
     "output_type": "stream",
     "text": [
      "True     5040\n",
      "False    3653\n",
      "Name: HasExpenses, dtype: int64\n",
      "\n",
      "False    8515\n",
      "True      178\n",
      "Name: IsEmbryo, dtype: int64\n",
      "\n",
      "F    2794\n",
      "G    2559\n",
      "E     876\n",
      "B     779\n",
      "C     747\n",
      "D     478\n",
      "A     256\n",
      "T       5\n",
      "Name: CabinDeck, dtype: int64\n",
      "\n",
      "S    4288\n",
      "P    4206\n",
      "Name: CabinSide, dtype: int64\n",
      "\n",
      "True     4805\n",
      "False    3888\n",
      "Name: IsAlone, dtype: int64\n",
      "\n"
     ]
    }
   ],
   "source": [
    "for new_feature in (\"HasExpenses\", \"IsEmbryo\", \"CabinDeck\", \"CabinSide\", \"IsAlone\"):\n",
    "    print(train_set_copy[new_feature].value_counts(), end=\"\\n\\n\")"
   ]
  },
  {
   "attachments": {},
   "cell_type": "markdown",
   "metadata": {},
   "source": [
    "## **1.3. SUMMARY:**"
   ]
  },
  {
   "attachments": {},
   "cell_type": "markdown",
   "metadata": {},
   "source": [
    "**To sum up, what do we need to do with this dataset before putting it to ML algorithms:**\n",
    "\n",
    "**Existing features:**\n",
    "- `PassengerId` - Nothing to do. To be removed at the final stage.\n",
    "- `HomePlanet` - Fill in missing values with the most frequent category (Earth). Then apply OneHotEncoder.\n",
    "- `CryoSleep` - Fill in missing values with the most frequent category (False). Then apply OrdinalEncoder.\n",
    "- `Cabin` - Nothing to do. To be removed at the final stage.\n",
    "- `Destination` - Fill in missing values with the most frequent category (TRAPPIST-1e). Then apply OneHotEncoder.\n",
    "- `Age` - Fill in missing values with the median strategy. Then apply log1p transformer.\n",
    "- `VIP` - Fill in missing values with the most frequent category (False). Then apply OrdinalEncoder.\n",
    "- `RoomService` - Fill in missing values for passengers in cryosleep with zero. For all others with the median. Then apply log1p transformer.\n",
    "- `FoodCourt` - Fill in missing values for passengers in cryosleep with zero. For all others with the median. Then apply log1p transformer.\n",
    "- `ShoppingMall` - Fill in missing values for passengers in cryosleep with zero. For all others with the median. Then apply log1p transformer.\n",
    "- `Spa` - Fill in missing values for passengers in cryosleep with zero. For all others with the median. Then apply log1p transformer.\n",
    "- `VRDeck` - Fill in missing values for passengers in cryosleep with zero. For all others with the median. Then apply log1p transformer.\n",
    "- `Name` - Nothing to do. To be removed at the final stage.\n",
    "- `Transported` - Nothing to do. It is our label.\n",
    "\n",
    "**Add new features (described earlier):**\n",
    "- `Expenses`\n",
    "- `HasExpenses`\n",
    "- `IsEmbryo`\n",
    "- `CabinDeck`\n",
    "- `CabinSide`\n",
    "- `IsAlone`"
   ]
  },
  {
   "attachments": {},
   "cell_type": "markdown",
   "metadata": {},
   "source": [
    "---"
   ]
  },
  {
   "attachments": {},
   "cell_type": "markdown",
   "metadata": {},
   "source": [
    "<a id=\"2\"></a>\n",
    "# <p style=\"padding:15px; background-color:#023047; font-family:fantasy; font-size:150%; color:#f2f2f0; text-align:center; border-radius: 20px 20px; font-weight:normal\">2. PREPROCESSING</p>"
   ]
  },
  {
   "attachments": {},
   "cell_type": "markdown",
   "metadata": {},
   "source": [
    "---"
   ]
  },
  {
   "cell_type": "code",
   "execution_count": 142,
   "metadata": {},
   "outputs": [],
   "source": [
    "# Let's remove the label.\n",
    "train_labels = train_set[\"Transported\"]\n",
    "train_set = train_set.drop(\"Transported\", axis=1)"
   ]
  },
  {
   "attachments": {},
   "cell_type": "markdown",
   "metadata": {},
   "source": [
    "## **2.1. FEATURE ADDER CLASS FOR AUTOMATIC FEATURE ADDING.:**"
   ]
  },
  {
   "attachments": {},
   "cell_type": "markdown",
   "metadata": {},
   "source": [
    "We will create a `FeatureAdder` class to simply include new features into the dataset so that it will be compatible with Scikit-Learn transformers and pipelines. "
   ]
  },
  {
   "attachments": {},
   "cell_type": "markdown",
   "metadata": {},
   "source": [
    "The following code should explain itself."
   ]
  },
  {
   "cell_type": "code",
   "execution_count": 143,
   "metadata": {},
   "outputs": [],
   "source": [
    "from sklearn.base import BaseEstimator, TransformerMixin\n",
    "from sklearn.utils.validation import check_is_fitted\n",
    "\n",
    "class FeatureAdder(BaseEstimator, TransformerMixin):\n",
    "    def __init__(self, add_expenses=True, add_is_embryo=True, add_cabin_split=True, add_is_alone=True):\n",
    "        \"\"\"Initialize which new features should be included.\"\"\"\n",
    "        self.add_expenses = add_expenses\n",
    "        self.add_is_embryo = add_is_embryo\n",
    "        self.add_cabin_split = add_cabin_split\n",
    "        self.add_is_alone = add_is_alone\n",
    "\n",
    "    def fit(self, X, y=None):\n",
    "        \"\"\"Calculates the median value for all of the amenities and only for these \n",
    "        passengers who are in CryoSleep.\"\"\"\n",
    "        if not isinstance(X, pd.DataFrame):\n",
    "            raise TypeError(\"X must be a pandas DataFrame.\")\n",
    "        \n",
    "        not_in_cryosleep = (X[\"CryoSleep\"] == False)\n",
    "        self.amenity_medians_ = {\n",
    "            \"RoomService\": X.loc[not_in_cryosleep, \"RoomService\"].median(),\n",
    "            \"FoodCourt\": X.loc[not_in_cryosleep, \"FoodCourt\"].median(),\n",
    "            \"ShoppingMall\": X.loc[not_in_cryosleep, \"ShoppingMall\"].median(),\n",
    "            \"Spa\": X.loc[not_in_cryosleep, \"Spa\"].median(),\n",
    "            \"VRDeck\": X.loc[not_in_cryosleep, \"VRDeck\"].median(),\n",
    "        }\n",
    "        \n",
    "        self.n_features_in_ = X.shape[1]\n",
    "        self.feature_names_in_ = np.array(X.columns, dtype=object)\n",
    "        \n",
    "        return self\n",
    "    \n",
    "    def transform(self, X, y=None):\n",
    "        \"\"\"Returns a new `X` instance with included additional features.\"\"\"\n",
    "        if not isinstance(X, pd.DataFrame):\n",
    "            raise TypeError(\"X must be a pandas DataFrame.\")\n",
    "        if self.n_features_in_ != X.shape[1]:\n",
    "            raise ValueError(\"Unexpected number of features.\")\n",
    "        check_is_fitted(self)\n",
    "        X = X.copy()\n",
    "        \n",
    "        if self.add_expenses:\n",
    "            not_in_cryosleep = (X[\"CryoSleep\"] == False)\n",
    "            for amenity, median in self.amenity_medians_.items():\n",
    "                X.loc[~not_in_cryosleep, amenity] = X.loc[~not_in_cryosleep, amenity].fillna(0.)\n",
    "                X.loc[not_in_cryosleep, amenity] = X.loc[not_in_cryosleep, amenity].fillna(median)\n",
    "            X[\"Expenses\"] = X[self.amenity_medians_.keys()].sum(axis=1)\n",
    "            X[\"HasExpenses\"] = (X[\"Expenses\"] > 0.)\n",
    "            \n",
    "        if self.add_is_embryo:\n",
    "            X[\"IsEmbryo\"] = np.isclose(X[\"Age\"], 0.)\n",
    "            \n",
    "        if self.add_cabin_split:\n",
    "            X[[\"CabinDeck\", \"CabinNum\", \"CabinSide\"]] = X[\"Cabin\"].str.split(\"/\", expand=True)\n",
    "            \n",
    "        if self.add_is_alone:\n",
    "            groups = X[\"PassengerId\"].str[:4]\n",
    "            is_alone = (groups.value_counts() == 1).reindex(groups)\n",
    "            X[\"IsAlone\"] = is_alone.tolist()\n",
    "            \n",
    "        return X\n",
    "    \n",
    "    def get_feature_names_out(self, input_features=None):\n",
    "        if not input_features:\n",
    "            names = getattr(self, \"feature_names_in_\")\n",
    "            if self.add_expenses:\n",
    "                names = np.r_[names, [\"Expenses\", \"HasExpenses\"]]\n",
    "            if self.add_is_embryo:    \n",
    "                names = np.r_[names, [\"IsEmbryo\"]]\n",
    "            if self.add_cabin_split:\n",
    "                names = np.r_[names, [\"CabinDeck\", \"CabinNum\", \"CabinSide\"]]\n",
    "            if self.add_is_alone:\n",
    "                names = np.r_[names, [\"IsAlone\"]]\n",
    "            return names\n",
    "        if len(input_features) != self.n_features_in_:\n",
    "            raise ValueError(\"Invalid number of features.\")\n",
    "        if hasattr(self, \"feature_names_in_\") and not np.all(self.feature_names_in_ == input_features):\n",
    "            raise ValueError(\"The `input_features` is not equal to `feature_names_in_`.\")\n",
    "        return np.r_[self.feature_names_in_, input_features]"
   ]
  },
  {
   "attachments": {},
   "cell_type": "markdown",
   "metadata": {},
   "source": [
    "Now we will create a transformation pipeline for automatic data preparation."
   ]
  },
  {
   "cell_type": "code",
   "execution_count": 144,
   "metadata": {},
   "outputs": [],
   "source": [
    "from sklearn.impute import SimpleImputer\n",
    "from sklearn.preprocessing import OrdinalEncoder, OneHotEncoder, FunctionTransformer\n",
    "from sklearn.compose import make_column_transformer\n",
    "from sklearn.pipeline import make_pipeline\n",
    "\n",
    "hot_encoder_pipeline = make_pipeline(SimpleImputer(strategy=\"most_frequent\"), OneHotEncoder())\n",
    "ord_encoder_pipeline = make_pipeline(SimpleImputer(strategy=\"most_frequent\"), OrdinalEncoder())\n",
    "log1p_transformer = FunctionTransformer(np.log1p, np.expm1, feature_names_out=\"one-to-one\", check_inverse=False)\n",
    "\n",
    "# This imputer applies the median strategy only when we decide to set `add_expenses=False`\n",
    "# in the `FeatureAdder()` instance. `FeatureAdder()` fills NaN values for amenities by default.\n",
    "amenity_pipeline = make_pipeline(SimpleImputer(strategy=\"median\"), log1p_transformer)\n",
    "\n",
    "# If you don't want some feature added by default by `FeatureAdder()`, you must set this\n",
    "# in its constructor in the `preprocessing` pipeline. Moreover, you must discard this\n",
    "# feature from the `feature_transformer` list too.\n",
    "feature_transformer = make_column_transformer(  # Unlisted features are dropped.\n",
    "    (hot_encoder_pipeline, [\"HomePlanet\", \"Destination\", \"CabinDeck\"]),\n",
    "    (ord_encoder_pipeline, [\"CryoSleep\", \"HasExpenses\", \"IsEmbryo\", \"IsAlone\", \"CabinSide\"]),\n",
    "    (amenity_pipeline, [\"Spa\", \"RoomService\", \"VRDeck\", \"FoodCourt\", \"ShoppingMall\", \"Expenses\"]),\n",
    ")\n",
    "\n",
    "preprocessing = make_pipeline(FeatureAdder(), feature_transformer)"
   ]
  },
  {
   "attachments": {},
   "cell_type": "markdown",
   "metadata": {},
   "source": [
    "Let's see how it looks."
   ]
  },
  {
   "cell_type": "code",
   "execution_count": 145,
   "metadata": {},
   "outputs": [
    {
     "data": {
      "text/html": [
       "<div>\n",
       "<style scoped>\n",
       "    .dataframe tbody tr th:only-of-type {\n",
       "        vertical-align: middle;\n",
       "    }\n",
       "\n",
       "    .dataframe tbody tr th {\n",
       "        vertical-align: top;\n",
       "    }\n",
       "\n",
       "    .dataframe thead th {\n",
       "        text-align: right;\n",
       "    }\n",
       "</style>\n",
       "<table border=\"1\" class=\"dataframe\">\n",
       "  <thead>\n",
       "    <tr style=\"text-align: right;\">\n",
       "      <th></th>\n",
       "      <th>pipeline-1__HomePlanet_Earth</th>\n",
       "      <th>pipeline-1__HomePlanet_Europa</th>\n",
       "      <th>pipeline-1__HomePlanet_Mars</th>\n",
       "      <th>pipeline-1__Destination_55 Cancri e</th>\n",
       "      <th>pipeline-1__Destination_PSO J318.5-22</th>\n",
       "      <th>pipeline-1__Destination_TRAPPIST-1e</th>\n",
       "      <th>pipeline-1__CabinDeck_A</th>\n",
       "      <th>pipeline-1__CabinDeck_B</th>\n",
       "      <th>pipeline-1__CabinDeck_C</th>\n",
       "      <th>pipeline-1__CabinDeck_D</th>\n",
       "      <th>...</th>\n",
       "      <th>pipeline-2__HasExpenses</th>\n",
       "      <th>pipeline-2__IsEmbryo</th>\n",
       "      <th>pipeline-2__IsAlone</th>\n",
       "      <th>pipeline-2__CabinSide</th>\n",
       "      <th>pipeline-3__Spa</th>\n",
       "      <th>pipeline-3__RoomService</th>\n",
       "      <th>pipeline-3__VRDeck</th>\n",
       "      <th>pipeline-3__FoodCourt</th>\n",
       "      <th>pipeline-3__ShoppingMall</th>\n",
       "      <th>pipeline-3__Expenses</th>\n",
       "    </tr>\n",
       "  </thead>\n",
       "  <tbody>\n",
       "    <tr>\n",
       "      <th>0</th>\n",
       "      <td>0.0</td>\n",
       "      <td>1.0</td>\n",
       "      <td>0.0</td>\n",
       "      <td>0.0</td>\n",
       "      <td>0.0</td>\n",
       "      <td>1.0</td>\n",
       "      <td>0.0</td>\n",
       "      <td>1.0</td>\n",
       "      <td>0.0</td>\n",
       "      <td>0.0</td>\n",
       "      <td>...</td>\n",
       "      <td>0.0</td>\n",
       "      <td>0.0</td>\n",
       "      <td>1.0</td>\n",
       "      <td>0.0</td>\n",
       "      <td>0.000000</td>\n",
       "      <td>0.000000</td>\n",
       "      <td>0.000000</td>\n",
       "      <td>0.000000</td>\n",
       "      <td>0.000000</td>\n",
       "      <td>0.000000</td>\n",
       "    </tr>\n",
       "    <tr>\n",
       "      <th>1</th>\n",
       "      <td>1.0</td>\n",
       "      <td>0.0</td>\n",
       "      <td>0.0</td>\n",
       "      <td>0.0</td>\n",
       "      <td>0.0</td>\n",
       "      <td>1.0</td>\n",
       "      <td>0.0</td>\n",
       "      <td>0.0</td>\n",
       "      <td>0.0</td>\n",
       "      <td>0.0</td>\n",
       "      <td>...</td>\n",
       "      <td>1.0</td>\n",
       "      <td>0.0</td>\n",
       "      <td>1.0</td>\n",
       "      <td>1.0</td>\n",
       "      <td>6.309918</td>\n",
       "      <td>4.700480</td>\n",
       "      <td>3.806662</td>\n",
       "      <td>2.302585</td>\n",
       "      <td>3.258097</td>\n",
       "      <td>6.602588</td>\n",
       "    </tr>\n",
       "    <tr>\n",
       "      <th>2</th>\n",
       "      <td>0.0</td>\n",
       "      <td>1.0</td>\n",
       "      <td>0.0</td>\n",
       "      <td>0.0</td>\n",
       "      <td>0.0</td>\n",
       "      <td>1.0</td>\n",
       "      <td>1.0</td>\n",
       "      <td>0.0</td>\n",
       "      <td>0.0</td>\n",
       "      <td>0.0</td>\n",
       "      <td>...</td>\n",
       "      <td>1.0</td>\n",
       "      <td>0.0</td>\n",
       "      <td>0.0</td>\n",
       "      <td>1.0</td>\n",
       "      <td>8.812248</td>\n",
       "      <td>3.784190</td>\n",
       "      <td>3.912023</td>\n",
       "      <td>8.182280</td>\n",
       "      <td>0.000000</td>\n",
       "      <td>9.248021</td>\n",
       "    </tr>\n",
       "    <tr>\n",
       "      <th>3</th>\n",
       "      <td>0.0</td>\n",
       "      <td>1.0</td>\n",
       "      <td>0.0</td>\n",
       "      <td>0.0</td>\n",
       "      <td>0.0</td>\n",
       "      <td>1.0</td>\n",
       "      <td>1.0</td>\n",
       "      <td>0.0</td>\n",
       "      <td>0.0</td>\n",
       "      <td>0.0</td>\n",
       "      <td>...</td>\n",
       "      <td>1.0</td>\n",
       "      <td>0.0</td>\n",
       "      <td>0.0</td>\n",
       "      <td>1.0</td>\n",
       "      <td>8.110728</td>\n",
       "      <td>0.000000</td>\n",
       "      <td>5.267858</td>\n",
       "      <td>7.157735</td>\n",
       "      <td>5.918894</td>\n",
       "      <td>8.551981</td>\n",
       "    </tr>\n",
       "    <tr>\n",
       "      <th>4</th>\n",
       "      <td>1.0</td>\n",
       "      <td>0.0</td>\n",
       "      <td>0.0</td>\n",
       "      <td>0.0</td>\n",
       "      <td>0.0</td>\n",
       "      <td>1.0</td>\n",
       "      <td>0.0</td>\n",
       "      <td>0.0</td>\n",
       "      <td>0.0</td>\n",
       "      <td>0.0</td>\n",
       "      <td>...</td>\n",
       "      <td>1.0</td>\n",
       "      <td>0.0</td>\n",
       "      <td>1.0</td>\n",
       "      <td>1.0</td>\n",
       "      <td>6.338594</td>\n",
       "      <td>5.717028</td>\n",
       "      <td>1.098612</td>\n",
       "      <td>4.262680</td>\n",
       "      <td>5.023881</td>\n",
       "      <td>6.995766</td>\n",
       "    </tr>\n",
       "  </tbody>\n",
       "</table>\n",
       "<p>5 rows × 25 columns</p>\n",
       "</div>"
      ],
      "text/plain": [
       "   pipeline-1__HomePlanet_Earth  pipeline-1__HomePlanet_Europa  \\\n",
       "0                           0.0                            1.0   \n",
       "1                           1.0                            0.0   \n",
       "2                           0.0                            1.0   \n",
       "3                           0.0                            1.0   \n",
       "4                           1.0                            0.0   \n",
       "\n",
       "   pipeline-1__HomePlanet_Mars  pipeline-1__Destination_55 Cancri e  \\\n",
       "0                          0.0                                  0.0   \n",
       "1                          0.0                                  0.0   \n",
       "2                          0.0                                  0.0   \n",
       "3                          0.0                                  0.0   \n",
       "4                          0.0                                  0.0   \n",
       "\n",
       "   pipeline-1__Destination_PSO J318.5-22  pipeline-1__Destination_TRAPPIST-1e  \\\n",
       "0                                    0.0                                  1.0   \n",
       "1                                    0.0                                  1.0   \n",
       "2                                    0.0                                  1.0   \n",
       "3                                    0.0                                  1.0   \n",
       "4                                    0.0                                  1.0   \n",
       "\n",
       "   pipeline-1__CabinDeck_A  pipeline-1__CabinDeck_B  pipeline-1__CabinDeck_C  \\\n",
       "0                      0.0                      1.0                      0.0   \n",
       "1                      0.0                      0.0                      0.0   \n",
       "2                      1.0                      0.0                      0.0   \n",
       "3                      1.0                      0.0                      0.0   \n",
       "4                      0.0                      0.0                      0.0   \n",
       "\n",
       "   pipeline-1__CabinDeck_D  ...  pipeline-2__HasExpenses  \\\n",
       "0                      0.0  ...                      0.0   \n",
       "1                      0.0  ...                      1.0   \n",
       "2                      0.0  ...                      1.0   \n",
       "3                      0.0  ...                      1.0   \n",
       "4                      0.0  ...                      1.0   \n",
       "\n",
       "   pipeline-2__IsEmbryo  pipeline-2__IsAlone  pipeline-2__CabinSide  \\\n",
       "0                   0.0                  1.0                    0.0   \n",
       "1                   0.0                  1.0                    1.0   \n",
       "2                   0.0                  0.0                    1.0   \n",
       "3                   0.0                  0.0                    1.0   \n",
       "4                   0.0                  1.0                    1.0   \n",
       "\n",
       "   pipeline-3__Spa  pipeline-3__RoomService  pipeline-3__VRDeck  \\\n",
       "0         0.000000                 0.000000            0.000000   \n",
       "1         6.309918                 4.700480            3.806662   \n",
       "2         8.812248                 3.784190            3.912023   \n",
       "3         8.110728                 0.000000            5.267858   \n",
       "4         6.338594                 5.717028            1.098612   \n",
       "\n",
       "   pipeline-3__FoodCourt  pipeline-3__ShoppingMall  pipeline-3__Expenses  \n",
       "0               0.000000                  0.000000              0.000000  \n",
       "1               2.302585                  3.258097              6.602588  \n",
       "2               8.182280                  0.000000              9.248021  \n",
       "3               7.157735                  5.918894              8.551981  \n",
       "4               4.262680                  5.023881              6.995766  \n",
       "\n",
       "[5 rows x 25 columns]"
      ]
     },
     "execution_count": 145,
     "metadata": {},
     "output_type": "execute_result"
    }
   ],
   "source": [
    "train_set_prepared = preprocessing.fit_transform(train_set)\n",
    "train_set_prepared_df = pd.DataFrame(train_set_prepared, columns=preprocessing.get_feature_names_out())\n",
    "train_set_prepared_df.head()"
   ]
  },
  {
   "attachments": {},
   "cell_type": "markdown",
   "metadata": {},
   "source": [
    "It looks like everything is fine here :)"
   ]
  },
  {
   "attachments": {},
   "cell_type": "markdown",
   "metadata": {},
   "source": [
    "---"
   ]
  },
  {
   "attachments": {},
   "cell_type": "markdown",
   "metadata": {},
   "source": [
    "<a id=\"3\"></a>\n",
    "# <p style=\"padding:15px; background-color:#023047; font-family:fantasy; font-size:150%; color:#f2f2f0; text-align:center; border-radius: 20px 20px; font-weight:normal\">3. MACHINE LEARNING AND MODEL SELECTION</p>"
   ]
  },
  {
   "attachments": {},
   "cell_type": "markdown",
   "metadata": {},
   "source": [
    "---"
   ]
  },
  {
   "attachments": {},
   "cell_type": "markdown",
   "metadata": {},
   "source": [
    "## **3.1. MODEL SELECTION:**"
   ]
  },
  {
   "attachments": {},
   "cell_type": "markdown",
   "metadata": {},
   "source": [
    "Let's check several classifiers with default hyperparameters using 10-fold cross-validation."
   ]
  },
  {
   "cell_type": "code",
   "execution_count": 146,
   "metadata": {},
   "outputs": [],
   "source": [
    "from sklearn.model_selection import cross_val_score"
   ]
  },
  {
   "cell_type": "code",
   "execution_count": 147,
   "metadata": {},
   "outputs": [],
   "source": [
    "from sklearn.ensemble import RandomForestClassifier\n",
    "\n",
    "forest_clf = RandomForestClassifier(random_state=42)\n",
    "forest_scores = cross_val_score(forest_clf, train_set_prepared, train_labels, cv=10)"
   ]
  },
  {
   "cell_type": "code",
   "execution_count": 148,
   "metadata": {},
   "outputs": [],
   "source": [
    "from sklearn.svm import SVC\n",
    "\n",
    "svm_clf = SVC(random_state=42)\n",
    "svm_scores = cross_val_score(svm_clf, train_set_prepared, train_labels, cv=10)"
   ]
  },
  {
   "cell_type": "code",
   "execution_count": 149,
   "metadata": {},
   "outputs": [],
   "source": [
    "from sklearn.linear_model import SGDClassifier\n",
    "\n",
    "sgd_clf = SGDClassifier(random_state=42)\n",
    "sgd_scores = cross_val_score(sgd_clf, train_set_prepared, train_labels, cv=10)"
   ]
  },
  {
   "cell_type": "code",
   "execution_count": 150,
   "metadata": {},
   "outputs": [],
   "source": [
    "from sklearn.neighbors import KNeighborsClassifier\n",
    "\n",
    "knn_clf = KNeighborsClassifier()\n",
    "knn_scores = cross_val_score(knn_clf, train_set_prepared, train_labels, cv=10)"
   ]
  },
  {
   "cell_type": "code",
   "execution_count": 151,
   "metadata": {},
   "outputs": [],
   "source": [
    "from sklearn.linear_model import LogisticRegression\n",
    "\n",
    "lin_reg_clf = LogisticRegression(random_state=42, max_iter=1000)\n",
    "lin_reg_scores = cross_val_score(lin_reg_clf, train_set_prepared, train_labels, cv=10)"
   ]
  },
  {
   "cell_type": "code",
   "execution_count": 152,
   "metadata": {},
   "outputs": [],
   "source": [
    "from sklearn.ensemble import ExtraTreesClassifier\n",
    "\n",
    "extra_trees_clf = ExtraTreesClassifier(random_state=42)\n",
    "extra_trees_scores = cross_val_score(extra_trees_clf, train_set_prepared, train_labels, cv=10)"
   ]
  },
  {
   "cell_type": "code",
   "execution_count": 153,
   "metadata": {},
   "outputs": [],
   "source": [
    "from sklearn.tree import DecisionTreeClassifier\n",
    "\n",
    "tree_clf = DecisionTreeClassifier(random_state=42)\n",
    "tree_scores = cross_val_score(tree_clf, train_set_prepared, train_labels, cv=10)"
   ]
  },
  {
   "cell_type": "code",
   "execution_count": 154,
   "metadata": {},
   "outputs": [],
   "source": [
    "from sklearn.ensemble import AdaBoostClassifier\n",
    "\n",
    "ada_clf = AdaBoostClassifier(DecisionTreeClassifier(max_depth=1), random_state=42)\n",
    "ada_scores = cross_val_score(ada_clf, train_set_prepared, train_labels, cv=10)"
   ]
  },
  {
   "cell_type": "code",
   "execution_count": 155,
   "metadata": {},
   "outputs": [],
   "source": [
    "from sklearn.ensemble import GradientBoostingClassifier\n",
    "\n",
    "gbc_clf = GradientBoostingClassifier(random_state=42)\n",
    "gbc_scores = cross_val_score(gbc_clf, train_set_prepared, train_labels, cv=10)"
   ]
  },
  {
   "attachments": {},
   "cell_type": "markdown",
   "metadata": {},
   "source": [
    "Now let's plot boxplots of these classifiers' scores."
   ]
  },
  {
   "cell_type": "code",
   "execution_count": 156,
   "metadata": {},
   "outputs": [
    {
     "data": {
      "image/png": "[encoded data removed]",
      "text/plain": [
       "<Figure size 864x432 with 1 Axes>"
      ]
     },
     "metadata": {
      "needs_background": "light"
     },
     "output_type": "display_data"
    }
   ],
   "source": [
    "clf_scores = pd.DataFrame({\n",
    "    \"RandomForest\": forest_scores,\n",
    "    \"SVM\": svm_scores,\n",
    "    \"SGD\": sgd_scores,\n",
    "    \"KNeighbors\": knn_scores,\n",
    "    \"LogisticRegression\": lin_reg_scores,\n",
    "    \"ExtraTrees\": extra_trees_scores,\n",
    "    \"DecisionTree\": tree_scores,\n",
    "    \"AdaBoost\": ada_scores,\n",
    "    \"GradientBoosting\": gbc_scores,\n",
    "})\n",
    "\n",
    "sorted_clfs = clf_scores.mean().sort_values().index\n",
    "clf_scores_sorted = clf_scores[sorted_clfs]\n",
    "\n",
    "plt.figure(figsize=(12, 6))\n",
    "sns.boxplot(data=clf_scores_sorted, palette=\"magma\", saturation=0.75, width=0.75,\n",
    "            fliersize=5, linewidth=2, medianprops={\"color\": \"coral\"})\n",
    "plt.ylabel(\"Accuracy\")\n",
    "plt.xticks(rotation=45)\n",
    "plt.show()\n"
   ]
  },
  {
   "cell_type": "code",
   "execution_count": 157,
   "metadata": {},
   "outputs": [
    {
     "data": {
      "text/html": [
       "<div>\n",
       "<style scoped>\n",
       "    .dataframe tbody tr th:only-of-type {\n",
       "        vertical-align: middle;\n",
       "    }\n",
       "\n",
       "    .dataframe tbody tr th {\n",
       "        vertical-align: top;\n",
       "    }\n",
       "\n",
       "    .dataframe thead th {\n",
       "        text-align: right;\n",
       "    }\n",
       "</style>\n",
       "<table border=\"1\" class=\"dataframe\">\n",
       "  <thead>\n",
       "    <tr style=\"text-align: right;\">\n",
       "      <th></th>\n",
       "      <th>SGD</th>\n",
       "      <th>DecisionTree</th>\n",
       "      <th>KNeighbors</th>\n",
       "      <th>LogisticRegression</th>\n",
       "      <th>AdaBoost</th>\n",
       "      <th>ExtraTrees</th>\n",
       "      <th>RandomForest</th>\n",
       "      <th>SVM</th>\n",
       "      <th>GradientBoosting</th>\n",
       "    </tr>\n",
       "  </thead>\n",
       "  <tbody>\n",
       "    <tr>\n",
       "      <th>count</th>\n",
       "      <td>10.000000</td>\n",
       "      <td>10.000000</td>\n",
       "      <td>10.000000</td>\n",
       "      <td>10.000000</td>\n",
       "      <td>10.000000</td>\n",
       "      <td>10.000000</td>\n",
       "      <td>10.000000</td>\n",
       "      <td>10.000000</td>\n",
       "      <td>10.000000</td>\n",
       "    </tr>\n",
       "    <tr>\n",
       "      <th>mean</th>\n",
       "      <td>0.747497</td>\n",
       "      <td>0.757397</td>\n",
       "      <td>0.767978</td>\n",
       "      <td>0.776374</td>\n",
       "      <td>0.788341</td>\n",
       "      <td>0.790180</td>\n",
       "      <td>0.795127</td>\n",
       "      <td>0.796850</td>\n",
       "      <td>0.799500</td>\n",
       "    </tr>\n",
       "    <tr>\n",
       "      <th>std</th>\n",
       "      <td>0.028540</td>\n",
       "      <td>0.016120</td>\n",
       "      <td>0.015821</td>\n",
       "      <td>0.011466</td>\n",
       "      <td>0.015164</td>\n",
       "      <td>0.015729</td>\n",
       "      <td>0.013928</td>\n",
       "      <td>0.018324</td>\n",
       "      <td>0.014864</td>\n",
       "    </tr>\n",
       "    <tr>\n",
       "      <th>min</th>\n",
       "      <td>0.700806</td>\n",
       "      <td>0.727586</td>\n",
       "      <td>0.731034</td>\n",
       "      <td>0.759770</td>\n",
       "      <td>0.764368</td>\n",
       "      <td>0.762069</td>\n",
       "      <td>0.770115</td>\n",
       "      <td>0.764097</td>\n",
       "      <td>0.768966</td>\n",
       "    </tr>\n",
       "    <tr>\n",
       "      <th>25%</th>\n",
       "      <td>0.733548</td>\n",
       "      <td>0.751438</td>\n",
       "      <td>0.765890</td>\n",
       "      <td>0.767039</td>\n",
       "      <td>0.776661</td>\n",
       "      <td>0.781261</td>\n",
       "      <td>0.786883</td>\n",
       "      <td>0.784997</td>\n",
       "      <td>0.794195</td>\n",
       "    </tr>\n",
       "    <tr>\n",
       "      <th>50%</th>\n",
       "      <td>0.751005</td>\n",
       "      <td>0.760209</td>\n",
       "      <td>0.773432</td>\n",
       "      <td>0.775158</td>\n",
       "      <td>0.789988</td>\n",
       "      <td>0.791834</td>\n",
       "      <td>0.795167</td>\n",
       "      <td>0.798044</td>\n",
       "      <td>0.799770</td>\n",
       "    </tr>\n",
       "    <tr>\n",
       "      <th>75%</th>\n",
       "      <td>0.767328</td>\n",
       "      <td>0.770138</td>\n",
       "      <td>0.776755</td>\n",
       "      <td>0.787399</td>\n",
       "      <td>0.797468</td>\n",
       "      <td>0.803222</td>\n",
       "      <td>0.805811</td>\n",
       "      <td>0.813922</td>\n",
       "      <td>0.810990</td>\n",
       "    </tr>\n",
       "    <tr>\n",
       "      <th>max</th>\n",
       "      <td>0.782509</td>\n",
       "      <td>0.775604</td>\n",
       "      <td>0.782509</td>\n",
       "      <td>0.790564</td>\n",
       "      <td>0.810127</td>\n",
       "      <td>0.807825</td>\n",
       "      <td>0.814730</td>\n",
       "      <td>0.817031</td>\n",
       "      <td>0.818182</td>\n",
       "    </tr>\n",
       "  </tbody>\n",
       "</table>\n",
       "</div>"
      ],
      "text/plain": [
       "             SGD  DecisionTree  KNeighbors  LogisticRegression   AdaBoost  \\\n",
       "count  10.000000     10.000000   10.000000           10.000000  10.000000   \n",
       "mean    0.747497      0.757397    0.767978            0.776374   0.788341   \n",
       "std     0.028540      0.016120    0.015821            0.011466   0.015164   \n",
       "min     0.700806      0.727586    0.731034            0.759770   0.764368   \n",
       "25%     0.733548      0.751438    0.765890            0.767039   0.776661   \n",
       "50%     0.751005      0.760209    0.773432            0.775158   0.789988   \n",
       "75%     0.767328      0.770138    0.776755            0.787399   0.797468   \n",
       "max     0.782509      0.775604    0.782509            0.790564   0.810127   \n",
       "\n",
       "       ExtraTrees  RandomForest        SVM  GradientBoosting  \n",
       "count   10.000000     10.000000  10.000000         10.000000  \n",
       "mean     0.790180      0.795127   0.796850          0.799500  \n",
       "std      0.015729      0.013928   0.018324          0.014864  \n",
       "min      0.762069      0.770115   0.764097          0.768966  \n",
       "25%      0.781261      0.786883   0.784997          0.794195  \n",
       "50%      0.791834      0.795167   0.798044          0.799770  \n",
       "75%      0.803222      0.805811   0.813922          0.810990  \n",
       "max      0.807825      0.814730   0.817031          0.818182  "
      ]
     },
     "execution_count": 157,
     "metadata": {},
     "output_type": "execute_result"
    }
   ],
   "source": [
    "clf_scores_sorted.describe()"
   ]
  },
  {
   "attachments": {},
   "cell_type": "markdown",
   "metadata": {},
   "source": [
    "Let's take `RandomForestClassifier`, `SVM` and `GradientBoostingClassifier` and try to play with their hyperparameters."
   ]
  },
  {
   "attachments": {},
   "cell_type": "markdown",
   "metadata": {},
   "source": [
    "Let's see yet which features are really important."
   ]
  },
  {
   "cell_type": "code",
   "execution_count": 158,
   "metadata": {},
   "outputs": [
    {
     "name": "stdout",
     "output_type": "stream",
     "text": [
      "Expenses                  0.18482\n",
      "Spa                       0.10983\n",
      "FoodCourt                 0.10431\n",
      "VRDeck                    0.09816\n",
      "RoomService               0.09131\n",
      "ShoppingMall              0.09009\n",
      "HasExpenses               0.07327\n",
      "CryoSleep                 0.05336\n",
      "CabinSide                 0.02289\n",
      "HomePlanet_Earth          0.02180\n",
      "CabinDeck_F               0.01872\n",
      "CabinDeck_G               0.01814\n",
      "CabinDeck_E               0.01812\n",
      "HomePlanet_Europa         0.01804\n",
      "IsAlone                   0.01605\n",
      "HomePlanet_Mars           0.01048\n",
      "Destination_TRAPPIST-1e   0.01035\n",
      "Destination_55 Cancri e   0.00998\n",
      "CabinDeck_C               0.00654\n",
      "Destination_PSO J318.5-22 0.00651\n",
      "CabinDeck_B               0.00610\n",
      "CabinDeck_D               0.00435\n",
      "IsEmbryo                  0.00430\n",
      "CabinDeck_A               0.00245\n",
      "CabinDeck_T               0.00003\n"
     ]
    }
   ],
   "source": [
    "forest_clf.fit(train_set_prepared, train_labels)\n",
    "feature_importances = forest_clf.feature_importances_  \n",
    "feature_names = preprocessing.get_feature_names_out()\n",
    "# After preprocessing, features have additional prefixes from pipelines.\n",
    "feature_names = pd.Series(feature_names).str.extract(\"__(.*)\").values.ravel()\n",
    "\n",
    "importances = sorted(zip(feature_names, feature_importances), key=lambda x: x[1], reverse=True)\n",
    " \n",
    "for feature, importance in importances:\n",
    "    print(feature.ljust(25), f\"{importance:.5f}\")"
   ]
  },
  {
   "attachments": {},
   "cell_type": "markdown",
   "metadata": {},
   "source": [
    "---"
   ]
  },
  {
   "attachments": {},
   "cell_type": "markdown",
   "metadata": {},
   "source": [
    "## **3.2 MODEL TUNE:**"
   ]
  },
  {
   "cell_type": "code",
   "execution_count": 159,
   "metadata": {},
   "outputs": [],
   "source": [
    "from sklearn.model_selection import RandomizedSearchCV\n",
    "from scipy.stats import randint, expon, reciprocal, uniform"
   ]
  },
  {
   "attachments": {},
   "cell_type": "markdown",
   "metadata": {},
   "source": [
    "We will start with the `RandomForestClassifier` first."
   ]
  },
  {
   "cell_type": "code",
   "execution_count": null,
   "metadata": {},
   "outputs": [],
   "source": [
    "param_dist = {\n",
    "    \"n_estimators\": randint(100, 200),\n",
    "    \"max_depth\": randint(5, 15),\n",
    "    \"min_samples_split\": randint(2, 10),\n",
    "    \"min_samples_leaf\": randint(1, 8),\n",
    "    \"max_leaf_nodes\": randint(100, 400),\n",
    "    \"min_impurity_decrease\": uniform(1e-5, 1e-4),\n",
    "}\n",
    "\n",
    "forest_rnd_search = RandomizedSearchCV(forest_clf, param_distributions=param_dist, cv=10, n_iter=100, \n",
    "                                       n_jobs=-1, scoring=\"accuracy\", random_state=42)\n",
    "forest_rnd_search.fit(train_set_prepared, train_labels);"
   ]
  },
  {
   "cell_type": "code",
   "execution_count": null,
   "metadata": {},
   "outputs": [],
   "source": [
    "param_dist = {\n",
    "    \"C\": uniform(10, 25),\n",
    "    \"gamma\": [\"auto\", \"scale\"],\n",
    "}\n",
    "\n",
    "svm_rnd_search = RandomizedSearchCV(svm_clf, param_distributions=param_dist, cv=10, n_iter=100,\n",
    "                                    n_jobs=-1, scoring=\"accuracy\", random_state=42)\n",
    "svm_rnd_search.fit(train_set_prepared, train_labels);"
   ]
  },
  {
   "cell_type": "code",
   "execution_count": null,
   "metadata": {},
   "outputs": [],
   "source": [
    "param_dist = {\n",
    "    \"n_estimators\": randint(100, 200),\n",
    "    \"learning_rate\": reciprocal(0.001, 1.0),\n",
    "    \"max_depth\": randint(5, 15),\n",
    "    \"max_leaf_nodes\": randint(2, 12),\n",
    "    \"min_samples_split\": randint(2, 12),\n",
    "    \"min_samples_leaf\": randint(1, 8),\n",
    "    \"min_impurity_decrease\": uniform(0.001, 0.1),\n",
    "    \"n_iter_no_change\": randint(5, 15),\n",
    "    \"max_features\": randint(10, 25),\n",
    "}\n",
    "\n",
    "gbc_rnd_search = RandomizedSearchCV(gbc_clf, param_distributions=param_dist, cv=10, n_iter=100,\n",
    "                                    n_jobs=-1, scoring=\"accuracy\", random_state=42)\n",
    "gbc_rnd_search.fit(train_set_prepared, train_labels);"
   ]
  },
  {
   "attachments": {},
   "cell_type": "markdown",
   "metadata": {},
   "source": [
    "Let's see on the results."
   ]
  },
  {
   "cell_type": "code",
   "execution_count": null,
   "metadata": {},
   "outputs": [
    {
     "name": "stdout",
     "output_type": "stream",
     "text": [
      "Best RandomForestClassifier:        0.800995\n",
      "Best SVC:                           0.801799\n",
      "Best GradientBoostingClassifier:    0.806287\n"
     ]
    }
   ],
   "source": [
    "best_scores = (\n",
    "    forest_rnd_search.best_score_,\n",
    "    svm_rnd_search.best_score_,\n",
    "    gbc_rnd_search.best_score_,\n",
    ")\n",
    "\n",
    "best_classifiers = (\n",
    "    forest_rnd_search.best_estimator_,\n",
    "    svm_rnd_search.best_estimator_,\n",
    "    gbc_rnd_search.best_estimator_,\n",
    ")\n",
    "\n",
    "for best_clf, best_score in zip(best_classifiers, best_scores):\n",
    "    print(f\"Best {best_clf.__class__.__name__}:\".ljust(35), f\"{best_score:.6f}\")"
   ]
  },
  {
   "attachments": {},
   "cell_type": "markdown",
   "metadata": {},
   "source": [
    "And we can glance at best hyperparameters of the `GradientBoostingClassifier`."
   ]
  },
  {
   "cell_type": "code",
   "execution_count": null,
   "metadata": {},
   "outputs": [
    {
     "name": "stdout",
     "output_type": "stream",
     "text": [
      "Best classifier           GradientBoostingClassifier\n",
      "learning_rate             0.10353854394033839\n",
      "max_depth                 6\n",
      "max_features              21\n",
      "max_leaf_nodes            9\n",
      "min_impurity_decrease     0.0032184742030301632\n",
      "min_samples_leaf          2\n",
      "min_samples_split         3\n",
      "n_estimators              153\n",
      "n_iter_no_change          10\n"
     ]
    }
   ],
   "source": [
    "print(\"Best classifier\".ljust(25), gbc_rnd_search.best_estimator_.__class__.__name__)\n",
    "for hyperparam, value in gbc_rnd_search.best_params_.items():\n",
    "    print(f\"{hyperparam.ljust(25):}\", value)"
   ]
  },
  {
   "attachments": {},
   "cell_type": "markdown",
   "metadata": {},
   "source": [
    "We can easily save this model with `joblib`."
   ]
  },
  {
   "cell_type": "code",
   "execution_count": null,
   "metadata": {},
   "outputs": [],
   "source": [
    "import joblib\n",
    "\n",
    "joblib.dump(gbc_rnd_search.best_estimator_, \"spaceship_titanic_best_model.pkl\");"
   ]
  },
  {
   "attachments": {},
   "cell_type": "markdown",
   "metadata": {},
   "source": [
    "And load it when we need it."
   ]
  },
  {
   "cell_type": "code",
   "execution_count": 162,
   "metadata": {},
   "outputs": [],
   "source": [
    "final_model = joblib.load(\"spaceship_titanic_best_model.pkl\")"
   ]
  },
  {
   "attachments": {},
   "cell_type": "markdown",
   "metadata": {},
   "source": [
    "## **3.3. FINAL PREDICTIONS:**"
   ]
  },
  {
   "cell_type": "code",
   "execution_count": 163,
   "metadata": {},
   "outputs": [],
   "source": [
    "test_set_prepared = preprocessing.transform(test_set)\n",
    "results = final_model.predict(test_set_prepared)\n",
    "\n",
    "sumbission = pd.DataFrame({ \"PassengerId\": test_set[\"PassengerId\"], \"Transported\": results})\n",
    "sumbission.set_index(\"PassengerId\").to_csv(\"data/submission.csv\")"
   ]
  },
  {
   "cell_type": "code",
   "execution_count": null,
   "metadata": {},
   "outputs": [],
   "source": []
  }
 ],
 "metadata": {
  "kernelspec": {
   "display_name": "Python 3",
   "language": "python",
   "name": "python3"
  },
  "language_info": {
   "codemirror_mode": {
    "name": "ipython",
    "version": 3
   },
   "file_extension": ".py",
   "mimetype": "text/x-python",
   "name": "python",
   "nbconvert_exporter": "python",
   "pygments_lexer": "ipython3",
   "version": "3.10.5"
  },
  "orig_nbformat": 4,
  "vscode": {
   "interpreter": {
    "hash": "43649d95374003884189df83e9e8a65c7ef239a82272d2bb0b2e5e5cfcbf86e6"
   }
  }
 },
 "nbformat": 4,
 "nbformat_minor": 2
}
