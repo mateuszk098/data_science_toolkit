{
 "cells": [
  {
   "cell_type": "code",
   "execution_count": 1,
   "metadata": {},
   "outputs": [],
   "source": [
    "from pathlib import Path\n",
    "\n",
    "import numpy as np\n",
    "import tensorflow as tf\n",
    "from tensorflow import keras\n",
    "from tensorflow import data\n",
    "from keras import layers\n",
    "\n",
    "K = keras.backend\n"
   ]
  },
  {
   "cell_type": "code",
   "execution_count": 2,
   "metadata": {},
   "outputs": [],
   "source": [
    "url = \"https://storage.googleapis.com/download.tensorflow.org/data/spa-eng.zip\"\n",
    "path = tf.keras.utils.get_file(\"spa-eng.zip\", origin=url, cache_dir=\"datasets\",\n",
    "                               extract=True)\n",
    "text = (Path(path).with_name(\"spa-eng\") / \"spa.txt\").read_text(encoding=\"utf-8\")"
   ]
  },
  {
   "cell_type": "code",
   "execution_count": 3,
   "metadata": {},
   "outputs": [],
   "source": [
    "import numpy as np\n",
    "\n",
    "text = text.replace(\"¡\", \"\").replace(\"¿\", \"\")\n",
    "pairs = [line.split(\"\\t\") for line in text.splitlines()]\n",
    "np.random.seed(42)  # extra code – ensures reproducibility on CPU\n",
    "np.random.shuffle(pairs)\n",
    "sentences_en, sentences_es = zip(*pairs)  # separates the pairs into 2 lists"
   ]
  },
  {
   "cell_type": "code",
   "execution_count": null,
   "metadata": {},
   "outputs": [],
   "source": [
    "# %%time\n",
    "\n",
    "# from multiprocessing import cpu_count\n",
    "# from concurrent.futures import ThreadPoolExecutor\n",
    "\n",
    "# def process_chunk(args):\n",
    "#     chunk_number, chunk, source = args\n",
    "#     chunk.to_csv(source / f\"en-fr-chunk-{chunk_number:03}.csv\", index=False, encoding=\"utf-8\")\n",
    "\n",
    "\n",
    "# SOURCE = Path(\"data/\")\n",
    "# num_threads = 4\n",
    "# chunk_size = 100_000\n",
    "\n",
    "# chunks = pd.read_csv(SOURCE / \"en-fr.csv\", chunksize=chunk_size, encoding=\"utf-8\")\n",
    "# arguments = [(chunk_number, chunk, SOURCE) for chunk_number, chunk in enumerate(chunks)]\n",
    "\n",
    "# with ThreadPoolExecutor(max_workers=num_threads) as executor:\n",
    "#     executor.map(process_chunk, arguments)\n"
   ]
  }
 ],
 "metadata": {
  "kernelspec": {
   "display_name": "Python 3",
   "language": "python",
   "name": "python3"
  },
  "language_info": {
   "codemirror_mode": {
    "name": "ipython",
    "version": 3
   },
   "file_extension": ".py",
   "mimetype": "text/x-python",
   "name": "python",
   "nbconvert_exporter": "python",
   "pygments_lexer": "ipython3",
   "version": "3.10.5"
  },
  "orig_nbformat": 4
 },
 "nbformat": 4,
 "nbformat_minor": 2
}
