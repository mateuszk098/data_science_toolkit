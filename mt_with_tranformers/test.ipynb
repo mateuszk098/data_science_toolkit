{
 "cells": [
  {
   "cell_type": "code",
   "execution_count": 1,
   "metadata": {},
   "outputs": [],
   "source": [
    "from pathlib import Path\n",
    "from multiprocessing import cpu_count\n",
    "from concurrent.futures import ThreadPoolExecutor\n",
    "import subprocess\n",
    "import shutil\n",
    "import os\n",
    "\n",
    "import numpy as np\n",
    "import pandas as pd\n",
    "import tensorflow as tf\n",
    "from tensorflow import keras\n",
    "from keras import layers\n",
    "\n",
    "ON_KAGGLE = os.getenv(\"KAGGLE_KERNEL_RUN_TYPE\") is not None\n",
    "\n",
    "\n",
    "def download_dataset_from_kaggle(user, dataset, directory):\n",
    "    command = \"kaggle datasets download -d \"\n",
    "    filepath = directory / (dataset + \".zip\")\n",
    "\n",
    "    if not filepath.is_file():\n",
    "        subprocess.run((command + user + \"/\" + dataset).split())\n",
    "        filepath.parent.mkdir(parents=True, exist_ok=True)\n",
    "        shutil.unpack_archive(dataset + \".zip\", \"data\")\n",
    "        shutil.move(dataset + \".zip\", \"data\")\n"
   ]
  },
  {
   "cell_type": "code",
   "execution_count": 2,
   "metadata": {},
   "outputs": [
    {
     "name": "stdout",
     "output_type": "stream",
     "text": [
      "CPU times: total: 0 ns\n",
      "Wall time: 0 ns\n"
     ]
    }
   ],
   "source": [
    "%%time\n",
    "\n",
    "user = \"dhruvildave\"\n",
    "dataset = \"en-fr-translation-dataset\"\n",
    "data_dir = Path(\"data\")\n",
    "\n",
    "if not ON_KAGGLE:\n",
    "    download_dataset_from_kaggle(user, dataset, data_dir)\n",
    "    full_data_path = data_dir / \"en-fr.csv\"\n",
    "else:\n",
    "    full_data_path = Path(\"/kaggle/input/en-fr-translation-dataset/en-fr.csv\")\n"
   ]
  },
  {
   "cell_type": "code",
   "execution_count": 3,
   "metadata": {},
   "outputs": [
    {
     "name": "stdout",
     "output_type": "stream",
     "text": [
      "CPU times: total: 0 ns\n",
      "Wall time: 0 ns\n"
     ]
    }
   ],
   "source": [
    "%%time\n",
    "\n",
    "chunk_size = 100_000\n",
    "data_chunks = Path(\"data_chunks\")\n",
    "\n",
    "if not os.path.exists(data_chunks):\n",
    "    data_chunks.mkdir(parents=True)\n",
    "    chunks = pd.read_csv(full_data_path, chunksize=chunk_size, encoding=\"utf-8\")\n",
    "    for i, chunk in enumerate(chunks):\n",
    "        chunk_path = data_chunks / f\"en-fr-chunk-{i:03}.csv\"\n",
    "        chunk.to_csv(chunk_path, index=False, encoding=\"utf-8\")\n"
   ]
  },
  {
   "cell_type": "code",
   "execution_count": 4,
   "metadata": {},
   "outputs": [
    {
     "name": "stdout",
     "output_type": "stream",
     "text": [
      "en,fr\n",
      "Changing Lives | Changing Society | How It Works | Technology Drives Change Home | Concepts | Teachers | Search | Overview | Credits | HHCC Web | Reference | Feedback Virtual Museum of Canada Home Page,\"Il a transformé notre vie | Il a transformé la société | Son fonctionnement | La technologie, moteur du changement Accueil | Concepts | Enseignants | Recherche | Aperçu | Collaborateurs | Web HHCC | Ressources | Commentaires Musée virtuel du Canada\"\n",
      "Site map,Plan du site\n",
      "Feedback,Rétroaction\n",
      "Credits,Crédits\n"
     ]
    }
   ],
   "source": [
    "filepaths = [f\"{data_chunks}/{chunk_file}\" for chunk_file in os.listdir(data_chunks)]\n",
    "train_paths = filepaths[:1]\n",
    "valid_paths = filepaths[1:2]\n",
    "\n",
    "with open(train_paths[0], encoding=\"utf8\") as f:\n",
    "    for line in f.readlines()[:5]:\n",
    "        print(line, end=\"\")\n"
   ]
  },
  {
   "cell_type": "code",
   "execution_count": 6,
   "metadata": {},
   "outputs": [],
   "source": [
    "def parse_csv_line(line):\n",
    "    defaults = 2 * [tf.constant(\"\", dtype=tf.string)]\n",
    "    fields = tf.io.decode_csv(line, record_defaults=defaults)\n",
    "    return tf.stack(fields[0]), tf.stack(fields[1])\n",
    "\n",
    "\n",
    "def prepare_input_and_target(sentences_en, sentences_fr):\n",
    "    return (sentences_en, b\"startofseq \" + sentences_fr), sentences_fr + b\" endofseq\"\n",
    "\n",
    "\n",
    "def csv_files_dataset(\n",
    "    filepaths,\n",
    "    n_readers=12,\n",
    "    n_read_threads=12,\n",
    "    n_parse_threads=12,\n",
    "    batch_size=32,\n",
    "    shuffle=False,\n",
    "    shuffle_buffer_size=10_000,\n",
    "    seed=42,\n",
    "):\n",
    "    dataset = tf.data.Dataset.list_files(filepaths, seed=seed)\n",
    "    dataset = dataset.interleave(  # type: ignore\n",
    "        lambda filepath: tf.data.TextLineDataset(filepath).skip(1),\n",
    "        cycle_length=n_readers,\n",
    "        num_parallel_calls=n_read_threads,\n",
    "    )\n",
    "    dataset = dataset.map(parse_csv_line, num_parallel_calls=n_parse_threads)\n",
    "    dataset = dataset.map(prepare_input_and_target, num_parallel_calls=n_parse_threads)\n",
    "    if shuffle:\n",
    "        dataset = dataset.shuffle(shuffle_buffer_size, seed=seed)\n",
    "    return dataset.batch(batch_size)\n"
   ]
  },
  {
   "cell_type": "code",
   "execution_count": 27,
   "metadata": {},
   "outputs": [],
   "source": [
    "train_ds = csv_files_dataset(train_paths, shuffle=True)\n",
    "valid_ds = csv_files_dataset(valid_paths)\n"
   ]
  },
  {
   "cell_type": "code",
   "execution_count": 8,
   "metadata": {},
   "outputs": [],
   "source": [
    "vocabulary_size = 5000\n",
    "max_length = 50\n",
    "\n",
    "vectorization_layer_en = layers.TextVectorization(\n",
    "    max_tokens=vocabulary_size, output_sequence_length=max_length\n",
    ")\n",
    "vectorization_layer_es = layers.TextVectorization(\n",
    "    max_tokens=vocabulary_size, output_sequence_length=max_length\n",
    ")\n",
    "\n",
    "vectorization_layer_en.adapt(train_ds.map(lambda sentences, target: sentences[0]))\n",
    "vectorization_layer_es.adapt(train_ds.map(lambda sentences, target: sentences[1] + b\" endofseq\"))\n"
   ]
  },
  {
   "cell_type": "code",
   "execution_count": 9,
   "metadata": {},
   "outputs": [
    {
     "data": {
      "text/plain": [
       "['', '[UNK]', 'the', 'of', 'and', 'to', 'in', 'a', 'for', 'is']"
      ]
     },
     "execution_count": 9,
     "metadata": {},
     "output_type": "execute_result"
    }
   ],
   "source": [
    "vectorization_layer_en.get_vocabulary()[:10]"
   ]
  },
  {
   "cell_type": "code",
   "execution_count": 10,
   "metadata": {},
   "outputs": [
    {
     "data": {
      "text/plain": [
       "['', '[UNK]', 'de', 'startofseq', 'endofseq', 'la', 'et', 'les', 'des', 'le']"
      ]
     },
     "execution_count": 10,
     "metadata": {},
     "output_type": "execute_result"
    }
   ],
   "source": [
    "vectorization_layer_es.get_vocabulary()[:10]"
   ]
  },
  {
   "cell_type": "code",
   "execution_count": 88,
   "metadata": {},
   "outputs": [
    {
     "data": {
      "text/plain": [
       "<tf.Tensor: shape=(32, 50), dtype=int64, numpy=\n",
       "array([[   7,  646,    7, ...,    0,    0,    0],\n",
       "       [1478,    2,  807, ...,    0,    0,    0],\n",
       "       [  64,   71,    2, ...,    0,    0,    0],\n",
       "       ...,\n",
       "       [ 306,  181,    9, ...,    0,    0,    0],\n",
       "       [   1,    1, 3777, ...,    0,    0,    0],\n",
       "       [   7,   73,   24, ...,   28,   10, 4271]], dtype=int64)>"
      ]
     },
     "execution_count": 88,
     "metadata": {},
     "output_type": "execute_result"
    }
   ],
   "source": [
    "vectorization_layer_es(list(train_ds.map(lambda sentences, target: target))[0])"
   ]
  },
  {
   "cell_type": "code",
   "execution_count": 11,
   "metadata": {},
   "outputs": [],
   "source": [
    "train_ds = train_ds.map(\n",
    "    lambda sentences, target: (sentences, vectorization_layer_es(target))\n",
    ").prefetch(1)\n",
    "\n",
    "valid_ds = valid_ds.map(\n",
    "    lambda sentences, target: (sentences, vectorization_layer_es(target))\n",
    ").prefetch(1)\n"
   ]
  },
  {
   "cell_type": "code",
   "execution_count": 23,
   "metadata": {},
   "outputs": [],
   "source": [
    "# list(train_ds)"
   ]
  },
  {
   "cell_type": "code",
   "execution_count": 13,
   "metadata": {},
   "outputs": [],
   "source": [
    "tf.random.set_seed(42)  # extra code – ensures reproducibility on CPU\n",
    "encoder_inputs = tf.keras.layers.Input(shape=[], dtype=tf.string)\n",
    "decoder_inputs = tf.keras.layers.Input(shape=[], dtype=tf.string)\n",
    "\n",
    "embed_size = 128\n",
    "encoder_input_ids = vectorization_layer_en(encoder_inputs)\n",
    "decoder_input_ids = vectorization_layer_es(decoder_inputs)\n",
    "encoder_embedding_layer = tf.keras.layers.Embedding(\n",
    "    vocabulary_size, embed_size, mask_zero=True\n",
    ")\n",
    "decoder_embedding_layer = tf.keras.layers.Embedding(\n",
    "    vocabulary_size, embed_size, mask_zero=True\n",
    ")\n",
    "encoder_embeddings = encoder_embedding_layer(encoder_input_ids)\n",
    "decoder_embeddings = decoder_embedding_layer(decoder_input_ids)\n",
    "\n",
    "encoder = tf.keras.layers.LSTM(512, return_state=True)\n",
    "encoder_outputs, *encoder_state = encoder(encoder_embeddings)\n",
    "\n",
    "decoder = tf.keras.layers.LSTM(512, return_sequences=True)\n",
    "decoder_outputs = decoder(decoder_embeddings, initial_state=encoder_state)\n",
    "\n",
    "output_layer = tf.keras.layers.Dense(vocabulary_size, activation=\"softmax\")\n",
    "Y_proba = output_layer(decoder_outputs)\n"
   ]
  },
  {
   "cell_type": "code",
   "execution_count": 14,
   "metadata": {},
   "outputs": [
    {
     "name": "stdout",
     "output_type": "stream",
     "text": [
      "3125/3125 [==============================] - 180s 55ms/step - loss: 1.9591 - accuracy: 0.2506 - val_loss: 2.1132 - val_accuracy: 0.2401\n"
     ]
    },
    {
     "data": {
      "text/plain": [
       "<keras.callbacks.History at 0x1b739dc7af0>"
      ]
     },
     "execution_count": 14,
     "metadata": {},
     "output_type": "execute_result"
    }
   ],
   "source": [
    "model = tf.keras.Model(inputs=[encoder_inputs, decoder_inputs], outputs=[Y_proba])\n",
    "model.compile(\n",
    "    loss=\"sparse_categorical_crossentropy\", optimizer=\"nadam\", metrics=[\"accuracy\"]\n",
    ")\n",
    "model.fit(train_ds, epochs=1, validation_data=valid_ds)\n"
   ]
  },
  {
   "cell_type": "code",
   "execution_count": 15,
   "metadata": {},
   "outputs": [],
   "source": [
    "import numpy as np\n",
    "\n",
    "\n",
    "def translate(sentence_en):\n",
    "    translation = \"\"\n",
    "    for word_idx in range(max_length):\n",
    "        X = np.array([sentence_en])  # encoder input\n",
    "        X_dec = np.array([\"startofseq \" + translation])  # decoder input\n",
    "        y_proba = model.predict((X, X_dec))[0, word_idx]  # last token's probas\n",
    "        predicted_word_id = np.argmax(y_proba)\n",
    "        predicted_word = vectorization_layer_es.get_vocabulary()[predicted_word_id]\n",
    "        if predicted_word == \"endofseq\":\n",
    "            break\n",
    "        translation += \" \" + predicted_word\n",
    "    return translation.strip()\n"
   ]
  },
  {
   "cell_type": "code",
   "execution_count": 22,
   "metadata": {},
   "outputs": [
    {
     "data": {
      "text/plain": [
       "'les [UNK] de la personne [UNK]'"
      ]
     },
     "execution_count": 22,
     "metadata": {},
     "output_type": "execute_result"
    }
   ],
   "source": [
    "translate(\"Chocolate spreads have seen the largest\")"
   ]
  }
 ],
 "metadata": {
  "kernelspec": {
   "display_name": "Python 3",
   "language": "python",
   "name": "python3"
  },
  "language_info": {
   "codemirror_mode": {
    "name": "ipython",
    "version": 3
   },
   "file_extension": ".py",
   "mimetype": "text/x-python",
   "name": "python",
   "nbconvert_exporter": "python",
   "pygments_lexer": "ipython3",
   "version": "3.10.5"
  },
  "orig_nbformat": 4
 },
 "nbformat": 4,
 "nbformat_minor": 2
}
