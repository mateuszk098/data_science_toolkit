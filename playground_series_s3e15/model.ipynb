{
 "cells": [
  {
   "cell_type": "code",
   "execution_count": 16,
   "metadata": {},
   "outputs": [],
   "source": [
    "import warnings\n",
    "\n",
    "import numpy as np\n",
    "import pandas as pd\n",
    "from catboost import CatBoostRegressor\n",
    "from lightgbm import LGBMRegressor, early_stopping\n",
    "from optuna import logging\n",
    "from optuna.distributions import CategoricalDistribution as CatDist\n",
    "from optuna.distributions import FloatDistribution as FloatDist\n",
    "from optuna.distributions import IntDistribution as IntDist\n",
    "from optuna.exceptions import ExperimentalWarning\n",
    "from optuna.integration import OptunaSearchCV\n",
    "from sklearn.compose import make_column_transformer\n",
    "from sklearn.ensemble import IsolationForest\n",
    "from sklearn.impute import KNNImputer\n",
    "from sklearn.metrics import mean_squared_error\n",
    "from sklearn.model_selection import KFold, RepeatedKFold, cross_val_score\n",
    "from sklearn.pipeline import FunctionTransformer, make_pipeline\n",
    "from sklearn.preprocessing import StandardScaler\n",
    "\n",
    "logging.set_verbosity(logging.WARNING)\n",
    "warnings.filterwarnings(\"ignore\", category=ExperimentalWarning)\n"
   ]
  },
  {
   "cell_type": "code",
   "execution_count": 259,
   "metadata": {},
   "outputs": [],
   "source": [
    "numeric_cols = [\n",
    "    \"pressure [MPa]\",\n",
    "    \"mass_flux [kg/m2-s]\",\n",
    "    \"x_e_out [-]\",\n",
    "    \"D_e [mm]\",\n",
    "    \"D_h [mm]\",\n",
    "    \"length [mm]\",\n",
    "    \"chf_exp [MW/m2]\",\n",
    "    \"id\",\n",
    "]\n",
    "\n",
    "synthetic = pd.read_csv(\"data/data.csv\", index_col=\"id\", usecols=numeric_cols)\n",
    "originals = pd.read_csv(\"data/original.csv\", index_col=\"id\", usecols=numeric_cols)\n",
    "\n",
    "synthetic.columns = synthetic.columns.str.replace(r\"\\s?\\[.*?\\]\", \"\", regex=True)\n",
    "originals.columns = originals.columns.str.replace(r\"\\s?\\[.*?\\]\", \"\", regex=True)\n",
    "\n",
    "assert np.all(synthetic.columns == originals.columns)\n"
   ]
  },
  {
   "cell_type": "code",
   "execution_count": 260,
   "metadata": {},
   "outputs": [],
   "source": [
    "def remove_duplicates(data):\n",
    "    return data[~(data.duplicated() & data.x_e_out.notna())]\n"
   ]
  },
  {
   "cell_type": "code",
   "execution_count": 261,
   "metadata": {},
   "outputs": [],
   "source": [
    "def remove_outliers(\n",
    "    data,\n",
    "    x_e_out_force_remove=False,\n",
    "    force_remove_threshold=-0.6,\n",
    "    contamination=\"auto\",\n",
    "    random_state=None,\n",
    "    **kwargs\n",
    "):\n",
    "    if x_e_out_force_remove:\n",
    "        data = data.drop(data[data.x_e_out < force_remove_threshold].index)\n",
    "\n",
    "    isolation_forest = IsolationForest(\n",
    "        contamination=contamination,\n",
    "        random_state=random_state,\n",
    "        **kwargs,\n",
    "    )\n",
    "\n",
    "    data_notna = data[~data.isna().any(axis=1)]\n",
    "    forest_result = isolation_forest.fit_predict(data_notna.to_numpy())\n",
    "    outlier_ids = pd.Series(forest_result == -1, index=data_notna.index)\n",
    "    data_ids = pd.Series(np.zeros_like(data.index), index=data.index, dtype=bool)\n",
    "\n",
    "    return data[~(outlier_ids | data_ids)]\n"
   ]
  },
  {
   "cell_type": "code",
   "execution_count": 262,
   "metadata": {},
   "outputs": [],
   "source": [
    "def fillna_within_groupby(data, by, cols_to_fill, strategy=\"mean\"):\n",
    "    strategy_func = getattr(pd.Series, strategy)\n",
    "    filled = data.groupby(by)[cols_to_fill].transform(\n",
    "        lambda x: x.fillna(strategy_func(x))\n",
    "    )\n",
    "    cols_to_join = np.setdiff1d(data.columns.to_list(), cols_to_fill)\n",
    "    return filled.join(data[cols_to_join])\n"
   ]
  },
  {
   "cell_type": "code",
   "execution_count": 263,
   "metadata": {},
   "outputs": [],
   "source": [
    "final_preprocess = make_pipeline(\n",
    "    make_column_transformer(\n",
    "        (\n",
    "            StandardScaler(),\n",
    "            [\"pressure\", \"mass_flux\"],\n",
    "        ),\n",
    "        (\n",
    "            make_pipeline(\n",
    "                FunctionTransformer(  # Because of better fit to normal distribution.\n",
    "                    func=np.log,\n",
    "                    inverse_func=np.exp,\n",
    "                    feature_names_out=\"one-to-one\",\n",
    "                ),\n",
    "                StandardScaler(),\n",
    "            ),\n",
    "            [\"D_e\", \"D_h\", \"chf_exp\"],\n",
    "        ),\n",
    "        (\n",
    "            make_pipeline(\n",
    "                FunctionTransformer(  # Because of better fit to normal distribution.\n",
    "                    func=np.log,\n",
    "                    inverse_func=np.exp,\n",
    "                    feature_names_out=\"one-to-one\",\n",
    "                ),\n",
    "                StandardScaler(),\n",
    "            ),\n",
    "            [\"length\"],\n",
    "        ),\n",
    "        remainder=\"drop\",\n",
    "        verbose_feature_names_out=False,\n",
    "    ),\n",
    "    KNNImputer(n_neighbors=20, weights=\"distance\"),\n",
    ")\n"
   ]
  },
  {
   "cell_type": "code",
   "execution_count": 264,
   "metadata": {},
   "outputs": [],
   "source": [
    "preliminary_processed_data = (\n",
    "    synthetic.pipe(remove_duplicates)\n",
    "    .pipe(\n",
    "        remove_outliers,\n",
    "        x_e_out_force_remove=True,\n",
    "        random_state=42,\n",
    "        bootstrap=True,\n",
    "    )\n",
    "    .pipe(\n",
    "        fillna_within_groupby,\n",
    "        by=\"chf_exp\",  # Because of correlations.\n",
    "        cols_to_fill=[\"pressure\", \"mass_flux\", \"length\"],\n",
    "        strategy=\"mean\",\n",
    "    )\n",
    "    .pipe(\n",
    "        fillna_within_groupby,\n",
    "        by=\"pressure\",  # Because of correlations.\n",
    "        cols_to_fill=[\"D_e\", \"D_h\"],\n",
    "        strategy=\"mean\",\n",
    "    )\n",
    ")\n",
    "\n",
    "X = pd.DataFrame(\n",
    "    final_preprocess.fit_transform(preliminary_processed_data),\n",
    "    columns=final_preprocess.get_feature_names_out(),\n",
    "    index=preliminary_processed_data.index,\n",
    ")\n",
    "y = preliminary_processed_data.x_e_out\n",
    "\n",
    "X_train = X[y.notna()].to_numpy()\n",
    "y_train = y[y.notna()].to_numpy()\n",
    "\n",
    "X_valid = final_preprocess.transform(originals)\n",
    "y_valid = originals.x_e_out.to_numpy()\n",
    "\n",
    "X_test = X[y.isna()].to_numpy()\n",
    "X_test_ids = X[y.isna()].index\n"
   ]
  },
  {
   "cell_type": "code",
   "execution_count": 256,
   "metadata": {},
   "outputs": [],
   "source": [
    "X_train_orig = np.concatenate([X_train, X_valid])\n",
    "y_train_orig = np.concatenate([y_train, y_valid])"
   ]
  },
  {
   "cell_type": "code",
   "execution_count": 265,
   "metadata": {},
   "outputs": [
    {
     "data": {
      "text/plain": [
       "count    5.000000\n",
       "mean     0.069171\n",
       "std      0.001157\n",
       "min      0.068050\n",
       "25%      0.068195\n",
       "50%      0.069069\n",
       "75%      0.069672\n",
       "max      0.070869\n",
       "dtype: float64"
      ]
     },
     "execution_count": 265,
     "metadata": {},
     "output_type": "execute_result"
    }
   ],
   "source": [
    "PATIENCE = 20\n",
    "\n",
    "lgbm_kwargs = {\n",
    "    \"random_state\": 42,\n",
    "    \"num_leaves\": 21,\n",
    "    \"max_depth\": 5,\n",
    "    \"learning_rate\": 0.12,\n",
    "    \"n_estimators\": 1100,\n",
    "    \"min_split_gain\": 1e-3,\n",
    "    \"min_child_weight\": 1e-2,\n",
    "    \"min_child_samples\": 32,\n",
    "    \"subsample\": 0.2,\n",
    "    \"colsample_bytree\": 0.6,\n",
    "    \"importance_type\": \"split\",\n",
    "    \"reg_alpha\": 0.1,\n",
    "    \"reg_lambda\": 10.0,\n",
    "}\n",
    "\n",
    "catboost_kwargs = {\n",
    "    \"random_seed\": 42,\n",
    "    \"silent\": True,\n",
    "    \"allow_writing_files\": False,\n",
    "    \"od_type\": \"Iter\",\n",
    "    \"eval_metric\": \"RMSE\",\n",
    "    \"bootstrap_type\": \"Bayesian\",\n",
    "    \"grow_policy\": \"Lossguide\",\n",
    "    \"iterations\": 2300,\n",
    "    \"learning_rate\": 0.05,\n",
    "    \"depth\": 5,\n",
    "    \"l2_leaf_reg\": 27.0,\n",
    "    \"min_data_in_leaf\": 48,\n",
    "    \"colsample_bylevel\": 0.5,\n",
    "    \"random_strength\": 0.5,\n",
    "    \"bagging_temperature\": 0.3,\n",
    "}\n",
    "\n",
    "\n",
    "lgbm = LGBMRegressor(**lgbm_kwargs).fit(\n",
    "    X_train,\n",
    "    y_train,\n",
    "    eval_set=(X_valid, y_valid),\n",
    "    callbacks=[\n",
    "        early_stopping(stopping_rounds=PATIENCE, verbose=False),\n",
    "    ],\n",
    ")\n",
    "\n",
    "catboost = CatBoostRegressor(**catboost_kwargs).fit(\n",
    "    X_train,\n",
    "    y_train,\n",
    "    eval_set=(X_valid, y_valid),\n",
    "    early_stopping_rounds=PATIENCE,\n",
    ")\n",
    "\n",
    "scores = -cross_val_score(\n",
    "    LGBMRegressor(**lgbm_kwargs),\n",
    "    X_train,\n",
    "    y_train,\n",
    "    cv=KFold(n_splits=5, shuffle=True, random_state=42),\n",
    "    scoring=\"neg_root_mean_squared_error\",\n",
    "    error_score=\"raise\",  # type: ignore\n",
    "    # fit_params=dict(\n",
    "    #     eval_set=(X_valid, y_valid),\n",
    "    #     early_stopping_rounds=PATIENCE,\n",
    "    # )\n",
    "    fit_params=dict(\n",
    "        eval_set=(X_valid, y_valid),\n",
    "        callbacks=[early_stopping(stopping_rounds=PATIENCE, verbose=False)],\n",
    "    ),\n",
    ")\n",
    "pd.Series(scores).describe()\n"
   ]
  },
  {
   "cell_type": "code",
   "execution_count": 269,
   "metadata": {},
   "outputs": [
    {
     "data": {
      "text/html": [
       "<style>#sk-container-id-13 {color: black;background-color: white;}#sk-container-id-13 pre{padding: 0;}#sk-container-id-13 div.sk-toggleable {background-color: white;}#sk-container-id-13 label.sk-toggleable__label {cursor: pointer;display: block;width: 100%;margin-bottom: 0;padding: 0.3em;box-sizing: border-box;text-align: center;}#sk-container-id-13 label.sk-toggleable__label-arrow:before {content: \"▸\";float: left;margin-right: 0.25em;color: #696969;}#sk-container-id-13 label.sk-toggleable__label-arrow:hover:before {color: black;}#sk-container-id-13 div.sk-estimator:hover label.sk-toggleable__label-arrow:before {color: black;}#sk-container-id-13 div.sk-toggleable__content {max-height: 0;max-width: 0;overflow: hidden;text-align: left;background-color: #f0f8ff;}#sk-container-id-13 div.sk-toggleable__content pre {margin: 0.2em;color: black;border-radius: 0.25em;background-color: #f0f8ff;}#sk-container-id-13 input.sk-toggleable__control:checked~div.sk-toggleable__content {max-height: 200px;max-width: 100%;overflow: auto;}#sk-container-id-13 input.sk-toggleable__control:checked~label.sk-toggleable__label-arrow:before {content: \"▾\";}#sk-container-id-13 div.sk-estimator input.sk-toggleable__control:checked~label.sk-toggleable__label {background-color: #d4ebff;}#sk-container-id-13 div.sk-label input.sk-toggleable__control:checked~label.sk-toggleable__label {background-color: #d4ebff;}#sk-container-id-13 input.sk-hidden--visually {border: 0;clip: rect(1px 1px 1px 1px);clip: rect(1px, 1px, 1px, 1px);height: 1px;margin: -1px;overflow: hidden;padding: 0;position: absolute;width: 1px;}#sk-container-id-13 div.sk-estimator {font-family: monospace;background-color: #f0f8ff;border: 1px dotted black;border-radius: 0.25em;box-sizing: border-box;margin-bottom: 0.5em;}#sk-container-id-13 div.sk-estimator:hover {background-color: #d4ebff;}#sk-container-id-13 div.sk-parallel-item::after {content: \"\";width: 100%;border-bottom: 1px solid gray;flex-grow: 1;}#sk-container-id-13 div.sk-label:hover label.sk-toggleable__label {background-color: #d4ebff;}#sk-container-id-13 div.sk-serial::before {content: \"\";position: absolute;border-left: 1px solid gray;box-sizing: border-box;top: 0;bottom: 0;left: 50%;z-index: 0;}#sk-container-id-13 div.sk-serial {display: flex;flex-direction: column;align-items: center;background-color: white;padding-right: 0.2em;padding-left: 0.2em;position: relative;}#sk-container-id-13 div.sk-item {position: relative;z-index: 1;}#sk-container-id-13 div.sk-parallel {display: flex;align-items: stretch;justify-content: center;background-color: white;position: relative;}#sk-container-id-13 div.sk-item::before, #sk-container-id-13 div.sk-parallel-item::before {content: \"\";position: absolute;border-left: 1px solid gray;box-sizing: border-box;top: 0;bottom: 0;left: 50%;z-index: -1;}#sk-container-id-13 div.sk-parallel-item {display: flex;flex-direction: column;z-index: 1;position: relative;background-color: white;}#sk-container-id-13 div.sk-parallel-item:first-child::after {align-self: flex-end;width: 50%;}#sk-container-id-13 div.sk-parallel-item:last-child::after {align-self: flex-start;width: 50%;}#sk-container-id-13 div.sk-parallel-item:only-child::after {width: 0;}#sk-container-id-13 div.sk-dashed-wrapped {border: 1px dashed gray;margin: 0 0.4em 0.5em 0.4em;box-sizing: border-box;padding-bottom: 0.4em;background-color: white;}#sk-container-id-13 div.sk-label label {font-family: monospace;font-weight: bold;display: inline-block;line-height: 1.2em;}#sk-container-id-13 div.sk-label-container {text-align: center;}#sk-container-id-13 div.sk-container {/* jupyter's `normalize.less` sets `[hidden] { display: none; }` but bootstrap.min.css set `[hidden] { display: none !important; }` so we also need the `!important` here to be able to override the default hidden behavior on the sphinx rendered scikit-learn.org. See: https://github.com/scikit-learn/scikit-learn/issues/21755 */display: inline-block !important;position: relative;}#sk-container-id-13 div.sk-text-repr-fallback {display: none;}</style><div id=\"sk-container-id-13\" class=\"sk-top-container\"><div class=\"sk-text-repr-fallback\"><pre>OptunaSearchCV(cv=KFold(n_splits=3, random_state=42, shuffle=True),\n",
       "               error_score=&#x27;raise&#x27;, estimator=LGBMRegressor(random_state=42),\n",
       "               n_jobs=-1, n_trials=300,\n",
       "               param_distributions={&#x27;learning_rate&#x27;: FloatDistribution(high=0.5, log=True, low=0.001, step=None),\n",
       "                                    &#x27;max_depth&#x27;: IntDistribution(high=5, log=False, low=2, step=1),\n",
       "                                    &#x27;n_estimators&#x27;: IntDistribution(high=3000, log=False, low=300, step=100),\n",
       "                                    &#x27;num_leaves&#x27;: IntDistribution(high=64, log=False, low=16, step=1)},\n",
       "               random_state=42, scoring=&#x27;neg_root_mean_squared_error&#x27;)</pre><b>In a Jupyter environment, please rerun this cell to show the HTML representation or trust the notebook. <br />On GitHub, the HTML representation is unable to render, please try loading this page with nbviewer.org.</b></div><div class=\"sk-container\" hidden><div class=\"sk-item sk-dashed-wrapped\"><div class=\"sk-label-container\"><div class=\"sk-label sk-toggleable\"><input class=\"sk-toggleable__control sk-hidden--visually\" id=\"sk-estimator-id-37\" type=\"checkbox\" ><label for=\"sk-estimator-id-37\" class=\"sk-toggleable__label sk-toggleable__label-arrow\">OptunaSearchCV</label><div class=\"sk-toggleable__content\"><pre>OptunaSearchCV(cv=KFold(n_splits=3, random_state=42, shuffle=True),\n",
       "               error_score=&#x27;raise&#x27;, estimator=LGBMRegressor(random_state=42),\n",
       "               n_jobs=-1, n_trials=300,\n",
       "               param_distributions={&#x27;learning_rate&#x27;: FloatDistribution(high=0.5, log=True, low=0.001, step=None),\n",
       "                                    &#x27;max_depth&#x27;: IntDistribution(high=5, log=False, low=2, step=1),\n",
       "                                    &#x27;n_estimators&#x27;: IntDistribution(high=3000, log=False, low=300, step=100),\n",
       "                                    &#x27;num_leaves&#x27;: IntDistribution(high=64, log=False, low=16, step=1)},\n",
       "               random_state=42, scoring=&#x27;neg_root_mean_squared_error&#x27;)</pre></div></div></div><div class=\"sk-parallel\"><div class=\"sk-parallel-item\"><div class=\"sk-item\"><div class=\"sk-label-container\"><div class=\"sk-label sk-toggleable\"><input class=\"sk-toggleable__control sk-hidden--visually\" id=\"sk-estimator-id-38\" type=\"checkbox\" ><label for=\"sk-estimator-id-38\" class=\"sk-toggleable__label sk-toggleable__label-arrow\">estimator: LGBMRegressor</label><div class=\"sk-toggleable__content\"><pre>LGBMRegressor(random_state=42)</pre></div></div></div><div class=\"sk-serial\"><div class=\"sk-item\"><div class=\"sk-estimator sk-toggleable\"><input class=\"sk-toggleable__control sk-hidden--visually\" id=\"sk-estimator-id-39\" type=\"checkbox\" ><label for=\"sk-estimator-id-39\" class=\"sk-toggleable__label sk-toggleable__label-arrow\">LGBMRegressor</label><div class=\"sk-toggleable__content\"><pre>LGBMRegressor(random_state=42)</pre></div></div></div></div></div></div></div></div></div></div>"
      ],
      "text/plain": [
       "OptunaSearchCV(cv=KFold(n_splits=3, random_state=42, shuffle=True),\n",
       "               error_score='raise', estimator=LGBMRegressor(random_state=42),\n",
       "               n_jobs=-1, n_trials=300,\n",
       "               param_distributions={'learning_rate': FloatDistribution(high=0.5, log=True, low=0.001, step=None),\n",
       "                                    'max_depth': IntDistribution(high=5, log=False, low=2, step=1),\n",
       "                                    'n_estimators': IntDistribution(high=3000, log=False, low=300, step=100),\n",
       "                                    'num_leaves': IntDistribution(high=64, log=False, low=16, step=1)},\n",
       "               random_state=42, scoring='neg_root_mean_squared_error')"
      ]
     },
     "execution_count": 269,
     "metadata": {},
     "output_type": "execute_result"
    }
   ],
   "source": [
    "lgbm_kwargs = {\n",
    "    \"random_state\": 42,\n",
    "    \"num_leaves\": 21,\n",
    "    \"max_depth\": 5,\n",
    "    \"learning_rate\": 0.12,\n",
    "    \"n_estimators\": 1100,\n",
    "    \"min_split_gain\": 1e-3,\n",
    "    \"min_child_weight\": 1e-2,\n",
    "    \"min_child_samples\": 32,\n",
    "    \"subsample\": 0.2,\n",
    "    \"colsample_bytree\": 0.6,\n",
    "    \"importance_type\": \"split\",\n",
    "    \"reg_alpha\": 0.1,\n",
    "    \"reg_lambda\": 10.0,\n",
    "}\n",
    "\n",
    "lgbm = LGBMRegressor(**lgbm_kwargs)\n",
    "lgbm_space = {\n",
    "    \"num_leaves\": IntDist(16, 64),\n",
    "    \"max_depth\": IntDist(2, 5),\n",
    "    \"learning_rate\": FloatDist(1e-3, 5e-1, log=True),\n",
    "    \"n_estimators\": IntDist(300, 3000, step=100),\n",
    "    \"min_split_gain\": FloatDist(1e-3, 5e-1, log=True),\n",
    "    \"min_child_weight\": FloatDist(1e-3, 5e-1, log=True),\n",
    "    \"min_child_samples\": IntDist(32, 256, step=16),\n",
    "    \"subsample\": FloatDist(0.2, 0.8),\n",
    "    \"colsample_bytree\": FloatDist(0.2, 0.8),\n",
    "    \"importance_type\": CatDist([\"split\", \"gain\"]),\n",
    "    \"reg_alpha\": FloatDist(1e-2, 1e2, log=True),\n",
    "    \"reg_lambda\": FloatDist(1e-2, 1e2, log=True),\n",
    "}\n",
    "lgbm_opt = OptunaSearchCV(\n",
    "    estimator=lgbm,\n",
    "    param_distributions=lgbm_space,\n",
    "    cv=KFold(n_splits=3, shuffle=True, random_state=42),\n",
    "    n_trials=300,\n",
    "    n_jobs=-1,\n",
    "    verbose=0,\n",
    "    scoring=\"neg_root_mean_squared_error\",\n",
    "    error_score=\"raise\",\n",
    "    random_state=42,\n",
    ")\n",
    "lgbm_opt.fit(\n",
    "    X_train,\n",
    "    y_train,\n",
    "    eval_set=[(X_valid, y_valid)],\n",
    "    callbacks=[early_stopping(stopping_rounds=PATIENCE, verbose=False)],\n",
    ")\n"
   ]
  },
  {
   "cell_type": "code",
   "execution_count": 270,
   "metadata": {},
   "outputs": [
    {
     "data": {
      "text/plain": [
       "{'num_leaves': 50,\n",
       " 'max_depth': 5,\n",
       " 'learning_rate': 0.18865523909799312,\n",
       " 'n_estimators': 2500}"
      ]
     },
     "execution_count": 270,
     "metadata": {},
     "output_type": "execute_result"
    }
   ],
   "source": [
    "lgbm_opt.best_params_"
   ]
  },
  {
   "cell_type": "code",
   "execution_count": 271,
   "metadata": {},
   "outputs": [
    {
     "data": {
      "text/plain": [
       "-0.06947496650829436"
      ]
     },
     "execution_count": 271,
     "metadata": {},
     "output_type": "execute_result"
    }
   ],
   "source": [
    "lgbm_opt.best_score_"
   ]
  },
  {
   "cell_type": "code",
   "execution_count": 79,
   "metadata": {},
   "outputs": [
    {
     "data": {
      "text/html": [
       "<style>#sk-container-id-11 {color: black;background-color: white;}#sk-container-id-11 pre{padding: 0;}#sk-container-id-11 div.sk-toggleable {background-color: white;}#sk-container-id-11 label.sk-toggleable__label {cursor: pointer;display: block;width: 100%;margin-bottom: 0;padding: 0.3em;box-sizing: border-box;text-align: center;}#sk-container-id-11 label.sk-toggleable__label-arrow:before {content: \"▸\";float: left;margin-right: 0.25em;color: #696969;}#sk-container-id-11 label.sk-toggleable__label-arrow:hover:before {color: black;}#sk-container-id-11 div.sk-estimator:hover label.sk-toggleable__label-arrow:before {color: black;}#sk-container-id-11 div.sk-toggleable__content {max-height: 0;max-width: 0;overflow: hidden;text-align: left;background-color: #f0f8ff;}#sk-container-id-11 div.sk-toggleable__content pre {margin: 0.2em;color: black;border-radius: 0.25em;background-color: #f0f8ff;}#sk-container-id-11 input.sk-toggleable__control:checked~div.sk-toggleable__content {max-height: 200px;max-width: 100%;overflow: auto;}#sk-container-id-11 input.sk-toggleable__control:checked~label.sk-toggleable__label-arrow:before {content: \"▾\";}#sk-container-id-11 div.sk-estimator input.sk-toggleable__control:checked~label.sk-toggleable__label {background-color: #d4ebff;}#sk-container-id-11 div.sk-label input.sk-toggleable__control:checked~label.sk-toggleable__label {background-color: #d4ebff;}#sk-container-id-11 input.sk-hidden--visually {border: 0;clip: rect(1px 1px 1px 1px);clip: rect(1px, 1px, 1px, 1px);height: 1px;margin: -1px;overflow: hidden;padding: 0;position: absolute;width: 1px;}#sk-container-id-11 div.sk-estimator {font-family: monospace;background-color: #f0f8ff;border: 1px dotted black;border-radius: 0.25em;box-sizing: border-box;margin-bottom: 0.5em;}#sk-container-id-11 div.sk-estimator:hover {background-color: #d4ebff;}#sk-container-id-11 div.sk-parallel-item::after {content: \"\";width: 100%;border-bottom: 1px solid gray;flex-grow: 1;}#sk-container-id-11 div.sk-label:hover label.sk-toggleable__label {background-color: #d4ebff;}#sk-container-id-11 div.sk-serial::before {content: \"\";position: absolute;border-left: 1px solid gray;box-sizing: border-box;top: 0;bottom: 0;left: 50%;z-index: 0;}#sk-container-id-11 div.sk-serial {display: flex;flex-direction: column;align-items: center;background-color: white;padding-right: 0.2em;padding-left: 0.2em;position: relative;}#sk-container-id-11 div.sk-item {position: relative;z-index: 1;}#sk-container-id-11 div.sk-parallel {display: flex;align-items: stretch;justify-content: center;background-color: white;position: relative;}#sk-container-id-11 div.sk-item::before, #sk-container-id-11 div.sk-parallel-item::before {content: \"\";position: absolute;border-left: 1px solid gray;box-sizing: border-box;top: 0;bottom: 0;left: 50%;z-index: -1;}#sk-container-id-11 div.sk-parallel-item {display: flex;flex-direction: column;z-index: 1;position: relative;background-color: white;}#sk-container-id-11 div.sk-parallel-item:first-child::after {align-self: flex-end;width: 50%;}#sk-container-id-11 div.sk-parallel-item:last-child::after {align-self: flex-start;width: 50%;}#sk-container-id-11 div.sk-parallel-item:only-child::after {width: 0;}#sk-container-id-11 div.sk-dashed-wrapped {border: 1px dashed gray;margin: 0 0.4em 0.5em 0.4em;box-sizing: border-box;padding-bottom: 0.4em;background-color: white;}#sk-container-id-11 div.sk-label label {font-family: monospace;font-weight: bold;display: inline-block;line-height: 1.2em;}#sk-container-id-11 div.sk-label-container {text-align: center;}#sk-container-id-11 div.sk-container {/* jupyter's `normalize.less` sets `[hidden] { display: none; }` but bootstrap.min.css set `[hidden] { display: none !important; }` so we also need the `!important` here to be able to override the default hidden behavior on the sphinx rendered scikit-learn.org. See: https://github.com/scikit-learn/scikit-learn/issues/21755 */display: inline-block !important;position: relative;}#sk-container-id-11 div.sk-text-repr-fallback {display: none;}</style><div id=\"sk-container-id-11\" class=\"sk-top-container\"><div class=\"sk-text-repr-fallback\"><pre>OptunaSearchCV(cv=KFold(n_splits=3, random_state=42, shuffle=True),\n",
       "               error_score=&#x27;raise&#x27;,\n",
       "               estimator=&lt;catboost.core.CatBoostRegressor object at 0x00000171EDCD5A50&gt;,\n",
       "               n_jobs=-1, n_trials=300,\n",
       "               param_distributions={&#x27;bagging_temperature&#x27;: FloatDistribution(high=100.0, log=True, low=0.01, step=None),\n",
       "                                    &#x27;colsample_bylevel&#x27;: FloatDistribution(high=0.9, log=True, low=0.01, step=None),\n",
       "                                    &#x27;random_strength&#x27;: FloatDistribution(high=10.0, log=True, low=0.01, step=None)},\n",
       "               random_state=42, scoring=&#x27;neg_root_mean_squared_error&#x27;)</pre><b>In a Jupyter environment, please rerun this cell to show the HTML representation or trust the notebook. <br />On GitHub, the HTML representation is unable to render, please try loading this page with nbviewer.org.</b></div><div class=\"sk-container\" hidden><div class=\"sk-item sk-dashed-wrapped\"><div class=\"sk-label-container\"><div class=\"sk-label sk-toggleable\"><input class=\"sk-toggleable__control sk-hidden--visually\" id=\"sk-estimator-id-31\" type=\"checkbox\" ><label for=\"sk-estimator-id-31\" class=\"sk-toggleable__label sk-toggleable__label-arrow\">OptunaSearchCV</label><div class=\"sk-toggleable__content\"><pre>OptunaSearchCV(cv=KFold(n_splits=3, random_state=42, shuffle=True),\n",
       "               error_score=&#x27;raise&#x27;,\n",
       "               estimator=&lt;catboost.core.CatBoostRegressor object at 0x00000171EDCD5A50&gt;,\n",
       "               n_jobs=-1, n_trials=300,\n",
       "               param_distributions={&#x27;bagging_temperature&#x27;: FloatDistribution(high=100.0, log=True, low=0.01, step=None),\n",
       "                                    &#x27;colsample_bylevel&#x27;: FloatDistribution(high=0.9, log=True, low=0.01, step=None),\n",
       "                                    &#x27;random_strength&#x27;: FloatDistribution(high=10.0, log=True, low=0.01, step=None)},\n",
       "               random_state=42, scoring=&#x27;neg_root_mean_squared_error&#x27;)</pre></div></div></div><div class=\"sk-parallel\"><div class=\"sk-parallel-item\"><div class=\"sk-item\"><div class=\"sk-label-container\"><div class=\"sk-label sk-toggleable\"><input class=\"sk-toggleable__control sk-hidden--visually\" id=\"sk-estimator-id-32\" type=\"checkbox\" ><label for=\"sk-estimator-id-32\" class=\"sk-toggleable__label sk-toggleable__label-arrow\">estimator: CatBoostRegressor</label><div class=\"sk-toggleable__content\"><pre>&lt;catboost.core.CatBoostRegressor object at 0x00000171EDCD5A50&gt;</pre></div></div></div><div class=\"sk-serial\"><div class=\"sk-item\"><div class=\"sk-estimator sk-toggleable\"><input class=\"sk-toggleable__control sk-hidden--visually\" id=\"sk-estimator-id-33\" type=\"checkbox\" ><label for=\"sk-estimator-id-33\" class=\"sk-toggleable__label sk-toggleable__label-arrow\">CatBoostRegressor</label><div class=\"sk-toggleable__content\"><pre>&lt;catboost.core.CatBoostRegressor object at 0x00000171EDCD5A50&gt;</pre></div></div></div></div></div></div></div></div></div></div>"
      ],
      "text/plain": [
       "OptunaSearchCV(cv=KFold(n_splits=3, random_state=42, shuffle=True),\n",
       "               error_score='raise',\n",
       "               estimator=<catboost.core.CatBoostRegressor object at 0x00000171EDCD5A50>,\n",
       "               n_jobs=-1, n_trials=300,\n",
       "               param_distributions={'bagging_temperature': FloatDistribution(high=100.0, log=True, low=0.01, step=None),\n",
       "                                    'colsample_bylevel': FloatDistribution(high=0.9, log=True, low=0.01, step=None),\n",
       "                                    'random_strength': FloatDistribution(high=10.0, log=True, low=0.01, step=None)},\n",
       "               random_state=42, scoring='neg_root_mean_squared_error')"
      ]
     },
     "execution_count": 79,
     "metadata": {},
     "output_type": "execute_result"
    }
   ],
   "source": [
    "catboost_kwargs = {\n",
    "    \"random_seed\": 42,\n",
    "    \"silent\": True,\n",
    "    \"allow_writing_files\": False,\n",
    "    \"od_type\": \"Iter\",\n",
    "    \"eval_metric\": \"RMSE\",\n",
    "    \"bootstrap_type\": \"Bayesian\",\n",
    "    \"grow_policy\": \"Lossguide\",\n",
    "    \"iterations\": 2300,\n",
    "    \"learning_rate\": 0.05,\n",
    "    \"depth\": 5,\n",
    "    \"l2_leaf_reg\": 27.0,\n",
    "    \"min_data_in_leaf\": 48,\n",
    "    \"colsample_bylevel\": 0.5,\n",
    "    \"random_strength\": 0.5,\n",
    "    \"bagging_temperature\": 0.3,\n",
    "}\n",
    "\n",
    "catboost = CatBoostRegressor(**catboost_kwargs)\n",
    "catboost_space = {\n",
    "    \"iterations\": IntDist(300, 3000, step=200),\n",
    "    \"learning_rate\": FloatDist(5e-4, 5e-1, log=True),\n",
    "    \"depth\": IntDist(2, 10),\n",
    "    \"l2_leaf_reg\": FloatDist(1e-2, 1e2, log=True),\n",
    "    \"colsample_bylevel\": FloatDist(1e-2, 9e-1, log=True),\n",
    "    \"min_data_in_leaf\": IntDist(32, 256, step=16),\n",
    "    \"random_strength\": FloatDist(1e-2, 1e1, log=True),\n",
    "    \"bagging_temperature\": FloatDist(1e-2, 1e2, log=True),\n",
    "}\n",
    "cat_boost_opt = OptunaSearchCV(\n",
    "    estimator=catboost,\n",
    "    param_distributions=catboost_space,\n",
    "    cv=KFold(n_splits=3, shuffle=True, random_state=42),\n",
    "    n_trials=300,\n",
    "    n_jobs=-1,\n",
    "    verbose=0,\n",
    "    scoring=\"neg_root_mean_squared_error\",\n",
    "    error_score=\"raise\",\n",
    "    random_state=42,\n",
    ")\n",
    "cat_boost_opt.fit(\n",
    "    X_train,\n",
    "    y_train,\n",
    "    eval_set=(X_valid, y_valid),\n",
    "    early_stopping_rounds=PATIENCE,\n",
    ")\n"
   ]
  },
  {
   "cell_type": "code",
   "execution_count": 83,
   "metadata": {},
   "outputs": [
    {
     "data": {
      "text/plain": [
       "{'colsample_bylevel': 0.44513839103691155,\n",
       " 'random_strength': 0.5326573155367901,\n",
       " 'bagging_temperature': 0.2787304736712271}"
      ]
     },
     "execution_count": 83,
     "metadata": {},
     "output_type": "execute_result"
    }
   ],
   "source": [
    "cat_boost_opt.best_params_"
   ]
  },
  {
   "cell_type": "code",
   "execution_count": 84,
   "metadata": {},
   "outputs": [
    {
     "data": {
      "text/plain": [
       "-0.07022627484246735"
      ]
     },
     "execution_count": 84,
     "metadata": {},
     "output_type": "execute_result"
    }
   ],
   "source": [
    "cat_boost_opt.best_score_"
   ]
  },
  {
   "cell_type": "code",
   "execution_count": 279,
   "metadata": {},
   "outputs": [],
   "source": [
    "lgbm_kwargs = {\n",
    "    \"random_state\": 42,\n",
    "    \"num_leaves\": 21,\n",
    "    \"max_depth\": 5,\n",
    "    \"learning_rate\": 0.12,\n",
    "    \"n_estimators\": 1100,\n",
    "    \"min_split_gain\": 1e-3,\n",
    "    \"min_child_weight\": 1e-2,\n",
    "    \"min_child_samples\": 32,\n",
    "    \"subsample\": 0.2,\n",
    "    \"colsample_bytree\": 0.6,\n",
    "    \"importance_type\": \"split\",\n",
    "    \"reg_alpha\": 0.1,\n",
    "    \"reg_lambda\": 10.0,\n",
    "}\n",
    "\n",
    "catboost_kwargs = {\n",
    "    \"random_seed\": 42,\n",
    "    \"silent\": True,\n",
    "    \"allow_writing_files\": False,\n",
    "    \"od_type\": \"Iter\",\n",
    "    \"eval_metric\": \"RMSE\",\n",
    "    \"bootstrap_type\": \"Bayesian\",\n",
    "    \"grow_policy\": \"Lossguide\",\n",
    "    \"iterations\": 2300,\n",
    "    \"learning_rate\": 0.05,\n",
    "    \"depth\": 5,\n",
    "    \"l2_leaf_reg\": 27.0,\n",
    "    \"min_data_in_leaf\": 48,\n",
    "    \"colsample_bylevel\": 0.5,\n",
    "    \"random_strength\": 0.5,\n",
    "    \"bagging_temperature\": 0.3,\n",
    "}\n",
    "\n",
    "PATIENCE = 20\n",
    "SPLITS = 20\n",
    "\n",
    "lgbm = LGBMRegressor(**lgbm_kwargs)\n",
    "catboost = CatBoostRegressor(**catboost_kwargs)\n",
    "kfold = KFold(n_splits=SPLITS, shuffle=True, random_state=42)\n",
    "y_true, y_pred, rmses = [], [], []\n",
    "\n",
    "\n",
    "for k, (train_ids, test_ids) in enumerate(kfold.split(X_train, y_train)):\n",
    "\n",
    "    X_train_k, y_train_k = X_train[train_ids], y_train[train_ids]\n",
    "    X_test_k, y_test_k = X_train[test_ids], y_train[test_ids]\n",
    "\n",
    "    lgbm.fit(\n",
    "        X_train_k,\n",
    "        y_train_k,\n",
    "        eval_set=(X_valid, y_valid),\n",
    "        callbacks=[\n",
    "            early_stopping(stopping_rounds=PATIENCE, verbose=False),\n",
    "        ],\n",
    "    )\n",
    "\n",
    "    catboost.fit(\n",
    "        X_train_k,\n",
    "        y_train_k,\n",
    "        eval_set=(X_valid, y_valid),\n",
    "        early_stopping_rounds=PATIENCE,\n",
    "    )\n",
    "\n",
    "    predictions = (lgbm.predict(X_test_k) + catboost.predict(X_test_k)) * 0.5\n",
    "    predictions = predictions.round(4)  # Post-processing trick.\n",
    "\n",
    "    y_true.append(y_test_k)\n",
    "    y_pred.append(predictions)\n",
    "    rmses.append(mean_squared_error(y_test_k, predictions, squared=False))\n"
   ]
  },
  {
   "cell_type": "code",
   "execution_count": 280,
   "metadata": {},
   "outputs": [
    {
     "data": {
      "image/png": "[encoded data removed]",
      "text/plain": [
       "<Figure size 576x576 with 1 Axes>"
      ]
     },
     "metadata": {
      "needs_background": "light"
     },
     "output_type": "display_data"
    }
   ],
   "source": [
    "from matplotlib import pyplot as plt\n",
    "\n",
    "Y_true = np.concatenate(y_true)\n",
    "Y_pred = np.concatenate(y_pred)\n",
    "\n",
    "fig, ax = plt.subplots(1, 1, figsize=(8, 8), tight_layout=True)\n",
    "ax.scatter(x=Y_true, y=Y_pred, alpha=0.5, marker=\".\", s=10)\n",
    "ax.plot([-1, 1], [-1, 1])\n",
    "ax.set_aspect(1.0)\n",
    "ax.set_xlabel(\"y_true\")\n",
    "ax.set_ylabel(\"y_pred\")\n",
    "ax.axis([-0.5, 0.5, -0.5, 0.5])\n",
    "plt.show()\n"
   ]
  },
  {
   "cell_type": "code",
   "execution_count": 281,
   "metadata": {},
   "outputs": [
    {
     "data": {
      "text/plain": [
       "count    20.000000\n",
       "mean      0.068744\n",
       "std       0.002661\n",
       "min       0.063979\n",
       "25%       0.066971\n",
       "50%       0.068197\n",
       "75%       0.070260\n",
       "max       0.074496\n",
       "dtype: float64"
      ]
     },
     "execution_count": 281,
     "metadata": {},
     "output_type": "execute_result"
    }
   ],
   "source": [
    "pd.Series(rmses).describe()"
   ]
  },
  {
   "cell_type": "code",
   "execution_count": 283,
   "metadata": {},
   "outputs": [
    {
     "data": {
      "text/plain": [
       "{'whiskers': [<matplotlib.lines.Line2D at 0x171fd139a20>,\n",
       "  <matplotlib.lines.Line2D at 0x171fd139cf0>],\n",
       " 'caps': [<matplotlib.lines.Line2D at 0x171fd139fc0>,\n",
       "  <matplotlib.lines.Line2D at 0x171fd13a290>],\n",
       " 'boxes': [<matplotlib.lines.Line2D at 0x171fd139780>],\n",
       " 'medians': [<matplotlib.lines.Line2D at 0x171fd13a560>],\n",
       " 'fliers': [<matplotlib.lines.Line2D at 0x171fd13a830>],\n",
       " 'means': []}"
      ]
     },
     "execution_count": 283,
     "metadata": {},
     "output_type": "execute_result"
    },
    {
     "data": {
      "image/png": "[encoded data removed]",
      "text/plain": [
       "<Figure size 432x288 with 1 Axes>"
      ]
     },
     "metadata": {
      "needs_background": "light"
     },
     "output_type": "display_data"
    }
   ],
   "source": [
    "plt.boxplot(rmses)"
   ]
  },
  {
   "cell_type": "code",
   "execution_count": 240,
   "metadata": {},
   "outputs": [
    {
     "data": {
      "text/html": [
       "<div>\n",
       "<style scoped>\n",
       "    .dataframe tbody tr th:only-of-type {\n",
       "        vertical-align: middle;\n",
       "    }\n",
       "\n",
       "    .dataframe tbody tr th {\n",
       "        vertical-align: top;\n",
       "    }\n",
       "\n",
       "    .dataframe thead th {\n",
       "        text-align: right;\n",
       "    }\n",
       "</style>\n",
       "<table border=\"1\" class=\"dataframe\">\n",
       "  <thead>\n",
       "    <tr style=\"text-align: right;\">\n",
       "      <th></th>\n",
       "      <th>x_e_out [-]</th>\n",
       "    </tr>\n",
       "    <tr>\n",
       "      <th>id</th>\n",
       "      <th></th>\n",
       "    </tr>\n",
       "  </thead>\n",
       "  <tbody>\n",
       "    <tr>\n",
       "      <th>4</th>\n",
       "      <td>-0.0004</td>\n",
       "    </tr>\n",
       "    <tr>\n",
       "      <th>7</th>\n",
       "      <td>-0.0660</td>\n",
       "    </tr>\n",
       "    <tr>\n",
       "      <th>10</th>\n",
       "      <td>-0.0511</td>\n",
       "    </tr>\n",
       "    <tr>\n",
       "      <th>12</th>\n",
       "      <td>0.0004</td>\n",
       "    </tr>\n",
       "    <tr>\n",
       "      <th>23</th>\n",
       "      <td>0.0415</td>\n",
       "    </tr>\n",
       "  </tbody>\n",
       "</table>\n",
       "</div>"
      ],
      "text/plain": [
       "    x_e_out [-]\n",
       "id             \n",
       "4       -0.0004\n",
       "7       -0.0660\n",
       "10      -0.0511\n",
       "12       0.0004\n",
       "23       0.0415"
      ]
     },
     "execution_count": 240,
     "metadata": {},
     "output_type": "execute_result"
    }
   ],
   "source": [
    "lgbm.fit(\n",
    "    X_train,\n",
    "    y_train,\n",
    "    eval_set=(X_valid, y_valid),\n",
    "    callbacks=[\n",
    "        early_stopping(stopping_rounds=PATIENCE, verbose=False),\n",
    "    ],\n",
    ")\n",
    "\n",
    "catboost.fit(\n",
    "    X_train,\n",
    "    y_train,\n",
    "    eval_set=(X_valid, y_valid),\n",
    "    early_stopping_rounds=PATIENCE,\n",
    ")\n",
    "\n",
    "predictions = ((lgbm.predict(X_test) + catboost.predict(X_test)) * 0.5).round(4)\n",
    "\n",
    "submission = pd.DataFrame(\n",
    "    {\n",
    "        \"id\": X_test_ids,\n",
    "        \"x_e_out [-]\": predictions,\n",
    "    }\n",
    ").set_index(\"id\")\n",
    "\n",
    "submission.to_csv(\"submission.csv\")\n",
    "submission.head()\n"
   ]
  },
  {
   "cell_type": "code",
   "execution_count": 244,
   "metadata": {},
   "outputs": [
    {
     "data": {
      "text/plain": [
       "<AxesSubplot:ylabel='Frequency'>"
      ]
     },
     "execution_count": 244,
     "metadata": {},
     "output_type": "execute_result"
    },
    {
     "data": {
      "image/png": "[encoded data removed]",
      "text/plain": [
       "<Figure size 432x288 with 1 Axes>"
      ]
     },
     "metadata": {
      "needs_background": "light"
     },
     "output_type": "display_data"
    }
   ],
   "source": [
    "submission.plot(kind=\"hist\", bins=20)"
   ]
  },
  {
   "cell_type": "code",
   "execution_count": null,
   "metadata": {},
   "outputs": [],
   "source": []
  }
 ],
 "metadata": {
  "kernelspec": {
   "display_name": "Python 3",
   "language": "python",
   "name": "python3"
  },
  "language_info": {
   "codemirror_mode": {
    "name": "ipython",
    "version": 3
   },
   "file_extension": ".py",
   "mimetype": "text/x-python",
   "name": "python",
   "nbconvert_exporter": "python",
   "pygments_lexer": "ipython3",
   "version": "3.10.5"
  },
  "orig_nbformat": 4
 },
 "nbformat": 4,
 "nbformat_minor": 2
}
