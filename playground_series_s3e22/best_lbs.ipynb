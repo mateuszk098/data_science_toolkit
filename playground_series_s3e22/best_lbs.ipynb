{
 "cells": [
  {
   "cell_type": "code",
   "execution_count": 1,
   "metadata": {},
   "outputs": [
    {
     "data": {
      "text/plain": [
       "array([[0.01538722, 0.01232555, 0.97228724],\n",
       "       [0.59326947, 0.08907694, 0.3176536 ],\n",
       "       [0.08595429, 0.03684172, 0.87720394],\n",
       "       ...,\n",
       "       [0.68269485, 0.11103768, 0.20626743],\n",
       "       [0.02956749, 0.01871612, 0.9517163 ],\n",
       "       [0.11555038, 0.09445573, 0.7899939 ]], dtype=float32)"
      ]
     },
     "execution_count": 1,
     "metadata": {},
     "output_type": "execute_result"
    }
   ],
   "source": [
    "import pandas as pd\n",
    "import numpy as np\n",
    "\n",
    "\n",
    "sample_submission = pd.read_csv(\"data/sample_submission.csv\", index_col=\"id\")\n",
    "y_blend = np.zeros((len(sample_submission), 3), dtype=np.float32)\n",
    "blend_paths_weights = (\n",
    "    (\"submissions/best_lgbm.csv\", 0.3),\n",
    "    (\"submissions/best_cat.csv\", 0.3),\n",
    "    (\"submissions/moazeldsokyx_probas.csv\", 0.2),\n",
    "    (\"submissions/zhukovoleksiy_probas.csv\", 0.2),\n",
    ")\n",
    "\n",
    "for path, weight in blend_paths_weights:\n",
    "    y_blend += weight * pd.read_csv(path, index_col=\"id\").to_numpy()\n",
    "\n",
    "y_blend\n"
   ]
  },
  {
   "cell_type": "code",
   "execution_count": 2,
   "metadata": {},
   "outputs": [
    {
     "data": {
      "text/html": [
       "<div>\n",
       "<style scoped>\n",
       "    .dataframe tbody tr th:only-of-type {\n",
       "        vertical-align: middle;\n",
       "    }\n",
       "\n",
       "    .dataframe tbody tr th {\n",
       "        vertical-align: top;\n",
       "    }\n",
       "\n",
       "    .dataframe thead th {\n",
       "        text-align: right;\n",
       "    }\n",
       "</style>\n",
       "<table border=\"1\" class=\"dataframe\">\n",
       "  <thead>\n",
       "    <tr style=\"text-align: right;\">\n",
       "      <th></th>\n",
       "      <th>outcome</th>\n",
       "    </tr>\n",
       "    <tr>\n",
       "      <th>id</th>\n",
       "      <th></th>\n",
       "    </tr>\n",
       "  </thead>\n",
       "  <tbody>\n",
       "    <tr>\n",
       "      <th>1235</th>\n",
       "      <td>lived</td>\n",
       "    </tr>\n",
       "    <tr>\n",
       "      <th>1236</th>\n",
       "      <td>died</td>\n",
       "    </tr>\n",
       "    <tr>\n",
       "      <th>1237</th>\n",
       "      <td>lived</td>\n",
       "    </tr>\n",
       "    <tr>\n",
       "      <th>1238</th>\n",
       "      <td>euthanized</td>\n",
       "    </tr>\n",
       "    <tr>\n",
       "      <th>1239</th>\n",
       "      <td>lived</td>\n",
       "    </tr>\n",
       "  </tbody>\n",
       "</table>\n",
       "</div>"
      ],
      "text/plain": [
       "         outcome\n",
       "id              \n",
       "1235       lived\n",
       "1236        died\n",
       "1237       lived\n",
       "1238  euthanized\n",
       "1239       lived"
      ]
     },
     "execution_count": 2,
     "metadata": {},
     "output_type": "execute_result"
    }
   ],
   "source": [
    "submission = pd.DataFrame(\n",
    "    {\n",
    "        \"id\": sample_submission.index,\n",
    "        \"outcome\": pd.Series(y_blend.argmax(axis=1)).map({0: \"died\", 1: \"euthanized\", 2: \"lived\"}),\n",
    "    }\n",
    ").set_index(\"id\")\n",
    "\n",
    "submission.to_csv(\"blend_submission.csv\")\n",
    "submission.head()\n"
   ]
  }
 ],
 "metadata": {
  "kernelspec": {
   "display_name": "Python 3",
   "language": "python",
   "name": "python3"
  },
  "language_info": {
   "codemirror_mode": {
    "name": "ipython",
    "version": 3
   },
   "file_extension": ".py",
   "mimetype": "text/x-python",
   "name": "python",
   "nbconvert_exporter": "python",
   "pygments_lexer": "ipython3",
   "version": "3.10.5"
  },
  "orig_nbformat": 4
 },
 "nbformat": 4,
 "nbformat_minor": 2
}
