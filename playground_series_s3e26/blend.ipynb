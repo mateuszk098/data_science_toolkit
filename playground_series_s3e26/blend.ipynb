{
 "cells": [
  {
   "cell_type": "code",
   "execution_count": 16,
   "metadata": {},
   "outputs": [
    {
     "data": {
      "text/plain": [
       "array([[0.39761826, 0.02481227, 0.56756943],\n",
       "       [0.48972437, 0.26817614, 0.2320995 ],\n",
       "       [0.03204083, 0.01245035, 0.94550884],\n",
       "       ...,\n",
       "       [0.91601133, 0.01276594, 0.06122275],\n",
       "       [0.9729743 , 0.00564536, 0.01138033],\n",
       "       [0.40088496, 0.01774265, 0.5713724 ]], dtype=float32)"
      ]
     },
     "execution_count": 16,
     "metadata": {},
     "output_type": "execute_result"
    }
   ],
   "source": [
    "import pandas as pd\n",
    "import numpy as np\n",
    "\n",
    "\n",
    "sample_submission = pd.read_csv(\"data/sample_submission.csv\", index_col=\"id\")\n",
    "y_blend = np.zeros((len(sample_submission), 3), dtype=np.float32)\n",
    "blend_paths_weights = (\n",
    "    (\"submissions/submission_better.csv\", 0.33),\n",
    "    (\"submissions/submission_jiraiya.csv\", 0.33),\n",
    "    (\"submissions/submission_kumar.csv\", 0.33),\n",
    ")\n",
    "\n",
    "for path, weight in blend_paths_weights:\n",
    "    y_blend += weight * pd.read_csv(path, index_col=\"id\").to_numpy()\n",
    "\n",
    "y_blend\n"
   ]
  },
  {
   "cell_type": "code",
   "execution_count": 17,
   "metadata": {},
   "outputs": [
    {
     "data": {
      "text/html": [
       "<div>\n",
       "<style scoped>\n",
       "    .dataframe tbody tr th:only-of-type {\n",
       "        vertical-align: middle;\n",
       "    }\n",
       "\n",
       "    .dataframe tbody tr th {\n",
       "        vertical-align: top;\n",
       "    }\n",
       "\n",
       "    .dataframe thead th {\n",
       "        text-align: right;\n",
       "    }\n",
       "</style>\n",
       "<table border=\"1\" class=\"dataframe\">\n",
       "  <thead>\n",
       "    <tr style=\"text-align: right;\">\n",
       "      <th></th>\n",
       "      <th>Status_C</th>\n",
       "      <th>Status_CL</th>\n",
       "      <th>Status_D</th>\n",
       "    </tr>\n",
       "    <tr>\n",
       "      <th>id</th>\n",
       "      <th></th>\n",
       "      <th></th>\n",
       "      <th></th>\n",
       "    </tr>\n",
       "  </thead>\n",
       "  <tbody>\n",
       "    <tr>\n",
       "      <th>7905</th>\n",
       "      <td>0.397618</td>\n",
       "      <td>0.024812</td>\n",
       "      <td>0.567569</td>\n",
       "    </tr>\n",
       "    <tr>\n",
       "      <th>7906</th>\n",
       "      <td>0.489724</td>\n",
       "      <td>0.268176</td>\n",
       "      <td>0.232100</td>\n",
       "    </tr>\n",
       "    <tr>\n",
       "      <th>7907</th>\n",
       "      <td>0.032041</td>\n",
       "      <td>0.012450</td>\n",
       "      <td>0.945509</td>\n",
       "    </tr>\n",
       "    <tr>\n",
       "      <th>7908</th>\n",
       "      <td>0.967908</td>\n",
       "      <td>0.003834</td>\n",
       "      <td>0.018258</td>\n",
       "    </tr>\n",
       "    <tr>\n",
       "      <th>7909</th>\n",
       "      <td>0.852729</td>\n",
       "      <td>0.048602</td>\n",
       "      <td>0.088669</td>\n",
       "    </tr>\n",
       "  </tbody>\n",
       "</table>\n",
       "</div>"
      ],
      "text/plain": [
       "      Status_C  Status_CL  Status_D\n",
       "id                                 \n",
       "7905  0.397618   0.024812  0.567569\n",
       "7906  0.489724   0.268176  0.232100\n",
       "7907  0.032041   0.012450  0.945509\n",
       "7908  0.967908   0.003834  0.018258\n",
       "7909  0.852729   0.048602  0.088669"
      ]
     },
     "execution_count": 17,
     "metadata": {},
     "output_type": "execute_result"
    }
   ],
   "source": [
    "submission = pd.DataFrame(\n",
    "    {\n",
    "        \"id\": sample_submission.index,\n",
    "        \"Status_C\": y_blend[:, 0],\n",
    "        \"Status_CL\": y_blend[:, 1],\n",
    "        \"Status_D\": y_blend[:, 2],\n",
    "    }\n",
    ").set_index(\"id\")\n",
    "\n",
    "submission.clip(lower=1e-3, upper=0.999).to_csv(\"submission_blend.csv\")\n",
    "submission.head()"
   ]
  }
 ],
 "metadata": {
  "kernelspec": {
   "display_name": "Python 3",
   "language": "python",
   "name": "python3"
  },
  "language_info": {
   "codemirror_mode": {
    "name": "ipython",
    "version": 3
   },
   "file_extension": ".py",
   "mimetype": "text/x-python",
   "name": "python",
   "nbconvert_exporter": "python",
   "pygments_lexer": "ipython3",
   "version": "3.10.5"
  }
 },
 "nbformat": 4,
 "nbformat_minor": 2
}
