{
 "cells": [
  {
   "cell_type": "code",
   "execution_count": 3,
   "metadata": {},
   "outputs": [
    {
     "data": {
      "text/plain": [
       "array([[0.49720833, 0.02544524, 0.47734642],\n",
       "       [0.53474945, 0.22959365, 0.23565687],\n",
       "       [0.03254842, 0.01414635, 0.95330524],\n",
       "       ...,\n",
       "       [0.9255792 , 0.01108923, 0.06333157],\n",
       "       [0.9797443 , 0.00701631, 0.01323936],\n",
       "       [0.40763822, 0.02092011, 0.57144165]], dtype=float32)"
      ]
     },
     "execution_count": 3,
     "metadata": {},
     "output_type": "execute_result"
    }
   ],
   "source": [
    "import pandas as pd\n",
    "import numpy as np\n",
    "\n",
    "\n",
    "sample_submission = pd.read_csv(\"data/sample_submission.csv\", index_col=\"id\")\n",
    "y_blend = np.zeros((len(sample_submission), 3), dtype=np.float32)\n",
    "blend_paths_weights = (\n",
    "    (\"submissions/submission_mateusz.csv\", 0.5),\n",
    "    (\"submissions/submission_jiraiya.csv\", 0.5),\n",
    ")\n",
    "\n",
    "for path, weight in blend_paths_weights:\n",
    "    y_blend += weight * pd.read_csv(path, index_col=\"id\").to_numpy()\n",
    "\n",
    "y_blend\n"
   ]
  },
  {
   "cell_type": "code",
   "execution_count": 5,
   "metadata": {},
   "outputs": [
    {
     "data": {
      "text/html": [
       "<div>\n",
       "<style scoped>\n",
       "    .dataframe tbody tr th:only-of-type {\n",
       "        vertical-align: middle;\n",
       "    }\n",
       "\n",
       "    .dataframe tbody tr th {\n",
       "        vertical-align: top;\n",
       "    }\n",
       "\n",
       "    .dataframe thead th {\n",
       "        text-align: right;\n",
       "    }\n",
       "</style>\n",
       "<table border=\"1\" class=\"dataframe\">\n",
       "  <thead>\n",
       "    <tr style=\"text-align: right;\">\n",
       "      <th></th>\n",
       "      <th>Status_C</th>\n",
       "      <th>Status_CL</th>\n",
       "      <th>Status_D</th>\n",
       "    </tr>\n",
       "    <tr>\n",
       "      <th>id</th>\n",
       "      <th></th>\n",
       "      <th></th>\n",
       "      <th></th>\n",
       "    </tr>\n",
       "  </thead>\n",
       "  <tbody>\n",
       "    <tr>\n",
       "      <th>7905</th>\n",
       "      <td>0.497208</td>\n",
       "      <td>0.025445</td>\n",
       "      <td>0.477346</td>\n",
       "    </tr>\n",
       "    <tr>\n",
       "      <th>7906</th>\n",
       "      <td>0.534749</td>\n",
       "      <td>0.229594</td>\n",
       "      <td>0.235657</td>\n",
       "    </tr>\n",
       "    <tr>\n",
       "      <th>7907</th>\n",
       "      <td>0.032548</td>\n",
       "      <td>0.014146</td>\n",
       "      <td>0.953305</td>\n",
       "    </tr>\n",
       "    <tr>\n",
       "      <th>7908</th>\n",
       "      <td>0.971855</td>\n",
       "      <td>0.005278</td>\n",
       "      <td>0.022868</td>\n",
       "    </tr>\n",
       "    <tr>\n",
       "      <th>7909</th>\n",
       "      <td>0.832358</td>\n",
       "      <td>0.054676</td>\n",
       "      <td>0.112967</td>\n",
       "    </tr>\n",
       "  </tbody>\n",
       "</table>\n",
       "</div>"
      ],
      "text/plain": [
       "      Status_C  Status_CL  Status_D\n",
       "id                                 \n",
       "7905  0.497208   0.025445  0.477346\n",
       "7906  0.534749   0.229594  0.235657\n",
       "7907  0.032548   0.014146  0.953305\n",
       "7908  0.971855   0.005278  0.022868\n",
       "7909  0.832358   0.054676  0.112967"
      ]
     },
     "execution_count": 5,
     "metadata": {},
     "output_type": "execute_result"
    }
   ],
   "source": [
    "submission = pd.DataFrame(\n",
    "    {\n",
    "        \"id\": sample_submission.index,\n",
    "        \"Status_C\": y_blend[:, 0],\n",
    "        \"Status_CL\": y_blend[:, 1],\n",
    "        \"Status_D\": y_blend[:, 2],\n",
    "    }\n",
    ").set_index(\"id\")\n",
    "\n",
    "submission.to_csv(\"submission.csv\")\n",
    "submission.head()"
   ]
  }
 ],
 "metadata": {
  "kernelspec": {
   "display_name": "Python 3",
   "language": "python",
   "name": "python3"
  },
  "language_info": {
   "codemirror_mode": {
    "name": "ipython",
    "version": 3
   },
   "file_extension": ".py",
   "mimetype": "text/x-python",
   "name": "python",
   "nbconvert_exporter": "python",
   "pygments_lexer": "ipython3",
   "version": "3.10.5"
  }
 },
 "nbformat": 4,
 "nbformat_minor": 2
}
