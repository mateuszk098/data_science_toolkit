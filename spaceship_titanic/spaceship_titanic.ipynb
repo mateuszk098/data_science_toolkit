{
 "cells": [
  {
   "attachments": {},
   "cell_type": "markdown",
   "metadata": {},
   "source": [
    "<a id=\"1\"></a>\n",
    "# <p style=\"padding:15px; background-color:#023047; font-family:fantasy; font-size:150%; color:#f2f2f0; text-align:center; border-radius: 10px 10px; font-weight:normal\">SPACESHIP TITANIC</p>"
   ]
  },
  {
   "attachments": {},
   "cell_type": "markdown",
   "metadata": {},
   "source": [
    "---"
   ]
  },
  {
   "attachments": {},
   "cell_type": "markdown",
   "metadata": {},
   "source": [
    "#### **DESCRIPTION:**\n",
    "\n",
    "_Welcome to the year 2912, where your data science skills are needed to solve a cosmic mystery. We've received a transmission from four lightyears away and things aren't looking good._\n",
    "\n",
    "_The Spaceship Titanic was an interstellar passenger liner launched a month ago. With almost 13,000 passengers on board, the vessel set out on its maiden voyage transporting emigrants from our solar system to three newly habitable exoplanets orbiting nearby stars._\n",
    "\n",
    "_While rounding Alpha Centauri en route to its first destination—the torrid 55 Cancri E—the unwary Spaceship Titanic collided with a spacetime anomaly hidden within a dust cloud. Sadly, it met a similar fate as its namesake from 1000 years before. Though the ship stayed intact, almost half of the passengers were transported to an alternate dimension!_"
   ]
  },
  {
   "attachments": {},
   "cell_type": "markdown",
   "metadata": {},
   "source": [
    "#### **TASK:** \n",
    "\n",
    "_In this competition your task is to predict whether a passenger was transported to an alternate dimension during the Spaceship Titanic's collision with the spacetime anomaly. To help you make these predictions, you're given a set of personal records recovered from the ship's damaged computer system._"
   ]
  },
  {
   "attachments": {},
   "cell_type": "markdown",
   "metadata": {},
   "source": [
    "#### **SEE MORE HERE:** \n",
    "\n",
    "https://www.kaggle.com/competitions/spaceship-titanic/overview"
   ]
  },
  {
   "attachments": {},
   "cell_type": "markdown",
   "metadata": {},
   "source": [
    "---"
   ]
  },
  {
   "attachments": {},
   "cell_type": "markdown",
   "metadata": {},
   "source": [
    "#### **TABLE OF CONTENTS:**"
   ]
  },
  {
   "attachments": {},
   "cell_type": "markdown",
   "metadata": {},
   "source": [
    "* [**1. EXPLORATORY DATA ANALYSIS (EDA)**](#eda)\n",
    "  \n",
    "  - [**1.1. GLANCE AT THE DATASET**](#glance-at-dataset)\n",
    "  \n",
    "  - [**1.2. FEATURE ENGINEERING**](#feature-engineering)\n",
    "  \n",
    "  - [**1.3. DATASET SUMMARY**](#dataset-summary)\n",
    "  \n",
    "* [**2. PREPROCESSING**](#preprocessing)\n",
    "  \n",
    "  - [**2.1. FEATURE ADDER CLASS FOR AUTOMATIC FEATURE ADDING**](#feature-adder)\n",
    "  \n",
    "  - [**2.2. TRANSFORMATION PIPELINES**](#transformation-pipelines)\n",
    "\n",
    "* [**3. MACHINE LEARNING AND MODEL SELECTION**](#machine-learning)\n",
    "\n",
    "  - [**3.1. MODEL SELECTION**](#model-selection)\n",
    "\n",
    "  - [**3.2. MODEL TUNE**](#model-tune)\n",
    "\n",
    "  - [**3.3. QUICK LOOK AT PRECISION AND RECALL**](#precision-recall)\n",
    "  \n",
    "  - [**3.4. FINAL PREDICTIONS**](#final-predictions)"
   ]
  },
  {
   "attachments": {},
   "cell_type": "markdown",
   "metadata": {},
   "source": [
    "---"
   ]
  },
  {
   "attachments": {},
   "cell_type": "markdown",
   "metadata": {},
   "source": [
    "<a id=\"eda\"></a>\n",
    "# <p style=\"padding:15px; background-color:#023047; font-family:fantasy; font-size:150%; color:#f2f2f0; text-align:center; border-radius: 20px 20px; font-weight:normal\">1. EXPLORATORY DATA ANALYSIS (EDA)</p>"
   ]
  },
  {
   "attachments": {},
   "cell_type": "markdown",
   "metadata": {},
   "source": [
    "---"
   ]
  },
  {
   "attachments": {},
   "cell_type": "markdown",
   "metadata": {},
   "source": [
    "<p style=\"font-family: verdana; font-weight: bold; font-size: 14px\">Minimal setup.</p>"
   ]
  },
  {
   "cell_type": "code",
   "execution_count": 71,
   "metadata": {},
   "outputs": [],
   "source": [
    "import os\n",
    "from pathlib import Path\n",
    "\n",
    "import matplotlib.pyplot as plt\n",
    "import numpy as np\n",
    "import pandas as pd\n",
    "import seaborn as sns\n",
    "\n",
    "\n",
    "# Indicates whether the notebook is running on Kaggle or not.\n",
    "ON_KAGGLE = os.getenv(\"KAGGLE_KERNEL_RUN_TYPE\") is not None\n",
    "MODELS_PATH = Path(\"models\")\n",
    "MODELS_PATH.mkdir(exist_ok=True)  # If directory exists, do nothing.\n",
    "DARK_BLUE = \"#141b4d\"\n",
    "\n",
    "MY_RC = {\n",
    "    \"axes.labelcolor\": DARK_BLUE,\n",
    "    \"axes.labelsize\": 10,\n",
    "    \"axes.labelpad\": 15,\n",
    "    \"axes.labelweight\": \"bold\",\n",
    "    \"axes.titlesize\": 14,\n",
    "    \"axes.titleweight\": \"bold\",\n",
    "    \"axes.titlepad\": 15,\n",
    "    \"xtick.labelsize\": 10,\n",
    "    \"xtick.color\": DARK_BLUE,\n",
    "    \"ytick.labelsize\": 10,\n",
    "    \"ytick.color\": DARK_BLUE,\n",
    "    \"figure.titlesize\": 14,\n",
    "    \"figure.titleweight\": \"bold\",\n",
    "    \"figure.dpi\": 72,  # Locally Seaborn uses 72, meanwhile Kaggle 96.\n",
    "    \"font.size\": 10,\n",
    "    \"font.family\": \"Serif\",\n",
    "    \"text.color\": DARK_BLUE,\n",
    "}\n",
    "\n",
    "sns.set_theme(rc=MY_RC)\n",
    "sns.set_palette(\"crest_r\")"
   ]
  },
  {
   "attachments": {},
   "cell_type": "markdown",
   "metadata": {},
   "source": [
    "<a id=\"glance-at-dataset\"></a>\n",
    "## <b><span style='padding:10px; background-color:#023047; font-family:fantasy; font-weight:normal; color:#f2f2f0; border-radius: 10px 10px;'> 1.1. GLANCE AT THE DATASET </span></b>"
   ]
  },
  {
   "cell_type": "code",
   "execution_count": 197,
   "metadata": {},
   "outputs": [],
   "source": [
    "train_path = \"data/train.csv\"\n",
    "test_path = \"data/test.csv\"\n",
    "\n",
    "if ON_KAGGLE:\n",
    "    train_path = \"/kaggle/input/spaceship-titanic/train.csv\"\n",
    "    test_path = \"/kaggle/input/spaceship-titanic/test.csv\"\n",
    "    \n",
    "train_set = pd.read_csv(train_path)\n",
    "test_set = pd.read_csv(test_path)\n"
   ]
  },
  {
   "attachments": {},
   "cell_type": "markdown",
   "metadata": {},
   "source": [
    "**Features Description:**\n",
    "\n",
    "- **`PassengerId`**  \n",
    "  _A unique Id for each passenger. Each Id takes the form gggg_pp where gggg indicates a group the passenger is travelling with and pp is their number within the group. People in a group are often family members, but not always._\n",
    "- **`HomePlanet`**  \n",
    "  _The planet the passenger departed from, typically their planet of permanent residence._\n",
    "- **`CryoSleep`**  \n",
    "  _Indicates whether the passenger elected to be put into suspended animation for the duration of the voyage. Passengers in cryosleep are confined to their cabins._\n",
    "- **`Cabin`**  \n",
    "  _The cabin number where the passenger is staying. Takes the form deck/num/side, where side can be either P for Port or S for Starboard._\n",
    "- **`Destination`**  \n",
    "  _The planet the passenger will be debarking to._\n",
    "- **`Age`**  \n",
    "  _The age of the passenger._\n",
    "- **`VIP`**  \n",
    "  _Whether the passenger has paid for special VIP service during the voyage._\n",
    "- **`RoomService`**, **`FoodCourt`**, **`ShoppingMall`**, **`Spa`**, **`VRDeck`**  \n",
    "  _Amount the passenger has billed at each of the Spaceship Titanic's many luxury amenities._\n",
    "- **`Name`**  \n",
    "  _The first and last names of the passenger._\n",
    "- **`Transported`**  \n",
    "  _Whether the passenger was transported to another dimension. This is the target, the column you are trying to predict._"
   ]
  },
  {
   "cell_type": "code",
   "execution_count": 7,
   "metadata": {},
   "outputs": [
    {
     "data": {
      "text/html": [
       "<div>\n",
       "<style scoped>\n",
       "    .dataframe tbody tr th:only-of-type {\n",
       "        vertical-align: middle;\n",
       "    }\n",
       "\n",
       "    .dataframe tbody tr th {\n",
       "        vertical-align: top;\n",
       "    }\n",
       "\n",
       "    .dataframe thead th {\n",
       "        text-align: right;\n",
       "    }\n",
       "</style>\n",
       "<table border=\"1\" class=\"dataframe\">\n",
       "  <thead>\n",
       "    <tr style=\"text-align: right;\">\n",
       "      <th></th>\n",
       "      <th>PassengerId</th>\n",
       "      <th>HomePlanet</th>\n",
       "      <th>CryoSleep</th>\n",
       "      <th>Cabin</th>\n",
       "      <th>Destination</th>\n",
       "      <th>Age</th>\n",
       "      <th>VIP</th>\n",
       "      <th>RoomService</th>\n",
       "      <th>FoodCourt</th>\n",
       "      <th>ShoppingMall</th>\n",
       "      <th>Spa</th>\n",
       "      <th>VRDeck</th>\n",
       "      <th>Name</th>\n",
       "      <th>Transported</th>\n",
       "    </tr>\n",
       "  </thead>\n",
       "  <tbody>\n",
       "    <tr>\n",
       "      <th>0</th>\n",
       "      <td>0001_01</td>\n",
       "      <td>Europa</td>\n",
       "      <td>False</td>\n",
       "      <td>B/0/P</td>\n",
       "      <td>TRAPPIST-1e</td>\n",
       "      <td>39.0</td>\n",
       "      <td>False</td>\n",
       "      <td>0.0</td>\n",
       "      <td>0.0</td>\n",
       "      <td>0.0</td>\n",
       "      <td>0.0</td>\n",
       "      <td>0.0</td>\n",
       "      <td>Maham Ofracculy</td>\n",
       "      <td>False</td>\n",
       "    </tr>\n",
       "    <tr>\n",
       "      <th>1</th>\n",
       "      <td>0002_01</td>\n",
       "      <td>Earth</td>\n",
       "      <td>False</td>\n",
       "      <td>F/0/S</td>\n",
       "      <td>TRAPPIST-1e</td>\n",
       "      <td>24.0</td>\n",
       "      <td>False</td>\n",
       "      <td>109.0</td>\n",
       "      <td>9.0</td>\n",
       "      <td>25.0</td>\n",
       "      <td>549.0</td>\n",
       "      <td>44.0</td>\n",
       "      <td>Juanna Vines</td>\n",
       "      <td>True</td>\n",
       "    </tr>\n",
       "    <tr>\n",
       "      <th>2</th>\n",
       "      <td>0003_01</td>\n",
       "      <td>Europa</td>\n",
       "      <td>False</td>\n",
       "      <td>A/0/S</td>\n",
       "      <td>TRAPPIST-1e</td>\n",
       "      <td>58.0</td>\n",
       "      <td>True</td>\n",
       "      <td>43.0</td>\n",
       "      <td>3576.0</td>\n",
       "      <td>0.0</td>\n",
       "      <td>6715.0</td>\n",
       "      <td>49.0</td>\n",
       "      <td>Altark Susent</td>\n",
       "      <td>False</td>\n",
       "    </tr>\n",
       "    <tr>\n",
       "      <th>3</th>\n",
       "      <td>0003_02</td>\n",
       "      <td>Europa</td>\n",
       "      <td>False</td>\n",
       "      <td>A/0/S</td>\n",
       "      <td>TRAPPIST-1e</td>\n",
       "      <td>33.0</td>\n",
       "      <td>False</td>\n",
       "      <td>0.0</td>\n",
       "      <td>1283.0</td>\n",
       "      <td>371.0</td>\n",
       "      <td>3329.0</td>\n",
       "      <td>193.0</td>\n",
       "      <td>Solam Susent</td>\n",
       "      <td>False</td>\n",
       "    </tr>\n",
       "    <tr>\n",
       "      <th>4</th>\n",
       "      <td>0004_01</td>\n",
       "      <td>Earth</td>\n",
       "      <td>False</td>\n",
       "      <td>F/1/S</td>\n",
       "      <td>TRAPPIST-1e</td>\n",
       "      <td>16.0</td>\n",
       "      <td>False</td>\n",
       "      <td>303.0</td>\n",
       "      <td>70.0</td>\n",
       "      <td>151.0</td>\n",
       "      <td>565.0</td>\n",
       "      <td>2.0</td>\n",
       "      <td>Willy Santantines</td>\n",
       "      <td>True</td>\n",
       "    </tr>\n",
       "    <tr>\n",
       "      <th>5</th>\n",
       "      <td>0005_01</td>\n",
       "      <td>Earth</td>\n",
       "      <td>False</td>\n",
       "      <td>F/0/P</td>\n",
       "      <td>PSO J318.5-22</td>\n",
       "      <td>44.0</td>\n",
       "      <td>False</td>\n",
       "      <td>0.0</td>\n",
       "      <td>483.0</td>\n",
       "      <td>0.0</td>\n",
       "      <td>291.0</td>\n",
       "      <td>0.0</td>\n",
       "      <td>Sandie Hinetthews</td>\n",
       "      <td>True</td>\n",
       "    </tr>\n",
       "    <tr>\n",
       "      <th>6</th>\n",
       "      <td>0006_01</td>\n",
       "      <td>Earth</td>\n",
       "      <td>False</td>\n",
       "      <td>F/2/S</td>\n",
       "      <td>TRAPPIST-1e</td>\n",
       "      <td>26.0</td>\n",
       "      <td>False</td>\n",
       "      <td>42.0</td>\n",
       "      <td>1539.0</td>\n",
       "      <td>3.0</td>\n",
       "      <td>0.0</td>\n",
       "      <td>0.0</td>\n",
       "      <td>Billex Jacostaffey</td>\n",
       "      <td>True</td>\n",
       "    </tr>\n",
       "    <tr>\n",
       "      <th>7</th>\n",
       "      <td>0006_02</td>\n",
       "      <td>Earth</td>\n",
       "      <td>True</td>\n",
       "      <td>G/0/S</td>\n",
       "      <td>TRAPPIST-1e</td>\n",
       "      <td>28.0</td>\n",
       "      <td>False</td>\n",
       "      <td>0.0</td>\n",
       "      <td>0.0</td>\n",
       "      <td>0.0</td>\n",
       "      <td>0.0</td>\n",
       "      <td>NaN</td>\n",
       "      <td>Candra Jacostaffey</td>\n",
       "      <td>True</td>\n",
       "    </tr>\n",
       "    <tr>\n",
       "      <th>8</th>\n",
       "      <td>0007_01</td>\n",
       "      <td>Earth</td>\n",
       "      <td>False</td>\n",
       "      <td>F/3/S</td>\n",
       "      <td>TRAPPIST-1e</td>\n",
       "      <td>35.0</td>\n",
       "      <td>False</td>\n",
       "      <td>0.0</td>\n",
       "      <td>785.0</td>\n",
       "      <td>17.0</td>\n",
       "      <td>216.0</td>\n",
       "      <td>0.0</td>\n",
       "      <td>Andona Beston</td>\n",
       "      <td>True</td>\n",
       "    </tr>\n",
       "    <tr>\n",
       "      <th>9</th>\n",
       "      <td>0008_01</td>\n",
       "      <td>Europa</td>\n",
       "      <td>True</td>\n",
       "      <td>B/1/P</td>\n",
       "      <td>55 Cancri e</td>\n",
       "      <td>14.0</td>\n",
       "      <td>False</td>\n",
       "      <td>0.0</td>\n",
       "      <td>0.0</td>\n",
       "      <td>0.0</td>\n",
       "      <td>0.0</td>\n",
       "      <td>0.0</td>\n",
       "      <td>Erraiam Flatic</td>\n",
       "      <td>True</td>\n",
       "    </tr>\n",
       "  </tbody>\n",
       "</table>\n",
       "</div>"
      ],
      "text/plain": [
       "  PassengerId HomePlanet CryoSleep  Cabin    Destination   Age    VIP  \\\n",
       "0     0001_01     Europa     False  B/0/P    TRAPPIST-1e  39.0  False   \n",
       "1     0002_01      Earth     False  F/0/S    TRAPPIST-1e  24.0  False   \n",
       "2     0003_01     Europa     False  A/0/S    TRAPPIST-1e  58.0   True   \n",
       "3     0003_02     Europa     False  A/0/S    TRAPPIST-1e  33.0  False   \n",
       "4     0004_01      Earth     False  F/1/S    TRAPPIST-1e  16.0  False   \n",
       "5     0005_01      Earth     False  F/0/P  PSO J318.5-22  44.0  False   \n",
       "6     0006_01      Earth     False  F/2/S    TRAPPIST-1e  26.0  False   \n",
       "7     0006_02      Earth      True  G/0/S    TRAPPIST-1e  28.0  False   \n",
       "8     0007_01      Earth     False  F/3/S    TRAPPIST-1e  35.0  False   \n",
       "9     0008_01     Europa      True  B/1/P    55 Cancri e  14.0  False   \n",
       "\n",
       "   RoomService  FoodCourt  ShoppingMall     Spa  VRDeck                Name  \\\n",
       "0          0.0        0.0           0.0     0.0     0.0     Maham Ofracculy   \n",
       "1        109.0        9.0          25.0   549.0    44.0        Juanna Vines   \n",
       "2         43.0     3576.0           0.0  6715.0    49.0       Altark Susent   \n",
       "3          0.0     1283.0         371.0  3329.0   193.0        Solam Susent   \n",
       "4        303.0       70.0         151.0   565.0     2.0   Willy Santantines   \n",
       "5          0.0      483.0           0.0   291.0     0.0   Sandie Hinetthews   \n",
       "6         42.0     1539.0           3.0     0.0     0.0  Billex Jacostaffey   \n",
       "7          0.0        0.0           0.0     0.0     NaN  Candra Jacostaffey   \n",
       "8          0.0      785.0          17.0   216.0     0.0       Andona Beston   \n",
       "9          0.0        0.0           0.0     0.0     0.0      Erraiam Flatic   \n",
       "\n",
       "   Transported  \n",
       "0        False  \n",
       "1         True  \n",
       "2        False  \n",
       "3        False  \n",
       "4         True  \n",
       "5         True  \n",
       "6         True  \n",
       "7         True  \n",
       "8         True  \n",
       "9         True  "
      ]
     },
     "execution_count": 7,
     "metadata": {},
     "output_type": "execute_result"
    }
   ],
   "source": [
    "train_set.head(10)"
   ]
  },
  {
   "cell_type": "code",
   "execution_count": 8,
   "metadata": {},
   "outputs": [
    {
     "name": "stdout",
     "output_type": "stream",
     "text": [
      "<class 'pandas.core.frame.DataFrame'>\n",
      "RangeIndex: 8693 entries, 0 to 8692\n",
      "Data columns (total 14 columns):\n",
      " #   Column        Non-Null Count  Dtype  \n",
      "---  ------        --------------  -----  \n",
      " 0   PassengerId   8693 non-null   object \n",
      " 1   HomePlanet    8492 non-null   object \n",
      " 2   CryoSleep     8476 non-null   object \n",
      " 3   Cabin         8494 non-null   object \n",
      " 4   Destination   8511 non-null   object \n",
      " 5   Age           8514 non-null   float64\n",
      " 6   VIP           8490 non-null   object \n",
      " 7   RoomService   8512 non-null   float64\n",
      " 8   FoodCourt     8510 non-null   float64\n",
      " 9   ShoppingMall  8485 non-null   float64\n",
      " 10  Spa           8510 non-null   float64\n",
      " 11  VRDeck        8505 non-null   float64\n",
      " 12  Name          8493 non-null   object \n",
      " 13  Transported   8693 non-null   bool   \n",
      "dtypes: bool(1), float64(6), object(7)\n",
      "memory usage: 891.5+ KB\n"
     ]
    }
   ],
   "source": [
    "train_set.info()\n"
   ]
  },
  {
   "cell_type": "code",
   "execution_count": 9,
   "metadata": {},
   "outputs": [
    {
     "data": {
      "text/plain": [
       "PassengerId       0\n",
       "HomePlanet      201\n",
       "CryoSleep       217\n",
       "Cabin           199\n",
       "Destination     182\n",
       "Age             179\n",
       "VIP             203\n",
       "RoomService     181\n",
       "FoodCourt       183\n",
       "ShoppingMall    208\n",
       "Spa             183\n",
       "VRDeck          188\n",
       "Name            200\n",
       "Transported       0\n",
       "dtype: int64"
      ]
     },
     "execution_count": 9,
     "metadata": {},
     "output_type": "execute_result"
    }
   ],
   "source": [
    "train_set.isna().sum()\n"
   ]
  },
  {
   "attachments": {},
   "cell_type": "markdown",
   "metadata": {},
   "source": [
    "<p style=\"font-family: verdana; font-weight: bold; font-size: 14px\">Let's see which features are categorical and which are numerical.</p>"
   ]
  },
  {
   "cell_type": "code",
   "execution_count": 10,
   "metadata": {},
   "outputs": [
    {
     "name": "stdout",
     "output_type": "stream",
     "text": [
      "PassengerId, HomePlanet, CryoSleep, Cabin, Destination, VIP, Name\n"
     ]
    }
   ],
   "source": [
    "cat_features = train_set.select_dtypes(\"object\").columns\n",
    "print(*cat_features, sep=\", \")\n"
   ]
  },
  {
   "cell_type": "code",
   "execution_count": 11,
   "metadata": {},
   "outputs": [
    {
     "name": "stdout",
     "output_type": "stream",
     "text": [
      "Age, RoomService, FoodCourt, ShoppingMall, Spa, VRDeck\n"
     ]
    }
   ],
   "source": [
    "numerical_features = train_set.select_dtypes(\"number\").columns\n",
    "print(*numerical_features, sep=\", \")\n"
   ]
  },
  {
   "attachments": {},
   "cell_type": "markdown",
   "metadata": {},
   "source": [
    "<p style=\"font-family: verdana; font-weight: bold; font-size: 14px\">Let's have a look at categorical features closely.</p>"
   ]
  },
  {
   "cell_type": "code",
   "execution_count": 13,
   "metadata": {},
   "outputs": [
    {
     "name": "stdout",
     "output_type": "stream",
     "text": [
      "False    5439\n",
      "True     3037\n",
      "Name: CryoSleep, dtype: int64\n",
      "\n",
      "TRAPPIST-1e      5915\n",
      "55 Cancri e      1800\n",
      "PSO J318.5-22     796\n",
      "Name: Destination, dtype: int64\n",
      "\n",
      "Earth     4602\n",
      "Europa    2131\n",
      "Mars      1759\n",
      "Name: HomePlanet, dtype: int64\n",
      "\n",
      "False    8291\n",
      "True      199\n",
      "Name: VIP, dtype: int64\n",
      "\n"
     ]
    }
   ],
   "source": [
    "# I guess the `PassengerId`, `Name` and `Cabin` are mostly unique,\n",
    "# so we can omit these here.\n",
    "for cat_feature in cat_features.difference([\"PassengerId\", \"Cabin\", \"Name\"]):\n",
    "    print(train_set[cat_feature].value_counts(), end=\"\\n\\n\")\n"
   ]
  },
  {
   "cell_type": "code",
   "execution_count": 55,
   "metadata": {},
   "outputs": [
    {
     "data": {
      "image/png": "[encoded data removed]",
      "text/plain": [
       "<Figure size 1008x360 with 4 Axes>"
      ]
     },
     "metadata": {},
     "output_type": "display_data"
    }
   ],
   "source": [
    "def plot_categories(features, axes):\n",
    "    \"\"\"Creates `countplot` for categories of the given features.\"\"\"\n",
    "    for i, (feature, axis) in enumerate(zip(features, axes.ravel())):\n",
    "        plt.sca(axis)\n",
    "        frequencies = train_set[feature].value_counts(normalize=True).round(2) * 100\n",
    "        feature_plot = sns.countplot(x=train_set[feature], order=frequencies.index)\n",
    "        elements = feature_plot.containers\n",
    "        for element in elements:\n",
    "            labels = frequencies.astype(int).astype(str) + \"%\"\n",
    "            feature_plot.bar_label(\n",
    "                element, label_type=\"center\", labels=labels, fontsize=12, color=\"#f2f2f0\"\n",
    "            )\n",
    "        plt.xticks(rotation=30)\n",
    "        if i == 0:\n",
    "            plt.ylabel(\"Counts\")\n",
    "        else:\n",
    "            plt.ylabel(\"\")\n",
    "\n",
    "\n",
    "fig, axes = plt.subplots(nrows=1, ncols=4, figsize=(14, 5), squeeze=False)\n",
    "fig.suptitle(\"Counts of CryoSleep, Destination, HomePlanet and VIP Categories\")\n",
    "plot_categories((\"CryoSleep\", \"Destination\", \"HomePlanet\", \"VIP\"), axes)\n",
    "plt.tight_layout()\n",
    "plt.show()\n"
   ]
  },
  {
   "attachments": {},
   "cell_type": "markdown",
   "metadata": {},
   "source": [
    "<p style=\"font-family: verdana; font-weight: bold; font-size: 14px\">We can easily see that:</p>\n",
    "\n",
    "* Almost 2/3 of passengers are not in cryosleep.\n",
    "* The vast majority (~70%) of passengers go to the TRAPPIST-1e.\n",
    "* More than half of passengers come from the Earth.\n",
    "* Almost all (~98%) passengers do not have VIP status."
   ]
  },
  {
   "attachments": {},
   "cell_type": "markdown",
   "metadata": {},
   "source": [
    "<p style=\"font-family: verdana; font-weight: bold; font-size: 14px\">At first glance, it is reasonable to fill NaN values for these features with the most frequent strategy. Let's see the <code>Transported</code> label yet.</p>"
   ]
  },
  {
   "cell_type": "code",
   "execution_count": 58,
   "metadata": {},
   "outputs": [
    {
     "data": {
      "image/png": "[encoded data removed]",
      "text/plain": [
       "<Figure size 432x360 with 1 Axes>"
      ]
     },
     "metadata": {},
     "output_type": "display_data"
    }
   ],
   "source": [
    "# With `squeeze=False` argument, axes object is always a 2D array.\n",
    "fig, axes = plt.subplots(nrows=1, ncols=1, figsize=(6, 5), squeeze=False)\n",
    "plot_categories((\"Transported\",), axes)\n",
    "plt.tight_layout()\n",
    "plt.show()\n"
   ]
  },
  {
   "attachments": {},
   "cell_type": "markdown",
   "metadata": {},
   "source": [
    "<p style=\"font-family: verdana; font-weight: bold; font-size: 14px\">Transported/Not Transported ratio is perfectly balanced, so we'll choose the accuracy score as the classifier performance indicator.</p>"
   ]
  },
  {
   "attachments": {},
   "cell_type": "markdown",
   "metadata": {},
   "source": [
    "<p style=\"font-family: verdana; font-weight: bold; font-size: 14px\">Let's see the remain categorical features i.e. <code>PassengerId</code>, <code>Name</code> and <code>Cabin</code>.</p>"
   ]
  },
  {
   "cell_type": "code",
   "execution_count": 59,
   "metadata": {},
   "outputs": [
    {
     "name": "stdout",
     "output_type": "stream",
     "text": [
      "PassengerId unique values:     8693 \t100%\n",
      "Cabin unique values:           6561 \t75%\n",
      "Name unique values:            8474 \t97%\n"
     ]
    }
   ],
   "source": [
    "for cat_feature in (\"PassengerId\", \"Cabin\", \"Name\"):\n",
    "    print(\n",
    "        f\"{cat_feature} unique values: \".ljust(30),\n",
    "        len(train_set[cat_feature].unique()),\n",
    "        f\"\\t{len(train_set[cat_feature].unique()) / len(train_set[cat_feature]):.0%}\",\n",
    "    )\n"
   ]
  },
  {
   "attachments": {},
   "cell_type": "markdown",
   "metadata": {},
   "source": [
    "<p style=\"font-family: verdana; font-weight: bold; font-size: 14px\">As we can see, there are mostly unique values. We will handle these features later, in the Feature Engineering section.</p>"
   ]
  },
  {
   "attachments": {},
   "cell_type": "markdown",
   "metadata": {},
   "source": [
    "<p style=\"font-family: verdana; font-weight: bold; font-size: 14px\">We can read that the <i>\"CryoSleep indicates whether the passenger elected to be put into suspended animation for the duration of the voyage. Passengers in cryosleep are confined to their cabins\"</i>. Let's see how a data frame looks for the passengers that are in CryoSleep. I suppose they should have zero values for the amenities like a <code>Spa</code> or <code>VRDeck</code>.</p>\n"
   ]
  },
  {
   "cell_type": "code",
   "execution_count": 60,
   "metadata": {},
   "outputs": [
    {
     "data": {
      "text/html": [
       "<div>\n",
       "<style scoped>\n",
       "    .dataframe tbody tr th:only-of-type {\n",
       "        vertical-align: middle;\n",
       "    }\n",
       "\n",
       "    .dataframe tbody tr th {\n",
       "        vertical-align: top;\n",
       "    }\n",
       "\n",
       "    .dataframe thead th {\n",
       "        text-align: right;\n",
       "    }\n",
       "</style>\n",
       "<table border=\"1\" class=\"dataframe\">\n",
       "  <thead>\n",
       "    <tr style=\"text-align: right;\">\n",
       "      <th></th>\n",
       "      <th>RoomService</th>\n",
       "      <th>FoodCourt</th>\n",
       "      <th>ShoppingMall</th>\n",
       "      <th>Spa</th>\n",
       "      <th>VRDeck</th>\n",
       "    </tr>\n",
       "  </thead>\n",
       "  <tbody>\n",
       "    <tr>\n",
       "      <th>7</th>\n",
       "      <td>0.0</td>\n",
       "      <td>0.0</td>\n",
       "      <td>0.0</td>\n",
       "      <td>0.0</td>\n",
       "      <td>NaN</td>\n",
       "    </tr>\n",
       "    <tr>\n",
       "      <th>9</th>\n",
       "      <td>0.0</td>\n",
       "      <td>0.0</td>\n",
       "      <td>0.0</td>\n",
       "      <td>0.0</td>\n",
       "      <td>0.0</td>\n",
       "    </tr>\n",
       "    <tr>\n",
       "      <th>10</th>\n",
       "      <td>0.0</td>\n",
       "      <td>0.0</td>\n",
       "      <td>NaN</td>\n",
       "      <td>0.0</td>\n",
       "      <td>0.0</td>\n",
       "    </tr>\n",
       "    <tr>\n",
       "      <th>18</th>\n",
       "      <td>0.0</td>\n",
       "      <td>0.0</td>\n",
       "      <td>0.0</td>\n",
       "      <td>0.0</td>\n",
       "      <td>0.0</td>\n",
       "    </tr>\n",
       "    <tr>\n",
       "      <th>21</th>\n",
       "      <td>0.0</td>\n",
       "      <td>0.0</td>\n",
       "      <td>0.0</td>\n",
       "      <td>0.0</td>\n",
       "      <td>0.0</td>\n",
       "    </tr>\n",
       "    <tr>\n",
       "      <th>22</th>\n",
       "      <td>0.0</td>\n",
       "      <td>0.0</td>\n",
       "      <td>0.0</td>\n",
       "      <td>0.0</td>\n",
       "      <td>0.0</td>\n",
       "    </tr>\n",
       "    <tr>\n",
       "      <th>23</th>\n",
       "      <td>0.0</td>\n",
       "      <td>0.0</td>\n",
       "      <td>NaN</td>\n",
       "      <td>0.0</td>\n",
       "      <td>0.0</td>\n",
       "    </tr>\n",
       "    <tr>\n",
       "      <th>25</th>\n",
       "      <td>NaN</td>\n",
       "      <td>0.0</td>\n",
       "      <td>0.0</td>\n",
       "      <td>0.0</td>\n",
       "      <td>0.0</td>\n",
       "    </tr>\n",
       "    <tr>\n",
       "      <th>28</th>\n",
       "      <td>0.0</td>\n",
       "      <td>0.0</td>\n",
       "      <td>NaN</td>\n",
       "      <td>0.0</td>\n",
       "      <td>0.0</td>\n",
       "    </tr>\n",
       "    <tr>\n",
       "      <th>36</th>\n",
       "      <td>0.0</td>\n",
       "      <td>0.0</td>\n",
       "      <td>0.0</td>\n",
       "      <td>0.0</td>\n",
       "      <td>0.0</td>\n",
       "    </tr>\n",
       "  </tbody>\n",
       "</table>\n",
       "</div>"
      ],
      "text/plain": [
       "    RoomService  FoodCourt  ShoppingMall  Spa  VRDeck\n",
       "7           0.0        0.0           0.0  0.0     NaN\n",
       "9           0.0        0.0           0.0  0.0     0.0\n",
       "10          0.0        0.0           NaN  0.0     0.0\n",
       "18          0.0        0.0           0.0  0.0     0.0\n",
       "21          0.0        0.0           0.0  0.0     0.0\n",
       "22          0.0        0.0           0.0  0.0     0.0\n",
       "23          0.0        0.0           NaN  0.0     0.0\n",
       "25          NaN        0.0           0.0  0.0     0.0\n",
       "28          0.0        0.0           NaN  0.0     0.0\n",
       "36          0.0        0.0           0.0  0.0     0.0"
      ]
     },
     "execution_count": 60,
     "metadata": {},
     "output_type": "execute_result"
    }
   ],
   "source": [
    "amenities = [\"RoomService\", \"FoodCourt\", \"ShoppingMall\", \"Spa\", \"VRDeck\"]\n",
    "train_set.loc[train_set[\"CryoSleep\"] == True, amenities][:10]\n"
   ]
  },
  {
   "attachments": {},
   "cell_type": "markdown",
   "metadata": {},
   "source": [
    "<p style=\"font-family: verdana; font-weight: bold; font-size: 14px\">Now let's have a look at how many NaN values there are.</p>"
   ]
  },
  {
   "cell_type": "code",
   "execution_count": 61,
   "metadata": {},
   "outputs": [
    {
     "data": {
      "text/plain": [
       "RoomService     68\n",
       "FoodCourt       70\n",
       "ShoppingMall    96\n",
       "Spa             65\n",
       "VRDeck          62\n",
       "dtype: int64"
      ]
     },
     "execution_count": 61,
     "metadata": {},
     "output_type": "execute_result"
    }
   ],
   "source": [
    "train_set.loc[train_set[\"CryoSleep\"] == True, amenities].isna().sum()\n"
   ]
  },
  {
   "attachments": {},
   "cell_type": "markdown",
   "metadata": {},
   "source": [
    "<p style=\"font-family: verdana; font-weight: bold; font-size: 14px\">I think filling these NaN values for people in `CryoSleep` with zeros is more reasonable. Filling these with the median, in this case, has no sense. Moreover there is a probably good idea to merge these features into one another - for example Expenses.</p>"
   ]
  },
  {
   "attachments": {},
   "cell_type": "markdown",
   "metadata": {},
   "source": [
    "<p style=\"font-family: verdana; font-weight: bold; font-size: 14px\">Let's take a look at the numerical features now.</p>\n"
   ]
  },
  {
   "cell_type": "code",
   "execution_count": 62,
   "metadata": {},
   "outputs": [
    {
     "name": "stdout",
     "output_type": "stream",
     "text": [
      "MEAN:           28.83\n",
      "MEDIAN:         27.00\n",
      "STD:            14.49\n"
     ]
    }
   ],
   "source": [
    "for method in (\"mean\", \"median\", \"std\"):\n",
    "    value = getattr(train_set[\"Age\"], method)()\n",
    "    print(f\"{method.upper()}:\".ljust(15), f\"{value:.2f}\")\n"
   ]
  },
  {
   "cell_type": "code",
   "execution_count": 63,
   "metadata": {},
   "outputs": [
    {
     "name": "stdout",
     "output_type": "stream",
     "text": [
      "Feature:        FoodCourt\n",
      "MEAN:           458.08\n",
      "MEDIAN:         0.00\n",
      "STD:            1611.49\n",
      "\n",
      "Feature:        RoomService\n",
      "MEAN:           224.69\n",
      "MEDIAN:         0.00\n",
      "STD:            666.72\n",
      "\n",
      "Feature:        ShoppingMall\n",
      "MEAN:           173.73\n",
      "MEDIAN:         0.00\n",
      "STD:            604.70\n",
      "\n",
      "Feature:        Spa\n",
      "MEAN:           311.14\n",
      "MEDIAN:         0.00\n",
      "STD:            1136.71\n",
      "\n",
      "Feature:        VRDeck\n",
      "MEAN:           304.85\n",
      "MEDIAN:         0.00\n",
      "STD:            1145.72\n",
      "\n"
     ]
    }
   ],
   "source": [
    "# For all passengers.\n",
    "for feature in numerical_features.difference([\"Age\"]):\n",
    "    print(\"Feature:\".ljust(15), feature)\n",
    "    for method in (\"mean\", \"median\", \"std\"):\n",
    "        value = getattr(train_set[feature], method)()\n",
    "        print(f\"{method.upper()}:\".ljust(15), f\"{value:.2f}\")\n",
    "    print()\n"
   ]
  },
  {
   "cell_type": "code",
   "execution_count": 64,
   "metadata": {},
   "outputs": [
    {
     "name": "stdout",
     "output_type": "stream",
     "text": [
      "Feature:        FoodCourt\n",
      "MEAN:           713.00\n",
      "MEDIAN:         5.00\n",
      "STD:            1970.55\n",
      "\n",
      "Feature:        RoomService\n",
      "MEAN:           350.15\n",
      "MEDIAN:         3.00\n",
      "STD:            803.08\n",
      "\n",
      "Feature:        ShoppingMall\n",
      "MEAN:           270.59\n",
      "MEDIAN:         2.00\n",
      "STD:            741.76\n",
      "\n",
      "Feature:        Spa\n",
      "MEAN:           486.09\n",
      "MEDIAN:         7.00\n",
      "STD:            1396.23\n",
      "\n",
      "Feature:        VRDeck\n",
      "MEAN:           475.72\n",
      "MEDIAN:         4.00\n",
      "STD:            1404.17\n",
      "\n"
     ]
    }
   ],
   "source": [
    "# For only those, that are not in CryoSleep .\n",
    "not_in_cryosleep = train_set[\"CryoSleep\"] == False\n",
    "for feature in numerical_features.difference([\"Age\"]):\n",
    "    print(\"Feature:\".ljust(15), feature)\n",
    "    for method in (\"mean\", \"median\", \"std\"):\n",
    "        value = getattr(train_set.loc[not_in_cryosleep, feature], method)()\n",
    "        print(f\"{method.upper()}:\".ljust(15), f\"{value:.2f}\")\n",
    "    print()\n"
   ]
  },
  {
   "cell_type": "code",
   "execution_count": 73,
   "metadata": {},
   "outputs": [
    {
     "data": {
      "image/png": "[encoded data removed]",
      "text/plain": [
       "<Figure size 1008x576 with 6 Axes>"
      ]
     },
     "metadata": {},
     "output_type": "display_data"
    }
   ],
   "source": [
    "fig, axes = plt.subplots(nrows=2, ncols=3, figsize=(14, 8))\n",
    "for numeric_feature, ax in zip(numerical_features, axes.ravel()):\n",
    "    plt.sca(ax)\n",
    "    sns.histplot(x=train_set[numeric_feature], bins=20)\n",
    "    if not numeric_feature == \"Age\":\n",
    "        plt.yscale(\"log\")\n",
    "    plt.ylabel(\"\")\n",
    "\n",
    "plt.sca(axes[0, 0])\n",
    "plt.ylabel(\"Counts\")\n",
    "plt.sca(axes[1, 0])\n",
    "plt.ylabel(\"Counts\")\n",
    "plt.tight_layout()\n",
    "plt.show()\n"
   ]
  },
  {
   "attachments": {},
   "cell_type": "markdown",
   "metadata": {},
   "source": [
    "<p style=\"font-family: verdana; font-weight: bold; font-size: 14px\">Quick summary of numerical features:</p>\n",
    "\n",
    "- We see the `Age` feature has an interesting number of counts for the children (infants?).\n",
    "- The majority of passengers spent little money on various amenities. The median value for each amenity is minimal (~0).\n",
    "- Some passengers spend a lot of money on various amenities. The STD values are enormous concerning mean values.\n",
    "- We can suspect a small percentage of passengers are rich."
   ]
  },
  {
   "attachments": {},
   "cell_type": "markdown",
   "metadata": {},
   "source": [
    "<p style=\"font-family: verdana; font-weight: bold; font-size: 14px\">Let's have a look at something interesting.</p>"
   ]
  },
  {
   "cell_type": "code",
   "execution_count": 67,
   "metadata": {},
   "outputs": [
    {
     "data": {
      "text/plain": [
       "178"
      ]
     },
     "execution_count": 67,
     "metadata": {},
     "output_type": "execute_result"
    }
   ],
   "source": [
    "len(train_set.loc[np.isclose(train_set[\"Age\"], 0.0), \"Age\"].index)\n"
   ]
  },
  {
   "attachments": {},
   "cell_type": "markdown",
   "metadata": {},
   "source": [
    "<p style=\"font-family: verdana; font-weight: bold; font-size: 14px\">There are 178 embryos?</p>"
   ]
  },
  {
   "cell_type": "code",
   "execution_count": 68,
   "metadata": {},
   "outputs": [
    {
     "data": {
      "text/plain": [
       "Transported     1.000000\n",
       "FoodCourt       0.046566\n",
       "ShoppingMall    0.010141\n",
       "Age            -0.075026\n",
       "VRDeck         -0.207075\n",
       "Spa            -0.221131\n",
       "RoomService    -0.244611\n",
       "Name: Transported, dtype: float64"
      ]
     },
     "execution_count": 68,
     "metadata": {},
     "output_type": "execute_result"
    }
   ],
   "source": [
    "correlations = train_set.corr()\n",
    "correlations[\"Transported\"].sort_values(ascending=False)\n"
   ]
  },
  {
   "attachments": {},
   "cell_type": "markdown",
   "metadata": {},
   "source": [
    "<p style=\"font-family: verdana; font-weight: bold; font-size: 14px\">Spending more on luxury amenities, they were less prone to transport?</p>"
   ]
  },
  {
   "cell_type": "code",
   "execution_count": 79,
   "metadata": {},
   "outputs": [
    {
     "data": {
      "image/png": "[encoded data removed]",
      "text/plain": [
       "<Figure size 1008x1008 with 2 Axes>"
      ]
     },
     "metadata": {},
     "output_type": "display_data"
    }
   ],
   "source": [
    "plt.figure(figsize=(14, 14))\n",
    "sns.heatmap(\n",
    "    correlations,\n",
    "    square=True,\n",
    "    linewidths=2,\n",
    "    annot=True,\n",
    "    cbar_kws={\"shrink\": 0.82},\n",
    "    cmap=\"crest_r\",\n",
    ")\n",
    "plt.title(\"Correlation Matrix\", pad=20)\n",
    "plt.show()\n"
   ]
  },
  {
   "attachments": {},
   "cell_type": "markdown",
   "metadata": {},
   "source": [
    "<p style=\"font-family: verdana; font-weight: bold; font-size: 14px\">Summary. What should we do with available features:</p>\n",
    "\n",
    "- **`PassengerId`**  \n",
    "  Always unique and has no NaN values. An interesting allude is that people in a group often are family members. We try to extract these groups.\n",
    "- **`HomePlanet`**  \n",
    "  Categorical feature with three categories - planet names. More than 50% of passengers are from the Earth. It's reasonable to fill NaN values with the most frequent category (Earth).\n",
    "- **`CryoSleep`**  \n",
    "  Categorical feature (True/False). Around 64% of passengers are not in cryosleep. Let's fill NaN values with the most frequent value (False).\n",
    "- **`Cabin`**  \n",
    "  Categorical feature, but there are almost as many categories as instances. There are missing values. We will take a closer look at this. \n",
    "- **`Destination`**  \n",
    "  Categorical feature with three categories - planet names. Around 70% of passengers are travelling to TRAPPIST-1e. We fill in missing values with this planet.\n",
    "- **`Age`**  \n",
    "  Numeric feature. We fill NaN values with the median. There are almost 200 passengers that are embryos.\n",
    "- **`VIP`**  \n",
    "  Categorical feature (True/False). Most (98%) don't have VIP status.\n",
    "- **`Name`**  \n",
    "  We should probably drop this feature now. We can split this feature into men and women when we have Polish names here, for example.\n",
    "- **`RoomService`**, **`FoodCourt`**, **`ShoppingMall`**, **`Spa`**, **`VRDeck`**  \n",
    "  Numerical features. There is probably a good idea to fill NaN values for people with `CryoSleep=True` with zero. For the rest, fill with the median calculated for only those with `CryoSleep=False`."
   ]
  },
  {
   "attachments": {},
   "cell_type": "markdown",
   "metadata": {},
   "source": [
    "---"
   ]
  },
  {
   "attachments": {},
   "cell_type": "markdown",
   "metadata": {},
   "source": [
    "<a id=\"feature-engineering\"></a>\n",
    "## <b><span style='padding:10px; background-color:#023047; font-family:fantasy; font-weight:normal; color:#f2f2f0; border-radius: 10px 10px;'> 1.2. FEATURE ENGINEERING </span></b>"
   ]
  },
  {
   "attachments": {},
   "cell_type": "markdown",
   "metadata": {},
   "source": [
    "<p style=\"font-family: verdana; font-weight: bold; font-size: 14px\">Let's create a copy to not overwrite or modify the original set.</p>"
   ]
  },
  {
   "cell_type": "code",
   "execution_count": 80,
   "metadata": {},
   "outputs": [],
   "source": [
    "train_set_copy = train_set.copy()\n"
   ]
  },
  {
   "attachments": {},
   "cell_type": "markdown",
   "metadata": {},
   "source": [
    "<p style=\"font-family: verdana; font-weight: bold; font-size: 14px\">Now let's look at the ratio of transported passengers regarding the categories of given features.</p>"
   ]
  },
  {
   "cell_type": "code",
   "execution_count": 81,
   "metadata": {},
   "outputs": [],
   "source": [
    "home_planet_vs_transported = (\n",
    "    train_set_copy[[\"HomePlanet\", \"Transported\"]].groupby([\"HomePlanet\"]).mean()\n",
    ")\n",
    "cryosleep_vs_transported = (\n",
    "    train_set_copy[[\"CryoSleep\", \"Transported\"]].groupby([\"CryoSleep\"]).mean()\n",
    ")\n",
    "destination_vs_transported = (\n",
    "    train_set_copy[[\"Destination\", \"Transported\"]].groupby([\"Destination\"]).mean()\n",
    ")\n",
    "vip_vs_transported = train_set_copy[[\"VIP\", \"Transported\"]].groupby([\"VIP\"]).mean()\n"
   ]
  },
  {
   "cell_type": "code",
   "execution_count": 86,
   "metadata": {},
   "outputs": [
    {
     "data": {
      "image/png": "[encoded data removed]",
      "text/plain": [
       "<Figure size 1008x360 with 4 Axes>"
      ]
     },
     "metadata": {},
     "output_type": "display_data"
    }
   ],
   "source": [
    "def plot_categories_vs_transported(features_vs_transported, axes):\n",
    "    for i, (feature_vs_transported, axis) in enumerate(\n",
    "        zip(features_vs_transported, axes.ravel())\n",
    "    ):\n",
    "        plt.sca(axis)\n",
    "        feature_vs_transported = feature_vs_transported.sort_values(\n",
    "            by=\"Transported\", ascending=False\n",
    "        )\n",
    "        feature_plot = sns.barplot(\n",
    "            x=feature_vs_transported.index,\n",
    "            y=feature_vs_transported[\"Transported\"],\n",
    "            order=feature_vs_transported.index,\n",
    "        )\n",
    "        elements = feature_plot.containers\n",
    "        for element in elements:\n",
    "            labels = (\n",
    "                (feature_vs_transported[\"Transported\"].round(2) * 100)\n",
    "                .astype(int)\n",
    "                .astype(str)\n",
    "            )\n",
    "            feature_plot.bar_label(\n",
    "                element,\n",
    "                label_type=\"center\",\n",
    "                labels=labels + \"%\",\n",
    "                fontsize=12,\n",
    "                color=\"#f2f2f0\",\n",
    "            )\n",
    "        plt.xticks(rotation=30)\n",
    "        if i == 0:\n",
    "            plt.ylabel(\"Counts\")\n",
    "        else:\n",
    "            plt.ylabel(\"\")\n",
    "\n",
    "\n",
    "features_vs_transported = (\n",
    "    home_planet_vs_transported,\n",
    "    cryosleep_vs_transported,\n",
    "    destination_vs_transported,\n",
    "    vip_vs_transported,\n",
    ")\n",
    "\n",
    "fig, axes = plt.subplots(nrows=1, ncols=4, figsize=(14, 5), squeeze=False)\n",
    "fig.suptitle(\"Ratio of Transported Passengers\")\n",
    "plot_categories_vs_transported(features_vs_transported, axes)\n",
    "plt.tight_layout()\n",
    "plt.show()\n"
   ]
  },
  {
   "attachments": {},
   "cell_type": "markdown",
   "metadata": {},
   "source": [
    "<p style=\"font-family: verdana; font-weight: bold; font-size: 14px\">Woah! Around 82% of passengers in cryosleep were transported to an alternate dimension. As we remember, there were about 3000 passengers in cryosleep. It means that around 0.82 * 3000 = 2460 have been transported, haven't they?</p>\n"
   ]
  },
  {
   "cell_type": "code",
   "execution_count": 87,
   "metadata": {},
   "outputs": [
    {
     "data": {
      "text/plain": [
       "2483"
      ]
     },
     "execution_count": 87,
     "metadata": {},
     "output_type": "execute_result"
    }
   ],
   "source": [
    "len(train_set_copy[(train_set_copy[\"CryoSleep\"] == True) & \n",
    "                   (train_set_copy[\"Transported\"] == True)])"
   ]
  },
  {
   "attachments": {},
   "cell_type": "markdown",
   "metadata": {},
   "source": [
    "<p style=\"font-family: verdana; font-weight: bold; font-size: 14px\">Exactly!</p>"
   ]
  },
  {
   "attachments": {},
   "cell_type": "markdown",
   "metadata": {},
   "source": [
    "<p style=\"font-family: verdana; font-weight: bold; font-size: 14px\">Now let's create some new features:</p>\n",
    "\n",
    "- **`Expenses`** - The sum of the `RoomService`, `FoodCourt`, `ShoppingMall`, `Spa` and `VRDeck` features.\n",
    "- **`HasExpenses`** - True for passengers with `Expenses>0`, False otherwise.\n",
    "- **`IsEmbryo`** - True for passengers with `Age=0`. False otherwise.\n",
    "- **`CabinDeck`** - Deck of the `Cabin` feature.\n",
    "- **`CabinSide`** - Side of the `Cabin` feature.\n",
    "- **`IsAlone`** - True for passengers who travelled alone, False otherwise. We try to extract this feature from the `PassengerId` and clues from its description.\n",
    "\n",
    "<p style=\"font-family: verdana; font-weight: bold; font-size: 14px\">And we will see if these are helpful.</p>"
   ]
  },
  {
   "cell_type": "code",
   "execution_count": 88,
   "metadata": {},
   "outputs": [],
   "source": [
    "train_set_copy[\"Expenses\"] = train_set_copy[amenities].sum(axis=1)\n",
    "train_set_copy[\"HasExpenses\"] = ~np.isclose(train_set_copy[\"Expenses\"], 0.0)\n",
    "has_expenses_vs_transpoted = (\n",
    "    train_set_copy[[\"HasExpenses\", \"Transported\"]].groupby([\"HasExpenses\"]).mean()\n",
    ")\n"
   ]
  },
  {
   "cell_type": "code",
   "execution_count": 89,
   "metadata": {},
   "outputs": [],
   "source": [
    "train_set_copy[\"IsEmbryo\"] = np.isclose(train_set_copy[\"Age\"], 0.0)\n",
    "is_embryo_vs_transported = (\n",
    "    train_set_copy[[\"IsEmbryo\", \"Transported\"]].groupby([\"IsEmbryo\"]).mean()\n",
    ")\n"
   ]
  },
  {
   "cell_type": "code",
   "execution_count": 90,
   "metadata": {},
   "outputs": [],
   "source": [
    "train_set_copy[[\"CabinDeck\", \"CabinNum\", \"CabinSide\"]] = (\n",
    "    train_set_copy[\"Cabin\"].str.split(\"/\", expand=True)\n",
    ")\n",
    "cabin_deck_vs_transported = (\n",
    "    train_set_copy[[\"CabinDeck\", \"Transported\"]].groupby([\"CabinDeck\"]).mean()\n",
    ")\n",
    "cabin_side_vs_transported = (\n",
    "    train_set_copy[[\"CabinSide\", \"Transported\"]].groupby([\"CabinSide\"]).mean()\n",
    ")\n"
   ]
  },
  {
   "cell_type": "code",
   "execution_count": 91,
   "metadata": {},
   "outputs": [],
   "source": [
    "# Four first digits because: \"... gggg_pp where gggg indicates a group...\"\n",
    "passenger_groups = train_set_copy[\"PassengerId\"].str[:4]\n",
    "# Only alone passengers have a unique group (thus 1).\n",
    "is_alone = (passenger_groups.value_counts() == 1).reindex(passenger_groups)\n",
    "train_set_copy[\"IsAlone\"] = is_alone.tolist()\n",
    "is_alone_vs_transported = (\n",
    "    train_set_copy[[\"IsAlone\", \"Transported\"]].groupby([\"IsAlone\"]).mean()\n",
    ")\n"
   ]
  },
  {
   "attachments": {},
   "cell_type": "markdown",
   "metadata": {},
   "source": [
    "<p style=\"font-family: verdana; font-weight: bold; font-size: 14px\">Let's plot these new features.</p>"
   ]
  },
  {
   "cell_type": "code",
   "execution_count": 97,
   "metadata": {},
   "outputs": [
    {
     "data": {
      "image/png": "[encoded data removed]",
      "text/plain": [
       "<Figure size 1008x576 with 5 Axes>"
      ]
     },
     "metadata": {},
     "output_type": "display_data"
    }
   ],
   "source": [
    "new_features_vs_transported = (\n",
    "    has_expenses_vs_transpoted,\n",
    "    is_embryo_vs_transported,\n",
    "    cabin_deck_vs_transported,\n",
    "    cabin_side_vs_transported,\n",
    "    is_alone_vs_transported,\n",
    ")\n",
    "\n",
    "fig, axes = plt.subplots(nrows=2, ncols=3, figsize=(14, 8), squeeze=False)\n",
    "fig.suptitle(\"Ratio of Transported Passengers\")\n",
    "sns.set_palette(\"crest_r\", n_colors=len(cabin_deck_vs_transported))\n",
    "plot_categories_vs_transported(new_features_vs_transported, axes)\n",
    "plt.sca(axes[1, 0])\n",
    "plt.ylabel(\"Counts\")\n",
    "plt.delaxes(axes[1, 2])\n",
    "plt.tight_layout()\n",
    "plt.show()"
   ]
  },
  {
   "cell_type": "code",
   "execution_count": 98,
   "metadata": {},
   "outputs": [
    {
     "name": "stdout",
     "output_type": "stream",
     "text": [
      "True     5040\n",
      "False    3653\n",
      "Name: HasExpenses, dtype: int64\n",
      "\n",
      "False    8515\n",
      "True      178\n",
      "Name: IsEmbryo, dtype: int64\n",
      "\n",
      "F    2794\n",
      "G    2559\n",
      "E     876\n",
      "B     779\n",
      "C     747\n",
      "D     478\n",
      "A     256\n",
      "T       5\n",
      "Name: CabinDeck, dtype: int64\n",
      "\n",
      "S    4288\n",
      "P    4206\n",
      "Name: CabinSide, dtype: int64\n",
      "\n",
      "True     4805\n",
      "False    3888\n",
      "Name: IsAlone, dtype: int64\n",
      "\n"
     ]
    }
   ],
   "source": [
    "for new_feature in (\"HasExpenses\", \"IsEmbryo\", \"CabinDeck\", \"CabinSide\", \"IsAlone\"):\n",
    "    print(train_set_copy[new_feature].value_counts(), end=\"\\n\\n\")\n"
   ]
  },
  {
   "attachments": {},
   "cell_type": "markdown",
   "metadata": {},
   "source": [
    "---"
   ]
  },
  {
   "attachments": {},
   "cell_type": "markdown",
   "metadata": {},
   "source": [
    "<a id=\"dataset-summary\"></a>\n",
    "## <b><span style='padding:10px; background-color:#023047; font-family:fantasy; font-weight:normal; color:#f2f2f0; border-radius: 10px 10px;'> 1.3. DATASET SUMMARY </span></b>"
   ]
  },
  {
   "attachments": {},
   "cell_type": "markdown",
   "metadata": {},
   "source": [
    "<p style=\"font-family: verdana; font-weight: bold; font-size: 14px\">To sum up, what do we need to do with this dataset before putting it to ML algorithms:</p>\n",
    "\n",
    "<p style=\"font-family: verdana; font-weight: bold; font-size: 14px\">Existing features:</p>\n",
    "\n",
    "- **`PassengerId`**  \n",
    "  Nothing to do. To be removed at the final stage.\n",
    "- **`HomePlanet`**  \n",
    "  Fill in missing values with the most frequent category (Earth). Then apply OneHotEncoder.\n",
    "- **`CryoSleep`**  \n",
    "  Fill in missing values with the most frequent category (False). Then apply OrdinalEncoder.\n",
    "- **`Cabin`**  \n",
    "  Nothing to do. To be removed at the final stage.\n",
    "- **`Destination`**  \n",
    "  Fill in missing values with the most frequent category (TRAPPIST-1e). Then apply OneHotEncoder.\n",
    "- **`Age`**  \n",
    "  Fill in missing values with the median strategy. Then apply log1p transformer.\n",
    "- **`VIP`**  \n",
    "  Fill in missing values with the most frequent category (False). Then apply OrdinalEncoder.\n",
    "- **`RoomService`**  \n",
    "  Fill in missing values for passengers in cryosleep with zero. For all others with the median. Then apply log1p transformer.\n",
    "- **`FoodCourt`**  \n",
    "  Fill in missing values for passengers in cryosleep with zero. For all others with the median. Then apply log1p transformer.\n",
    "- **`ShoppingMall`**  \n",
    "  Fill in missing values for passengers in cryosleep with zero. For all others with the median. Then apply log1p transformer.\n",
    "- **`Spa`**  \n",
    "  Fill in missing values for passengers in cryosleep with zero. For all others with the median. Then apply log1p transformer.\n",
    "- **`VRDeck`**  \n",
    "  Fill in missing values for passengers in cryosleep with zero. For all others with the median. Then apply log1p transformer.\n",
    "- **`Name`**  \n",
    "  Nothing to do. To be removed at the final stage.\n",
    "- **`Transported`**  \n",
    "  Nothing to do. It is our label.\n",
    "\n",
    "<p style=\"font-family: verdana; font-weight: bold; font-size: 14px\">Add new features (described earlier):</p>\n",
    "\n",
    "- **`Expenses`**\n",
    "- **`HasExpenses`**\n",
    "- **`IsEmbryo`**\n",
    "- **`CabinDeck`**\n",
    "- **`CabinSide`**\n",
    "- **`IsAlone`**"
   ]
  },
  {
   "attachments": {},
   "cell_type": "markdown",
   "metadata": {},
   "source": [
    "---"
   ]
  },
  {
   "attachments": {},
   "cell_type": "markdown",
   "metadata": {},
   "source": [
    "<a id=\"preprocessing\"></a>\n",
    "# <p style=\"padding:15px; background-color:#023047; font-family:fantasy; font-size:150%; color:#f2f2f0; text-align:center; border-radius: 10px 10px; font-weight:normal\">2. PREPROCESSING</p>"
   ]
  },
  {
   "attachments": {},
   "cell_type": "markdown",
   "metadata": {},
   "source": [
    "---"
   ]
  },
  {
   "attachments": {},
   "cell_type": "markdown",
   "metadata": {},
   "source": [
    "<a id=\"feature-adder\"></a>\n",
    "## <b><span style='padding:10px; background-color:#023047; font-family:fantasy; font-weight:normal; color:#f2f2f0; border-radius: 10px 10px;'> 2.1. FEATURE ADDER CLASS FOR AUTOMATIC FEATURE ADDING </span></b>"
   ]
  },
  {
   "cell_type": "code",
   "execution_count": 203,
   "metadata": {},
   "outputs": [],
   "source": [
    "# Let's remove the label.\n",
    "train_labels = train_set[\"Transported\"]\n",
    "train_set = train_set.drop(\"Transported\", axis=1)\n"
   ]
  },
  {
   "attachments": {},
   "cell_type": "markdown",
   "metadata": {},
   "source": [
    "<p style=\"font-family: verdana; font-weight: bold; font-size: 14px\">We will create a <code>FeatureAdder</code> class to simply include new features into the dataset so that it will be compatible with Scikit-Learn transformers and pipelines. The following code should explain itself.</p>"
   ]
  },
  {
   "cell_type": "code",
   "execution_count": 208,
   "metadata": {},
   "outputs": [],
   "source": [
    "from sklearn.base import BaseEstimator, TransformerMixin\n",
    "from sklearn.utils.validation import check_is_fitted\n",
    "\n",
    "\n",
    "class FeatureAdder(BaseEstimator, TransformerMixin):\n",
    "    def __init__(self, add_expenses=True, add_is_embryo=True, \n",
    "                 add_cabin_split=True, add_is_alone=True):\n",
    "        \"\"\"Initialize which new features should be included.\"\"\"\n",
    "        self.add_expenses = add_expenses\n",
    "        self.add_is_embryo = add_is_embryo\n",
    "        self.add_cabin_split = add_cabin_split\n",
    "        self.add_is_alone = add_is_alone\n",
    "\n",
    "    def fit(self, X, y=None):\n",
    "        \"\"\"Calculates the median value for all of the amenities and only \n",
    "        for these passengers who are in CryoSleep.\"\"\"\n",
    "        if not isinstance(X, pd.DataFrame):\n",
    "            raise TypeError(\"X must be a pandas DataFrame.\")\n",
    "        \n",
    "        not_in_cryosleep = (X[\"CryoSleep\"] == False)\n",
    "        self.amenity_medians_ = {\n",
    "            \"RoomService\": X.loc[not_in_cryosleep, \"RoomService\"].median(),\n",
    "            \"FoodCourt\": X.loc[not_in_cryosleep, \"FoodCourt\"].median(),\n",
    "            \"ShoppingMall\": X.loc[not_in_cryosleep, \"ShoppingMall\"].median(),\n",
    "            \"Spa\": X.loc[not_in_cryosleep, \"Spa\"].median(),\n",
    "            \"VRDeck\": X.loc[not_in_cryosleep, \"VRDeck\"].median(),\n",
    "        }\n",
    "        \n",
    "        self.n_features_in_ = X.shape[1]\n",
    "        self.feature_names_in_ = np.array(X.columns, dtype=object)\n",
    "        \n",
    "        return self\n",
    "    \n",
    "    def transform(self, X, y=None):\n",
    "        \"\"\"Returns a new `X` instance with included additional features.\"\"\"\n",
    "        if not isinstance(X, pd.DataFrame):\n",
    "            raise TypeError(\"X must be a pandas DataFrame.\")\n",
    "        if self.n_features_in_ != X.shape[1]:\n",
    "            raise ValueError(\"Unexpected number of features.\")\n",
    "        check_is_fitted(self)\n",
    "        X = X.copy()\n",
    "        \n",
    "        if self.add_expenses:\n",
    "            not_in_cryosleep = (X[\"CryoSleep\"] == False)\n",
    "            for amenity, median in self.amenity_medians_.items():\n",
    "                X.loc[~not_in_cryosleep, amenity] = (\n",
    "                    X.loc[~not_in_cryosleep, amenity].fillna(0.)\n",
    "                )\n",
    "                X.loc[not_in_cryosleep, amenity] = (\n",
    "                    X.loc[not_in_cryosleep, amenity].fillna(median)\n",
    "                )\n",
    "            X[\"Expenses\"] = X[self.amenity_medians_.keys()].sum(axis=1)\n",
    "            X[\"HasExpenses\"] = (X[\"Expenses\"] > 0.)\n",
    "            \n",
    "        if self.add_is_embryo:\n",
    "            X[\"IsEmbryo\"] = np.isclose(X[\"Age\"], 0.)\n",
    "            \n",
    "        if self.add_cabin_split:\n",
    "            X[[\"CabinDeck\", \"CabinNum\", \"CabinSide\"]] = (\n",
    "                X[\"Cabin\"].str.split(\"/\", expand=True)\n",
    "            )\n",
    "            \n",
    "        if self.add_is_alone:\n",
    "            groups = X[\"PassengerId\"].str[:4]\n",
    "            is_alone = (groups.value_counts() == 1).reindex(groups)\n",
    "            X[\"IsAlone\"] = is_alone.tolist()\n",
    "            \n",
    "        return X\n",
    "    \n",
    "    def get_feature_names_out(self, input_features=None):\n",
    "        if not input_features:\n",
    "            names = getattr(self, \"feature_names_in_\")\n",
    "            if self.add_expenses:\n",
    "                names = np.r_[names, [\"Expenses\", \"HasExpenses\"]]\n",
    "            if self.add_is_embryo:    \n",
    "                names = np.r_[names, [\"IsEmbryo\"]]\n",
    "            if self.add_cabin_split:\n",
    "                names = np.r_[names, [\"CabinDeck\", \"CabinNum\", \"CabinSide\"]]\n",
    "            if self.add_is_alone:\n",
    "                names = np.r_[names, [\"IsAlone\"]]\n",
    "            return names\n",
    "        if len(input_features) != self.n_features_in_:\n",
    "            raise ValueError(\"Invalid number of features.\")\n",
    "        if hasattr(self, \"feature_names_in_\") and not np.all(\n",
    "            self.feature_names_in_ == input_features\n",
    "        ):\n",
    "            raise ValueError(\n",
    "                \"The `input_features` is not equal to `feature_names_in_`.\"\n",
    "            )\n",
    "        return np.r_[self.feature_names_in_, input_features]"
   ]
  },
  {
   "attachments": {},
   "cell_type": "markdown",
   "metadata": {},
   "source": [
    "---"
   ]
  },
  {
   "attachments": {},
   "cell_type": "markdown",
   "metadata": {},
   "source": [
    "<a id=\"transformation-pipelines\"></a>\n",
    "## <b><span style='padding:10px; background-color:#023047; font-family:fantasy; font-weight:normal; color:#f2f2f0; border-radius: 10px 10px;'> 2.2. TRANSFORMATION PIPELINES </span></b>"
   ]
  },
  {
   "attachments": {},
   "cell_type": "markdown",
   "metadata": {},
   "source": [
    "<p style=\"font-family: verdana; font-weight: bold; font-size: 14px\">Now we will create a transformation pipeline for automatic data preparation.</p>"
   ]
  },
  {
   "cell_type": "code",
   "execution_count": 205,
   "metadata": {},
   "outputs": [],
   "source": [
    "from sklearn.impute import SimpleImputer\n",
    "from sklearn.preprocessing import OrdinalEncoder, OneHotEncoder, FunctionTransformer\n",
    "from sklearn.compose import make_column_transformer\n",
    "from sklearn.pipeline import make_pipeline\n",
    "\n",
    "\n",
    "hot_encoder_pipeline = make_pipeline(\n",
    "    SimpleImputer(strategy=\"most_frequent\"), OneHotEncoder()\n",
    ")\n",
    "ord_encoder_pipeline = make_pipeline(\n",
    "    SimpleImputer(strategy=\"most_frequent\"), OrdinalEncoder()\n",
    ")\n",
    "\n",
    "# Scikit-learn and Python versions on Kaggle don't support `feature_names_out`.\n",
    "if not ON_KAGGLE:\n",
    "    log1p_transformer = FunctionTransformer(\n",
    "        np.log1p, np.expm1, feature_names_out=\"one-to-one\", check_inverse=False\n",
    "    )\n",
    "else:\n",
    "    log1p_transformer = FunctionTransformer(np.log1p, np.expm1, check_inverse=False)\n",
    "\n",
    "# This imputer applies the median strategy only when we decide to set\n",
    "# `add_expenses=False` in the `FeatureAdder()` instance. `FeatureAdder()`\n",
    "# fills NaN values for amenities by default.\n",
    "amenity_pipeline = make_pipeline(SimpleImputer(strategy=\"median\"), log1p_transformer)\n",
    "\n",
    "# If you don't want some feature added by default by `FeatureAdder()`,\n",
    "# you must set this in its constructor in the `preprocessing` pipeline.\n",
    "# Moreover, you must discard this feature from the `feature_transformer` list too.\n",
    "feature_transformer = make_column_transformer(  # Unlisted features are dropped.\n",
    "    (hot_encoder_pipeline, [\"HomePlanet\", \"Destination\", \"CabinDeck\"]),\n",
    "    (\n",
    "        ord_encoder_pipeline,\n",
    "        [\"CryoSleep\", \"HasExpenses\", \"IsEmbryo\", \"IsAlone\", \"CabinSide\"],\n",
    "    ),\n",
    "    (\n",
    "        amenity_pipeline,\n",
    "        [\"Spa\", \"RoomService\", \"VRDeck\", \"FoodCourt\", \"ShoppingMall\", \"Expenses\"],\n",
    "    ),\n",
    ")\n",
    "\n",
    "preprocessing = make_pipeline(FeatureAdder(), feature_transformer)\n"
   ]
  },
  {
   "attachments": {},
   "cell_type": "markdown",
   "metadata": {},
   "source": [
    "<p style=\"font-family: verdana; font-weight: bold; font-size: 14px\">Let's see how it looks.</p>"
   ]
  },
  {
   "cell_type": "code",
   "execution_count": 209,
   "metadata": {},
   "outputs": [
    {
     "data": {
      "text/html": [
       "<div>\n",
       "<style scoped>\n",
       "    .dataframe tbody tr th:only-of-type {\n",
       "        vertical-align: middle;\n",
       "    }\n",
       "\n",
       "    .dataframe tbody tr th {\n",
       "        vertical-align: top;\n",
       "    }\n",
       "\n",
       "    .dataframe thead th {\n",
       "        text-align: right;\n",
       "    }\n",
       "</style>\n",
       "<table border=\"1\" class=\"dataframe\">\n",
       "  <thead>\n",
       "    <tr style=\"text-align: right;\">\n",
       "      <th></th>\n",
       "      <th>pipeline-1__HomePlanet_Earth</th>\n",
       "      <th>pipeline-1__HomePlanet_Europa</th>\n",
       "      <th>pipeline-1__HomePlanet_Mars</th>\n",
       "      <th>pipeline-1__Destination_55 Cancri e</th>\n",
       "      <th>pipeline-1__Destination_PSO J318.5-22</th>\n",
       "      <th>pipeline-1__Destination_TRAPPIST-1e</th>\n",
       "      <th>pipeline-1__CabinDeck_A</th>\n",
       "      <th>pipeline-1__CabinDeck_B</th>\n",
       "      <th>pipeline-1__CabinDeck_C</th>\n",
       "      <th>pipeline-1__CabinDeck_D</th>\n",
       "      <th>...</th>\n",
       "      <th>pipeline-2__HasExpenses</th>\n",
       "      <th>pipeline-2__IsEmbryo</th>\n",
       "      <th>pipeline-2__IsAlone</th>\n",
       "      <th>pipeline-2__CabinSide</th>\n",
       "      <th>pipeline-3__Spa</th>\n",
       "      <th>pipeline-3__RoomService</th>\n",
       "      <th>pipeline-3__VRDeck</th>\n",
       "      <th>pipeline-3__FoodCourt</th>\n",
       "      <th>pipeline-3__ShoppingMall</th>\n",
       "      <th>pipeline-3__Expenses</th>\n",
       "    </tr>\n",
       "  </thead>\n",
       "  <tbody>\n",
       "    <tr>\n",
       "      <th>0</th>\n",
       "      <td>0.0</td>\n",
       "      <td>1.0</td>\n",
       "      <td>0.0</td>\n",
       "      <td>0.0</td>\n",
       "      <td>0.0</td>\n",
       "      <td>1.0</td>\n",
       "      <td>0.0</td>\n",
       "      <td>1.0</td>\n",
       "      <td>0.0</td>\n",
       "      <td>0.0</td>\n",
       "      <td>...</td>\n",
       "      <td>0.0</td>\n",
       "      <td>0.0</td>\n",
       "      <td>1.0</td>\n",
       "      <td>0.0</td>\n",
       "      <td>0.000000</td>\n",
       "      <td>0.000000</td>\n",
       "      <td>0.000000</td>\n",
       "      <td>0.000000</td>\n",
       "      <td>0.000000</td>\n",
       "      <td>0.000000</td>\n",
       "    </tr>\n",
       "    <tr>\n",
       "      <th>1</th>\n",
       "      <td>1.0</td>\n",
       "      <td>0.0</td>\n",
       "      <td>0.0</td>\n",
       "      <td>0.0</td>\n",
       "      <td>0.0</td>\n",
       "      <td>1.0</td>\n",
       "      <td>0.0</td>\n",
       "      <td>0.0</td>\n",
       "      <td>0.0</td>\n",
       "      <td>0.0</td>\n",
       "      <td>...</td>\n",
       "      <td>1.0</td>\n",
       "      <td>0.0</td>\n",
       "      <td>1.0</td>\n",
       "      <td>1.0</td>\n",
       "      <td>6.309918</td>\n",
       "      <td>4.700480</td>\n",
       "      <td>3.806662</td>\n",
       "      <td>2.302585</td>\n",
       "      <td>3.258097</td>\n",
       "      <td>6.602588</td>\n",
       "    </tr>\n",
       "    <tr>\n",
       "      <th>2</th>\n",
       "      <td>0.0</td>\n",
       "      <td>1.0</td>\n",
       "      <td>0.0</td>\n",
       "      <td>0.0</td>\n",
       "      <td>0.0</td>\n",
       "      <td>1.0</td>\n",
       "      <td>1.0</td>\n",
       "      <td>0.0</td>\n",
       "      <td>0.0</td>\n",
       "      <td>0.0</td>\n",
       "      <td>...</td>\n",
       "      <td>1.0</td>\n",
       "      <td>0.0</td>\n",
       "      <td>0.0</td>\n",
       "      <td>1.0</td>\n",
       "      <td>8.812248</td>\n",
       "      <td>3.784190</td>\n",
       "      <td>3.912023</td>\n",
       "      <td>8.182280</td>\n",
       "      <td>0.000000</td>\n",
       "      <td>9.248021</td>\n",
       "    </tr>\n",
       "    <tr>\n",
       "      <th>3</th>\n",
       "      <td>0.0</td>\n",
       "      <td>1.0</td>\n",
       "      <td>0.0</td>\n",
       "      <td>0.0</td>\n",
       "      <td>0.0</td>\n",
       "      <td>1.0</td>\n",
       "      <td>1.0</td>\n",
       "      <td>0.0</td>\n",
       "      <td>0.0</td>\n",
       "      <td>0.0</td>\n",
       "      <td>...</td>\n",
       "      <td>1.0</td>\n",
       "      <td>0.0</td>\n",
       "      <td>0.0</td>\n",
       "      <td>1.0</td>\n",
       "      <td>8.110728</td>\n",
       "      <td>0.000000</td>\n",
       "      <td>5.267858</td>\n",
       "      <td>7.157735</td>\n",
       "      <td>5.918894</td>\n",
       "      <td>8.551981</td>\n",
       "    </tr>\n",
       "    <tr>\n",
       "      <th>4</th>\n",
       "      <td>1.0</td>\n",
       "      <td>0.0</td>\n",
       "      <td>0.0</td>\n",
       "      <td>0.0</td>\n",
       "      <td>0.0</td>\n",
       "      <td>1.0</td>\n",
       "      <td>0.0</td>\n",
       "      <td>0.0</td>\n",
       "      <td>0.0</td>\n",
       "      <td>0.0</td>\n",
       "      <td>...</td>\n",
       "      <td>1.0</td>\n",
       "      <td>0.0</td>\n",
       "      <td>1.0</td>\n",
       "      <td>1.0</td>\n",
       "      <td>6.338594</td>\n",
       "      <td>5.717028</td>\n",
       "      <td>1.098612</td>\n",
       "      <td>4.262680</td>\n",
       "      <td>5.023881</td>\n",
       "      <td>6.995766</td>\n",
       "    </tr>\n",
       "  </tbody>\n",
       "</table>\n",
       "<p>5 rows × 25 columns</p>\n",
       "</div>"
      ],
      "text/plain": [
       "   pipeline-1__HomePlanet_Earth  pipeline-1__HomePlanet_Europa  \\\n",
       "0                           0.0                            1.0   \n",
       "1                           1.0                            0.0   \n",
       "2                           0.0                            1.0   \n",
       "3                           0.0                            1.0   \n",
       "4                           1.0                            0.0   \n",
       "\n",
       "   pipeline-1__HomePlanet_Mars  pipeline-1__Destination_55 Cancri e  \\\n",
       "0                          0.0                                  0.0   \n",
       "1                          0.0                                  0.0   \n",
       "2                          0.0                                  0.0   \n",
       "3                          0.0                                  0.0   \n",
       "4                          0.0                                  0.0   \n",
       "\n",
       "   pipeline-1__Destination_PSO J318.5-22  pipeline-1__Destination_TRAPPIST-1e  \\\n",
       "0                                    0.0                                  1.0   \n",
       "1                                    0.0                                  1.0   \n",
       "2                                    0.0                                  1.0   \n",
       "3                                    0.0                                  1.0   \n",
       "4                                    0.0                                  1.0   \n",
       "\n",
       "   pipeline-1__CabinDeck_A  pipeline-1__CabinDeck_B  pipeline-1__CabinDeck_C  \\\n",
       "0                      0.0                      1.0                      0.0   \n",
       "1                      0.0                      0.0                      0.0   \n",
       "2                      1.0                      0.0                      0.0   \n",
       "3                      1.0                      0.0                      0.0   \n",
       "4                      0.0                      0.0                      0.0   \n",
       "\n",
       "   pipeline-1__CabinDeck_D  ...  pipeline-2__HasExpenses  \\\n",
       "0                      0.0  ...                      0.0   \n",
       "1                      0.0  ...                      1.0   \n",
       "2                      0.0  ...                      1.0   \n",
       "3                      0.0  ...                      1.0   \n",
       "4                      0.0  ...                      1.0   \n",
       "\n",
       "   pipeline-2__IsEmbryo  pipeline-2__IsAlone  pipeline-2__CabinSide  \\\n",
       "0                   0.0                  1.0                    0.0   \n",
       "1                   0.0                  1.0                    1.0   \n",
       "2                   0.0                  0.0                    1.0   \n",
       "3                   0.0                  0.0                    1.0   \n",
       "4                   0.0                  1.0                    1.0   \n",
       "\n",
       "   pipeline-3__Spa  pipeline-3__RoomService  pipeline-3__VRDeck  \\\n",
       "0         0.000000                 0.000000            0.000000   \n",
       "1         6.309918                 4.700480            3.806662   \n",
       "2         8.812248                 3.784190            3.912023   \n",
       "3         8.110728                 0.000000            5.267858   \n",
       "4         6.338594                 5.717028            1.098612   \n",
       "\n",
       "   pipeline-3__FoodCourt  pipeline-3__ShoppingMall  pipeline-3__Expenses  \n",
       "0               0.000000                  0.000000              0.000000  \n",
       "1               2.302585                  3.258097              6.602588  \n",
       "2               8.182280                  0.000000              9.248021  \n",
       "3               7.157735                  5.918894              8.551981  \n",
       "4               4.262680                  5.023881              6.995766  \n",
       "\n",
       "[5 rows x 25 columns]"
      ]
     },
     "metadata": {},
     "output_type": "display_data"
    },
    {
     "data": {
      "text/plain": [
       "(8693, 25)"
      ]
     },
     "execution_count": 209,
     "metadata": {},
     "output_type": "execute_result"
    }
   ],
   "source": [
    "train_set_prepared = preprocessing.fit_transform(train_set)\n",
    "\n",
    "if not ON_KAGGLE:\n",
    "    train_set_prepared_df = pd.DataFrame(\n",
    "        train_set_prepared, columns=preprocessing.get_feature_names_out()\n",
    "    )\n",
    "    from IPython.display import display\n",
    "    display(train_set_prepared_df.head())\n",
    "else:\n",
    "    print(train_set_prepared)\n",
    "\n",
    "train_set_prepared.shape\n"
   ]
  },
  {
   "attachments": {},
   "cell_type": "markdown",
   "metadata": {},
   "source": [
    "<p style=\"font-family: verdana; font-weight: bold; font-size: 14px\">It looks like everything is fine here :)</p>"
   ]
  },
  {
   "attachments": {},
   "cell_type": "markdown",
   "metadata": {},
   "source": [
    "---"
   ]
  },
  {
   "attachments": {},
   "cell_type": "markdown",
   "metadata": {},
   "source": [
    "<a id=\"machine-learning\"></a>\n",
    "# <p style=\"padding:15px; background-color:#023047; font-family:fantasy; font-size:150%; color:#f2f2f0; text-align:center; border-radius: 10px 10px; font-weight:normal\">3. MACHINE LEARNING AND MODEL SELECTION</p>"
   ]
  },
  {
   "attachments": {},
   "cell_type": "markdown",
   "metadata": {},
   "source": [
    "---"
   ]
  },
  {
   "attachments": {},
   "cell_type": "markdown",
   "metadata": {},
   "source": [
    "<a id=\"model-selection\"></a>\n",
    "## <b><span style='padding:10px; background-color:#023047; font-family:fantasy; font-weight:normal; color:#f2f2f0; border-radius: 10px 10px;'> 3.1. MODEL SELECTION </span></b>\n"
   ]
  },
  {
   "attachments": {},
   "cell_type": "markdown",
   "metadata": {},
   "source": [
    "<p style=\"font-family: verdana; font-weight: bold; font-size: 14px\">Let's check several classifiers with default hyperparameters using 10-fold cross-validation.</p>"
   ]
  },
  {
   "cell_type": "code",
   "execution_count": 109,
   "metadata": {},
   "outputs": [],
   "source": [
    "from sklearn.model_selection import cross_val_score\n"
   ]
  },
  {
   "cell_type": "code",
   "execution_count": 110,
   "metadata": {},
   "outputs": [],
   "source": [
    "from sklearn.ensemble import RandomForestClassifier\n",
    "\n",
    "forest_clf = RandomForestClassifier(random_state=42)\n",
    "forest_scores = cross_val_score(forest_clf, train_set_prepared, train_labels, cv=10)\n"
   ]
  },
  {
   "cell_type": "code",
   "execution_count": 111,
   "metadata": {},
   "outputs": [],
   "source": [
    "from sklearn.svm import SVC\n",
    "\n",
    "svm_clf = SVC(random_state=42)\n",
    "svm_scores = cross_val_score(svm_clf, train_set_prepared, train_labels, cv=10)\n"
   ]
  },
  {
   "cell_type": "code",
   "execution_count": 112,
   "metadata": {},
   "outputs": [],
   "source": [
    "from sklearn.linear_model import SGDClassifier\n",
    "\n",
    "sgd_clf = SGDClassifier(random_state=42)\n",
    "sgd_scores = cross_val_score(sgd_clf, train_set_prepared, train_labels, cv=10)\n"
   ]
  },
  {
   "cell_type": "code",
   "execution_count": 113,
   "metadata": {},
   "outputs": [],
   "source": [
    "from sklearn.neighbors import KNeighborsClassifier\n",
    "\n",
    "knn_clf = KNeighborsClassifier()\n",
    "knn_scores = cross_val_score(knn_clf, train_set_prepared, train_labels, cv=10)\n"
   ]
  },
  {
   "cell_type": "code",
   "execution_count": 114,
   "metadata": {},
   "outputs": [],
   "source": [
    "from sklearn.linear_model import LogisticRegression\n",
    "\n",
    "lin_reg_clf = LogisticRegression(random_state=42, max_iter=1000)\n",
    "lin_reg_scores = cross_val_score(lin_reg_clf, train_set_prepared, train_labels, cv=10)\n"
   ]
  },
  {
   "cell_type": "code",
   "execution_count": 115,
   "metadata": {},
   "outputs": [],
   "source": [
    "from sklearn.ensemble import ExtraTreesClassifier\n",
    "\n",
    "extra_trees_clf = ExtraTreesClassifier(random_state=42)\n",
    "extra_trees_scores = cross_val_score(\n",
    "    extra_trees_clf, train_set_prepared, train_labels, cv=10\n",
    ")\n"
   ]
  },
  {
   "cell_type": "code",
   "execution_count": 116,
   "metadata": {},
   "outputs": [],
   "source": [
    "from sklearn.tree import DecisionTreeClassifier\n",
    "\n",
    "tree_clf = DecisionTreeClassifier(random_state=42)\n",
    "tree_scores = cross_val_score(tree_clf, train_set_prepared, train_labels, cv=10)\n"
   ]
  },
  {
   "cell_type": "code",
   "execution_count": 117,
   "metadata": {},
   "outputs": [],
   "source": [
    "from sklearn.ensemble import AdaBoostClassifier\n",
    "\n",
    "ada_clf = AdaBoostClassifier(random_state=42)\n",
    "ada_scores = cross_val_score(ada_clf, train_set_prepared, train_labels, cv=10)\n"
   ]
  },
  {
   "cell_type": "code",
   "execution_count": 118,
   "metadata": {},
   "outputs": [],
   "source": [
    "from sklearn.ensemble import GradientBoostingClassifier\n",
    "\n",
    "gbc_clf = GradientBoostingClassifier(random_state=42)\n",
    "gbc_scores = cross_val_score(gbc_clf, train_set_prepared, train_labels, cv=10)\n"
   ]
  },
  {
   "attachments": {},
   "cell_type": "markdown",
   "metadata": {},
   "source": [
    "<p style=\"font-family: verdana; font-weight: bold; font-size: 14px\">Now let's plot boxplots of these classifiers' scores.</p>"
   ]
  },
  {
   "cell_type": "code",
   "execution_count": 123,
   "metadata": {},
   "outputs": [
    {
     "data": {
      "image/png": "[encoded data removed]",
      "text/plain": [
       "<Figure size 864x432 with 1 Axes>"
      ]
     },
     "metadata": {},
     "output_type": "display_data"
    }
   ],
   "source": [
    "clf_scores = pd.DataFrame(\n",
    "    {\n",
    "        \"RandomForest\": forest_scores,\n",
    "        \"SVM\": svm_scores,\n",
    "        \"SGD\": sgd_scores,\n",
    "        \"KNeighbors\": knn_scores,\n",
    "        \"LogisticRegression\": lin_reg_scores,\n",
    "        \"ExtraTrees\": extra_trees_scores,\n",
    "        \"DecisionTree\": tree_scores,\n",
    "        \"AdaBoost\": ada_scores,\n",
    "        \"GradientBoosting\": gbc_scores,\n",
    "    }\n",
    ")\n",
    "\n",
    "sorted_clfs = clf_scores.median().sort_values().index\n",
    "clf_scores_sorted = clf_scores[sorted_clfs]\n",
    "\n",
    "plt.figure(figsize=(12, 6))\n",
    "sns.boxplot(\n",
    "    data=clf_scores_sorted,\n",
    "    palette=\"crest_r\",\n",
    "    width=0.75,\n",
    "    fliersize=5,\n",
    "    linewidth=2,\n",
    "    medianprops={\"color\": \"coral\"},\n",
    ")\n",
    "plt.ylabel(\"Accuracy\")\n",
    "plt.xticks(rotation=45)\n",
    "plt.show()\n"
   ]
  },
  {
   "cell_type": "code",
   "execution_count": 124,
   "metadata": {},
   "outputs": [
    {
     "data": {
      "text/html": [
       "<div>\n",
       "<style scoped>\n",
       "    .dataframe tbody tr th:only-of-type {\n",
       "        vertical-align: middle;\n",
       "    }\n",
       "\n",
       "    .dataframe tbody tr th {\n",
       "        vertical-align: top;\n",
       "    }\n",
       "\n",
       "    .dataframe thead th {\n",
       "        text-align: right;\n",
       "    }\n",
       "</style>\n",
       "<table border=\"1\" class=\"dataframe\">\n",
       "  <thead>\n",
       "    <tr style=\"text-align: right;\">\n",
       "      <th></th>\n",
       "      <th>SGD</th>\n",
       "      <th>DecisionTree</th>\n",
       "      <th>KNeighbors</th>\n",
       "      <th>LogisticRegression</th>\n",
       "      <th>AdaBoost</th>\n",
       "      <th>ExtraTrees</th>\n",
       "      <th>RandomForest</th>\n",
       "      <th>SVM</th>\n",
       "      <th>GradientBoosting</th>\n",
       "    </tr>\n",
       "  </thead>\n",
       "  <tbody>\n",
       "    <tr>\n",
       "      <th>count</th>\n",
       "      <td>10.000000</td>\n",
       "      <td>10.000000</td>\n",
       "      <td>10.000000</td>\n",
       "      <td>10.000000</td>\n",
       "      <td>10.000000</td>\n",
       "      <td>10.000000</td>\n",
       "      <td>10.000000</td>\n",
       "      <td>10.000000</td>\n",
       "      <td>10.000000</td>\n",
       "    </tr>\n",
       "    <tr>\n",
       "      <th>mean</th>\n",
       "      <td>0.747497</td>\n",
       "      <td>0.757397</td>\n",
       "      <td>0.767978</td>\n",
       "      <td>0.776374</td>\n",
       "      <td>0.788341</td>\n",
       "      <td>0.790180</td>\n",
       "      <td>0.795127</td>\n",
       "      <td>0.796850</td>\n",
       "      <td>0.799500</td>\n",
       "    </tr>\n",
       "    <tr>\n",
       "      <th>std</th>\n",
       "      <td>0.028540</td>\n",
       "      <td>0.016120</td>\n",
       "      <td>0.015821</td>\n",
       "      <td>0.011466</td>\n",
       "      <td>0.015164</td>\n",
       "      <td>0.015729</td>\n",
       "      <td>0.013928</td>\n",
       "      <td>0.018324</td>\n",
       "      <td>0.014864</td>\n",
       "    </tr>\n",
       "    <tr>\n",
       "      <th>min</th>\n",
       "      <td>0.700806</td>\n",
       "      <td>0.727586</td>\n",
       "      <td>0.731034</td>\n",
       "      <td>0.759770</td>\n",
       "      <td>0.764368</td>\n",
       "      <td>0.762069</td>\n",
       "      <td>0.770115</td>\n",
       "      <td>0.764097</td>\n",
       "      <td>0.768966</td>\n",
       "    </tr>\n",
       "    <tr>\n",
       "      <th>25%</th>\n",
       "      <td>0.733548</td>\n",
       "      <td>0.751438</td>\n",
       "      <td>0.765890</td>\n",
       "      <td>0.767039</td>\n",
       "      <td>0.776661</td>\n",
       "      <td>0.781261</td>\n",
       "      <td>0.786883</td>\n",
       "      <td>0.784997</td>\n",
       "      <td>0.794195</td>\n",
       "    </tr>\n",
       "    <tr>\n",
       "      <th>50%</th>\n",
       "      <td>0.751005</td>\n",
       "      <td>0.760209</td>\n",
       "      <td>0.773432</td>\n",
       "      <td>0.775158</td>\n",
       "      <td>0.789988</td>\n",
       "      <td>0.791834</td>\n",
       "      <td>0.795167</td>\n",
       "      <td>0.798044</td>\n",
       "      <td>0.799770</td>\n",
       "    </tr>\n",
       "    <tr>\n",
       "      <th>75%</th>\n",
       "      <td>0.767328</td>\n",
       "      <td>0.770138</td>\n",
       "      <td>0.776755</td>\n",
       "      <td>0.787399</td>\n",
       "      <td>0.797468</td>\n",
       "      <td>0.803222</td>\n",
       "      <td>0.805811</td>\n",
       "      <td>0.813922</td>\n",
       "      <td>0.810990</td>\n",
       "    </tr>\n",
       "    <tr>\n",
       "      <th>max</th>\n",
       "      <td>0.782509</td>\n",
       "      <td>0.775604</td>\n",
       "      <td>0.782509</td>\n",
       "      <td>0.790564</td>\n",
       "      <td>0.810127</td>\n",
       "      <td>0.807825</td>\n",
       "      <td>0.814730</td>\n",
       "      <td>0.817031</td>\n",
       "      <td>0.818182</td>\n",
       "    </tr>\n",
       "  </tbody>\n",
       "</table>\n",
       "</div>"
      ],
      "text/plain": [
       "             SGD  DecisionTree  KNeighbors  LogisticRegression   AdaBoost  \\\n",
       "count  10.000000     10.000000   10.000000           10.000000  10.000000   \n",
       "mean    0.747497      0.757397    0.767978            0.776374   0.788341   \n",
       "std     0.028540      0.016120    0.015821            0.011466   0.015164   \n",
       "min     0.700806      0.727586    0.731034            0.759770   0.764368   \n",
       "25%     0.733548      0.751438    0.765890            0.767039   0.776661   \n",
       "50%     0.751005      0.760209    0.773432            0.775158   0.789988   \n",
       "75%     0.767328      0.770138    0.776755            0.787399   0.797468   \n",
       "max     0.782509      0.775604    0.782509            0.790564   0.810127   \n",
       "\n",
       "       ExtraTrees  RandomForest        SVM  GradientBoosting  \n",
       "count   10.000000     10.000000  10.000000         10.000000  \n",
       "mean     0.790180      0.795127   0.796850          0.799500  \n",
       "std      0.015729      0.013928   0.018324          0.014864  \n",
       "min      0.762069      0.770115   0.764097          0.768966  \n",
       "25%      0.781261      0.786883   0.784997          0.794195  \n",
       "50%      0.791834      0.795167   0.798044          0.799770  \n",
       "75%      0.803222      0.805811   0.813922          0.810990  \n",
       "max      0.807825      0.814730   0.817031          0.818182  "
      ]
     },
     "execution_count": 124,
     "metadata": {},
     "output_type": "execute_result"
    }
   ],
   "source": [
    "clf_scores_sorted.describe()\n"
   ]
  },
  {
   "attachments": {},
   "cell_type": "markdown",
   "metadata": {},
   "source": [
    "<p style=\"font-family: verdana; font-weight: bold; font-size: 14px\">Let's take <code>RandomForestClassifier</code>, <code>SVM</code> and <code>GradientBoostingClassifier</code> and try to play with their hyperparameters.</p>"
   ]
  },
  {
   "attachments": {},
   "cell_type": "markdown",
   "metadata": {},
   "source": [
    "<p style=\"font-family: verdana; font-weight: bold; font-size: 14px\">Let's see yet which features are really important.</p>"
   ]
  },
  {
   "cell_type": "code",
   "execution_count": 125,
   "metadata": {},
   "outputs": [
    {
     "name": "stdout",
     "output_type": "stream",
     "text": [
      "Expenses                  0.18482\n",
      "Spa                       0.10983\n",
      "FoodCourt                 0.10431\n",
      "VRDeck                    0.09816\n",
      "RoomService               0.09131\n",
      "ShoppingMall              0.09009\n",
      "HasExpenses               0.07327\n",
      "CryoSleep                 0.05336\n",
      "CabinSide                 0.02289\n",
      "HomePlanet_Earth          0.02180\n",
      "CabinDeck_F               0.01872\n",
      "CabinDeck_G               0.01814\n",
      "CabinDeck_E               0.01812\n",
      "HomePlanet_Europa         0.01804\n",
      "IsAlone                   0.01605\n",
      "HomePlanet_Mars           0.01048\n",
      "Destination_TRAPPIST-1e   0.01035\n",
      "Destination_55 Cancri e   0.00998\n",
      "CabinDeck_C               0.00654\n",
      "Destination_PSO J318.5-22 0.00651\n",
      "CabinDeck_B               0.00610\n",
      "CabinDeck_D               0.00435\n",
      "IsEmbryo                  0.00430\n",
      "CabinDeck_A               0.00245\n",
      "CabinDeck_T               0.00003\n"
     ]
    }
   ],
   "source": [
    "if not ON_KAGGLE:\n",
    "    forest_clf.fit(train_set_prepared, train_labels)\n",
    "    feature_importances = forest_clf.feature_importances_\n",
    "    feature_names = preprocessing.get_feature_names_out()\n",
    "    # After preprocessing, features have additional prefixes from pipelines.\n",
    "    feature_names = pd.Series(feature_names).str.extract(\"__(.*)\").values.ravel()\n",
    "\n",
    "    importances = sorted(\n",
    "        zip(feature_names, feature_importances), key=lambda x: x[1], reverse=True\n",
    "    )\n",
    "\n",
    "    for feature, importance in importances:\n",
    "        print(feature.ljust(25), f\"{importance:.5f}\")\n"
   ]
  },
  {
   "attachments": {},
   "cell_type": "markdown",
   "metadata": {},
   "source": [
    "<p style=\"font-family: verdana; font-weight: bold; font-size: 14px\">Unfortunately you cannot see this on Kaggle notebook, but the results are as follows:</p>\n",
    "\n",
    "Expenses                  - 0.18482  \n",
    "Spa                       - 0.10983  \n",
    "FoodCourt                 - 0.10431  \n",
    "VRDeck                    - 0.09816  \n",
    "RoomService               - 0.09131  \n",
    "ShoppingMall              - 0.09009  \n",
    "HasExpenses               - 0.07327  \n",
    "CryoSleep                 - 0.05336  \n",
    "CabinSide                 - 0.02289  \n",
    "HomePlanet_Earth          - 0.02180  \n",
    "CabinDeck_F               - 0.01872  \n",
    "CabinDeck_G               - 0.01814  \n",
    "CabinDeck_E               - 0.01812  \n",
    "HomePlanet_Europa         - 0.01804  \n",
    "IsAlone                   - 0.01605  \n",
    "HomePlanet_Mars           - 0.01048  \n",
    "Destination_TRAPPIST-1e   - 0.01035  \n",
    "Destination_55 Cancri e   - 0.00998  \n",
    "CabinDeck_C               - 0.00654  \n",
    "Destination_PSO J318.5-22 - 0.00651  \n",
    "CabinDeck_B               - 0.00610  \n",
    "CabinDeck_D               - 0.00435  \n",
    "IsEmbryo                  - 0.00430  \n",
    "CabinDeck_A               - 0.00245  \n",
    "CabinDeck_T               - 0.00003  "
   ]
  },
  {
   "attachments": {},
   "cell_type": "markdown",
   "metadata": {},
   "source": [
    "---"
   ]
  },
  {
   "attachments": {},
   "cell_type": "markdown",
   "metadata": {},
   "source": [
    "<a id=\"model-tune\"></a>\n",
    "## <b><span style='padding:10px; background-color:#023047; font-family:fantasy; font-weight:normal; color:#f2f2f0; border-radius: 10px 10px;'> 3.2. MODEL TUNE </span></b>\n"
   ]
  },
  {
   "cell_type": "code",
   "execution_count": 126,
   "metadata": {},
   "outputs": [],
   "source": [
    "from sklearn.model_selection import RandomizedSearchCV\n",
    "from scipy.stats import randint, expon, reciprocal, uniform\n"
   ]
  },
  {
   "attachments": {},
   "cell_type": "markdown",
   "metadata": {},
   "source": [
    "<p style=\"font-family: verdana; font-weight: bold; font-size: 14px\">We will start with the <code>RandomForestClassifier</code> first.</p>"
   ]
  },
  {
   "cell_type": "code",
   "execution_count": null,
   "metadata": {},
   "outputs": [],
   "source": [
    "param_dist = {\n",
    "    \"n_estimators\": randint(100, 200),\n",
    "    \"max_depth\": randint(5, 15),\n",
    "    \"min_samples_split\": randint(2, 10),\n",
    "    \"min_samples_leaf\": randint(1, 8),\n",
    "    \"max_leaf_nodes\": randint(100, 400),\n",
    "    \"min_impurity_decrease\": uniform(1e-5, 1e-4),\n",
    "}\n",
    "\n",
    "forest_rnd_search = RandomizedSearchCV(\n",
    "    forest_clf,\n",
    "    param_distributions=param_dist,\n",
    "    cv=10,\n",
    "    n_iter=100,\n",
    "    n_jobs=-1,\n",
    "    scoring=\"accuracy\",\n",
    "    random_state=42,\n",
    ")\n",
    "forest_rnd_search.fit(train_set_prepared, train_labels);\n"
   ]
  },
  {
   "cell_type": "code",
   "execution_count": 509,
   "metadata": {},
   "outputs": [],
   "source": [
    "param_dist = {\n",
    "    \"C\": uniform(10, 25),\n",
    "    \"gamma\": [\"auto\", \"scale\"],\n",
    "}\n",
    "\n",
    "svm_rnd_search = RandomizedSearchCV(\n",
    "    svm_clf,\n",
    "    param_distributions=param_dist,\n",
    "    cv=10,\n",
    "    n_iter=100,\n",
    "    n_jobs=-1,\n",
    "    scoring=\"accuracy\",\n",
    "    random_state=42,\n",
    ")\n",
    "svm_rnd_search.fit(train_set_prepared, train_labels);\n"
   ]
  },
  {
   "cell_type": "code",
   "execution_count": 510,
   "metadata": {},
   "outputs": [],
   "source": [
    "param_dist = {\n",
    "    \"n_estimators\": randint(100, 200),\n",
    "    \"learning_rate\": reciprocal(0.001, 1.0),\n",
    "    \"max_depth\": randint(5, 15),\n",
    "    \"max_leaf_nodes\": randint(2, 12),\n",
    "    \"min_samples_split\": randint(2, 12),\n",
    "    \"min_samples_leaf\": randint(1, 8),\n",
    "    \"min_impurity_decrease\": uniform(0.001, 0.1),\n",
    "    \"n_iter_no_change\": randint(5, 15),\n",
    "    \"max_features\": randint(10, 25),\n",
    "}\n",
    "\n",
    "gbc_rnd_search = RandomizedSearchCV(\n",
    "    gbc_clf,\n",
    "    param_distributions=param_dist,\n",
    "    cv=10,\n",
    "    n_iter=100,\n",
    "    n_jobs=-1,\n",
    "    scoring=\"accuracy\",\n",
    "    random_state=42,\n",
    ")\n",
    "gbc_rnd_search.fit(train_set_prepared, train_labels);\n"
   ]
  },
  {
   "attachments": {},
   "cell_type": "markdown",
   "metadata": {},
   "source": [
    "<p style=\"font-family: verdana; font-weight: bold; font-size: 14px\">Let's see on the results.</p>"
   ]
  },
  {
   "cell_type": "code",
   "execution_count": 511,
   "metadata": {},
   "outputs": [],
   "source": [
    "best_scores = (\n",
    "    forest_rnd_search.best_score_,\n",
    "    svm_rnd_search.best_score_,\n",
    "    gbc_rnd_search.best_score_,\n",
    ")\n",
    "\n",
    "best_classifiers = (\n",
    "    forest_rnd_search.best_estimator_,\n",
    "    svm_rnd_search.best_estimator_,\n",
    "    gbc_rnd_search.best_estimator_,\n",
    ")\n",
    "\n",
    "print(\"ACCURACY SCORE:\", end=\"\\n\\n\")\n",
    "for best_clf, best_score in zip(best_classifiers, best_scores):\n",
    "    print(f\"Best {best_clf.__class__.__name__}:\".ljust(35), f\"{best_score:.6f}\")\n"
   ]
  },
  {
   "attachments": {},
   "cell_type": "markdown",
   "metadata": {},
   "source": [
    "<p style=\"font-family: verdana; font-weight: bold; font-size: 14px\">And we can glance at best hyperparameters:</p>"
   ]
  },
  {
   "cell_type": "code",
   "execution_count": 512,
   "metadata": {},
   "outputs": [],
   "source": [
    "print(\"BEST HYPERPARAMETERS:\", \"-\" * 52, sep=\"\\n\")\n",
    "for best_clf in (forest_rnd_search, svm_rnd_search, gbc_rnd_search):\n",
    "    print(\"Classifier\".ljust(25), best_clf.best_estimator_.__class__.__name__)\n",
    "    for hyperparam, value in best_clf.best_params_.items():\n",
    "        print(f\"{hyperparam.ljust(25)}\", value)\n",
    "    print(\"-\" * 52)\n"
   ]
  },
  {
   "attachments": {},
   "cell_type": "markdown",
   "metadata": {},
   "source": [
    "<p style=\"font-family: verdana; font-weight: bold; font-size: 14px\">We can easily save these models with <code>joblib</code>. Thanks to this, we don't need to train classifiers (which takes around 15-20 minutes) whenever we use this notebook.</p>"
   ]
  },
  {
   "cell_type": "code",
   "execution_count": 513,
   "metadata": {},
   "outputs": [],
   "source": [
    "import joblib\n",
    "\n",
    "joblib.dump(forest_rnd_search.best_estimator_, MODELS_PATH / \"best_forest.pkl\")\n",
    "joblib.dump(svm_rnd_search.best_estimator_, MODELS_PATH / \"best_svm.pkl\")\n",
    "joblib.dump(gbc_rnd_search.best_estimator_, MODELS_PATH / \"best_gbc.pkl\");\n"
   ]
  },
  {
   "attachments": {},
   "cell_type": "markdown",
   "metadata": {},
   "source": [
    "<p style=\"font-family: verdana; font-weight: bold; font-size: 14px\">And load them when we need them.</p>"
   ]
  },
  {
   "cell_type": "code",
   "execution_count": null,
   "metadata": {},
   "outputs": [],
   "source": [
    "import joblib\n",
    "\n",
    "best_forest = joblib.load(MODELS_PATH / \"best_forest.pkl\")\n",
    "best_svm = joblib.load(MODELS_PATH / \"best_svm.pkl\")\n",
    "best_gbc = joblib.load(MODELS_PATH / \"best_gbc.pkl\")\n"
   ]
  },
  {
   "attachments": {},
   "cell_type": "markdown",
   "metadata": {},
   "source": [
    "---"
   ]
  },
  {
   "attachments": {},
   "cell_type": "markdown",
   "metadata": {},
   "source": [
    "<a id=\"precision-recall\"></a>\n",
    "## <b><span style='padding:10px; background-color:#023047; font-family:fantasy; font-weight:normal; color:#f2f2f0; border-radius: 10px 10px;'> 3.3. QUICK LOOK AT PRECISION AND RECALL </span></b>"
   ]
  },
  {
   "attachments": {},
   "cell_type": "markdown",
   "metadata": {},
   "source": [
    "<p style=\"font-family: verdana; font-weight: bold; font-size: 14px\">There we have a perfect ratio of Transported / Not Transported, and we use the accuracy score as the primary indicator, but it is good to know how looks different indicators like precision or recall.</p>"
   ]
  },
  {
   "attachments": {},
   "cell_type": "markdown",
   "metadata": {},
   "source": [
    "<p style=\"font-family: verdana; font-weight: bold; font-size: 14px\">Let's create predictions from the best classifiers.</p>"
   ]
  },
  {
   "cell_type": "code",
   "execution_count": 129,
   "metadata": {},
   "outputs": [],
   "source": [
    "from sklearn.model_selection import cross_val_predict\n",
    "\n",
    "\n",
    "forest_pred = cross_val_predict(best_forest, train_set_prepared, train_labels, cv=10)\n",
    "svm_pred = cross_val_predict(best_svm, train_set_prepared, train_labels, cv=10)\n",
    "gbc_pred = cross_val_predict(best_gbc, train_set_prepared, train_labels, cv=10)\n"
   ]
  },
  {
   "attachments": {},
   "cell_type": "markdown",
   "metadata": {},
   "source": [
    "<p style=\"font-family: verdana; font-weight: bold; font-size: 14px\">And have a look at confusion matrices.</p>"
   ]
  },
  {
   "cell_type": "code",
   "execution_count": 166,
   "metadata": {},
   "outputs": [
    {
     "data": {
      "image/png": "[encoded data removed]",
      "text/plain": [
       "<Figure size 864x432 with 4 Axes>"
      ]
     },
     "metadata": {},
     "output_type": "display_data"
    }
   ],
   "source": [
    "from matplotlib.gridspec import GridSpec\n",
    "from sklearn.metrics import confusion_matrix\n",
    "\n",
    "\n",
    "conf_matrix_forest = confusion_matrix(train_labels, forest_pred)\n",
    "conf_matrix_svm = confusion_matrix(train_labels, svm_pred)\n",
    "conf_matrix_gbc = confusion_matrix(train_labels, gbc_pred)\n",
    "\n",
    "fig = plt.figure(figsize=(12, 6))  # , constrained_layout=True)\n",
    "gs = GridSpec(nrows=2, ncols=3, figure=fig, height_ratios=(0.9, 0.1))\n",
    "\n",
    "ax1 = fig.add_subplot(gs[0, 0])\n",
    "ax2 = fig.add_subplot(gs[0, 1])\n",
    "ax3 = fig.add_subplot(gs[0, 2])\n",
    "ax4 = fig.add_subplot(gs[1, :])\n",
    "plt.subplots_adjust(hspace=0.5)\n",
    "\n",
    "fig.suptitle(\"Confusion Matrix of Best Classifiers\")\n",
    "\n",
    "axes = (ax1, ax2, ax3)\n",
    "conf_matrices = (conf_matrix_forest, conf_matrix_svm, conf_matrix_gbc)\n",
    "titles = (\"RandomForest\", \"SVM\", \"GradientBoosting\")\n",
    "\n",
    "for ax, conf_matrix, title in zip(axes, conf_matrices, titles):\n",
    "    plt.sca(ax)\n",
    "    plt.title(title)\n",
    "    sns.heatmap(\n",
    "        conf_matrix,\n",
    "        square=True,\n",
    "        linewidths=4,\n",
    "        annot=True,\n",
    "        cmap=\"crest_r\",\n",
    "        fmt=\".0f\",\n",
    "        cbar=False,\n",
    "    )\n",
    "    plt.gca().set_xticklabels([\"Not Transported\", \"Transported\"])\n",
    "    if ax == ax1:\n",
    "        plt.gca().set_yticklabels([\"Not Transported\", \"Transported\"])\n",
    "    else:\n",
    "        plt.gca().set_yticklabels([])\n",
    "\n",
    "plt.sca(ax1)\n",
    "plt.ylabel(\"True Label\")\n",
    "plt.sca(ax2)\n",
    "plt.xlabel(\"Predicted Label\")\n",
    "\n",
    "ax4.grid(False)\n",
    "# We need to get a mappable obj (get_children).\n",
    "fig.colorbar(ax3.get_children()[0], cax=ax4, orientation=\"horizontal\", label=\"Counts\")\n",
    "\n",
    "plt.show()\n"
   ]
  },
  {
   "attachments": {},
   "cell_type": "markdown",
   "metadata": {},
   "source": [
    "<p style=\"font-family: verdana; font-weight: bold; font-size: 14px\">Now we can calculate the precision, recall and F1 score. </p>\n",
    "\n",
    "<p style=\"font-family: verdana; font-weight: bold; font-size: 14px\">The precision measures the fraction of correct positive predictions out of all the model's positive predictions. In this case, positive prediction is <code>True</code> for the <code>Transported</code> label. Precision can answer a question: \"How many samples labelled as positive by the model are actually positive?\"</p>\n",
    "\n",
    "<p style=\"font-family: verdana; font-weight: bold; font-size: 14px\">The recall measures the fraction of correct positive predictions out of all actually positive samples. It can answer a question: \"How many samples out of all positives are labelled as positive by the model?\"</p>\n",
    "\n",
    "<p style=\"font-family: verdana; font-weight: bold; font-size: 14px\">The F1 score is the harmonic mean of precision and recall. To obtain a high F1 score, both the precision and recall have to be high.</p>"
   ]
  },
  {
   "cell_type": "code",
   "execution_count": 167,
   "metadata": {},
   "outputs": [
    {
     "data": {
      "text/html": [
       "<div>\n",
       "<style scoped>\n",
       "    .dataframe tbody tr th:only-of-type {\n",
       "        vertical-align: middle;\n",
       "    }\n",
       "\n",
       "    .dataframe tbody tr th {\n",
       "        vertical-align: top;\n",
       "    }\n",
       "\n",
       "    .dataframe thead th {\n",
       "        text-align: right;\n",
       "    }\n",
       "</style>\n",
       "<table border=\"1\" class=\"dataframe\">\n",
       "  <thead>\n",
       "    <tr style=\"text-align: right;\">\n",
       "      <th></th>\n",
       "      <th>RandomForest</th>\n",
       "      <th>SVM</th>\n",
       "      <th>GradientBoosting</th>\n",
       "    </tr>\n",
       "  </thead>\n",
       "  <tbody>\n",
       "    <tr>\n",
       "      <th>Precision</th>\n",
       "      <td>0.794353</td>\n",
       "      <td>0.786903</td>\n",
       "      <td>0.788067</td>\n",
       "    </tr>\n",
       "    <tr>\n",
       "      <th>Recall</th>\n",
       "      <td>0.816126</td>\n",
       "      <td>0.831658</td>\n",
       "      <td>0.841709</td>\n",
       "    </tr>\n",
       "    <tr>\n",
       "      <th>F1</th>\n",
       "      <td>0.805092</td>\n",
       "      <td>0.808662</td>\n",
       "      <td>0.814005</td>\n",
       "    </tr>\n",
       "    <tr>\n",
       "      <th>Accuracy</th>\n",
       "      <td>0.800989</td>\n",
       "      <td>0.801795</td>\n",
       "      <td>0.806281</td>\n",
       "    </tr>\n",
       "  </tbody>\n",
       "</table>\n",
       "</div>"
      ],
      "text/plain": [
       "           RandomForest       SVM  GradientBoosting\n",
       "Precision      0.794353  0.786903          0.788067\n",
       "Recall         0.816126  0.831658          0.841709\n",
       "F1             0.805092  0.808662          0.814005\n",
       "Accuracy       0.800989  0.801795          0.806281"
      ]
     },
     "execution_count": 167,
     "metadata": {},
     "output_type": "execute_result"
    }
   ],
   "source": [
    "from sklearn.metrics import precision_score, recall_score, f1_score, accuracy_score\n",
    "\n",
    "\n",
    "forest_prec = precision_score(train_labels, forest_pred)\n",
    "svm_prec = precision_score(train_labels, svm_pred)\n",
    "gbc_prec = precision_score(train_labels, gbc_pred)\n",
    "\n",
    "forest_rec = recall_score(train_labels, forest_pred)\n",
    "svm_rec = recall_score(train_labels, svm_pred)\n",
    "gbc_rec = recall_score(train_labels, gbc_pred)\n",
    "\n",
    "forest_f1 = f1_score(train_labels, forest_pred)\n",
    "svm_f1 = f1_score(train_labels, svm_pred)\n",
    "gbc_f1 = f1_score(train_labels, gbc_pred)\n",
    "\n",
    "forest_acc = accuracy_score(train_labels, forest_pred)\n",
    "svm_acc = accuracy_score(train_labels, svm_pred)\n",
    "gbc_acc = accuracy_score(train_labels, gbc_pred)\n",
    "\n",
    "prec_rec_f1_acc = {\n",
    "    \"RandomForest\": [forest_prec, forest_rec, forest_f1, forest_acc],\n",
    "    \"SVM\": [svm_prec, svm_rec, svm_f1, svm_acc],\n",
    "    \"GradientBoosting\": [gbc_prec, gbc_rec, gbc_f1, gbc_acc],\n",
    "}\n",
    "\n",
    "indicators_df = pd.DataFrame(\n",
    "    prec_rec_f1_acc, index=[\"Precision\", \"Recall\", \"F1\", \"Accuracy\"]\n",
    ")\n",
    "indicators_df\n"
   ]
  },
  {
   "cell_type": "code",
   "execution_count": 168,
   "metadata": {},
   "outputs": [
    {
     "name": "stdout",
     "output_type": "stream",
     "text": [
      "Precision:      Best Score: 0.794353      Classifier: RandomForest\n",
      "Recall:         Best Score: 0.841709      Classifier: GradientBoosting\n",
      "F1:             Best Score: 0.814005      Classifier: GradientBoosting\n",
      "Accuracy:       Best Score: 0.806281      Classifier: GradientBoosting\n"
     ]
    }
   ],
   "source": [
    "best_values = indicators_df.max(axis=1)\n",
    "best_clfs = indicators_df.idxmax(axis=1)\n",
    "\n",
    "for indicator, best_score, best_clf in zip(indicators_df.index, best_values, best_clfs):\n",
    "    print(\n",
    "        f\"{indicator}:\".ljust(15),\n",
    "        f\"Best Score: {best_score:.6f}\".ljust(25),\n",
    "        f\"Classifier: {best_clf}\",\n",
    "    )\n"
   ]
  },
  {
   "attachments": {},
   "cell_type": "markdown",
   "metadata": {},
   "source": [
    "<p style=\"font-family: verdana; font-weight: bold; font-size: 14px\">Okay, so we see the <code>GradientBoostingClassifier</code> appears to have the best performance. It has the highest recall, which means it is the best at finding all positive cases. Moreover, it has comparable precision to the <code>RandomForestClassifier</code> and <code>SVC</code>, so it is making a similar number of false positive predictions. In addition, it has a higher F1 score even though the precision is lower than in the <code>RandomForestClassifier</code>. To sum up, GradientBoosting should best generalise new samples.</p>"
   ]
  },
  {
   "cell_type": "code",
   "execution_count": 169,
   "metadata": {},
   "outputs": [],
   "source": [
    "# The `RandomForestClassifier` doesn't have the `decision_function`.\n",
    "forest_roc_probas = cross_val_predict(\n",
    "    best_forest, train_set_prepared, train_labels, cv=10, method=\"predict_proba\"\n",
    ")\n",
    "svm_roc_scores = cross_val_predict(\n",
    "    best_svm, train_set_prepared, train_labels, cv=10, method=\"decision_function\"\n",
    ")\n",
    "gbc_roc_scores = cross_val_predict(\n",
    "    best_gbc, train_set_prepared, train_labels, cv=10, method=\"decision_function\"\n",
    ")\n"
   ]
  },
  {
   "cell_type": "code",
   "execution_count": 170,
   "metadata": {},
   "outputs": [],
   "source": [
    "# The `roc_curve` method takes: probability estimates of the positive class, confidence values,\n",
    "# or non-thresholded measure of decisions (as returned by \"decision_function\") as we can\n",
    "# read in its documentation. \n",
    "# So here we take the probabilities of positive class -> forest_roc_probas[:, 1]\n",
    "# forest_roc_probas[:, 0] are probabilities for negative class.\n",
    "forest_roc_scores = forest_roc_probas[:, 1]\n"
   ]
  },
  {
   "cell_type": "code",
   "execution_count": 177,
   "metadata": {},
   "outputs": [
    {
     "data": {
      "image/png": "[encoded data removed]",
      "text/plain": [
       "<Figure size 504x504 with 1 Axes>"
      ]
     },
     "metadata": {},
     "output_type": "display_data"
    }
   ],
   "source": [
    "from sklearn.metrics import roc_curve\n",
    "\n",
    "forest_fpr, forest_tpr, forest_thresholds = roc_curve(train_labels, forest_roc_scores)\n",
    "svm_fpr, svm_tpr, svm_thresholds = roc_curve(train_labels, svm_roc_scores)\n",
    "gbc_fpr, gbc_tpr, gbc_thresholds = roc_curve(train_labels, gbc_roc_scores)\n",
    "\n",
    "plt.figure(figsize=(7, 7))\n",
    "plt.plot(forest_fpr, forest_tpr, linestyle=\"-.\", linewidth=2, label=\"RandomForest\")\n",
    "plt.plot(svm_fpr, svm_tpr, linestyle=\"--\", linewidth=2, label=\"SVM\")\n",
    "plt.plot(gbc_fpr, gbc_tpr, linestyle=\"solid\", linewidth=2, label=\"GradientBoosting\")\n",
    "plt.plot([0, 1], [0, 1], linestyle=\":\", linewidth=2, color=\"black\")\n",
    "plt.gca().set_aspect(1)\n",
    "plt.xlabel(\"False Positive Rate (Fall-Out)\")\n",
    "plt.ylabel(\"True Positive Rate (Recall)\")\n",
    "plt.legend(loc=\"lower right\")\n",
    "plt.axis([-0.01, 1.01, -0.01, 1.01])\n",
    "plt.show()\n"
   ]
  },
  {
   "cell_type": "code",
   "execution_count": 178,
   "metadata": {},
   "outputs": [
    {
     "data": {
      "text/html": [
       "<div>\n",
       "<style scoped>\n",
       "    .dataframe tbody tr th:only-of-type {\n",
       "        vertical-align: middle;\n",
       "    }\n",
       "\n",
       "    .dataframe tbody tr th {\n",
       "        vertical-align: top;\n",
       "    }\n",
       "\n",
       "    .dataframe thead th {\n",
       "        text-align: right;\n",
       "    }\n",
       "</style>\n",
       "<table border=\"1\" class=\"dataframe\">\n",
       "  <thead>\n",
       "    <tr style=\"text-align: right;\">\n",
       "      <th></th>\n",
       "      <th>RandomForest</th>\n",
       "      <th>SVM</th>\n",
       "      <th>GradientBoosting</th>\n",
       "    </tr>\n",
       "  </thead>\n",
       "  <tbody>\n",
       "    <tr>\n",
       "      <th>Precision</th>\n",
       "      <td>0.794353</td>\n",
       "      <td>0.786903</td>\n",
       "      <td>0.788067</td>\n",
       "    </tr>\n",
       "    <tr>\n",
       "      <th>Recall</th>\n",
       "      <td>0.816126</td>\n",
       "      <td>0.831658</td>\n",
       "      <td>0.841709</td>\n",
       "    </tr>\n",
       "    <tr>\n",
       "      <th>F1</th>\n",
       "      <td>0.805092</td>\n",
       "      <td>0.808662</td>\n",
       "      <td>0.814005</td>\n",
       "    </tr>\n",
       "    <tr>\n",
       "      <th>Accuracy</th>\n",
       "      <td>0.800989</td>\n",
       "      <td>0.801795</td>\n",
       "      <td>0.806281</td>\n",
       "    </tr>\n",
       "    <tr>\n",
       "      <th>Auc</th>\n",
       "      <td>0.882935</td>\n",
       "      <td>0.874485</td>\n",
       "      <td>0.888348</td>\n",
       "    </tr>\n",
       "  </tbody>\n",
       "</table>\n",
       "</div>"
      ],
      "text/plain": [
       "           RandomForest       SVM  GradientBoosting\n",
       "Precision      0.794353  0.786903          0.788067\n",
       "Recall         0.816126  0.831658          0.841709\n",
       "F1             0.805092  0.808662          0.814005\n",
       "Accuracy       0.800989  0.801795          0.806281\n",
       "Auc            0.882935  0.874485          0.888348"
      ]
     },
     "execution_count": 178,
     "metadata": {},
     "output_type": "execute_result"
    }
   ],
   "source": [
    "from sklearn.metrics import roc_auc_score\n",
    "\n",
    "forest_auc_score = roc_auc_score(train_labels, forest_roc_scores)\n",
    "svm_auc_score = roc_auc_score(train_labels, svm_roc_scores)\n",
    "gbc_auc_score = roc_auc_score(train_labels, gbc_roc_scores)\n",
    "\n",
    "auc_indicators = pd.DataFrame(\n",
    "    {\n",
    "        \"RandomForest\": forest_auc_score,\n",
    "        \"SVM\": svm_auc_score,\n",
    "        \"GradientBoosting\": gbc_auc_score,\n",
    "    },\n",
    "    index=[\"Auc\"],\n",
    ")\n",
    "\n",
    "indicators_df = pd.concat([indicators_df, auc_indicators])\n",
    "indicators_df\n"
   ]
  },
  {
   "cell_type": "code",
   "execution_count": 179,
   "metadata": {},
   "outputs": [
    {
     "data": {
      "image/png": "[encoded data removed]",
      "text/plain": [
       "<Figure size 576x360 with 1 Axes>"
      ]
     },
     "metadata": {},
     "output_type": "display_data"
    }
   ],
   "source": [
    "plt.figure(figsize=(8, 5))\n",
    "sns.scatterplot(data=indicators_df)\n",
    "plt.xlabel(\"Indicator\")\n",
    "plt.ylabel(\"Score\")\n",
    "plt.show()\n"
   ]
  },
  {
   "attachments": {},
   "cell_type": "markdown",
   "metadata": {},
   "source": [
    "<p style=\"font-family: verdana; font-weight: bold; font-size: 14px\">As we can see, the <code>GradientBoostingClassifier</code> should be the best. It won in 4/5 performances.</p>"
   ]
  },
  {
   "cell_type": "code",
   "execution_count": 180,
   "metadata": {},
   "outputs": [],
   "source": [
    "final_model = best_gbc\n"
   ]
  },
  {
   "attachments": {},
   "cell_type": "markdown",
   "metadata": {},
   "source": [
    "---"
   ]
  },
  {
   "attachments": {},
   "cell_type": "markdown",
   "metadata": {},
   "source": [
    "<a id=\"final-predictions\"></a>\n",
    "## <b><span style='padding:10px; background-color:#023047; font-family:fantasy; font-weight:normal; color:#f2f2f0; border-radius: 10px 10px;'> 3.4. FINAL PREDICTIONS </span></b>"
   ]
  },
  {
   "cell_type": "code",
   "execution_count": 210,
   "metadata": {},
   "outputs": [],
   "source": [
    "test_set_prepared = preprocessing.transform(test_set)\n",
    "results = final_model.predict(test_set_prepared)\n",
    "\n",
    "sumbission = pd.DataFrame(\n",
    "    {\"PassengerId\": test_set[\"PassengerId\"], \"Transported\": results}\n",
    ")\n",
    "sumbission.set_index(\"PassengerId\").to_csv(\"submission.csv\")\n"
   ]
  },
  {
   "attachments": {},
   "cell_type": "markdown",
   "metadata": {},
   "source": [
    "---"
   ]
  }
 ],
 "metadata": {
  "kernelspec": {
   "display_name": "Python 3",
   "language": "python",
   "name": "python3"
  },
  "language_info": {
   "codemirror_mode": {
    "name": "ipython",
    "version": 3
   },
   "file_extension": ".py",
   "mimetype": "text/x-python",
   "name": "python",
   "nbconvert_exporter": "python",
   "pygments_lexer": "ipython3",
   "version": "3.10.5"
  },
  "orig_nbformat": 4,
  "vscode": {
   "interpreter": {
    "hash": "43649d95374003884189df83e9e8a65c7ef239a82272d2bb0b2e5e5cfcbf86e6"
   }
  }
 },
 "nbformat": 4,
 "nbformat_minor": 2
}
